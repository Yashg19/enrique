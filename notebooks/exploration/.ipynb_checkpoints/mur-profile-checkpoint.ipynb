{
 "cells": [
  {
   "cell_type": "code",
   "execution_count": 1,
   "metadata": {
    "collapsed": false
   },
   "outputs": [
    {
     "name": "stderr",
     "output_type": "stream",
     "text": [
      "DEBUG:Cloud:Log file (/Users/pradap/.picloud/cloud.log) opened\n"
     ]
    }
   ],
   "source": [
    "import magellan as mg"
   ]
  },
  {
   "cell_type": "code",
   "execution_count": 2,
   "metadata": {
    "collapsed": true
   },
   "outputs": [],
   "source": [
    "A = mg.read_csv(mg.get_install_path()+'/datasets/DBLP_ACM/ACM_cleaned.csv')"
   ]
  },
  {
   "cell_type": "code",
   "execution_count": 3,
   "metadata": {
    "collapsed": true
   },
   "outputs": [],
   "source": [
    "B = mg.read_csv(mg.get_install_path()+'/datasets/DBLP_ACM/DBLP_cleaned.csv')"
   ]
  },
  {
   "cell_type": "code",
   "execution_count": 4,
   "metadata": {
    "collapsed": false
   },
   "outputs": [],
   "source": [
    "\n",
    "%load_ext line_profiler"
   ]
  },
  {
   "cell_type": "code",
   "execution_count": 17,
   "metadata": {
    "collapsed": true
   },
   "outputs": [],
   "source": [
    "A1 = A.ix[0:1000]\n",
    "B1 = B.ix[0:1000]"
   ]
  },
  {
   "cell_type": "code",
   "execution_count": 11,
   "metadata": {
    "collapsed": true
   },
   "outputs": [],
   "source": [
    "import Levenshtein \n",
    "def lev(s1, s2):\n",
    "    if s1 is None or s2 is None:\n",
    "        return np.NaN\n",
    "    if pd.isnull(s1) or pd.isnull(s2):\n",
    "        return np.NaN\n",
    "    s1 = str(s1)\n",
    "    s2 = str(s2)\n",
    "    l1 = float(len(s1))\n",
    "    l2 = float(len(s2))\n",
    "    return 1.0 - Levenshtein.distance(s1, s2)/(max(l1, l2))"
   ]
  },
  {
   "cell_type": "code",
   "execution_count": 8,
   "metadata": {
    "collapsed": true
   },
   "outputs": [],
   "source": [
    "def my_bb(l, r):\n",
    "    t1 = l['title']\n",
    "    t2 = r['title']\n",
    "    res = lev(t1, t2)\n",
    "    if res < 0.6:\n",
    "        return False\n",
    "    else:\n",
    "        return True\n",
    "\n",
    "def fn1(A, B):\n",
    "    x = []\n",
    "    for i, l in A.iterrows():\n",
    "        for j, r in B.iterrows():\n",
    "            if my_bb(l, r) == True:\n",
    "                x.append([i, j])\n",
    "    return x\n",
    "\n",
    "from collections import OrderedDict\n",
    "def fn2(A, B):\n",
    "    dA = OrderedDict()\n",
    "    dB = OrderedDict()\n",
    "    for i, l in A.iterrows():\n",
    "        dA[i] = l\n",
    "    for i, l in B.iterrows():\n",
    "        dB[i] = l\n",
    "    x = []\n",
    "    for i in dA.keys():\n",
    "        for j in dB.keys():\n",
    "            a = dA[i]\n",
    "            b = dB[j]\n",
    "            if my_bb(a, b) == True:\n",
    "                x.append([i, j])\n",
    "    return x"
   ]
  },
  {
   "cell_type": "code",
   "execution_count": 25,
   "metadata": {
    "collapsed": false
   },
   "outputs": [],
   "source": [
    "import pandas as pd\n",
    "def fn3(A, B):\n",
    "    dA = OrderedDict()\n",
    "    dB = OrderedDict()\n",
    "    h = A.columns\n",
    "    i = 0\n",
    "    for l in A.itertuples(index=False):\n",
    "        dA[i] = OrderedDict(zip(h, l))\n",
    "        i += 1\n",
    "\n",
    "    h = B.columns\n",
    "    i = 0\n",
    "    for l in B.itertuples(index=False):\n",
    "        dB[i] = OrderedDict(zip(h, l))\n",
    "        i += 1\n",
    "    x = []\n",
    "    for i in dA.keys():\n",
    "        for j in dB.keys():\n",
    "            a = dA[i]\n",
    "            b = dB[j]\n",
    "            s1 = a['title']\n",
    "            s2 = b['title']\n",
    "            if s1 is None or s2 is None:\n",
    "                return np.NaN\n",
    "            if pd.isnull(s1) or pd.isnull(s2):\n",
    "                return np.NaN\n",
    "            s1 = str(s1)\n",
    "            s2 = str(s2)\n",
    "            l1 = float(len(s1))\n",
    "            l2 = float(len(s2))\n",
    "            res =  1.0 - Levenshtein.distance(s1, s2)/(max(l1, l2))\n",
    "            if res >=  0.6:\n",
    "                x.append([i, j])\n",
    "            \n"
   ]
  },
  {
   "cell_type": "code",
   "execution_count": 36,
   "metadata": {
    "collapsed": false
   },
   "outputs": [
    {
     "name": "stdout",
     "output_type": "stream",
     "text": [
      "time: 2.41 ms\n"
     ]
    }
   ],
   "source": [
    "import cython"
   ]
  },
  {
   "cell_type": "code",
   "execution_count": 39,
   "metadata": {
    "collapsed": false
   },
   "outputs": [
    {
     "name": "stdout",
     "output_type": "stream",
     "text": [
      "time: 282 ms\n"
     ]
    }
   ],
   "source": [
    "%load_ext cython"
   ]
  },
  {
   "cell_type": "code",
   "execution_count": 41,
   "metadata": {
    "collapsed": false
   },
   "outputs": [
    {
     "name": "stdout",
     "output_type": "stream",
     "text": [
      "time: 4.41 ms\n"
     ]
    }
   ],
   "source": []
  },
  {
   "cell_type": "code",
   "execution_count": 53,
   "metadata": {
    "collapsed": false
   },
   "outputs": [
    {
     "name": "stdout",
     "output_type": "stream",
     "text": [
      "time: 1.76 ms\n"
     ]
    }
   ],
   "source": [
    "%%cython\n",
    "import Levenshtein \n",
    "import pandas as pd\n",
    "import numpy as np\n",
    "from collections import OrderedDict\n",
    "def lev(s1, s2):\n",
    "    if s1 is None or s2 is None:\n",
    "        return np.NaN\n",
    "    if pd.isnull(s1) or pd.isnull(s2):\n",
    "        return np.NaN\n",
    "    s1 = str(s1)\n",
    "    s2 = str(s2)\n",
    "    l1 = float(len(s1))\n",
    "    l2 = float(len(s2))\n",
    "    return 1.0 - Levenshtein.distance(s1, s2)/(max(l1, l2))\n",
    "\n",
    "def my_bb1( l,  r):\n",
    "    t1 = l['title']\n",
    "    t2 = r['title']\n",
    "    res = lev(t1, t2)\n",
    "    if res < 0.6:\n",
    "        return False\n",
    "    else:\n",
    "        return True"
   ]
  },
  {
   "cell_type": "code",
   "execution_count": 54,
   "metadata": {
    "collapsed": false
   },
   "outputs": [
    {
     "name": "stdout",
     "output_type": "stream",
     "text": [
      "time: 10.3 ms\n"
     ]
    }
   ],
   "source": [
    "\n",
    "def fn4(A, B):\n",
    "    dA = OrderedDict()\n",
    "    dB = OrderedDict()\n",
    "    h = A.columns\n",
    "    i = 0\n",
    "    for l in A.itertuples(index=False):\n",
    "        dA[i] = dict(zip(h, l))\n",
    "        i += 1\n",
    "\n",
    "    h = B.columns\n",
    "    i = 0\n",
    "    for l in B.itertuples(index=False):\n",
    "        dB[i] = dict(zip(h, l))\n",
    "        i += 1\n",
    "    x = []\n",
    "    for i in dA.keys():\n",
    "        for j in dB.keys():\n",
    "            res = my_bb1(dA[i], dB[j])\n",
    "            if res == True:\n",
    "                x.append([i, j])\n",
    "            \n",
    "    \n",
    "    "
   ]
  },
  {
   "cell_type": "code",
   "execution_count": 16,
   "metadata": {
    "collapsed": false
   },
   "outputs": [],
   "source": [
    "%lprun -f test_profile.fn1 test_profile.fn1(A1, B1)"
   ]
  },
  {
   "cell_type": "code",
   "execution_count": 26,
   "metadata": {
    "collapsed": false
   },
   "outputs": [],
   "source": [
    "%lprun -f fn3 fn3(A1, B1)"
   ]
  },
  {
   "cell_type": "code",
   "execution_count": 49,
   "metadata": {
    "collapsed": false
   },
   "outputs": [
    {
     "name": "stdout",
     "output_type": "stream",
     "text": [
      "The autotime extension is already loaded. To reload it, use:\n",
      "  %reload_ext autotime\n",
      "time: 1.37 ms\n"
     ]
    }
   ],
   "source": [
    "%load_ext autotime"
   ]
  },
  {
   "cell_type": "code",
   "execution_count": 55,
   "metadata": {
    "collapsed": false
   },
   "outputs": [
    {
     "name": "stdout",
     "output_type": "stream",
     "text": [
      "time: 15.2 s\n"
     ]
    }
   ],
   "source": [
    "%lprun -f fn4 fn4(A1, B1)"
   ]
  },
  {
   "cell_type": "code",
   "execution_count": 30,
   "metadata": {
    "collapsed": false
   },
   "outputs": [
    {
     "name": "stdout",
     "output_type": "stream",
     "text": [
      "time: 11.1 s\n"
     ]
    }
   ],
   "source": [
    "fn3(A1, B1)"
   ]
  },
  {
   "cell_type": "code",
   "execution_count": 32,
   "metadata": {
    "collapsed": false
   },
   "outputs": [
    {
     "name": "stdout",
     "output_type": "stream",
     "text": [
      "time: 21.1 s\n"
     ]
    }
   ],
   "source": [
    "x = fn2(A1, B1)"
   ]
  }
 ],
 "metadata": {
  "kernelspec": {
   "display_name": "Python 2",
   "language": "python",
   "name": "python2"
  },
  "language_info": {
   "codemirror_mode": {
    "name": "ipython",
    "version": 2
   },
   "file_extension": ".py",
   "mimetype": "text/x-python",
   "name": "python",
   "nbconvert_exporter": "python",
   "pygments_lexer": "ipython2",
   "version": "2.7.10"
  }
 },
 "nbformat": 4,
 "nbformat_minor": 0
}
