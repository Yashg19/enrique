{
 "cells": [
  {
   "cell_type": "code",
   "execution_count": 1,
   "metadata": {
    "collapsed": false
   },
   "outputs": [],
   "source": [
    "%load_ext autotime"
   ]
  },
  {
   "cell_type": "code",
   "execution_count": 2,
   "metadata": {
    "collapsed": false
   },
   "outputs": [
    {
     "name": "stdout",
     "output_type": "stream",
     "text": [
      "time: 766 µs\n"
     ]
    }
   ],
   "source": [
    "import sys\n",
    "sys.path.append('/scratch/pradap/python-work/enrique/')"
   ]
  },
  {
   "cell_type": "code",
   "execution_count": 3,
   "metadata": {
    "collapsed": false
   },
   "outputs": [
    {
     "name": "stdout",
     "output_type": "stream",
     "text": [
      "time: 503 ms\n"
     ]
    }
   ],
   "source": [
    "import magellan as mg\n",
    "import pandas as pd"
   ]
  },
  {
   "cell_type": "code",
   "execution_count": 4,
   "metadata": {
    "collapsed": false
   },
   "outputs": [
    {
     "name": "stdout",
     "output_type": "stream",
     "text": [
      "time: 995 ms\n"
     ]
    },
    {
     "name": "stderr",
     "output_type": "stream",
     "text": [
      "/scratch/pradap/local/share/anaconda/lib/python2.7/site-packages/pandas/io/parsers.py:1170: DtypeWarning: Columns (12) have mixed types. Specify dtype option on import or set low_memory=False.\n",
      "  data = self._reader.read(nrows)\n"
     ]
    }
   ],
   "source": [
    "wal = mg.read_csv('../magellan/datasets/books/walmart.csv', dtype={'isbn':pd.np.str}, key='id')"
   ]
  },
  {
   "cell_type": "code",
   "execution_count": 5,
   "metadata": {
    "collapsed": false
   },
   "outputs": [
    {
     "data": {
      "text/plain": [
       "'id'"
      ]
     },
     "execution_count": 5,
     "metadata": {},
     "output_type": "execute_result"
    },
    {
     "name": "stdout",
     "output_type": "stream",
     "text": [
      "time: 5.91 ms\n"
     ]
    }
   ],
   "source": [
    "wal.get_key()"
   ]
  },
  {
   "cell_type": "code",
   "execution_count": 6,
   "metadata": {
    "collapsed": false
   },
   "outputs": [
    {
     "data": {
      "text/html": [
       "<div>\n",
       "<table border=\"1\" class=\"dataframe\">\n",
       "  <thead>\n",
       "    <tr style=\"text-align: right;\">\n",
       "      <th></th>\n",
       "      <th>id</th>\n",
       "      <th>title</th>\n",
       "      <th>author</th>\n",
       "      <th>numAuthors</th>\n",
       "      <th>binding</th>\n",
       "      <th>publisher</th>\n",
       "      <th>isbn</th>\n",
       "      <th>pubYear</th>\n",
       "      <th>pubMonth</th>\n",
       "      <th>pubDay</th>\n",
       "      <th>...</th>\n",
       "      <th>volume</th>\n",
       "      <th>lang</th>\n",
       "      <th>editionDescr</th>\n",
       "      <th>category</th>\n",
       "      <th>upc11</th>\n",
       "      <th>upc12</th>\n",
       "      <th>upc13</th>\n",
       "      <th>upc14</th>\n",
       "      <th>description</th>\n",
       "      <th>url</th>\n",
       "    </tr>\n",
       "  </thead>\n",
       "  <tbody>\n",
       "    <tr>\n",
       "      <th>0</th>\n",
       "      <td>3659425</td>\n",
       "      <td>Time of the Wild</td>\n",
       "      <td>Curtiss, A. B.</td>\n",
       "      <td>1</td>\n",
       "      <td>Hardcover</td>\n",
       "      <td>Oldcastle Publishing</td>\n",
       "      <td>9780932529558</td>\n",
       "      <td>2005</td>\n",
       "      <td>2</td>\n",
       "      <td>1</td>\n",
       "      <td>...</td>\n",
       "      <td>NaN</td>\n",
       "      <td>ENG</td>\n",
       "      <td>NaN</td>\n",
       "      <td>Books/ARCHIVE/Children's Books/General Fiction...</td>\n",
       "      <td>97809325295 78093252955</td>\n",
       "      <td>780932529558 978093252955</td>\n",
       "      <td>0780932529558 0978093252955</td>\n",
       "      <td>00780932529558 00978093252955</td>\n",
       "      <td>Praised by the Boston Globe as practically a h...</td>\n",
       "      <td>N</td>\n",
       "    </tr>\n",
       "    <tr>\n",
       "      <th>1</th>\n",
       "      <td>3659464</td>\n",
       "      <td>Software Engineering Quality Practices</td>\n",
       "      <td>Kandt, Ronald Kirk</td>\n",
       "      <td>1</td>\n",
       "      <td>Hardcover</td>\n",
       "      <td>Auerbach Publications</td>\n",
       "      <td>9780849346330</td>\n",
       "      <td>2005</td>\n",
       "      <td>11</td>\n",
       "      <td>1</td>\n",
       "      <td>...</td>\n",
       "      <td>NaN</td>\n",
       "      <td>ENG</td>\n",
       "      <td>NaN</td>\n",
       "      <td>Books/ARCHIVE/Books Misc  Books</td>\n",
       "      <td>97808493463 78084934633</td>\n",
       "      <td>780849346330 978084934633</td>\n",
       "      <td>0978084934633 0780849346330</td>\n",
       "      <td>00780849346330 00978084934633</td>\n",
       "      <td>NaN</td>\n",
       "      <td>N</td>\n",
       "    </tr>\n",
       "  </tbody>\n",
       "</table>\n",
       "<p>2 rows × 22 columns</p>\n",
       "</div>"
      ],
      "text/plain": [
       "        id                                   title              author  \\\n",
       "0  3659425                        Time of the Wild      Curtiss, A. B.   \n",
       "1  3659464  Software Engineering Quality Practices  Kandt, Ronald Kirk   \n",
       "\n",
       "   numAuthors    binding              publisher           isbn  pubYear  \\\n",
       "0           1  Hardcover   Oldcastle Publishing  9780932529558     2005   \n",
       "1           1  Hardcover  Auerbach Publications  9780849346330     2005   \n",
       "\n",
       "   pubMonth  pubDay ... volume  lang editionDescr  \\\n",
       "0         2       1 ...    NaN   ENG          NaN   \n",
       "1        11       1 ...    NaN   ENG          NaN   \n",
       "\n",
       "                                            category                    upc11  \\\n",
       "0  Books/ARCHIVE/Children's Books/General Fiction...  97809325295 78093252955   \n",
       "1                    Books/ARCHIVE/Books Misc  Books  97808493463 78084934633   \n",
       "\n",
       "                       upc12                        upc13  \\\n",
       "0  780932529558 978093252955  0780932529558 0978093252955   \n",
       "1  780849346330 978084934633  0978084934633 0780849346330   \n",
       "\n",
       "                           upc14  \\\n",
       "0  00780932529558 00978093252955   \n",
       "1  00780849346330 00978084934633   \n",
       "\n",
       "                                         description url  \n",
       "0  Praised by the Boston Globe as practically a h...   N  \n",
       "1                                                NaN   N  \n",
       "\n",
       "[2 rows x 22 columns]"
      ]
     },
     "execution_count": 6,
     "metadata": {},
     "output_type": "execute_result"
    },
    {
     "name": "stdout",
     "output_type": "stream",
     "text": [
      "time: 26.7 ms\n"
     ]
    }
   ],
   "source": [
    "wal.head(2)"
   ]
  },
  {
   "cell_type": "code",
   "execution_count": 7,
   "metadata": {
    "collapsed": false
   },
   "outputs": [
    {
     "name": "stdout",
     "output_type": "stream",
     "text": [
      "time: 50 ms\n"
     ]
    }
   ],
   "source": [
    "bow = mg.read_csv('../magellan/datasets/books/bowker.csv', dtype={'isbn':pd.np.str}, key='id')"
   ]
  },
  {
   "cell_type": "code",
   "execution_count": 9,
   "metadata": {
    "collapsed": false
   },
   "outputs": [
    {
     "data": {
      "text/plain": [
       "['id',\n",
       " 'title',\n",
       " 'author',\n",
       " 'numAuthors',\n",
       " 'binding',\n",
       " 'publisher',\n",
       " 'isbn',\n",
       " 'pubYear',\n",
       " 'pubMonth',\n",
       " 'pubDay',\n",
       " 'editionNum',\n",
       " 'pages',\n",
       " 'volume',\n",
       " 'lang',\n",
       " 'editionDescr',\n",
       " 'series',\n",
       " 'upc']"
      ]
     },
     "execution_count": 9,
     "metadata": {},
     "output_type": "execute_result"
    },
    {
     "name": "stdout",
     "output_type": "stream",
     "text": [
      "time: 1.78 ms\n"
     ]
    }
   ],
   "source": []
  }
 ],
 "metadata": {
  "kernelspec": {
   "display_name": "Python 2",
   "language": "python",
   "name": "python2"
  },
  "language_info": {
   "codemirror_mode": {
    "name": "ipython",
    "version": 2
   },
   "file_extension": ".py",
   "mimetype": "text/x-python",
   "name": "python",
   "nbconvert_exporter": "python",
   "pygments_lexer": "ipython2",
   "version": "2.7.10"
  }
 },
 "nbformat": 4,
 "nbformat_minor": 0
}
