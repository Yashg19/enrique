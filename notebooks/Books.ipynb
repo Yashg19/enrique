{
 "cells": [
  {
   "cell_type": "code",
   "execution_count": 1,
   "metadata": {
    "collapsed": false
   },
   "outputs": [],
   "source": [
    "%load_ext autotime"
   ]
  },
  {
   "cell_type": "code",
   "execution_count": 5,
   "metadata": {
    "collapsed": false
   },
   "outputs": [
    {
     "name": "stdout",
     "output_type": "stream",
     "text": [
      "time: 2 ms\n"
     ]
    }
   ],
   "source": [
    "import sys\n",
    "sys.path.append(\"c:/Pradap/Research/Python-Packages/enrique/\")"
   ]
  },
  {
   "cell_type": "code",
   "execution_count": 6,
   "metadata": {
    "collapsed": false
   },
   "outputs": [
    {
     "name": "stdout",
     "output_type": "stream",
     "text": [
      "time: 1.45 s\n"
     ]
    }
   ],
   "source": [
    "import magellan as mg\n",
    "import pandas as pd"
   ]
  },
  {
   "cell_type": "code",
   "execution_count": 7,
   "metadata": {
    "collapsed": false
   },
   "outputs": [
    {
     "name": "stdout",
     "output_type": "stream",
     "text": [
      "time: 1.86 s\n"
     ]
    },
    {
     "name": "stderr",
     "output_type": "stream",
     "text": [
      "C:\\Users\\priya\\Anaconda\\lib\\site-packages\\pandas\\io\\parsers.py:1170: DtypeWarning: Columns (12) have mixed types. Specify dtype option on import or set low_memory=False.\n",
      "  data = self._reader.read(nrows)\n"
     ]
    }
   ],
   "source": [
    "wal = mg.read_csv('../magellan/datasets/books/walmart.csv', dtype={'isbn':pd.np.str}, key='id')"
   ]
  },
  {
   "cell_type": "code",
   "execution_count": 8,
   "metadata": {
    "collapsed": false
   },
   "outputs": [
    {
     "data": {
      "text/plain": [
       "'id'"
      ]
     },
     "execution_count": 8,
     "metadata": {},
     "output_type": "execute_result"
    },
    {
     "name": "stdout",
     "output_type": "stream",
     "text": [
      "time: 8 ms\n"
     ]
    }
   ],
   "source": [
    "wal.get_key()"
   ]
  },
  {
   "cell_type": "code",
   "execution_count": 9,
   "metadata": {
    "collapsed": false
   },
   "outputs": [
    {
     "data": {
      "text/html": [
       "<div>\n",
       "<table border=\"1\" class=\"dataframe\">\n",
       "  <thead>\n",
       "    <tr style=\"text-align: right;\">\n",
       "      <th></th>\n",
       "      <th>id</th>\n",
       "      <th>title</th>\n",
       "      <th>author</th>\n",
       "      <th>numAuthors</th>\n",
       "      <th>binding</th>\n",
       "      <th>publisher</th>\n",
       "      <th>isbn</th>\n",
       "      <th>pubYear</th>\n",
       "      <th>pubMonth</th>\n",
       "      <th>pubDay</th>\n",
       "      <th>...</th>\n",
       "      <th>volume</th>\n",
       "      <th>lang</th>\n",
       "      <th>editionDescr</th>\n",
       "      <th>category</th>\n",
       "      <th>upc11</th>\n",
       "      <th>upc12</th>\n",
       "      <th>upc13</th>\n",
       "      <th>upc14</th>\n",
       "      <th>description</th>\n",
       "      <th>url</th>\n",
       "    </tr>\n",
       "  </thead>\n",
       "  <tbody>\n",
       "    <tr>\n",
       "      <th>0</th>\n",
       "      <td>3659425</td>\n",
       "      <td>Time of the Wild</td>\n",
       "      <td>Curtiss, A. B.</td>\n",
       "      <td>1</td>\n",
       "      <td>Hardcover</td>\n",
       "      <td>Oldcastle Publishing</td>\n",
       "      <td>9780932529558</td>\n",
       "      <td>2005</td>\n",
       "      <td>2</td>\n",
       "      <td>1</td>\n",
       "      <td>...</td>\n",
       "      <td>NaN</td>\n",
       "      <td>ENG</td>\n",
       "      <td>NaN</td>\n",
       "      <td>Books/ARCHIVE/Children's Books/General Fiction...</td>\n",
       "      <td>97809325295 78093252955</td>\n",
       "      <td>780932529558 978093252955</td>\n",
       "      <td>0780932529558 0978093252955</td>\n",
       "      <td>00780932529558 00978093252955</td>\n",
       "      <td>Praised by the Boston Globe as practically a h...</td>\n",
       "      <td>N</td>\n",
       "    </tr>\n",
       "    <tr>\n",
       "      <th>1</th>\n",
       "      <td>3659464</td>\n",
       "      <td>Software Engineering Quality Practices</td>\n",
       "      <td>Kandt, Ronald Kirk</td>\n",
       "      <td>1</td>\n",
       "      <td>Hardcover</td>\n",
       "      <td>Auerbach Publications</td>\n",
       "      <td>9780849346330</td>\n",
       "      <td>2005</td>\n",
       "      <td>11</td>\n",
       "      <td>1</td>\n",
       "      <td>...</td>\n",
       "      <td>NaN</td>\n",
       "      <td>ENG</td>\n",
       "      <td>NaN</td>\n",
       "      <td>Books/ARCHIVE/Books Misc  Books</td>\n",
       "      <td>97808493463 78084934633</td>\n",
       "      <td>780849346330 978084934633</td>\n",
       "      <td>0978084934633 0780849346330</td>\n",
       "      <td>00780849346330 00978084934633</td>\n",
       "      <td>NaN</td>\n",
       "      <td>N</td>\n",
       "    </tr>\n",
       "  </tbody>\n",
       "</table>\n",
       "<p>2 rows × 22 columns</p>\n",
       "</div>"
      ],
      "text/plain": [
       "        id                                   title              author  \\\n",
       "0  3659425                        Time of the Wild      Curtiss, A. B.   \n",
       "1  3659464  Software Engineering Quality Practices  Kandt, Ronald Kirk   \n",
       "\n",
       "   numAuthors    binding              publisher           isbn  pubYear  \\\n",
       "0           1  Hardcover   Oldcastle Publishing  9780932529558     2005   \n",
       "1           1  Hardcover  Auerbach Publications  9780849346330     2005   \n",
       "\n",
       "   pubMonth  pubDay ... volume  lang editionDescr  \\\n",
       "0         2       1 ...    NaN   ENG          NaN   \n",
       "1        11       1 ...    NaN   ENG          NaN   \n",
       "\n",
       "                                            category                    upc11  \\\n",
       "0  Books/ARCHIVE/Children's Books/General Fiction...  97809325295 78093252955   \n",
       "1                    Books/ARCHIVE/Books Misc  Books  97808493463 78084934633   \n",
       "\n",
       "                       upc12                        upc13  \\\n",
       "0  780932529558 978093252955  0780932529558 0978093252955   \n",
       "1  780849346330 978084934633  0978084934633 0780849346330   \n",
       "\n",
       "                           upc14  \\\n",
       "0  00780932529558 00978093252955   \n",
       "1  00780849346330 00978084934633   \n",
       "\n",
       "                                         description url  \n",
       "0  Praised by the Boston Globe as practically a h...   N  \n",
       "1                                                NaN   N  \n",
       "\n",
       "[2 rows x 22 columns]"
      ]
     },
     "execution_count": 9,
     "metadata": {},
     "output_type": "execute_result"
    },
    {
     "name": "stdout",
     "output_type": "stream",
     "text": [
      "time: 53 ms\n"
     ]
    }
   ],
   "source": [
    "wal.head(2)"
   ]
  },
  {
   "cell_type": "code",
   "execution_count": 10,
   "metadata": {
    "collapsed": false
   },
   "outputs": [
    {
     "name": "stdout",
     "output_type": "stream",
     "text": [
      "time: 115 ms\n"
     ]
    }
   ],
   "source": [
    "bow = mg.read_csv('../magellan/datasets/books/bowker.csv', dtype={'isbn':pd.np.str}, key='id')"
   ]
  },
  {
   "cell_type": "code",
   "execution_count": 11,
   "metadata": {
    "collapsed": false
   },
   "outputs": [
    {
     "data": {
      "text/html": [
       "<div>\n",
       "<table border=\"1\" class=\"dataframe\">\n",
       "  <thead>\n",
       "    <tr style=\"text-align: right;\">\n",
       "      <th></th>\n",
       "      <th>id</th>\n",
       "      <th>title</th>\n",
       "      <th>author</th>\n",
       "      <th>numAuthors</th>\n",
       "      <th>binding</th>\n",
       "      <th>publisher</th>\n",
       "      <th>isbn</th>\n",
       "      <th>pubYear</th>\n",
       "      <th>pubMonth</th>\n",
       "      <th>pubDay</th>\n",
       "      <th>editionNum</th>\n",
       "      <th>pages</th>\n",
       "      <th>volume</th>\n",
       "      <th>lang</th>\n",
       "      <th>editionDescr</th>\n",
       "      <th>series</th>\n",
       "      <th>upc</th>\n",
       "    </tr>\n",
       "  </thead>\n",
       "  <tbody>\n",
       "    <tr>\n",
       "      <th>0</th>\n",
       "      <td>9780000000644</td>\n",
       "      <td>Instructor's Manual: Im Mod. Princ. Athlet. Train</td>\n",
       "      <td>Arnheim, D.D.</td>\n",
       "      <td>1</td>\n",
       "      <td>Paperback</td>\n",
       "      <td>CABI</td>\n",
       "      <td>9780000000644</td>\n",
       "      <td>1970</td>\n",
       "      <td>1</td>\n",
       "      <td>1</td>\n",
       "      <td>NaN</td>\n",
       "      <td>28</td>\n",
       "      <td>NaN</td>\n",
       "      <td>ENG</td>\n",
       "      <td>NaN</td>\n",
       "      <td>Mycological Paper Ser.</td>\n",
       "      <td>NaN</td>\n",
       "    </tr>\n",
       "    <tr>\n",
       "      <th>1</th>\n",
       "      <td>9780000000910</td>\n",
       "      <td>Corn of America : Maize</td>\n",
       "      <td>Ten Speed Press Staff</td>\n",
       "      <td>1</td>\n",
       "      <td>Paperback</td>\n",
       "      <td>CABI</td>\n",
       "      <td>9780000000910</td>\n",
       "      <td>1971</td>\n",
       "      <td>1</td>\n",
       "      <td>1</td>\n",
       "      <td>NaN</td>\n",
       "      <td>56</td>\n",
       "      <td>NaN</td>\n",
       "      <td>ENG</td>\n",
       "      <td>NaN</td>\n",
       "      <td>Phytopathological Paper Ser.</td>\n",
       "      <td>NaN</td>\n",
       "    </tr>\n",
       "    <tr>\n",
       "      <th>2</th>\n",
       "      <td>9780000773920</td>\n",
       "      <td>Cywiro</td>\n",
       "      <td>Cymru, Meu</td>\n",
       "      <td>1</td>\n",
       "      <td>CD/Spoken Word</td>\n",
       "      <td>Zondervan</td>\n",
       "      <td>9780000773920</td>\n",
       "      <td>2005</td>\n",
       "      <td>1</td>\n",
       "      <td>NaN</td>\n",
       "      <td>NaN</td>\n",
       "      <td>NaN</td>\n",
       "      <td>NaN</td>\n",
       "      <td>ENG</td>\n",
       "      <td>NaN</td>\n",
       "      <td>NaN</td>\n",
       "      <td>NaN</td>\n",
       "    </tr>\n",
       "    <tr>\n",
       "      <th>3</th>\n",
       "      <td>9780001046832</td>\n",
       "      <td>Far from the Madding Crowd</td>\n",
       "      <td>NaN</td>\n",
       "      <td>0</td>\n",
       "      <td>Audio Cassette</td>\n",
       "      <td>HarperCollins Publishers Limited</td>\n",
       "      <td>9780001046832</td>\n",
       "      <td>2000</td>\n",
       "      <td>3</td>\n",
       "      <td>NaN</td>\n",
       "      <td>NaN</td>\n",
       "      <td>NaN</td>\n",
       "      <td>NaN</td>\n",
       "      <td>ENG</td>\n",
       "      <td>Abridged</td>\n",
       "      <td>HarperCollinsAudioBooks Ser.</td>\n",
       "      <td>NaN</td>\n",
       "    </tr>\n",
       "    <tr>\n",
       "      <th>4</th>\n",
       "      <td>9780001055391</td>\n",
       "      <td>Point of Origin</td>\n",
       "      <td>Cornwell, Patricia</td>\n",
       "      <td>1</td>\n",
       "      <td>Audio Cassette</td>\n",
       "      <td>Ulverscroft Audio (U.S.A.)</td>\n",
       "      <td>9780001055391</td>\n",
       "      <td>1998</td>\n",
       "      <td>0</td>\n",
       "      <td>NaN</td>\n",
       "      <td>NaN</td>\n",
       "      <td>NaN</td>\n",
       "      <td>NaN</td>\n",
       "      <td>ENG</td>\n",
       "      <td>NaN</td>\n",
       "      <td>Kay Scarpetta Ser.</td>\n",
       "      <td>NaN</td>\n",
       "    </tr>\n",
       "  </tbody>\n",
       "</table>\n",
       "</div>"
      ],
      "text/plain": [
       "              id                                              title  \\\n",
       "0  9780000000644  Instructor's Manual: Im Mod. Princ. Athlet. Train   \n",
       "1  9780000000910                            Corn of America : Maize   \n",
       "2  9780000773920                                             Cywiro   \n",
       "3  9780001046832                         Far from the Madding Crowd   \n",
       "4  9780001055391                                    Point of Origin   \n",
       "\n",
       "                  author  numAuthors         binding  \\\n",
       "0          Arnheim, D.D.           1       Paperback   \n",
       "1  Ten Speed Press Staff           1       Paperback   \n",
       "2             Cymru, Meu           1  CD/Spoken Word   \n",
       "3                    NaN           0  Audio Cassette   \n",
       "4     Cornwell, Patricia           1  Audio Cassette   \n",
       "\n",
       "                          publisher           isbn  pubYear  pubMonth  pubDay  \\\n",
       "0                              CABI  9780000000644     1970         1       1   \n",
       "1                              CABI  9780000000910     1971         1       1   \n",
       "2                         Zondervan  9780000773920     2005         1     NaN   \n",
       "3  HarperCollins Publishers Limited  9780001046832     2000         3     NaN   \n",
       "4        Ulverscroft Audio (U.S.A.)  9780001055391     1998         0     NaN   \n",
       "\n",
       "   editionNum pages  volume lang editionDescr                        series  \\\n",
       "0         NaN    28     NaN  ENG          NaN        Mycological Paper Ser.   \n",
       "1         NaN    56     NaN  ENG          NaN  Phytopathological Paper Ser.   \n",
       "2         NaN   NaN     NaN  ENG          NaN                           NaN   \n",
       "3         NaN   NaN     NaN  ENG     Abridged  HarperCollinsAudioBooks Ser.   \n",
       "4         NaN   NaN     NaN  ENG          NaN            Kay Scarpetta Ser.   \n",
       "\n",
       "   upc  \n",
       "0  NaN  \n",
       "1  NaN  \n",
       "2  NaN  \n",
       "3  NaN  \n",
       "4  NaN  "
      ]
     },
     "execution_count": 11,
     "metadata": {},
     "output_type": "execute_result"
    },
    {
     "name": "stdout",
     "output_type": "stream",
     "text": [
      "time: 50 ms\n"
     ]
    }
   ],
   "source": [
    "bow.head(5)"
   ]
  }
 ],
 "metadata": {
  "kernelspec": {
   "display_name": "Python 2",
   "language": "python",
   "name": "python2"
  },
  "language_info": {
   "codemirror_mode": {
    "name": "ipython",
    "version": 2
   },
   "file_extension": ".py",
   "mimetype": "text/x-python",
   "name": "python",
   "nbconvert_exporter": "python",
   "pygments_lexer": "ipython2",
   "version": "2.7.9"
  }
 },
 "nbformat": 4,
 "nbformat_minor": 0
}
