{
 "cells": [
  {
   "cell_type": "markdown",
   "metadata": {},
   "source": [
    "## Installation and setup: \n",
    "Installing Magellan requires pandas, numpy, scikit learn,  and jpype to be installed (as Magellan depends on them). \n",
    "If the dependencies were not already installed, installing them can be difficult for lay users. In such cases, the simplest and recommended way is to install Anaconda first. "
   ]
  },
  {
   "cell_type": "markdown",
   "metadata": {},
   "source": [
    "Anaconda is a cross-platform (Linux, Mac OS X, Windows) Python distribution for data analytics and scientific computing. It bundles a lot of packages required for data analytics and frees the user from the burden of manually installing them. Currently Magellan supports python 2.7 (NOTE: support for python 3.4 will be added shortly). There are two steps involved in installing Magellan.Step 1 can be skipped if the packages pandas, numpy, jpype are already installed. \n",
    "\n",
    "Step 1: Install Anaconda \n",
    "\n",
    "• Download Anaconda installer for python 2.7 from http://continuum.io/downloads \n",
    "\n",
    "• Follow instructions at http://docs.continuumio/anaconda/install#linux-install for your operating system to install Anaconda "
   ]
  },
  {
   "cell_type": "markdown",
   "metadata": {},
   "source": [
    "Step 2: Install Magellan \n",
    "\n",
    "• Download Magellan package from http://pages.cs.wisc.edu/~pradap/magellan/Magellan-0.1.tar.gz. Lets say that the package is downloaded at ’/scratch/pradap’ \n",
    "\n",
    "• Unzip the package. Once unzipped, the top level directory should be ’Magellan-0.1’ \n",
    "\n",
    "• Change current directory to ’Magellan-0.1’. For instance, in linux the command will be ’cd /scratch/pradap/Magellan- 0.1’ \n",
    "\n",
    "• Execute the following command  from command prompt : \n",
    "\n",
    "    python setup.py install\n",
    " \n",
    " Note : If anaconda is installed, use python installed in anaconda installation path\n",
    " "
   ]
  },
  {
   "cell_type": "markdown",
   "metadata": {},
   "source": [
    "The above command will install Magellan, once installed magellan can be imported into python workspace using the following command \n",
    "     >>> import magellan as mg"
   ]
  },
  {
   "cell_type": "markdown",
   "metadata": {},
   "source": []
  }
 ],
 "metadata": {
  "kernelspec": {
   "display_name": "Python 2",
   "language": "python",
   "name": "python2"
  },
  "language_info": {
   "codemirror_mode": {
    "name": "ipython",
    "version": 2
   },
   "file_extension": ".py",
   "mimetype": "text/x-python",
   "name": "python",
   "nbconvert_exporter": "python",
   "pygments_lexer": "ipython2",
   "version": "2.7.10"
  }
 },
 "nbformat": 4,
 "nbformat_minor": 0
}
