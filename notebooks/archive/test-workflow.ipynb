{
 "cells": [
  {
   "cell_type": "code",
   "execution_count": 2,
   "metadata": {
    "collapsed": false
   },
   "outputs": [],
   "source": [
    "%load_ext autotime"
   ]
  },
  {
   "cell_type": "code",
   "execution_count": 3,
   "metadata": {
    "collapsed": false
   },
   "outputs": [
    {
     "name": "stdout",
     "output_type": "stream",
     "text": [
      "time: 216 ms\n"
     ]
    }
   ],
   "source": [
    "import numpy as np\n",
    "import pandas as pd"
   ]
  },
  {
   "cell_type": "code",
   "execution_count": 4,
   "metadata": {
    "collapsed": false
   },
   "outputs": [
    {
     "name": "stdout",
     "output_type": "stream",
     "text": [
      "time: 908 µs\n"
     ]
    }
   ],
   "source": [
    "import sys\n",
    "sys.path.append('/scratch/pradap/python-work/enrique/')"
   ]
  },
  {
   "cell_type": "code",
   "execution_count": 5,
   "metadata": {
    "collapsed": false
   },
   "outputs": [
    {
     "name": "stderr",
     "output_type": "stream",
     "text": [
      "DEBUG:Cloud:Log file (/u/p/r/pradap/.picloud/cloud.log) opened\n"
     ]
    },
    {
     "name": "stdout",
     "output_type": "stream",
     "text": [
      "time: 386 ms\n"
     ]
    }
   ],
   "source": [
    "import magellan as mg"
   ]
  },
  {
   "cell_type": "code",
   "execution_count": 21,
   "metadata": {
    "collapsed": false
   },
   "outputs": [
    {
     "name": "stdout",
     "output_type": "stream",
     "text": [
      "time: 3.66 ms\n"
     ]
    }
   ],
   "source": [
    "A = mg.read_csv('../magellan/datasets/table_A.csv', key='ID')\n",
    "B = mg.load_dataset('table_B')"
   ]
  },
  {
   "cell_type": "code",
   "execution_count": 22,
   "metadata": {
    "collapsed": false
   },
   "outputs": [
    {
     "name": "stderr",
     "output_type": "stream",
     "text": [
      "WARNING:magellan.feature.autofeaturegen:address type and address type are different\n"
     ]
    },
    {
     "name": "stdout",
     "output_type": "stream",
     "text": [
      "time: 9.86 ms\n"
     ]
    }
   ],
   "source": [
    "f = mg.get_features_for_blocking(A, B)"
   ]
  },
  {
   "cell_type": "code",
   "execution_count": 23,
   "metadata": {
    "collapsed": false
   },
   "outputs": [
    {
     "data": {
      "text/html": [
       "<div>\n",
       "<table border=\"1\" class=\"dataframe\">\n",
       "  <thead>\n",
       "    <tr style=\"text-align: right;\">\n",
       "      <th></th>\n",
       "      <th>feature_name</th>\n",
       "      <th>left_attribute</th>\n",
       "      <th>right_attribute</th>\n",
       "      <th>left_attr_tokenizer</th>\n",
       "      <th>right_attr_tokenizer</th>\n",
       "      <th>simfunction</th>\n",
       "      <th>function</th>\n",
       "      <th>function_source</th>\n",
       "    </tr>\n",
       "  </thead>\n",
       "  <tbody>\n",
       "    <tr>\n",
       "      <th>0</th>\n",
       "      <td>ID_ID_lev</td>\n",
       "      <td>ID</td>\n",
       "      <td>ID</td>\n",
       "      <td>None</td>\n",
       "      <td>None</td>\n",
       "      <td>lev</td>\n",
       "      <td>&lt;function ID_ID_lev at 0x7f20bc7c9de8&gt;</td>\n",
       "      <td>from magellan.feature.simfunctions import *\\nf...</td>\n",
       "    </tr>\n",
       "    <tr>\n",
       "      <th>1</th>\n",
       "      <td>ID_ID_jar</td>\n",
       "      <td>ID</td>\n",
       "      <td>ID</td>\n",
       "      <td>None</td>\n",
       "      <td>None</td>\n",
       "      <td>jaro</td>\n",
       "      <td>&lt;function ID_ID_jar at 0x7f20bc6b3050&gt;</td>\n",
       "      <td>from magellan.feature.simfunctions import *\\nf...</td>\n",
       "    </tr>\n",
       "    <tr>\n",
       "      <th>2</th>\n",
       "      <td>ID_ID_jwn</td>\n",
       "      <td>ID</td>\n",
       "      <td>ID</td>\n",
       "      <td>None</td>\n",
       "      <td>None</td>\n",
       "      <td>jaro_winkler</td>\n",
       "      <td>&lt;function ID_ID_jwn at 0x7f20bc6b30c8&gt;</td>\n",
       "      <td>from magellan.feature.simfunctions import *\\nf...</td>\n",
       "    </tr>\n",
       "    <tr>\n",
       "      <th>3</th>\n",
       "      <td>ID_ID_sdx</td>\n",
       "      <td>ID</td>\n",
       "      <td>ID</td>\n",
       "      <td>None</td>\n",
       "      <td>None</td>\n",
       "      <td>soundex</td>\n",
       "      <td>&lt;function ID_ID_sdx at 0x7f20bc6b3140&gt;</td>\n",
       "      <td>from magellan.feature.simfunctions import *\\nf...</td>\n",
       "    </tr>\n",
       "    <tr>\n",
       "      <th>4</th>\n",
       "      <td>ID_ID_exm</td>\n",
       "      <td>ID</td>\n",
       "      <td>ID</td>\n",
       "      <td>None</td>\n",
       "      <td>None</td>\n",
       "      <td>exact_match</td>\n",
       "      <td>&lt;function ID_ID_exm at 0x7f20bc6b31b8&gt;</td>\n",
       "      <td>from magellan.feature.simfunctions import *\\nf...</td>\n",
       "    </tr>\n",
       "    <tr>\n",
       "      <th>5</th>\n",
       "      <td>ID_ID_jac_qgm_3_qgm_3</td>\n",
       "      <td>ID</td>\n",
       "      <td>ID</td>\n",
       "      <td>qgm_3</td>\n",
       "      <td>qgm_3</td>\n",
       "      <td>jaccard</td>\n",
       "      <td>&lt;function ID_ID_jac_qgm_3_qgm_3 at 0x7f20bc6b3...</td>\n",
       "      <td>from magellan.feature.simfunctions import *\\nf...</td>\n",
       "    </tr>\n",
       "    <tr>\n",
       "      <th>6</th>\n",
       "      <td>name_name_jac_qgm_3_qgm_3</td>\n",
       "      <td>name</td>\n",
       "      <td>name</td>\n",
       "      <td>qgm_3</td>\n",
       "      <td>qgm_3</td>\n",
       "      <td>jaccard</td>\n",
       "      <td>&lt;function name_name_jac_qgm_3_qgm_3 at 0x7f20b...</td>\n",
       "      <td>from magellan.feature.simfunctions import *\\nf...</td>\n",
       "    </tr>\n",
       "    <tr>\n",
       "      <th>7</th>\n",
       "      <td>name_name_cos_dlm_dc0_dlm_dc0</td>\n",
       "      <td>name</td>\n",
       "      <td>name</td>\n",
       "      <td>dlm_dc0</td>\n",
       "      <td>dlm_dc0</td>\n",
       "      <td>cosine</td>\n",
       "      <td>&lt;function name_name_cos_dlm_dc0_dlm_dc0 at 0x7...</td>\n",
       "      <td>from magellan.feature.simfunctions import *\\nf...</td>\n",
       "    </tr>\n",
       "    <tr>\n",
       "      <th>8</th>\n",
       "      <td>name_name_jac_dlm_dc0_dlm_dc0</td>\n",
       "      <td>name</td>\n",
       "      <td>name</td>\n",
       "      <td>dlm_dc0</td>\n",
       "      <td>dlm_dc0</td>\n",
       "      <td>jaccard</td>\n",
       "      <td>&lt;function name_name_jac_dlm_dc0_dlm_dc0 at 0x7...</td>\n",
       "      <td>from magellan.feature.simfunctions import *\\nf...</td>\n",
       "    </tr>\n",
       "    <tr>\n",
       "      <th>9</th>\n",
       "      <td>name_name_mel</td>\n",
       "      <td>name</td>\n",
       "      <td>name</td>\n",
       "      <td>None</td>\n",
       "      <td>None</td>\n",
       "      <td>monge_elkan</td>\n",
       "      <td>&lt;function name_name_mel at 0x7f20bc6b3410&gt;</td>\n",
       "      <td>from magellan.feature.simfunctions import *\\nf...</td>\n",
       "    </tr>\n",
       "    <tr>\n",
       "      <th>10</th>\n",
       "      <td>name_name_nmw</td>\n",
       "      <td>name</td>\n",
       "      <td>name</td>\n",
       "      <td>None</td>\n",
       "      <td>None</td>\n",
       "      <td>needleman_wunsch</td>\n",
       "      <td>&lt;function name_name_nmw at 0x7f20bc6b3488&gt;</td>\n",
       "      <td>from magellan.feature.simfunctions import *\\nf...</td>\n",
       "    </tr>\n",
       "    <tr>\n",
       "      <th>11</th>\n",
       "      <td>name_name_sw</td>\n",
       "      <td>name</td>\n",
       "      <td>name</td>\n",
       "      <td>None</td>\n",
       "      <td>None</td>\n",
       "      <td>smith_waterman</td>\n",
       "      <td>&lt;function name_name_sw at 0x7f20bc6b3500&gt;</td>\n",
       "      <td>from magellan.feature.simfunctions import *\\nf...</td>\n",
       "    </tr>\n",
       "    <tr>\n",
       "      <th>12</th>\n",
       "      <td>name_name_swg</td>\n",
       "      <td>name</td>\n",
       "      <td>name</td>\n",
       "      <td>None</td>\n",
       "      <td>None</td>\n",
       "      <td>smith_waterman_gotoh</td>\n",
       "      <td>&lt;function name_name_swg at 0x7f20bc6b3578&gt;</td>\n",
       "      <td>from magellan.feature.simfunctions import *\\nf...</td>\n",
       "    </tr>\n",
       "    <tr>\n",
       "      <th>13</th>\n",
       "      <td>birth_year_birth_year_exm</td>\n",
       "      <td>birth_year</td>\n",
       "      <td>birth_year</td>\n",
       "      <td>None</td>\n",
       "      <td>None</td>\n",
       "      <td>exact_match</td>\n",
       "      <td>&lt;function birth_year_birth_year_exm at 0x7f20b...</td>\n",
       "      <td>from magellan.feature.simfunctions import *\\nf...</td>\n",
       "    </tr>\n",
       "    <tr>\n",
       "      <th>14</th>\n",
       "      <td>birth_year_birth_year_anm</td>\n",
       "      <td>birth_year</td>\n",
       "      <td>birth_year</td>\n",
       "      <td>None</td>\n",
       "      <td>None</td>\n",
       "      <td>abs_norm</td>\n",
       "      <td>&lt;function birth_year_birth_year_anm at 0x7f20b...</td>\n",
       "      <td>from magellan.feature.simfunctions import *\\nf...</td>\n",
       "    </tr>\n",
       "    <tr>\n",
       "      <th>15</th>\n",
       "      <td>birth_year_birth_year_lev</td>\n",
       "      <td>birth_year</td>\n",
       "      <td>birth_year</td>\n",
       "      <td>None</td>\n",
       "      <td>None</td>\n",
       "      <td>lev</td>\n",
       "      <td>&lt;function birth_year_birth_year_lev at 0x7f20b...</td>\n",
       "      <td>from magellan.feature.simfunctions import *\\nf...</td>\n",
       "    </tr>\n",
       "    <tr>\n",
       "      <th>16</th>\n",
       "      <td>hourly_wage_hourly_wage_exm</td>\n",
       "      <td>hourly_wage</td>\n",
       "      <td>hourly_wage</td>\n",
       "      <td>None</td>\n",
       "      <td>None</td>\n",
       "      <td>exact_match</td>\n",
       "      <td>&lt;function hourly_wage_hourly_wage_exm at 0x7f2...</td>\n",
       "      <td>from magellan.feature.simfunctions import *\\nf...</td>\n",
       "    </tr>\n",
       "    <tr>\n",
       "      <th>17</th>\n",
       "      <td>hourly_wage_hourly_wage_anm</td>\n",
       "      <td>hourly_wage</td>\n",
       "      <td>hourly_wage</td>\n",
       "      <td>None</td>\n",
       "      <td>None</td>\n",
       "      <td>abs_norm</td>\n",
       "      <td>&lt;function hourly_wage_hourly_wage_anm at 0x7f2...</td>\n",
       "      <td>from magellan.feature.simfunctions import *\\nf...</td>\n",
       "    </tr>\n",
       "    <tr>\n",
       "      <th>18</th>\n",
       "      <td>hourly_wage_hourly_wage_lev</td>\n",
       "      <td>hourly_wage</td>\n",
       "      <td>hourly_wage</td>\n",
       "      <td>None</td>\n",
       "      <td>None</td>\n",
       "      <td>lev</td>\n",
       "      <td>&lt;function hourly_wage_hourly_wage_lev at 0x7f2...</td>\n",
       "      <td>from magellan.feature.simfunctions import *\\nf...</td>\n",
       "    </tr>\n",
       "    <tr>\n",
       "      <th>19</th>\n",
       "      <td>zipcode_zipcode_exm</td>\n",
       "      <td>zipcode</td>\n",
       "      <td>zipcode</td>\n",
       "      <td>None</td>\n",
       "      <td>None</td>\n",
       "      <td>exact_match</td>\n",
       "      <td>&lt;function zipcode_zipcode_exm at 0x7f20bc6b38c0&gt;</td>\n",
       "      <td>from magellan.feature.simfunctions import *\\nf...</td>\n",
       "    </tr>\n",
       "    <tr>\n",
       "      <th>20</th>\n",
       "      <td>zipcode_zipcode_anm</td>\n",
       "      <td>zipcode</td>\n",
       "      <td>zipcode</td>\n",
       "      <td>None</td>\n",
       "      <td>None</td>\n",
       "      <td>abs_norm</td>\n",
       "      <td>&lt;function zipcode_zipcode_anm at 0x7f20bc6b3938&gt;</td>\n",
       "      <td>from magellan.feature.simfunctions import *\\nf...</td>\n",
       "    </tr>\n",
       "    <tr>\n",
       "      <th>21</th>\n",
       "      <td>zipcode_zipcode_lev</td>\n",
       "      <td>zipcode</td>\n",
       "      <td>zipcode</td>\n",
       "      <td>None</td>\n",
       "      <td>None</td>\n",
       "      <td>lev</td>\n",
       "      <td>&lt;function zipcode_zipcode_lev at 0x7f20bc6b39b0&gt;</td>\n",
       "      <td>from magellan.feature.simfunctions import *\\nf...</td>\n",
       "    </tr>\n",
       "  </tbody>\n",
       "</table>\n",
       "</div>"
      ],
      "text/plain": [
       "                     feature_name left_attribute right_attribute  \\\n",
       "0                       ID_ID_lev             ID              ID   \n",
       "1                       ID_ID_jar             ID              ID   \n",
       "2                       ID_ID_jwn             ID              ID   \n",
       "3                       ID_ID_sdx             ID              ID   \n",
       "4                       ID_ID_exm             ID              ID   \n",
       "5           ID_ID_jac_qgm_3_qgm_3             ID              ID   \n",
       "6       name_name_jac_qgm_3_qgm_3           name            name   \n",
       "7   name_name_cos_dlm_dc0_dlm_dc0           name            name   \n",
       "8   name_name_jac_dlm_dc0_dlm_dc0           name            name   \n",
       "9                   name_name_mel           name            name   \n",
       "10                  name_name_nmw           name            name   \n",
       "11                   name_name_sw           name            name   \n",
       "12                  name_name_swg           name            name   \n",
       "13      birth_year_birth_year_exm     birth_year      birth_year   \n",
       "14      birth_year_birth_year_anm     birth_year      birth_year   \n",
       "15      birth_year_birth_year_lev     birth_year      birth_year   \n",
       "16    hourly_wage_hourly_wage_exm    hourly_wage     hourly_wage   \n",
       "17    hourly_wage_hourly_wage_anm    hourly_wage     hourly_wage   \n",
       "18    hourly_wage_hourly_wage_lev    hourly_wage     hourly_wage   \n",
       "19            zipcode_zipcode_exm        zipcode         zipcode   \n",
       "20            zipcode_zipcode_anm        zipcode         zipcode   \n",
       "21            zipcode_zipcode_lev        zipcode         zipcode   \n",
       "\n",
       "   left_attr_tokenizer right_attr_tokenizer           simfunction  \\\n",
       "0                 None                 None                   lev   \n",
       "1                 None                 None                  jaro   \n",
       "2                 None                 None          jaro_winkler   \n",
       "3                 None                 None               soundex   \n",
       "4                 None                 None           exact_match   \n",
       "5                qgm_3                qgm_3               jaccard   \n",
       "6                qgm_3                qgm_3               jaccard   \n",
       "7              dlm_dc0              dlm_dc0                cosine   \n",
       "8              dlm_dc0              dlm_dc0               jaccard   \n",
       "9                 None                 None           monge_elkan   \n",
       "10                None                 None      needleman_wunsch   \n",
       "11                None                 None        smith_waterman   \n",
       "12                None                 None  smith_waterman_gotoh   \n",
       "13                None                 None           exact_match   \n",
       "14                None                 None              abs_norm   \n",
       "15                None                 None                   lev   \n",
       "16                None                 None           exact_match   \n",
       "17                None                 None              abs_norm   \n",
       "18                None                 None                   lev   \n",
       "19                None                 None           exact_match   \n",
       "20                None                 None              abs_norm   \n",
       "21                None                 None                   lev   \n",
       "\n",
       "                                             function  \\\n",
       "0              <function ID_ID_lev at 0x7f20bc7c9de8>   \n",
       "1              <function ID_ID_jar at 0x7f20bc6b3050>   \n",
       "2              <function ID_ID_jwn at 0x7f20bc6b30c8>   \n",
       "3              <function ID_ID_sdx at 0x7f20bc6b3140>   \n",
       "4              <function ID_ID_exm at 0x7f20bc6b31b8>   \n",
       "5   <function ID_ID_jac_qgm_3_qgm_3 at 0x7f20bc6b3...   \n",
       "6   <function name_name_jac_qgm_3_qgm_3 at 0x7f20b...   \n",
       "7   <function name_name_cos_dlm_dc0_dlm_dc0 at 0x7...   \n",
       "8   <function name_name_jac_dlm_dc0_dlm_dc0 at 0x7...   \n",
       "9          <function name_name_mel at 0x7f20bc6b3410>   \n",
       "10         <function name_name_nmw at 0x7f20bc6b3488>   \n",
       "11          <function name_name_sw at 0x7f20bc6b3500>   \n",
       "12         <function name_name_swg at 0x7f20bc6b3578>   \n",
       "13  <function birth_year_birth_year_exm at 0x7f20b...   \n",
       "14  <function birth_year_birth_year_anm at 0x7f20b...   \n",
       "15  <function birth_year_birth_year_lev at 0x7f20b...   \n",
       "16  <function hourly_wage_hourly_wage_exm at 0x7f2...   \n",
       "17  <function hourly_wage_hourly_wage_anm at 0x7f2...   \n",
       "18  <function hourly_wage_hourly_wage_lev at 0x7f2...   \n",
       "19   <function zipcode_zipcode_exm at 0x7f20bc6b38c0>   \n",
       "20   <function zipcode_zipcode_anm at 0x7f20bc6b3938>   \n",
       "21   <function zipcode_zipcode_lev at 0x7f20bc6b39b0>   \n",
       "\n",
       "                                      function_source  \n",
       "0   from magellan.feature.simfunctions import *\\nf...  \n",
       "1   from magellan.feature.simfunctions import *\\nf...  \n",
       "2   from magellan.feature.simfunctions import *\\nf...  \n",
       "3   from magellan.feature.simfunctions import *\\nf...  \n",
       "4   from magellan.feature.simfunctions import *\\nf...  \n",
       "5   from magellan.feature.simfunctions import *\\nf...  \n",
       "6   from magellan.feature.simfunctions import *\\nf...  \n",
       "7   from magellan.feature.simfunctions import *\\nf...  \n",
       "8   from magellan.feature.simfunctions import *\\nf...  \n",
       "9   from magellan.feature.simfunctions import *\\nf...  \n",
       "10  from magellan.feature.simfunctions import *\\nf...  \n",
       "11  from magellan.feature.simfunctions import *\\nf...  \n",
       "12  from magellan.feature.simfunctions import *\\nf...  \n",
       "13  from magellan.feature.simfunctions import *\\nf...  \n",
       "14  from magellan.feature.simfunctions import *\\nf...  \n",
       "15  from magellan.feature.simfunctions import *\\nf...  \n",
       "16  from magellan.feature.simfunctions import *\\nf...  \n",
       "17  from magellan.feature.simfunctions import *\\nf...  \n",
       "18  from magellan.feature.simfunctions import *\\nf...  \n",
       "19  from magellan.feature.simfunctions import *\\nf...  \n",
       "20  from magellan.feature.simfunctions import *\\nf...  \n",
       "21  from magellan.feature.simfunctions import *\\nf...  "
      ]
     },
     "execution_count": 23,
     "metadata": {},
     "output_type": "execute_result"
    },
    {
     "name": "stdout",
     "output_type": "stream",
     "text": [
      "time: 30.6 ms\n"
     ]
    }
   ],
   "source": [
    "f"
   ]
  },
  {
   "cell_type": "code",
   "execution_count": 14,
   "metadata": {
    "collapsed": false
   },
   "outputs": [
    {
     "data": {
      "text/plain": [
       "True"
      ]
     },
     "execution_count": 14,
     "metadata": {},
     "output_type": "execute_result"
    },
    {
     "name": "stdout",
     "output_type": "stream",
     "text": [
      "time: 1.98 ms\n"
     ]
    }
   ],
   "source": [
    "A.to_csv('tbla.csv', suppress_properties=True)"
   ]
  },
  {
   "cell_type": "code",
   "execution_count": 15,
   "metadata": {
    "collapsed": false
   },
   "outputs": [
    {
     "name": "stdout",
     "output_type": "stream",
     "text": [
      "time: 2.52 ms\n"
     ]
    }
   ],
   "source": [
    "A1 = mg.read_csv('tbla.csv')"
   ]
  },
  {
   "cell_type": "code",
   "execution_count": 16,
   "metadata": {
    "collapsed": false
   },
   "outputs": [
    {
     "data": {
      "text/html": [
       "<div>\n",
       "<table border=\"1\" class=\"dataframe\">\n",
       "  <thead>\n",
       "    <tr style=\"text-align: right;\">\n",
       "      <th></th>\n",
       "      <th>_id</th>\n",
       "      <th>ID</th>\n",
       "      <th>name</th>\n",
       "      <th>birth_year</th>\n",
       "      <th>hourly_wage</th>\n",
       "      <th>address</th>\n",
       "      <th>zipcode</th>\n",
       "    </tr>\n",
       "  </thead>\n",
       "  <tbody>\n",
       "    <tr>\n",
       "      <th>0</th>\n",
       "      <td>0</td>\n",
       "      <td>a1</td>\n",
       "      <td>Kevin Smith</td>\n",
       "      <td>1989</td>\n",
       "      <td>30.0</td>\n",
       "      <td>607 From St, San Francisco</td>\n",
       "      <td>94107</td>\n",
       "    </tr>\n",
       "    <tr>\n",
       "      <th>1</th>\n",
       "      <td>1</td>\n",
       "      <td>a2</td>\n",
       "      <td>Michael Franklin</td>\n",
       "      <td>1988</td>\n",
       "      <td>27.5</td>\n",
       "      <td>1652 Stockton St, San Francisco</td>\n",
       "      <td>94122</td>\n",
       "    </tr>\n",
       "    <tr>\n",
       "      <th>2</th>\n",
       "      <td>2</td>\n",
       "      <td>a3</td>\n",
       "      <td>William Bridge</td>\n",
       "      <td>1986</td>\n",
       "      <td>32.0</td>\n",
       "      <td>3131 Webster St, San Francisco</td>\n",
       "      <td>94107</td>\n",
       "    </tr>\n",
       "    <tr>\n",
       "      <th>3</th>\n",
       "      <td>3</td>\n",
       "      <td>a4</td>\n",
       "      <td>Binto George</td>\n",
       "      <td>1987</td>\n",
       "      <td>32.5</td>\n",
       "      <td>423 Powell St, San Francisco</td>\n",
       "      <td>94122</td>\n",
       "    </tr>\n",
       "    <tr>\n",
       "      <th>4</th>\n",
       "      <td>4</td>\n",
       "      <td>a5</td>\n",
       "      <td>Alphonse Kemper</td>\n",
       "      <td>1984</td>\n",
       "      <td>35.0</td>\n",
       "      <td>1702 Post Street, San Francisco</td>\n",
       "      <td>94122</td>\n",
       "    </tr>\n",
       "  </tbody>\n",
       "</table>\n",
       "</div>"
      ],
      "text/plain": [
       "   _id  ID              name  birth_year  hourly_wage  \\\n",
       "0    0  a1       Kevin Smith        1989         30.0   \n",
       "1    1  a2  Michael Franklin        1988         27.5   \n",
       "2    2  a3    William Bridge        1986         32.0   \n",
       "3    3  a4      Binto George        1987         32.5   \n",
       "4    4  a5   Alphonse Kemper        1984         35.0   \n",
       "\n",
       "                           address  zipcode  \n",
       "0       607 From St, San Francisco    94107  \n",
       "1  1652 Stockton St, San Francisco    94122  \n",
       "2   3131 Webster St, San Francisco    94107  \n",
       "3     423 Powell St, San Francisco    94122  \n",
       "4  1702 Post Street, San Francisco    94122  "
      ]
     },
     "execution_count": 16,
     "metadata": {},
     "output_type": "execute_result"
    },
    {
     "name": "stdout",
     "output_type": "stream",
     "text": [
      "time: 12.1 ms\n"
     ]
    }
   ],
   "source": [
    "A1"
   ]
  },
  {
   "cell_type": "code",
   "execution_count": 17,
   "metadata": {
    "collapsed": false
   },
   "outputs": [
    {
     "name": "stderr",
     "output_type": "stream",
     "text": [
      "WARNING:magellan.core.mtable:Table already contains column with name _id; key not added\n"
     ]
    },
    {
     "name": "stdout",
     "output_type": "stream",
     "text": [
      "time: 997 µs\n"
     ]
    }
   ],
   "source": [
    "A1.add_key('_id')"
   ]
  },
  {
   "cell_type": "code",
   "execution_count": 12,
   "metadata": {
    "collapsed": false
   },
   "outputs": [
    {
     "name": "stdout",
     "output_type": "stream",
     "text": [
      "time: 1.56 ms\n"
     ]
    }
   ],
   "source": [
    "A1.ix[1, 'ID'] = np.NAN"
   ]
  },
  {
   "cell_type": "code",
   "execution_count": 18,
   "metadata": {
    "collapsed": false
   },
   "outputs": [
    {
     "name": "stdout",
     "output_type": "stream",
     "text": [
      "time: 3.62 ms\n"
     ]
    }
   ],
   "source": [
    "A2 = A1.copy()"
   ]
  },
  {
   "cell_type": "code",
   "execution_count": 20,
   "metadata": {
    "collapsed": false
   },
   "outputs": [
    {
     "data": {
      "text/plain": [
       "'_id'"
      ]
     },
     "execution_count": 20,
     "metadata": {},
     "output_type": "execute_result"
    },
    {
     "name": "stdout",
     "output_type": "stream",
     "text": [
      "time: 1.35 ms\n"
     ]
    }
   ],
   "source": [
    "A2.get_key()"
   ]
  },
  {
   "cell_type": "code",
   "execution_count": 13,
   "metadata": {
    "collapsed": false
   },
   "outputs": [
    {
     "name": "stderr",
     "output_type": "stream",
     "text": [
      "WARNING:magellan.core.mtable:Attribute contains missing values\n"
     ]
    },
    {
     "ename": "KeyError",
     "evalue": "'Input attribute does not satisfy requirements for a key'",
     "output_type": "error",
     "traceback": [
      "\u001b[1;31m---------------------------------------------------------------------------\u001b[0m",
      "\u001b[1;31mKeyError\u001b[0m                                  Traceback (most recent call last)",
      "\u001b[1;32m<ipython-input-13-6789bc73028a>\u001b[0m in \u001b[0;36m<module>\u001b[1;34m()\u001b[0m\n\u001b[1;32m----> 1\u001b[1;33m \u001b[0mA1\u001b[0m\u001b[1;33m.\u001b[0m\u001b[0mset_key\u001b[0m\u001b[1;33m(\u001b[0m\u001b[1;34m'ID'\u001b[0m\u001b[1;33m)\u001b[0m\u001b[1;33m\u001b[0m\u001b[0m\n\u001b[0m",
      "\u001b[1;32m/scratch/pradap/python-work/enrique/magellan/core/mtable.py\u001b[0m in \u001b[0;36mset_key\u001b[1;34m(self, key)\u001b[0m\n\u001b[0;32m     83\u001b[0m             \u001b[1;32mraise\u001b[0m \u001b[0mTypeError\u001b[0m\u001b[1;33m(\u001b[0m\u001b[1;34m'Input key is expected to be of type string'\u001b[0m\u001b[1;33m)\u001b[0m\u001b[1;33m\u001b[0m\u001b[0m\n\u001b[0;32m     84\u001b[0m         \u001b[1;32mif\u001b[0m \u001b[0mself\u001b[0m\u001b[1;33m.\u001b[0m\u001b[0mis_key_attr\u001b[0m\u001b[1;33m(\u001b[0m\u001b[0mkey\u001b[0m\u001b[1;33m)\u001b[0m \u001b[1;33m==\u001b[0m \u001b[0mFalse\u001b[0m\u001b[1;33m:\u001b[0m\u001b[1;33m\u001b[0m\u001b[0m\n\u001b[1;32m---> 85\u001b[1;33m             \u001b[1;32mraise\u001b[0m \u001b[0mKeyError\u001b[0m\u001b[1;33m(\u001b[0m\u001b[1;34m'Input attribute does not satisfy requirements for a key'\u001b[0m\u001b[1;33m)\u001b[0m\u001b[1;33m\u001b[0m\u001b[0m\n\u001b[0m\u001b[0;32m     86\u001b[0m         \u001b[1;32melse\u001b[0m\u001b[1;33m:\u001b[0m\u001b[1;33m\u001b[0m\u001b[0m\n\u001b[0;32m     87\u001b[0m             \u001b[0mself\u001b[0m\u001b[1;33m.\u001b[0m\u001b[0mset_property\u001b[0m\u001b[1;33m(\u001b[0m\u001b[1;34m'key'\u001b[0m\u001b[1;33m,\u001b[0m \u001b[0mkey\u001b[0m\u001b[1;33m)\u001b[0m\u001b[1;33m\u001b[0m\u001b[0m\n",
      "\u001b[1;31mKeyError\u001b[0m: 'Input attribute does not satisfy requirements for a key'"
     ]
    },
    {
     "name": "stdout",
     "output_type": "stream",
     "text": [
      "time: 11.9 ms\n"
     ]
    }
   ],
   "source": [
    "A1.set_key('ID')"
   ]
  }
 ],
 "metadata": {
  "kernelspec": {
   "display_name": "Python 2",
   "language": "python",
   "name": "python2"
  },
  "language_info": {
   "codemirror_mode": {
    "name": "ipython",
    "version": 2
   },
   "file_extension": ".py",
   "mimetype": "text/x-python",
   "name": "python",
   "nbconvert_exporter": "python",
   "pygments_lexer": "ipython2",
   "version": "2.7.10"
  }
 },
 "nbformat": 4,
 "nbformat_minor": 0
}
