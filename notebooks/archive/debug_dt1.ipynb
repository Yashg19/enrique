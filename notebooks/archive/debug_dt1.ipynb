{
 "cells": [
  {
   "cell_type": "code",
   "execution_count": 1,
   "metadata": {},
   "outputs": [],
   "source": [
    "import sys\n",
    "sys.path.append('C:/Pradap/Research/Python-Packages/enrique/')"
   ]
  },
  {
   "cell_type": "code",
   "execution_count": 2,
   "metadata": {},
   "outputs": [],
   "source": [
    "import sys\n",
    "import magellan as mg\n",
    "import pandas as pd\n",
    "import numpy as np\n",
    "import os\n",
    "import subprocess\n",
    "from sklearn.tree import DecisionTreeClassifier, export_graphviz\n",
    "from magellan.feature.extractfeatures import apply_feat_fns\n",
    "#------------------ functions --------------------------------------------\n",
    "\n",
    "\n",
    "def visualize_tree(tree, feature_names):\n",
    "    \"\"\"Create tree png using graphviz.\n",
    "\n",
    "    Args\n",
    "    ----\n",
    "    tree -- scikit-learn DecsisionTree.\n",
    "    feature_names -- list of feature names.\n",
    "    \"\"\"\n",
    "    with open(\"dt.dot\", 'w') as f:\n",
    "        export_graphviz(tree, out_file=f,\n",
    "                        feature_names=feature_names)\n",
    "\n",
    "    command = [\"dot\", \"-Tpng\", \"dt.dot\", \"-o\", \"dt.png\"]\n",
    "    try:\n",
    "        subprocess.check_call(command)\n",
    "    except:\n",
    "        exit(\"Could not run dot, ie graphviz, to \"\n",
    "             \"produce visualization\")\n",
    "\n",
    "\n",
    "def get_code(tree, feature_names, target_names,\n",
    "             spacer_base=\"    \"):\n",
    "    \"\"\"Produce psuedo-code for decision tree.\n",
    "\n",
    "    Args\n",
    "    ----\n",
    "    tree -- scikit-leant DescisionTree.\n",
    "    feature_names -- list of feature names.\n",
    "    target_names -- list of target (class) names.\n",
    "    spacer_base -- used for spacing code (default: \"    \").\n",
    "\n",
    "    Notes\n",
    "    -----\n",
    "    based on http://stackoverflow.com/a/30104792.\n",
    "    \"\"\"\n",
    "    left      = tree.tree_.children_left\n",
    "    right     = tree.tree_.children_right\n",
    "    threshold = tree.tree_.threshold\n",
    "    features  = [feature_names[i] for i in tree.tree_.feature]\n",
    "    value = tree.tree_.value\n",
    "\n",
    "    code_list = []\n",
    "    def recurse(left, right, threshold, features, node, depth):\n",
    "        spacer = spacer_base * depth\n",
    "        if (threshold[node] != -2):\n",
    "            code_str =  spacer + \"if ( \" + features[node] + \" <= \" + \\\n",
    "                  str(threshold[node]) + \" ):\"\n",
    "            code_list.append(code_str)\n",
    "            # print(spacer + \"if ( \" + features[node] + \" <= \" + \\\n",
    "            #       str(threshold[node]) + \" ):\")\n",
    "\n",
    "            code_str = spacer + spacer_base +  \"print \\'\" +spacer  +\"Condition \" + features[node] + \" <= \" + str(threshold[node]) + \\\n",
    "                  \" PASSED \" + \"(  value : \\'  + str(\" +  str(features[node])  + \") + \\')\\'\"\n",
    "            code_list.append(code_str)\n",
    "\n",
    "            # print(spacer + spacer_base + \"print \\'\" + features[node] + \" <= \" + str(threshold[node]) +\n",
    "            #       \" PASSED \" + \"(  value : \\'  + str(\" +  str(features[node])  + \") + \\')\\'\")\n",
    "            if left[node] != -1:\n",
    "                    recurse(left, right, threshold, features,\n",
    "                            left[node], depth+1)\n",
    "            #print(spacer + \"}\\n\" + spacer +\"else:\")\n",
    "            code_str = spacer + \"else:\"\n",
    "            code_list.append(code_str)\n",
    "            # print(spacer + \"else:\")\n",
    "\n",
    "\n",
    "            code_str = spacer  + spacer_base + \"print \\'\" +spacer  +\"Condition \" + features[node] + \" <= \" + str(threshold[node]) + \\\n",
    "                  \" FAILED \" + \"(  value : \\'  + str(\" +  str(features[node])  + \") + \\')\\'\"\n",
    "            code_list.append(code_str)\n",
    "            # print(spacer + spacer_base + \"print \\'\" + features[node] + \" <= \" + str(threshold[node]) +\n",
    "            #       \" FAILED \" + \"(  value : \\'  + str(\" +  str(features[node])  + \") + \\')\\'\")\n",
    "\n",
    "\n",
    "            if right[node] != -1:\n",
    "                    recurse(left, right, threshold, features,\n",
    "                            right[node], depth+1)\n",
    "            # print(spacer + \"}\")\n",
    "        else:\n",
    "            target = value[node]\n",
    "            for i, v in zip(np.nonzero(target)[1],\n",
    "                            target[np.nonzero(target)]):\n",
    "                target_name = target_names[i]\n",
    "                target_count = int(v)\n",
    "                # print(spacer + \"return \" + str(target_name) + \\\n",
    "                #       \" ( \" + str(target_count) + \" examples )\")\n",
    "                code_str = spacer + \"return \" + str(target_name) + \\\n",
    "                      \" #( \" + str(target_count) + \" examples )\"\n",
    "                code_list.append(code_str)\n",
    "                # print(spacer + \"return \" + str(target_name) + \\\n",
    "                #       \" #( \" + str(target_count) + \" examples )\")\n",
    "\n",
    "\n",
    "    recurse(left, right, threshold, features, 0, 0)\n",
    "    return code_list\n",
    "\n",
    "\n",
    "def debug_dt(t1, t2, feat_table, clf):\n",
    "    code = get_code(dt.clf, list(feat_table['feature_name']), ['False', 'True'])\n",
    "    feat_vals = apply_feat_fns(t1, t2, feat_table)\n",
    "    code = get_dbg_fn(code)\n",
    "    #print code\n",
    "    d = {}\n",
    "    d.update(feat_vals)\n",
    "    exec code in d\n",
    "    ret_val = d['debug_fn']()\n",
    "    print \"Tuples match status : \" + str(ret_val)\n",
    "\n",
    "\n",
    "\n",
    "def get_dbg_fn(code):\n",
    "    spacer_basic = '    '\n",
    "    c = \"def debug_fn(): \\n\"\n",
    "    upd_code = [spacer_basic + e + \"\\n\" for e in code]\n",
    "    c = c + ''.join(upd_code)\n",
    "    return c"
   ]
  },
  {
   "cell_type": "code",
   "execution_count": 3,
   "metadata": {},
   "outputs": [
    {
     "name": "stderr",
     "output_type": "stream",
     "text": [
      "WARNING:magellan.feature.autofeaturegen:editionNum type and editionNum type are different\n",
      "WARNING:magellan.feature.autofeaturegen:pages type and pages type are different\n",
      "WARNING:magellan.feature.autofeaturegen:volume type and volume type are different\n"
     ]
    },
    {
     "name": "stdout",
     "output_type": "stream",
     "text": [
      "['id_id_exm', 'id_id_anm', 'id_id_lev', 'title_title_jac_qgm_3_qgm_3', 'title_title_cos_dlm_dc0_dlm_dc0', 'title_title_mel', 'author_author_jac_qgm_3_qgm_3', 'author_author_cos_dlm_dc0_dlm_dc0', 'author_author_jac_dlm_dc0_dlm_dc0', 'author_author_mel', 'author_author_nmw', 'author_author_sw', 'author_author_swg', 'numAuthors_numAuthors_exm', 'numAuthors_numAuthors_anm', 'numAuthors_numAuthors_lev', 'binding_binding_jac_qgm_3_qgm_3', 'binding_binding_cos_dlm_dc0_dlm_dc0', 'binding_binding_jac_dlm_dc0_dlm_dc0', 'binding_binding_mel', 'binding_binding_nmw', 'binding_binding_sw', 'binding_binding_swg', 'publisher_publisher_jac_qgm_3_qgm_3', 'publisher_publisher_cos_dlm_dc0_dlm_dc0', 'publisher_publisher_jac_dlm_dc0_dlm_dc0', 'publisher_publisher_mel', 'publisher_publisher_nmw', 'publisher_publisher_sw', 'publisher_publisher_swg', 'isbn_isbn_lev', 'isbn_isbn_jar', 'isbn_isbn_jwn', 'isbn_isbn_sdx', 'isbn_isbn_exm', 'isbn_isbn_jac_qgm_3_qgm_3', 'pubYear_pubYear_exm', 'pubYear_pubYear_anm', 'pubYear_pubYear_lev', 'pubMonth_pubMonth_exm', 'pubMonth_pubMonth_anm', 'pubMonth_pubMonth_lev', 'pubDay_pubDay_exm', 'pubDay_pubDay_anm', 'pubDay_pubDay_lev', 'lang_lang_jac_qgm_3_qgm_3', 'lang_lang_cos_dlm_dc0_dlm_dc0', 'lang_lang_jac_dlm_dc0_dlm_dc0', 'lang_lang_mel', 'lang_lang_nmw', 'lang_lang_sw', 'lang_lang_swg', 'editionDescr_editionDescr_jac_qgm_3_qgm_3', 'editionDescr_editionDescr_cos_dlm_dc0_dlm_dc0', 'editionDescr_editionDescr_jac_dlm_dc0_dlm_dc0', 'editionDescr_editionDescr_mel', 'editionDescr_editionDescr_nmw', 'editionDescr_editionDescr_sw', 'editionDescr_editionDescr_swg']\n",
      "After fitting\n"
     ]
    }
   ],
   "source": [
    "import sys\n",
    "sys.path.append('C:/Pradap/Research/Python-Packages/enrique')\n",
    "\n",
    "wal = mg.read_csv('../magellan/datasets/books/walmart.csv', dtype={'isbn':pd.np.str, 'pages':pd.np.str, 'volume':pd.np.str, 'editionNum':pd.np.str},\n",
    "                                        low_memory=False, key='id')\n",
    "\n",
    "\n",
    "bwk = mg.read_csv('../magellan/datasets/books/bowker.csv', dtype={'isbn':pd.np.str, 'pages':pd.np.str, 'volume':pd.np.str, 'editionNum':pd.np.str},\n",
    "                      low_memory=False, key='id')\n",
    "\n",
    "ab = mg.AttrEquivalenceBlocker()\n",
    "candset = ab.block_tables(bwk, wal, 'isbn', 'isbn', ['title', 'author'], ['title', 'author'])\n",
    "\n",
    "\n",
    "feat_table = mg.get_features_for_blocking(bwk, wal)\n",
    "\n",
    "sample_cset = mg.sample_one_table(candset, 30)\n",
    "\n",
    "mg.init_jvm('C:\\\\Program Files\\\\Java\\\\jre7\\\\bin\\\\server\\\\jvm.dll')\n",
    "\n",
    "from magellan.feature.simfunctions import lev\n",
    "\n",
    "\n",
    "#label_cset = mg.label(sample_cset, \"gold_label\")\n",
    "#label_cset.save_table('book_label.pkl')\n",
    "label_cset = mg.load_table('../testcases/book_label.pkl')\n",
    "label_cset.set_property('ltable', bwk)\n",
    "label_cset.set_property('rtable', wal)\n",
    "\n",
    "fv = mg.extract_feat_vecs(label_cset, feat_table=feat_table, attrs_after=['gold_label'])\n",
    "\n",
    "\n",
    "dt = mg.DTMatcher(random_state=81)\n",
    "dt.fit(table=fv, exclude_attrs=['_id', 'ltable.id', 'rtable.id', 'gold_label'], target_attr='gold_label')\n",
    "cols = [c not in ['_id', 'ltable.id', 'rtable.id', 'gold_label'] for c in fv.columns]\n",
    "feature_names = fv.columns[cols]\n",
    "visualize_tree(dt.clf, feature_names)\n",
    "#debug_dt(wal.ix[2], bwk.ix[3], feat_table, dt.clf)\n",
    "t1 = wal.ix[3]\n",
    "t2 = bwk.ix[3]\n",
    "\n",
    "f = apply_feat_fns(t1, t2, feat_table)"
   ]
  },
  {
   "cell_type": "code",
   "execution_count": 4,
   "metadata": {},
   "outputs": [],
   "source": [
    "visualize_tree(dt.clf, feature_names)"
   ]
  },
  {
   "cell_type": "code",
   "execution_count": 5,
   "metadata": {},
   "outputs": [],
   "source": [
    "from sklearn.externals.six import StringIO"
   ]
  },
  {
   "cell_type": "code",
   "execution_count": 6,
   "metadata": {},
   "outputs": [],
   "source": [
    "import pydotplus"
   ]
  },
  {
   "cell_type": "code",
   "execution_count": 7,
   "metadata": {},
   "outputs": [],
   "source": [
    "dot_data = StringIO()"
   ]
  },
  {
   "cell_type": "code",
   "execution_count": 8,
   "metadata": {},
   "outputs": [],
   "source": [
    "tree = dt.clf"
   ]
  },
  {
   "cell_type": "code",
   "execution_count": 9,
   "metadata": {},
   "outputs": [],
   "source": [
    "from sklearn import tree"
   ]
  },
  {
   "cell_type": "code",
   "execution_count": 10,
   "metadata": {},
   "outputs": [],
   "source": [
    "tree.export_graphviz(dt.clf, out_file=dot_data)"
   ]
  },
  {
   "cell_type": "code",
   "execution_count": 11,
   "metadata": {},
   "outputs": [],
   "source": [
    "graph = pydotplus.graph_from_dot_data(dot_data.getvalue())"
   ]
  },
  {
   "cell_type": "code",
   "execution_count": 13,
   "metadata": {},
   "outputs": [
    {
     "ename": "InvocationException",
     "evalue": "GraphViz's executables not found",
     "output_type": "error",
     "traceback": [
      "\u001b[1;31m---------------------------------------------------------------------------\u001b[0m",
      "\u001b[1;31mInvocationException\u001b[0m                       Traceback (most recent call last)",
      "\u001b[1;32m<ipython-input-13-f35983a825d7>\u001b[0m in \u001b[0;36m<module>\u001b[1;34m()\u001b[0m\n\u001b[1;32m----> 1\u001b[1;33m \u001b[0mgraph\u001b[0m\u001b[1;33m.\u001b[0m\u001b[0mwrite_jpeg\u001b[0m\u001b[1;33m(\u001b[0m\u001b[1;34m'pp.jpg'\u001b[0m\u001b[1;33m)\u001b[0m\u001b[1;33m\u001b[0m\u001b[0m\n\u001b[0m",
      "\u001b[1;32mC:\\Users\\priya\\Anaconda\\lib\\site-packages\\pydotplus\\graphviz.pyc\u001b[0m in \u001b[0;36m<lambda>\u001b[1;34m(path, f, prog)\u001b[0m\n\u001b[0;32m   1808\u001b[0m                 \u001b[1;32mlambda\u001b[0m \u001b[0mpath\u001b[0m\u001b[1;33m,\u001b[0m\u001b[1;33m\u001b[0m\u001b[0m\n\u001b[0;32m   1809\u001b[0m                 \u001b[0mf\u001b[0m\u001b[1;33m=\u001b[0m\u001b[0mfrmt\u001b[0m\u001b[1;33m,\u001b[0m\u001b[1;33m\u001b[0m\u001b[0m\n\u001b[1;32m-> 1810\u001b[1;33m                 \u001b[0mprog\u001b[0m\u001b[1;33m=\u001b[0m\u001b[0mself\u001b[0m\u001b[1;33m.\u001b[0m\u001b[0mprog\u001b[0m\u001b[1;33m:\u001b[0m \u001b[0mself\u001b[0m\u001b[1;33m.\u001b[0m\u001b[0mwrite\u001b[0m\u001b[1;33m(\u001b[0m\u001b[0mpath\u001b[0m\u001b[1;33m,\u001b[0m \u001b[0mformat\u001b[0m\u001b[1;33m=\u001b[0m\u001b[0mf\u001b[0m\u001b[1;33m,\u001b[0m \u001b[0mprog\u001b[0m\u001b[1;33m=\u001b[0m\u001b[0mprog\u001b[0m\u001b[1;33m)\u001b[0m\u001b[1;33m\u001b[0m\u001b[0m\n\u001b[0m\u001b[0;32m   1811\u001b[0m             )\n\u001b[0;32m   1812\u001b[0m \u001b[1;33m\u001b[0m\u001b[0m\n",
      "\u001b[1;32mC:\\Users\\priya\\Anaconda\\lib\\site-packages\\pydotplus\\graphviz.pyc\u001b[0m in \u001b[0;36mwrite\u001b[1;34m(self, path, prog, format)\u001b[0m\n\u001b[0;32m   1916\u001b[0m \u001b[1;33m\u001b[0m\u001b[0m\n\u001b[0;32m   1917\u001b[0m             \u001b[1;32melse\u001b[0m\u001b[1;33m:\u001b[0m\u001b[1;33m\u001b[0m\u001b[0m\n\u001b[1;32m-> 1918\u001b[1;33m                 \u001b[0mfobj\u001b[0m\u001b[1;33m.\u001b[0m\u001b[0mwrite\u001b[0m\u001b[1;33m(\u001b[0m\u001b[0mself\u001b[0m\u001b[1;33m.\u001b[0m\u001b[0mcreate\u001b[0m\u001b[1;33m(\u001b[0m\u001b[0mprog\u001b[0m\u001b[1;33m,\u001b[0m \u001b[0mformat\u001b[0m\u001b[1;33m)\u001b[0m\u001b[1;33m)\u001b[0m\u001b[1;33m\u001b[0m\u001b[0m\n\u001b[0m\u001b[0;32m   1919\u001b[0m         \u001b[1;32mfinally\u001b[0m\u001b[1;33m:\u001b[0m\u001b[1;33m\u001b[0m\u001b[0m\n\u001b[0;32m   1920\u001b[0m             \u001b[1;32mif\u001b[0m \u001b[0mclose\u001b[0m\u001b[1;33m:\u001b[0m\u001b[1;33m\u001b[0m\u001b[0m\n",
      "\u001b[1;32mC:\\Users\\priya\\Anaconda\\lib\\site-packages\\pydotplus\\graphviz.pyc\u001b[0m in \u001b[0;36mcreate\u001b[1;34m(self, prog, format)\u001b[0m\n\u001b[0;32m   1958\u001b[0m             \u001b[1;32mif\u001b[0m \u001b[0mself\u001b[0m\u001b[1;33m.\u001b[0m\u001b[0mprogs\u001b[0m \u001b[1;32mis\u001b[0m \u001b[0mNone\u001b[0m\u001b[1;33m:\u001b[0m\u001b[1;33m\u001b[0m\u001b[0m\n\u001b[0;32m   1959\u001b[0m                 raise InvocationException(\n\u001b[1;32m-> 1960\u001b[1;33m                     'GraphViz\\'s executables not found')\n\u001b[0m\u001b[0;32m   1961\u001b[0m \u001b[1;33m\u001b[0m\u001b[0m\n\u001b[0;32m   1962\u001b[0m         \u001b[1;32mif\u001b[0m \u001b[0mprog\u001b[0m \u001b[1;32mnot\u001b[0m \u001b[1;32min\u001b[0m \u001b[0mself\u001b[0m\u001b[1;33m.\u001b[0m\u001b[0mprogs\u001b[0m\u001b[1;33m:\u001b[0m\u001b[1;33m\u001b[0m\u001b[0m\n",
      "\u001b[1;31mInvocationException\u001b[0m: GraphViz's executables not found"
     ]
    }
   ],
   "source": [
    "graph.write_jpeg('pp.jpg')"
   ]
  },
  {
   "cell_type": "code",
   "execution_count": 14,
   "metadata": {},
   "outputs": [],
   "source": [
    "from subprocess import call"
   ]
  },
  {
   "cell_type": "code",
   "execution_count": 16,
   "metadata": {},
   "outputs": [],
   "source": [
    "import os"
   ]
  },
  {
   "cell_type": "code",
   "execution_count": 19,
   "metadata": {},
   "outputs": [
    {
     "data": {
      "text/plain": [
       "'C:\\\\WINDOWS\\\\system32\\\\cmd.exe'"
      ]
     },
     "execution_count": 19,
     "output_type": "execute_result",
     "metadata": {}
    }
   ],
   "source": [
    "os.environ['COMSPEC']"
   ]
  }
 ],
 "metadata": {
  "kernelspec": {
   "display_name": "Python 2",
   "language": "python",
   "name": "python2"
  }
 },
 "nbformat": 4,
 "nbformat_minor": 0
}