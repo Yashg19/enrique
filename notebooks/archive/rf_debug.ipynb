{
 "cells": [
  {
   "cell_type": "code",
   "execution_count": 1,
   "metadata": {
    "collapsed": true
   },
   "outputs": [],
   "source": [
    "import sys\n",
    "sys.path.append('c:/Pradap/Research/Python-Packages/enrique/')"
   ]
  },
  {
   "cell_type": "code",
   "execution_count": 2,
   "metadata": {
    "collapsed": true
   },
   "outputs": [],
   "source": [
    "import magellan as mg\n",
    "import pandas as pd\n",
    "\n",
    "from magellan.debug.decisiontree import visualize_tree, debug_dt\n",
    "from magellan.feature.extractfeatures import apply_feat_fns"
   ]
  },
  {
   "cell_type": "code",
   "execution_count": 3,
   "metadata": {
    "collapsed": true
   },
   "outputs": [],
   "source": [
    "mg.init_jvm('C:\\\\Program Files\\\\Java\\\\jre7\\\\bin\\\\server\\\\jvm.dll')\n",
    "\n",
    "A = mg.load_dataset('table_A')\n",
    "B = mg.load_dataset('table_B')"
   ]
  },
  {
   "cell_type": "code",
   "execution_count": 4,
   "metadata": {
    "collapsed": true
   },
   "outputs": [],
   "source": [
    "ab = mg.AttrEquivalenceBlocker()\n",
    "C = ab.block_tables(A, B, 'zipcode', 'zipcode', l_output_attrs=['name', 'hourly_wage', 'zipcode'],\n",
    "                    r_output_attrs=['name', 'hourly_wage', 'zipcode'])\n"
   ]
  },
  {
   "cell_type": "code",
   "execution_count": 5,
   "metadata": {
    "collapsed": true
   },
   "outputs": [],
   "source": [
    "S = mg.sample_one_table(C, 10)\n",
    "L = mg.load_table('../notebooks/demo_label.pkl')\n",
    "L.set_property('ltable', A)\n",
    "L.set_property('rtable', B)"
   ]
  },
  {
   "cell_type": "code",
   "execution_count": 6,
   "metadata": {
    "collapsed": false
   },
   "outputs": [
    {
     "name": "stderr",
     "output_type": "stream",
     "text": [
      "WARNING:magellan.feature.autofeaturegen:address type and address type are different\n"
     ]
    }
   ],
   "source": [
    "feat_table = mg.get_features_for_blocking(A, B)\n",
    "x = [4, 14, 17, 19, 10, 12]\n",
    "feat_table = feat_table.ix[x]"
   ]
  },
  {
   "cell_type": "code",
   "execution_count": 7,
   "metadata": {
    "collapsed": true
   },
   "outputs": [],
   "source": [
    "S_prime = mg.extract_feat_vecs(L, attrs_after='label', feat_table=feat_table)\n"
   ]
  },
  {
   "cell_type": "code",
   "execution_count": 8,
   "metadata": {
    "collapsed": true
   },
   "outputs": [],
   "source": [
    "exclude_attrs=['_id', 'ltable.ID', 'rtable.ID', 'label']"
   ]
  },
  {
   "cell_type": "code",
   "execution_count": 9,
   "metadata": {
    "collapsed": false
   },
   "outputs": [
    {
     "name": "stdout",
     "output_type": "stream",
     "text": [
      "['ID_ID_exm', 'birth_year_birth_year_anm', 'hourly_wage_hourly_wage_anm', 'zipcode_zipcode_exm', 'name_name_nmw', 'name_name_swg']\n"
     ]
    }
   ],
   "source": [
    "rf = mg.RFMatcher(random_state=81)\n",
    "rf.fit(table=S_prime, exclude_attrs=exclude_attrs, target_attr='label')"
   ]
  },
  {
   "cell_type": "code",
   "execution_count": 10,
   "metadata": {
    "collapsed": true
   },
   "outputs": [],
   "source": [
    "clf = rf.clf"
   ]
  },
  {
   "cell_type": "code",
   "execution_count": 11,
   "metadata": {
    "collapsed": true
   },
   "outputs": [],
   "source": [
    "t1 = A.ix[2]\n",
    "t2 = B.ix[1]"
   ]
  },
  {
   "cell_type": "code",
   "execution_count": 12,
   "metadata": {
    "collapsed": false
   },
   "outputs": [
    {
     "name": "stdout",
     "output_type": "stream",
     "text": [
      "    name_name_nmw <= 0.676339268684 is False (  value : 0.785714268684)\n",
      "   Match status : True\n",
      "   Prob. for non-match : 0.0\n",
      "   Prob for match : 1.0\n",
      "    name_name_nmw <= 0.65625 is False (  value : 0.785714268684)\n",
      "   Match status : True\n",
      "   Prob. for non-match : 0.0\n",
      "   Prob for match : 1.0\n",
      "    birth_year_birth_year_anm <= 0.999748468399 is False (  value : 1.0)\n",
      "   Match status : True\n",
      "   Prob. for non-match : 0.0\n",
      "   Prob for match : 1.0\n",
      "    birth_year_birth_year_anm <= 0.999748468399 is False (  value : 1.0)\n",
      "   Match status : True\n",
      "   Prob. for non-match : 0.0\n",
      "   Prob for match : 1.0\n",
      "    name_name_nmw <= 0.65625 is False (  value : 0.785714268684)\n",
      "   Match status : True\n",
      "   Prob. for non-match : 0.0\n",
      "   Prob for match : 1.0\n",
      "    hourly_wage_hourly_wage_anm <= 0.991666674614 is False (  value : 1.0)\n",
      "   Match status : True\n",
      "   Prob. for non-match : 0.0\n",
      "   Prob for match : 1.0\n",
      "    name_name_swg <= 0.51748251915 is False (  value : 0.781818211079)\n",
      "   Match status : True\n",
      "   Prob. for non-match : 0.0\n",
      "   Prob for match : 1.0\n",
      "    name_name_swg <= 0.51748251915 is False (  value : 0.781818211079)\n",
      "   Match status : True\n",
      "   Prob. for non-match : 0.0\n",
      "   Prob for match : 1.0\n",
      "   Match status : False\n",
      "   Prob. for non-match : 1.0\n",
      "   Prob for match : 0.0\n",
      "    name_name_nmw <= 0.676339268684 is False (  value : 0.785714268684)\n",
      "   Match status : True\n",
      "   Prob. for non-match : 0.0\n",
      "   Prob for match : 1.0\n"
     ]
    }
   ],
   "source": [
    "for e in clf.estimators_:\n",
    "    debug_dt(e, t1, t2, feat_table, S_prime.columns, exclude_attrs, ensemble_flag=True)"
   ]
  },
  {
   "cell_type": "code",
   "execution_count": 13,
   "metadata": {
    "collapsed": false
   },
   "outputs": [
    {
     "name": "stdout",
     "output_type": "stream",
     "text": [
      "Match status : False\n"
     ]
    }
   ],
   "source": [
    "debug_dt(clf.estimators_[8], t1, t2, feat_table, S_prime.columns, exclude_attrs)"
   ]
  },
  {
   "cell_type": "code",
   "execution_count": 14,
   "metadata": {
    "collapsed": true
   },
   "outputs": [],
   "source": [
    "cols = [c not in exclude_attrs for c in S_prime.columns]\n",
    "feature_names = S_prime.columns[cols]"
   ]
  },
  {
   "cell_type": "code",
   "execution_count": 19,
   "metadata": {
    "collapsed": false
   },
   "outputs": [
    {
     "name": "stdout",
     "output_type": "stream",
     "text": [
      "ID_ID_exm                      0.000000\n",
      "birth_year_birth_year_anm      1.000000\n",
      "hourly_wage_hourly_wage_anm    1.000000\n",
      "zipcode_zipcode_exm            1.000000\n",
      "name_name_nmw                  0.785714\n",
      "name_name_swg                  0.781818\n",
      "dtype: float64\n",
      "[[ 0.1  0.9]]\n"
     ]
    }
   ],
   "source": [
    "feat_values = apply_feat_fns(t1, t2, feat_table)\n",
    "feat_values = pd.Series(feat_values)\n",
    "feat_values =  feat_values[feature_names]\n",
    "v = feat_values.values\n",
    "p = clf.predict_proba(v)\n",
    "print feat_values\n",
    "print p"
   ]
  },
  {
   "cell_type": "code",
   "execution_count": 16,
   "metadata": {
    "collapsed": true
   },
   "outputs": [],
   "source": [
    "d = clf.estimators_[8]"
   ]
  },
  {
   "cell_type": "code",
   "execution_count": 17,
   "metadata": {
    "collapsed": false
   },
   "outputs": [
    {
     "data": {
      "text/plain": [
       "array([-1], dtype=int64)"
      ]
     },
     "execution_count": 17,
     "metadata": {},
     "output_type": "execute_result"
    }
   ],
   "source": [
    "d.tree_.children_right"
   ]
  }
 ],
 "metadata": {
  "kernelspec": {
   "display_name": "Python 2",
   "language": "python",
   "name": "python2"
  },
  "language_info": {
   "codemirror_mode": {
    "name": "ipython",
    "version": 2
   },
   "file_extension": ".py",
   "mimetype": "text/x-python",
   "name": "python",
   "nbconvert_exporter": "python",
   "pygments_lexer": "ipython2",
   "version": "2.7.9"
  }
 },
 "nbformat": 4,
 "nbformat_minor": 0
}
