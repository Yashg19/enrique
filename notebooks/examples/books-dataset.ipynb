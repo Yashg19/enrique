{
 "cells": [
  {
   "cell_type": "code",
   "execution_count": 1,
   "metadata": {
    "collapsed": false
   },
   "outputs": [],
   "source": [
    "%load_ext autotime"
   ]
  },
  {
   "cell_type": "code",
   "execution_count": 2,
   "metadata": {
    "collapsed": false
   },
   "outputs": [
    {
     "name": "stdout",
     "output_type": "stream",
     "text": [
      "time: 965 µs\n"
     ]
    }
   ],
   "source": [
    "import sys\n",
    "sys.path.append('/Users/Pradap/Documents/Research/Python-Package/enrique/')"
   ]
  },
  {
   "cell_type": "code",
   "execution_count": 3,
   "metadata": {
    "collapsed": false
   },
   "outputs": [
    {
     "name": "stderr",
     "output_type": "stream",
     "text": [
      "DEBUG:Cloud:Log file (/Users/pradap/.picloud/cloud.log) opened\n"
     ]
    },
    {
     "name": "stdout",
     "output_type": "stream",
     "text": [
      "time: 540 ms\n"
     ]
    }
   ],
   "source": [
    "import magellan as mg\n",
    "import pandas as pd"
   ]
  },
  {
   "cell_type": "code",
   "execution_count": 4,
   "metadata": {
    "collapsed": false
   },
   "outputs": [
    {
     "data": {
      "text/plain": [
       "True"
      ]
     },
     "execution_count": 4,
     "metadata": {},
     "output_type": "execute_result"
    },
    {
     "name": "stdout",
     "output_type": "stream",
     "text": [
      "time: 101 ms\n"
     ]
    }
   ],
   "source": [
    "mg.init_jvm('/Library/Java/JavaVirtualMachines/jdk1.8.0_45.jdk/Contents/Home/jre/lib/server/libjvm.dylib')"
   ]
  },
  {
   "cell_type": "code",
   "execution_count": 5,
   "metadata": {
    "collapsed": false
   },
   "outputs": [
    {
     "name": "stdout",
     "output_type": "stream",
     "text": [
      "time: 1.21 s\n"
     ]
    }
   ],
   "source": [
    "# read walmart dataset\n",
    "wal =  mg.read_csv(mg.get_install_path() + '/datasets/books/walmart.csv', \n",
    "                    dtype={'isbn':pd.np.str, 'pages':pd.np.str, 'volume':pd.np.str, 'editionNum':pd.np.str},  \n",
    "                    low_memory=False, key='id')"
   ]
  },
  {
   "cell_type": "code",
   "execution_count": 6,
   "metadata": {
    "collapsed": false
   },
   "outputs": [
    {
     "name": "stdout",
     "output_type": "stream",
     "text": [
      "time: 85.4 ms\n"
     ]
    }
   ],
   "source": [
    "bwk = mg.read_csv(mg.get_install_path() + '/datasets/books/bowker.csv', \n",
    "                  dtype={'isbn':pd.np.str, 'pages':pd.np.str, 'volume':pd.np.str, 'editionNum':pd.np.str},  \n",
    "                  low_memory=False, key='id')"
   ]
  },
  {
   "cell_type": "code",
   "execution_count": 7,
   "metadata": {
    "collapsed": false
   },
   "outputs": [
    {
     "data": {
      "text/plain": [
       "Index([u'id', u'title', u'author', u'numAuthors', u'binding', u'publisher',\n",
       "       u'isbn', u'pubYear', u'pubMonth', u'pubDay', u'editionNum', u'pages',\n",
       "       u'volume', u'lang', u'editionDescr', u'category', u'upc11', u'upc12',\n",
       "       u'upc13', u'upc14', u'description', u'url'],\n",
       "      dtype='object')"
      ]
     },
     "execution_count": 7,
     "metadata": {},
     "output_type": "execute_result"
    },
    {
     "name": "stdout",
     "output_type": "stream",
     "text": [
      "time: 2.47 ms\n"
     ]
    }
   ],
   "source": [
    "wal.columns"
   ]
  },
  {
   "cell_type": "code",
   "execution_count": 8,
   "metadata": {
    "collapsed": false
   },
   "outputs": [
    {
     "data": {
      "text/plain": [
       "Index([u'id', u'title', u'author', u'numAuthors', u'binding', u'publisher',\n",
       "       u'isbn', u'pubYear', u'pubMonth', u'pubDay', u'editionNum', u'pages',\n",
       "       u'volume', u'lang', u'editionDescr', u'series', u'upc'],\n",
       "      dtype='object')"
      ]
     },
     "execution_count": 8,
     "metadata": {},
     "output_type": "execute_result"
    },
    {
     "name": "stdout",
     "output_type": "stream",
     "text": [
      "time: 14.6 ms\n"
     ]
    }
   ],
   "source": [
    "bwk.columns"
   ]
  },
  {
   "cell_type": "code",
   "execution_count": 9,
   "metadata": {
    "collapsed": false
   },
   "outputs": [
    {
     "name": "stdout",
     "output_type": "stream",
     "text": [
      "time: 11.1 ms\n"
     ]
    }
   ],
   "source": [
    "ob = mg.OverlapBlocker()"
   ]
  },
  {
   "cell_type": "code",
   "execution_count": 10,
   "metadata": {
    "collapsed": false
   },
   "outputs": [
    {
     "name": "stdout",
     "output_type": "stream",
     "text": [
      "time: 1.36 ms\n"
     ]
    }
   ],
   "source": [
    "mg._verbose=True\n",
    "mg._percent=1"
   ]
  },
  {
   "cell_type": "code",
   "execution_count": 11,
   "metadata": {
    "collapsed": false
   },
   "outputs": [
    {
     "name": "stdout",
     "output_type": "stream",
     "text": [
      "Creating inverted index \n",
      "Done\n",
      "100.0\n",
      "1.0 percentage done !!!\n",
      "2.0 percentage done !!!\n",
      "3.0 percentage done !!!\n",
      "4.0 percentage done !!!\n",
      "5.0 percentage done !!!\n",
      "6.0 percentage done !!!\n",
      "7.0 percentage done !!!\n",
      "8.0 percentage done !!!\n",
      "9.0 percentage done !!!\n",
      "10.0 percentage done !!!\n",
      "11.0 percentage done !!!\n",
      "12.0 percentage done !!!\n",
      "13.0 percentage done !!!\n",
      "14.0 percentage done !!!\n",
      "15.0 percentage done !!!\n",
      "16.0 percentage done !!!\n",
      "17.0 percentage done !!!\n",
      "18.0 percentage done !!!\n",
      "19.0 percentage done !!!\n",
      "20.0 percentage done !!!\n",
      "21.0 percentage done !!!\n",
      "22.0 percentage done !!!\n",
      "23.0 percentage done !!!\n",
      "24.0 percentage done !!!\n",
      "25.0 percentage done !!!\n",
      "26.0 percentage done !!!\n",
      "27.0 percentage done !!!\n",
      "28.0 percentage done !!!\n",
      "29.0 percentage done !!!\n",
      "30.0 percentage done !!!\n",
      "31.0 percentage done !!!\n",
      "32.0 percentage done !!!\n",
      "33.0 percentage done !!!\n",
      "34.0 percentage done !!!\n",
      "35.0 percentage done !!!\n",
      "36.0 percentage done !!!\n",
      "37.0 percentage done !!!\n",
      "38.0 percentage done !!!\n",
      "39.0 percentage done !!!\n",
      "40.0 percentage done !!!\n",
      "41.0 percentage done !!!\n",
      "42.0 percentage done !!!\n",
      "43.0 percentage done !!!\n",
      "44.0 percentage done !!!\n",
      "45.0 percentage done !!!\n",
      "46.0 percentage done !!!\n",
      "47.0 percentage done !!!\n",
      "48.0 percentage done !!!\n",
      "49.0 percentage done !!!\n",
      "50.0 percentage done !!!\n",
      "51.0 percentage done !!!\n",
      "52.0 percentage done !!!\n",
      "53.0 percentage done !!!\n",
      "54.0 percentage done !!!\n",
      "55.0 percentage done !!!\n",
      "56.0 percentage done !!!\n",
      "57.0 percentage done !!!\n",
      "58.0 percentage done !!!\n",
      "59.0 percentage done !!!\n",
      "60.0 percentage done !!!\n",
      "61.0 percentage done !!!\n",
      "62.0 percentage done !!!\n",
      "63.0 percentage done !!!\n",
      "64.0 percentage done !!!\n",
      "65.0 percentage done !!!\n",
      "66.0 percentage done !!!\n",
      "67.0 percentage done !!!\n",
      "68.0 percentage done !!!\n",
      "69.0 percentage done !!!\n",
      "70.0 percentage done !!!\n",
      "71.0 percentage done !!!\n",
      "72.0 percentage done !!!\n",
      "73.0 percentage done !!!\n",
      "74.0 percentage done !!!\n",
      "75.0 percentage done !!!\n",
      "76.0 percentage done !!!\n",
      "77.0 percentage done !!!\n",
      "78.0 percentage done !!!\n",
      "79.0 percentage done !!!\n",
      "80.0 percentage done !!!\n",
      "81.0 percentage done !!!\n",
      "82.0 percentage done !!!\n",
      "83.0 percentage done !!!\n",
      "84.0 percentage done !!!\n",
      "85.0 percentage done !!!\n",
      "86.0 percentage done !!!\n",
      "87.0 percentage done !!!\n",
      "88.0 percentage done !!!\n",
      "89.0 percentage done !!!\n",
      "90.0 percentage done !!!\n",
      "91.0 percentage done !!!\n",
      "92.0 percentage done !!!\n",
      "93.0 percentage done !!!\n",
      "94.0 percentage done !!!\n",
      "95.0 percentage done !!!\n",
      "96.0 percentage done !!!\n",
      "97.0 percentage done !!!\n",
      "98.0 percentage done !!!\n",
      "99.0 percentage done !!!\n",
      "time: 18min 26s\n"
     ]
    },
    {
     "name": "stderr",
     "output_type": "stream",
     "text": [
      "/Users/Pradap/Documents/Research/Python-Package/enrique/magellan/blocker/overlap_blocker.py:105: SettingWithCopyWarning: \n",
      "A value is trying to be set on a copy of a slice from a DataFrame.\n",
      "Try using .loc[row_indexer,col_indexer] = value instead\n",
      "\n",
      "See the the caveats in the documentation: http://pandas.pydata.org/pandas-docs/stable/indexing.html#indexing-view-versus-copy\n",
      "  l_rows_dict['dummy'] = 1\n"
     ]
    }
   ],
   "source": [
    "C = ob.block_tables(wal, bwk, 'binding', 'binding', overlap_size=2)"
   ]
  }
 ],
 "metadata": {
  "kernelspec": {
   "display_name": "Python 2",
   "language": "python",
   "name": "python2"
  },
  "language_info": {
   "codemirror_mode": {
    "name": "ipython",
    "version": 2
   },
   "file_extension": ".py",
   "mimetype": "text/x-python",
   "name": "python",
   "nbconvert_exporter": "python",
   "pygments_lexer": "ipython2",
   "version": "2.7.10"
  }
 },
 "nbformat": 4,
 "nbformat_minor": 0
}
