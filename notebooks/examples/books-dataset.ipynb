{
 "cells": [
  {
   "cell_type": "code",
   "execution_count": 2,
   "metadata": {
    "collapsed": false
   },
   "outputs": [],
   "source": [
    "%load_ext autotime"
   ]
  },
  {
   "cell_type": "code",
   "execution_count": 3,
   "metadata": {
    "collapsed": false
   },
   "outputs": [
    {
     "name": "stdout",
     "output_type": "stream",
     "text": [
      "time: 1.16 ms\n"
     ]
    }
   ],
   "source": [
    "import sys\n",
    "sys.path.append('/Users/Pradap/Documents/Research/Python-Package/enrique/')"
   ]
  },
  {
   "cell_type": "code",
   "execution_count": 4,
   "metadata": {
    "collapsed": false
   },
   "outputs": [
    {
     "name": "stderr",
     "output_type": "stream",
     "text": [
      "DEBUG:Cloud:Log file (/Users/pradap/.picloud/cloud.log) opened\n"
     ]
    },
    {
     "name": "stdout",
     "output_type": "stream",
     "text": [
      "time: 702 ms\n"
     ]
    }
   ],
   "source": [
    "import magellan as mg\n",
    "import pandas as pd"
   ]
  },
  {
   "cell_type": "code",
   "execution_count": 5,
   "metadata": {
    "collapsed": false
   },
   "outputs": [
    {
     "data": {
      "text/plain": [
       "True"
      ]
     },
     "execution_count": 5,
     "metadata": {},
     "output_type": "execute_result"
    },
    {
     "name": "stdout",
     "output_type": "stream",
     "text": [
      "time: 145 ms\n"
     ]
    }
   ],
   "source": [
    "mg.init_jvm('/Library/Java/JavaVirtualMachines/jdk1.8.0_45.jdk/Contents/Home/jre/lib/server/libjvm.dylib')"
   ]
  },
  {
   "cell_type": "code",
   "execution_count": 6,
   "metadata": {
    "collapsed": false
   },
   "outputs": [
    {
     "name": "stdout",
     "output_type": "stream",
     "text": [
      "time: 1.19 s\n"
     ]
    }
   ],
   "source": [
    "# read walmart dataset\n",
    "wal =  mg.read_csv(mg.get_install_path() + '/datasets/books/walmart.csv', \n",
    "                    dtype={'isbn':pd.np.str, 'pages':pd.np.str, 'volume':pd.np.str, 'editionNum':pd.np.str},  \n",
    "                    low_memory=False, key='id')"
   ]
  },
  {
   "cell_type": "code",
   "execution_count": 7,
   "metadata": {
    "collapsed": false
   },
   "outputs": [
    {
     "name": "stdout",
     "output_type": "stream",
     "text": [
      "time: 88.3 ms\n"
     ]
    }
   ],
   "source": [
    "bwk = mg.read_csv(mg.get_install_path() + '/datasets/books/bowker.csv', \n",
    "                  dtype={'isbn':pd.np.str, 'pages':pd.np.str, 'volume':pd.np.str, 'editionNum':pd.np.str},  \n",
    "                  low_memory=False, key='id')"
   ]
  },
  {
   "cell_type": "code",
   "execution_count": 8,
   "metadata": {
    "collapsed": false
   },
   "outputs": [
    {
     "data": {
      "text/plain": [
       "['id',\n",
       " 'title',\n",
       " 'author',\n",
       " 'numAuthors',\n",
       " 'binding',\n",
       " 'publisher',\n",
       " 'isbn',\n",
       " 'pubYear',\n",
       " 'pubMonth',\n",
       " 'pubDay',\n",
       " 'editionNum',\n",
       " 'pages',\n",
       " 'volume',\n",
       " 'lang',\n",
       " 'editionDescr',\n",
       " 'series',\n",
       " 'upc']"
      ]
     },
     "execution_count": 8,
     "metadata": {},
     "output_type": "execute_result"
    },
    {
     "name": "stdout",
     "output_type": "stream",
     "text": [
      "time: 2.52 ms\n"
     ]
    }
   ],
   "source": [
    "bwk.get_attr_names()"
   ]
  },
  {
   "cell_type": "code",
   "execution_count": 9,
   "metadata": {
    "collapsed": false
   },
   "outputs": [
    {
     "name": "stdout",
     "output_type": "stream",
     "text": [
      "time: 1min 22s\n"
     ]
    }
   ],
   "source": [
    "ab = mg.AttrEquivalenceBlocker()\n",
    "C = ab.block_tables(wal, bwk, 'publisher', 'publisher', ['title', 'author'], \n",
    "                   ['title', 'author'])"
   ]
  },
  {
   "cell_type": "code",
   "execution_count": 10,
   "metadata": {
    "collapsed": false
   },
   "outputs": [
    {
     "data": {
      "text/plain": [
       "18723218"
      ]
     },
     "execution_count": 10,
     "metadata": {},
     "output_type": "execute_result"
    },
    {
     "name": "stdout",
     "output_type": "stream",
     "text": [
      "time: 6.1 ms\n"
     ]
    }
   ],
   "source": [
    "len(C)"
   ]
  },
  {
   "cell_type": "code",
   "execution_count": 11,
   "metadata": {
    "collapsed": false
   },
   "outputs": [
    {
     "name": "stderr",
     "output_type": "stream",
     "text": [
      "WARNING:magellan.feature.autofeaturegen:editionNum type and editionNum type are different\n",
      "WARNING:magellan.feature.autofeaturegen:pages type and pages type are different\n",
      "WARNING:magellan.feature.autofeaturegen:volume type and volume type are different\n"
     ]
    },
    {
     "name": "stdout",
     "output_type": "stream",
     "text": [
      "time: 8.52 s\n"
     ]
    }
   ],
   "source": [
    "feat_table = mg.get_features_for_blocking(wal, bwk)"
   ]
  },
  {
   "cell_type": "code",
   "execution_count": 12,
   "metadata": {
    "collapsed": false
   },
   "outputs": [
    {
     "data": {
      "text/plain": [
       "True"
      ]
     },
     "execution_count": 12,
     "metadata": {},
     "output_type": "execute_result"
    },
    {
     "name": "stdout",
     "output_type": "stream",
     "text": [
      "time: 2.7 ms\n"
     ]
    }
   ],
   "source": [
    "rb = mg.RuleBasedBlocker()\n",
    "rb.add_rule('title_title_jac_qgm_3_qgm_3(ltuple, ltuple) < 0.8', feat_table)"
   ]
  },
  {
   "cell_type": "code",
   "execution_count": 13,
   "metadata": {
    "collapsed": false
   },
   "outputs": [
    {
     "name": "stdout",
     "output_type": "stream",
     "text": [
      "time: 756 µs\n"
     ]
    }
   ],
   "source": [
    "#D = rb.block_candset(C, verbose=True, percent=0.01)"
   ]
  },
  {
   "cell_type": "code",
   "execution_count": 15,
   "metadata": {
    "collapsed": false
   },
   "outputs": [
    {
     "name": "stdout",
     "output_type": "stream",
     "text": [
      "time: 1.25 ms\n"
     ]
    }
   ],
   "source": [
    "a = C.ix[1]"
   ]
  },
  {
   "cell_type": "code",
   "execution_count": 23,
   "metadata": {
    "collapsed": false
   },
   "outputs": [
    {
     "name": "stdout",
     "output_type": "stream",
     "text": [
      "time: 1.01 ms\n"
     ]
    }
   ],
   "source": [
    "import numpy as np"
   ]
  },
  {
   "cell_type": "code",
   "execution_count": 25,
   "metadata": {
    "collapsed": false
   },
   "outputs": [
    {
     "name": "stdout",
     "output_type": "stream",
     "text": [
      "time: 197 ms\n"
     ]
    }
   ],
   "source": [
    "C['dummy'] = np.arange(0, len(C))"
   ]
  },
  {
   "cell_type": "code",
   "execution_count": 19,
   "metadata": {
    "collapsed": false
   },
   "outputs": [
    {
     "name": "stdout",
     "output_type": "stream",
     "text": [
      "time: 280 ms\n"
     ]
    }
   ],
   "source": [
    "l_df = C.get_property('ltable').to_dataframe()\n",
    "r_df = C.get_property('rtable').to_dataframe()\n",
    "    "
   ]
  },
  {
   "cell_type": "code",
   "execution_count": 20,
   "metadata": {
    "collapsed": false
   },
   "outputs": [
    {
     "name": "stdout",
     "output_type": "stream",
     "text": [
      "time: 3.46 ms\n"
     ]
    }
   ],
   "source": [
    "l_df.set_index('id', inplace=True)\n",
    "r_df.set_index('id', inplace=True)"
   ]
  },
  {
   "cell_type": "code",
   "execution_count": 26,
   "metadata": {
    "collapsed": false
   },
   "outputs": [
    {
     "name": "stdout",
     "output_type": "stream",
     "text": [
      "time: 3.76 ms\n"
     ]
    }
   ],
   "source": [
    "def fn(t, fk_l, fk_r, ltable, rtable):\n",
    "    l = t[fk_l]\n",
    "    r = t[fk_r]\n",
    "    c = float(t['dummy'])\n",
    "    if c%10000 == 0:\n",
    "        print c\n",
    "    return rb.apply_rules(ltable.ix[l], rtable.ix[r])\n",
    "\n",
    "    "
   ]
  },
  {
   "cell_type": "code",
   "execution_count": null,
   "metadata": {
    "collapsed": false
   },
   "outputs": [
    {
     "name": "stdout",
     "output_type": "stream",
     "text": [
      "0.0\n",
      "10000.0\n",
      "20000.0"
     ]
    }
   ],
   "source": [
    "fk_l = C.get_property('foreign_key_ltable')\n",
    "fk_r = C.get_property('foreign_key_rtable')\n",
    "\n",
    "pp = C.apply(fn, axis=1, args=(fk_l, fk_r, l_df, r_df ))"
   ]
  }
 ],
 "metadata": {
  "kernelspec": {
   "display_name": "Python 2",
   "language": "python",
   "name": "python2"
  },
  "language_info": {
   "codemirror_mode": {
    "name": "ipython",
    "version": 2
   },
   "file_extension": ".py",
   "mimetype": "text/x-python",
   "name": "python",
   "nbconvert_exporter": "python",
   "pygments_lexer": "ipython2",
   "version": "2.7.10"
  }
 },
 "nbformat": 4,
 "nbformat_minor": 0
}
