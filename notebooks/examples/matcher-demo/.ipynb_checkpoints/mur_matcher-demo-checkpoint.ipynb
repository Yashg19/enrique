{
 "cells": [
  {
   "cell_type": "code",
   "execution_count": 2,
   "metadata": {
    "collapsed": false
   },
   "outputs": [],
   "source": [
    "import magellan as mg"
   ]
  },
  {
   "cell_type": "code",
   "execution_count": 33,
   "metadata": {
    "collapsed": false
   },
   "outputs": [
    {
     "data": {
      "text/plain": [
       "True"
      ]
     },
     "execution_count": 33,
     "metadata": {},
     "output_type": "execute_result"
    }
   ],
   "source": [
    "mg.init_jvm()"
   ]
  },
  {
   "cell_type": "code",
   "execution_count": 4,
   "metadata": {
    "collapsed": true
   },
   "outputs": [],
   "source": [
    "# read tables\n",
    "A = mg.read_csv('DBLP.csv', key='id')\n",
    "B = mg.read_csv('ACM.csv', key='id')"
   ]
  },
  {
   "cell_type": "code",
   "execution_count": 5,
   "metadata": {
    "collapsed": false
   },
   "outputs": [
    {
     "data": {
      "text/html": [
       "<div>\n",
       "<table border=\"1\" class=\"dataframe\">\n",
       "  <thead>\n",
       "    <tr style=\"text-align: right;\">\n",
       "      <th></th>\n",
       "      <th>id</th>\n",
       "      <th>title</th>\n",
       "      <th>authors</th>\n",
       "      <th>venue</th>\n",
       "      <th>year</th>\n",
       "    </tr>\n",
       "  </thead>\n",
       "  <tbody>\n",
       "    <tr>\n",
       "      <th>0</th>\n",
       "      <td>journals/sigmod/Mackay99</td>\n",
       "      <td>Semantic Integration of Environmental Models f...</td>\n",
       "      <td>D. Scott Mackay</td>\n",
       "      <td>SIGMOD Record</td>\n",
       "      <td>1999</td>\n",
       "    </tr>\n",
       "    <tr>\n",
       "      <th>1</th>\n",
       "      <td>conf/vldb/PoosalaI96</td>\n",
       "      <td>Estimation of Query-Result Distribution and it...</td>\n",
       "      <td>Viswanath Poosala, Yannis E. Ioannidis</td>\n",
       "      <td>VLDB</td>\n",
       "      <td>1996</td>\n",
       "    </tr>\n",
       "  </tbody>\n",
       "</table>\n",
       "</div>"
      ],
      "text/plain": [
       "                         id  \\\n",
       "0  journals/sigmod/Mackay99   \n",
       "1      conf/vldb/PoosalaI96   \n",
       "\n",
       "                                               title  \\\n",
       "0  Semantic Integration of Environmental Models f...   \n",
       "1  Estimation of Query-Result Distribution and it...   \n",
       "\n",
       "                                  authors          venue  year  \n",
       "0                         D. Scott Mackay  SIGMOD Record  1999  \n",
       "1  Viswanath Poosala, Yannis E. Ioannidis           VLDB  1996  "
      ]
     },
     "execution_count": 5,
     "metadata": {},
     "output_type": "execute_result"
    }
   ],
   "source": [
    "A.head(2)"
   ]
  },
  {
   "cell_type": "code",
   "execution_count": 6,
   "metadata": {
    "collapsed": false
   },
   "outputs": [
    {
     "data": {
      "text/html": [
       "<div>\n",
       "<table border=\"1\" class=\"dataframe\">\n",
       "  <thead>\n",
       "    <tr style=\"text-align: right;\">\n",
       "      <th></th>\n",
       "      <th>id</th>\n",
       "      <th>title</th>\n",
       "      <th>authors</th>\n",
       "      <th>venue</th>\n",
       "      <th>year</th>\n",
       "    </tr>\n",
       "  </thead>\n",
       "  <tbody>\n",
       "    <tr>\n",
       "      <th>0</th>\n",
       "      <td>304586</td>\n",
       "      <td>The WASA2 object-oriented workflow management ...</td>\n",
       "      <td>Gottfried Vossen, Mathias Weske</td>\n",
       "      <td>International Conference on Management of Data</td>\n",
       "      <td>1999</td>\n",
       "    </tr>\n",
       "    <tr>\n",
       "      <th>1</th>\n",
       "      <td>304587</td>\n",
       "      <td>A user-centered interface for querying distrib...</td>\n",
       "      <td>Isabel F. Cruz, Kimberly M. James</td>\n",
       "      <td>International Conference on Management of Data</td>\n",
       "      <td>1999</td>\n",
       "    </tr>\n",
       "  </tbody>\n",
       "</table>\n",
       "</div>"
      ],
      "text/plain": [
       "       id                                              title  \\\n",
       "0  304586  The WASA2 object-oriented workflow management ...   \n",
       "1  304587  A user-centered interface for querying distrib...   \n",
       "\n",
       "                             authors  \\\n",
       "0    Gottfried Vossen, Mathias Weske   \n",
       "1  Isabel F. Cruz, Kimberly M. James   \n",
       "\n",
       "                                            venue  year  \n",
       "0  International Conference on Management of Data  1999  \n",
       "1  International Conference on Management of Data  1999  "
      ]
     },
     "execution_count": 6,
     "metadata": {},
     "output_type": "execute_result"
    }
   ],
   "source": [
    "B.head(2)"
   ]
  },
  {
   "cell_type": "code",
   "execution_count": 12,
   "metadata": {
    "collapsed": false
   },
   "outputs": [
    {
     "data": {
      "text/plain": [
       "62392"
      ]
     },
     "execution_count": 12,
     "metadata": {},
     "output_type": "execute_result"
    }
   ],
   "source": [
    "# Blocking - already done and stored as tableC.csv\n",
    "C = mg.read_csv('tableC.csv', ltable=A, rtable=B)\n",
    "len(C)"
   ]
  },
  {
   "cell_type": "code",
   "execution_count": 13,
   "metadata": {
    "collapsed": true
   },
   "outputs": [],
   "source": [
    "#plan\n",
    "\n",
    "# 1. sample candidate set --> S\n",
    "# 2. label S --> G\n",
    "# 3. Split G into development I, and evaluation set J\n",
    "# 4. Select best matcher Y, using I \n",
    "# 5. Add triggers to Y ---> Z\n",
    "# 6. Evaluate Z using J"
   ]
  },
  {
   "cell_type": "code",
   "execution_count": 14,
   "metadata": {
    "collapsed": true
   },
   "outputs": [],
   "source": [
    "# Sample the candidate set\n",
    "S = mg.sample_table(C, 450)"
   ]
  },
  {
   "cell_type": "code",
   "execution_count": 15,
   "metadata": {
    "collapsed": false
   },
   "outputs": [
    {
     "name": "stdout",
     "output_type": "stream",
     "text": [
      "Help on function sample_table in module magellan.sampler.sampler:\n",
      "\n",
      "sample_table(table, size, replace=False)\n",
      "    Sample MTable\n",
      "    \n",
      "    Parameters\n",
      "    ----------\n",
      "    table : MTable, input table to be sampled\n",
      "    size : int, number of samples\n",
      "    replace : boolean, whether sampling should be done with replacement.\n",
      "            By default, it is set to False.\n",
      "    \n",
      "    Returns\n",
      "    -------\n",
      "    sampled_table: MTable, sampled table\n",
      "\n"
     ]
    }
   ],
   "source": [
    "help(mg.sample_table)"
   ]
  },
  {
   "cell_type": "code",
   "execution_count": 17,
   "metadata": {
    "collapsed": false
   },
   "outputs": [],
   "source": [
    "# Label S\n",
    "G = mg.label_table(S, 'gold')"
   ]
  },
  {
   "cell_type": "code",
   "execution_count": 19,
   "metadata": {
    "collapsed": false
   },
   "outputs": [
    {
     "data": {
      "text/plain": [
       "415"
      ]
     },
     "execution_count": 19,
     "metadata": {},
     "output_type": "execute_result"
    }
   ],
   "source": [
    "# For the demo, use pre-labeled data\n",
    "G = mg.read_csv('dblp_acm_demo_labels.csv', ltable=A, rtable=B)\n",
    "len(G)"
   ]
  },
  {
   "cell_type": "code",
   "execution_count": 21,
   "metadata": {
    "collapsed": false
   },
   "outputs": [],
   "source": [
    "# Split G into development (I) and evaluation (J)\n",
    "IJ = mg.train_test_split(G, train_proportion=0.7)\n",
    "I = IJ['train']\n",
    "J = IJ['test']"
   ]
  },
  {
   "cell_type": "code",
   "execution_count": 22,
   "metadata": {
    "collapsed": false
   },
   "outputs": [
    {
     "data": {
      "text/plain": [
       "(290, 125)"
      ]
     },
     "execution_count": 22,
     "metadata": {},
     "output_type": "execute_result"
    }
   ],
   "source": [
    "# check the number of tuples in I and J\n",
    "(len(I), len(J))"
   ]
  },
  {
   "cell_type": "code",
   "execution_count": 23,
   "metadata": {
    "collapsed": true
   },
   "outputs": [],
   "source": [
    "# Selecting the best learning-based matcher\n",
    "\n",
    "# Plan \n",
    "\n",
    "# 1. Create a set of ML-matchers\n",
    "# 2. Generate features --> feature_table\n",
    "# 3. Extract features using I and feature_table\n",
    "# 4. Select best learning-based matcher using CV\n",
    "# 5. Debug the selected matcher (and repeat the above steps)"
   ]
  },
  {
   "cell_type": "code",
   "execution_count": 24,
   "metadata": {
    "collapsed": true
   },
   "outputs": [],
   "source": [
    "# Create a set of ML-matchers\n",
    "dt = mg.DTMatcher(name='DecisionTree', random_state=0)\n",
    "svm = mg.SVMMatcher()\n",
    "rf = mg.RFMatcher(name='RF', random_state=0)\n",
    "nb = mg.NBMatcher(name='NB')\n",
    "lg = mg.LogRegMatcher(name='LogReg')\n",
    "ln = mg.LinRegMatcher(name='LinReg')"
   ]
  },
  {
   "cell_type": "code",
   "execution_count": 26,
   "metadata": {
    "collapsed": false
   },
   "outputs": [
    {
     "data": {
      "text/plain": [
       "('DecisionTree', 'SVM_61404945757743776441')"
      ]
     },
     "execution_count": 26,
     "metadata": {},
     "output_type": "execute_result"
    }
   ],
   "source": [
    "# check names of the matchers\n",
    "(dt.name, svm.name)"
   ]
  },
  {
   "cell_type": "code",
   "execution_count": 27,
   "metadata": {
    "collapsed": false
   },
   "outputs": [
    {
     "name": "stderr",
     "output_type": "stream",
     "text": [
      "WARNING:magellan.feature.autofeaturegen:Magellan types: id type (str_eq_1w) and id type (numeric) are different.If you want to set them to be same and generate features, update output from get_attr_types and use get_features command.\n",
      "\n",
      "WARNING:magellan.feature.autofeaturegen:Magellan types: venue type (str_bt_1w_5w) and venue type (str_bt_5w_10w) are different.If you want to set them to be same and generate features, update output from get_attr_types and use get_features command.\n",
      "\n"
     ]
    }
   ],
   "source": [
    "# Generate features\n",
    "feat_table = mg.get_features_for_matching(A, B)"
   ]
  },
  {
   "cell_type": "code",
   "execution_count": 67,
   "metadata": {
    "collapsed": false
   },
   "outputs": [
    {
     "data": {
      "text/plain": [
       "{'abs_norm': <function magellan.feature.simfunctions.abs_norm>,\n",
       " 'cosine': <function magellan.feature.simfunctions.cosine>,\n",
       " 'exact_match': <function magellan.feature.simfunctions.exact_match>,\n",
       " 'jaccard': <function magellan.feature.simfunctions.jaccard>,\n",
       " 'jaro': <function magellan.feature.simfunctions.jaro>,\n",
       " 'jaro_winkler': <function magellan.feature.simfunctions.jaro_winkler>,\n",
       " 'lev': <function magellan.feature.simfunctions.lev>,\n",
       " 'monge_elkan': <function magellan.feature.simfunctions.monge_elkan>,\n",
       " 'needleman_wunsch': <function magellan.feature.simfunctions.needleman_wunsch>,\n",
       " 'rel_diff': <function magellan.feature.simfunctions.rel_diff>,\n",
       " 'smith_waterman': <function magellan.feature.simfunctions.smith_waterman>,\n",
       " 'smith_waterman_gotoh': <function magellan.feature.simfunctions.smith_waterman_gotoh>,\n",
       " 'soundex': <function magellan.feature.simfunctions.soundex>}"
      ]
     },
     "execution_count": 67,
     "metadata": {},
     "output_type": "execute_result"
    }
   ],
   "source": [
    "mg._match_s"
   ]
  },
  {
   "cell_type": "code",
   "execution_count": 69,
   "metadata": {
    "collapsed": false
   },
   "outputs": [
    {
     "data": {
      "text/plain": [
       "{'dlm_dc0': <function magellan.feature.tokenizers.tok_delim>,\n",
       " 'qgm_2': <function magellan.feature.tokenizers.tok_qgram>,\n",
       " 'qgm_3': <function magellan.feature.tokenizers.tok_qgram>}"
      ]
     },
     "execution_count": 69,
     "metadata": {},
     "output_type": "execute_result"
    }
   ],
   "source": [
    "mg._match_t"
   ]
  },
  {
   "cell_type": "code",
   "execution_count": 68,
   "metadata": {
    "collapsed": false
   },
   "outputs": [
    {
     "data": {
      "text/plain": [
       "[('id', 'id'),\n",
       " ('title', 'title'),\n",
       " ('authors', 'authors'),\n",
       " ('venue', 'venue'),\n",
       " ('year', 'year')]"
      ]
     },
     "execution_count": 68,
     "metadata": {},
     "output_type": "execute_result"
    }
   ],
   "source": [
    "mg._match_c['corres']"
   ]
  },
  {
   "cell_type": "code",
   "execution_count": 28,
   "metadata": {
    "collapsed": false
   },
   "outputs": [
    {
     "data": {
      "text/html": [
       "<div>\n",
       "<table border=\"1\" class=\"dataframe\">\n",
       "  <thead>\n",
       "    <tr style=\"text-align: right;\">\n",
       "      <th></th>\n",
       "      <th>feature_name</th>\n",
       "      <th>left_attribute</th>\n",
       "      <th>right_attribute</th>\n",
       "      <th>left_attr_tokenizer</th>\n",
       "      <th>right_attr_tokenizer</th>\n",
       "      <th>simfunction</th>\n",
       "      <th>function</th>\n",
       "      <th>function_source</th>\n",
       "    </tr>\n",
       "  </thead>\n",
       "  <tbody>\n",
       "    <tr>\n",
       "      <th>0</th>\n",
       "      <td>title_title_jac_qgm_3_qgm_3</td>\n",
       "      <td>title</td>\n",
       "      <td>title</td>\n",
       "      <td>qgm_3</td>\n",
       "      <td>qgm_3</td>\n",
       "      <td>jaccard</td>\n",
       "      <td>&lt;function title_title_jac_qgm_3_qgm_3 at 0x118...</td>\n",
       "      <td>from magellan.feature.simfunctions import *\\nf...</td>\n",
       "    </tr>\n",
       "    <tr>\n",
       "      <th>1</th>\n",
       "      <td>title_title_cos_dlm_dc0_dlm_dc0</td>\n",
       "      <td>title</td>\n",
       "      <td>title</td>\n",
       "      <td>dlm_dc0</td>\n",
       "      <td>dlm_dc0</td>\n",
       "      <td>cosine</td>\n",
       "      <td>&lt;function title_title_cos_dlm_dc0_dlm_dc0 at 0...</td>\n",
       "      <td>from magellan.feature.simfunctions import *\\nf...</td>\n",
       "    </tr>\n",
       "    <tr>\n",
       "      <th>2</th>\n",
       "      <td>title_title_mel</td>\n",
       "      <td>title</td>\n",
       "      <td>title</td>\n",
       "      <td>None</td>\n",
       "      <td>None</td>\n",
       "      <td>monge_elkan</td>\n",
       "      <td>&lt;function title_title_mel at 0x1187acde8&gt;</td>\n",
       "      <td>from magellan.feature.simfunctions import *\\nf...</td>\n",
       "    </tr>\n",
       "    <tr>\n",
       "      <th>3</th>\n",
       "      <td>title_title_lev</td>\n",
       "      <td>title</td>\n",
       "      <td>title</td>\n",
       "      <td>None</td>\n",
       "      <td>None</td>\n",
       "      <td>lev</td>\n",
       "      <td>&lt;function title_title_lev at 0x1187acf50&gt;</td>\n",
       "      <td>from magellan.feature.simfunctions import *\\nf...</td>\n",
       "    </tr>\n",
       "    <tr>\n",
       "      <th>4</th>\n",
       "      <td>authors_authors_jac_qgm_3_qgm_3</td>\n",
       "      <td>authors</td>\n",
       "      <td>authors</td>\n",
       "      <td>qgm_3</td>\n",
       "      <td>qgm_3</td>\n",
       "      <td>jaccard</td>\n",
       "      <td>&lt;function authors_authors_jac_qgm_3_qgm_3 at 0...</td>\n",
       "      <td>from magellan.feature.simfunctions import *\\nf...</td>\n",
       "    </tr>\n",
       "    <tr>\n",
       "      <th>5</th>\n",
       "      <td>authors_authors_cos_dlm_dc0_dlm_dc0</td>\n",
       "      <td>authors</td>\n",
       "      <td>authors</td>\n",
       "      <td>dlm_dc0</td>\n",
       "      <td>dlm_dc0</td>\n",
       "      <td>cosine</td>\n",
       "      <td>&lt;function authors_authors_cos_dlm_dc0_dlm_dc0 ...</td>\n",
       "      <td>from magellan.feature.simfunctions import *\\nf...</td>\n",
       "    </tr>\n",
       "    <tr>\n",
       "      <th>6</th>\n",
       "      <td>authors_authors_mel</td>\n",
       "      <td>authors</td>\n",
       "      <td>authors</td>\n",
       "      <td>None</td>\n",
       "      <td>None</td>\n",
       "      <td>monge_elkan</td>\n",
       "      <td>&lt;function authors_authors_mel at 0x1187acb18&gt;</td>\n",
       "      <td>from magellan.feature.simfunctions import *\\nf...</td>\n",
       "    </tr>\n",
       "    <tr>\n",
       "      <th>7</th>\n",
       "      <td>authors_authors_lev</td>\n",
       "      <td>authors</td>\n",
       "      <td>authors</td>\n",
       "      <td>None</td>\n",
       "      <td>None</td>\n",
       "      <td>lev</td>\n",
       "      <td>&lt;function authors_authors_lev at 0x1187acaa0&gt;</td>\n",
       "      <td>from magellan.feature.simfunctions import *\\nf...</td>\n",
       "    </tr>\n",
       "    <tr>\n",
       "      <th>8</th>\n",
       "      <td>year_year_exm</td>\n",
       "      <td>year</td>\n",
       "      <td>year</td>\n",
       "      <td>None</td>\n",
       "      <td>None</td>\n",
       "      <td>exact_match</td>\n",
       "      <td>&lt;function year_year_exm at 0x1187aca28&gt;</td>\n",
       "      <td>from magellan.feature.simfunctions import *\\nf...</td>\n",
       "    </tr>\n",
       "    <tr>\n",
       "      <th>9</th>\n",
       "      <td>year_year_anm</td>\n",
       "      <td>year</td>\n",
       "      <td>year</td>\n",
       "      <td>None</td>\n",
       "      <td>None</td>\n",
       "      <td>abs_norm</td>\n",
       "      <td>&lt;function year_year_anm at 0x1187ac938&gt;</td>\n",
       "      <td>from magellan.feature.simfunctions import *\\nf...</td>\n",
       "    </tr>\n",
       "    <tr>\n",
       "      <th>10</th>\n",
       "      <td>year_year_lev</td>\n",
       "      <td>year</td>\n",
       "      <td>year</td>\n",
       "      <td>None</td>\n",
       "      <td>None</td>\n",
       "      <td>lev</td>\n",
       "      <td>&lt;function year_year_lev at 0x118829b90&gt;</td>\n",
       "      <td>from magellan.feature.simfunctions import *\\nf...</td>\n",
       "    </tr>\n",
       "  </tbody>\n",
       "</table>\n",
       "</div>"
      ],
      "text/plain": [
       "                           feature_name left_attribute right_attribute  \\\n",
       "0           title_title_jac_qgm_3_qgm_3          title           title   \n",
       "1       title_title_cos_dlm_dc0_dlm_dc0          title           title   \n",
       "2                       title_title_mel          title           title   \n",
       "3                       title_title_lev          title           title   \n",
       "4       authors_authors_jac_qgm_3_qgm_3        authors         authors   \n",
       "5   authors_authors_cos_dlm_dc0_dlm_dc0        authors         authors   \n",
       "6                   authors_authors_mel        authors         authors   \n",
       "7                   authors_authors_lev        authors         authors   \n",
       "8                         year_year_exm           year            year   \n",
       "9                         year_year_anm           year            year   \n",
       "10                        year_year_lev           year            year   \n",
       "\n",
       "   left_attr_tokenizer right_attr_tokenizer  simfunction  \\\n",
       "0                qgm_3                qgm_3      jaccard   \n",
       "1              dlm_dc0              dlm_dc0       cosine   \n",
       "2                 None                 None  monge_elkan   \n",
       "3                 None                 None          lev   \n",
       "4                qgm_3                qgm_3      jaccard   \n",
       "5              dlm_dc0              dlm_dc0       cosine   \n",
       "6                 None                 None  monge_elkan   \n",
       "7                 None                 None          lev   \n",
       "8                 None                 None  exact_match   \n",
       "9                 None                 None     abs_norm   \n",
       "10                None                 None          lev   \n",
       "\n",
       "                                             function  \\\n",
       "0   <function title_title_jac_qgm_3_qgm_3 at 0x118...   \n",
       "1   <function title_title_cos_dlm_dc0_dlm_dc0 at 0...   \n",
       "2           <function title_title_mel at 0x1187acde8>   \n",
       "3           <function title_title_lev at 0x1187acf50>   \n",
       "4   <function authors_authors_jac_qgm_3_qgm_3 at 0...   \n",
       "5   <function authors_authors_cos_dlm_dc0_dlm_dc0 ...   \n",
       "6       <function authors_authors_mel at 0x1187acb18>   \n",
       "7       <function authors_authors_lev at 0x1187acaa0>   \n",
       "8             <function year_year_exm at 0x1187aca28>   \n",
       "9             <function year_year_anm at 0x1187ac938>   \n",
       "10            <function year_year_lev at 0x118829b90>   \n",
       "\n",
       "                                      function_source  \n",
       "0   from magellan.feature.simfunctions import *\\nf...  \n",
       "1   from magellan.feature.simfunctions import *\\nf...  \n",
       "2   from magellan.feature.simfunctions import *\\nf...  \n",
       "3   from magellan.feature.simfunctions import *\\nf...  \n",
       "4   from magellan.feature.simfunctions import *\\nf...  \n",
       "5   from magellan.feature.simfunctions import *\\nf...  \n",
       "6   from magellan.feature.simfunctions import *\\nf...  \n",
       "7   from magellan.feature.simfunctions import *\\nf...  \n",
       "8   from magellan.feature.simfunctions import *\\nf...  \n",
       "9   from magellan.feature.simfunctions import *\\nf...  \n",
       "10  from magellan.feature.simfunctions import *\\nf...  "
      ]
     },
     "execution_count": 28,
     "metadata": {},
     "output_type": "execute_result"
    }
   ],
   "source": [
    "feat_table"
   ]
  },
  {
   "cell_type": "code",
   "execution_count": 29,
   "metadata": {
    "collapsed": true
   },
   "outputs": [],
   "source": [
    "# NOTE:\n",
    "# For the demo purposes, use only 'venue', 'year' related features to get best-learning matcher \n",
    "# and use 'title', 'author' related features to write triggers."
   ]
  },
  {
   "cell_type": "code",
   "execution_count": 36,
   "metadata": {
    "collapsed": true
   },
   "outputs": [],
   "source": [
    "# Select 'year' related features\n",
    "feat_subset_iter1 = feat_table[8:11]"
   ]
  },
  {
   "cell_type": "code",
   "execution_count": 37,
   "metadata": {
    "collapsed": false
   },
   "outputs": [],
   "source": [
    "# Get feature vectors\n",
    "H = mg.extract_feature_vecs(G, feature_table=feat_subset_iter1, attrs_after='gold')"
   ]
  },
  {
   "cell_type": "code",
   "execution_count": 38,
   "metadata": {
    "collapsed": false
   },
   "outputs": [
    {
     "data": {
      "text/html": [
       "<div>\n",
       "<table border=\"1\" class=\"dataframe\">\n",
       "  <thead>\n",
       "    <tr style=\"text-align: right;\">\n",
       "      <th></th>\n",
       "      <th>_id</th>\n",
       "      <th>ltable.id</th>\n",
       "      <th>rtable.id</th>\n",
       "      <th>year_year_exm</th>\n",
       "      <th>year_year_anm</th>\n",
       "      <th>year_year_lev</th>\n",
       "      <th>gold</th>\n",
       "    </tr>\n",
       "  </thead>\n",
       "  <tbody>\n",
       "    <tr>\n",
       "      <th>0</th>\n",
       "      <td>0</td>\n",
       "      <td>conf/sigmod/AbadiCCCCEGHMRSSTXYZ03</td>\n",
       "      <td>335476</td>\n",
       "      <td>0</td>\n",
       "      <td>0.998502</td>\n",
       "      <td>0.666667</td>\n",
       "      <td>0</td>\n",
       "    </tr>\n",
       "    <tr>\n",
       "      <th>1</th>\n",
       "      <td>1</td>\n",
       "      <td>conf/sigmod/AbadiCCCCEGHMRSSTXYZ03</td>\n",
       "      <td>672966</td>\n",
       "      <td>0</td>\n",
       "      <td>0.995507</td>\n",
       "      <td>0.000000</td>\n",
       "      <td>0</td>\n",
       "    </tr>\n",
       "    <tr>\n",
       "      <th>2</th>\n",
       "      <td>2</td>\n",
       "      <td>conf/sigmod/AcharyaAFZ95</td>\n",
       "      <td>223816</td>\n",
       "      <td>1</td>\n",
       "      <td>1.000000</td>\n",
       "      <td>0.666667</td>\n",
       "      <td>1</td>\n",
       "    </tr>\n",
       "    <tr>\n",
       "      <th>3</th>\n",
       "      <td>3</td>\n",
       "      <td>conf/sigmod/AdaliBSS98</td>\n",
       "      <td>673639</td>\n",
       "      <td>0</td>\n",
       "      <td>0.999499</td>\n",
       "      <td>0.500000</td>\n",
       "      <td>0</td>\n",
       "    </tr>\n",
       "    <tr>\n",
       "      <th>4</th>\n",
       "      <td>4</td>\n",
       "      <td>conf/sigmod/Adelberg98</td>\n",
       "      <td>276330</td>\n",
       "      <td>1</td>\n",
       "      <td>1.000000</td>\n",
       "      <td>0.666667</td>\n",
       "      <td>1</td>\n",
       "    </tr>\n",
       "  </tbody>\n",
       "</table>\n",
       "</div>"
      ],
      "text/plain": [
       "   _id                           ltable.id  rtable.id  year_year_exm  \\\n",
       "0    0  conf/sigmod/AbadiCCCCEGHMRSSTXYZ03     335476              0   \n",
       "1    1  conf/sigmod/AbadiCCCCEGHMRSSTXYZ03     672966              0   \n",
       "2    2            conf/sigmod/AcharyaAFZ95     223816              1   \n",
       "3    3              conf/sigmod/AdaliBSS98     673639              0   \n",
       "4    4              conf/sigmod/Adelberg98     276330              1   \n",
       "\n",
       "   year_year_anm  year_year_lev  gold  \n",
       "0       0.998502       0.666667     0  \n",
       "1       0.995507       0.000000     0  \n",
       "2       1.000000       0.666667     1  \n",
       "3       0.999499       0.500000     0  \n",
       "4       1.000000       0.666667     1  "
      ]
     },
     "execution_count": 38,
     "metadata": {},
     "output_type": "execute_result"
    }
   ],
   "source": [
    "H.head()"
   ]
  },
  {
   "cell_type": "code",
   "execution_count": 40,
   "metadata": {
    "collapsed": true
   },
   "outputs": [],
   "source": [
    "# impute H\n",
    "H.fillna(0, inplace=True)"
   ]
  },
  {
   "cell_type": "code",
   "execution_count": 57,
   "metadata": {
    "collapsed": false
   },
   "outputs": [],
   "source": [
    "# select the best ML matcher using CV\n",
    "result = mg.select_matcher([dt, rf, svm, nb, lg, ln], table=H, \n",
    "        exclude_attrs=['_id', 'ltable.id', 'rtable.id', 'gold'],\n",
    "        target_attr='gold', metric='precision') "
   ]
  },
  {
   "cell_type": "code",
   "execution_count": 58,
   "metadata": {
    "collapsed": false
   },
   "outputs": [
    {
     "data": {
      "text/plain": [
       "<magellan.matcher.nbmatcher.NBMatcher at 0x118404dd0>"
      ]
     },
     "execution_count": 58,
     "metadata": {},
     "output_type": "execute_result"
    }
   ],
   "source": [
    "result['selected_matcher']"
   ]
  },
  {
   "cell_type": "code",
   "execution_count": 59,
   "metadata": {
    "collapsed": false
   },
   "outputs": [
    {
     "data": {
      "text/html": [
       "<div>\n",
       "<table border=\"1\" class=\"dataframe\">\n",
       "  <thead>\n",
       "    <tr style=\"text-align: right;\">\n",
       "      <th></th>\n",
       "      <th>Name</th>\n",
       "      <th>Matcher</th>\n",
       "      <th>Num folds</th>\n",
       "      <th>Fold 1</th>\n",
       "      <th>Fold 2</th>\n",
       "      <th>Fold 3</th>\n",
       "      <th>Fold 4</th>\n",
       "      <th>Fold 5</th>\n",
       "      <th>Mean score</th>\n",
       "    </tr>\n",
       "  </thead>\n",
       "  <tbody>\n",
       "    <tr>\n",
       "      <th>0</th>\n",
       "      <td>DecisionTree</td>\n",
       "      <td>&lt;magellan.matcher.dtmatcher.DTMatcher object a...</td>\n",
       "      <td>5</td>\n",
       "      <td>0.793103</td>\n",
       "      <td>0.711864</td>\n",
       "      <td>0.650794</td>\n",
       "      <td>0.786885</td>\n",
       "      <td>0.830769</td>\n",
       "      <td>0.754683</td>\n",
       "    </tr>\n",
       "    <tr>\n",
       "      <th>1</th>\n",
       "      <td>RF</td>\n",
       "      <td>&lt;magellan.matcher.rfmatcher.RFMatcher object a...</td>\n",
       "      <td>5</td>\n",
       "      <td>0.677419</td>\n",
       "      <td>0.745455</td>\n",
       "      <td>0.718750</td>\n",
       "      <td>0.803030</td>\n",
       "      <td>0.830508</td>\n",
       "      <td>0.755033</td>\n",
       "    </tr>\n",
       "    <tr>\n",
       "      <th>2</th>\n",
       "      <td>SVM_61404945757743776441</td>\n",
       "      <td>&lt;magellan.matcher.svmmatcher.SVMMatcher object...</td>\n",
       "      <td>5</td>\n",
       "      <td>0.745763</td>\n",
       "      <td>0.818182</td>\n",
       "      <td>0.709677</td>\n",
       "      <td>0.688525</td>\n",
       "      <td>0.812500</td>\n",
       "      <td>0.754929</td>\n",
       "    </tr>\n",
       "    <tr>\n",
       "      <th>3</th>\n",
       "      <td>NB</td>\n",
       "      <td>&lt;magellan.matcher.nbmatcher.NBMatcher object a...</td>\n",
       "      <td>5</td>\n",
       "      <td>0.803571</td>\n",
       "      <td>0.737705</td>\n",
       "      <td>0.745763</td>\n",
       "      <td>0.790323</td>\n",
       "      <td>0.719298</td>\n",
       "      <td>0.759332</td>\n",
       "    </tr>\n",
       "    <tr>\n",
       "      <th>4</th>\n",
       "      <td>LogReg</td>\n",
       "      <td>&lt;magellan.matcher.logregmatcher.LogRegMatcher ...</td>\n",
       "      <td>5</td>\n",
       "      <td>0.732143</td>\n",
       "      <td>0.694915</td>\n",
       "      <td>0.813559</td>\n",
       "      <td>0.790323</td>\n",
       "      <td>0.762712</td>\n",
       "      <td>0.758730</td>\n",
       "    </tr>\n",
       "    <tr>\n",
       "      <th>5</th>\n",
       "      <td>LinReg</td>\n",
       "      <td>&lt;magellan.matcher.linregmatcher.LinRegMatcher ...</td>\n",
       "      <td>5</td>\n",
       "      <td>0.703125</td>\n",
       "      <td>0.770492</td>\n",
       "      <td>0.716667</td>\n",
       "      <td>0.770492</td>\n",
       "      <td>0.807018</td>\n",
       "      <td>0.753559</td>\n",
       "    </tr>\n",
       "  </tbody>\n",
       "</table>\n",
       "</div>"
      ],
      "text/plain": [
       "                       Name  \\\n",
       "0              DecisionTree   \n",
       "1                        RF   \n",
       "2  SVM_61404945757743776441   \n",
       "3                        NB   \n",
       "4                    LogReg   \n",
       "5                    LinReg   \n",
       "\n",
       "                                             Matcher  Num folds    Fold 1  \\\n",
       "0  <magellan.matcher.dtmatcher.DTMatcher object a...          5  0.793103   \n",
       "1  <magellan.matcher.rfmatcher.RFMatcher object a...          5  0.677419   \n",
       "2  <magellan.matcher.svmmatcher.SVMMatcher object...          5  0.745763   \n",
       "3  <magellan.matcher.nbmatcher.NBMatcher object a...          5  0.803571   \n",
       "4  <magellan.matcher.logregmatcher.LogRegMatcher ...          5  0.732143   \n",
       "5  <magellan.matcher.linregmatcher.LinRegMatcher ...          5  0.703125   \n",
       "\n",
       "     Fold 2    Fold 3    Fold 4    Fold 5  Mean score  \n",
       "0  0.711864  0.650794  0.786885  0.830769    0.754683  \n",
       "1  0.745455  0.718750  0.803030  0.830508    0.755033  \n",
       "2  0.818182  0.709677  0.688525  0.812500    0.754929  \n",
       "3  0.737705  0.745763  0.790323  0.719298    0.759332  \n",
       "4  0.694915  0.813559  0.790323  0.762712    0.758730  \n",
       "5  0.770492  0.716667  0.770492  0.807018    0.753559  "
      ]
     },
     "execution_count": 59,
     "metadata": {},
     "output_type": "execute_result"
    }
   ],
   "source": [
    "result['cv_stats']"
   ]
  },
  {
   "cell_type": "code",
   "execution_count": 83,
   "metadata": {
    "collapsed": true
   },
   "outputs": [],
   "source": [
    "# Debug decision tree\n",
    "\n",
    "# Split feature vectors to train and test\n",
    "UV = mg.train_test_split(H, train_proportion=0.5, random_state=0)\n",
    "U = UV['train']\n",
    "V = UV['test']"
   ]
  },
  {
   "cell_type": "code",
   "execution_count": 84,
   "metadata": {
    "collapsed": true
   },
   "outputs": [],
   "source": [
    "mg.vis_debug_dt(dt, U, V, \n",
    "        exclude_attrs=['_id', 'ltable.id', 'rtable.id', 'gold'],\n",
    "        target_attr='gold')"
   ]
  },
  {
   "cell_type": "code",
   "execution_count": 64,
   "metadata": {
    "collapsed": false
   },
   "outputs": [],
   "source": [
    "# Add a feature for 'venue'\n",
    "# 1. create a feature using builtin similarity functions and tokeniziers\n",
    "# 2. Add the feature to feature table."
   ]
  },
  {
   "cell_type": "code",
   "execution_count": 73,
   "metadata": {
    "collapsed": false
   },
   "outputs": [],
   "source": [
    "# Create a feature\n",
    "feature = mg.get_feature_fn(\"lev(ltuple['venue'], rtuple['venue'])\", mg._match_t, mg._match_s)"
   ]
  },
  {
   "cell_type": "code",
   "execution_count": 74,
   "metadata": {
    "collapsed": false
   },
   "outputs": [
    {
     "data": {
      "text/plain": [
       "True"
      ]
     },
     "execution_count": 74,
     "metadata": {},
     "output_type": "execute_result"
    }
   ],
   "source": [
    "# Add feature to feature table\n",
    "mg.add_feature(feat_table, 'venue_venue_lev', feature)"
   ]
  },
  {
   "cell_type": "code",
   "execution_count": 75,
   "metadata": {
    "collapsed": false
   },
   "outputs": [
    {
     "data": {
      "text/html": [
       "<div>\n",
       "<table border=\"1\" class=\"dataframe\">\n",
       "  <thead>\n",
       "    <tr style=\"text-align: right;\">\n",
       "      <th></th>\n",
       "      <th>feature_name</th>\n",
       "      <th>left_attribute</th>\n",
       "      <th>right_attribute</th>\n",
       "      <th>left_attr_tokenizer</th>\n",
       "      <th>right_attr_tokenizer</th>\n",
       "      <th>simfunction</th>\n",
       "      <th>function</th>\n",
       "      <th>function_source</th>\n",
       "    </tr>\n",
       "  </thead>\n",
       "  <tbody>\n",
       "    <tr>\n",
       "      <th>0</th>\n",
       "      <td>title_title_jac_qgm_3_qgm_3</td>\n",
       "      <td>title</td>\n",
       "      <td>title</td>\n",
       "      <td>qgm_3</td>\n",
       "      <td>qgm_3</td>\n",
       "      <td>jaccard</td>\n",
       "      <td>&lt;function title_title_jac_qgm_3_qgm_3 at 0x118...</td>\n",
       "      <td>from magellan.feature.simfunctions import *\\nf...</td>\n",
       "    </tr>\n",
       "    <tr>\n",
       "      <th>1</th>\n",
       "      <td>title_title_cos_dlm_dc0_dlm_dc0</td>\n",
       "      <td>title</td>\n",
       "      <td>title</td>\n",
       "      <td>dlm_dc0</td>\n",
       "      <td>dlm_dc0</td>\n",
       "      <td>cosine</td>\n",
       "      <td>&lt;function title_title_cos_dlm_dc0_dlm_dc0 at 0...</td>\n",
       "      <td>from magellan.feature.simfunctions import *\\nf...</td>\n",
       "    </tr>\n",
       "    <tr>\n",
       "      <th>2</th>\n",
       "      <td>title_title_mel</td>\n",
       "      <td>title</td>\n",
       "      <td>title</td>\n",
       "      <td>None</td>\n",
       "      <td>None</td>\n",
       "      <td>monge_elkan</td>\n",
       "      <td>&lt;function title_title_mel at 0x1187acde8&gt;</td>\n",
       "      <td>from magellan.feature.simfunctions import *\\nf...</td>\n",
       "    </tr>\n",
       "    <tr>\n",
       "      <th>3</th>\n",
       "      <td>title_title_lev</td>\n",
       "      <td>title</td>\n",
       "      <td>title</td>\n",
       "      <td>None</td>\n",
       "      <td>None</td>\n",
       "      <td>lev</td>\n",
       "      <td>&lt;function title_title_lev at 0x1187acf50&gt;</td>\n",
       "      <td>from magellan.feature.simfunctions import *\\nf...</td>\n",
       "    </tr>\n",
       "    <tr>\n",
       "      <th>4</th>\n",
       "      <td>authors_authors_jac_qgm_3_qgm_3</td>\n",
       "      <td>authors</td>\n",
       "      <td>authors</td>\n",
       "      <td>qgm_3</td>\n",
       "      <td>qgm_3</td>\n",
       "      <td>jaccard</td>\n",
       "      <td>&lt;function authors_authors_jac_qgm_3_qgm_3 at 0...</td>\n",
       "      <td>from magellan.feature.simfunctions import *\\nf...</td>\n",
       "    </tr>\n",
       "    <tr>\n",
       "      <th>5</th>\n",
       "      <td>authors_authors_cos_dlm_dc0_dlm_dc0</td>\n",
       "      <td>authors</td>\n",
       "      <td>authors</td>\n",
       "      <td>dlm_dc0</td>\n",
       "      <td>dlm_dc0</td>\n",
       "      <td>cosine</td>\n",
       "      <td>&lt;function authors_authors_cos_dlm_dc0_dlm_dc0 ...</td>\n",
       "      <td>from magellan.feature.simfunctions import *\\nf...</td>\n",
       "    </tr>\n",
       "    <tr>\n",
       "      <th>6</th>\n",
       "      <td>authors_authors_mel</td>\n",
       "      <td>authors</td>\n",
       "      <td>authors</td>\n",
       "      <td>None</td>\n",
       "      <td>None</td>\n",
       "      <td>monge_elkan</td>\n",
       "      <td>&lt;function authors_authors_mel at 0x1187acb18&gt;</td>\n",
       "      <td>from magellan.feature.simfunctions import *\\nf...</td>\n",
       "    </tr>\n",
       "    <tr>\n",
       "      <th>7</th>\n",
       "      <td>authors_authors_lev</td>\n",
       "      <td>authors</td>\n",
       "      <td>authors</td>\n",
       "      <td>None</td>\n",
       "      <td>None</td>\n",
       "      <td>lev</td>\n",
       "      <td>&lt;function authors_authors_lev at 0x1187acaa0&gt;</td>\n",
       "      <td>from magellan.feature.simfunctions import *\\nf...</td>\n",
       "    </tr>\n",
       "    <tr>\n",
       "      <th>8</th>\n",
       "      <td>year_year_exm</td>\n",
       "      <td>year</td>\n",
       "      <td>year</td>\n",
       "      <td>None</td>\n",
       "      <td>None</td>\n",
       "      <td>exact_match</td>\n",
       "      <td>&lt;function year_year_exm at 0x1187aca28&gt;</td>\n",
       "      <td>from magellan.feature.simfunctions import *\\nf...</td>\n",
       "    </tr>\n",
       "    <tr>\n",
       "      <th>9</th>\n",
       "      <td>year_year_anm</td>\n",
       "      <td>year</td>\n",
       "      <td>year</td>\n",
       "      <td>None</td>\n",
       "      <td>None</td>\n",
       "      <td>abs_norm</td>\n",
       "      <td>&lt;function year_year_anm at 0x1187ac938&gt;</td>\n",
       "      <td>from magellan.feature.simfunctions import *\\nf...</td>\n",
       "    </tr>\n",
       "    <tr>\n",
       "      <th>10</th>\n",
       "      <td>year_year_lev</td>\n",
       "      <td>year</td>\n",
       "      <td>year</td>\n",
       "      <td>None</td>\n",
       "      <td>None</td>\n",
       "      <td>lev</td>\n",
       "      <td>&lt;function year_year_lev at 0x118829b90&gt;</td>\n",
       "      <td>from magellan.feature.simfunctions import *\\nf...</td>\n",
       "    </tr>\n",
       "    <tr>\n",
       "      <th>11</th>\n",
       "      <td>venue_venue_lev</td>\n",
       "      <td>venue</td>\n",
       "      <td>venue</td>\n",
       "      <td>PARSE_EXP</td>\n",
       "      <td>PARSE_EXP</td>\n",
       "      <td>lev</td>\n",
       "      <td>&lt;function fn at 0x1186e8410&gt;</td>\n",
       "      <td>def fn(ltuple, rtuple):\\n    return lev(ltuple...</td>\n",
       "    </tr>\n",
       "  </tbody>\n",
       "</table>\n",
       "</div>"
      ],
      "text/plain": [
       "                           feature_name left_attribute right_attribute  \\\n",
       "0           title_title_jac_qgm_3_qgm_3          title           title   \n",
       "1       title_title_cos_dlm_dc0_dlm_dc0          title           title   \n",
       "2                       title_title_mel          title           title   \n",
       "3                       title_title_lev          title           title   \n",
       "4       authors_authors_jac_qgm_3_qgm_3        authors         authors   \n",
       "5   authors_authors_cos_dlm_dc0_dlm_dc0        authors         authors   \n",
       "6                   authors_authors_mel        authors         authors   \n",
       "7                   authors_authors_lev        authors         authors   \n",
       "8                         year_year_exm           year            year   \n",
       "9                         year_year_anm           year            year   \n",
       "10                        year_year_lev           year            year   \n",
       "11                      venue_venue_lev          venue           venue   \n",
       "\n",
       "   left_attr_tokenizer right_attr_tokenizer  simfunction  \\\n",
       "0                qgm_3                qgm_3      jaccard   \n",
       "1              dlm_dc0              dlm_dc0       cosine   \n",
       "2                 None                 None  monge_elkan   \n",
       "3                 None                 None          lev   \n",
       "4                qgm_3                qgm_3      jaccard   \n",
       "5              dlm_dc0              dlm_dc0       cosine   \n",
       "6                 None                 None  monge_elkan   \n",
       "7                 None                 None          lev   \n",
       "8                 None                 None  exact_match   \n",
       "9                 None                 None     abs_norm   \n",
       "10                None                 None          lev   \n",
       "11           PARSE_EXP            PARSE_EXP          lev   \n",
       "\n",
       "                                             function  \\\n",
       "0   <function title_title_jac_qgm_3_qgm_3 at 0x118...   \n",
       "1   <function title_title_cos_dlm_dc0_dlm_dc0 at 0...   \n",
       "2           <function title_title_mel at 0x1187acde8>   \n",
       "3           <function title_title_lev at 0x1187acf50>   \n",
       "4   <function authors_authors_jac_qgm_3_qgm_3 at 0...   \n",
       "5   <function authors_authors_cos_dlm_dc0_dlm_dc0 ...   \n",
       "6       <function authors_authors_mel at 0x1187acb18>   \n",
       "7       <function authors_authors_lev at 0x1187acaa0>   \n",
       "8             <function year_year_exm at 0x1187aca28>   \n",
       "9             <function year_year_anm at 0x1187ac938>   \n",
       "10            <function year_year_lev at 0x118829b90>   \n",
       "11                       <function fn at 0x1186e8410>   \n",
       "\n",
       "                                      function_source  \n",
       "0   from magellan.feature.simfunctions import *\\nf...  \n",
       "1   from magellan.feature.simfunctions import *\\nf...  \n",
       "2   from magellan.feature.simfunctions import *\\nf...  \n",
       "3   from magellan.feature.simfunctions import *\\nf...  \n",
       "4   from magellan.feature.simfunctions import *\\nf...  \n",
       "5   from magellan.feature.simfunctions import *\\nf...  \n",
       "6   from magellan.feature.simfunctions import *\\nf...  \n",
       "7   from magellan.feature.simfunctions import *\\nf...  \n",
       "8   from magellan.feature.simfunctions import *\\nf...  \n",
       "9   from magellan.feature.simfunctions import *\\nf...  \n",
       "10  from magellan.feature.simfunctions import *\\nf...  \n",
       "11  def fn(ltuple, rtuple):\\n    return lev(ltuple...  "
      ]
     },
     "execution_count": 75,
     "metadata": {},
     "output_type": "execute_result"
    }
   ],
   "source": [
    "feat_table"
   ]
  },
  {
   "cell_type": "code",
   "execution_count": 77,
   "metadata": {
    "collapsed": true
   },
   "outputs": [],
   "source": [
    "# Select 'year'  + 'venue' related features\n",
    "feat_subset_iter2 = feat_table[8:12]"
   ]
  },
  {
   "cell_type": "code",
   "execution_count": 85,
   "metadata": {
    "collapsed": true
   },
   "outputs": [],
   "source": [
    "# Get new set of features\n",
    "H = mg.extract_feature_vecs(G, feature_table=feat_subset_iter1, attrs_after='gold')\n",
    "# impute H\n",
    "H.fillna(0, inplace=True)\n"
   ]
  },
  {
   "cell_type": "code",
   "execution_count": 88,
   "metadata": {
    "collapsed": true
   },
   "outputs": [],
   "source": [
    "# Split feature vectors to train and test\n",
    "UV = mg.train_test_split(H, train_proportion=0.5, random_state=0)\n",
    "U = UV['train']\n",
    "V = UV['test']"
   ]
  },
  {
   "cell_type": "code",
   "execution_count": 89,
   "metadata": {
    "collapsed": true
   },
   "outputs": [],
   "source": [
    "# Check whether the added features improves the accuracy in the test set.\n",
    "# Steps\n",
    "# 1. Train dt using U\n",
    "# 2. Predict V using dt\n",
    "# 3. Evaluate predictions\n"
   ]
  },
  {
   "cell_type": "code",
   "execution_count": 90,
   "metadata": {
    "collapsed": true
   },
   "outputs": [],
   "source": [
    "# Train dt using U\n",
    "dt.fit(table=U, \n",
    "       exclude_attrs=['_id', 'ltable.id', 'rtable.id', 'gold'], \n",
    "       target_attr='gold')"
   ]
  },
  {
   "cell_type": "code",
   "execution_count": 91,
   "metadata": {
    "collapsed": true
   },
   "outputs": [],
   "source": [
    "# Predict V using dt\n",
    "P = dt.predict(table=V, exclude_attrs=['_id', 'ltable.id', 'rtable.id', 'gold'], \n",
    "              append=True, target_attr='predicted', inplace=False)"
   ]
  },
  {
   "cell_type": "code",
   "execution_count": 92,
   "metadata": {
    "collapsed": false
   },
   "outputs": [
    {
     "name": "stdout",
     "output_type": "stream",
     "text": [
      "Precision : 87.5% (119/136)\n",
      "Recall : 99.17% (119/120)\n",
      "F1 : 92.97%\n",
      "False positives : 17 (out of 136 positive predictions)\n",
      "False negatives : 1 (out of 72 negative predictions)\n"
     ]
    }
   ],
   "source": [
    "# Evaluate the predictions\n",
    "eval_result = mg.eval_matches(P, 'gold', 'predicted')\n",
    "mg.print_eval_summary(eval_result)\n"
   ]
  },
  {
   "cell_type": "code",
   "execution_count": 104,
   "metadata": {
    "collapsed": true
   },
   "outputs": [],
   "source": [
    "# Apply cross validation to find if there is a better matcher\n",
    "result = mg.select_matcher([dt, rf, svm, nb, lg, ln], table=H, \n",
    "        exclude_attrs=['_id', 'ltable.id', 'rtable.id', 'gold'],\n",
    "        target_attr='gold', metric='f1') "
   ]
  },
  {
   "cell_type": "code",
   "execution_count": 105,
   "metadata": {
    "collapsed": false
   },
   "outputs": [
    {
     "data": {
      "text/html": [
       "<div>\n",
       "<table border=\"1\" class=\"dataframe\">\n",
       "  <thead>\n",
       "    <tr style=\"text-align: right;\">\n",
       "      <th></th>\n",
       "      <th>Name</th>\n",
       "      <th>Matcher</th>\n",
       "      <th>Num folds</th>\n",
       "      <th>Fold 1</th>\n",
       "      <th>Fold 2</th>\n",
       "      <th>Fold 3</th>\n",
       "      <th>Fold 4</th>\n",
       "      <th>Fold 5</th>\n",
       "      <th>Mean score</th>\n",
       "    </tr>\n",
       "  </thead>\n",
       "  <tbody>\n",
       "    <tr>\n",
       "      <th>0</th>\n",
       "      <td>DecisionTree</td>\n",
       "      <td>&lt;magellan.matcher.dtmatcher.DTMatcher object a...</td>\n",
       "      <td>5</td>\n",
       "      <td>0.940000</td>\n",
       "      <td>0.895833</td>\n",
       "      <td>0.920000</td>\n",
       "      <td>0.969072</td>\n",
       "      <td>0.893617</td>\n",
       "      <td>0.923705</td>\n",
       "    </tr>\n",
       "    <tr>\n",
       "      <th>1</th>\n",
       "      <td>RF</td>\n",
       "      <td>&lt;magellan.matcher.rfmatcher.RFMatcher object a...</td>\n",
       "      <td>5</td>\n",
       "      <td>0.927835</td>\n",
       "      <td>0.956522</td>\n",
       "      <td>0.923077</td>\n",
       "      <td>0.923077</td>\n",
       "      <td>0.938776</td>\n",
       "      <td>0.933857</td>\n",
       "    </tr>\n",
       "    <tr>\n",
       "      <th>2</th>\n",
       "      <td>SVM_61404945757743776441</td>\n",
       "      <td>&lt;magellan.matcher.svmmatcher.SVMMatcher object...</td>\n",
       "      <td>5</td>\n",
       "      <td>0.833333</td>\n",
       "      <td>0.878505</td>\n",
       "      <td>0.842105</td>\n",
       "      <td>0.857143</td>\n",
       "      <td>0.862385</td>\n",
       "      <td>0.854694</td>\n",
       "    </tr>\n",
       "    <tr>\n",
       "      <th>3</th>\n",
       "      <td>NB</td>\n",
       "      <td>&lt;magellan.matcher.nbmatcher.NBMatcher object a...</td>\n",
       "      <td>5</td>\n",
       "      <td>0.849558</td>\n",
       "      <td>0.777778</td>\n",
       "      <td>0.880734</td>\n",
       "      <td>0.844037</td>\n",
       "      <td>0.895238</td>\n",
       "      <td>0.849469</td>\n",
       "    </tr>\n",
       "    <tr>\n",
       "      <th>4</th>\n",
       "      <td>LogReg</td>\n",
       "      <td>&lt;magellan.matcher.logregmatcher.LogRegMatcher ...</td>\n",
       "      <td>5</td>\n",
       "      <td>0.841121</td>\n",
       "      <td>0.830189</td>\n",
       "      <td>0.917431</td>\n",
       "      <td>0.840000</td>\n",
       "      <td>0.849057</td>\n",
       "      <td>0.855560</td>\n",
       "    </tr>\n",
       "    <tr>\n",
       "      <th>5</th>\n",
       "      <td>LinReg</td>\n",
       "      <td>&lt;magellan.matcher.linregmatcher.LinRegMatcher ...</td>\n",
       "      <td>5</td>\n",
       "      <td>0.834951</td>\n",
       "      <td>0.857143</td>\n",
       "      <td>0.867925</td>\n",
       "      <td>0.812500</td>\n",
       "      <td>0.924528</td>\n",
       "      <td>0.859409</td>\n",
       "    </tr>\n",
       "  </tbody>\n",
       "</table>\n",
       "</div>"
      ],
      "text/plain": [
       "                       Name  \\\n",
       "0              DecisionTree   \n",
       "1                        RF   \n",
       "2  SVM_61404945757743776441   \n",
       "3                        NB   \n",
       "4                    LogReg   \n",
       "5                    LinReg   \n",
       "\n",
       "                                             Matcher  Num folds    Fold 1  \\\n",
       "0  <magellan.matcher.dtmatcher.DTMatcher object a...          5  0.940000   \n",
       "1  <magellan.matcher.rfmatcher.RFMatcher object a...          5  0.927835   \n",
       "2  <magellan.matcher.svmmatcher.SVMMatcher object...          5  0.833333   \n",
       "3  <magellan.matcher.nbmatcher.NBMatcher object a...          5  0.849558   \n",
       "4  <magellan.matcher.logregmatcher.LogRegMatcher ...          5  0.841121   \n",
       "5  <magellan.matcher.linregmatcher.LinRegMatcher ...          5  0.834951   \n",
       "\n",
       "     Fold 2    Fold 3    Fold 4    Fold 5  Mean score  \n",
       "0  0.895833  0.920000  0.969072  0.893617    0.923705  \n",
       "1  0.956522  0.923077  0.923077  0.938776    0.933857  \n",
       "2  0.878505  0.842105  0.857143  0.862385    0.854694  \n",
       "3  0.777778  0.880734  0.844037  0.895238    0.849469  \n",
       "4  0.830189  0.917431  0.840000  0.849057    0.855560  \n",
       "5  0.857143  0.867925  0.812500  0.924528    0.859409  "
      ]
     },
     "execution_count": 105,
     "metadata": {},
     "output_type": "execute_result"
    }
   ],
   "source": [
    "result['cv_stats']"
   ]
  },
  {
   "cell_type": "code",
   "execution_count": 99,
   "metadata": {
    "collapsed": true
   },
   "outputs": [],
   "source": [
    "# Select DT as the best matcher -- Y\n",
    "# Use year + venue related features"
   ]
  },
  {
   "cell_type": "code",
   "execution_count": 100,
   "metadata": {
    "collapsed": true
   },
   "outputs": [],
   "source": [
    "# Add triggers on top of Y\n",
    "\n",
    "# Target false positives"
   ]
  },
  {
   "cell_type": "code",
   "execution_count": 101,
   "metadata": {
    "collapsed": true
   },
   "outputs": [],
   "source": [
    "# Split feature vectors to train and test\n",
    "UV = mg.train_test_split(H, train_proportion=0.5, random_state=0)\n",
    "U = UV['train']\n",
    "V = UV['test']"
   ]
  },
  {
   "cell_type": "code",
   "execution_count": 103,
   "metadata": {
    "collapsed": false
   },
   "outputs": [
    {
     "data": {
      "text/plain": [
       "True"
      ]
     },
     "execution_count": 103,
     "metadata": {},
     "output_type": "execute_result"
    }
   ],
   "source": [
    "# Add trigger : use title related feature\n",
    "neg_trigger = mg.MatchTrigger()\n",
    "neg_trigger.add_cond_rule('title_title_jac_qgm_3_qgm_3(ltuple, rtuple) < 0.4', feat_table)\n",
    "neg_trigger.add_cond_status(True)\n",
    "neg_trigger.add_action(0)"
   ]
  },
  {
   "cell_type": "code",
   "execution_count": 106,
   "metadata": {
    "collapsed": true
   },
   "outputs": [],
   "source": [
    "# Check whether the added trigger improves the accuracy in the test set.\n",
    "# Steps\n",
    "# 1. Train dt using U\n",
    "# 2. Predict V using dt\n",
    "# 3. Apply trigger\n",
    "# 4. Evaluate the result"
   ]
  },
  {
   "cell_type": "code",
   "execution_count": 107,
   "metadata": {
    "collapsed": true
   },
   "outputs": [],
   "source": [
    "# Train dt using U\n",
    "dt.fit(table=U, \n",
    "       exclude_attrs=['_id', 'ltable.id', 'rtable.id', 'gold'], \n",
    "       target_attr='gold')"
   ]
  },
  {
   "cell_type": "code",
   "execution_count": 108,
   "metadata": {
    "collapsed": true
   },
   "outputs": [],
   "source": [
    "# Predict V using dt\n",
    "P = dt.predict(table=V, exclude_attrs=['_id', 'ltable.id', 'rtable.id', 'gold'], \n",
    "              append=True, target_attr='predicted', inplace=False)"
   ]
  },
  {
   "cell_type": "code",
   "execution_count": 109,
   "metadata": {
    "collapsed": true
   },
   "outputs": [],
   "source": [
    "# Apply trigger\n",
    "Q = neg_trigger.execute(P, 'predicted', inplace=False)"
   ]
  },
  {
   "cell_type": "code",
   "execution_count": 110,
   "metadata": {
    "collapsed": false
   },
   "outputs": [
    {
     "name": "stdout",
     "output_type": "stream",
     "text": [
      "Precision : 95.0% (114/120)\n",
      "Recall : 99.13% (114/115)\n",
      "F1 : 97.02%\n",
      "False positives : 6 (out of 120 positive predictions)\n",
      "False negatives : 1 (out of 88 negative predictions)\n"
     ]
    }
   ],
   "source": [
    "# Evaluate the result\n",
    "eval_result = mg.eval_matches(Q, 'predicted', 'gold')\n",
    "mg.print_eval_summary(eval_result)"
   ]
  },
  {
   "cell_type": "code",
   "execution_count": 111,
   "metadata": {
    "collapsed": false
   },
   "outputs": [
    {
     "name": "stderr",
     "output_type": "stream",
     "text": [
      "0%  100%\n",
      "[#####] | ETA[sec]: 0.000 \n",
      "Total time elapsed: 0.341 sec\n"
     ]
    }
   ],
   "source": [
    "# Do cross-validation for matcher + trigger using I\n",
    "result = mg.cv_matcher_and_trigger(dt, neg_trigger, table = H, \n",
    "                                   exclude_attrs=['_id', 'ltable.id', 'rtable.id', 'gold'],\n",
    "                                  target_attr='gold')\n"
   ]
  },
  {
   "cell_type": "code",
   "execution_count": 112,
   "metadata": {
    "collapsed": false
   },
   "outputs": [
    {
     "data": {
      "text/html": [
       "<div>\n",
       "<table border=\"1\" class=\"dataframe\">\n",
       "  <thead>\n",
       "    <tr style=\"text-align: right;\">\n",
       "      <th></th>\n",
       "      <th>Metric</th>\n",
       "      <th>Num folds</th>\n",
       "      <th>Fold 1</th>\n",
       "      <th>Fold 2</th>\n",
       "      <th>Fold 3</th>\n",
       "      <th>Fold 4</th>\n",
       "      <th>Fold 5</th>\n",
       "      <th>Mean score</th>\n",
       "    </tr>\n",
       "  </thead>\n",
       "  <tbody>\n",
       "    <tr>\n",
       "      <th>0</th>\n",
       "      <td>precision</td>\n",
       "      <td>5</td>\n",
       "      <td>1.000000</td>\n",
       "      <td>0.978261</td>\n",
       "      <td>1.000000</td>\n",
       "      <td>1.000000</td>\n",
       "      <td>1.000000</td>\n",
       "      <td>0.995652</td>\n",
       "    </tr>\n",
       "    <tr>\n",
       "      <th>1</th>\n",
       "      <td>recall</td>\n",
       "      <td>5</td>\n",
       "      <td>0.958333</td>\n",
       "      <td>0.937500</td>\n",
       "      <td>0.916667</td>\n",
       "      <td>0.936170</td>\n",
       "      <td>0.925000</td>\n",
       "      <td>0.934734</td>\n",
       "    </tr>\n",
       "    <tr>\n",
       "      <th>2</th>\n",
       "      <td>f1</td>\n",
       "      <td>5</td>\n",
       "      <td>0.978723</td>\n",
       "      <td>0.957447</td>\n",
       "      <td>0.956522</td>\n",
       "      <td>0.967033</td>\n",
       "      <td>0.961039</td>\n",
       "      <td>0.964153</td>\n",
       "    </tr>\n",
       "  </tbody>\n",
       "</table>\n",
       "</div>"
      ],
      "text/plain": [
       "      Metric  Num folds    Fold 1    Fold 2    Fold 3    Fold 4    Fold 5  \\\n",
       "0  precision          5  1.000000  0.978261  1.000000  1.000000  1.000000   \n",
       "1     recall          5  0.958333  0.937500  0.916667  0.936170  0.925000   \n",
       "2         f1          5  0.978723  0.957447  0.956522  0.967033  0.961039   \n",
       "\n",
       "   Mean score  \n",
       "0    0.995652  \n",
       "1    0.934734  \n",
       "2    0.964153  "
      ]
     },
     "execution_count": 112,
     "metadata": {},
     "output_type": "execute_result"
    }
   ],
   "source": [
    "result['cv_stats']"
   ]
  },
  {
   "cell_type": "code",
   "execution_count": 114,
   "metadata": {
    "collapsed": false
   },
   "outputs": [
    {
     "name": "stderr",
     "output_type": "stream",
     "text": [
      "0%  100%\n",
      "[#####] | ETA[sec]: 0.000 \n",
      "Total time elapsed: 0.141 sec\n"
     ]
    }
   ],
   "source": [
    "# Recall the cv for just matcher was\n",
    "result = mg.cv_matcher_and_trigger(dt, [], table = H, \n",
    "                                   exclude_attrs=['_id', 'ltable.id', 'rtable.id', 'gold'],\n",
    "                                  target_attr='gold')"
   ]
  },
  {
   "cell_type": "code",
   "execution_count": 115,
   "metadata": {
    "collapsed": false
   },
   "outputs": [
    {
     "data": {
      "text/html": [
       "<div>\n",
       "<table border=\"1\" class=\"dataframe\">\n",
       "  <thead>\n",
       "    <tr style=\"text-align: right;\">\n",
       "      <th></th>\n",
       "      <th>Metric</th>\n",
       "      <th>Num folds</th>\n",
       "      <th>Fold 1</th>\n",
       "      <th>Fold 2</th>\n",
       "      <th>Fold 3</th>\n",
       "      <th>Fold 4</th>\n",
       "      <th>Fold 5</th>\n",
       "      <th>Mean score</th>\n",
       "    </tr>\n",
       "  </thead>\n",
       "  <tbody>\n",
       "    <tr>\n",
       "      <th>0</th>\n",
       "      <td>precision</td>\n",
       "      <td>5</td>\n",
       "      <td>0.883721</td>\n",
       "      <td>0.847458</td>\n",
       "      <td>0.938776</td>\n",
       "      <td>0.923077</td>\n",
       "      <td>0.843137</td>\n",
       "      <td>0.887234</td>\n",
       "    </tr>\n",
       "    <tr>\n",
       "      <th>1</th>\n",
       "      <td>recall</td>\n",
       "      <td>5</td>\n",
       "      <td>1.000000</td>\n",
       "      <td>1.000000</td>\n",
       "      <td>0.938776</td>\n",
       "      <td>0.960000</td>\n",
       "      <td>0.977273</td>\n",
       "      <td>0.975210</td>\n",
       "    </tr>\n",
       "    <tr>\n",
       "      <th>2</th>\n",
       "      <td>f1</td>\n",
       "      <td>5</td>\n",
       "      <td>0.938272</td>\n",
       "      <td>0.917431</td>\n",
       "      <td>0.938776</td>\n",
       "      <td>0.941176</td>\n",
       "      <td>0.905263</td>\n",
       "      <td>0.928184</td>\n",
       "    </tr>\n",
       "  </tbody>\n",
       "</table>\n",
       "</div>"
      ],
      "text/plain": [
       "      Metric  Num folds    Fold 1    Fold 2    Fold 3    Fold 4    Fold 5  \\\n",
       "0  precision          5  0.883721  0.847458  0.938776  0.923077  0.843137   \n",
       "1     recall          5  1.000000  1.000000  0.938776  0.960000  0.977273   \n",
       "2         f1          5  0.938272  0.917431  0.938776  0.941176  0.905263   \n",
       "\n",
       "   Mean score  \n",
       "0    0.887234  \n",
       "1    0.975210  \n",
       "2    0.928184  "
      ]
     },
     "execution_count": 115,
     "metadata": {},
     "output_type": "execute_result"
    }
   ],
   "source": [
    "result['cv_stats']"
   ]
  },
  {
   "cell_type": "code",
   "execution_count": 116,
   "metadata": {
    "collapsed": true
   },
   "outputs": [],
   "source": [
    "# Now Z is DT (features: feat_subset_iter2) + neg_trigger\n",
    "# Validate Z using J\n",
    "# Steps\n",
    "# 1. Extract feature vectors (using feat_subset_iter2) -- > M\n",
    "# 2. Train DT using H (feature vectors generated using I)\n",
    "# 3. Predict M using DT\n",
    "# 4. Apply negative trigger\n",
    "# 5. Evaluate the result"
   ]
  },
  {
   "cell_type": "code",
   "execution_count": 117,
   "metadata": {
    "collapsed": true
   },
   "outputs": [],
   "source": [
    "# Extract feature vectors\n",
    "M = mg.extract_feature_vecs(J, feature_table=feat_subset_iter2, attrs_after='gold')"
   ]
  },
  {
   "cell_type": "code",
   "execution_count": 118,
   "metadata": {
    "collapsed": true
   },
   "outputs": [],
   "source": [
    "# Impute missing values\n",
    "M.fillna(0, inplace=True)"
   ]
  },
  {
   "cell_type": "code",
   "execution_count": 120,
   "metadata": {
    "collapsed": true
   },
   "outputs": [],
   "source": [
    "# Train using feature vectors from I\n",
    "dt.fit(table=H, \n",
    "       exclude_attrs=['_id', 'ltable.id', 'rtable.id', 'gold'], \n",
    "       target_attr='gold')"
   ]
  },
  {
   "cell_type": "code",
   "execution_count": 121,
   "metadata": {
    "collapsed": true
   },
   "outputs": [],
   "source": [
    "# Predict M \n",
    "N = dt.predict(table=M, exclude_attrs=['_id', 'ltable.id', 'rtable.id', 'gold'], \n",
    "              append=True, target_attr='predicted', inplace=False)"
   ]
  },
  {
   "cell_type": "code",
   "execution_count": 122,
   "metadata": {
    "collapsed": true
   },
   "outputs": [],
   "source": [
    "# Apply trigger\n",
    "T = neg_trigger.execute(N, 'predicted', inplace=False)"
   ]
  },
  {
   "cell_type": "code",
   "execution_count": 124,
   "metadata": {
    "collapsed": false
   },
   "outputs": [
    {
     "name": "stdout",
     "output_type": "stream",
     "text": [
      "Precision : 100.0% (72/72)\n",
      "Recall : 93.51% (72/77)\n",
      "F1 : 96.64%\n",
      "False positives : 0 (out of 72 positive predictions)\n",
      "False negatives : 5 (out of 53 negative predictions)\n"
     ]
    }
   ],
   "source": [
    "# Evaluate the result\n",
    "eval_result = mg.eval_matches(T, 'gold', 'predicted')\n",
    "mg.print_eval_summary(eval_result)\n"
   ]
  }
 ],
 "metadata": {
  "kernelspec": {
   "display_name": "Python 2",
   "language": "python",
   "name": "python2"
  },
  "language_info": {
   "codemirror_mode": {
    "name": "ipython",
    "version": 2
   },
   "file_extension": ".py",
   "mimetype": "text/x-python",
   "name": "python",
   "nbconvert_exporter": "python",
   "pygments_lexer": "ipython2",
   "version": "2.7.10"
  }
 },
 "nbformat": 4,
 "nbformat_minor": 0
}
