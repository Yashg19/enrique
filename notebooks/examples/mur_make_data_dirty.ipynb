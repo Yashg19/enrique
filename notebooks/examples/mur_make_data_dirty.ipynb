{
 "cells": [
  {
   "cell_type": "code",
   "execution_count": 43,
   "metadata": {
    "collapsed": false
   },
   "outputs": [],
   "source": [
    "import magellan as mg\n",
    "import numpy as np"
   ]
  },
  {
   "cell_type": "code",
   "execution_count": 110,
   "metadata": {
    "collapsed": true
   },
   "outputs": [],
   "source": [
    "A = mg.read_csv('DBLP_cleaned.csv', key='id')\n",
    "B = mg.read_csv('ACM_cleaned.csv', key='id')\n",
    "A.set_index('id', inplace=True, drop=False)\n",
    "B.set_index('id', inplace=True, drop=False)"
   ]
  },
  {
   "cell_type": "code",
   "execution_count": 111,
   "metadata": {
    "collapsed": true
   },
   "outputs": [],
   "source": [
    "C = mg.read_csv('mur_acm_dblp_labels.csv', ltable=A, rtable=B)"
   ]
  },
  {
   "cell_type": "code",
   "execution_count": 112,
   "metadata": {
    "collapsed": true
   },
   "outputs": [],
   "source": [
    "C.set_index(['ltable.id'], inplace=True, drop=False)\n",
    "l_ind = list(set(C.index.values))\n",
    "C.reset_index(drop=True, inplace=True)"
   ]
  },
  {
   "cell_type": "code",
   "execution_count": 113,
   "metadata": {
    "collapsed": true
   },
   "outputs": [],
   "source": [
    "C.set_index(['rtable.id'], inplace=True, drop=False)\n",
    "r_ind = list(set(C.index.values))\n",
    "C.reset_index(drop=True, inplace=True)"
   ]
  },
  {
   "cell_type": "code",
   "execution_count": null,
   "metadata": {
    "collapsed": true
   },
   "outputs": [],
   "source": [
    "# Remove years from table A"
   ]
  },
  {
   "cell_type": "code",
   "execution_count": 114,
   "metadata": {
    "collapsed": false
   },
   "outputs": [],
   "source": [
    "np.random.seed(0)\n",
    "n=110\n",
    "indices = list(set(np.random.random_integers(0, len(A), n)))\n",
    "\n",
    "A.ix[indices, 'year'] = np.NaN\n",
    "# indices"
   ]
  },
  {
   "cell_type": "code",
   "execution_count": 115,
   "metadata": {
    "collapsed": false
   },
   "outputs": [],
   "source": [
    "# Remove venue from table A\n",
    "np.random.seed(1)\n",
    "n = 110\n",
    "\n",
    "indices = list(set(np.random.random_integers(0, len(A), n)))\n",
    "A.ix[indices, 'venue'] = np.NaN"
   ]
  },
  {
   "cell_type": "code",
   "execution_count": 116,
   "metadata": {
    "collapsed": true
   },
   "outputs": [],
   "source": [
    "import math\n",
    "def remove_half_of_authors(s):\n",
    "    s1 = s.split(', ')\n",
    "    if len(s1) >= 1:\n",
    "        n = math.ceil(len(s1)/2.0)\n",
    "        n_s = ', '.join(s1[0:int(n)])\n",
    "        ret_s = n_s\n",
    "    else:\n",
    "        ret_s = n_s\n",
    "    return ret_s"
   ]
  },
  {
   "cell_type": "code",
   "execution_count": 117,
   "metadata": {
    "collapsed": false
   },
   "outputs": [],
   "source": [
    "# Remove half of authors from table A\n",
    "np.random.seed(2)\n",
    "n = 110\n",
    "\n",
    "indices = list(set(np.random.random_integers(0, len(A), n)))\n",
    "A.ix[indices, 'authors'] = A.ix[indices, 'authors'].apply(remove_half_of_authors)"
   ]
  },
  {
   "cell_type": "code",
   "execution_count": 134,
   "metadata": {
    "collapsed": false
   },
   "outputs": [],
   "source": [
    "stop_words = ['a', 'an', 'and', 'are', 'as', 'at',\n",
    "              'be', 'by', 'for', 'from',\n",
    "              'has', 'he', 'in', 'is', 'it',\n",
    "              'its', 'on', 'that', 'the', 'to',\n",
    "              'was', 'were', 'will', 'with']\n",
    "def rem_stopwords(s):\n",
    "    ls = s.split()\n",
    "    x = [t for t in ls if t not in stop_words]\n",
    "    if len(x) > 1:\n",
    "        return ' '.join(x)\n",
    "    else:\n",
    "        return s\n",
    "\n"
   ]
  },
  {
   "cell_type": "code",
   "execution_count": 137,
   "metadata": {
    "collapsed": true
   },
   "outputs": [],
   "source": [
    "# Remove half of authors from table A\n",
    "np.random.seed(3)\n",
    "n = 110\n",
    "\n",
    "indices = list(set(np.random.random_integers(0, len(A), n)))\n",
    "A.ix[indices, 'title'] = A.ix[indices, 'title'].apply(rem_stopwords)"
   ]
  },
  {
   "cell_type": "code",
   "execution_count": 138,
   "metadata": {
    "collapsed": false
   },
   "outputs": [
    {
     "data": {
      "text/plain": [
       "True"
      ]
     },
     "execution_count": 138,
     "metadata": {},
     "output_type": "execute_result"
    }
   ],
   "source": [
    "A.reset_index(drop=True, inplace=True)\n",
    "A.to_csv('mur_dblp.csv')"
   ]
  }
 ],
 "metadata": {
  "kernelspec": {
   "display_name": "Python 2",
   "language": "python",
   "name": "python2"
  },
  "language_info": {
   "codemirror_mode": {
    "name": "ipython",
    "version": 2
   },
   "file_extension": ".py",
   "mimetype": "text/x-python",
   "name": "python",
   "nbconvert_exporter": "python",
   "pygments_lexer": "ipython2",
   "version": "2.7.10"
  }
 },
 "nbformat": 4,
 "nbformat_minor": 0
}
