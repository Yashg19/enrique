{
 "cells": [
  {
   "cell_type": "code",
   "execution_count": 1,
   "metadata": {
    "collapsed": false
   },
   "outputs": [],
   "source": [
    "%load_ext autotime"
   ]
  },
  {
   "cell_type": "code",
   "execution_count": 2,
   "metadata": {
    "collapsed": false
   },
   "outputs": [
    {
     "name": "stdout",
     "output_type": "stream",
     "text": [
      "time: 114 ms\n"
     ]
    }
   ],
   "source": [
    "import sys\n",
    "sys.path.append('/scratch/pradap/python-work/enrique/')"
   ]
  },
  {
   "cell_type": "code",
   "execution_count": 3,
   "metadata": {
    "collapsed": false
   },
   "outputs": [
    {
     "name": "stdout",
     "output_type": "stream",
     "text": [
      "time: 129 ms\n"
     ]
    }
   ],
   "source": [
    "import magellan as mg\n",
    "import pandas as pd"
   ]
  },
  {
   "cell_type": "code",
   "execution_count": 4,
   "metadata": {
    "collapsed": false
   },
   "outputs": [
    {
     "name": "stderr",
     "output_type": "stream",
     "text": [
      "WARNING:magellan.utils.helperfunctions:JVM is already running\n"
     ]
    },
    {
     "data": {
      "text/plain": [
       "True"
      ]
     },
     "execution_count": 4,
     "metadata": {},
     "output_type": "execute_result"
    },
    {
     "name": "stdout",
     "output_type": "stream",
     "text": [
      "time: 239 ms\n"
     ]
    }
   ],
   "source": [
    "mg.init_jvm()"
   ]
  },
  {
   "cell_type": "code",
   "execution_count": 5,
   "metadata": {
    "collapsed": false
   },
   "outputs": [
    {
     "name": "stdout",
     "output_type": "stream",
     "text": [
      "time: 1.08 s\n"
     ]
    }
   ],
   "source": [
    "wal = mg.read_csv(mg.get_install_path() + '/datasets/books/walmart.csv',\n",
    "                    dtype={'isbn':pd.np.str, 'pages':pd.np.str, 'volume':pd.np.str, 'editionNum':pd.np.str},  \n",
    "                    low_memory=False, key='id')"
   ]
  },
  {
   "cell_type": "code",
   "execution_count": 6,
   "metadata": {
    "collapsed": false
   },
   "outputs": [
    {
     "name": "stdout",
     "output_type": "stream",
     "text": [
      "time: 85.8 ms\n"
     ]
    }
   ],
   "source": [
    "bwk = mg.read_csv(mg.get_install_path() + '/datasets/books/bowker.csv', \n",
    "                  dtype={'isbn':pd.np.str, 'pages':pd.np.str, 'volume':pd.np.str, 'editionNum':pd.np.str},  \n",
    "                  low_memory=False, key='id')"
   ]
  },
  {
   "cell_type": "code",
   "execution_count": 35,
   "metadata": {
    "collapsed": false
   },
   "outputs": [
    {
     "name": "stdout",
     "output_type": "stream",
     "text": [
      "time: 111 ms\n"
     ]
    }
   ],
   "source": [
    "ab = mg.AttrEquivalenceBlocker()\n",
    "C = ab.block_tables(wal, bwk, 'isbn', 'isbn', ['title', 'author'], ['title', 'author'])"
   ]
  },
  {
   "cell_type": "code",
   "execution_count": 8,
   "metadata": {
    "collapsed": false
   },
   "outputs": [
    {
     "name": "stdout",
     "output_type": "stream",
     "text": [
      "time: 2.9 ms\n"
     ]
    }
   ],
   "source": [
    "L = mg.read_csv('label_ab_correct_books.csv', ltable=wal, rtable=bwk)"
   ]
  },
  {
   "cell_type": "code",
   "execution_count": 9,
   "metadata": {
    "collapsed": false
   },
   "outputs": [
    {
     "name": "stderr",
     "output_type": "stream",
     "text": [
      "WARNING:magellan.feature.autofeaturegen:editionNum type and editionNum type are different\n",
      "WARNING:magellan.feature.autofeaturegen:pages type and pages type are different\n",
      "WARNING:magellan.feature.autofeaturegen:volume type and volume type are different\n"
     ]
    },
    {
     "name": "stdout",
     "output_type": "stream",
     "text": [
      "time: 2.54 s\n"
     ]
    }
   ],
   "source": [
    "feat_table = mg.get_features_for_matching(wal, bwk)\n",
    "f = feat_table.ix[[3,7,18,26, 53]]"
   ]
  },
  {
   "cell_type": "code",
   "execution_count": 10,
   "metadata": {
    "collapsed": false
   },
   "outputs": [
    {
     "name": "stdout",
     "output_type": "stream",
     "text": [
      "time: 1.97 ms\n"
     ]
    }
   ],
   "source": [
    "dt = mg.DTMatcher(random_state=100)\n",
    "svm = mg.SVMMatcher(random_state=100)\n",
    "rf = mg.RFMatcher(random_state=100)\n",
    "nb = mg.NBMatcher()\n",
    "lg = mg.LogRegMatcher(random_state=100)"
   ]
  },
  {
   "cell_type": "code",
   "execution_count": 11,
   "metadata": {
    "collapsed": false
   },
   "outputs": [
    {
     "name": "stdout",
     "output_type": "stream",
     "text": [
      "time: 321 ms\n"
     ]
    }
   ],
   "source": [
    "G = mg.extract_feat_vecs(L, feat_table=f, attrs_after='gold')"
   ]
  },
  {
   "cell_type": "code",
   "execution_count": 12,
   "metadata": {
    "collapsed": false
   },
   "outputs": [
    {
     "data": {
      "text/html": [
       "<div>\n",
       "<table border=\"1\" class=\"dataframe\">\n",
       "  <thead>\n",
       "    <tr style=\"text-align: right;\">\n",
       "      <th></th>\n",
       "      <th>_id</th>\n",
       "      <th>ltable.id</th>\n",
       "      <th>rtable.id</th>\n",
       "      <th>title_title_jac_qgm_3_qgm_3</th>\n",
       "      <th>author_author_jac_qgm_3_qgm_3</th>\n",
       "      <th>binding_binding_jac_qgm_3_qgm_3</th>\n",
       "      <th>publisher_publisher_jac_qgm_3_qgm_3</th>\n",
       "      <th>lang_lang_lev</th>\n",
       "      <th>gold</th>\n",
       "    </tr>\n",
       "  </thead>\n",
       "  <tbody>\n",
       "    <tr>\n",
       "      <th>0</th>\n",
       "      <td>0</td>\n",
       "      <td>4086892</td>\n",
       "      <td>9780226156439</td>\n",
       "      <td>0.785714</td>\n",
       "      <td>1.000000</td>\n",
       "      <td>0</td>\n",
       "      <td>0.518519</td>\n",
       "      <td>1</td>\n",
       "      <td>1</td>\n",
       "    </tr>\n",
       "    <tr>\n",
       "      <th>1</th>\n",
       "      <td>1</td>\n",
       "      <td>535599</td>\n",
       "      <td>9780060655808</td>\n",
       "      <td>0.222222</td>\n",
       "      <td>1.000000</td>\n",
       "      <td>0</td>\n",
       "      <td>0.320000</td>\n",
       "      <td>1</td>\n",
       "      <td>1</td>\n",
       "    </tr>\n",
       "    <tr>\n",
       "      <th>2</th>\n",
       "      <td>2</td>\n",
       "      <td>12537042</td>\n",
       "      <td>9780030402432</td>\n",
       "      <td>0.243243</td>\n",
       "      <td>0.285714</td>\n",
       "      <td>0</td>\n",
       "      <td>0.025641</td>\n",
       "      <td>0</td>\n",
       "      <td>1</td>\n",
       "    </tr>\n",
       "    <tr>\n",
       "      <th>3</th>\n",
       "      <td>3</td>\n",
       "      <td>1386538</td>\n",
       "      <td>9780130901262</td>\n",
       "      <td>1.000000</td>\n",
       "      <td>0.785714</td>\n",
       "      <td>1</td>\n",
       "      <td>0.733333</td>\n",
       "      <td>1</td>\n",
       "      <td>1</td>\n",
       "    </tr>\n",
       "    <tr>\n",
       "      <th>4</th>\n",
       "      <td>4</td>\n",
       "      <td>13945932</td>\n",
       "      <td>9780205700424</td>\n",
       "      <td>0.375000</td>\n",
       "      <td>0.375000</td>\n",
       "      <td>0</td>\n",
       "      <td>0.733333</td>\n",
       "      <td>1</td>\n",
       "      <td>1</td>\n",
       "    </tr>\n",
       "  </tbody>\n",
       "</table>\n",
       "</div>"
      ],
      "text/plain": [
       "   _id  ltable.id      rtable.id  title_title_jac_qgm_3_qgm_3  \\\n",
       "0    0    4086892  9780226156439                     0.785714   \n",
       "1    1     535599  9780060655808                     0.222222   \n",
       "2    2   12537042  9780030402432                     0.243243   \n",
       "3    3    1386538  9780130901262                     1.000000   \n",
       "4    4   13945932  9780205700424                     0.375000   \n",
       "\n",
       "   author_author_jac_qgm_3_qgm_3  binding_binding_jac_qgm_3_qgm_3  \\\n",
       "0                       1.000000                                0   \n",
       "1                       1.000000                                0   \n",
       "2                       0.285714                                0   \n",
       "3                       0.785714                                1   \n",
       "4                       0.375000                                0   \n",
       "\n",
       "   publisher_publisher_jac_qgm_3_qgm_3  lang_lang_lev  gold  \n",
       "0                             0.518519              1     1  \n",
       "1                             0.320000              1     1  \n",
       "2                             0.025641              0     1  \n",
       "3                             0.733333              1     1  \n",
       "4                             0.733333              1     1  "
      ]
     },
     "execution_count": 12,
     "metadata": {},
     "output_type": "execute_result"
    },
    {
     "name": "stdout",
     "output_type": "stream",
     "text": [
      "time: 14.9 ms\n"
     ]
    }
   ],
   "source": [
    "G.head()"
   ]
  },
  {
   "cell_type": "code",
   "execution_count": 14,
   "metadata": {
    "collapsed": false
   },
   "outputs": [
    {
     "name": "stdout",
     "output_type": "stream",
     "text": [
      "time: 1.09 ms\n"
     ]
    }
   ],
   "source": [
    "# impute values\n",
    "G.fillna(0, inplace=True)"
   ]
  },
  {
   "cell_type": "code",
   "execution_count": 15,
   "metadata": {
    "collapsed": false
   },
   "outputs": [
    {
     "name": "stdout",
     "output_type": "stream",
     "text": [
      "time: 65.6 ms\n"
     ]
    }
   ],
   "source": [
    "res = mg.select_matcher([dt, rf, svm, nb, lg], table=G, exclude_attrs=['_id', 'ltable.id', 'rtable.id', 'gold'], target_attr='gold', random_state=100)"
   ]
  },
  {
   "cell_type": "code",
   "execution_count": 18,
   "metadata": {
    "collapsed": false
   },
   "outputs": [
    {
     "name": "stdout",
     "output_type": "stream",
     "text": [
      "time: 2.62 ms\n"
     ]
    }
   ],
   "source": [
    "train_test = mg.train_test_split(G, train_proportion=0.7, random_state=0)"
   ]
  },
  {
   "cell_type": "code",
   "execution_count": null,
   "metadata": {
    "collapsed": false
   },
   "outputs": [],
   "source": [
    "mg.vis_debug_dt(dt, train_test['train'], train_test['test'], exclude_attrs=['_id', 'ltable.id', 'rtable.id', 'gold'], target_attr='gold')"
   ]
  },
  {
   "cell_type": "code",
   "execution_count": 27,
   "metadata": {
    "collapsed": false
   },
   "outputs": [
    {
     "name": "stdout",
     "output_type": "stream",
     "text": [
      "time: 715 ms\n"
     ]
    }
   ],
   "source": [
    "G = mg.extract_feat_vecs(L, feat_table=feat_table, attrs_after='gold')"
   ]
  },
  {
   "cell_type": "code",
   "execution_count": 29,
   "metadata": {
    "collapsed": false
   },
   "outputs": [
    {
     "name": "stdout",
     "output_type": "stream",
     "text": [
      "time: 1.41 ms\n"
     ]
    }
   ],
   "source": [
    "G.fillna(0, inplace=True)"
   ]
  },
  {
   "cell_type": "code",
   "execution_count": 30,
   "metadata": {
    "collapsed": false,
    "scrolled": true
   },
   "outputs": [
    {
     "name": "stdout",
     "output_type": "stream",
     "text": [
      "time: 83.6 ms\n"
     ]
    }
   ],
   "source": [
    "res = mg.select_matcher([dt, rf, svm, nb, lg], table=G, exclude_attrs=['_id', 'ltable.id', 'rtable.id', 'gold'], target_attr='gold', random_state=100)"
   ]
  },
  {
   "cell_type": "code",
   "execution_count": 31,
   "metadata": {
    "collapsed": false
   },
   "outputs": [
    {
     "data": {
      "text/html": [
       "<div>\n",
       "<table border=\"1\" class=\"dataframe\">\n",
       "  <thead>\n",
       "    <tr style=\"text-align: right;\">\n",
       "      <th></th>\n",
       "      <th>Name</th>\n",
       "      <th>Matcher</th>\n",
       "      <th>Num folds</th>\n",
       "      <th>Fold 1</th>\n",
       "      <th>Fold 2</th>\n",
       "      <th>Fold 3</th>\n",
       "      <th>Fold 4</th>\n",
       "      <th>Fold 5</th>\n",
       "      <th>Mean score</th>\n",
       "    </tr>\n",
       "  </thead>\n",
       "  <tbody>\n",
       "    <tr>\n",
       "      <th>0</th>\n",
       "      <td>DecisionTree_84400837719666895441</td>\n",
       "      <td>&lt;magellan.matcher.dtmatcher.DTMatcher object a...</td>\n",
       "      <td>5</td>\n",
       "      <td>0.818182</td>\n",
       "      <td>0.857143</td>\n",
       "      <td>0.750000</td>\n",
       "      <td>1.000000</td>\n",
       "      <td>0.833333</td>\n",
       "      <td>0.851732</td>\n",
       "    </tr>\n",
       "    <tr>\n",
       "      <th>1</th>\n",
       "      <td>RandomForest_23405257719666895441</td>\n",
       "      <td>&lt;magellan.matcher.rfmatcher.RFMatcher object a...</td>\n",
       "      <td>5</td>\n",
       "      <td>0.818182</td>\n",
       "      <td>0.909091</td>\n",
       "      <td>0.750000</td>\n",
       "      <td>0.888889</td>\n",
       "      <td>0.833333</td>\n",
       "      <td>0.839899</td>\n",
       "    </tr>\n",
       "    <tr>\n",
       "      <th>2</th>\n",
       "      <td>SVM_80490647719666895441</td>\n",
       "      <td>&lt;magellan.matcher.svmmatcher.SVMMatcher object...</td>\n",
       "      <td>5</td>\n",
       "      <td>0.818182</td>\n",
       "      <td>0.909091</td>\n",
       "      <td>0.750000</td>\n",
       "      <td>0.800000</td>\n",
       "      <td>0.900000</td>\n",
       "      <td>0.835455</td>\n",
       "    </tr>\n",
       "    <tr>\n",
       "      <th>3</th>\n",
       "      <td>NaiveBayes_00884957719666895441</td>\n",
       "      <td>&lt;magellan.matcher.nbmatcher.NBMatcher object a...</td>\n",
       "      <td>5</td>\n",
       "      <td>0.818182</td>\n",
       "      <td>0.909091</td>\n",
       "      <td>0.727273</td>\n",
       "      <td>0.888889</td>\n",
       "      <td>0.900000</td>\n",
       "      <td>0.848687</td>\n",
       "    </tr>\n",
       "    <tr>\n",
       "      <th>4</th>\n",
       "      <td>LogisticRegression_02304467719666895441</td>\n",
       "      <td>&lt;magellan.matcher.logregmatcher.LogRegMatcher ...</td>\n",
       "      <td>5</td>\n",
       "      <td>0.818182</td>\n",
       "      <td>0.909091</td>\n",
       "      <td>0.750000</td>\n",
       "      <td>0.800000</td>\n",
       "      <td>0.875000</td>\n",
       "      <td>0.830455</td>\n",
       "    </tr>\n",
       "  </tbody>\n",
       "</table>\n",
       "</div>"
      ],
      "text/plain": [
       "                                      Name  \\\n",
       "0        DecisionTree_84400837719666895441   \n",
       "1        RandomForest_23405257719666895441   \n",
       "2                 SVM_80490647719666895441   \n",
       "3          NaiveBayes_00884957719666895441   \n",
       "4  LogisticRegression_02304467719666895441   \n",
       "\n",
       "                                             Matcher  Num folds    Fold 1  \\\n",
       "0  <magellan.matcher.dtmatcher.DTMatcher object a...          5  0.818182   \n",
       "1  <magellan.matcher.rfmatcher.RFMatcher object a...          5  0.818182   \n",
       "2  <magellan.matcher.svmmatcher.SVMMatcher object...          5  0.818182   \n",
       "3  <magellan.matcher.nbmatcher.NBMatcher object a...          5  0.818182   \n",
       "4  <magellan.matcher.logregmatcher.LogRegMatcher ...          5  0.818182   \n",
       "\n",
       "     Fold 2    Fold 3    Fold 4    Fold 5  Mean score  \n",
       "0  0.857143  0.750000  1.000000  0.833333    0.851732  \n",
       "1  0.909091  0.750000  0.888889  0.833333    0.839899  \n",
       "2  0.909091  0.750000  0.800000  0.900000    0.835455  \n",
       "3  0.909091  0.727273  0.888889  0.900000    0.848687  \n",
       "4  0.909091  0.750000  0.800000  0.875000    0.830455  "
      ]
     },
     "execution_count": 31,
     "metadata": {},
     "output_type": "execute_result"
    },
    {
     "name": "stdout",
     "output_type": "stream",
     "text": [
      "time: 15.1 ms\n"
     ]
    }
   ],
   "source": [
    "res['cv_stats']"
   ]
  },
  {
   "cell_type": "code",
   "execution_count": 36,
   "metadata": {
    "collapsed": false
   },
   "outputs": [
    {
     "name": "stdout",
     "output_type": "stream",
     "text": [
      "time: 2.75 ms\n"
     ]
    }
   ],
   "source": [
    "# split the data for development and test\n",
    "develop_test = mg.train_test_split(G, train_proportion=0.5, random_state=0)"
   ]
  },
  {
   "cell_type": "code",
   "execution_count": 37,
   "metadata": {
    "collapsed": false
   },
   "outputs": [
    {
     "name": "stdout",
     "output_type": "stream",
     "text": [
      "time: 919 µs\n"
     ]
    }
   ],
   "source": [
    "develop = develop_test['train']\n",
    "test = develop_test['test']\n"
   ]
  },
  {
   "cell_type": "code",
   "execution_count": 38,
   "metadata": {
    "collapsed": false
   },
   "outputs": [
    {
     "name": "stdout",
     "output_type": "stream",
     "text": [
      "time: 2.57 ms\n"
     ]
    }
   ],
   "source": [
    "develop_train_test = mg.train_test_split(develop, train_proportion=0.5, random_state=0)"
   ]
  },
  {
   "cell_type": "code",
   "execution_count": 40,
   "metadata": {
    "collapsed": false
   },
   "outputs": [
    {
     "data": {
      "text/plain": [
       "34"
      ]
     },
     "execution_count": 40,
     "metadata": {},
     "output_type": "execute_result"
    },
    {
     "name": "stdout",
     "output_type": "stream",
     "text": [
      "time: 1.41 ms\n"
     ]
    }
   ],
   "source": [
    "len(develop)"
   ]
  },
  {
   "cell_type": "code",
   "execution_count": 39,
   "metadata": {
    "collapsed": false
   },
   "outputs": [
    {
     "data": {
      "text/plain": [
       "17"
      ]
     },
     "execution_count": 39,
     "metadata": {},
     "output_type": "execute_result"
    },
    {
     "name": "stdout",
     "output_type": "stream",
     "text": [
      "time: 1.42 ms\n"
     ]
    }
   ],
   "source": [
    "len(develop_train_test['train'])"
   ]
  },
  {
   "cell_type": "code",
   "execution_count": null,
   "metadata": {
    "collapsed": true
   },
   "outputs": [],
   "source": []
  }
 ],
 "metadata": {
  "kernelspec": {
   "display_name": "Python 2",
   "language": "python",
   "name": "python2"
  },
  "language_info": {
   "codemirror_mode": {
    "name": "ipython",
    "version": 2
   },
   "file_extension": ".py",
   "mimetype": "text/x-python",
   "name": "python",
   "nbconvert_exporter": "python",
   "pygments_lexer": "ipython2",
   "version": "2.7.10"
  }
 },
 "nbformat": 4,
 "nbformat_minor": 0
}
