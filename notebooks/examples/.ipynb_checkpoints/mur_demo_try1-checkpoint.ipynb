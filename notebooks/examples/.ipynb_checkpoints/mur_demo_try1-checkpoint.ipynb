{
 "cells": [
  {
   "cell_type": "code",
   "execution_count": 1,
   "metadata": {
    "collapsed": false
   },
   "outputs": [
    {
     "name": "stderr",
     "output_type": "stream",
     "text": [
      "DEBUG:Cloud:Log file (/Users/pradap/.picloud/cloud.log) opened\n"
     ]
    }
   ],
   "source": [
    "import magellan as mg\n",
    "import pandas as pd"
   ]
  },
  {
   "cell_type": "code",
   "execution_count": 5,
   "metadata": {
    "collapsed": false
   },
   "outputs": [],
   "source": [
    "A = mg.read_csv('DBLP_cleaned.csv', key='id')"
   ]
  },
  {
   "cell_type": "code",
   "execution_count": 4,
   "metadata": {
    "collapsed": true
   },
   "outputs": [],
   "source": [
    "B = mg.read_csv('ACM_cleaned.csv', key='id')"
   ]
  },
  {
   "cell_type": "code",
   "execution_count": 6,
   "metadata": {
    "collapsed": true
   },
   "outputs": [],
   "source": [
    "ab = mg.AttrEquivalenceBlocker()\n",
    "C = ab.block_tables(dblp, acm, 'year', 'year', ['title', 'authors', 'year', 'venue'],\n",
    "                   ['title', 'authors', 'year', 'venue'])"
   ]
  },
  {
   "cell_type": "code",
   "execution_count": 7,
   "metadata": {
    "collapsed": false
   },
   "outputs": [],
   "source": [
    "# sample C\n",
    "S = mg.sample_table(C, 400)"
   ]
  },
  {
   "cell_type": "code",
   "execution_count": 8,
   "metadata": {
    "collapsed": true
   },
   "outputs": [],
   "source": [
    "# label table\n",
    "#G = mg.label_table(S, 'gold')"
   ]
  },
  {
   "cell_type": "code",
   "execution_count": 15,
   "metadata": {
    "collapsed": false
   },
   "outputs": [],
   "source": [
    "# for demo load a pre-labeled set\n",
    "G = mg.read_csv('acm_dblp_label.csv', key='_id', ltable=A, rtable=B)"
   ]
  },
  {
   "cell_type": "code",
   "execution_count": 17,
   "metadata": {
    "collapsed": true
   },
   "outputs": [],
   "source": [
    "#plan\n",
    "\n",
    "# 1. sample candidate set --> S\n",
    "# 2. label S --> L\n",
    "# 3. Split L into development I, and evaluation set J\n",
    "# 4. Select best matcher Y, using I \n",
    "# 5. Add triggers to Y ---> Z\n",
    "# 6. Evaluate Z using J"
   ]
  },
  {
   "cell_type": "code",
   "execution_count": 20,
   "metadata": {
    "collapsed": false
   },
   "outputs": [],
   "source": [
    "IJ = mg.train_test_split(G, train_proportion=0.7)\n",
    "I = IJ['train']\n",
    "J = IJ['test']"
   ]
  },
  {
   "cell_type": "code",
   "execution_count": 21,
   "metadata": {
    "collapsed": false
   },
   "outputs": [
    {
     "data": {
      "text/plain": [
       "(278, 120)"
      ]
     },
     "execution_count": 21,
     "metadata": {},
     "output_type": "execute_result"
    }
   ],
   "source": [
    "len(I), len(J)"
   ]
  },
  {
   "cell_type": "code",
   "execution_count": 22,
   "metadata": {
    "collapsed": true
   },
   "outputs": [],
   "source": [
    "# selecting the best learning matcher\n",
    "# 1. Create a set of ML-matchers\n",
    "# 2. Generate features --> feature_table\n",
    "# 3. Extract features using I and feature_table\n",
    "# 4. Select best matcher using CV\n",
    "# 5. Debug the selected matcher (and repeat the above steps)"
   ]
  },
  {
   "cell_type": "code",
   "execution_count": 29,
   "metadata": {
    "collapsed": false
   },
   "outputs": [
    {
     "name": "stderr",
     "output_type": "stream",
     "text": [
      "WARNING:magellan.feature.autofeaturegen:Magellan types: id type (str_eq_1w) and id type (numeric) are different.If you want to set them to be same and generate features, update output from get_attr_types and use get_features command.\n",
      "\n",
      "WARNING:magellan.feature.autofeaturegen:Magellan types: venue type (str_bt_1w_5w) and venue type (str_bt_5w_10w) are different.If you want to set them to be same and generate features, update output from get_attr_types and use get_features command.\n",
      "\n",
      "WARNING:magellan.feature.autofeaturegen:Magellan types: id type (str_eq_1w) and id type (numeric) are different.If you want to set them to be same and generate features, update output from get_attr_types and use get_features command.\n",
      "\n"
     ]
    }
   ],
   "source": [
    "feature_table = mg.get_features_for_matching(A, B)\n",
    "mg._atypes1['venue']='str_bt_5w_10w'\n",
    "feature_table = mg.get_features(A, B, mg._atypes1, mg._atypes2, mg._match_c, mg._match_t, \n",
    "                               mg._match_s)"
   ]
  },
  {
   "cell_type": "code",
   "execution_count": 30,
   "metadata": {
    "collapsed": false
   },
   "outputs": [
    {
     "data": {
      "text/html": [
       "<div>\n",
       "<table border=\"1\" class=\"dataframe\">\n",
       "  <thead>\n",
       "    <tr style=\"text-align: right;\">\n",
       "      <th></th>\n",
       "      <th>feature_name</th>\n",
       "      <th>left_attribute</th>\n",
       "      <th>right_attribute</th>\n",
       "      <th>left_attr_tokenizer</th>\n",
       "      <th>right_attr_tokenizer</th>\n",
       "      <th>simfunction</th>\n",
       "      <th>function</th>\n",
       "      <th>function_source</th>\n",
       "    </tr>\n",
       "  </thead>\n",
       "  <tbody>\n",
       "    <tr>\n",
       "      <th>0</th>\n",
       "      <td>title_title_jac_qgm_3_qgm_3</td>\n",
       "      <td>title</td>\n",
       "      <td>title</td>\n",
       "      <td>qgm_3</td>\n",
       "      <td>qgm_3</td>\n",
       "      <td>jaccard</td>\n",
       "      <td>&lt;function title_title_jac_qgm_3_qgm_3 at 0x115...</td>\n",
       "      <td>from magellan.feature.simfunctions import *\\nf...</td>\n",
       "    </tr>\n",
       "    <tr>\n",
       "      <th>1</th>\n",
       "      <td>title_title_cos_dlm_dc0_dlm_dc0</td>\n",
       "      <td>title</td>\n",
       "      <td>title</td>\n",
       "      <td>dlm_dc0</td>\n",
       "      <td>dlm_dc0</td>\n",
       "      <td>cosine</td>\n",
       "      <td>&lt;function title_title_cos_dlm_dc0_dlm_dc0 at 0...</td>\n",
       "      <td>from magellan.feature.simfunctions import *\\nf...</td>\n",
       "    </tr>\n",
       "    <tr>\n",
       "      <th>2</th>\n",
       "      <td>title_title_mel</td>\n",
       "      <td>title</td>\n",
       "      <td>title</td>\n",
       "      <td>None</td>\n",
       "      <td>None</td>\n",
       "      <td>monge_elkan</td>\n",
       "      <td>&lt;function title_title_mel at 0x115c31938&gt;</td>\n",
       "      <td>from magellan.feature.simfunctions import *\\nf...</td>\n",
       "    </tr>\n",
       "    <tr>\n",
       "      <th>3</th>\n",
       "      <td>title_title_lev</td>\n",
       "      <td>title</td>\n",
       "      <td>title</td>\n",
       "      <td>None</td>\n",
       "      <td>None</td>\n",
       "      <td>lev</td>\n",
       "      <td>&lt;function title_title_lev at 0x115c31ed8&gt;</td>\n",
       "      <td>from magellan.feature.simfunctions import *\\nf...</td>\n",
       "    </tr>\n",
       "    <tr>\n",
       "      <th>4</th>\n",
       "      <td>authors_authors_jac_qgm_3_qgm_3</td>\n",
       "      <td>authors</td>\n",
       "      <td>authors</td>\n",
       "      <td>qgm_3</td>\n",
       "      <td>qgm_3</td>\n",
       "      <td>jaccard</td>\n",
       "      <td>&lt;function authors_authors_jac_qgm_3_qgm_3 at 0...</td>\n",
       "      <td>from magellan.feature.simfunctions import *\\nf...</td>\n",
       "    </tr>\n",
       "    <tr>\n",
       "      <th>5</th>\n",
       "      <td>authors_authors_cos_dlm_dc0_dlm_dc0</td>\n",
       "      <td>authors</td>\n",
       "      <td>authors</td>\n",
       "      <td>dlm_dc0</td>\n",
       "      <td>dlm_dc0</td>\n",
       "      <td>cosine</td>\n",
       "      <td>&lt;function authors_authors_cos_dlm_dc0_dlm_dc0 ...</td>\n",
       "      <td>from magellan.feature.simfunctions import *\\nf...</td>\n",
       "    </tr>\n",
       "    <tr>\n",
       "      <th>6</th>\n",
       "      <td>authors_authors_mel</td>\n",
       "      <td>authors</td>\n",
       "      <td>authors</td>\n",
       "      <td>None</td>\n",
       "      <td>None</td>\n",
       "      <td>monge_elkan</td>\n",
       "      <td>&lt;function authors_authors_mel at 0x115c31aa0&gt;</td>\n",
       "      <td>from magellan.feature.simfunctions import *\\nf...</td>\n",
       "    </tr>\n",
       "    <tr>\n",
       "      <th>7</th>\n",
       "      <td>authors_authors_lev</td>\n",
       "      <td>authors</td>\n",
       "      <td>authors</td>\n",
       "      <td>None</td>\n",
       "      <td>None</td>\n",
       "      <td>lev</td>\n",
       "      <td>&lt;function authors_authors_lev at 0x115c317d0&gt;</td>\n",
       "      <td>from magellan.feature.simfunctions import *\\nf...</td>\n",
       "    </tr>\n",
       "    <tr>\n",
       "      <th>8</th>\n",
       "      <td>venue_venue_jac_qgm_3_qgm_3</td>\n",
       "      <td>venue</td>\n",
       "      <td>venue</td>\n",
       "      <td>qgm_3</td>\n",
       "      <td>qgm_3</td>\n",
       "      <td>jaccard</td>\n",
       "      <td>&lt;function venue_venue_jac_qgm_3_qgm_3 at 0x115...</td>\n",
       "      <td>from magellan.feature.simfunctions import *\\nf...</td>\n",
       "    </tr>\n",
       "    <tr>\n",
       "      <th>9</th>\n",
       "      <td>venue_venue_cos_dlm_dc0_dlm_dc0</td>\n",
       "      <td>venue</td>\n",
       "      <td>venue</td>\n",
       "      <td>dlm_dc0</td>\n",
       "      <td>dlm_dc0</td>\n",
       "      <td>cosine</td>\n",
       "      <td>&lt;function venue_venue_cos_dlm_dc0_dlm_dc0 at 0...</td>\n",
       "      <td>from magellan.feature.simfunctions import *\\nf...</td>\n",
       "    </tr>\n",
       "    <tr>\n",
       "      <th>10</th>\n",
       "      <td>venue_venue_mel</td>\n",
       "      <td>venue</td>\n",
       "      <td>venue</td>\n",
       "      <td>None</td>\n",
       "      <td>None</td>\n",
       "      <td>monge_elkan</td>\n",
       "      <td>&lt;function venue_venue_mel at 0x115c31578&gt;</td>\n",
       "      <td>from magellan.feature.simfunctions import *\\nf...</td>\n",
       "    </tr>\n",
       "    <tr>\n",
       "      <th>11</th>\n",
       "      <td>venue_venue_lev</td>\n",
       "      <td>venue</td>\n",
       "      <td>venue</td>\n",
       "      <td>None</td>\n",
       "      <td>None</td>\n",
       "      <td>lev</td>\n",
       "      <td>&lt;function venue_venue_lev at 0x115c31140&gt;</td>\n",
       "      <td>from magellan.feature.simfunctions import *\\nf...</td>\n",
       "    </tr>\n",
       "    <tr>\n",
       "      <th>12</th>\n",
       "      <td>year_year_exm</td>\n",
       "      <td>year</td>\n",
       "      <td>year</td>\n",
       "      <td>None</td>\n",
       "      <td>None</td>\n",
       "      <td>exact_match</td>\n",
       "      <td>&lt;function year_year_exm at 0x115c31c08&gt;</td>\n",
       "      <td>from magellan.feature.simfunctions import *\\nf...</td>\n",
       "    </tr>\n",
       "    <tr>\n",
       "      <th>13</th>\n",
       "      <td>year_year_anm</td>\n",
       "      <td>year</td>\n",
       "      <td>year</td>\n",
       "      <td>None</td>\n",
       "      <td>None</td>\n",
       "      <td>abs_norm</td>\n",
       "      <td>&lt;function year_year_anm at 0x115c318c0&gt;</td>\n",
       "      <td>from magellan.feature.simfunctions import *\\nf...</td>\n",
       "    </tr>\n",
       "    <tr>\n",
       "      <th>14</th>\n",
       "      <td>year_year_lev</td>\n",
       "      <td>year</td>\n",
       "      <td>year</td>\n",
       "      <td>None</td>\n",
       "      <td>None</td>\n",
       "      <td>lev</td>\n",
       "      <td>&lt;function year_year_lev at 0x115c31f50&gt;</td>\n",
       "      <td>from magellan.feature.simfunctions import *\\nf...</td>\n",
       "    </tr>\n",
       "  </tbody>\n",
       "</table>\n",
       "</div>"
      ],
      "text/plain": [
       "                           feature_name left_attribute right_attribute  \\\n",
       "0           title_title_jac_qgm_3_qgm_3          title           title   \n",
       "1       title_title_cos_dlm_dc0_dlm_dc0          title           title   \n",
       "2                       title_title_mel          title           title   \n",
       "3                       title_title_lev          title           title   \n",
       "4       authors_authors_jac_qgm_3_qgm_3        authors         authors   \n",
       "5   authors_authors_cos_dlm_dc0_dlm_dc0        authors         authors   \n",
       "6                   authors_authors_mel        authors         authors   \n",
       "7                   authors_authors_lev        authors         authors   \n",
       "8           venue_venue_jac_qgm_3_qgm_3          venue           venue   \n",
       "9       venue_venue_cos_dlm_dc0_dlm_dc0          venue           venue   \n",
       "10                      venue_venue_mel          venue           venue   \n",
       "11                      venue_venue_lev          venue           venue   \n",
       "12                        year_year_exm           year            year   \n",
       "13                        year_year_anm           year            year   \n",
       "14                        year_year_lev           year            year   \n",
       "\n",
       "   left_attr_tokenizer right_attr_tokenizer  simfunction  \\\n",
       "0                qgm_3                qgm_3      jaccard   \n",
       "1              dlm_dc0              dlm_dc0       cosine   \n",
       "2                 None                 None  monge_elkan   \n",
       "3                 None                 None          lev   \n",
       "4                qgm_3                qgm_3      jaccard   \n",
       "5              dlm_dc0              dlm_dc0       cosine   \n",
       "6                 None                 None  monge_elkan   \n",
       "7                 None                 None          lev   \n",
       "8                qgm_3                qgm_3      jaccard   \n",
       "9              dlm_dc0              dlm_dc0       cosine   \n",
       "10                None                 None  monge_elkan   \n",
       "11                None                 None          lev   \n",
       "12                None                 None  exact_match   \n",
       "13                None                 None     abs_norm   \n",
       "14                None                 None          lev   \n",
       "\n",
       "                                             function  \\\n",
       "0   <function title_title_jac_qgm_3_qgm_3 at 0x115...   \n",
       "1   <function title_title_cos_dlm_dc0_dlm_dc0 at 0...   \n",
       "2           <function title_title_mel at 0x115c31938>   \n",
       "3           <function title_title_lev at 0x115c31ed8>   \n",
       "4   <function authors_authors_jac_qgm_3_qgm_3 at 0...   \n",
       "5   <function authors_authors_cos_dlm_dc0_dlm_dc0 ...   \n",
       "6       <function authors_authors_mel at 0x115c31aa0>   \n",
       "7       <function authors_authors_lev at 0x115c317d0>   \n",
       "8   <function venue_venue_jac_qgm_3_qgm_3 at 0x115...   \n",
       "9   <function venue_venue_cos_dlm_dc0_dlm_dc0 at 0...   \n",
       "10          <function venue_venue_mel at 0x115c31578>   \n",
       "11          <function venue_venue_lev at 0x115c31140>   \n",
       "12            <function year_year_exm at 0x115c31c08>   \n",
       "13            <function year_year_anm at 0x115c318c0>   \n",
       "14            <function year_year_lev at 0x115c31f50>   \n",
       "\n",
       "                                      function_source  \n",
       "0   from magellan.feature.simfunctions import *\\nf...  \n",
       "1   from magellan.feature.simfunctions import *\\nf...  \n",
       "2   from magellan.feature.simfunctions import *\\nf...  \n",
       "3   from magellan.feature.simfunctions import *\\nf...  \n",
       "4   from magellan.feature.simfunctions import *\\nf...  \n",
       "5   from magellan.feature.simfunctions import *\\nf...  \n",
       "6   from magellan.feature.simfunctions import *\\nf...  \n",
       "7   from magellan.feature.simfunctions import *\\nf...  \n",
       "8   from magellan.feature.simfunctions import *\\nf...  \n",
       "9   from magellan.feature.simfunctions import *\\nf...  \n",
       "10  from magellan.feature.simfunctions import *\\nf...  \n",
       "11  from magellan.feature.simfunctions import *\\nf...  \n",
       "12  from magellan.feature.simfunctions import *\\nf...  \n",
       "13  from magellan.feature.simfunctions import *\\nf...  \n",
       "14  from magellan.feature.simfunctions import *\\nf...  "
      ]
     },
     "execution_count": 30,
     "metadata": {},
     "output_type": "execute_result"
    }
   ],
   "source": [
    "feature_table"
   ]
  },
  {
   "cell_type": "code",
   "execution_count": 57,
   "metadata": {
    "collapsed": true
   },
   "outputs": [],
   "source": [
    "f = feature_table.ix[[10, 12, 13, 14]]"
   ]
  },
  {
   "cell_type": "code",
   "execution_count": 58,
   "metadata": {
    "collapsed": false
   },
   "outputs": [
    {
     "data": {
      "text/html": [
       "<div>\n",
       "<table border=\"1\" class=\"dataframe\">\n",
       "  <thead>\n",
       "    <tr style=\"text-align: right;\">\n",
       "      <th></th>\n",
       "      <th>feature_name</th>\n",
       "      <th>left_attribute</th>\n",
       "      <th>right_attribute</th>\n",
       "      <th>left_attr_tokenizer</th>\n",
       "      <th>right_attr_tokenizer</th>\n",
       "      <th>simfunction</th>\n",
       "      <th>function</th>\n",
       "      <th>function_source</th>\n",
       "    </tr>\n",
       "  </thead>\n",
       "  <tbody>\n",
       "    <tr>\n",
       "      <th>10</th>\n",
       "      <td>venue_venue_mel</td>\n",
       "      <td>venue</td>\n",
       "      <td>venue</td>\n",
       "      <td>None</td>\n",
       "      <td>None</td>\n",
       "      <td>monge_elkan</td>\n",
       "      <td>&lt;function venue_venue_mel at 0x115663c08&gt;</td>\n",
       "      <td>from magellan.feature.simfunctions import *\\nf...</td>\n",
       "    </tr>\n",
       "    <tr>\n",
       "      <th>12</th>\n",
       "      <td>year_year_exm</td>\n",
       "      <td>year</td>\n",
       "      <td>year</td>\n",
       "      <td>None</td>\n",
       "      <td>None</td>\n",
       "      <td>exact_match</td>\n",
       "      <td>&lt;function year_year_exm at 0x115663b18&gt;</td>\n",
       "      <td>from magellan.feature.simfunctions import *\\nf...</td>\n",
       "    </tr>\n",
       "    <tr>\n",
       "      <th>13</th>\n",
       "      <td>year_year_anm</td>\n",
       "      <td>year</td>\n",
       "      <td>year</td>\n",
       "      <td>None</td>\n",
       "      <td>None</td>\n",
       "      <td>abs_norm</td>\n",
       "      <td>&lt;function year_year_anm at 0x115663aa0&gt;</td>\n",
       "      <td>from magellan.feature.simfunctions import *\\nf...</td>\n",
       "    </tr>\n",
       "    <tr>\n",
       "      <th>14</th>\n",
       "      <td>year_year_lev</td>\n",
       "      <td>year</td>\n",
       "      <td>year</td>\n",
       "      <td>None</td>\n",
       "      <td>None</td>\n",
       "      <td>lev</td>\n",
       "      <td>&lt;function year_year_lev at 0x115663a28&gt;</td>\n",
       "      <td>from magellan.feature.simfunctions import *\\nf...</td>\n",
       "    </tr>\n",
       "  </tbody>\n",
       "</table>\n",
       "</div>"
      ],
      "text/plain": [
       "       feature_name left_attribute right_attribute left_attr_tokenizer  \\\n",
       "10  venue_venue_mel          venue           venue                None   \n",
       "12    year_year_exm           year            year                None   \n",
       "13    year_year_anm           year            year                None   \n",
       "14    year_year_lev           year            year                None   \n",
       "\n",
       "   right_attr_tokenizer  simfunction  \\\n",
       "10                 None  monge_elkan   \n",
       "12                 None  exact_match   \n",
       "13                 None     abs_norm   \n",
       "14                 None          lev   \n",
       "\n",
       "                                     function  \\\n",
       "10  <function venue_venue_mel at 0x115663c08>   \n",
       "12    <function year_year_exm at 0x115663b18>   \n",
       "13    <function year_year_anm at 0x115663aa0>   \n",
       "14    <function year_year_lev at 0x115663a28>   \n",
       "\n",
       "                                      function_source  \n",
       "10  from magellan.feature.simfunctions import *\\nf...  \n",
       "12  from magellan.feature.simfunctions import *\\nf...  \n",
       "13  from magellan.feature.simfunctions import *\\nf...  \n",
       "14  from magellan.feature.simfunctions import *\\nf...  "
      ]
     },
     "execution_count": 58,
     "metadata": {},
     "output_type": "execute_result"
    }
   ],
   "source": [
    "f"
   ]
  },
  {
   "cell_type": "code",
   "execution_count": 81,
   "metadata": {
    "collapsed": false
   },
   "outputs": [
    {
     "name": "stderr",
     "output_type": "stream",
     "text": [
      "WARNING:magellan.utils.helperfunctions:JVM is already running\n"
     ]
    },
    {
     "data": {
      "text/plain": [
       "True"
      ]
     },
     "execution_count": 81,
     "metadata": {},
     "output_type": "execute_result"
    }
   ],
   "source": [
    "mg.init_jvm()"
   ]
  },
  {
   "cell_type": "code",
   "execution_count": 59,
   "metadata": {
    "collapsed": false
   },
   "outputs": [],
   "source": [
    "# extract features\n",
    "H = mg.extract_feature_vecs(G, feature_table=f, attrs_after='gold')"
   ]
  },
  {
   "cell_type": "code",
   "execution_count": 60,
   "metadata": {
    "collapsed": false
   },
   "outputs": [],
   "source": [
    "# impute values\n",
    "H.fillna(0, inplace=True)"
   ]
  },
  {
   "cell_type": "code",
   "execution_count": 61,
   "metadata": {
    "collapsed": true
   },
   "outputs": [],
   "source": [
    "# Create ML matchers\n",
    "dt = mg.DTMatcher(name='DecisionTree', random_state=0)\n",
    "svm = mg.SVMMatcher()\n",
    "rf = mg.RFMatcher(name='RF', random_state=0)\n",
    "nb = mg.NBMatcher(name='NB')\n",
    "lg = mg.LogRegMatcher(name='LogReg')\n",
    "ln = mg.LinRegMatcher(name='LinReg')"
   ]
  },
  {
   "cell_type": "code",
   "execution_count": 64,
   "metadata": {
    "collapsed": false
   },
   "outputs": [],
   "source": [
    "# select the best ML matcher using CV\n",
    "result = mg.select_matcher([dt, rf, svm, nb, lg, ln], table=H, \n",
    "        exclude_attrs=['_id', 'ltable.id', 'rtable.id', 'gold'],\n",
    "        target_attr='gold', metric='recall') "
   ]
  },
  {
   "cell_type": "code",
   "execution_count": 65,
   "metadata": {
    "collapsed": false
   },
   "outputs": [
    {
     "data": {
      "text/html": [
       "<div>\n",
       "<table border=\"1\" class=\"dataframe\">\n",
       "  <thead>\n",
       "    <tr style=\"text-align: right;\">\n",
       "      <th></th>\n",
       "      <th>Name</th>\n",
       "      <th>Matcher</th>\n",
       "      <th>Num folds</th>\n",
       "      <th>Fold 1</th>\n",
       "      <th>Fold 2</th>\n",
       "      <th>Fold 3</th>\n",
       "      <th>Fold 4</th>\n",
       "      <th>Fold 5</th>\n",
       "      <th>Mean score</th>\n",
       "    </tr>\n",
       "  </thead>\n",
       "  <tbody>\n",
       "    <tr>\n",
       "      <th>0</th>\n",
       "      <td>DecisionTree</td>\n",
       "      <td>&lt;magellan.matcher.dtmatcher.DTMatcher object a...</td>\n",
       "      <td>5</td>\n",
       "      <td>1.000000</td>\n",
       "      <td>1.000000</td>\n",
       "      <td>1.000000</td>\n",
       "      <td>1.000000</td>\n",
       "      <td>1.000000</td>\n",
       "      <td>1.000000</td>\n",
       "    </tr>\n",
       "    <tr>\n",
       "      <th>1</th>\n",
       "      <td>RF</td>\n",
       "      <td>&lt;magellan.matcher.rfmatcher.RFMatcher object a...</td>\n",
       "      <td>5</td>\n",
       "      <td>1.000000</td>\n",
       "      <td>1.000000</td>\n",
       "      <td>1.000000</td>\n",
       "      <td>1.000000</td>\n",
       "      <td>1.000000</td>\n",
       "      <td>1.000000</td>\n",
       "    </tr>\n",
       "    <tr>\n",
       "      <th>2</th>\n",
       "      <td>SVM_06904021795058376441</td>\n",
       "      <td>&lt;magellan.matcher.svmmatcher.SVMMatcher object...</td>\n",
       "      <td>5</td>\n",
       "      <td>0.804878</td>\n",
       "      <td>0.658537</td>\n",
       "      <td>0.810811</td>\n",
       "      <td>0.694444</td>\n",
       "      <td>0.604651</td>\n",
       "      <td>0.714664</td>\n",
       "    </tr>\n",
       "    <tr>\n",
       "      <th>3</th>\n",
       "      <td>NB</td>\n",
       "      <td>&lt;magellan.matcher.nbmatcher.NBMatcher object a...</td>\n",
       "      <td>5</td>\n",
       "      <td>0.685714</td>\n",
       "      <td>0.702703</td>\n",
       "      <td>0.702128</td>\n",
       "      <td>0.717949</td>\n",
       "      <td>0.750000</td>\n",
       "      <td>0.711699</td>\n",
       "    </tr>\n",
       "    <tr>\n",
       "      <th>4</th>\n",
       "      <td>LogReg</td>\n",
       "      <td>&lt;magellan.matcher.logregmatcher.LogRegMatcher ...</td>\n",
       "      <td>5</td>\n",
       "      <td>0.729167</td>\n",
       "      <td>0.771429</td>\n",
       "      <td>0.771429</td>\n",
       "      <td>0.648649</td>\n",
       "      <td>0.651163</td>\n",
       "      <td>0.714367</td>\n",
       "    </tr>\n",
       "    <tr>\n",
       "      <th>5</th>\n",
       "      <td>LinReg</td>\n",
       "      <td>&lt;magellan.matcher.linregmatcher.LinRegMatcher ...</td>\n",
       "      <td>5</td>\n",
       "      <td>0.641026</td>\n",
       "      <td>0.720930</td>\n",
       "      <td>0.815789</td>\n",
       "      <td>0.589744</td>\n",
       "      <td>0.794872</td>\n",
       "      <td>0.712472</td>\n",
       "    </tr>\n",
       "  </tbody>\n",
       "</table>\n",
       "</div>"
      ],
      "text/plain": [
       "                       Name  \\\n",
       "0              DecisionTree   \n",
       "1                        RF   \n",
       "2  SVM_06904021795058376441   \n",
       "3                        NB   \n",
       "4                    LogReg   \n",
       "5                    LinReg   \n",
       "\n",
       "                                             Matcher  Num folds    Fold 1  \\\n",
       "0  <magellan.matcher.dtmatcher.DTMatcher object a...          5  1.000000   \n",
       "1  <magellan.matcher.rfmatcher.RFMatcher object a...          5  1.000000   \n",
       "2  <magellan.matcher.svmmatcher.SVMMatcher object...          5  0.804878   \n",
       "3  <magellan.matcher.nbmatcher.NBMatcher object a...          5  0.685714   \n",
       "4  <magellan.matcher.logregmatcher.LogRegMatcher ...          5  0.729167   \n",
       "5  <magellan.matcher.linregmatcher.LinRegMatcher ...          5  0.641026   \n",
       "\n",
       "     Fold 2    Fold 3    Fold 4    Fold 5  Mean score  \n",
       "0  1.000000  1.000000  1.000000  1.000000    1.000000  \n",
       "1  1.000000  1.000000  1.000000  1.000000    1.000000  \n",
       "2  0.658537  0.810811  0.694444  0.604651    0.714664  \n",
       "3  0.702703  0.702128  0.717949  0.750000    0.711699  \n",
       "4  0.771429  0.771429  0.648649  0.651163    0.714367  \n",
       "5  0.720930  0.815789  0.589744  0.794872    0.712472  "
      ]
     },
     "execution_count": 65,
     "metadata": {},
     "output_type": "execute_result"
    }
   ],
   "source": [
    "result['cv_stats']"
   ]
  },
  {
   "cell_type": "code",
   "execution_count": 68,
   "metadata": {
    "collapsed": false
   },
   "outputs": [],
   "source": [
    "# Split feature vectors to train and test\n",
    "UV = mg.train_test_split(H, train_proportion=0.5, random_state=0)\n",
    "U = UV['train']\n",
    "V = UV['test']"
   ]
  },
  {
   "cell_type": "code",
   "execution_count": null,
   "metadata": {
    "collapsed": true
   },
   "outputs": [],
   "source": []
  }
 ],
 "metadata": {
  "kernelspec": {
   "display_name": "Python 2",
   "language": "python",
   "name": "python2"
  },
  "language_info": {
   "codemirror_mode": {
    "name": "ipython",
    "version": 2
   },
   "file_extension": ".py",
   "mimetype": "text/x-python",
   "name": "python",
   "nbconvert_exporter": "python",
   "pygments_lexer": "ipython2",
   "version": "2.7.10"
  }
 },
 "nbformat": 4,
 "nbformat_minor": 0
}
