{
 "cells": [
  {
   "cell_type": "code",
   "execution_count": 1,
   "metadata": {
    "collapsed": true
   },
   "outputs": [],
   "source": [
    "%load_ext autotime"
   ]
  },
  {
   "cell_type": "code",
   "execution_count": 2,
   "metadata": {
    "collapsed": false
   },
   "outputs": [
    {
     "name": "stdout",
     "output_type": "stream",
     "text": [
      "time: 1.04 ms\n"
     ]
    }
   ],
   "source": [
    "import sys\n",
    "sys.path.append('/Users/Pradap/Documents/Research/Python-Package/enrique/')"
   ]
  },
  {
   "cell_type": "code",
   "execution_count": 3,
   "metadata": {
    "collapsed": false
   },
   "outputs": [
    {
     "name": "stderr",
     "output_type": "stream",
     "text": [
      "DEBUG:Cloud:Log file (/Users/pradap/.picloud/cloud.log) opened\n"
     ]
    },
    {
     "name": "stdout",
     "output_type": "stream",
     "text": [
      "time: 756 ms\n"
     ]
    }
   ],
   "source": [
    "import magellan as mg"
   ]
  },
  {
   "cell_type": "code",
   "execution_count": 4,
   "metadata": {
    "collapsed": false
   },
   "outputs": [
    {
     "data": {
      "text/plain": [
       "True"
      ]
     },
     "execution_count": 4,
     "metadata": {},
     "output_type": "execute_result"
    },
    {
     "name": "stdout",
     "output_type": "stream",
     "text": [
      "time: 127 ms\n"
     ]
    }
   ],
   "source": [
    "mg.init_jvm('/Library/Java/JavaVirtualMachines/jdk1.8.0_45.jdk/Contents/Home/jre/lib/server/libjvm.dylib')"
   ]
  },
  {
   "cell_type": "code",
   "execution_count": 5,
   "metadata": {
    "collapsed": false
   },
   "outputs": [
    {
     "name": "stdout",
     "output_type": "stream",
     "text": [
      "time: 19.2 ms\n"
     ]
    }
   ],
   "source": [
    "acm = mg.read_csv(mg.get_install_path() + '/datasets/DBLP_ACM/ACM_cleaned.csv'\n",
    "                 , key='id')"
   ]
  },
  {
   "cell_type": "code",
   "execution_count": 6,
   "metadata": {
    "collapsed": false
   },
   "outputs": [
    {
     "name": "stdout",
     "output_type": "stream",
     "text": [
      "time: 22.2 ms\n"
     ]
    }
   ],
   "source": [
    "dblp = mg.read_csv(mg.get_install_path() + '/datasets/DBLP_ACM/DBLP_cleaned.csv', key='id')"
   ]
  },
  {
   "cell_type": "code",
   "execution_count": 7,
   "metadata": {
    "collapsed": false
   },
   "outputs": [
    {
     "name": "stdout",
     "output_type": "stream",
     "text": [
      "time: 1.48 s\n"
     ]
    }
   ],
   "source": [
    "ab = mg.AttrEquivalenceBlocker()\n",
    "C1 = ab.block_tables(acm, dblp, 'year', 'year')"
   ]
  },
  {
   "cell_type": "code",
   "execution_count": 8,
   "metadata": {
    "collapsed": false
   },
   "outputs": [
    {
     "data": {
      "text/plain": [
       "[1994, 1995, 1996, 1997, 1998, 1999, 2000, 2001, 2002, 2003]"
      ]
     },
     "execution_count": 8,
     "metadata": {},
     "output_type": "execute_result"
    },
    {
     "name": "stdout",
     "output_type": "stream",
     "text": [
      "time: 3.1 ms\n"
     ]
    }
   ],
   "source": [
    "acm.groupby('year').groups.keys()\n"
   ]
  },
  {
   "cell_type": "code",
   "execution_count": 9,
   "metadata": {
    "collapsed": false
   },
   "outputs": [
    {
     "data": {
      "text/plain": [
       "[1994, 1995, 1996, 1997, 1998, 1999, 2000, 2001, 2002, 2003]"
      ]
     },
     "execution_count": 9,
     "metadata": {},
     "output_type": "execute_result"
    },
    {
     "name": "stdout",
     "output_type": "stream",
     "text": [
      "time: 3.49 ms\n"
     ]
    }
   ],
   "source": [
    "dblp.groupby('year').groups.keys()"
   ]
  },
  {
   "cell_type": "code",
   "execution_count": 10,
   "metadata": {
    "collapsed": false
   },
   "outputs": [
    {
     "name": "stderr",
     "output_type": "stream",
     "text": [
      "WARNING:magellan.feature.autofeaturegen:id type and id type are different\n",
      "WARNING:magellan.feature.autofeaturegen:venue type and venue type are different\n"
     ]
    },
    {
     "name": "stdout",
     "output_type": "stream",
     "text": [
      "time: 90.8 ms\n"
     ]
    }
   ],
   "source": [
    "feat_table = mg.get_features_for_blocking(acm, dblp)"
   ]
  },
  {
   "cell_type": "code",
   "execution_count": 11,
   "metadata": {
    "collapsed": false
   },
   "outputs": [
    {
     "data": {
      "text/plain": [
       "'str_bt_5w_10w'"
      ]
     },
     "execution_count": 11,
     "metadata": {},
     "output_type": "execute_result"
    },
    {
     "name": "stdout",
     "output_type": "stream",
     "text": [
      "time: 2.05 ms\n"
     ]
    }
   ],
   "source": [
    "mg._atypes1['venue']"
   ]
  },
  {
   "cell_type": "code",
   "execution_count": 12,
   "metadata": {
    "collapsed": false
   },
   "outputs": [
    {
     "name": "stdout",
     "output_type": "stream",
     "text": [
      "time: 797 µs\n"
     ]
    }
   ],
   "source": [
    "mg._atypes2['venue'] = 'str_bt_5w_10w'"
   ]
  },
  {
   "cell_type": "code",
   "execution_count": 13,
   "metadata": {
    "collapsed": false
   },
   "outputs": [
    {
     "name": "stderr",
     "output_type": "stream",
     "text": [
      "WARNING:magellan.feature.autofeaturegen:id type and id type are different\n"
     ]
    },
    {
     "name": "stdout",
     "output_type": "stream",
     "text": [
      "time: 4.8 ms\n"
     ]
    }
   ],
   "source": [
    "feat_table = mg.get_features(acm, dblp, mg._atypes1, mg._atypes2, \n",
    "                            mg._block_c, mg._block_t, mg._block_s)"
   ]
  },
  {
   "cell_type": "code",
   "execution_count": 14,
   "metadata": {
    "collapsed": false
   },
   "outputs": [
    {
     "data": {
      "text/plain": [
       "0             title_title_jac_qgm_3_qgm_3\n",
       "1         title_title_cos_dlm_dc0_dlm_dc0\n",
       "2                         title_title_mel\n",
       "3         authors_authors_jac_qgm_3_qgm_3\n",
       "4     authors_authors_cos_dlm_dc0_dlm_dc0\n",
       "5                     authors_authors_mel\n",
       "6             venue_venue_jac_qgm_3_qgm_3\n",
       "7         venue_venue_cos_dlm_dc0_dlm_dc0\n",
       "8                         venue_venue_mel\n",
       "9                           year_year_exm\n",
       "10                          year_year_anm\n",
       "11                          year_year_lev\n",
       "Name: feature_name, dtype: object"
      ]
     },
     "execution_count": 14,
     "metadata": {},
     "output_type": "execute_result"
    },
    {
     "name": "stdout",
     "output_type": "stream",
     "text": [
      "time: 3.86 ms\n"
     ]
    }
   ],
   "source": [
    "feat_table['feature_name']"
   ]
  },
  {
   "cell_type": "code",
   "execution_count": 15,
   "metadata": {
    "collapsed": false
   },
   "outputs": [
    {
     "data": {
      "text/plain": [
       "True"
      ]
     },
     "execution_count": 15,
     "metadata": {},
     "output_type": "execute_result"
    },
    {
     "name": "stdout",
     "output_type": "stream",
     "text": [
      "time: 2.66 ms\n"
     ]
    }
   ],
   "source": [
    "rb = mg.RuleBasedBlocker()\n",
    "rb.add_rule('venue_venue_jac_qgm_3_qgm_3(ltuple, rtuple) < 0.5', feat_table)"
   ]
  },
  {
   "cell_type": "code",
   "execution_count": 16,
   "metadata": {
    "collapsed": false
   },
   "outputs": [
    {
     "data": {
      "text/plain": [
       "6.012840000000001"
      ]
     },
     "execution_count": 16,
     "metadata": {},
     "output_type": "execute_result"
    },
    {
     "name": "stdout",
     "output_type": "stream",
     "text": [
      "time: 1.71 ms\n"
     ]
    }
   ],
   "source": [
    "len(C1)*0.00001"
   ]
  },
  {
   "cell_type": "code",
   "execution_count": 17,
   "metadata": {
    "collapsed": false
   },
   "outputs": [
    {
     "name": "stdout",
     "output_type": "stream",
     "text": [
      "time: 1.24 ms\n"
     ]
    }
   ],
   "source": [
    "mg._verbose = True\n",
    "mg._percent = 1\n",
    "#C2 = rb.block_candset(C1)"
   ]
  },
  {
   "cell_type": "code",
   "execution_count": 21,
   "metadata": {
    "collapsed": false
   },
   "outputs": [
    {
     "name": "stdout",
     "output_type": "stream",
     "text": [
      "time: 3.46 ms\n"
     ]
    }
   ],
   "source": [
    "A = mg.load_dataset('table_A')"
   ]
  },
  {
   "cell_type": "code",
   "execution_count": 26,
   "metadata": {
    "collapsed": false
   },
   "outputs": [
    {
     "name": "stdout",
     "output_type": "stream",
     "text": [
      "time: 23.1 s\n"
     ]
    }
   ],
   "source": [
    "for i, r in C1.iterrows():\n",
    "    pass\n",
    "   "
   ]
  },
  {
   "cell_type": "code",
   "execution_count": 19,
   "metadata": {
    "collapsed": false
   },
   "outputs": [
    {
     "name": "stdout",
     "output_type": "stream",
     "text": [
      "time: 218 ms\n"
     ]
    }
   ],
   "source": [
    "C2 = C1.T.copy()\n",
    "    "
   ]
  },
  {
   "cell_type": "code",
   "execution_count": 20,
   "metadata": {
    "collapsed": false
   },
   "outputs": [
    {
     "data": {
      "text/html": [
       "<div>\n",
       "<table border=\"1\" class=\"dataframe\">\n",
       "  <thead>\n",
       "    <tr style=\"text-align: right;\">\n",
       "      <th></th>\n",
       "      <th>0</th>\n",
       "      <th>1</th>\n",
       "      <th>2</th>\n",
       "      <th>3</th>\n",
       "      <th>4</th>\n",
       "      <th>5</th>\n",
       "      <th>6</th>\n",
       "      <th>7</th>\n",
       "      <th>8</th>\n",
       "      <th>9</th>\n",
       "      <th>...</th>\n",
       "      <th>601274</th>\n",
       "      <th>601275</th>\n",
       "      <th>601276</th>\n",
       "      <th>601277</th>\n",
       "      <th>601278</th>\n",
       "      <th>601279</th>\n",
       "      <th>601280</th>\n",
       "      <th>601281</th>\n",
       "      <th>601282</th>\n",
       "      <th>601283</th>\n",
       "    </tr>\n",
       "  </thead>\n",
       "  <tbody>\n",
       "    <tr>\n",
       "      <th>_id</th>\n",
       "      <td>0</td>\n",
       "      <td>1</td>\n",
       "      <td>2</td>\n",
       "      <td>3</td>\n",
       "      <td>4</td>\n",
       "      <td>5</td>\n",
       "      <td>6</td>\n",
       "      <td>7</td>\n",
       "      <td>8</td>\n",
       "      <td>9</td>\n",
       "      <td>...</td>\n",
       "      <td>601274</td>\n",
       "      <td>601275</td>\n",
       "      <td>601276</td>\n",
       "      <td>601277</td>\n",
       "      <td>601278</td>\n",
       "      <td>601279</td>\n",
       "      <td>601280</td>\n",
       "      <td>601281</td>\n",
       "      <td>601282</td>\n",
       "      <td>601283</td>\n",
       "    </tr>\n",
       "    <tr>\n",
       "      <th>ltable.id</th>\n",
       "      <td>304586</td>\n",
       "      <td>304586</td>\n",
       "      <td>304586</td>\n",
       "      <td>304586</td>\n",
       "      <td>304586</td>\n",
       "      <td>304586</td>\n",
       "      <td>304586</td>\n",
       "      <td>304586</td>\n",
       "      <td>304586</td>\n",
       "      <td>304586</td>\n",
       "      <td>...</td>\n",
       "      <td>945741</td>\n",
       "      <td>945741</td>\n",
       "      <td>945741</td>\n",
       "      <td>945741</td>\n",
       "      <td>945741</td>\n",
       "      <td>945741</td>\n",
       "      <td>945741</td>\n",
       "      <td>945741</td>\n",
       "      <td>945741</td>\n",
       "      <td>945741</td>\n",
       "    </tr>\n",
       "    <tr>\n",
       "      <th>rtable.id</th>\n",
       "      <td>journals/sigmod/Mackay99</td>\n",
       "      <td>conf/sigmod/Keim99</td>\n",
       "      <td>conf/vldb/ChenCFGJMTW99</td>\n",
       "      <td>conf/sigmod/BraumandlKK99</td>\n",
       "      <td>conf/vldb/NinkHR99</td>\n",
       "      <td>conf/vldb/Graefe99</td>\n",
       "      <td>conf/vldb/JagadishKNS99</td>\n",
       "      <td>journals/vldb/HarderST99</td>\n",
       "      <td>conf/sigmod/Mohan99</td>\n",
       "      <td>conf/vldb/Sarawagi99</td>\n",
       "      <td>...</td>\n",
       "      <td>journals/sigmod/AilamakiH03</td>\n",
       "      <td>conf/vldb/CliftonFHKLS03</td>\n",
       "      <td>conf/sigmod/KimC03</td>\n",
       "      <td>conf/vldb/AnciauxBP03</td>\n",
       "      <td>conf/sigmod/CohenM03</td>\n",
       "      <td>conf/vldb/WangSG03</td>\n",
       "      <td>conf/vldb/SchindlerAG03</td>\n",
       "      <td>conf/vldb/ShiSZ03</td>\n",
       "      <td>journals/tods/KarpSP03</td>\n",
       "      <td>conf/vldb/LimWV03</td>\n",
       "    </tr>\n",
       "  </tbody>\n",
       "</table>\n",
       "<p>3 rows × 601284 columns</p>\n",
       "</div>"
      ],
      "text/plain": [
       "                             0                   1       \\\n",
       "_id                               0                   1   \n",
       "ltable.id                    304586              304586   \n",
       "rtable.id  journals/sigmod/Mackay99  conf/sigmod/Keim99   \n",
       "\n",
       "                            2                          3       \\\n",
       "_id                              2                          3   \n",
       "ltable.id                   304586                     304586   \n",
       "rtable.id  conf/vldb/ChenCFGJMTW99  conf/sigmod/BraumandlKK99   \n",
       "\n",
       "                       4                   5                        6       \\\n",
       "_id                         4                   5                        6   \n",
       "ltable.id              304586              304586                   304586   \n",
       "rtable.id  conf/vldb/NinkHR99  conf/vldb/Graefe99  conf/vldb/JagadishKNS99   \n",
       "\n",
       "                             7                    8       \\\n",
       "_id                               7                    8   \n",
       "ltable.id                    304586               304586   \n",
       "rtable.id  journals/vldb/HarderST99  conf/sigmod/Mohan99   \n",
       "\n",
       "                         9             ...          \\\n",
       "_id                           9        ...           \n",
       "ltable.id                304586        ...           \n",
       "rtable.id  conf/vldb/Sarawagi99        ...           \n",
       "\n",
       "                                601274                    601275  \\\n",
       "_id                             601274                    601275   \n",
       "ltable.id                       945741                    945741   \n",
       "rtable.id  journals/sigmod/AilamakiH03  conf/vldb/CliftonFHKLS03   \n",
       "\n",
       "                       601276                 601277                601278  \\\n",
       "_id                    601276                 601277                601278   \n",
       "ltable.id              945741                 945741                945741   \n",
       "rtable.id  conf/sigmod/KimC03  conf/vldb/AnciauxBP03  conf/sigmod/CohenM03   \n",
       "\n",
       "                       601279                   601280             601281  \\\n",
       "_id                    601279                   601280             601281   \n",
       "ltable.id              945741                   945741             945741   \n",
       "rtable.id  conf/vldb/WangSG03  conf/vldb/SchindlerAG03  conf/vldb/ShiSZ03   \n",
       "\n",
       "                           601282             601283  \n",
       "_id                        601282             601283  \n",
       "ltable.id                  945741             945741  \n",
       "rtable.id  journals/tods/KarpSP03  conf/vldb/LimWV03  \n",
       "\n",
       "[3 rows x 601284 columns]"
      ]
     },
     "execution_count": 20,
     "metadata": {},
     "output_type": "execute_result"
    },
    {
     "name": "stdout",
     "output_type": "stream",
     "text": [
      "time: 81.7 ms\n"
     ]
    }
   ],
   "source": [
    "C2.head(3)"
   ]
  },
  {
   "cell_type": "code",
   "execution_count": 27,
   "metadata": {
    "collapsed": false
   },
   "outputs": [
    {
     "name": "stdout",
     "output_type": "stream",
     "text": [
      "time: 254 ms\n"
     ]
    }
   ],
   "source": [
    "col = C1.columns\n",
    "l_df = C1.get_property('ltable').set_index('id', inplace=False, drop=False)\n",
    "r_df = C1.get_property('rtable').set_index('id', inplace=False, drop=False)\n",
    "for v in C1.itertuples():\n",
    "    pass\n",
    "    \n",
    "    "
   ]
  },
  {
   "cell_type": "code",
   "execution_count": 30,
   "metadata": {
    "collapsed": false
   },
   "outputs": [
    {
     "data": {
      "text/plain": [
       "Index([u'_id', u'ltable.id', u'rtable.id', u'ltable.title', u'ltable.authors',\n",
       "       u'ltable.venue', u'rtable.title', u'rtable.authors', u'rtable.venue'],\n",
       "      dtype='object')"
      ]
     },
     "execution_count": 30,
     "metadata": {},
     "output_type": "execute_result"
    },
    {
     "name": "stdout",
     "output_type": "stream",
     "text": [
      "time: 2.13 ms\n"
     ]
    }
   ],
   "source": [
    "C1.columns"
   ]
  },
  {
   "cell_type": "code",
   "execution_count": 35,
   "metadata": {
    "collapsed": false
   },
   "outputs": [
    {
     "data": {
      "text/html": [
       "<div>\n",
       "<table border=\"1\" class=\"dataframe\">\n",
       "  <thead>\n",
       "    <tr style=\"text-align: right;\">\n",
       "      <th></th>\n",
       "      <th>id</th>\n",
       "      <th>title</th>\n",
       "      <th>authors</th>\n",
       "      <th>venue</th>\n",
       "      <th>year</th>\n",
       "    </tr>\n",
       "  </thead>\n",
       "  <tbody>\n",
       "    <tr>\n",
       "      <th>0</th>\n",
       "      <td>304586</td>\n",
       "      <td>The WASA2 object-oriented workflow management ...</td>\n",
       "      <td>Gottfried Vossen, Mathias Weske</td>\n",
       "      <td>International Conference on Management of Data</td>\n",
       "      <td>1999</td>\n",
       "    </tr>\n",
       "    <tr>\n",
       "      <th>1</th>\n",
       "      <td>304587</td>\n",
       "      <td>A user-centered interface for querying distrib...</td>\n",
       "      <td>Isabel F. Cruz, Kimberly M. James</td>\n",
       "      <td>International Conference on Management of Data</td>\n",
       "      <td>1999</td>\n",
       "    </tr>\n",
       "    <tr>\n",
       "      <th>2</th>\n",
       "      <td>304589</td>\n",
       "      <td>World Wide Database-integrating the Web, CORBA...</td>\n",
       "      <td>Athman Bouguettaya, Boualem Benatallah, Lily H...</td>\n",
       "      <td>International Conference on Management of Data</td>\n",
       "      <td>1999</td>\n",
       "    </tr>\n",
       "    <tr>\n",
       "      <th>3</th>\n",
       "      <td>304590</td>\n",
       "      <td>XML-based information mediation with MIX</td>\n",
       "      <td>Chaitan Baru, Amarnath Gupta, Bertram Ludäsche...</td>\n",
       "      <td>International Conference on Management of Data</td>\n",
       "      <td>1999</td>\n",
       "    </tr>\n",
       "    <tr>\n",
       "      <th>4</th>\n",
       "      <td>304582</td>\n",
       "      <td>The CCUBE constraint object-oriented database ...</td>\n",
       "      <td>Alexander Brodsky, Victor E. Segal, Jia Chen, ...</td>\n",
       "      <td>International Conference on Management of Data</td>\n",
       "      <td>1999</td>\n",
       "    </tr>\n",
       "  </tbody>\n",
       "</table>\n",
       "</div>"
      ],
      "text/plain": [
       "       id                                              title  \\\n",
       "0  304586  The WASA2 object-oriented workflow management ...   \n",
       "1  304587  A user-centered interface for querying distrib...   \n",
       "2  304589  World Wide Database-integrating the Web, CORBA...   \n",
       "3  304590           XML-based information mediation with MIX   \n",
       "4  304582  The CCUBE constraint object-oriented database ...   \n",
       "\n",
       "                                             authors  \\\n",
       "0                    Gottfried Vossen, Mathias Weske   \n",
       "1                  Isabel F. Cruz, Kimberly M. James   \n",
       "2  Athman Bouguettaya, Boualem Benatallah, Lily H...   \n",
       "3  Chaitan Baru, Amarnath Gupta, Bertram Ludäsche...   \n",
       "4  Alexander Brodsky, Victor E. Segal, Jia Chen, ...   \n",
       "\n",
       "                                            venue  year  \n",
       "0  International Conference on Management of Data  1999  \n",
       "1  International Conference on Management of Data  1999  \n",
       "2  International Conference on Management of Data  1999  \n",
       "3  International Conference on Management of Data  1999  \n",
       "4  International Conference on Management of Data  1999  "
      ]
     },
     "execution_count": 35,
     "metadata": {},
     "output_type": "execute_result"
    },
    {
     "name": "stdout",
     "output_type": "stream",
     "text": [
      "time: 10 ms\n"
     ]
    }
   ],
   "source": [
    "acm.head(5)"
   ]
  },
  {
   "cell_type": "code",
   "execution_count": 36,
   "metadata": {
    "collapsed": false
   },
   "outputs": [
    {
     "name": "stdout",
     "output_type": "stream",
     "text": [
      "(21101, 309883, 'journals/sigmod/Hanson99', 'Semantic video indexing: approach and issues', 'Arun Hampapur', 'ACM SIGMOD Record', 'Statement from the Treasurer', 'Eric N. Hanson', 'SIGMOD Record')\n",
      "(31373, 344864, 'journals/vldb/AslanM99', 'SQLJ Part 1: SQL routines using the Java programming language', 'Andrew Eisenberg, Jim Melton', 'ACM SIGMOD Record', 'Semantic Heterogeneity Resolution in Federated Databases by Metadata Implantation and Stepwise Evolution', 'Dennis McLeod, Goksel Aslan', 'VLDB J.')\n",
      "(138593, 344828, 'conf/vldb/DiligentiCLGG00', 'Beyond document similarity: understanding value-based search and browsing technologies', 'Andreas Paepcke, Hector Garcia-Molina, Gerard Rodriguez-Mula, Junghoo Cho', 'ACM SIGMOD Record', 'Focused Crawling Using Context Graphs', 'Frans Coetzee, Steve Lawrence, Michelangelo Diligenti, Marco Gori, C. Lee Giles', 'VLDB')\n",
      "(167405, 671864, 'journals/tods/GutingBEJLSV00', 'Model-Based Information Integration in a Neuroscience Mediator System', 'Bertram Lud\\xc3\\xa4scher, Amarnath Gupta, Maryann E. Martone', 'Very Large Data Bases', 'A foundation for representing and quering moving objects', 'Michael H. Bhlen, Christian S. Jensen, Michalis Vazirgiannis, Nikos A. Lorentzos, Markus Schneider, Ralf Hartmut Gting, Martin Erwig', 'ACM Trans. Database Syst.')\n",
      "(406648, 672374, 'journals/sigmod/Critchlow01', 'Analyzing energy behavior of spatial access methods for memory-resident data', 'Ning An, Anand Sivasubramaniam, Narayanan Vijaykrishnan, Mahmut T. Kandemir, Mary Jane Irwin, Sudhanva Gurumurthi', 'Very Large Data Bases', 'Report on XEWA-00: The XML Enabled Wide-Area Searches for Bioinformatics Workshop', 'Terence Critchlow', 'SIGMOD Record')\n",
      "(454763, 564757, 'conf/vldb/Nori02', 'Automating physical database design in a parallel database', 'Jun Rao, Chun Zhang, Nimrod Megiddo, Guy Lohman', 'International Conference on Management of Data', 'eBusiness Standards and Architectures', 'Anil Nori', 'VLDB')\n",
      "(504651, 187455, 'conf/vldb/Chiueh94', 'The impact of database research on industrial products (panel)', 'Jos\\xc3\\xa9 A. Blakeley, Dan Fishman, David Lomet, Michael Stonebraker', 'ACM SIGMOD Record', 'Content-Based Image Indexing', 'Tzi-cker Chiueh', 'VLDB')\n",
      "(547824, 872798, 'conf/vldb/Brodie03', 'Mapping data in peer-to-peer systems: semantics and algorithmic issues', 'Anastasios Kementsietsidis, Marcelo Arenas, Ren\\xc3\\xa9e J. Miller', 'International Conference on Management of Data', 'Illuminating the Dark Side of Web Services', 'Michael L. Brodie', 'VLDB')\n",
      "(567354, 872777, 'conf/vldb/MeekPK03', 'Containment join size estimation: models and methods', 'Wei Wang, Haifeng Jiang, Hongjun Lu, Jeffrey Xu Yu', 'International Conference on Management of Data', 'OASIS: An Online and Accurate Technique for Local-alignment Searches on Biological Sequences', 'Shruti Kasetty, Colin Meek, Jignesh M. Patel', 'VLDB')\n",
      "(578600, 959084, 'journals/sigmod/MalaikaEM03', 'Agent-Oriented software engineering report on the 4th AOSE workshop (AOSE 2003)', 'Paolo Giorgini', 'ACM SIGMOD Record', 'Standards for databases on the grid', 'Andrew Eisenberg, Jim Melton, Susan Malaika', 'SIGMOD Record')\n",
      "time: 140 ms\n"
     ]
    }
   ],
   "source": [
    "A = mg.load_dataset('table_A')\n",
    "C3 = mg.sample_table(C1, 10)\n",
    "for row in C3.itertuples(index=False):\n",
    "    print row"
   ]
  },
  {
   "cell_type": "code",
   "execution_count": 29,
   "metadata": {
    "collapsed": false
   },
   "outputs": [
    {
     "data": {
      "text/plain": [
       "{'_id': 601283,\n",
       " 'ltable.authors': 'Review of The data warehouse toolkit: the complete guide to dimensional modeling (2nd edition) by Ralph Kimball, Margy Ross. John Wiley & Sons, Inc. 2002.',\n",
       " 'ltable.id': 601283,\n",
       " 'ltable.title': 'conf/vldb/LimWV03',\n",
       " 'ltable.venue': 'Alexander A. Anisimov',\n",
       " 'rtable.authors': 'SASH: A Self-Adaptive Histogram Set for Dynamically Changing Workloads',\n",
       " 'rtable.id': 945741,\n",
       " 'rtable.title': 'ACM SIGMOD Record',\n",
       " 'rtable.venue': 'Lipyeow Lim, Min Wang, Jeffrey Scott Vitter'}"
      ]
     },
     "execution_count": 29,
     "metadata": {},
     "output_type": "execute_result"
    },
    {
     "name": "stdout",
     "output_type": "stream",
     "text": [
      "time: 2.51 ms\n"
     ]
    }
   ],
   "source": [
    "dict(zip(C1.columns, v))"
   ]
  }
 ],
 "metadata": {
  "kernelspec": {
   "display_name": "Python 2",
   "language": "python",
   "name": "python2"
  },
  "language_info": {
   "codemirror_mode": {
    "name": "ipython",
    "version": 2
   },
   "file_extension": ".py",
   "mimetype": "text/x-python",
   "name": "python",
   "nbconvert_exporter": "python",
   "pygments_lexer": "ipython2",
   "version": "2.7.10"
  }
 },
 "nbformat": 4,
 "nbformat_minor": 0
}
