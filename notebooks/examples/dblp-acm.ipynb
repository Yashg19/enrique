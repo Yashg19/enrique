{
 "cells": [
  {
   "cell_type": "code",
   "execution_count": null,
   "metadata": {
    "collapsed": false
   },
   "outputs": [],
   "source": []
  },
  {
   "cell_type": "code",
   "execution_count": 1,
   "metadata": {
    "collapsed": false
   },
   "outputs": [],
   "source": [
    "import sys\n",
    "#sys.path.append('/Users/Pradap/Documents/Research/Python-Package/enrique/')\n",
    "sys.path.append('/scratch/pradap/python-work/enrique/')"
   ]
  },
  {
   "cell_type": "code",
   "execution_count": 2,
   "metadata": {
    "collapsed": false
   },
   "outputs": [
    {
     "name": "stderr",
     "output_type": "stream",
     "text": [
      "DEBUG:Cloud:Log file (/u/p/r/pradap/.picloud/cloud.log) opened\n"
     ]
    }
   ],
   "source": [
    "import magellan as mg"
   ]
  },
  {
   "cell_type": "code",
   "execution_count": 3,
   "metadata": {
    "collapsed": false
   },
   "outputs": [
    {
     "data": {
      "text/plain": [
       "True"
      ]
     },
     "execution_count": 3,
     "metadata": {},
     "output_type": "execute_result"
    }
   ],
   "source": [
    "#mg.init_jvm('/Library/Java/JavaVirtualMachines/jdk1.8.0_45.jdk/Contents/Home/jre/lib/server/libjvm.dylib')\n",
    "mg.init_jvm()"
   ]
  },
  {
   "cell_type": "code",
   "execution_count": 4,
   "metadata": {
    "collapsed": false
   },
   "outputs": [],
   "source": [
    "acm = mg.read_csv(mg.get_install_path() + '/datasets/DBLP_ACM/ACM_cleaned.csv'\n",
    "                 , key='id')"
   ]
  },
  {
   "cell_type": "code",
   "execution_count": 5,
   "metadata": {
    "collapsed": false
   },
   "outputs": [],
   "source": [
    "dblp = mg.read_csv(mg.get_install_path() + '/datasets/DBLP_ACM/DBLP_cleaned.csv', key='id')"
   ]
  },
  {
   "cell_type": "code",
   "execution_count": 6,
   "metadata": {
    "collapsed": false
   },
   "outputs": [
    {
     "data": {
      "text/plain": [
       "Index([u'id', u'title', u'authors', u'venue', u'year'], dtype='object')"
      ]
     },
     "execution_count": 6,
     "metadata": {},
     "output_type": "execute_result"
    }
   ],
   "source": [
    "acm.columns"
   ]
  },
  {
   "cell_type": "code",
   "execution_count": 7,
   "metadata": {
    "collapsed": false
   },
   "outputs": [
    {
     "data": {
      "text/plain": [
       "Index([u'id', u'title', u'authors', u'venue', u'year'], dtype='object')"
      ]
     },
     "execution_count": 7,
     "metadata": {},
     "output_type": "execute_result"
    }
   ],
   "source": [
    "dblp.columns"
   ]
  },
  {
   "cell_type": "code",
   "execution_count": 8,
   "metadata": {
    "collapsed": false
   },
   "outputs": [],
   "source": [
    "ob = mg.OverlapBlocker()"
   ]
  },
  {
   "cell_type": "code",
   "execution_count": 9,
   "metadata": {
    "collapsed": false
   },
   "outputs": [],
   "source": [
    "mg._verbose = False"
   ]
  },
  {
   "cell_type": "code",
   "execution_count": 23,
   "metadata": {
    "collapsed": false
   },
   "outputs": [
    {
     "name": "stderr",
     "output_type": "stream",
     "text": [
      "0%                          100%\n",
      "[##############################] | ETA[sec]: 0.000 \n",
      "Total time elapsed: 6.405 sec\n"
     ]
    }
   ],
   "source": [
    "C = ob.block_tables(dblp, acm, 'title', 'title', \n",
    "                    l_output_attrs=['title'],\n",
    "                   r_output_attrs = ['title'], \n",
    "                   word_level=True, overlap_size = 3)"
   ]
  },
  {
   "cell_type": "code",
   "execution_count": 24,
   "metadata": {
    "collapsed": false
   },
   "outputs": [
    {
     "data": {
      "text/plain": [
       "70350"
      ]
     },
     "execution_count": 24,
     "metadata": {},
     "output_type": "execute_result"
    }
   ],
   "source": [
    "len(C)"
   ]
  },
  {
   "cell_type": "code",
   "execution_count": 25,
   "metadata": {
    "collapsed": false
   },
   "outputs": [
    {
     "data": {
      "text/html": [
       "<div>\n",
       "<table border=\"1\" class=\"dataframe\">\n",
       "  <thead>\n",
       "    <tr style=\"text-align: right;\">\n",
       "      <th></th>\n",
       "      <th>_id</th>\n",
       "      <th>ltable.id</th>\n",
       "      <th>rtable.id</th>\n",
       "      <th>ltable.title</th>\n",
       "      <th>rtable.title</th>\n",
       "    </tr>\n",
       "  </thead>\n",
       "  <tbody>\n",
       "    <tr>\n",
       "      <th>0</th>\n",
       "      <td>0</td>\n",
       "      <td>conf/sigmod/2000</td>\n",
       "      <td>187455</td>\n",
       "      <td>Proceedings of the 2000 ACM SIGMOD Internation...</td>\n",
       "      <td>The impact of database research on industrial ...</td>\n",
       "    </tr>\n",
       "    <tr>\n",
       "      <th>1</th>\n",
       "      <td>1</td>\n",
       "      <td>conf/sigmod/2000</td>\n",
       "      <td>191955</td>\n",
       "      <td>Proceedings of the 2000 ACM SIGMOD Internation...</td>\n",
       "      <td>The MEDUSA project: autonomous data management...</td>\n",
       "    </tr>\n",
       "    <tr>\n",
       "      <th>2</th>\n",
       "      <td>2</td>\n",
       "      <td>conf/sigmod/2000</td>\n",
       "      <td>202670</td>\n",
       "      <td>Proceedings of the 2000 ACM SIGMOD Internation...</td>\n",
       "      <td>ACM Multimedia '94 conference workshop on mult...</td>\n",
       "    </tr>\n",
       "    <tr>\n",
       "      <th>3</th>\n",
       "      <td>3</td>\n",
       "      <td>conf/sigmod/2000</td>\n",
       "      <td>212014</td>\n",
       "      <td>Proceedings of the 2000 ACM SIGMOD Internation...</td>\n",
       "      <td>On the issue of valid time(s) in temporal data...</td>\n",
       "    </tr>\n",
       "    <tr>\n",
       "      <th>4</th>\n",
       "      <td>4</td>\n",
       "      <td>conf/sigmod/2000</td>\n",
       "      <td>212020</td>\n",
       "      <td>Proceedings of the 2000 ACM SIGMOD Internation...</td>\n",
       "      <td>Data management research at the MITRE Corporation</td>\n",
       "    </tr>\n",
       "    <tr>\n",
       "      <th>5</th>\n",
       "      <td>5</td>\n",
       "      <td>conf/sigmod/2000</td>\n",
       "      <td>219754</td>\n",
       "      <td>Proceedings of the 2000 ACM SIGMOD Internation...</td>\n",
       "      <td>Report on the 1995 international workshop on t...</td>\n",
       "    </tr>\n",
       "    <tr>\n",
       "      <th>6</th>\n",
       "      <td>6</td>\n",
       "      <td>conf/sigmod/2000</td>\n",
       "      <td>223863</td>\n",
       "      <td>Proceedings of the 2000 ACM SIGMOD Internation...</td>\n",
       "      <td>The data that you won't find in databases: tut...</td>\n",
       "    </tr>\n",
       "    <tr>\n",
       "      <th>7</th>\n",
       "      <td>7</td>\n",
       "      <td>conf/sigmod/2000</td>\n",
       "      <td>234893</td>\n",
       "      <td>Proceedings of the 2000 ACM SIGMOD Internation...</td>\n",
       "      <td>On the cost of monitoring and reorganization o...</td>\n",
       "    </tr>\n",
       "    <tr>\n",
       "      <th>8</th>\n",
       "      <td>8</td>\n",
       "      <td>conf/sigmod/2000</td>\n",
       "      <td>234896</td>\n",
       "      <td>Proceedings of the 2000 ACM SIGMOD Internation...</td>\n",
       "      <td>The active database management system manifest...</td>\n",
       "    </tr>\n",
       "    <tr>\n",
       "      <th>9</th>\n",
       "      <td>9</td>\n",
       "      <td>conf/sigmod/2000</td>\n",
       "      <td>236712</td>\n",
       "      <td>Proceedings of the 2000 ACM SIGMOD Internation...</td>\n",
       "      <td>Model and verification of a data manager based...</td>\n",
       "    </tr>\n",
       "  </tbody>\n",
       "</table>\n",
       "</div>"
      ],
      "text/plain": [
       "   _id         ltable.id rtable.id  \\\n",
       "0    0  conf/sigmod/2000    187455   \n",
       "1    1  conf/sigmod/2000    191955   \n",
       "2    2  conf/sigmod/2000    202670   \n",
       "3    3  conf/sigmod/2000    212014   \n",
       "4    4  conf/sigmod/2000    212020   \n",
       "5    5  conf/sigmod/2000    219754   \n",
       "6    6  conf/sigmod/2000    223863   \n",
       "7    7  conf/sigmod/2000    234893   \n",
       "8    8  conf/sigmod/2000    234896   \n",
       "9    9  conf/sigmod/2000    236712   \n",
       "\n",
       "                                        ltable.title  \\\n",
       "0  Proceedings of the 2000 ACM SIGMOD Internation...   \n",
       "1  Proceedings of the 2000 ACM SIGMOD Internation...   \n",
       "2  Proceedings of the 2000 ACM SIGMOD Internation...   \n",
       "3  Proceedings of the 2000 ACM SIGMOD Internation...   \n",
       "4  Proceedings of the 2000 ACM SIGMOD Internation...   \n",
       "5  Proceedings of the 2000 ACM SIGMOD Internation...   \n",
       "6  Proceedings of the 2000 ACM SIGMOD Internation...   \n",
       "7  Proceedings of the 2000 ACM SIGMOD Internation...   \n",
       "8  Proceedings of the 2000 ACM SIGMOD Internation...   \n",
       "9  Proceedings of the 2000 ACM SIGMOD Internation...   \n",
       "\n",
       "                                        rtable.title  \n",
       "0  The impact of database research on industrial ...  \n",
       "1  The MEDUSA project: autonomous data management...  \n",
       "2  ACM Multimedia '94 conference workshop on mult...  \n",
       "3  On the issue of valid time(s) in temporal data...  \n",
       "4  Data management research at the MITRE Corporation  \n",
       "5  Report on the 1995 international workshop on t...  \n",
       "6  The data that you won't find in databases: tut...  \n",
       "7  On the cost of monitoring and reorganization o...  \n",
       "8  The active database management system manifest...  \n",
       "9  Model and verification of a data manager based...  "
      ]
     },
     "execution_count": 25,
     "metadata": {},
     "output_type": "execute_result"
    }
   ],
   "source": [
    "C.head(10)"
   ]
  },
  {
   "cell_type": "code",
   "execution_count": 15,
   "metadata": {
    "collapsed": true
   },
   "outputs": [],
   "source": [
    "a = acm.set_index('id', drop=False)\n",
    "d = dblp.set_index('id', drop=False)"
   ]
  },
  {
   "cell_type": "code",
   "execution_count": 21,
   "metadata": {
    "collapsed": false
   },
   "outputs": [
    {
     "data": {
      "text/plain": [
       "id                                          conf/sigmod/2000\n",
       "title      Proceedings of the 2000 ACM SIGMOD Internation...\n",
       "authors                                                    ?\n",
       "venue                                      SIGMOD Conference\n",
       "year                                                    2000\n",
       "Name: conf/sigmod/2000, dtype: object"
      ]
     },
     "execution_count": 21,
     "metadata": {},
     "output_type": "execute_result"
    }
   ],
   "source": [
    "d.ix['conf/sigmod/2000']"
   ]
  },
  {
   "cell_type": "code",
   "execution_count": 17,
   "metadata": {
    "collapsed": false
   },
   "outputs": [
    {
     "data": {
      "text/plain": [
       "'Michael J. Carey, David J. DeWitt, Michael J. Franklin, Nancy E. Hall, Mark L. McAuliffe, Jeffrey F. Naughton, Daniel T. Schuh, Marvin H. Solomon, C. K. Tan, Odysseas G. Tsatalos, Seth J. White, Michael J. Zwilling'"
      ]
     },
     "execution_count": 17,
     "metadata": {},
     "output_type": "execute_result"
    }
   ],
   "source": [
    "a.ix[191915, 'authors']"
   ]
  },
  {
   "cell_type": "code",
   "execution_count": null,
   "metadata": {
    "collapsed": false
   },
   "outputs": [],
   "source": [
    "E = mg.debug_blocker(acm, dblp, C, pred_list_size=200)"
   ]
  },
  {
   "cell_type": "code",
   "execution_count": null,
   "metadata": {
    "collapsed": false
   },
   "outputs": [],
   "source": [
    "E"
   ]
  },
  {
   "cell_type": "code",
   "execution_count": null,
   "metadata": {
    "collapsed": false
   },
   "outputs": [],
   "source": [
    "D = ob.block_candset(C, 'venue', 'venue', overlap_size=1)"
   ]
  },
  {
   "cell_type": "code",
   "execution_count": null,
   "metadata": {
    "collapsed": false
   },
   "outputs": [],
   "source": [
    "ab = mg.AttrEquivalenceBlocker()"
   ]
  },
  {
   "cell_type": "code",
   "execution_count": null,
   "metadata": {
    "collapsed": false
   },
   "outputs": [],
   "source": [
    "C = ab.block_tables(dblp, acm, 'title', 'venue')"
   ]
  },
  {
   "cell_type": "code",
   "execution_count": null,
   "metadata": {
    "collapsed": false
   },
   "outputs": [],
   "source": [
    "k = {0:1, 1:1, 2:1, 3:4}"
   ]
  },
  {
   "cell_type": "code",
   "execution_count": null,
   "metadata": {
    "collapsed": false
   },
   "outputs": [],
   "source": [
    "C.iloc[0:10]"
   ]
  }
 ],
 "metadata": {
  "kernelspec": {
   "display_name": "Python 2",
   "language": "python",
   "name": "python2"
  },
  "language_info": {
   "codemirror_mode": {
    "name": "ipython",
    "version": 2
   },
   "file_extension": ".py",
   "mimetype": "text/x-python",
   "name": "python",
   "nbconvert_exporter": "python",
   "pygments_lexer": "ipython2",
   "version": "2.7.10"
  }
 },
 "nbformat": 4,
 "nbformat_minor": 0
}
