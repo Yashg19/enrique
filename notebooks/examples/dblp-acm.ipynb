{
 "cells": [
  {
   "cell_type": "code",
   "execution_count": 1,
   "metadata": {
    "collapsed": true
   },
   "outputs": [],
   "source": [
    "%load_ext autotime"
   ]
  },
  {
   "cell_type": "code",
   "execution_count": 2,
   "metadata": {
    "collapsed": false
   },
   "outputs": [
    {
     "name": "stdout",
     "output_type": "stream",
     "text": [
      "time: 70.2 ms\n"
     ]
    }
   ],
   "source": [
    "import sys\n",
    "#sys.path.append('/Users/Pradap/Documents/Research/Python-Package/enrique/')\n",
    "sys.path.append('/scratch/pradap/python-work/enrique/')"
   ]
  },
  {
   "cell_type": "code",
   "execution_count": 3,
   "metadata": {
    "collapsed": false
   },
   "outputs": [
    {
     "name": "stderr",
     "output_type": "stream",
     "text": [
      "DEBUG:Cloud:Log file (/u/p/r/pradap/.picloud/cloud.log) opened\n"
     ]
    },
    {
     "name": "stdout",
     "output_type": "stream",
     "text": [
      "time: 512 ms\n"
     ]
    }
   ],
   "source": [
    "import magellan as mg"
   ]
  },
  {
   "cell_type": "code",
   "execution_count": 4,
   "metadata": {
    "collapsed": false
   },
   "outputs": [
    {
     "data": {
      "text/plain": [
       "True"
      ]
     },
     "execution_count": 4,
     "metadata": {},
     "output_type": "execute_result"
    },
    {
     "name": "stdout",
     "output_type": "stream",
     "text": [
      "time: 56.9 ms\n"
     ]
    }
   ],
   "source": [
    "#mg.init_jvm('/Library/Java/JavaVirtualMachines/jdk1.8.0_45.jdk/Contents/Home/jre/lib/server/libjvm.dylib')\n",
    "mg.init_jvm()"
   ]
  },
  {
   "cell_type": "code",
   "execution_count": 5,
   "metadata": {
    "collapsed": false
   },
   "outputs": [
    {
     "name": "stdout",
     "output_type": "stream",
     "text": [
      "time: 138 ms\n"
     ]
    }
   ],
   "source": [
    "acm = mg.read_csv(mg.get_install_path() + '/datasets/DBLP_ACM/ACM_cleaned.csv'\n",
    "                 , key='id')"
   ]
  },
  {
   "cell_type": "code",
   "execution_count": 6,
   "metadata": {
    "collapsed": false
   },
   "outputs": [
    {
     "name": "stdout",
     "output_type": "stream",
     "text": [
      "time: 130 ms\n"
     ]
    }
   ],
   "source": [
    "dblp = mg.read_csv(mg.get_install_path() + '/datasets/DBLP_ACM/DBLP_cleaned.csv', key='id')"
   ]
  },
  {
   "cell_type": "code",
   "execution_count": 7,
   "metadata": {
    "collapsed": false
   },
   "outputs": [
    {
     "name": "stdout",
     "output_type": "stream",
     "text": [
      "time: 1.52 s\n"
     ]
    }
   ],
   "source": [
    "ab = mg.AttrEquivalenceBlocker()\n",
    "C1 = ab.block_tables(acm, dblp, 'year', 'year', ['title', 'authors'], ['title', 'authors'])"
   ]
  },
  {
   "cell_type": "code",
   "execution_count": 8,
   "metadata": {
    "collapsed": false
   },
   "outputs": [
    {
     "name": "stderr",
     "output_type": "stream",
     "text": [
      "WARNING:magellan.feature.autofeaturegen:id type and id type are different\n",
      "WARNING:magellan.feature.autofeaturegen:venue type and venue type are different\n"
     ]
    },
    {
     "name": "stdout",
     "output_type": "stream",
     "text": [
      "time: 42.5 ms\n"
     ]
    }
   ],
   "source": [
    "feat_table = mg.get_features_for_blocking(acm, dblp)"
   ]
  },
  {
   "cell_type": "code",
   "execution_count": 9,
   "metadata": {
    "collapsed": false
   },
   "outputs": [
    {
     "name": "stdout",
     "output_type": "stream",
     "text": [
      "time: 43.8 ms\n"
     ]
    }
   ],
   "source": [
    "mg._atypes2['venue'] = 'str_bt_5w_10w'"
   ]
  },
  {
   "cell_type": "code",
   "execution_count": 10,
   "metadata": {
    "collapsed": false
   },
   "outputs": [
    {
     "name": "stderr",
     "output_type": "stream",
     "text": [
      "WARNING:magellan.feature.autofeaturegen:id type and id type are different\n"
     ]
    },
    {
     "name": "stdout",
     "output_type": "stream",
     "text": [
      "time: 91.9 ms\n"
     ]
    }
   ],
   "source": [
    "feat_table = mg.get_features(acm, dblp, mg._atypes1, mg._atypes2, \n",
    "                            mg._block_c, mg._block_t, mg._block_s)"
   ]
  },
  {
   "cell_type": "code",
   "execution_count": 11,
   "metadata": {
    "collapsed": false
   },
   "outputs": [
    {
     "data": {
      "text/plain": [
       "0             title_title_jac_qgm_3_qgm_3\n",
       "1         title_title_cos_dlm_dc0_dlm_dc0\n",
       "2                         title_title_mel\n",
       "3         authors_authors_jac_qgm_3_qgm_3\n",
       "4     authors_authors_cos_dlm_dc0_dlm_dc0\n",
       "5                     authors_authors_mel\n",
       "6             venue_venue_jac_qgm_3_qgm_3\n",
       "7         venue_venue_cos_dlm_dc0_dlm_dc0\n",
       "8                         venue_venue_mel\n",
       "9                           year_year_exm\n",
       "10                          year_year_anm\n",
       "11                          year_year_lev\n",
       "Name: feature_name, dtype: object"
      ]
     },
     "execution_count": 11,
     "metadata": {},
     "output_type": "execute_result"
    },
    {
     "name": "stdout",
     "output_type": "stream",
     "text": [
      "time: 90.3 ms\n"
     ]
    }
   ],
   "source": [
    "feat_table['feature_name']"
   ]
  },
  {
   "cell_type": "code",
   "execution_count": 12,
   "metadata": {
    "collapsed": false
   },
   "outputs": [
    {
     "data": {
      "text/plain": [
       "True"
      ]
     },
     "execution_count": 12,
     "metadata": {},
     "output_type": "execute_result"
    },
    {
     "name": "stdout",
     "output_type": "stream",
     "text": [
      "time: 90.6 ms\n"
     ]
    }
   ],
   "source": [
    "rb = mg.RuleBasedBlocker()\n",
    "rb.add_rule('venue_venue_jac_qgm_3_qgm_3(ltuple, rtuple) < 0.5', feat_table)"
   ]
  },
  {
   "cell_type": "code",
   "execution_count": 13,
   "metadata": {
    "collapsed": false
   },
   "outputs": [
    {
     "name": "stdout",
     "output_type": "stream",
     "text": [
      "6013.0\n",
      "1.0 percentage done !!!\n",
      "2.0 percentage done !!!\n",
      "3.0 percentage done !!!\n",
      "4.0 percentage done !!!\n",
      "5.0 percentage done !!!\n",
      "6.0 percentage done !!!\n",
      "7.0 percentage done !!!\n",
      "8.0 percentage done !!!\n",
      "9.0 percentage done !!!\n",
      "10.0 percentage done !!!\n",
      "11.0 percentage done !!!\n",
      "12.0 percentage done !!!\n",
      "13.0 percentage done !!!\n",
      "14.0 percentage done !!!\n",
      "15.0 percentage done !!!\n",
      "16.0 percentage done !!!\n",
      "17.0 percentage done !!!\n",
      "18.0 percentage done !!!\n",
      "19.0 percentage done !!!\n",
      "20.0 percentage done !!!\n",
      "21.0 percentage done !!!\n",
      "22.0 percentage done !!!\n",
      "23.0 percentage done !!!\n",
      "24.0 percentage done !!!\n",
      "25.0 percentage done !!!\n",
      "26.0 percentage done !!!\n",
      "27.0 percentage done !!!\n",
      "28.0 percentage done !!!\n",
      "29.0 percentage done !!!\n",
      "30.0 percentage done !!!\n",
      "31.0 percentage done !!!\n",
      "32.0 percentage done !!!\n",
      "33.0 percentage done !!!\n",
      "34.0 percentage done !!!\n",
      "35.0 percentage done !!!\n",
      "36.0 percentage done !!!\n",
      "37.0 percentage done !!!\n",
      "38.0 percentage done !!!\n",
      "39.0 percentage done !!!\n",
      "40.0 percentage done !!!\n",
      "41.0 percentage done !!!\n",
      "42.0 percentage done !!!\n",
      "43.0 percentage done !!!\n",
      "44.0 percentage done !!!\n",
      "45.0 percentage done !!!\n",
      "46.0 percentage done !!!\n",
      "47.0 percentage done !!!\n",
      "48.0 percentage done !!!\n",
      "49.0 percentage done !!!\n",
      "50.0 percentage done !!!\n",
      "51.0 percentage done !!!\n",
      "52.0 percentage done !!!\n",
      "53.0 percentage done !!!\n",
      "54.0 percentage done !!!\n",
      "55.0 percentage done !!!\n",
      "56.0 percentage done !!!\n",
      "57.0 percentage done !!!\n",
      "58.0 percentage done !!!\n",
      "59.0 percentage done !!!\n",
      "60.0 percentage done !!!\n",
      "61.0 percentage done !!!\n",
      "62.0 percentage done !!!\n",
      "63.0 percentage done !!!\n",
      "64.0 percentage done !!!\n",
      "65.0 percentage done !!!\n",
      "66.0 percentage done !!!\n",
      "67.0 percentage done !!!\n",
      "68.0 percentage done !!!\n",
      "69.0 percentage done !!!\n",
      "70.0 percentage done !!!\n",
      "71.0 percentage done !!!\n",
      "72.0 percentage done !!!\n",
      "73.0 percentage done !!!\n",
      "74.0 percentage done !!!\n",
      "75.0 percentage done !!!\n",
      "76.0 percentage done !!!\n",
      "77.0 percentage done !!!\n",
      "78.0 percentage done !!!\n",
      "79.0 percentage done !!!\n",
      "80.0 percentage done !!!\n",
      "81.0 percentage done !!!\n",
      "82.0 percentage done !!!\n",
      "83.0 percentage done !!!\n",
      "84.0 percentage done !!!\n",
      "85.0 percentage done !!!\n",
      "86.0 percentage done !!!\n",
      "87.0 percentage done !!!\n",
      "88.0 percentage done !!!\n",
      "89.0 percentage done !!!\n",
      "90.0 percentage done !!!\n",
      "91.0 percentage done !!!\n",
      "92.0 percentage done !!!\n",
      "93.0 percentage done !!!\n",
      "94.0 percentage done !!!\n",
      "95.0 percentage done !!!\n",
      "96.0 percentage done !!!\n",
      "97.0 percentage done !!!\n",
      "98.0 percentage done !!!\n",
      "99.0 percentage done !!!\n",
      "time: 9min 40s\n"
     ]
    }
   ],
   "source": [
    "mg._verbose = True\n",
    "mg._percent = 1\n",
    "C2 = rb.block_candset(C1)"
   ]
  },
  {
   "cell_type": "code",
   "execution_count": 16,
   "metadata": {
    "collapsed": false
   },
   "outputs": [
    {
     "data": {
      "text/plain": [
       "True"
      ]
     },
     "execution_count": 16,
     "metadata": {},
     "output_type": "execute_result"
    },
    {
     "name": "stdout",
     "output_type": "stream",
     "text": [
      "time: 1.88 ms\n"
     ]
    }
   ],
   "source": [
    "rb1 = mg.RuleBasedBlocker()\n",
    "rb1.add_rule('title_title_mel(ltuple, rtuple) < 0.7', feat_table)"
   ]
  },
  {
   "cell_type": "code",
   "execution_count": 17,
   "metadata": {
    "collapsed": false
   },
   "outputs": [
    {
     "name": "stdout",
     "output_type": "stream",
     "text": [
      "1714.0\n",
      "5.0 percentage done !!!\n",
      "10.0 percentage done !!!\n",
      "15.0 percentage done !!!\n",
      "20.0 percentage done !!!\n",
      "25.0 percentage done !!!\n",
      "30.0 percentage done !!!\n",
      "35.0 percentage done !!!\n",
      "40.0 percentage done !!!\n",
      "45.0 percentage done !!!\n",
      "50.0 percentage done !!!\n",
      "55.0 percentage done !!!\n",
      "60.0 percentage done !!!\n",
      "65.0 percentage done !!!\n",
      "70.0 percentage done !!!\n",
      "75.0 percentage done !!!\n",
      "80.0 percentage done !!!\n",
      "85.0 percentage done !!!\n",
      "90.0 percentage done !!!\n",
      "95.0 percentage done !!!\n",
      "time: 21.9 s\n"
     ]
    }
   ],
   "source": [
    "mg._percent = 5\n",
    "C3 = rb1.block_candset(C2)"
   ]
  },
  {
   "cell_type": "code",
   "execution_count": 18,
   "metadata": {
    "collapsed": false
   },
   "outputs": [
    {
     "data": {
      "text/plain": [
       "666"
      ]
     },
     "execution_count": 18,
     "metadata": {},
     "output_type": "execute_result"
    },
    {
     "name": "stdout",
     "output_type": "stream",
     "text": [
      "time: 1.37 ms\n"
     ]
    }
   ],
   "source": [
    "len(C3)"
   ]
  },
  {
   "cell_type": "code",
   "execution_count": 35,
   "metadata": {
    "collapsed": false
   },
   "outputs": [
    {
     "name": "stdout",
     "output_type": "stream",
     "text": [
      "time: 32 ms\n"
     ]
    }
   ],
   "source": [
    "acm_df = acm.set_index(acm.get_key(), drop=False)\n",
    "dblp_df = dblp.set_index(dblp.get_key(), drop=False)\n"
   ]
  },
  {
   "cell_type": "code",
   "execution_count": 27,
   "metadata": {
    "collapsed": false
   },
   "outputs": [
    {
     "name": "stdout",
     "output_type": "stream",
     "text": [
      "time: 1.1 ms\n"
     ]
    }
   ],
   "source": [
    "acm_df1 = acm_df[1:10]"
   ]
  },
  {
   "cell_type": "code",
   "execution_count": 29,
   "metadata": {
    "collapsed": false
   },
   "outputs": [
    {
     "data": {
      "text/html": [
       "<div>\n",
       "<table border=\"1\" class=\"dataframe\">\n",
       "  <thead>\n",
       "    <tr style=\"text-align: right;\">\n",
       "      <th></th>\n",
       "      <th>id</th>\n",
       "      <th>title</th>\n",
       "      <th>authors</th>\n",
       "      <th>venue</th>\n",
       "      <th>year</th>\n",
       "    </tr>\n",
       "    <tr>\n",
       "      <th>id</th>\n",
       "      <th></th>\n",
       "      <th></th>\n",
       "      <th></th>\n",
       "      <th></th>\n",
       "      <th></th>\n",
       "    </tr>\n",
       "  </thead>\n",
       "  <tbody>\n",
       "    <tr>\n",
       "      <th>304587</th>\n",
       "      <td>304587</td>\n",
       "      <td>A user-centered interface for querying distrib...</td>\n",
       "      <td>Isabel F. Cruz, Kimberly M. James</td>\n",
       "      <td>International Conference on Management of Data</td>\n",
       "      <td>1999</td>\n",
       "    </tr>\n",
       "    <tr>\n",
       "      <th>304589</th>\n",
       "      <td>304589</td>\n",
       "      <td>World Wide Database-integrating the Web, CORBA...</td>\n",
       "      <td>Athman Bouguettaya, Boualem Benatallah, Lily H...</td>\n",
       "      <td>International Conference on Management of Data</td>\n",
       "      <td>1999</td>\n",
       "    </tr>\n",
       "    <tr>\n",
       "      <th>304590</th>\n",
       "      <td>304590</td>\n",
       "      <td>XML-based information mediation with MIX</td>\n",
       "      <td>Chaitan Baru, Amarnath Gupta, Bertram Ludäsche...</td>\n",
       "      <td>International Conference on Management of Data</td>\n",
       "      <td>1999</td>\n",
       "    </tr>\n",
       "    <tr>\n",
       "      <th>304582</th>\n",
       "      <td>304582</td>\n",
       "      <td>The CCUBE constraint object-oriented database ...</td>\n",
       "      <td>Alexander Brodsky, Victor E. Segal, Jia Chen, ...</td>\n",
       "      <td>International Conference on Management of Data</td>\n",
       "      <td>1999</td>\n",
       "    </tr>\n",
       "    <tr>\n",
       "      <th>304583</th>\n",
       "      <td>304583</td>\n",
       "      <td>The Cornell Jaguar project: adding mobility to...</td>\n",
       "      <td>Phillippe Bonnet, Kyle Buza, Zhiyuan Chan, Vic...</td>\n",
       "      <td>International Conference on Management of Data</td>\n",
       "      <td>1999</td>\n",
       "    </tr>\n",
       "    <tr>\n",
       "      <th>304584</th>\n",
       "      <td>304584</td>\n",
       "      <td>The active MultiSync controller of the cubetre...</td>\n",
       "      <td>Nick Roussopoulos, Yannis Kotidis, Yannis Sism...</td>\n",
       "      <td>International Conference on Management of Data</td>\n",
       "      <td>1999</td>\n",
       "    </tr>\n",
       "    <tr>\n",
       "      <th>304585</th>\n",
       "      <td>304585</td>\n",
       "      <td>The Jungle database search engine</td>\n",
       "      <td>Michael Böhlen, Linas Bukauskas, Curtis Dyreson</td>\n",
       "      <td>International Conference on Management of Data</td>\n",
       "      <td>1999</td>\n",
       "    </tr>\n",
       "    <tr>\n",
       "      <th>306112</th>\n",
       "      <td>306112</td>\n",
       "      <td>ADEPT: an agent-based approach to business pro...</td>\n",
       "      <td>N. R. Jennings, T. J. Norman, P. Faratin</td>\n",
       "      <td>ACM SIGMOD Record</td>\n",
       "      <td>1998</td>\n",
       "    </tr>\n",
       "    <tr>\n",
       "      <th>306115</th>\n",
       "      <td>306115</td>\n",
       "      <td>A componentized architecture for dynamic elect...</td>\n",
       "      <td>Benny Reich, Israel Ben-Shaul</td>\n",
       "      <td>ACM SIGMOD Record</td>\n",
       "      <td>1998</td>\n",
       "    </tr>\n",
       "  </tbody>\n",
       "</table>\n",
       "</div>"
      ],
      "text/plain": [
       "            id                                              title  \\\n",
       "id                                                                  \n",
       "304587  304587  A user-centered interface for querying distrib...   \n",
       "304589  304589  World Wide Database-integrating the Web, CORBA...   \n",
       "304590  304590           XML-based information mediation with MIX   \n",
       "304582  304582  The CCUBE constraint object-oriented database ...   \n",
       "304583  304583  The Cornell Jaguar project: adding mobility to...   \n",
       "304584  304584  The active MultiSync controller of the cubetre...   \n",
       "304585  304585                  The Jungle database search engine   \n",
       "306112  306112  ADEPT: an agent-based approach to business pro...   \n",
       "306115  306115  A componentized architecture for dynamic elect...   \n",
       "\n",
       "                                                  authors  \\\n",
       "id                                                          \n",
       "304587                  Isabel F. Cruz, Kimberly M. James   \n",
       "304589  Athman Bouguettaya, Boualem Benatallah, Lily H...   \n",
       "304590  Chaitan Baru, Amarnath Gupta, Bertram Ludäsche...   \n",
       "304582  Alexander Brodsky, Victor E. Segal, Jia Chen, ...   \n",
       "304583  Phillippe Bonnet, Kyle Buza, Zhiyuan Chan, Vic...   \n",
       "304584  Nick Roussopoulos, Yannis Kotidis, Yannis Sism...   \n",
       "304585    Michael Böhlen, Linas Bukauskas, Curtis Dyreson   \n",
       "306112           N. R. Jennings, T. J. Norman, P. Faratin   \n",
       "306115                      Benny Reich, Israel Ben-Shaul   \n",
       "\n",
       "                                                 venue  year  \n",
       "id                                                            \n",
       "304587  International Conference on Management of Data  1999  \n",
       "304589  International Conference on Management of Data  1999  \n",
       "304590  International Conference on Management of Data  1999  \n",
       "304582  International Conference on Management of Data  1999  \n",
       "304583  International Conference on Management of Data  1999  \n",
       "304584  International Conference on Management of Data  1999  \n",
       "304585  International Conference on Management of Data  1999  \n",
       "306112                               ACM SIGMOD Record  1998  \n",
       "306115                               ACM SIGMOD Record  1998  "
      ]
     },
     "execution_count": 29,
     "metadata": {},
     "output_type": "execute_result"
    },
    {
     "name": "stdout",
     "output_type": "stream",
     "text": [
      "time: 12.9 ms\n"
     ]
    }
   ],
   "source": [
    "acm_df1"
   ]
  },
  {
   "cell_type": "code",
   "execution_count": 36,
   "metadata": {
    "collapsed": false
   },
   "outputs": [
    {
     "name": "stdout",
     "output_type": "stream",
     "text": [
      "time: 292 ms\n"
     ]
    }
   ],
   "source": [
    "acm_d = {}\n",
    "dblp_d = {}\n",
    "for i, r in acm_df.iterrows():\n",
    "    acm_d[i] = r\n",
    "for i, r in dblp_df.iterrows():\n",
    "    dblp_d[i] = r"
   ]
  },
  {
   "cell_type": "code",
   "execution_count": 33,
   "metadata": {
    "collapsed": false
   },
   "outputs": [
    {
     "data": {
      "text/plain": [
       "2294"
      ]
     },
     "execution_count": 33,
     "metadata": {},
     "output_type": "execute_result"
    },
    {
     "name": "stdout",
     "output_type": "stream",
     "text": [
      "time: 1.31 ms\n"
     ]
    }
   ],
   "source": [
    "len(d)"
   ]
  },
  {
   "cell_type": "code",
   "execution_count": 39,
   "metadata": {
    "collapsed": false
   },
   "outputs": [
    {
     "name": "stdout",
     "output_type": "stream",
     "text": [
      "60000\n",
      "120000\n",
      "180000\n",
      "240000\n",
      "300000\n",
      "360000\n",
      "420000\n",
      "480000\n",
      "540000\n",
      "600000\n",
      "660000\n",
      "720000\n",
      "780000\n",
      "840000\n",
      "900000\n",
      "960000\n",
      "1020000\n",
      "1080000\n",
      "1140000\n",
      "1200000\n",
      "1260000\n",
      "1320000\n",
      "1380000\n",
      "1440000\n",
      "1500000\n",
      "1560000\n",
      "1620000\n",
      "1680000\n",
      "1740000\n",
      "1800000\n",
      "1860000\n",
      "1920000\n",
      "1980000\n",
      "2040000\n",
      "2100000\n",
      "2160000\n",
      "2220000\n",
      "2280000\n",
      "2340000\n",
      "2400000\n",
      "2460000\n",
      "2520000\n",
      "2580000\n",
      "2640000\n",
      "2700000\n",
      "2760000\n",
      "2820000\n",
      "2880000\n",
      "2940000\n",
      "3000000\n",
      "3060000\n",
      "3120000\n",
      "3180000\n",
      "3240000\n",
      "3300000\n",
      "3360000\n",
      "3420000\n",
      "3480000\n",
      "3540000\n",
      "3600000\n",
      "3660000\n",
      "3720000\n",
      "3780000\n",
      "3840000\n",
      "3900000\n",
      "3960000\n",
      "4020000\n",
      "4080000\n",
      "4140000\n",
      "4200000\n",
      "4260000\n",
      "4320000\n",
      "4380000\n",
      "4440000\n",
      "4500000\n",
      "4560000\n",
      "4620000\n",
      "4680000\n",
      "4740000\n",
      "4800000\n",
      "4860000\n",
      "4920000\n",
      "4980000\n",
      "5040000\n",
      "5100000\n",
      "5160000\n",
      "5220000\n",
      "5280000\n",
      "5340000\n",
      "5400000\n",
      "5460000\n",
      "5520000\n",
      "5580000\n",
      "5640000\n",
      "5700000\n",
      "5760000\n",
      "5820000\n",
      "5880000\n",
      "5940000\n",
      "6000000\n",
      "time: 43min 33s\n"
     ]
    }
   ],
   "source": [
    "count = 0\n",
    "for l in acm.itertuples(index=False):\n",
    "    for r in dblp.itertuples(index=False):\n",
    "        l_row = acm_d[l[0]]\n",
    "        r_row = dblp_d[r[0]]\n",
    "        count +=1\n",
    "        if count%60000 == 0:\n",
    "            print count\n",
    "        rb1.apply_rules(l_row, r_row)\n",
    "        \n",
    "\n",
    "        "
   ]
  },
  {
   "cell_type": "code",
   "execution_count": 40,
   "metadata": {
    "collapsed": false
   },
   "outputs": [
    {
     "data": {
      "text/plain": [
       "2294"
      ]
     },
     "execution_count": 40,
     "metadata": {},
     "output_type": "execute_result"
    },
    {
     "name": "stdout",
     "output_type": "stream",
     "text": [
      "time: 1.34 ms\n"
     ]
    }
   ],
   "source": [
    "len(acm)"
   ]
  },
  {
   "cell_type": "code",
   "execution_count": 41,
   "metadata": {
    "collapsed": false
   },
   "outputs": [
    {
     "data": {
      "text/plain": [
       "2616"
      ]
     },
     "execution_count": 41,
     "metadata": {},
     "output_type": "execute_result"
    },
    {
     "name": "stdout",
     "output_type": "stream",
     "text": [
      "time: 1.37 ms\n"
     ]
    }
   ],
   "source": [
    "len(dblp)"
   ]
  }
 ],
 "metadata": {
  "kernelspec": {
   "display_name": "Python 2",
   "language": "python",
   "name": "python2"
  },
  "language_info": {
   "codemirror_mode": {
    "name": "ipython",
    "version": 2
   },
   "file_extension": ".py",
   "mimetype": "text/x-python",
   "name": "python",
   "nbconvert_exporter": "python",
   "pygments_lexer": "ipython2",
   "version": "2.7.10"
  }
 },
 "nbformat": 4,
 "nbformat_minor": 0
}
