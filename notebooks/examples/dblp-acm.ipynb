{
 "cells": [
  {
   "cell_type": "code",
   "execution_count": 1,
   "metadata": {
    "collapsed": false
   },
   "outputs": [],
   "source": [
    "%load_ext autotime"
   ]
  },
  {
   "cell_type": "code",
   "execution_count": 2,
   "metadata": {
    "collapsed": false
   },
   "outputs": [
    {
     "name": "stdout",
     "output_type": "stream",
     "text": [
      "time: 1.67 ms\n"
     ]
    }
   ],
   "source": [
    "import sys\n",
    "sys.path.append('/Users/Pradap/Documents/Research/Python-Package/enrique/')\n",
    "#sys.path.append('/scratch/pradap/python-work/enrique/')"
   ]
  },
  {
   "cell_type": "code",
   "execution_count": 3,
   "metadata": {
    "collapsed": false
   },
   "outputs": [
    {
     "name": "stderr",
     "output_type": "stream",
     "text": [
      "DEBUG:Cloud:Log file (/Users/pradap/.picloud/cloud.log) opened\n"
     ]
    },
    {
     "name": "stdout",
     "output_type": "stream",
     "text": [
      "time: 442 ms\n"
     ]
    }
   ],
   "source": [
    "import magellan as mg"
   ]
  },
  {
   "cell_type": "code",
   "execution_count": 4,
   "metadata": {
    "collapsed": false
   },
   "outputs": [
    {
     "data": {
      "text/plain": [
       "True"
      ]
     },
     "execution_count": 4,
     "metadata": {},
     "output_type": "execute_result"
    },
    {
     "name": "stdout",
     "output_type": "stream",
     "text": [
      "time: 97.3 ms\n"
     ]
    }
   ],
   "source": [
    "mg.init_jvm('/Library/Java/JavaVirtualMachines/jdk1.8.0_45.jdk/Contents/Home/jre/lib/server/libjvm.dylib')\n",
    "#mg.init_jvm()"
   ]
  },
  {
   "cell_type": "code",
   "execution_count": 5,
   "metadata": {
    "collapsed": false
   },
   "outputs": [
    {
     "name": "stdout",
     "output_type": "stream",
     "text": [
      "time: 15.9 ms\n"
     ]
    }
   ],
   "source": [
    "acm = mg.read_csv(mg.get_install_path() + '/datasets/DBLP_ACM/ACM_cleaned.csv'\n",
    "                 , key='id')"
   ]
  },
  {
   "cell_type": "code",
   "execution_count": 6,
   "metadata": {
    "collapsed": false
   },
   "outputs": [
    {
     "name": "stdout",
     "output_type": "stream",
     "text": [
      "time: 17.5 ms\n"
     ]
    }
   ],
   "source": [
    "dblp = mg.read_csv(mg.get_install_path() + '/datasets/DBLP_ACM/DBLP_cleaned.csv', key='id')"
   ]
  },
  {
   "cell_type": "code",
   "execution_count": 7,
   "metadata": {
    "collapsed": false
   },
   "outputs": [
    {
     "data": {
      "text/plain": [
       "Index([u'id', u'title', u'authors', u'venue', u'year'], dtype='object')"
      ]
     },
     "execution_count": 7,
     "metadata": {},
     "output_type": "execute_result"
    },
    {
     "name": "stdout",
     "output_type": "stream",
     "text": [
      "time: 2.27 ms\n"
     ]
    }
   ],
   "source": [
    "acm.columns"
   ]
  },
  {
   "cell_type": "code",
   "execution_count": 8,
   "metadata": {
    "collapsed": false
   },
   "outputs": [
    {
     "data": {
      "text/plain": [
       "Index([u'id', u'title', u'authors', u'venue', u'year'], dtype='object')"
      ]
     },
     "execution_count": 8,
     "metadata": {},
     "output_type": "execute_result"
    },
    {
     "name": "stdout",
     "output_type": "stream",
     "text": [
      "time: 1.94 ms\n"
     ]
    }
   ],
   "source": [
    "dblp.columns"
   ]
  },
  {
   "cell_type": "code",
   "execution_count": 9,
   "metadata": {
    "collapsed": false
   },
   "outputs": [
    {
     "name": "stdout",
     "output_type": "stream",
     "text": [
      "time: 1.16 ms\n"
     ]
    }
   ],
   "source": [
    "ob = mg.OverlapBlocker()"
   ]
  },
  {
   "cell_type": "code",
   "execution_count": 10,
   "metadata": {
    "collapsed": false
   },
   "outputs": [
    {
     "name": "stdout",
     "output_type": "stream",
     "text": [
      "time: 730 µs\n"
     ]
    }
   ],
   "source": [
    "mg._verbose = True"
   ]
  },
  {
   "cell_type": "code",
   "execution_count": 11,
   "metadata": {
    "collapsed": false
   },
   "outputs": [
    {
     "name": "stdout",
     "output_type": "stream",
     "text": [
      "Creating inverted index \n",
      "Done\n",
      "230.0\n",
      "10.0 percentage done !!!\n",
      "20.0 percentage done !!!\n",
      "30.0 percentage done !!!\n",
      "40.0 percentage done !!!\n",
      "50.0 percentage done !!!\n",
      "60.0 percentage done !!!\n",
      "70.0 percentage done !!!\n",
      "80.0 percentage done !!!\n",
      "90.0 percentage done !!!\n",
      "time: 8.97 s\n"
     ]
    }
   ],
   "source": [
    "C = ob.block_tables(dblp, acm, 'authors', 'authors', \n",
    "                    l_output_attrs=['title', 'authors'],\n",
    "                   r_output_attrs = ['title', 'authors'], \n",
    "                   word_level=True, overlap_size = 2)"
   ]
  },
  {
   "cell_type": "code",
   "execution_count": 12,
   "metadata": {
    "collapsed": false
   },
   "outputs": [
    {
     "name": "stdout",
     "output_type": "stream",
     "text": [
      "10.0 percentage done !!!\n",
      "20.0 percentage done !!!\n",
      "30.0 percentage done !!!\n",
      "40.0 percentage done !!!\n",
      "50.0 percentage done !!!\n",
      "60.0 percentage done !!!\n",
      "70.0 percentage done !!!\n",
      "80.0 percentage done !!!\n",
      "90.0 percentage done !!!\n",
      "time: 2.73 s\n"
     ]
    }
   ],
   "source": [
    "D = ob.block_candset(C, 'venue', 'venue', overlap_size=1)"
   ]
  },
  {
   "cell_type": "code",
   "execution_count": 17,
   "metadata": {
    "collapsed": false
   },
   "outputs": [
    {
     "name": "stdout",
     "output_type": "stream",
     "text": [
      "time: 893 µs\n"
     ]
    }
   ],
   "source": [
    "ab = mg.AttrEquivalenceBlocker()"
   ]
  },
  {
   "cell_type": "code",
   "execution_count": 18,
   "metadata": {
    "collapsed": false
   },
   "outputs": [
    {
     "name": "stdout",
     "output_type": "stream",
     "text": [
      "time: 9.02 ms\n"
     ]
    }
   ],
   "source": [
    "C = ab.block_tables(dblp, acm, 'title', 'venue')"
   ]
  },
  {
   "cell_type": "code",
   "execution_count": 20,
   "metadata": {
    "collapsed": false
   },
   "outputs": [
    {
     "name": "stdout",
     "output_type": "stream",
     "text": [
      "time: 996 µs\n"
     ]
    }
   ],
   "source": [
    "k = {0:1, 1:1, 2:1, 3:4}"
   ]
  },
  {
   "cell_type": "code",
   "execution_count": 14,
   "metadata": {
    "collapsed": false
   },
   "outputs": [
    {
     "data": {
      "text/html": [
       "<div>\n",
       "<table border=\"1\" class=\"dataframe\">\n",
       "  <thead>\n",
       "    <tr style=\"text-align: right;\">\n",
       "      <th></th>\n",
       "      <th>_id</th>\n",
       "      <th>index</th>\n",
       "      <th>ltable.id</th>\n",
       "      <th>rtable.id</th>\n",
       "      <th>ltable.title</th>\n",
       "      <th>ltable.authors</th>\n",
       "      <th>rtable.title</th>\n",
       "      <th>rtable.authors</th>\n",
       "    </tr>\n",
       "  </thead>\n",
       "  <tbody>\n",
       "    <tr>\n",
       "      <th>0</th>\n",
       "      <td>0</td>\n",
       "      <td>257</td>\n",
       "      <td>conf/sigmod/AbadiC02</td>\n",
       "      <td>191911</td>\n",
       "      <td>Visual COKO: a debugger for query optimizer de...</td>\n",
       "      <td>Daniel J. Abadi, Mitch Cherniack</td>\n",
       "      <td>Fine-grained sharing in a page server OODBMS</td>\n",
       "      <td>Michael J. Carey, Michael J. Franklin, Markos ...</td>\n",
       "    </tr>\n",
       "    <tr>\n",
       "      <th>1</th>\n",
       "      <td>1</td>\n",
       "      <td>206</td>\n",
       "      <td>conf/sigmod/AbadiC02</td>\n",
       "      <td>191915</td>\n",
       "      <td>Visual COKO: a debugger for query optimizer de...</td>\n",
       "      <td>Daniel J. Abadi, Mitch Cherniack</td>\n",
       "      <td>Shoring up persistent applications</td>\n",
       "      <td>Michael J. Carey, David J. DeWitt, Michael J. ...</td>\n",
       "    </tr>\n",
       "    <tr>\n",
       "      <th>2</th>\n",
       "      <td>2</td>\n",
       "      <td>187</td>\n",
       "      <td>conf/sigmod/AbadiC02</td>\n",
       "      <td>191919</td>\n",
       "      <td>Visual COKO: a debugger for query optimizer de...</td>\n",
       "      <td>Daniel J. Abadi, Mitch Cherniack</td>\n",
       "      <td>QuickStore: a high performance mapped object s...</td>\n",
       "      <td>Seth J. White, David J. DeWitt</td>\n",
       "    </tr>\n",
       "    <tr>\n",
       "      <th>3</th>\n",
       "      <td>3</td>\n",
       "      <td>4</td>\n",
       "      <td>conf/sigmod/AbadiC02</td>\n",
       "      <td>191931</td>\n",
       "      <td>Visual COKO: a debugger for query optimizer de...</td>\n",
       "      <td>Daniel J. Abadi, Mitch Cherniack</td>\n",
       "      <td>DEC data distributor: for data replication and...</td>\n",
       "      <td>Daniel J. Dietterich</td>\n",
       "    </tr>\n",
       "    <tr>\n",
       "      <th>4</th>\n",
       "      <td>4</td>\n",
       "      <td>148</td>\n",
       "      <td>conf/sigmod/AbadiC02</td>\n",
       "      <td>191955</td>\n",
       "      <td>Visual COKO: a debugger for query optimizer de...</td>\n",
       "      <td>Daniel J. Abadi, Mitch Cherniack</td>\n",
       "      <td>The MEDUSA project: autonomous data management...</td>\n",
       "      <td>G. M. Bryan, W. E. Moore, B. J. Curry, K. W. L...</td>\n",
       "    </tr>\n",
       "    <tr>\n",
       "      <th>5</th>\n",
       "      <td>5</td>\n",
       "      <td>146</td>\n",
       "      <td>conf/sigmod/AbadiC02</td>\n",
       "      <td>191986</td>\n",
       "      <td>Visual COKO: a debugger for query optimizer de...</td>\n",
       "      <td>Daniel J. Abadi, Mitch Cherniack</td>\n",
       "      <td>The MYRIAD federated database prototype</td>\n",
       "      <td>S.-Y. Hwang, E.-P. Lim, H.-R. Yang, S. Musukul...</td>\n",
       "    </tr>\n",
       "    <tr>\n",
       "      <th>6</th>\n",
       "      <td>6</td>\n",
       "      <td>187</td>\n",
       "      <td>conf/sigmod/AbadiC02</td>\n",
       "      <td>223814</td>\n",
       "      <td>Visual COKO: a debugger for query optimizer de...</td>\n",
       "      <td>Daniel J. Abadi, Mitch Cherniack</td>\n",
       "      <td>Implementing crash recovery in QuickStore: a p...</td>\n",
       "      <td>Seth J. White, David J. DeWitt</td>\n",
       "    </tr>\n",
       "    <tr>\n",
       "      <th>7</th>\n",
       "      <td>7</td>\n",
       "      <td>218</td>\n",
       "      <td>conf/sigmod/AbadiC02</td>\n",
       "      <td>233342</td>\n",
       "      <td>Visual COKO: a debugger for query optimizer de...</td>\n",
       "      <td>Daniel J. Abadi, Mitch Cherniack</td>\n",
       "      <td>Improved histograms for selectivity estimation...</td>\n",
       "      <td>Viswanath Poosala, Peter J. Haas, Yannis E. Io...</td>\n",
       "    </tr>\n",
       "    <tr>\n",
       "      <th>8</th>\n",
       "      <td>8</td>\n",
       "      <td>7</td>\n",
       "      <td>conf/sigmod/AbadiC02</td>\n",
       "      <td>233356</td>\n",
       "      <td>Visual COKO: a debugger for query optimizer de...</td>\n",
       "      <td>Daniel J. Abadi, Mitch Cherniack</td>\n",
       "      <td>Rule languages and internal algebras for rule-...</td>\n",
       "      <td>Mitch Cherniack, Stanley B. Zdonik</td>\n",
       "    </tr>\n",
       "    <tr>\n",
       "      <th>9</th>\n",
       "      <td>9</td>\n",
       "      <td>190</td>\n",
       "      <td>conf/sigmod/AbadiC02</td>\n",
       "      <td>245895</td>\n",
       "      <td>Visual COKO: a debugger for query optimizer de...</td>\n",
       "      <td>Daniel J. Abadi, Mitch Cherniack</td>\n",
       "      <td>A framework for information visualisation</td>\n",
       "      <td>Jessie B. Kennedy, Kenneth J. Mitchell, Peter ...</td>\n",
       "    </tr>\n",
       "  </tbody>\n",
       "</table>\n",
       "</div>"
      ],
      "text/plain": [
       "   _id  index             ltable.id rtable.id  \\\n",
       "0    0    257  conf/sigmod/AbadiC02    191911   \n",
       "1    1    206  conf/sigmod/AbadiC02    191915   \n",
       "2    2    187  conf/sigmod/AbadiC02    191919   \n",
       "3    3      4  conf/sigmod/AbadiC02    191931   \n",
       "4    4    148  conf/sigmod/AbadiC02    191955   \n",
       "5    5    146  conf/sigmod/AbadiC02    191986   \n",
       "6    6    187  conf/sigmod/AbadiC02    223814   \n",
       "7    7    218  conf/sigmod/AbadiC02    233342   \n",
       "8    8      7  conf/sigmod/AbadiC02    233356   \n",
       "9    9    190  conf/sigmod/AbadiC02    245895   \n",
       "\n",
       "                                        ltable.title  \\\n",
       "0  Visual COKO: a debugger for query optimizer de...   \n",
       "1  Visual COKO: a debugger for query optimizer de...   \n",
       "2  Visual COKO: a debugger for query optimizer de...   \n",
       "3  Visual COKO: a debugger for query optimizer de...   \n",
       "4  Visual COKO: a debugger for query optimizer de...   \n",
       "5  Visual COKO: a debugger for query optimizer de...   \n",
       "6  Visual COKO: a debugger for query optimizer de...   \n",
       "7  Visual COKO: a debugger for query optimizer de...   \n",
       "8  Visual COKO: a debugger for query optimizer de...   \n",
       "9  Visual COKO: a debugger for query optimizer de...   \n",
       "\n",
       "                     ltable.authors  \\\n",
       "0  Daniel J. Abadi, Mitch Cherniack   \n",
       "1  Daniel J. Abadi, Mitch Cherniack   \n",
       "2  Daniel J. Abadi, Mitch Cherniack   \n",
       "3  Daniel J. Abadi, Mitch Cherniack   \n",
       "4  Daniel J. Abadi, Mitch Cherniack   \n",
       "5  Daniel J. Abadi, Mitch Cherniack   \n",
       "6  Daniel J. Abadi, Mitch Cherniack   \n",
       "7  Daniel J. Abadi, Mitch Cherniack   \n",
       "8  Daniel J. Abadi, Mitch Cherniack   \n",
       "9  Daniel J. Abadi, Mitch Cherniack   \n",
       "\n",
       "                                        rtable.title  \\\n",
       "0       Fine-grained sharing in a page server OODBMS   \n",
       "1                 Shoring up persistent applications   \n",
       "2  QuickStore: a high performance mapped object s...   \n",
       "3  DEC data distributor: for data replication and...   \n",
       "4  The MEDUSA project: autonomous data management...   \n",
       "5            The MYRIAD federated database prototype   \n",
       "6  Implementing crash recovery in QuickStore: a p...   \n",
       "7  Improved histograms for selectivity estimation...   \n",
       "8  Rule languages and internal algebras for rule-...   \n",
       "9          A framework for information visualisation   \n",
       "\n",
       "                                      rtable.authors  \n",
       "0  Michael J. Carey, Michael J. Franklin, Markos ...  \n",
       "1  Michael J. Carey, David J. DeWitt, Michael J. ...  \n",
       "2                     Seth J. White, David J. DeWitt  \n",
       "3                               Daniel J. Dietterich  \n",
       "4  G. M. Bryan, W. E. Moore, B. J. Curry, K. W. L...  \n",
       "5  S.-Y. Hwang, E.-P. Lim, H.-R. Yang, S. Musukul...  \n",
       "6                     Seth J. White, David J. DeWitt  \n",
       "7  Viswanath Poosala, Peter J. Haas, Yannis E. Io...  \n",
       "8                 Mitch Cherniack, Stanley B. Zdonik  \n",
       "9  Jessie B. Kennedy, Kenneth J. Mitchell, Peter ...  "
      ]
     },
     "execution_count": 14,
     "metadata": {},
     "output_type": "execute_result"
    },
    {
     "name": "stdout",
     "output_type": "stream",
     "text": [
      "time: 34.1 ms\n"
     ]
    }
   ],
   "source": [
    "C.iloc[0:10]"
   ]
  }
 ],
 "metadata": {
  "kernelspec": {
   "display_name": "Python 2",
   "language": "python",
   "name": "python2"
  },
  "language_info": {
   "codemirror_mode": {
    "name": "ipython",
    "version": 2
   },
   "file_extension": ".py",
   "mimetype": "text/x-python",
   "name": "python",
   "nbconvert_exporter": "python",
   "pygments_lexer": "ipython2",
   "version": "2.7.10"
  }
 },
 "nbformat": 4,
 "nbformat_minor": 0
}
