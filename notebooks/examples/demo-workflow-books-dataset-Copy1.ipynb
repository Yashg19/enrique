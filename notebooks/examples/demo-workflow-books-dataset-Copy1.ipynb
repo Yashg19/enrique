{
 "cells": [
  {
   "cell_type": "code",
   "execution_count": 1,
   "metadata": {
    "collapsed": false
   },
   "outputs": [],
   "source": [
    " %load_ext autotime"
   ]
  },
  {
   "cell_type": "code",
   "execution_count": 2,
   "metadata": {
    "collapsed": false
   },
   "outputs": [
    {
     "name": "stdout",
     "output_type": "stream",
     "text": [
      "time: 994 µs\n"
     ]
    }
   ],
   "source": [
    "# import sys\n",
    "# sys.path.append('/Users/pradap/Documents/Research/Python-Package/enrique/')\n",
    "# sys.path.append('/scratch/pradap/python-work/enrique')"
   ]
  },
  {
   "cell_type": "code",
   "execution_count": 3,
   "metadata": {
    "collapsed": false
   },
   "outputs": [
    {
     "name": "stderr",
     "output_type": "stream",
     "text": [
      "DEBUG:Cloud:Log file (/Users/pradap/.picloud/cloud.log) opened\n"
     ]
    },
    {
     "name": "stdout",
     "output_type": "stream",
     "text": [
      "time: 3.14 s\n"
     ]
    }
   ],
   "source": [
    "import magellan as mg\n",
    "import pandas as pd"
   ]
  },
  {
   "cell_type": "code",
   "execution_count": 4,
   "metadata": {
    "collapsed": false
   },
   "outputs": [
    {
     "data": {
      "text/plain": [
       "True"
      ]
     },
     "execution_count": 4,
     "metadata": {},
     "output_type": "execute_result"
    },
    {
     "name": "stdout",
     "output_type": "stream",
     "text": [
      "time: 140 ms\n"
     ]
    }
   ],
   "source": [
    "# initialize JVM\n",
    "mg.init_jvm()"
   ]
  },
  {
   "cell_type": "code",
   "execution_count": 5,
   "metadata": {
    "collapsed": false
   },
   "outputs": [
    {
     "name": "stdout",
     "output_type": "stream",
     "text": [
      "time: 1.7 s\n"
     ]
    }
   ],
   "source": [
    "# Read walmart books data\n",
    "wal =  mg.read_csv(mg.get_install_path()+'/datasets/books/walmart.csv',\n",
    "                    dtype={'isbn':pd.np.str, 'pages':pd.np.str, 'volume':pd.np.str, 'editionNum':pd.np.str},  \n",
    "                    low_memory=False, key='id')"
   ]
  },
  {
   "cell_type": "code",
   "execution_count": 6,
   "metadata": {
    "collapsed": false
   },
   "outputs": [
    {
     "name": "stdout",
     "output_type": "stream",
     "text": [
      "time: 155 ms\n"
     ]
    }
   ],
   "source": [
    "# Read bowker books data\n",
    "bwk = mg.read_csv(mg.get_install_path()+'/datasets/books/bowker.csv', \n",
    "                  dtype={'isbn':pd.np.str, 'pages':pd.np.str, 'volume':pd.np.str, 'editionNum':pd.np.str},  \n",
    "                  low_memory=False, key='id')\n"
   ]
  },
  {
   "cell_type": "code",
   "execution_count": 7,
   "metadata": {
    "collapsed": false
   },
   "outputs": [
    {
     "name": "stdout",
     "output_type": "stream",
     "text": [
      "time: 299 ms\n"
     ]
    }
   ],
   "source": [
    "# Create Attribute equivalence blocker and block using isbn\n",
    "ab = mg.AttrEquivalenceBlocker()\n",
    "C = ab.block_tables(wal, bwk, 'isbn', 'isbn', ['title', 'author'], ['title', 'author'])\n"
   ]
  },
  {
   "cell_type": "code",
   "execution_count": 8,
   "metadata": {
    "collapsed": false
   },
   "outputs": [
    {
     "data": {
      "text/plain": [
       "True"
      ]
     },
     "execution_count": 8,
     "metadata": {},
     "output_type": "execute_result"
    },
    {
     "name": "stdout",
     "output_type": "stream",
     "text": [
      "time: 3.87 ms\n"
     ]
    }
   ],
   "source": [
    "# Write candidate set to disk -- end of project stage 2\n",
    "C.to_csv('books_candset.csv')"
   ]
  },
  {
   "cell_type": "code",
   "execution_count": 9,
   "metadata": {
    "collapsed": false
   },
   "outputs": [
    {
     "name": "stdout",
     "output_type": "stream",
     "text": [
      "time: 4.36 ms\n"
     ]
    }
   ],
   "source": [
    "# Read candidate set \n",
    "C = mg.read_csv('books_candset.csv', ltable=wal, rtable=bwk)"
   ]
  },
  {
   "cell_type": "code",
   "execution_count": 10,
   "metadata": {
    "collapsed": false
   },
   "outputs": [
    {
     "data": {
      "text/plain": [
       "68"
      ]
     },
     "execution_count": 10,
     "metadata": {},
     "output_type": "execute_result"
    },
    {
     "name": "stdout",
     "output_type": "stream",
     "text": [
      "time: 2.04 ms\n"
     ]
    }
   ],
   "source": [
    "# print number of tuples in candidate set\n",
    "len(C)"
   ]
  },
  {
   "cell_type": "code",
   "execution_count": 11,
   "metadata": {
    "collapsed": false
   },
   "outputs": [
    {
     "name": "stdout",
     "output_type": "stream",
     "text": [
      "time: 1.96 ms\n"
     ]
    }
   ],
   "source": [
    "#plan\n",
    "\n",
    "# 1. sample candidate set --> S\n",
    "# 2. label S --> L\n",
    "# 3. Two matching options\n",
    "#    a. ML matcher + Trigger\n",
    "#    b. Rule-based matcher + Trigger\n",
    "# 4. Choose one of the above two options (which ever produces better result), and \n",
    "#     apply it over candidate set"
   ]
  },
  {
   "cell_type": "code",
   "execution_count": 12,
   "metadata": {
    "collapsed": false
   },
   "outputs": [
    {
     "name": "stdout",
     "output_type": "stream",
     "text": [
      "time: 2.74 ms\n"
     ]
    }
   ],
   "source": [
    "# sample table\n",
    "S = mg.sample_table(C, 50)"
   ]
  },
  {
   "cell_type": "code",
   "execution_count": 13,
   "metadata": {
    "collapsed": false
   },
   "outputs": [
    {
     "name": "stdout",
     "output_type": "stream",
     "text": [
      "time: 1.05 ms\n"
     ]
    }
   ],
   "source": [
    "# label table\n",
    "# L = mg.label_table(S, 'gold')"
   ]
  },
  {
   "cell_type": "code",
   "execution_count": 14,
   "metadata": {
    "collapsed": false
   },
   "outputs": [
    {
     "name": "stdout",
     "output_type": "stream",
     "text": [
      "time: 4.98 ms\n"
     ]
    }
   ],
   "source": [
    "# for demo reading a pre-labeled file\n",
    "L = mg.read_csv('label_table_demo_books.csv', ltable=wal, rtable=bwk)"
   ]
  },
  {
   "cell_type": "code",
   "execution_count": 15,
   "metadata": {
    "collapsed": false
   },
   "outputs": [
    {
     "name": "stdout",
     "output_type": "stream",
     "text": [
      "time: 3.65 ms\n"
     ]
    }
   ],
   "source": [
    "# ML matcher + Trigger\n",
    "#   1. Find best possible ML matcher\n",
    "#       1. Get features for matching\n",
    "#       2. Extract feature vectors\n",
    "#       3. Select matcher using cross validation\n",
    "#       4. Debug matcher\n",
    "#       5. Get the best possible matcher\n",
    "#   2. Add Triggers "
   ]
  },
  {
   "cell_type": "code",
   "execution_count": 16,
   "metadata": {
    "collapsed": false
   },
   "outputs": [
    {
     "name": "stderr",
     "output_type": "stream",
     "text": [
      "WARNING:magellan.feature.autofeaturegen:editionNum type and editionNum type are different\n",
      "WARNING:magellan.feature.autofeaturegen:pages type and pages type are different\n",
      "WARNING:magellan.feature.autofeaturegen:volume type and volume type are different\n"
     ]
    },
    {
     "name": "stdout",
     "output_type": "stream",
     "text": [
      "time: 3.47 s\n"
     ]
    }
   ],
   "source": [
    "# get features for matching\n",
    "feature_table = mg.get_features_for_matching(wal, bwk)"
   ]
  },
  {
   "cell_type": "code",
   "execution_count": 17,
   "metadata": {
    "collapsed": false
   },
   "outputs": [
    {
     "name": "stdout",
     "output_type": "stream",
     "text": [
      "time: 1.54 ms\n"
     ]
    }
   ],
   "source": [
    "#feature_table"
   ]
  },
  {
   "cell_type": "code",
   "execution_count": 18,
   "metadata": {
    "collapsed": false
   },
   "outputs": [
    {
     "name": "stdout",
     "output_type": "stream",
     "text": [
      "time: 1.73 ms\n"
     ]
    }
   ],
   "source": [
    "# select a subset of matchers\n",
    "f = feature_table.ix[[3,7,18,26, 53]]"
   ]
  },
  {
   "cell_type": "code",
   "execution_count": 19,
   "metadata": {
    "collapsed": false
   },
   "outputs": [
    {
     "data": {
      "text/html": [
       "<div>\n",
       "<table border=\"1\" class=\"dataframe\">\n",
       "  <thead>\n",
       "    <tr style=\"text-align: right;\">\n",
       "      <th></th>\n",
       "      <th>feature_name</th>\n",
       "      <th>left_attribute</th>\n",
       "      <th>right_attribute</th>\n",
       "      <th>left_attr_tokenizer</th>\n",
       "      <th>right_attr_tokenizer</th>\n",
       "      <th>simfunction</th>\n",
       "      <th>function</th>\n",
       "      <th>function_source</th>\n",
       "    </tr>\n",
       "  </thead>\n",
       "  <tbody>\n",
       "    <tr>\n",
       "      <th>3</th>\n",
       "      <td>title_title_jac_qgm_3_qgm_3</td>\n",
       "      <td>title</td>\n",
       "      <td>title</td>\n",
       "      <td>qgm_3</td>\n",
       "      <td>qgm_3</td>\n",
       "      <td>jaccard</td>\n",
       "      <td>&lt;function title_title_jac_qgm_3_qgm_3 at 0x120...</td>\n",
       "      <td>from magellan.feature.simfunctions import *\\nf...</td>\n",
       "    </tr>\n",
       "    <tr>\n",
       "      <th>7</th>\n",
       "      <td>author_author_jac_qgm_3_qgm_3</td>\n",
       "      <td>author</td>\n",
       "      <td>author</td>\n",
       "      <td>qgm_3</td>\n",
       "      <td>qgm_3</td>\n",
       "      <td>jaccard</td>\n",
       "      <td>&lt;function author_author_jac_qgm_3_qgm_3 at 0x1...</td>\n",
       "      <td>from magellan.feature.simfunctions import *\\nf...</td>\n",
       "    </tr>\n",
       "    <tr>\n",
       "      <th>18</th>\n",
       "      <td>binding_binding_jac_qgm_3_qgm_3</td>\n",
       "      <td>binding</td>\n",
       "      <td>binding</td>\n",
       "      <td>qgm_3</td>\n",
       "      <td>qgm_3</td>\n",
       "      <td>jaccard</td>\n",
       "      <td>&lt;function binding_binding_jac_qgm_3_qgm_3 at 0...</td>\n",
       "      <td>from magellan.feature.simfunctions import *\\nf...</td>\n",
       "    </tr>\n",
       "    <tr>\n",
       "      <th>26</th>\n",
       "      <td>publisher_publisher_jac_qgm_3_qgm_3</td>\n",
       "      <td>publisher</td>\n",
       "      <td>publisher</td>\n",
       "      <td>qgm_3</td>\n",
       "      <td>qgm_3</td>\n",
       "      <td>jaccard</td>\n",
       "      <td>&lt;function publisher_publisher_jac_qgm_3_qgm_3 ...</td>\n",
       "      <td>from magellan.feature.simfunctions import *\\nf...</td>\n",
       "    </tr>\n",
       "    <tr>\n",
       "      <th>53</th>\n",
       "      <td>lang_lang_lev</td>\n",
       "      <td>lang</td>\n",
       "      <td>lang</td>\n",
       "      <td>None</td>\n",
       "      <td>None</td>\n",
       "      <td>lev</td>\n",
       "      <td>&lt;function lang_lang_lev at 0x11fe442a8&gt;</td>\n",
       "      <td>from magellan.feature.simfunctions import *\\nf...</td>\n",
       "    </tr>\n",
       "  </tbody>\n",
       "</table>\n",
       "</div>"
      ],
      "text/plain": [
       "                           feature_name left_attribute right_attribute  \\\n",
       "3           title_title_jac_qgm_3_qgm_3          title           title   \n",
       "7         author_author_jac_qgm_3_qgm_3         author          author   \n",
       "18      binding_binding_jac_qgm_3_qgm_3        binding         binding   \n",
       "26  publisher_publisher_jac_qgm_3_qgm_3      publisher       publisher   \n",
       "53                        lang_lang_lev           lang            lang   \n",
       "\n",
       "   left_attr_tokenizer right_attr_tokenizer simfunction  \\\n",
       "3                qgm_3                qgm_3     jaccard   \n",
       "7                qgm_3                qgm_3     jaccard   \n",
       "18               qgm_3                qgm_3     jaccard   \n",
       "26               qgm_3                qgm_3     jaccard   \n",
       "53                None                 None         lev   \n",
       "\n",
       "                                             function  \\\n",
       "3   <function title_title_jac_qgm_3_qgm_3 at 0x120...   \n",
       "7   <function author_author_jac_qgm_3_qgm_3 at 0x1...   \n",
       "18  <function binding_binding_jac_qgm_3_qgm_3 at 0...   \n",
       "26  <function publisher_publisher_jac_qgm_3_qgm_3 ...   \n",
       "53            <function lang_lang_lev at 0x11fe442a8>   \n",
       "\n",
       "                                      function_source  \n",
       "3   from magellan.feature.simfunctions import *\\nf...  \n",
       "7   from magellan.feature.simfunctions import *\\nf...  \n",
       "18  from magellan.feature.simfunctions import *\\nf...  \n",
       "26  from magellan.feature.simfunctions import *\\nf...  \n",
       "53  from magellan.feature.simfunctions import *\\nf...  "
      ]
     },
     "execution_count": 19,
     "metadata": {},
     "output_type": "execute_result"
    },
    {
     "name": "stdout",
     "output_type": "stream",
     "text": [
      "time: 18.9 ms\n"
     ]
    }
   ],
   "source": [
    "# display selected features\n",
    "f"
   ]
  },
  {
   "cell_type": "code",
   "execution_count": 20,
   "metadata": {
    "collapsed": false
   },
   "outputs": [
    {
     "name": "stdout",
     "output_type": "stream",
     "text": [
      "time: 471 ms\n"
     ]
    }
   ],
   "source": [
    "# Extract feature vectors\n",
    "G = mg.extract_feat_vecs(L, feature_table=f, attrs_after='gold')"
   ]
  },
  {
   "cell_type": "code",
   "execution_count": 21,
   "metadata": {
    "collapsed": false
   },
   "outputs": [
    {
     "data": {
      "text/html": [
       "<div>\n",
       "<table border=\"1\" class=\"dataframe\">\n",
       "  <thead>\n",
       "    <tr style=\"text-align: right;\">\n",
       "      <th></th>\n",
       "      <th>_id</th>\n",
       "      <th>ltable.id</th>\n",
       "      <th>rtable.id</th>\n",
       "      <th>title_title_jac_qgm_3_qgm_3</th>\n",
       "      <th>author_author_jac_qgm_3_qgm_3</th>\n",
       "      <th>binding_binding_jac_qgm_3_qgm_3</th>\n",
       "      <th>publisher_publisher_jac_qgm_3_qgm_3</th>\n",
       "      <th>lang_lang_lev</th>\n",
       "      <th>gold</th>\n",
       "    </tr>\n",
       "  </thead>\n",
       "  <tbody>\n",
       "    <tr>\n",
       "      <th>0</th>\n",
       "      <td>0</td>\n",
       "      <td>4086892</td>\n",
       "      <td>9780226156439</td>\n",
       "      <td>0.785714</td>\n",
       "      <td>1.000000</td>\n",
       "      <td>0</td>\n",
       "      <td>0.518519</td>\n",
       "      <td>1</td>\n",
       "      <td>1</td>\n",
       "    </tr>\n",
       "    <tr>\n",
       "      <th>1</th>\n",
       "      <td>1</td>\n",
       "      <td>535599</td>\n",
       "      <td>9780060655808</td>\n",
       "      <td>0.222222</td>\n",
       "      <td>1.000000</td>\n",
       "      <td>0</td>\n",
       "      <td>0.320000</td>\n",
       "      <td>1</td>\n",
       "      <td>1</td>\n",
       "    </tr>\n",
       "    <tr>\n",
       "      <th>2</th>\n",
       "      <td>2</td>\n",
       "      <td>1386538</td>\n",
       "      <td>9780130901262</td>\n",
       "      <td>1.000000</td>\n",
       "      <td>0.785714</td>\n",
       "      <td>1</td>\n",
       "      <td>0.733333</td>\n",
       "      <td>1</td>\n",
       "      <td>1</td>\n",
       "    </tr>\n",
       "    <tr>\n",
       "      <th>3</th>\n",
       "      <td>3</td>\n",
       "      <td>15280600</td>\n",
       "      <td>9780217455008</td>\n",
       "      <td>0.720000</td>\n",
       "      <td>0.666667</td>\n",
       "      <td>1</td>\n",
       "      <td>1.000000</td>\n",
       "      <td>1</td>\n",
       "      <td>1</td>\n",
       "    </tr>\n",
       "    <tr>\n",
       "      <th>4</th>\n",
       "      <td>4</td>\n",
       "      <td>15286798</td>\n",
       "      <td>9780217825382</td>\n",
       "      <td>1.000000</td>\n",
       "      <td>1.000000</td>\n",
       "      <td>1</td>\n",
       "      <td>1.000000</td>\n",
       "      <td>1</td>\n",
       "      <td>1</td>\n",
       "    </tr>\n",
       "    <tr>\n",
       "      <th>5</th>\n",
       "      <td>5</td>\n",
       "      <td>15295588</td>\n",
       "      <td>9780217940207</td>\n",
       "      <td>0.308271</td>\n",
       "      <td>0.695652</td>\n",
       "      <td>1</td>\n",
       "      <td>0.083333</td>\n",
       "      <td>1</td>\n",
       "      <td>0</td>\n",
       "    </tr>\n",
       "    <tr>\n",
       "      <th>6</th>\n",
       "      <td>6</td>\n",
       "      <td>15334872</td>\n",
       "      <td>9780217270052</td>\n",
       "      <td>1.000000</td>\n",
       "      <td>1.000000</td>\n",
       "      <td>1</td>\n",
       "      <td>1.000000</td>\n",
       "      <td>1</td>\n",
       "      <td>1</td>\n",
       "    </tr>\n",
       "    <tr>\n",
       "      <th>7</th>\n",
       "      <td>7</td>\n",
       "      <td>15338150</td>\n",
       "      <td>9780217304399</td>\n",
       "      <td>0.280702</td>\n",
       "      <td>1.000000</td>\n",
       "      <td>1</td>\n",
       "      <td>1.000000</td>\n",
       "      <td>1</td>\n",
       "      <td>1</td>\n",
       "    </tr>\n",
       "    <tr>\n",
       "      <th>8</th>\n",
       "      <td>8</td>\n",
       "      <td>1566948</td>\n",
       "      <td>9780070479081</td>\n",
       "      <td>0.822222</td>\n",
       "      <td>0.260870</td>\n",
       "      <td>1</td>\n",
       "      <td>0.303030</td>\n",
       "      <td>1</td>\n",
       "      <td>1</td>\n",
       "    </tr>\n",
       "    <tr>\n",
       "      <th>9</th>\n",
       "      <td>9</td>\n",
       "      <td>4564015</td>\n",
       "      <td>9780080446837</td>\n",
       "      <td>1.000000</td>\n",
       "      <td>NaN</td>\n",
       "      <td>1</td>\n",
       "      <td>0.512821</td>\n",
       "      <td>1</td>\n",
       "      <td>0</td>\n",
       "    </tr>\n",
       "  </tbody>\n",
       "</table>\n",
       "</div>"
      ],
      "text/plain": [
       "   _id  ltable.id      rtable.id  title_title_jac_qgm_3_qgm_3  \\\n",
       "0    0    4086892  9780226156439                     0.785714   \n",
       "1    1     535599  9780060655808                     0.222222   \n",
       "2    2    1386538  9780130901262                     1.000000   \n",
       "3    3   15280600  9780217455008                     0.720000   \n",
       "4    4   15286798  9780217825382                     1.000000   \n",
       "5    5   15295588  9780217940207                     0.308271   \n",
       "6    6   15334872  9780217270052                     1.000000   \n",
       "7    7   15338150  9780217304399                     0.280702   \n",
       "8    8    1566948  9780070479081                     0.822222   \n",
       "9    9    4564015  9780080446837                     1.000000   \n",
       "\n",
       "   author_author_jac_qgm_3_qgm_3  binding_binding_jac_qgm_3_qgm_3  \\\n",
       "0                       1.000000                                0   \n",
       "1                       1.000000                                0   \n",
       "2                       0.785714                                1   \n",
       "3                       0.666667                                1   \n",
       "4                       1.000000                                1   \n",
       "5                       0.695652                                1   \n",
       "6                       1.000000                                1   \n",
       "7                       1.000000                                1   \n",
       "8                       0.260870                                1   \n",
       "9                            NaN                                1   \n",
       "\n",
       "   publisher_publisher_jac_qgm_3_qgm_3  lang_lang_lev  gold  \n",
       "0                             0.518519              1     1  \n",
       "1                             0.320000              1     1  \n",
       "2                             0.733333              1     1  \n",
       "3                             1.000000              1     1  \n",
       "4                             1.000000              1     1  \n",
       "5                             0.083333              1     0  \n",
       "6                             1.000000              1     1  \n",
       "7                             1.000000              1     1  \n",
       "8                             0.303030              1     1  \n",
       "9                             0.512821              1     0  "
      ]
     },
     "execution_count": 21,
     "metadata": {},
     "output_type": "execute_result"
    },
    {
     "name": "stdout",
     "output_type": "stream",
     "text": [
      "time: 40.1 ms\n"
     ]
    }
   ],
   "source": [
    "G.head(10)"
   ]
  },
  {
   "cell_type": "code",
   "execution_count": 22,
   "metadata": {
    "collapsed": false
   },
   "outputs": [
    {
     "name": "stdout",
     "output_type": "stream",
     "text": [
      "time: 1.92 ms\n"
     ]
    }
   ],
   "source": [
    "# G contains NaN. \n",
    "# Impute values\n",
    "G.fillna(0, inplace=True)"
   ]
  },
  {
   "cell_type": "code",
   "execution_count": 23,
   "metadata": {
    "collapsed": false
   },
   "outputs": [
    {
     "data": {
      "text/html": [
       "<div>\n",
       "<table border=\"1\" class=\"dataframe\">\n",
       "  <thead>\n",
       "    <tr style=\"text-align: right;\">\n",
       "      <th></th>\n",
       "      <th>_id</th>\n",
       "      <th>ltable.id</th>\n",
       "      <th>rtable.id</th>\n",
       "      <th>title_title_jac_qgm_3_qgm_3</th>\n",
       "      <th>author_author_jac_qgm_3_qgm_3</th>\n",
       "      <th>binding_binding_jac_qgm_3_qgm_3</th>\n",
       "      <th>publisher_publisher_jac_qgm_3_qgm_3</th>\n",
       "      <th>lang_lang_lev</th>\n",
       "      <th>gold</th>\n",
       "    </tr>\n",
       "  </thead>\n",
       "  <tbody>\n",
       "    <tr>\n",
       "      <th>0</th>\n",
       "      <td>0</td>\n",
       "      <td>4086892</td>\n",
       "      <td>9780226156439</td>\n",
       "      <td>0.785714</td>\n",
       "      <td>1.000000</td>\n",
       "      <td>0</td>\n",
       "      <td>0.518519</td>\n",
       "      <td>1</td>\n",
       "      <td>1</td>\n",
       "    </tr>\n",
       "    <tr>\n",
       "      <th>1</th>\n",
       "      <td>1</td>\n",
       "      <td>535599</td>\n",
       "      <td>9780060655808</td>\n",
       "      <td>0.222222</td>\n",
       "      <td>1.000000</td>\n",
       "      <td>0</td>\n",
       "      <td>0.320000</td>\n",
       "      <td>1</td>\n",
       "      <td>1</td>\n",
       "    </tr>\n",
       "    <tr>\n",
       "      <th>2</th>\n",
       "      <td>2</td>\n",
       "      <td>1386538</td>\n",
       "      <td>9780130901262</td>\n",
       "      <td>1.000000</td>\n",
       "      <td>0.785714</td>\n",
       "      <td>1</td>\n",
       "      <td>0.733333</td>\n",
       "      <td>1</td>\n",
       "      <td>1</td>\n",
       "    </tr>\n",
       "    <tr>\n",
       "      <th>3</th>\n",
       "      <td>3</td>\n",
       "      <td>15280600</td>\n",
       "      <td>9780217455008</td>\n",
       "      <td>0.720000</td>\n",
       "      <td>0.666667</td>\n",
       "      <td>1</td>\n",
       "      <td>1.000000</td>\n",
       "      <td>1</td>\n",
       "      <td>1</td>\n",
       "    </tr>\n",
       "    <tr>\n",
       "      <th>4</th>\n",
       "      <td>4</td>\n",
       "      <td>15286798</td>\n",
       "      <td>9780217825382</td>\n",
       "      <td>1.000000</td>\n",
       "      <td>1.000000</td>\n",
       "      <td>1</td>\n",
       "      <td>1.000000</td>\n",
       "      <td>1</td>\n",
       "      <td>1</td>\n",
       "    </tr>\n",
       "    <tr>\n",
       "      <th>5</th>\n",
       "      <td>5</td>\n",
       "      <td>15295588</td>\n",
       "      <td>9780217940207</td>\n",
       "      <td>0.308271</td>\n",
       "      <td>0.695652</td>\n",
       "      <td>1</td>\n",
       "      <td>0.083333</td>\n",
       "      <td>1</td>\n",
       "      <td>0</td>\n",
       "    </tr>\n",
       "    <tr>\n",
       "      <th>6</th>\n",
       "      <td>6</td>\n",
       "      <td>15334872</td>\n",
       "      <td>9780217270052</td>\n",
       "      <td>1.000000</td>\n",
       "      <td>1.000000</td>\n",
       "      <td>1</td>\n",
       "      <td>1.000000</td>\n",
       "      <td>1</td>\n",
       "      <td>1</td>\n",
       "    </tr>\n",
       "    <tr>\n",
       "      <th>7</th>\n",
       "      <td>7</td>\n",
       "      <td>15338150</td>\n",
       "      <td>9780217304399</td>\n",
       "      <td>0.280702</td>\n",
       "      <td>1.000000</td>\n",
       "      <td>1</td>\n",
       "      <td>1.000000</td>\n",
       "      <td>1</td>\n",
       "      <td>1</td>\n",
       "    </tr>\n",
       "    <tr>\n",
       "      <th>8</th>\n",
       "      <td>8</td>\n",
       "      <td>1566948</td>\n",
       "      <td>9780070479081</td>\n",
       "      <td>0.822222</td>\n",
       "      <td>0.260870</td>\n",
       "      <td>1</td>\n",
       "      <td>0.303030</td>\n",
       "      <td>1</td>\n",
       "      <td>1</td>\n",
       "    </tr>\n",
       "    <tr>\n",
       "      <th>9</th>\n",
       "      <td>9</td>\n",
       "      <td>4564015</td>\n",
       "      <td>9780080446837</td>\n",
       "      <td>1.000000</td>\n",
       "      <td>0.000000</td>\n",
       "      <td>1</td>\n",
       "      <td>0.512821</td>\n",
       "      <td>1</td>\n",
       "      <td>0</td>\n",
       "    </tr>\n",
       "  </tbody>\n",
       "</table>\n",
       "</div>"
      ],
      "text/plain": [
       "   _id  ltable.id      rtable.id  title_title_jac_qgm_3_qgm_3  \\\n",
       "0    0    4086892  9780226156439                     0.785714   \n",
       "1    1     535599  9780060655808                     0.222222   \n",
       "2    2    1386538  9780130901262                     1.000000   \n",
       "3    3   15280600  9780217455008                     0.720000   \n",
       "4    4   15286798  9780217825382                     1.000000   \n",
       "5    5   15295588  9780217940207                     0.308271   \n",
       "6    6   15334872  9780217270052                     1.000000   \n",
       "7    7   15338150  9780217304399                     0.280702   \n",
       "8    8    1566948  9780070479081                     0.822222   \n",
       "9    9    4564015  9780080446837                     1.000000   \n",
       "\n",
       "   author_author_jac_qgm_3_qgm_3  binding_binding_jac_qgm_3_qgm_3  \\\n",
       "0                       1.000000                                0   \n",
       "1                       1.000000                                0   \n",
       "2                       0.785714                                1   \n",
       "3                       0.666667                                1   \n",
       "4                       1.000000                                1   \n",
       "5                       0.695652                                1   \n",
       "6                       1.000000                                1   \n",
       "7                       1.000000                                1   \n",
       "8                       0.260870                                1   \n",
       "9                       0.000000                                1   \n",
       "\n",
       "   publisher_publisher_jac_qgm_3_qgm_3  lang_lang_lev  gold  \n",
       "0                             0.518519              1     1  \n",
       "1                             0.320000              1     1  \n",
       "2                             0.733333              1     1  \n",
       "3                             1.000000              1     1  \n",
       "4                             1.000000              1     1  \n",
       "5                             0.083333              1     0  \n",
       "6                             1.000000              1     1  \n",
       "7                             1.000000              1     1  \n",
       "8                             0.303030              1     1  \n",
       "9                             0.512821              1     0  "
      ]
     },
     "execution_count": 23,
     "metadata": {},
     "output_type": "execute_result"
    },
    {
     "name": "stdout",
     "output_type": "stream",
     "text": [
      "time: 49.9 ms\n"
     ]
    }
   ],
   "source": [
    "G.head(10)"
   ]
  },
  {
   "cell_type": "code",
   "execution_count": 24,
   "metadata": {
    "collapsed": false
   },
   "outputs": [
    {
     "name": "stdout",
     "output_type": "stream",
     "text": [
      "time: 3.86 ms\n"
     ]
    }
   ],
   "source": [
    "# Create ML matchers\n",
    "dt = mg.DTMatcher(name='DecisionTree', random_state=0)\n",
    "svm = mg.SVMMatcher()\n",
    "rf = mg.RFMatcher(name='RF', random_state=0)\n",
    "nb = mg.NBMatcher(name='NB')\n",
    "lg = mg.LogRegMatcher(name='LogReg')\n",
    "ln = mg.LinRegMatcher(name='LinReg')"
   ]
  },
  {
   "cell_type": "code",
   "execution_count": 25,
   "metadata": {
    "collapsed": false
   },
   "outputs": [
    {
     "data": {
      "text/plain": [
       "'DecisionTree'"
      ]
     },
     "execution_count": 25,
     "metadata": {},
     "output_type": "execute_result"
    },
    {
     "name": "stdout",
     "output_type": "stream",
     "text": [
      "time: 5.51 ms\n"
     ]
    }
   ],
   "source": [
    "dt.name"
   ]
  },
  {
   "cell_type": "code",
   "execution_count": 26,
   "metadata": {
    "collapsed": false
   },
   "outputs": [
    {
     "data": {
      "text/plain": [
       "'SVM_63381995088636346441'"
      ]
     },
     "execution_count": 26,
     "metadata": {},
     "output_type": "execute_result"
    },
    {
     "name": "stdout",
     "output_type": "stream",
     "text": [
      "time: 7.59 ms\n"
     ]
    }
   ],
   "source": [
    "svm.name"
   ]
  },
  {
   "cell_type": "code",
   "execution_count": 27,
   "metadata": {
    "collapsed": false
   },
   "outputs": [
    {
     "name": "stdout",
     "output_type": "stream",
     "text": [
      "time: 72.8 ms\n"
     ]
    }
   ],
   "source": [
    "# select the best ML matcher using CV\n",
    "result = mg.select_matcher([dt, rf, svm, nb, lg], table=G, \n",
    "        exclude_attrs=['_id', 'ltable.id', 'rtable.id', 'gold'],\n",
    "        target_attr='gold', metric='precision') \n",
    "        # metric can take precision, recall, f1"
   ]
  },
  {
   "cell_type": "code",
   "execution_count": 28,
   "metadata": {
    "collapsed": false
   },
   "outputs": [
    {
     "data": {
      "text/plain": [
       "<magellan.matcher.dtmatcher.DTMatcher at 0x11fe66310>"
      ]
     },
     "execution_count": 28,
     "metadata": {},
     "output_type": "execute_result"
    },
    {
     "name": "stdout",
     "output_type": "stream",
     "text": [
      "time: 2.03 ms\n"
     ]
    }
   ],
   "source": [
    "# Check the selected matcher\n",
    "result['selected_matcher']"
   ]
  },
  {
   "cell_type": "code",
   "execution_count": 29,
   "metadata": {
    "collapsed": false
   },
   "outputs": [
    {
     "data": {
      "text/html": [
       "<div>\n",
       "<table border=\"1\" class=\"dataframe\">\n",
       "  <thead>\n",
       "    <tr style=\"text-align: right;\">\n",
       "      <th></th>\n",
       "      <th>Name</th>\n",
       "      <th>Matcher</th>\n",
       "      <th>Num folds</th>\n",
       "      <th>Fold 1</th>\n",
       "      <th>Fold 2</th>\n",
       "      <th>Fold 3</th>\n",
       "      <th>Fold 4</th>\n",
       "      <th>Fold 5</th>\n",
       "      <th>Mean score</th>\n",
       "    </tr>\n",
       "  </thead>\n",
       "  <tbody>\n",
       "    <tr>\n",
       "      <th>0</th>\n",
       "      <td>DecisionTree</td>\n",
       "      <td>&lt;magellan.matcher.dtmatcher.DTMatcher object a...</td>\n",
       "      <td>5</td>\n",
       "      <td>0.875000</td>\n",
       "      <td>0.857143</td>\n",
       "      <td>0.875000</td>\n",
       "      <td>0.700000</td>\n",
       "      <td>1.000000</td>\n",
       "      <td>0.861429</td>\n",
       "    </tr>\n",
       "    <tr>\n",
       "      <th>1</th>\n",
       "      <td>RF</td>\n",
       "      <td>&lt;magellan.matcher.rfmatcher.RFMatcher object a...</td>\n",
       "      <td>5</td>\n",
       "      <td>1.000000</td>\n",
       "      <td>0.900000</td>\n",
       "      <td>0.888889</td>\n",
       "      <td>0.750000</td>\n",
       "      <td>0.714286</td>\n",
       "      <td>0.850635</td>\n",
       "    </tr>\n",
       "    <tr>\n",
       "      <th>2</th>\n",
       "      <td>SVM_63381995088636346441</td>\n",
       "      <td>&lt;magellan.matcher.svmmatcher.SVMMatcher object...</td>\n",
       "      <td>5</td>\n",
       "      <td>0.777778</td>\n",
       "      <td>1.000000</td>\n",
       "      <td>0.666667</td>\n",
       "      <td>0.700000</td>\n",
       "      <td>0.700000</td>\n",
       "      <td>0.768889</td>\n",
       "    </tr>\n",
       "    <tr>\n",
       "      <th>3</th>\n",
       "      <td>NB</td>\n",
       "      <td>&lt;magellan.matcher.nbmatcher.NBMatcher object a...</td>\n",
       "      <td>5</td>\n",
       "      <td>0.700000</td>\n",
       "      <td>0.555556</td>\n",
       "      <td>0.900000</td>\n",
       "      <td>0.777778</td>\n",
       "      <td>0.800000</td>\n",
       "      <td>0.746667</td>\n",
       "    </tr>\n",
       "    <tr>\n",
       "      <th>4</th>\n",
       "      <td>LogReg</td>\n",
       "      <td>&lt;magellan.matcher.logregmatcher.LogRegMatcher ...</td>\n",
       "      <td>5</td>\n",
       "      <td>0.800000</td>\n",
       "      <td>0.875000</td>\n",
       "      <td>0.800000</td>\n",
       "      <td>0.666667</td>\n",
       "      <td>1.000000</td>\n",
       "      <td>0.828333</td>\n",
       "    </tr>\n",
       "  </tbody>\n",
       "</table>\n",
       "</div>"
      ],
      "text/plain": [
       "                       Name  \\\n",
       "0              DecisionTree   \n",
       "1                        RF   \n",
       "2  SVM_63381995088636346441   \n",
       "3                        NB   \n",
       "4                    LogReg   \n",
       "\n",
       "                                             Matcher  Num folds    Fold 1  \\\n",
       "0  <magellan.matcher.dtmatcher.DTMatcher object a...          5  0.875000   \n",
       "1  <magellan.matcher.rfmatcher.RFMatcher object a...          5  1.000000   \n",
       "2  <magellan.matcher.svmmatcher.SVMMatcher object...          5  0.777778   \n",
       "3  <magellan.matcher.nbmatcher.NBMatcher object a...          5  0.700000   \n",
       "4  <magellan.matcher.logregmatcher.LogRegMatcher ...          5  0.800000   \n",
       "\n",
       "     Fold 2    Fold 3    Fold 4    Fold 5  Mean score  \n",
       "0  0.857143  0.875000  0.700000  1.000000    0.861429  \n",
       "1  0.900000  0.888889  0.750000  0.714286    0.850635  \n",
       "2  1.000000  0.666667  0.700000  0.700000    0.768889  \n",
       "3  0.555556  0.900000  0.777778  0.800000    0.746667  \n",
       "4  0.875000  0.800000  0.666667  1.000000    0.828333  "
      ]
     },
     "execution_count": 29,
     "metadata": {},
     "output_type": "execute_result"
    },
    {
     "name": "stdout",
     "output_type": "stream",
     "text": [
      "time: 56.5 ms\n"
     ]
    }
   ],
   "source": [
    "# Display cross validation statistics\n",
    "result['cv_stats']"
   ]
  },
  {
   "cell_type": "code",
   "execution_count": 30,
   "metadata": {
    "collapsed": false
   },
   "outputs": [
    {
     "name": "stdout",
     "output_type": "stream",
     "text": [
      "time: 8.26 ms\n"
     ]
    }
   ],
   "source": [
    "# debug: understand why DT matcher is not performing well\n",
    "\n",
    "# Plan : \n",
    "# Split data into 'train' and 'test'. \n",
    "# Train matcher using 'train' set\n",
    "# Inspect matcher using 'test' set"
   ]
  },
  {
   "cell_type": "code",
   "execution_count": 31,
   "metadata": {
    "collapsed": false
   },
   "outputs": [
    {
     "name": "stdout",
     "output_type": "stream",
     "text": [
      "time: 8.24 ms\n"
     ]
    }
   ],
   "source": [
    "# Split feature vectors to train and test\n",
    "train_test = mg.train_test_split(G, train_proportion=0.7, random_state=0)\n",
    "train = train_test['train']\n",
    "test = train_test['test']"
   ]
  },
  {
   "cell_type": "code",
   "execution_count": 32,
   "metadata": {
    "collapsed": false
   },
   "outputs": [
    {
     "name": "stdout",
     "output_type": "stream",
     "text": [
      "time: 2.71 ms\n"
     ]
    }
   ],
   "source": [
    "# mg.vis_debug_dt(dt, train, test, \n",
    "#         exclude_attrs=['_id', 'ltable.id', 'rtable.id', 'gold'],\n",
    "#         target_attr='gold') "
   ]
  },
  {
   "cell_type": "code",
   "execution_count": 33,
   "metadata": {
    "collapsed": false
   },
   "outputs": [
    {
     "name": "stdout",
     "output_type": "stream",
     "text": [
      "time: 924 µs\n"
     ]
    }
   ],
   "source": [
    "# Experimental feature - requires installation of graphviz : www.graphviz.org\n",
    "#mg.visualize_tree(dt, G.columns, exclude_attrs=['_id', 'ltable.id', 'rtable.id', 'gold'])"
   ]
  },
  {
   "cell_type": "code",
   "execution_count": 34,
   "metadata": {
    "collapsed": false
   },
   "outputs": [
    {
     "name": "stdout",
     "output_type": "stream",
     "text": [
      "time: 2.06 ms\n"
     ]
    }
   ],
   "source": [
    "#from IPython.display import Image\n",
    "#Image(filename='dt_.png') "
   ]
  },
  {
   "cell_type": "code",
   "execution_count": 35,
   "metadata": {
    "collapsed": false
   },
   "outputs": [
    {
     "name": "stdout",
     "output_type": "stream",
     "text": [
      "time: 2.7 ms\n"
     ]
    }
   ],
   "source": [
    "# mg.vis_debug_rf(rf, train, test, \n",
    "#         exclude_attrs=['_id', 'ltable.id', 'rtable.id', 'gold'],\n",
    "#         target_attr='gold') "
   ]
  },
  {
   "cell_type": "code",
   "execution_count": 36,
   "metadata": {
    "collapsed": false
   },
   "outputs": [
    {
     "name": "stdout",
     "output_type": "stream",
     "text": [
      "time: 1e+03 ms\n"
     ]
    }
   ],
   "source": [
    "# Try adding all the features\n",
    "H = mg.extract_feat_vecs(L, feature_table=feature_table, attrs_after='gold')"
   ]
  },
  {
   "cell_type": "code",
   "execution_count": 37,
   "metadata": {
    "collapsed": false
   },
   "outputs": [
    {
     "name": "stdout",
     "output_type": "stream",
     "text": [
      "time: 94.6 ms\n"
     ]
    }
   ],
   "source": [
    "# select the best ML matcher using CV\n",
    "result = mg.select_matcher([dt, rf, svm, nb, lg], table=G, \n",
    "        exclude_attrs=['_id', 'ltable.id', 'rtable.id', 'gold'],\n",
    "        target_attr='gold', metric='precision') "
   ]
  },
  {
   "cell_type": "code",
   "execution_count": 38,
   "metadata": {
    "collapsed": false
   },
   "outputs": [
    {
     "data": {
      "text/plain": [
       "<magellan.matcher.dtmatcher.DTMatcher at 0x11fe66310>"
      ]
     },
     "execution_count": 38,
     "metadata": {},
     "output_type": "execute_result"
    },
    {
     "name": "stdout",
     "output_type": "stream",
     "text": [
      "time: 4.27 ms\n"
     ]
    }
   ],
   "source": [
    "result['selected_matcher']"
   ]
  },
  {
   "cell_type": "code",
   "execution_count": 39,
   "metadata": {
    "collapsed": false
   },
   "outputs": [
    {
     "data": {
      "text/html": [
       "<div>\n",
       "<table border=\"1\" class=\"dataframe\">\n",
       "  <thead>\n",
       "    <tr style=\"text-align: right;\">\n",
       "      <th></th>\n",
       "      <th>Name</th>\n",
       "      <th>Matcher</th>\n",
       "      <th>Num folds</th>\n",
       "      <th>Fold 1</th>\n",
       "      <th>Fold 2</th>\n",
       "      <th>Fold 3</th>\n",
       "      <th>Fold 4</th>\n",
       "      <th>Fold 5</th>\n",
       "      <th>Mean score</th>\n",
       "    </tr>\n",
       "  </thead>\n",
       "  <tbody>\n",
       "    <tr>\n",
       "      <th>0</th>\n",
       "      <td>DecisionTree</td>\n",
       "      <td>&lt;magellan.matcher.dtmatcher.DTMatcher object a...</td>\n",
       "      <td>5</td>\n",
       "      <td>0.714286</td>\n",
       "      <td>1.000000</td>\n",
       "      <td>1.000</td>\n",
       "      <td>0.666667</td>\n",
       "      <td>0.875000</td>\n",
       "      <td>0.851190</td>\n",
       "    </tr>\n",
       "    <tr>\n",
       "      <th>1</th>\n",
       "      <td>RF</td>\n",
       "      <td>&lt;magellan.matcher.rfmatcher.RFMatcher object a...</td>\n",
       "      <td>5</td>\n",
       "      <td>0.833333</td>\n",
       "      <td>0.714286</td>\n",
       "      <td>0.875</td>\n",
       "      <td>0.777778</td>\n",
       "      <td>1.000000</td>\n",
       "      <td>0.840079</td>\n",
       "    </tr>\n",
       "    <tr>\n",
       "      <th>2</th>\n",
       "      <td>SVM_63381995088636346441</td>\n",
       "      <td>&lt;magellan.matcher.svmmatcher.SVMMatcher object...</td>\n",
       "      <td>5</td>\n",
       "      <td>0.700000</td>\n",
       "      <td>0.900000</td>\n",
       "      <td>0.600</td>\n",
       "      <td>1.000000</td>\n",
       "      <td>0.714286</td>\n",
       "      <td>0.782857</td>\n",
       "    </tr>\n",
       "    <tr>\n",
       "      <th>3</th>\n",
       "      <td>NB</td>\n",
       "      <td>&lt;magellan.matcher.nbmatcher.NBMatcher object a...</td>\n",
       "      <td>5</td>\n",
       "      <td>0.555556</td>\n",
       "      <td>0.800000</td>\n",
       "      <td>0.800</td>\n",
       "      <td>0.700000</td>\n",
       "      <td>0.888889</td>\n",
       "      <td>0.748889</td>\n",
       "    </tr>\n",
       "    <tr>\n",
       "      <th>4</th>\n",
       "      <td>LogReg</td>\n",
       "      <td>&lt;magellan.matcher.logregmatcher.LogRegMatcher ...</td>\n",
       "      <td>5</td>\n",
       "      <td>0.777778</td>\n",
       "      <td>0.875000</td>\n",
       "      <td>0.875</td>\n",
       "      <td>0.700000</td>\n",
       "      <td>0.800000</td>\n",
       "      <td>0.805556</td>\n",
       "    </tr>\n",
       "  </tbody>\n",
       "</table>\n",
       "</div>"
      ],
      "text/plain": [
       "                       Name  \\\n",
       "0              DecisionTree   \n",
       "1                        RF   \n",
       "2  SVM_63381995088636346441   \n",
       "3                        NB   \n",
       "4                    LogReg   \n",
       "\n",
       "                                             Matcher  Num folds    Fold 1  \\\n",
       "0  <magellan.matcher.dtmatcher.DTMatcher object a...          5  0.714286   \n",
       "1  <magellan.matcher.rfmatcher.RFMatcher object a...          5  0.833333   \n",
       "2  <magellan.matcher.svmmatcher.SVMMatcher object...          5  0.700000   \n",
       "3  <magellan.matcher.nbmatcher.NBMatcher object a...          5  0.555556   \n",
       "4  <magellan.matcher.logregmatcher.LogRegMatcher ...          5  0.777778   \n",
       "\n",
       "     Fold 2  Fold 3    Fold 4    Fold 5  Mean score  \n",
       "0  1.000000   1.000  0.666667  0.875000    0.851190  \n",
       "1  0.714286   0.875  0.777778  1.000000    0.840079  \n",
       "2  0.900000   0.600  1.000000  0.714286    0.782857  \n",
       "3  0.800000   0.800  0.700000  0.888889    0.748889  \n",
       "4  0.875000   0.875  0.700000  0.800000    0.805556  "
      ]
     },
     "execution_count": 39,
     "metadata": {},
     "output_type": "execute_result"
    },
    {
     "name": "stdout",
     "output_type": "stream",
     "text": [
      "time: 21.1 ms\n"
     ]
    }
   ],
   "source": [
    "result['cv_stats']"
   ]
  },
  {
   "cell_type": "code",
   "execution_count": 40,
   "metadata": {
    "collapsed": false
   },
   "outputs": [
    {
     "name": "stdout",
     "output_type": "stream",
     "text": [
      "time: 2.5 ms\n"
     ]
    }
   ],
   "source": [
    "# Choose DT matcher (with subset of features)\n",
    "\n",
    "# Add triggers to DT Matcher\n",
    "# Ideal plan\n",
    "# Split G\n",
    "# G :------------------|----------------------------|--------------------|\n",
    "#   [development(60%): train(30%)  + validation(30%)]     [test(40%)]\n",
    "# Use train + validation to come up with triggers\n",
    "# Use test set to evaluate ML matcher + triggers\n"
   ]
  },
  {
   "cell_type": "code",
   "execution_count": 41,
   "metadata": {
    "collapsed": false
   },
   "outputs": [
    {
     "name": "stdout",
     "output_type": "stream",
     "text": [
      "time: 4.41 ms\n"
     ]
    }
   ],
   "source": [
    "# Split G into development and test\n",
    "development_test = mg.train_test_split(G, train_proportion=0.6, \n",
    "                                       random_state=0)\n",
    "development = development_test['train']\n",
    "test = development_test['test']"
   ]
  },
  {
   "cell_type": "code",
   "execution_count": 42,
   "metadata": {
    "collapsed": false
   },
   "outputs": [
    {
     "data": {
      "text/plain": [
       "(30, 20)"
      ]
     },
     "execution_count": 42,
     "metadata": {},
     "output_type": "execute_result"
    },
    {
     "name": "stdout",
     "output_type": "stream",
     "text": [
      "time: 2.21 ms\n"
     ]
    }
   ],
   "source": [
    "len(development), len(test)"
   ]
  },
  {
   "cell_type": "code",
   "execution_count": 43,
   "metadata": {
    "collapsed": false
   },
   "outputs": [
    {
     "data": {
      "text/html": [
       "<div>\n",
       "<table border=\"1\" class=\"dataframe\">\n",
       "  <thead>\n",
       "    <tr style=\"text-align: right;\">\n",
       "      <th></th>\n",
       "      <th>_id</th>\n",
       "      <th>ltable.id</th>\n",
       "      <th>rtable.id</th>\n",
       "      <th>title_title_jac_qgm_3_qgm_3</th>\n",
       "      <th>author_author_jac_qgm_3_qgm_3</th>\n",
       "      <th>binding_binding_jac_qgm_3_qgm_3</th>\n",
       "      <th>publisher_publisher_jac_qgm_3_qgm_3</th>\n",
       "      <th>lang_lang_lev</th>\n",
       "      <th>gold</th>\n",
       "    </tr>\n",
       "  </thead>\n",
       "  <tbody>\n",
       "    <tr>\n",
       "      <th>15</th>\n",
       "      <td>15</td>\n",
       "      <td>5087512</td>\n",
       "      <td>9780028348261</td>\n",
       "      <td>0.534483</td>\n",
       "      <td>0.6</td>\n",
       "      <td>1</td>\n",
       "      <td>0.264706</td>\n",
       "      <td>1</td>\n",
       "      <td>1</td>\n",
       "    </tr>\n",
       "    <tr>\n",
       "      <th>30</th>\n",
       "      <td>30</td>\n",
       "      <td>14022273</td>\n",
       "      <td>9780217263016</td>\n",
       "      <td>0.408759</td>\n",
       "      <td>1.0</td>\n",
       "      <td>1</td>\n",
       "      <td>1.000000</td>\n",
       "      <td>1</td>\n",
       "      <td>1</td>\n",
       "    </tr>\n",
       "  </tbody>\n",
       "</table>\n",
       "</div>"
      ],
      "text/plain": [
       "    _id  ltable.id      rtable.id  title_title_jac_qgm_3_qgm_3  \\\n",
       "15   15    5087512  9780028348261                     0.534483   \n",
       "30   30   14022273  9780217263016                     0.408759   \n",
       "\n",
       "    author_author_jac_qgm_3_qgm_3  binding_binding_jac_qgm_3_qgm_3  \\\n",
       "15                            0.6                                1   \n",
       "30                            1.0                                1   \n",
       "\n",
       "    publisher_publisher_jac_qgm_3_qgm_3  lang_lang_lev  gold  \n",
       "15                             0.264706              1     1  \n",
       "30                             1.000000              1     1  "
      ]
     },
     "execution_count": 43,
     "metadata": {},
     "output_type": "execute_result"
    },
    {
     "name": "stdout",
     "output_type": "stream",
     "text": [
      "time: 13 ms\n"
     ]
    }
   ],
   "source": [
    "development.head(2)"
   ]
  },
  {
   "cell_type": "code",
   "execution_count": 44,
   "metadata": {
    "collapsed": false
   },
   "outputs": [
    {
     "name": "stdout",
     "output_type": "stream",
     "text": [
      "time: 7.44 ms\n"
     ]
    }
   ],
   "source": [
    "# First check, how does DT performs with out any triggers\n",
    "# Train using development\n",
    "dt.fit(table=development, exclude_attrs=['_id', 'ltable.id', 'rtable.id', 'gold'],\n",
    "        target_attr='gold')"
   ]
  },
  {
   "cell_type": "code",
   "execution_count": 45,
   "metadata": {
    "collapsed": false
   },
   "outputs": [
    {
     "name": "stdout",
     "output_type": "stream",
     "text": [
      "time: 13.5 ms\n"
     ]
    }
   ],
   "source": [
    "# Test using test\n",
    "I = dt.predict(table=test, \n",
    "              exclude_attrs=['_id', 'ltable.id', 'rtable.id', 'gold'],\n",
    "              target_attr='predicted',\n",
    "              append=True, inplace=False)"
   ]
  },
  {
   "cell_type": "code",
   "execution_count": 46,
   "metadata": {
    "collapsed": false
   },
   "outputs": [
    {
     "name": "stdout",
     "output_type": "stream",
     "text": [
      "time: 10.9 ms\n"
     ]
    }
   ],
   "source": [
    "# evaluate the result.\n",
    "eval_summary = mg.eval_matches(I, 'gold', 'predicted')"
   ]
  },
  {
   "cell_type": "code",
   "execution_count": 78,
   "metadata": {
    "collapsed": false
   },
   "outputs": [
    {
     "data": {
      "text/plain": [
       "20"
      ]
     },
     "execution_count": 78,
     "metadata": {},
     "output_type": "execute_result"
    },
    {
     "name": "stdout",
     "output_type": "stream",
     "text": [
      "time: 1.82 ms\n"
     ]
    }
   ],
   "source": [
    "len(I)"
   ]
  },
  {
   "cell_type": "code",
   "execution_count": 47,
   "metadata": {
    "collapsed": false
   },
   "outputs": [
    {
     "data": {
      "text/plain": [
       "['prec_numerator',\n",
       " 'prec_denominator',\n",
       " 'precision',\n",
       " 'recall_numerator',\n",
       " 'recall_denominator',\n",
       " 'recall',\n",
       " 'f1',\n",
       " 'pred_pos_num',\n",
       " 'false_pos_num',\n",
       " 'false_pos_ls',\n",
       " 'pred_neg_num',\n",
       " 'false_neg_num',\n",
       " 'false_neg_ls']"
      ]
     },
     "execution_count": 47,
     "metadata": {},
     "output_type": "execute_result"
    },
    {
     "name": "stdout",
     "output_type": "stream",
     "text": [
      "time: 2.51 ms\n"
     ]
    }
   ],
   "source": [
    "eval_summary.keys()"
   ]
  },
  {
   "cell_type": "code",
   "execution_count": 48,
   "metadata": {
    "collapsed": false
   },
   "outputs": [
    {
     "name": "stdout",
     "output_type": "stream",
     "text": [
      "Precision : 93.33% (14/15)\n",
      "Recall : 82.35% (14/17)\n",
      "F1 : 87.5%\n",
      "False positives : 1 (out of 15 positive predictions)\n",
      "False negatives : 3 (out of 5 negative predictions)\n",
      "time: 1.29 ms\n"
     ]
    }
   ],
   "source": [
    "mg.print_eval_summary(eval_summary)"
   ]
  },
  {
   "cell_type": "code",
   "execution_count": 49,
   "metadata": {
    "collapsed": false
   },
   "outputs": [
    {
     "name": "stdout",
     "output_type": "stream",
     "text": [
      "time: 4.74 ms\n"
     ]
    }
   ],
   "source": [
    "# Split development into train and validation set. Use them to debug.\n",
    "\n",
    "train_validation = mg.train_test_split(development, train_proportion=0.5, random_state=10)\n",
    "# mg.vis_debug_dt(dt, train_validation['train'], train_validation['test'], \n",
    "#                exclude_attrs=['_id', 'ltable.id', 'rtable.id', 'gold'],\n",
    "#                target_attr='gold')\n"
   ]
  },
  {
   "cell_type": "code",
   "execution_count": 50,
   "metadata": {
    "collapsed": false
   },
   "outputs": [
    {
     "data": {
      "text/plain": [
       "True"
      ]
     },
     "execution_count": 50,
     "metadata": {},
     "output_type": "execute_result"
    },
    {
     "name": "stdout",
     "output_type": "stream",
     "text": [
      "time: 4.05 ms\n"
     ]
    }
   ],
   "source": [
    "# Add triggers to address false negatives\n",
    "# if authors match exactly then declare match\n",
    "pos_trigger = mg.MatchTrigger()\n",
    "pos_trigger.add_cond_rule('author_author_lev(ltuple, rtuple) > 0.7', \n",
    "                          feature_table=feature_table)\n",
    "pos_trigger.add_cond_status(True)\n",
    "pos_trigger.add_action(1)\n"
   ]
  },
  {
   "cell_type": "code",
   "execution_count": 51,
   "metadata": {
    "collapsed": false
   },
   "outputs": [
    {
     "name": "stderr",
     "output_type": "stream",
     "text": [
      "0%  100%\n",
      "[#####] | ETA[sec]: 0.000 "
     ]
    },
    {
     "name": "stdout",
     "output_type": "stream",
     "text": [
      "time: 2.89 s\n"
     ]
    },
    {
     "name": "stderr",
     "output_type": "stream",
     "text": [
      "\n",
      "Total time elapsed: 2.878 sec\n"
     ]
    }
   ],
   "source": [
    "res = mg.cv_matcher_and_trigger(dt, pos_trigger, development, \n",
    "                                exclude_attrs=['_id', 'ltable.id', 'rtable.id', 'gold'],\n",
    "                                target_attr='gold', random_state = 10)"
   ]
  },
  {
   "cell_type": "code",
   "execution_count": 52,
   "metadata": {
    "collapsed": false
   },
   "outputs": [
    {
     "data": {
      "text/html": [
       "<div>\n",
       "<table border=\"1\" class=\"dataframe\">\n",
       "  <thead>\n",
       "    <tr style=\"text-align: right;\">\n",
       "      <th></th>\n",
       "      <th>Metric</th>\n",
       "      <th>Num folds</th>\n",
       "      <th>Fold 1</th>\n",
       "      <th>Fold 2</th>\n",
       "      <th>Fold 3</th>\n",
       "      <th>Fold 4</th>\n",
       "      <th>Fold 5</th>\n",
       "      <th>Mean score</th>\n",
       "    </tr>\n",
       "  </thead>\n",
       "  <tbody>\n",
       "    <tr>\n",
       "      <th>0</th>\n",
       "      <td>precision</td>\n",
       "      <td>5</td>\n",
       "      <td>0.750000</td>\n",
       "      <td>1.000000</td>\n",
       "      <td>0.800000</td>\n",
       "      <td>0.666667</td>\n",
       "      <td>0.750000</td>\n",
       "      <td>0.793333</td>\n",
       "    </tr>\n",
       "    <tr>\n",
       "      <th>1</th>\n",
       "      <td>recall</td>\n",
       "      <td>5</td>\n",
       "      <td>1.000000</td>\n",
       "      <td>0.800000</td>\n",
       "      <td>1.000000</td>\n",
       "      <td>1.000000</td>\n",
       "      <td>1.000000</td>\n",
       "      <td>0.960000</td>\n",
       "    </tr>\n",
       "    <tr>\n",
       "      <th>2</th>\n",
       "      <td>f1</td>\n",
       "      <td>5</td>\n",
       "      <td>0.857143</td>\n",
       "      <td>0.888889</td>\n",
       "      <td>0.888889</td>\n",
       "      <td>0.800000</td>\n",
       "      <td>0.857143</td>\n",
       "      <td>0.858413</td>\n",
       "    </tr>\n",
       "  </tbody>\n",
       "</table>\n",
       "</div>"
      ],
      "text/plain": [
       "      Metric  Num folds    Fold 1    Fold 2    Fold 3    Fold 4    Fold 5  \\\n",
       "0  precision          5  0.750000  1.000000  0.800000  0.666667  0.750000   \n",
       "1     recall          5  1.000000  0.800000  1.000000  1.000000  1.000000   \n",
       "2         f1          5  0.857143  0.888889  0.888889  0.800000  0.857143   \n",
       "\n",
       "   Mean score  \n",
       "0    0.793333  \n",
       "1    0.960000  \n",
       "2    0.858413  "
      ]
     },
     "execution_count": 52,
     "metadata": {},
     "output_type": "execute_result"
    },
    {
     "name": "stdout",
     "output_type": "stream",
     "text": [
      "time: 33.4 ms\n"
     ]
    }
   ],
   "source": [
    "res['cv_stats']"
   ]
  },
  {
   "cell_type": "code",
   "execution_count": 53,
   "metadata": {
    "collapsed": false
   },
   "outputs": [
    {
     "name": "stdout",
     "output_type": "stream",
     "text": [
      "time: 636 ms\n"
     ]
    }
   ],
   "source": [
    "#Apply DT matcher + positive trigger  over \"test\" set\n",
    "dt.fit(table=development, exclude_attrs=['_id', 'ltable.id', 'rtable.id', 'gold'],\n",
    "        target_attr='gold')\n",
    "L_ = dt.predict(table=test, exclude_attrs=['_id', 'ltable.id', 'rtable.id', 'gold'],\n",
    "              target_attr='predicted',\n",
    "              append=True, inplace=False)\n",
    "M = pos_trigger.execute(L_, 'predicted', inplace=False)\n"
   ]
  },
  {
   "cell_type": "code",
   "execution_count": 54,
   "metadata": {
    "collapsed": false
   },
   "outputs": [
    {
     "data": {
      "text/plain": [
       "(0.9444444444444444, 1.0, 0.9714285714285714, 0.0, 1.0)"
      ]
     },
     "execution_count": 54,
     "metadata": {},
     "output_type": "execute_result"
    },
    {
     "name": "stdout",
     "output_type": "stream",
     "text": [
      "time: 10.5 ms\n"
     ]
    }
   ],
   "source": [
    "# evaluate ML matcher + trigger\n",
    "eval_summary = mg.eval_matches(M, 'gold', 'predicted')\n",
    "(eval_summary['precision'], eval_summary['recall'], eval_summary['f1'],\n",
    " eval_summary['false_neg_num'], eval_summary['false_pos_num'])"
   ]
  },
  {
   "cell_type": "code",
   "execution_count": 55,
   "metadata": {
    "collapsed": false
   },
   "outputs": [
    {
     "name": "stderr",
     "output_type": "stream",
     "text": [
      "0%      100%\n",
      "[##########] | ETA[sec]: 0.000 "
     ]
    },
    {
     "name": "stdout",
     "output_type": "stream",
     "text": [
      "time: 7.38 s\n"
     ]
    },
    {
     "name": "stderr",
     "output_type": "stream",
     "text": [
      "\n",
      "Total time elapsed: 7.371 sec\n"
     ]
    }
   ],
   "source": [
    "res = mg.cv_matcher_and_trigger(dt, pos_trigger, G, \n",
    "                                exclude_attrs=['_id', 'ltable.id', 'rtable.id', 'gold'],\n",
    "                                target_attr='gold', random_state=0, k = 10)\n"
   ]
  },
  {
   "cell_type": "code",
   "execution_count": 56,
   "metadata": {
    "collapsed": false
   },
   "outputs": [
    {
     "data": {
      "text/html": [
       "<div>\n",
       "<table border=\"1\" class=\"dataframe\">\n",
       "  <thead>\n",
       "    <tr style=\"text-align: right;\">\n",
       "      <th></th>\n",
       "      <th>Metric</th>\n",
       "      <th>Num folds</th>\n",
       "      <th>Fold 1</th>\n",
       "      <th>Fold 2</th>\n",
       "      <th>Fold 3</th>\n",
       "      <th>Fold 4</th>\n",
       "      <th>Fold 5</th>\n",
       "      <th>Fold 6</th>\n",
       "      <th>Fold 7</th>\n",
       "      <th>Fold 8</th>\n",
       "      <th>Fold 9</th>\n",
       "      <th>Fold 10</th>\n",
       "      <th>Mean score</th>\n",
       "    </tr>\n",
       "  </thead>\n",
       "  <tbody>\n",
       "    <tr>\n",
       "      <th>0</th>\n",
       "      <td>precision</td>\n",
       "      <td>10</td>\n",
       "      <td>1.000000</td>\n",
       "      <td>1</td>\n",
       "      <td>0.800000</td>\n",
       "      <td>1</td>\n",
       "      <td>0.800000</td>\n",
       "      <td>1</td>\n",
       "      <td>0.750000</td>\n",
       "      <td>0.750000</td>\n",
       "      <td>0.666667</td>\n",
       "      <td>0.800000</td>\n",
       "      <td>0.856667</td>\n",
       "    </tr>\n",
       "    <tr>\n",
       "      <th>1</th>\n",
       "      <td>recall</td>\n",
       "      <td>10</td>\n",
       "      <td>0.666667</td>\n",
       "      <td>1</td>\n",
       "      <td>1.000000</td>\n",
       "      <td>1</td>\n",
       "      <td>1.000000</td>\n",
       "      <td>1</td>\n",
       "      <td>1.000000</td>\n",
       "      <td>1.000000</td>\n",
       "      <td>1.000000</td>\n",
       "      <td>1.000000</td>\n",
       "      <td>0.966667</td>\n",
       "    </tr>\n",
       "    <tr>\n",
       "      <th>2</th>\n",
       "      <td>f1</td>\n",
       "      <td>10</td>\n",
       "      <td>0.800000</td>\n",
       "      <td>1</td>\n",
       "      <td>0.888889</td>\n",
       "      <td>1</td>\n",
       "      <td>0.888889</td>\n",
       "      <td>1</td>\n",
       "      <td>0.857143</td>\n",
       "      <td>0.857143</td>\n",
       "      <td>0.800000</td>\n",
       "      <td>0.888889</td>\n",
       "      <td>0.898095</td>\n",
       "    </tr>\n",
       "  </tbody>\n",
       "</table>\n",
       "</div>"
      ],
      "text/plain": [
       "      Metric  Num folds    Fold 1  Fold 2    Fold 3  Fold 4    Fold 5  Fold 6  \\\n",
       "0  precision         10  1.000000       1  0.800000       1  0.800000       1   \n",
       "1     recall         10  0.666667       1  1.000000       1  1.000000       1   \n",
       "2         f1         10  0.800000       1  0.888889       1  0.888889       1   \n",
       "\n",
       "     Fold 7    Fold 8    Fold 9   Fold 10  Mean score  \n",
       "0  0.750000  0.750000  0.666667  0.800000    0.856667  \n",
       "1  1.000000  1.000000  1.000000  1.000000    0.966667  \n",
       "2  0.857143  0.857143  0.800000  0.888889    0.898095  "
      ]
     },
     "execution_count": 56,
     "metadata": {},
     "output_type": "execute_result"
    },
    {
     "name": "stdout",
     "output_type": "stream",
     "text": [
      "time: 36.9 ms\n"
     ]
    }
   ],
   "source": [
    "res['cv_stats']"
   ]
  },
  {
   "cell_type": "code",
   "execution_count": 57,
   "metadata": {
    "collapsed": false
   },
   "outputs": [
    {
     "name": "stdout",
     "output_type": "stream",
     "text": [
      "time: 676 µs\n"
     ]
    }
   ],
   "source": [
    "#--------Rule-based matcher + triggers--------#\n",
    "# 1. write rules\n",
    "# 2. add triggers"
   ]
  },
  {
   "cell_type": "code",
   "execution_count": 58,
   "metadata": {
    "collapsed": false
   },
   "outputs": [
    {
     "data": {
      "text/plain": [
       "True"
      ]
     },
     "execution_count": 58,
     "metadata": {},
     "output_type": "execute_result"
    },
    {
     "name": "stdout",
     "output_type": "stream",
     "text": [
      "time: 2.68 ms\n"
     ]
    }
   ],
   "source": [
    "# Create rule-based matcher and add rules.\n",
    "rm = mg.BooleanRuleMatcher()\n",
    "rm.add_rule(['title_title_jac_qgm_3_qgm_3(ltuple, rtuple) > 0.6' \n",
    "             ], \n",
    "            feature_table=feature_table)\n"
   ]
  },
  {
   "cell_type": "code",
   "execution_count": 59,
   "metadata": {
    "collapsed": false
   },
   "outputs": [
    {
     "data": {
      "text/plain": [
       "True"
      ]
     },
     "execution_count": 59,
     "metadata": {},
     "output_type": "execute_result"
    },
    {
     "name": "stdout",
     "output_type": "stream",
     "text": [
      "time: 2.84 ms\n"
     ]
    }
   ],
   "source": [
    "rm.add_rule(['author_author_jac_qgm_3_qgm_3(ltuple, rtuple) > 0.6'], \n",
    "            feature_table=feature_table)\n",
    "rm.add_rule(['binding_binding_jac_qgm_3_qgm_3(ltuple, rtuple) > 0.5'], \n",
    "            feature_table=feature_table)"
   ]
  },
  {
   "cell_type": "code",
   "execution_count": 60,
   "metadata": {
    "collapsed": false
   },
   "outputs": [
    {
     "data": {
      "text/html": [
       "<div>\n",
       "<table border=\"1\" class=\"dataframe\">\n",
       "  <thead>\n",
       "    <tr style=\"text-align: right;\">\n",
       "      <th></th>\n",
       "      <th>_id</th>\n",
       "      <th>ltable.id</th>\n",
       "      <th>rtable.id</th>\n",
       "      <th>ltable.title</th>\n",
       "      <th>ltable.author</th>\n",
       "      <th>rtable.title</th>\n",
       "      <th>rtable.author</th>\n",
       "      <th>gold</th>\n",
       "    </tr>\n",
       "  </thead>\n",
       "  <tbody>\n",
       "    <tr>\n",
       "      <th>0</th>\n",
       "      <td>0</td>\n",
       "      <td>4086892</td>\n",
       "      <td>9780226156439</td>\n",
       "      <td>The Bedtrick: Tales of Sex and Masquerade</td>\n",
       "      <td>Doniger, Wendy</td>\n",
       "      <td>Bedtrick : Tales of Sex and Masquerade</td>\n",
       "      <td>Doniger, Wendy</td>\n",
       "      <td>1</td>\n",
       "    </tr>\n",
       "    <tr>\n",
       "      <th>1</th>\n",
       "      <td>1</td>\n",
       "      <td>535599</td>\n",
       "      <td>9780060655808</td>\n",
       "      <td>HarperCollins Study Bible-NRSV</td>\n",
       "      <td>Meeks, Wayne A.</td>\n",
       "      <td>Harpercollins Study Bible Standard Version wit...</td>\n",
       "      <td>Meeks, Wayne A.</td>\n",
       "      <td>1</td>\n",
       "    </tr>\n",
       "    <tr>\n",
       "      <th>2</th>\n",
       "      <td>3</td>\n",
       "      <td>1386538</td>\n",
       "      <td>9780130901262</td>\n",
       "      <td>Adaptive Filter Theory</td>\n",
       "      <td>Haykin, Simon S.</td>\n",
       "      <td>Adaptive Filter Theory</td>\n",
       "      <td>Haykin, Simon</td>\n",
       "      <td>1</td>\n",
       "    </tr>\n",
       "    <tr>\n",
       "      <th>3</th>\n",
       "      <td>5</td>\n",
       "      <td>15280600</td>\n",
       "      <td>9780217455008</td>\n",
       "      <td>Catalogue of Earthquakes on the Pacific Coast,...</td>\n",
       "      <td>McAdie, Alexander</td>\n",
       "      <td>Catalogue of Earthquakes on the Pacific Coast,...</td>\n",
       "      <td>Mcadie, Alexander</td>\n",
       "      <td>1</td>\n",
       "    </tr>\n",
       "    <tr>\n",
       "      <th>4</th>\n",
       "      <td>6</td>\n",
       "      <td>15286798</td>\n",
       "      <td>9780217825382</td>\n",
       "      <td>Cured by an Incurable, by Crowquill and Pencil...</td>\n",
       "      <td>Pseud, Crowquill</td>\n",
       "      <td>Cured by an Incurable, by Crowquill and Pencil...</td>\n",
       "      <td>Pseud, Crowquill</td>\n",
       "      <td>1</td>\n",
       "    </tr>\n",
       "  </tbody>\n",
       "</table>\n",
       "</div>"
      ],
      "text/plain": [
       "   _id  ltable.id      rtable.id  \\\n",
       "0    0    4086892  9780226156439   \n",
       "1    1     535599  9780060655808   \n",
       "2    3    1386538  9780130901262   \n",
       "3    5   15280600  9780217455008   \n",
       "4    6   15286798  9780217825382   \n",
       "\n",
       "                                        ltable.title      ltable.author  \\\n",
       "0          The Bedtrick: Tales of Sex and Masquerade     Doniger, Wendy   \n",
       "1                     HarperCollins Study Bible-NRSV    Meeks, Wayne A.   \n",
       "2                             Adaptive Filter Theory   Haykin, Simon S.   \n",
       "3  Catalogue of Earthquakes on the Pacific Coast,...  McAdie, Alexander   \n",
       "4  Cured by an Incurable, by Crowquill and Pencil...   Pseud, Crowquill   \n",
       "\n",
       "                                        rtable.title      rtable.author  gold  \n",
       "0             Bedtrick : Tales of Sex and Masquerade     Doniger, Wendy     1  \n",
       "1  Harpercollins Study Bible Standard Version wit...    Meeks, Wayne A.     1  \n",
       "2                             Adaptive Filter Theory      Haykin, Simon     1  \n",
       "3  Catalogue of Earthquakes on the Pacific Coast,...  Mcadie, Alexander     1  \n",
       "4  Cured by an Incurable, by Crowquill and Pencil...   Pseud, Crowquill     1  "
      ]
     },
     "execution_count": 60,
     "metadata": {},
     "output_type": "execute_result"
    },
    {
     "name": "stdout",
     "output_type": "stream",
     "text": [
      "time: 12.2 ms\n"
     ]
    }
   ],
   "source": [
    "L.head()"
   ]
  },
  {
   "cell_type": "code",
   "execution_count": 61,
   "metadata": {
    "collapsed": false
   },
   "outputs": [
    {
     "name": "stdout",
     "output_type": "stream",
     "text": [
      "time: 667 ms\n"
     ]
    }
   ],
   "source": [
    "# Note here the input is candidate set !!!\n",
    "X = rm.predict(table=L, target_attr='predicted', \n",
    "               append=True, inplace=False)"
   ]
  },
  {
   "cell_type": "code",
   "execution_count": 62,
   "metadata": {
    "collapsed": false
   },
   "outputs": [
    {
     "data": {
      "text/html": [
       "<div>\n",
       "<table border=\"1\" class=\"dataframe\">\n",
       "  <thead>\n",
       "    <tr style=\"text-align: right;\">\n",
       "      <th></th>\n",
       "      <th>_id</th>\n",
       "      <th>ltable.id</th>\n",
       "      <th>rtable.id</th>\n",
       "      <th>ltable.title</th>\n",
       "      <th>ltable.author</th>\n",
       "      <th>rtable.title</th>\n",
       "      <th>rtable.author</th>\n",
       "      <th>gold</th>\n",
       "      <th>predicted</th>\n",
       "    </tr>\n",
       "  </thead>\n",
       "  <tbody>\n",
       "    <tr>\n",
       "      <th>0</th>\n",
       "      <td>0</td>\n",
       "      <td>4086892</td>\n",
       "      <td>9780226156439</td>\n",
       "      <td>The Bedtrick: Tales of Sex and Masquerade</td>\n",
       "      <td>Doniger, Wendy</td>\n",
       "      <td>Bedtrick : Tales of Sex and Masquerade</td>\n",
       "      <td>Doniger, Wendy</td>\n",
       "      <td>1</td>\n",
       "      <td>1</td>\n",
       "    </tr>\n",
       "    <tr>\n",
       "      <th>1</th>\n",
       "      <td>1</td>\n",
       "      <td>535599</td>\n",
       "      <td>9780060655808</td>\n",
       "      <td>HarperCollins Study Bible-NRSV</td>\n",
       "      <td>Meeks, Wayne A.</td>\n",
       "      <td>Harpercollins Study Bible Standard Version wit...</td>\n",
       "      <td>Meeks, Wayne A.</td>\n",
       "      <td>1</td>\n",
       "      <td>1</td>\n",
       "    </tr>\n",
       "    <tr>\n",
       "      <th>2</th>\n",
       "      <td>3</td>\n",
       "      <td>1386538</td>\n",
       "      <td>9780130901262</td>\n",
       "      <td>Adaptive Filter Theory</td>\n",
       "      <td>Haykin, Simon S.</td>\n",
       "      <td>Adaptive Filter Theory</td>\n",
       "      <td>Haykin, Simon</td>\n",
       "      <td>1</td>\n",
       "      <td>1</td>\n",
       "    </tr>\n",
       "    <tr>\n",
       "      <th>3</th>\n",
       "      <td>5</td>\n",
       "      <td>15280600</td>\n",
       "      <td>9780217455008</td>\n",
       "      <td>Catalogue of Earthquakes on the Pacific Coast,...</td>\n",
       "      <td>McAdie, Alexander</td>\n",
       "      <td>Catalogue of Earthquakes on the Pacific Coast,...</td>\n",
       "      <td>Mcadie, Alexander</td>\n",
       "      <td>1</td>\n",
       "      <td>1</td>\n",
       "    </tr>\n",
       "    <tr>\n",
       "      <th>4</th>\n",
       "      <td>6</td>\n",
       "      <td>15286798</td>\n",
       "      <td>9780217825382</td>\n",
       "      <td>Cured by an Incurable, by Crowquill and Pencil...</td>\n",
       "      <td>Pseud, Crowquill</td>\n",
       "      <td>Cured by an Incurable, by Crowquill and Pencil...</td>\n",
       "      <td>Pseud, Crowquill</td>\n",
       "      <td>1</td>\n",
       "      <td>1</td>\n",
       "    </tr>\n",
       "    <tr>\n",
       "      <th>5</th>\n",
       "      <td>7</td>\n",
       "      <td>15295588</td>\n",
       "      <td>9780217940207</td>\n",
       "      <td>The Daring Adventures of Kit Carson and Fremon...</td>\n",
       "      <td>Frmont, John Charles</td>\n",
       "      <td>Daring Adventures of Kit Carson and Fremont</td>\n",
       "      <td>Frmont, John Charles</td>\n",
       "      <td>0</td>\n",
       "      <td>1</td>\n",
       "    </tr>\n",
       "    <tr>\n",
       "      <th>6</th>\n",
       "      <td>8</td>\n",
       "      <td>15334872</td>\n",
       "      <td>9780217270052</td>\n",
       "      <td>Personal Efficiency, Applied Salesmanship, and...</td>\n",
       "      <td>Allen, Irving Ross</td>\n",
       "      <td>Personal Efficiency, Applied Salesmanship, and...</td>\n",
       "      <td>Allen, Irving Ross</td>\n",
       "      <td>1</td>\n",
       "      <td>1</td>\n",
       "    </tr>\n",
       "    <tr>\n",
       "      <th>7</th>\n",
       "      <td>9</td>\n",
       "      <td>15338150</td>\n",
       "      <td>9780217304399</td>\n",
       "      <td>The Universal Merchant; In Theory and Practice...</td>\n",
       "      <td>Alldridge, W. J.</td>\n",
       "      <td>Universal Merchant</td>\n",
       "      <td>Alldridge, W. J.</td>\n",
       "      <td>1</td>\n",
       "      <td>1</td>\n",
       "    </tr>\n",
       "    <tr>\n",
       "      <th>8</th>\n",
       "      <td>10</td>\n",
       "      <td>1566948</td>\n",
       "      <td>9780070479081</td>\n",
       "      <td>The Elusive Eden: A New History of California</td>\n",
       "      <td>Rice, Richard B.</td>\n",
       "      <td>Elusive Eden : A New History of California</td>\n",
       "      <td>Rice, Richard Bullough, Bonnie Bullough, Willi...</td>\n",
       "      <td>1</td>\n",
       "      <td>1</td>\n",
       "    </tr>\n",
       "    <tr>\n",
       "      <th>9</th>\n",
       "      <td>12</td>\n",
       "      <td>4564015</td>\n",
       "      <td>9780080446837</td>\n",
       "      <td>Vintage Papers from the Lancet</td>\n",
       "      <td>Richardson, Ruth</td>\n",
       "      <td>Vintage Papers from the Lancet</td>\n",
       "      <td>NaN</td>\n",
       "      <td>0</td>\n",
       "      <td>1</td>\n",
       "    </tr>\n",
       "  </tbody>\n",
       "</table>\n",
       "</div>"
      ],
      "text/plain": [
       "   _id  ltable.id      rtable.id  \\\n",
       "0    0    4086892  9780226156439   \n",
       "1    1     535599  9780060655808   \n",
       "2    3    1386538  9780130901262   \n",
       "3    5   15280600  9780217455008   \n",
       "4    6   15286798  9780217825382   \n",
       "5    7   15295588  9780217940207   \n",
       "6    8   15334872  9780217270052   \n",
       "7    9   15338150  9780217304399   \n",
       "8   10    1566948  9780070479081   \n",
       "9   12    4564015  9780080446837   \n",
       "\n",
       "                                        ltable.title         ltable.author  \\\n",
       "0          The Bedtrick: Tales of Sex and Masquerade        Doniger, Wendy   \n",
       "1                     HarperCollins Study Bible-NRSV       Meeks, Wayne A.   \n",
       "2                             Adaptive Filter Theory      Haykin, Simon S.   \n",
       "3  Catalogue of Earthquakes on the Pacific Coast,...     McAdie, Alexander   \n",
       "4  Cured by an Incurable, by Crowquill and Pencil...      Pseud, Crowquill   \n",
       "5  The Daring Adventures of Kit Carson and Fremon...  Frmont, John Charles   \n",
       "6  Personal Efficiency, Applied Salesmanship, and...    Allen, Irving Ross   \n",
       "7  The Universal Merchant; In Theory and Practice...      Alldridge, W. J.   \n",
       "8      The Elusive Eden: A New History of California      Rice, Richard B.   \n",
       "9                     Vintage Papers from the Lancet      Richardson, Ruth   \n",
       "\n",
       "                                        rtable.title  \\\n",
       "0             Bedtrick : Tales of Sex and Masquerade   \n",
       "1  Harpercollins Study Bible Standard Version wit...   \n",
       "2                             Adaptive Filter Theory   \n",
       "3  Catalogue of Earthquakes on the Pacific Coast,...   \n",
       "4  Cured by an Incurable, by Crowquill and Pencil...   \n",
       "5        Daring Adventures of Kit Carson and Fremont   \n",
       "6  Personal Efficiency, Applied Salesmanship, and...   \n",
       "7                                 Universal Merchant   \n",
       "8         Elusive Eden : A New History of California   \n",
       "9                     Vintage Papers from the Lancet   \n",
       "\n",
       "                                       rtable.author  gold  predicted  \n",
       "0                                     Doniger, Wendy     1          1  \n",
       "1                                    Meeks, Wayne A.     1          1  \n",
       "2                                      Haykin, Simon     1          1  \n",
       "3                                  Mcadie, Alexander     1          1  \n",
       "4                                   Pseud, Crowquill     1          1  \n",
       "5                               Frmont, John Charles     0          1  \n",
       "6                                 Allen, Irving Ross     1          1  \n",
       "7                                   Alldridge, W. J.     1          1  \n",
       "8  Rice, Richard Bullough, Bonnie Bullough, Willi...     1          1  \n",
       "9                                                NaN     0          1  "
      ]
     },
     "execution_count": 62,
     "metadata": {},
     "output_type": "execute_result"
    },
    {
     "name": "stdout",
     "output_type": "stream",
     "text": [
      "time: 26.4 ms\n"
     ]
    }
   ],
   "source": [
    "X.head(10)"
   ]
  },
  {
   "cell_type": "code",
   "execution_count": 63,
   "metadata": {
    "collapsed": false
   },
   "outputs": [
    {
     "data": {
      "text/html": [
       "<div>\n",
       "<table border=\"1\" class=\"dataframe\">\n",
       "  <thead>\n",
       "    <tr style=\"text-align: right;\">\n",
       "      <th></th>\n",
       "      <th>_id</th>\n",
       "      <th>ltable.id</th>\n",
       "      <th>rtable.id</th>\n",
       "      <th>ltable.title</th>\n",
       "      <th>ltable.author</th>\n",
       "      <th>rtable.title</th>\n",
       "      <th>rtable.author</th>\n",
       "      <th>gold</th>\n",
       "      <th>predicted</th>\n",
       "    </tr>\n",
       "  </thead>\n",
       "  <tbody>\n",
       "    <tr>\n",
       "      <th>0</th>\n",
       "      <td>0</td>\n",
       "      <td>4086892</td>\n",
       "      <td>9780226156439</td>\n",
       "      <td>The Bedtrick: Tales of Sex and Masquerade</td>\n",
       "      <td>Doniger, Wendy</td>\n",
       "      <td>Bedtrick : Tales of Sex and Masquerade</td>\n",
       "      <td>Doniger, Wendy</td>\n",
       "      <td>1</td>\n",
       "      <td>1</td>\n",
       "    </tr>\n",
       "    <tr>\n",
       "      <th>1</th>\n",
       "      <td>1</td>\n",
       "      <td>535599</td>\n",
       "      <td>9780060655808</td>\n",
       "      <td>HarperCollins Study Bible-NRSV</td>\n",
       "      <td>Meeks, Wayne A.</td>\n",
       "      <td>Harpercollins Study Bible Standard Version wit...</td>\n",
       "      <td>Meeks, Wayne A.</td>\n",
       "      <td>1</td>\n",
       "      <td>1</td>\n",
       "    </tr>\n",
       "    <tr>\n",
       "      <th>2</th>\n",
       "      <td>3</td>\n",
       "      <td>1386538</td>\n",
       "      <td>9780130901262</td>\n",
       "      <td>Adaptive Filter Theory</td>\n",
       "      <td>Haykin, Simon S.</td>\n",
       "      <td>Adaptive Filter Theory</td>\n",
       "      <td>Haykin, Simon</td>\n",
       "      <td>1</td>\n",
       "      <td>1</td>\n",
       "    </tr>\n",
       "    <tr>\n",
       "      <th>3</th>\n",
       "      <td>5</td>\n",
       "      <td>15280600</td>\n",
       "      <td>9780217455008</td>\n",
       "      <td>Catalogue of Earthquakes on the Pacific Coast,...</td>\n",
       "      <td>McAdie, Alexander</td>\n",
       "      <td>Catalogue of Earthquakes on the Pacific Coast,...</td>\n",
       "      <td>Mcadie, Alexander</td>\n",
       "      <td>1</td>\n",
       "      <td>1</td>\n",
       "    </tr>\n",
       "    <tr>\n",
       "      <th>4</th>\n",
       "      <td>6</td>\n",
       "      <td>15286798</td>\n",
       "      <td>9780217825382</td>\n",
       "      <td>Cured by an Incurable, by Crowquill and Pencil...</td>\n",
       "      <td>Pseud, Crowquill</td>\n",
       "      <td>Cured by an Incurable, by Crowquill and Pencil...</td>\n",
       "      <td>Pseud, Crowquill</td>\n",
       "      <td>1</td>\n",
       "      <td>1</td>\n",
       "    </tr>\n",
       "    <tr>\n",
       "      <th>5</th>\n",
       "      <td>7</td>\n",
       "      <td>15295588</td>\n",
       "      <td>9780217940207</td>\n",
       "      <td>The Daring Adventures of Kit Carson and Fremon...</td>\n",
       "      <td>Frmont, John Charles</td>\n",
       "      <td>Daring Adventures of Kit Carson and Fremont</td>\n",
       "      <td>Frmont, John Charles</td>\n",
       "      <td>0</td>\n",
       "      <td>1</td>\n",
       "    </tr>\n",
       "    <tr>\n",
       "      <th>6</th>\n",
       "      <td>8</td>\n",
       "      <td>15334872</td>\n",
       "      <td>9780217270052</td>\n",
       "      <td>Personal Efficiency, Applied Salesmanship, and...</td>\n",
       "      <td>Allen, Irving Ross</td>\n",
       "      <td>Personal Efficiency, Applied Salesmanship, and...</td>\n",
       "      <td>Allen, Irving Ross</td>\n",
       "      <td>1</td>\n",
       "      <td>1</td>\n",
       "    </tr>\n",
       "    <tr>\n",
       "      <th>7</th>\n",
       "      <td>9</td>\n",
       "      <td>15338150</td>\n",
       "      <td>9780217304399</td>\n",
       "      <td>The Universal Merchant; In Theory and Practice...</td>\n",
       "      <td>Alldridge, W. J.</td>\n",
       "      <td>Universal Merchant</td>\n",
       "      <td>Alldridge, W. J.</td>\n",
       "      <td>1</td>\n",
       "      <td>1</td>\n",
       "    </tr>\n",
       "    <tr>\n",
       "      <th>8</th>\n",
       "      <td>10</td>\n",
       "      <td>1566948</td>\n",
       "      <td>9780070479081</td>\n",
       "      <td>The Elusive Eden: A New History of California</td>\n",
       "      <td>Rice, Richard B.</td>\n",
       "      <td>Elusive Eden : A New History of California</td>\n",
       "      <td>Rice, Richard Bullough, Bonnie Bullough, Willi...</td>\n",
       "      <td>1</td>\n",
       "      <td>1</td>\n",
       "    </tr>\n",
       "    <tr>\n",
       "      <th>9</th>\n",
       "      <td>12</td>\n",
       "      <td>4564015</td>\n",
       "      <td>9780080446837</td>\n",
       "      <td>Vintage Papers from the Lancet</td>\n",
       "      <td>Richardson, Ruth</td>\n",
       "      <td>Vintage Papers from the Lancet</td>\n",
       "      <td>NaN</td>\n",
       "      <td>0</td>\n",
       "      <td>1</td>\n",
       "    </tr>\n",
       "  </tbody>\n",
       "</table>\n",
       "</div>"
      ],
      "text/plain": [
       "   _id  ltable.id      rtable.id  \\\n",
       "0    0    4086892  9780226156439   \n",
       "1    1     535599  9780060655808   \n",
       "2    3    1386538  9780130901262   \n",
       "3    5   15280600  9780217455008   \n",
       "4    6   15286798  9780217825382   \n",
       "5    7   15295588  9780217940207   \n",
       "6    8   15334872  9780217270052   \n",
       "7    9   15338150  9780217304399   \n",
       "8   10    1566948  9780070479081   \n",
       "9   12    4564015  9780080446837   \n",
       "\n",
       "                                        ltable.title         ltable.author  \\\n",
       "0          The Bedtrick: Tales of Sex and Masquerade        Doniger, Wendy   \n",
       "1                     HarperCollins Study Bible-NRSV       Meeks, Wayne A.   \n",
       "2                             Adaptive Filter Theory      Haykin, Simon S.   \n",
       "3  Catalogue of Earthquakes on the Pacific Coast,...     McAdie, Alexander   \n",
       "4  Cured by an Incurable, by Crowquill and Pencil...      Pseud, Crowquill   \n",
       "5  The Daring Adventures of Kit Carson and Fremon...  Frmont, John Charles   \n",
       "6  Personal Efficiency, Applied Salesmanship, and...    Allen, Irving Ross   \n",
       "7  The Universal Merchant; In Theory and Practice...      Alldridge, W. J.   \n",
       "8      The Elusive Eden: A New History of California      Rice, Richard B.   \n",
       "9                     Vintage Papers from the Lancet      Richardson, Ruth   \n",
       "\n",
       "                                        rtable.title  \\\n",
       "0             Bedtrick : Tales of Sex and Masquerade   \n",
       "1  Harpercollins Study Bible Standard Version wit...   \n",
       "2                             Adaptive Filter Theory   \n",
       "3  Catalogue of Earthquakes on the Pacific Coast,...   \n",
       "4  Cured by an Incurable, by Crowquill and Pencil...   \n",
       "5        Daring Adventures of Kit Carson and Fremont   \n",
       "6  Personal Efficiency, Applied Salesmanship, and...   \n",
       "7                                 Universal Merchant   \n",
       "8         Elusive Eden : A New History of California   \n",
       "9                     Vintage Papers from the Lancet   \n",
       "\n",
       "                                       rtable.author  gold  predicted  \n",
       "0                                     Doniger, Wendy     1          1  \n",
       "1                                    Meeks, Wayne A.     1          1  \n",
       "2                                      Haykin, Simon     1          1  \n",
       "3                                  Mcadie, Alexander     1          1  \n",
       "4                                   Pseud, Crowquill     1          1  \n",
       "5                               Frmont, John Charles     0          1  \n",
       "6                                 Allen, Irving Ross     1          1  \n",
       "7                                   Alldridge, W. J.     1          1  \n",
       "8  Rice, Richard Bullough, Bonnie Bullough, Willi...     1          1  \n",
       "9                                                NaN     0          1  "
      ]
     },
     "execution_count": 63,
     "metadata": {},
     "output_type": "execute_result"
    },
    {
     "name": "stdout",
     "output_type": "stream",
     "text": [
      "time: 29.5 ms\n"
     ]
    }
   ],
   "source": [
    "X.head(10)"
   ]
  },
  {
   "cell_type": "code",
   "execution_count": 64,
   "metadata": {
    "collapsed": false
   },
   "outputs": [
    {
     "data": {
      "text/plain": [
       "(0.7391304347826086, 0.9444444444444444, 0.8292682926829269, 2.0, 12.0)"
      ]
     },
     "execution_count": 64,
     "metadata": {},
     "output_type": "execute_result"
    },
    {
     "name": "stdout",
     "output_type": "stream",
     "text": [
      "time: 27.9 ms\n"
     ]
    }
   ],
   "source": [
    "# Evaluate rule-based matcher performance\n",
    "eval_summary = mg.eval_matches(X, 'gold', 'predicted')\n",
    "(eval_summary['precision'], eval_summary['recall'], eval_summary['f1'],\n",
    " eval_summary['false_neg_num'], eval_summary['false_pos_num'])"
   ]
  },
  {
   "cell_type": "code",
   "execution_count": 65,
   "metadata": {
    "collapsed": false
   },
   "outputs": [
    {
     "data": {
      "text/plain": [
       "(0.7391304347826086, 0.9444444444444444, 0.8292682926829269, 2.0, 12.0)"
      ]
     },
     "execution_count": 65,
     "metadata": {},
     "output_type": "execute_result"
    },
    {
     "name": "stdout",
     "output_type": "stream",
     "text": [
      "time: 16.2 ms\n"
     ]
    }
   ],
   "source": [
    " #Evaluate rule-based matcher performance\n",
    "eval_summary = mg.eval_matches(X, 'gold', 'predicted')\n",
    "(eval_summary['precision'], eval_summary['recall'], eval_summary['f1'],\n",
    " eval_summary['false_neg_num'], eval_summary['false_pos_num'])"
   ]
  },
  {
   "cell_type": "code",
   "execution_count": 66,
   "metadata": {
    "collapsed": false
   },
   "outputs": [
    {
     "name": "stdout",
     "output_type": "stream",
     "text": [
      "time: 4.92 s\n"
     ]
    }
   ],
   "source": [
    "mg.vis_debug_rm(rm, L, 'gold', feature_table)"
   ]
  },
  {
   "cell_type": "code",
   "execution_count": 67,
   "metadata": {
    "collapsed": false
   },
   "outputs": [
    {
     "data": {
      "text/plain": [
       "True"
      ]
     },
     "execution_count": 67,
     "metadata": {},
     "output_type": "execute_result"
    },
    {
     "name": "stdout",
     "output_type": "stream",
     "text": [
      "time: 8.1 ms\n"
     ]
    }
   ],
   "source": [
    "# address false positives\n",
    "# Add triggers to address false negatives\n",
    "# if authors match exactly then declare match\n",
    "neg_trigger = mg.MatchTrigger()\n",
    "neg_trigger.add_cond_rule(['lang_lang_lev(ltuple, rtuple) > 0.5'],\n",
    "    feature_table=feature_table)\n",
    "neg_trigger.add_cond_status(False)\n",
    "neg_trigger.add_action(0)\n"
   ]
  },
  {
   "cell_type": "code",
   "execution_count": 68,
   "metadata": {
    "collapsed": false
   },
   "outputs": [
    {
     "name": "stdout",
     "output_type": "stream",
     "text": [
      "time: 637 ms\n"
     ]
    }
   ],
   "source": [
    "Y = neg_trigger.execute(X, 'predicted', inplace=False)"
   ]
  },
  {
   "cell_type": "code",
   "execution_count": 69,
   "metadata": {
    "collapsed": false
   },
   "outputs": [
    {
     "data": {
      "text/plain": [
       "(0.7727272727272727, 0.9444444444444444, 0.85, 2.0, 10.0)"
      ]
     },
     "execution_count": 69,
     "metadata": {},
     "output_type": "execute_result"
    },
    {
     "name": "stdout",
     "output_type": "stream",
     "text": [
      "time: 29.6 ms\n"
     ]
    }
   ],
   "source": [
    "eval_summary = mg.eval_matches(Y, 'gold', 'predicted')\n",
    "(eval_summary['precision'], eval_summary['recall'], eval_summary['f1'],\n",
    " eval_summary['false_neg_num'], eval_summary['false_pos_num'])"
   ]
  },
  {
   "cell_type": "code",
   "execution_count": 70,
   "metadata": {
    "collapsed": false
   },
   "outputs": [
    {
     "name": "stdout",
     "output_type": "stream",
     "text": [
      "time: 616 µs\n"
     ]
    }
   ],
   "source": [
    "# choose ml matcher + trigger"
   ]
  },
  {
   "cell_type": "code",
   "execution_count": 71,
   "metadata": {
    "collapsed": false
   },
   "outputs": [
    {
     "name": "stdout",
     "output_type": "stream",
     "text": [
      "time: 438 ms\n"
     ]
    }
   ],
   "source": [
    "# Extract feature vectors using subset of features\n",
    "N = mg.extract_feat_vecs(C, feature_table=f)"
   ]
  },
  {
   "cell_type": "code",
   "execution_count": 72,
   "metadata": {
    "collapsed": false
   },
   "outputs": [
    {
     "data": {
      "text/plain": [
       "68"
      ]
     },
     "execution_count": 72,
     "metadata": {},
     "output_type": "execute_result"
    },
    {
     "name": "stdout",
     "output_type": "stream",
     "text": [
      "time: 1.71 ms\n"
     ]
    }
   ],
   "source": [
    "len(N)"
   ]
  },
  {
   "cell_type": "code",
   "execution_count": 73,
   "metadata": {
    "collapsed": false
   },
   "outputs": [
    {
     "name": "stdout",
     "output_type": "stream",
     "text": [
      "time: 5.96 ms\n"
     ]
    }
   ],
   "source": [
    "dt.fit(table=G, exclude_attrs=['_id', 'ltable.id', 'rtable.id', 'gold'],\n",
    "        target_attr='gold')"
   ]
  },
  {
   "cell_type": "code",
   "execution_count": 74,
   "metadata": {
    "collapsed": false
   },
   "outputs": [
    {
     "name": "stdout",
     "output_type": "stream",
     "text": [
      "time: 2.12 ms\n"
     ]
    }
   ],
   "source": [
    "# Impute values\n",
    "N.fillna(0, inplace=True)"
   ]
  },
  {
   "cell_type": "code",
   "execution_count": 75,
   "metadata": {
    "collapsed": false
   },
   "outputs": [
    {
     "name": "stdout",
     "output_type": "stream",
     "text": [
      "time: 11.5 ms\n"
     ]
    }
   ],
   "source": [
    "O = dt.predict(table=N, exclude_attrs=['_id', 'ltable.id', 'rtable.id'],\n",
    "              target_attr='predicted', append=True, inplace=False)"
   ]
  },
  {
   "cell_type": "code",
   "execution_count": 76,
   "metadata": {
    "collapsed": false
   },
   "outputs": [
    {
     "data": {
      "text/html": [
       "<div>\n",
       "<table border=\"1\" class=\"dataframe\">\n",
       "  <thead>\n",
       "    <tr style=\"text-align: right;\">\n",
       "      <th></th>\n",
       "      <th>_id</th>\n",
       "      <th>ltable.id</th>\n",
       "      <th>rtable.id</th>\n",
       "      <th>title_title_jac_qgm_3_qgm_3</th>\n",
       "      <th>author_author_jac_qgm_3_qgm_3</th>\n",
       "      <th>binding_binding_jac_qgm_3_qgm_3</th>\n",
       "      <th>publisher_publisher_jac_qgm_3_qgm_3</th>\n",
       "      <th>lang_lang_lev</th>\n",
       "      <th>predicted</th>\n",
       "    </tr>\n",
       "  </thead>\n",
       "  <tbody>\n",
       "    <tr>\n",
       "      <th>0</th>\n",
       "      <td>0</td>\n",
       "      <td>4086892</td>\n",
       "      <td>9780226156439</td>\n",
       "      <td>0.785714</td>\n",
       "      <td>1.000000</td>\n",
       "      <td>0</td>\n",
       "      <td>0.518519</td>\n",
       "      <td>1</td>\n",
       "      <td>1</td>\n",
       "    </tr>\n",
       "    <tr>\n",
       "      <th>1</th>\n",
       "      <td>1</td>\n",
       "      <td>535599</td>\n",
       "      <td>9780060655808</td>\n",
       "      <td>0.222222</td>\n",
       "      <td>1.000000</td>\n",
       "      <td>0</td>\n",
       "      <td>0.320000</td>\n",
       "      <td>1</td>\n",
       "      <td>1</td>\n",
       "    </tr>\n",
       "    <tr>\n",
       "      <th>2</th>\n",
       "      <td>2</td>\n",
       "      <td>12537042</td>\n",
       "      <td>9780030402432</td>\n",
       "      <td>0.243243</td>\n",
       "      <td>0.285714</td>\n",
       "      <td>0</td>\n",
       "      <td>0.025641</td>\n",
       "      <td>0</td>\n",
       "      <td>1</td>\n",
       "    </tr>\n",
       "    <tr>\n",
       "      <th>3</th>\n",
       "      <td>3</td>\n",
       "      <td>1386538</td>\n",
       "      <td>9780130901262</td>\n",
       "      <td>1.000000</td>\n",
       "      <td>0.785714</td>\n",
       "      <td>1</td>\n",
       "      <td>0.733333</td>\n",
       "      <td>1</td>\n",
       "      <td>1</td>\n",
       "    </tr>\n",
       "    <tr>\n",
       "      <th>4</th>\n",
       "      <td>4</td>\n",
       "      <td>13945932</td>\n",
       "      <td>9780205700424</td>\n",
       "      <td>0.375000</td>\n",
       "      <td>0.375000</td>\n",
       "      <td>0</td>\n",
       "      <td>0.733333</td>\n",
       "      <td>1</td>\n",
       "      <td>1</td>\n",
       "    </tr>\n",
       "  </tbody>\n",
       "</table>\n",
       "</div>"
      ],
      "text/plain": [
       "   _id  ltable.id      rtable.id  title_title_jac_qgm_3_qgm_3  \\\n",
       "0    0    4086892  9780226156439                     0.785714   \n",
       "1    1     535599  9780060655808                     0.222222   \n",
       "2    2   12537042  9780030402432                     0.243243   \n",
       "3    3    1386538  9780130901262                     1.000000   \n",
       "4    4   13945932  9780205700424                     0.375000   \n",
       "\n",
       "   author_author_jac_qgm_3_qgm_3  binding_binding_jac_qgm_3_qgm_3  \\\n",
       "0                       1.000000                                0   \n",
       "1                       1.000000                                0   \n",
       "2                       0.285714                                0   \n",
       "3                       0.785714                                1   \n",
       "4                       0.375000                                0   \n",
       "\n",
       "   publisher_publisher_jac_qgm_3_qgm_3  lang_lang_lev  predicted  \n",
       "0                             0.518519              1          1  \n",
       "1                             0.320000              1          1  \n",
       "2                             0.025641              0          1  \n",
       "3                             0.733333              1          1  \n",
       "4                             0.733333              1          1  "
      ]
     },
     "execution_count": 76,
     "metadata": {},
     "output_type": "execute_result"
    },
    {
     "name": "stdout",
     "output_type": "stream",
     "text": [
      "time: 18.1 ms\n"
     ]
    }
   ],
   "source": [
    "O.head()"
   ]
  },
  {
   "cell_type": "code",
   "execution_count": 77,
   "metadata": {
    "collapsed": false
   },
   "outputs": [
    {
     "name": "stdout",
     "output_type": "stream",
     "text": [
      "time: 636 ms\n"
     ]
    }
   ],
   "source": [
    "P = pos_trigger.execute(O, 'predicted', inplace=False)"
   ]
  }
 ],
 "metadata": {
  "kernelspec": {
   "display_name": "Python 2",
   "language": "python",
   "name": "python2"
  },
  "language_info": {
   "codemirror_mode": {
    "name": "ipython",
    "version": 2
   },
   "file_extension": ".py",
   "mimetype": "text/x-python",
   "name": "python",
   "nbconvert_exporter": "python",
   "pygments_lexer": "ipython2",
   "version": "2.7.10"
  }
 },
 "nbformat": 4,
 "nbformat_minor": 0
}
