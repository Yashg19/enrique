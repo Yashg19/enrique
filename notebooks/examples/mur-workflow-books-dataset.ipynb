{
 "cells": [
  {
   "cell_type": "code",
   "execution_count": 1,
   "metadata": {
    "collapsed": true
   },
   "outputs": [],
   "source": [
    "%load_ext autotime"
   ]
  },
  {
   "cell_type": "code",
   "execution_count": 2,
   "metadata": {
    "collapsed": false
   },
   "outputs": [
    {
     "name": "stdout",
     "output_type": "stream",
     "text": [
      "time: 919 µs\n"
     ]
    }
   ],
   "source": [
    "import sys\n",
    "sys.path.append('/Users/pradap/Documents/Research/Python-Package/enrique/')"
   ]
  },
  {
   "cell_type": "code",
   "execution_count": 3,
   "metadata": {
    "collapsed": false
   },
   "outputs": [
    {
     "name": "stderr",
     "output_type": "stream",
     "text": [
      "DEBUG:Cloud:Log file (/Users/pradap/.picloud/cloud.log) opened\n"
     ]
    },
    {
     "name": "stdout",
     "output_type": "stream",
     "text": [
      "time: 2.36 s\n"
     ]
    }
   ],
   "source": [
    "import magellan as mg\n",
    "import pandas as pd"
   ]
  },
  {
   "cell_type": "code",
   "execution_count": 4,
   "metadata": {
    "collapsed": false
   },
   "outputs": [
    {
     "data": {
      "text/plain": [
       "True"
      ]
     },
     "execution_count": 4,
     "metadata": {},
     "output_type": "execute_result"
    },
    {
     "name": "stdout",
     "output_type": "stream",
     "text": [
      "time: 103 ms\n"
     ]
    }
   ],
   "source": [
    "mg.init_jvm()"
   ]
  },
  {
   "cell_type": "code",
   "execution_count": 5,
   "metadata": {
    "collapsed": false
   },
   "outputs": [
    {
     "name": "stdout",
     "output_type": "stream",
     "text": [
      "time: 1.22 s\n"
     ]
    }
   ],
   "source": [
    "wal =  mg.read_csv(mg.get_install_path() + '/datasets/books/walmart.csv',\n",
    "                    dtype={'isbn':pd.np.str, 'pages':pd.np.str, 'volume':pd.np.str, 'editionNum':pd.np.str},  \n",
    "                    low_memory=False, key='id')"
   ]
  },
  {
   "cell_type": "code",
   "execution_count": 6,
   "metadata": {
    "collapsed": false
   },
   "outputs": [
    {
     "name": "stdout",
     "output_type": "stream",
     "text": [
      "time: 62.3 ms\n"
     ]
    }
   ],
   "source": [
    "bwk = mg.read_csv(mg.get_install_path() + '/datasets/books/bowker.csv', \n",
    "                  dtype={'isbn':pd.np.str, 'pages':pd.np.str, 'volume':pd.np.str, 'editionNum':pd.np.str},  \n",
    "                  low_memory=False, key='id')\n"
   ]
  },
  {
   "cell_type": "code",
   "execution_count": 7,
   "metadata": {
    "collapsed": false
   },
   "outputs": [
    {
     "name": "stdout",
     "output_type": "stream",
     "text": [
      "time: 196 ms\n"
     ]
    }
   ],
   "source": [
    "ab = mg.AttrEquivalenceBlocker()\n",
    "C = ab.block_tables(wal, bwk, 'isbn', 'isbn', ['title', 'author'], ['title', 'author'])\n"
   ]
  },
  {
   "cell_type": "code",
   "execution_count": 8,
   "metadata": {
    "collapsed": false
   },
   "outputs": [
    {
     "data": {
      "text/plain": [
       "True"
      ]
     },
     "execution_count": 8,
     "metadata": {},
     "output_type": "execute_result"
    },
    {
     "name": "stdout",
     "output_type": "stream",
     "text": [
      "time: 4.29 ms\n"
     ]
    }
   ],
   "source": [
    "C.to_csv('books_candset.csv')"
   ]
  },
  {
   "cell_type": "code",
   "execution_count": 9,
   "metadata": {
    "collapsed": false
   },
   "outputs": [
    {
     "name": "stdout",
     "output_type": "stream",
     "text": [
      "time: 3.1 ms\n"
     ]
    }
   ],
   "source": [
    "# Read candidate set \n",
    "C = mg.read_csv('books_candset.csv', ltable=wal, rtable=bwk)"
   ]
  },
  {
   "cell_type": "code",
   "execution_count": 10,
   "metadata": {
    "collapsed": false
   },
   "outputs": [
    {
     "name": "stdout",
     "output_type": "stream",
     "text": [
      "time: 1.64 ms\n"
     ]
    }
   ],
   "source": [
    "#plan\n",
    "\n",
    "# 1. sample candidate set --> S\n",
    "# 2. label S --> L\n",
    "# 3. Two matching options\n",
    "#    a. ML matcher + Trigger\n",
    "#    b. Rule-based matcher + trigger\n",
    "# 3b. Rule-based matcher + trigger\n",
    "#   1. Write matching rules\n",
    "#   2. Add triggers\n",
    "# 4. Choose one of the above two options (which ever produces better result), and \n",
    "#     apply it over candidate set"
   ]
  },
  {
   "cell_type": "code",
   "execution_count": 11,
   "metadata": {
    "collapsed": false
   },
   "outputs": [
    {
     "name": "stdout",
     "output_type": "stream",
     "text": [
      "time: 2.02 ms\n"
     ]
    }
   ],
   "source": [
    "# sample table\n",
    "S = mg.sample_table(C, 50)"
   ]
  },
  {
   "cell_type": "code",
   "execution_count": 12,
   "metadata": {
    "collapsed": false
   },
   "outputs": [
    {
     "name": "stdout",
     "output_type": "stream",
     "text": [
      "time: 546 µs\n"
     ]
    }
   ],
   "source": [
    "# label table\n",
    "#L = mg.label_table(S, 'gold')"
   ]
  },
  {
   "cell_type": "code",
   "execution_count": 13,
   "metadata": {
    "collapsed": false
   },
   "outputs": [
    {
     "name": "stdout",
     "output_type": "stream",
     "text": [
      "time: 3.77 ms\n"
     ]
    }
   ],
   "source": [
    "# for demo reading a pre-labeled file\n",
    "L = mg.read_csv('label_table_demo_books.csv', ltable=wal, rtable=bwk)"
   ]
  },
  {
   "cell_type": "code",
   "execution_count": 14,
   "metadata": {
    "collapsed": false
   },
   "outputs": [
    {
     "name": "stdout",
     "output_type": "stream",
     "text": [
      "time: 1.47 ms\n"
     ]
    }
   ],
   "source": [
    "# ML matcher + trigger\n",
    "#   1. Find best possible ML matcher\n",
    "#       1. Get features for matching\n",
    "#       2. Extract feature vectors\n",
    "#       3. Select matcher using cross validation\n",
    "#       4. Debug matcher\n",
    "#       5. Get the best possible matcher\n",
    "#   2. Add Triggers "
   ]
  },
  {
   "cell_type": "code",
   "execution_count": 15,
   "metadata": {
    "collapsed": false
   },
   "outputs": [
    {
     "name": "stderr",
     "output_type": "stream",
     "text": [
      "WARNING:magellan.feature.autofeaturegen:editionNum type and editionNum type are different\n",
      "WARNING:magellan.feature.autofeaturegen:pages type and pages type are different\n",
      "WARNING:magellan.feature.autofeaturegen:volume type and volume type are different\n"
     ]
    },
    {
     "name": "stdout",
     "output_type": "stream",
     "text": [
      "time: 3.11 s\n"
     ]
    }
   ],
   "source": [
    "# get features for matching\n",
    "feature_table = mg.get_features_for_matching(wal, bwk)"
   ]
  },
  {
   "cell_type": "code",
   "execution_count": 16,
   "metadata": {
    "collapsed": false
   },
   "outputs": [
    {
     "name": "stdout",
     "output_type": "stream",
     "text": [
      "time: 668 µs\n"
     ]
    }
   ],
   "source": [
    "#feature_table"
   ]
  },
  {
   "cell_type": "code",
   "execution_count": 17,
   "metadata": {
    "collapsed": false
   },
   "outputs": [
    {
     "name": "stdout",
     "output_type": "stream",
     "text": [
      "time: 1.57 ms\n"
     ]
    }
   ],
   "source": [
    "# select a subset of matchers\n",
    "f = feature_table.ix[[3,7,18,26, 53]]"
   ]
  },
  {
   "cell_type": "code",
   "execution_count": 18,
   "metadata": {
    "collapsed": false
   },
   "outputs": [
    {
     "data": {
      "text/html": [
       "<div>\n",
       "<table border=\"1\" class=\"dataframe\">\n",
       "  <thead>\n",
       "    <tr style=\"text-align: right;\">\n",
       "      <th></th>\n",
       "      <th>feature_name</th>\n",
       "      <th>left_attribute</th>\n",
       "      <th>right_attribute</th>\n",
       "      <th>left_attr_tokenizer</th>\n",
       "      <th>right_attr_tokenizer</th>\n",
       "      <th>simfunction</th>\n",
       "      <th>function</th>\n",
       "      <th>function_source</th>\n",
       "    </tr>\n",
       "  </thead>\n",
       "  <tbody>\n",
       "    <tr>\n",
       "      <th>3</th>\n",
       "      <td>title_title_jac_qgm_3_qgm_3</td>\n",
       "      <td>title</td>\n",
       "      <td>title</td>\n",
       "      <td>qgm_3</td>\n",
       "      <td>qgm_3</td>\n",
       "      <td>jaccard</td>\n",
       "      <td>&lt;function title_title_jac_qgm_3_qgm_3 at 0x11f...</td>\n",
       "      <td>from magellan.feature.simfunctions import *\\nf...</td>\n",
       "    </tr>\n",
       "    <tr>\n",
       "      <th>7</th>\n",
       "      <td>author_author_jac_qgm_3_qgm_3</td>\n",
       "      <td>author</td>\n",
       "      <td>author</td>\n",
       "      <td>qgm_3</td>\n",
       "      <td>qgm_3</td>\n",
       "      <td>jaccard</td>\n",
       "      <td>&lt;function author_author_jac_qgm_3_qgm_3 at 0x1...</td>\n",
       "      <td>from magellan.feature.simfunctions import *\\nf...</td>\n",
       "    </tr>\n",
       "    <tr>\n",
       "      <th>18</th>\n",
       "      <td>binding_binding_jac_qgm_3_qgm_3</td>\n",
       "      <td>binding</td>\n",
       "      <td>binding</td>\n",
       "      <td>qgm_3</td>\n",
       "      <td>qgm_3</td>\n",
       "      <td>jaccard</td>\n",
       "      <td>&lt;function binding_binding_jac_qgm_3_qgm_3 at 0...</td>\n",
       "      <td>from magellan.feature.simfunctions import *\\nf...</td>\n",
       "    </tr>\n",
       "    <tr>\n",
       "      <th>26</th>\n",
       "      <td>publisher_publisher_jac_qgm_3_qgm_3</td>\n",
       "      <td>publisher</td>\n",
       "      <td>publisher</td>\n",
       "      <td>qgm_3</td>\n",
       "      <td>qgm_3</td>\n",
       "      <td>jaccard</td>\n",
       "      <td>&lt;function publisher_publisher_jac_qgm_3_qgm_3 ...</td>\n",
       "      <td>from magellan.feature.simfunctions import *\\nf...</td>\n",
       "    </tr>\n",
       "    <tr>\n",
       "      <th>53</th>\n",
       "      <td>lang_lang_lev</td>\n",
       "      <td>lang</td>\n",
       "      <td>lang</td>\n",
       "      <td>None</td>\n",
       "      <td>None</td>\n",
       "      <td>lev</td>\n",
       "      <td>&lt;function lang_lang_lev at 0x128506848&gt;</td>\n",
       "      <td>from magellan.feature.simfunctions import *\\nf...</td>\n",
       "    </tr>\n",
       "  </tbody>\n",
       "</table>\n",
       "</div>"
      ],
      "text/plain": [
       "                           feature_name left_attribute right_attribute  \\\n",
       "3           title_title_jac_qgm_3_qgm_3          title           title   \n",
       "7         author_author_jac_qgm_3_qgm_3         author          author   \n",
       "18      binding_binding_jac_qgm_3_qgm_3        binding         binding   \n",
       "26  publisher_publisher_jac_qgm_3_qgm_3      publisher       publisher   \n",
       "53                        lang_lang_lev           lang            lang   \n",
       "\n",
       "   left_attr_tokenizer right_attr_tokenizer simfunction  \\\n",
       "3                qgm_3                qgm_3     jaccard   \n",
       "7                qgm_3                qgm_3     jaccard   \n",
       "18               qgm_3                qgm_3     jaccard   \n",
       "26               qgm_3                qgm_3     jaccard   \n",
       "53                None                 None         lev   \n",
       "\n",
       "                                             function  \\\n",
       "3   <function title_title_jac_qgm_3_qgm_3 at 0x11f...   \n",
       "7   <function author_author_jac_qgm_3_qgm_3 at 0x1...   \n",
       "18  <function binding_binding_jac_qgm_3_qgm_3 at 0...   \n",
       "26  <function publisher_publisher_jac_qgm_3_qgm_3 ...   \n",
       "53            <function lang_lang_lev at 0x128506848>   \n",
       "\n",
       "                                      function_source  \n",
       "3   from magellan.feature.simfunctions import *\\nf...  \n",
       "7   from magellan.feature.simfunctions import *\\nf...  \n",
       "18  from magellan.feature.simfunctions import *\\nf...  \n",
       "26  from magellan.feature.simfunctions import *\\nf...  \n",
       "53  from magellan.feature.simfunctions import *\\nf...  "
      ]
     },
     "execution_count": 18,
     "metadata": {},
     "output_type": "execute_result"
    },
    {
     "name": "stdout",
     "output_type": "stream",
     "text": [
      "time: 15.8 ms\n"
     ]
    }
   ],
   "source": [
    "f"
   ]
  },
  {
   "cell_type": "code",
   "execution_count": 19,
   "metadata": {
    "collapsed": false
   },
   "outputs": [
    {
     "name": "stdout",
     "output_type": "stream",
     "text": [
      "time: 363 ms\n"
     ]
    }
   ],
   "source": [
    "G = mg.extract_feat_vecs(L, feature_table=f, attrs_after='gold')"
   ]
  },
  {
   "cell_type": "code",
   "execution_count": 20,
   "metadata": {
    "collapsed": false
   },
   "outputs": [
    {
     "data": {
      "text/html": [
       "<div>\n",
       "<table border=\"1\" class=\"dataframe\">\n",
       "  <thead>\n",
       "    <tr style=\"text-align: right;\">\n",
       "      <th></th>\n",
       "      <th>_id</th>\n",
       "      <th>ltable.id</th>\n",
       "      <th>rtable.id</th>\n",
       "      <th>title_title_jac_qgm_3_qgm_3</th>\n",
       "      <th>author_author_jac_qgm_3_qgm_3</th>\n",
       "      <th>binding_binding_jac_qgm_3_qgm_3</th>\n",
       "      <th>publisher_publisher_jac_qgm_3_qgm_3</th>\n",
       "      <th>lang_lang_lev</th>\n",
       "      <th>gold</th>\n",
       "    </tr>\n",
       "  </thead>\n",
       "  <tbody>\n",
       "    <tr>\n",
       "      <th>0</th>\n",
       "      <td>0</td>\n",
       "      <td>4086892</td>\n",
       "      <td>9780226156439</td>\n",
       "      <td>0.785714</td>\n",
       "      <td>1.000000</td>\n",
       "      <td>0</td>\n",
       "      <td>0.518519</td>\n",
       "      <td>1</td>\n",
       "      <td>1</td>\n",
       "    </tr>\n",
       "    <tr>\n",
       "      <th>1</th>\n",
       "      <td>1</td>\n",
       "      <td>535599</td>\n",
       "      <td>9780060655808</td>\n",
       "      <td>0.222222</td>\n",
       "      <td>1.000000</td>\n",
       "      <td>0</td>\n",
       "      <td>0.320000</td>\n",
       "      <td>1</td>\n",
       "      <td>1</td>\n",
       "    </tr>\n",
       "    <tr>\n",
       "      <th>2</th>\n",
       "      <td>2</td>\n",
       "      <td>1386538</td>\n",
       "      <td>9780130901262</td>\n",
       "      <td>1.000000</td>\n",
       "      <td>0.785714</td>\n",
       "      <td>1</td>\n",
       "      <td>0.733333</td>\n",
       "      <td>1</td>\n",
       "      <td>1</td>\n",
       "    </tr>\n",
       "    <tr>\n",
       "      <th>3</th>\n",
       "      <td>3</td>\n",
       "      <td>15280600</td>\n",
       "      <td>9780217455008</td>\n",
       "      <td>0.720000</td>\n",
       "      <td>0.666667</td>\n",
       "      <td>1</td>\n",
       "      <td>1.000000</td>\n",
       "      <td>1</td>\n",
       "      <td>1</td>\n",
       "    </tr>\n",
       "    <tr>\n",
       "      <th>4</th>\n",
       "      <td>4</td>\n",
       "      <td>15286798</td>\n",
       "      <td>9780217825382</td>\n",
       "      <td>1.000000</td>\n",
       "      <td>1.000000</td>\n",
       "      <td>1</td>\n",
       "      <td>1.000000</td>\n",
       "      <td>1</td>\n",
       "      <td>1</td>\n",
       "    </tr>\n",
       "    <tr>\n",
       "      <th>5</th>\n",
       "      <td>5</td>\n",
       "      <td>15295588</td>\n",
       "      <td>9780217940207</td>\n",
       "      <td>0.308271</td>\n",
       "      <td>0.695652</td>\n",
       "      <td>1</td>\n",
       "      <td>0.083333</td>\n",
       "      <td>1</td>\n",
       "      <td>0</td>\n",
       "    </tr>\n",
       "    <tr>\n",
       "      <th>6</th>\n",
       "      <td>6</td>\n",
       "      <td>15334872</td>\n",
       "      <td>9780217270052</td>\n",
       "      <td>1.000000</td>\n",
       "      <td>1.000000</td>\n",
       "      <td>1</td>\n",
       "      <td>1.000000</td>\n",
       "      <td>1</td>\n",
       "      <td>1</td>\n",
       "    </tr>\n",
       "    <tr>\n",
       "      <th>7</th>\n",
       "      <td>7</td>\n",
       "      <td>15338150</td>\n",
       "      <td>9780217304399</td>\n",
       "      <td>0.280702</td>\n",
       "      <td>1.000000</td>\n",
       "      <td>1</td>\n",
       "      <td>1.000000</td>\n",
       "      <td>1</td>\n",
       "      <td>1</td>\n",
       "    </tr>\n",
       "    <tr>\n",
       "      <th>8</th>\n",
       "      <td>8</td>\n",
       "      <td>1566948</td>\n",
       "      <td>9780070479081</td>\n",
       "      <td>0.822222</td>\n",
       "      <td>0.260870</td>\n",
       "      <td>1</td>\n",
       "      <td>0.303030</td>\n",
       "      <td>1</td>\n",
       "      <td>1</td>\n",
       "    </tr>\n",
       "    <tr>\n",
       "      <th>9</th>\n",
       "      <td>9</td>\n",
       "      <td>4564015</td>\n",
       "      <td>9780080446837</td>\n",
       "      <td>1.000000</td>\n",
       "      <td>NaN</td>\n",
       "      <td>1</td>\n",
       "      <td>0.512821</td>\n",
       "      <td>1</td>\n",
       "      <td>0</td>\n",
       "    </tr>\n",
       "  </tbody>\n",
       "</table>\n",
       "</div>"
      ],
      "text/plain": [
       "   _id  ltable.id      rtable.id  title_title_jac_qgm_3_qgm_3  \\\n",
       "0    0    4086892  9780226156439                     0.785714   \n",
       "1    1     535599  9780060655808                     0.222222   \n",
       "2    2    1386538  9780130901262                     1.000000   \n",
       "3    3   15280600  9780217455008                     0.720000   \n",
       "4    4   15286798  9780217825382                     1.000000   \n",
       "5    5   15295588  9780217940207                     0.308271   \n",
       "6    6   15334872  9780217270052                     1.000000   \n",
       "7    7   15338150  9780217304399                     0.280702   \n",
       "8    8    1566948  9780070479081                     0.822222   \n",
       "9    9    4564015  9780080446837                     1.000000   \n",
       "\n",
       "   author_author_jac_qgm_3_qgm_3  binding_binding_jac_qgm_3_qgm_3  \\\n",
       "0                       1.000000                                0   \n",
       "1                       1.000000                                0   \n",
       "2                       0.785714                                1   \n",
       "3                       0.666667                                1   \n",
       "4                       1.000000                                1   \n",
       "5                       0.695652                                1   \n",
       "6                       1.000000                                1   \n",
       "7                       1.000000                                1   \n",
       "8                       0.260870                                1   \n",
       "9                            NaN                                1   \n",
       "\n",
       "   publisher_publisher_jac_qgm_3_qgm_3  lang_lang_lev  gold  \n",
       "0                             0.518519              1     1  \n",
       "1                             0.320000              1     1  \n",
       "2                             0.733333              1     1  \n",
       "3                             1.000000              1     1  \n",
       "4                             1.000000              1     1  \n",
       "5                             0.083333              1     0  \n",
       "6                             1.000000              1     1  \n",
       "7                             1.000000              1     1  \n",
       "8                             0.303030              1     1  \n",
       "9                             0.512821              1     0  "
      ]
     },
     "execution_count": 20,
     "metadata": {},
     "output_type": "execute_result"
    },
    {
     "name": "stdout",
     "output_type": "stream",
     "text": [
      "time: 32.7 ms\n"
     ]
    }
   ],
   "source": [
    "G.head(10)"
   ]
  },
  {
   "cell_type": "code",
   "execution_count": 21,
   "metadata": {
    "collapsed": false
   },
   "outputs": [
    {
     "name": "stdout",
     "output_type": "stream",
     "text": [
      "time: 1.88 ms\n"
     ]
    }
   ],
   "source": [
    "# impute values\n",
    "G.fillna(0, inplace=True)"
   ]
  },
  {
   "cell_type": "code",
   "execution_count": 22,
   "metadata": {
    "collapsed": false
   },
   "outputs": [
    {
     "data": {
      "text/html": [
       "<div>\n",
       "<table border=\"1\" class=\"dataframe\">\n",
       "  <thead>\n",
       "    <tr style=\"text-align: right;\">\n",
       "      <th></th>\n",
       "      <th>_id</th>\n",
       "      <th>ltable.id</th>\n",
       "      <th>rtable.id</th>\n",
       "      <th>title_title_jac_qgm_3_qgm_3</th>\n",
       "      <th>author_author_jac_qgm_3_qgm_3</th>\n",
       "      <th>binding_binding_jac_qgm_3_qgm_3</th>\n",
       "      <th>publisher_publisher_jac_qgm_3_qgm_3</th>\n",
       "      <th>lang_lang_lev</th>\n",
       "      <th>gold</th>\n",
       "    </tr>\n",
       "  </thead>\n",
       "  <tbody>\n",
       "    <tr>\n",
       "      <th>0</th>\n",
       "      <td>0</td>\n",
       "      <td>4086892</td>\n",
       "      <td>9780226156439</td>\n",
       "      <td>0.785714</td>\n",
       "      <td>1.000000</td>\n",
       "      <td>0</td>\n",
       "      <td>0.518519</td>\n",
       "      <td>1</td>\n",
       "      <td>1</td>\n",
       "    </tr>\n",
       "    <tr>\n",
       "      <th>1</th>\n",
       "      <td>1</td>\n",
       "      <td>535599</td>\n",
       "      <td>9780060655808</td>\n",
       "      <td>0.222222</td>\n",
       "      <td>1.000000</td>\n",
       "      <td>0</td>\n",
       "      <td>0.320000</td>\n",
       "      <td>1</td>\n",
       "      <td>1</td>\n",
       "    </tr>\n",
       "    <tr>\n",
       "      <th>2</th>\n",
       "      <td>2</td>\n",
       "      <td>1386538</td>\n",
       "      <td>9780130901262</td>\n",
       "      <td>1.000000</td>\n",
       "      <td>0.785714</td>\n",
       "      <td>1</td>\n",
       "      <td>0.733333</td>\n",
       "      <td>1</td>\n",
       "      <td>1</td>\n",
       "    </tr>\n",
       "    <tr>\n",
       "      <th>3</th>\n",
       "      <td>3</td>\n",
       "      <td>15280600</td>\n",
       "      <td>9780217455008</td>\n",
       "      <td>0.720000</td>\n",
       "      <td>0.666667</td>\n",
       "      <td>1</td>\n",
       "      <td>1.000000</td>\n",
       "      <td>1</td>\n",
       "      <td>1</td>\n",
       "    </tr>\n",
       "    <tr>\n",
       "      <th>4</th>\n",
       "      <td>4</td>\n",
       "      <td>15286798</td>\n",
       "      <td>9780217825382</td>\n",
       "      <td>1.000000</td>\n",
       "      <td>1.000000</td>\n",
       "      <td>1</td>\n",
       "      <td>1.000000</td>\n",
       "      <td>1</td>\n",
       "      <td>1</td>\n",
       "    </tr>\n",
       "    <tr>\n",
       "      <th>5</th>\n",
       "      <td>5</td>\n",
       "      <td>15295588</td>\n",
       "      <td>9780217940207</td>\n",
       "      <td>0.308271</td>\n",
       "      <td>0.695652</td>\n",
       "      <td>1</td>\n",
       "      <td>0.083333</td>\n",
       "      <td>1</td>\n",
       "      <td>0</td>\n",
       "    </tr>\n",
       "    <tr>\n",
       "      <th>6</th>\n",
       "      <td>6</td>\n",
       "      <td>15334872</td>\n",
       "      <td>9780217270052</td>\n",
       "      <td>1.000000</td>\n",
       "      <td>1.000000</td>\n",
       "      <td>1</td>\n",
       "      <td>1.000000</td>\n",
       "      <td>1</td>\n",
       "      <td>1</td>\n",
       "    </tr>\n",
       "    <tr>\n",
       "      <th>7</th>\n",
       "      <td>7</td>\n",
       "      <td>15338150</td>\n",
       "      <td>9780217304399</td>\n",
       "      <td>0.280702</td>\n",
       "      <td>1.000000</td>\n",
       "      <td>1</td>\n",
       "      <td>1.000000</td>\n",
       "      <td>1</td>\n",
       "      <td>1</td>\n",
       "    </tr>\n",
       "    <tr>\n",
       "      <th>8</th>\n",
       "      <td>8</td>\n",
       "      <td>1566948</td>\n",
       "      <td>9780070479081</td>\n",
       "      <td>0.822222</td>\n",
       "      <td>0.260870</td>\n",
       "      <td>1</td>\n",
       "      <td>0.303030</td>\n",
       "      <td>1</td>\n",
       "      <td>1</td>\n",
       "    </tr>\n",
       "    <tr>\n",
       "      <th>9</th>\n",
       "      <td>9</td>\n",
       "      <td>4564015</td>\n",
       "      <td>9780080446837</td>\n",
       "      <td>1.000000</td>\n",
       "      <td>0.000000</td>\n",
       "      <td>1</td>\n",
       "      <td>0.512821</td>\n",
       "      <td>1</td>\n",
       "      <td>0</td>\n",
       "    </tr>\n",
       "  </tbody>\n",
       "</table>\n",
       "</div>"
      ],
      "text/plain": [
       "   _id  ltable.id      rtable.id  title_title_jac_qgm_3_qgm_3  \\\n",
       "0    0    4086892  9780226156439                     0.785714   \n",
       "1    1     535599  9780060655808                     0.222222   \n",
       "2    2    1386538  9780130901262                     1.000000   \n",
       "3    3   15280600  9780217455008                     0.720000   \n",
       "4    4   15286798  9780217825382                     1.000000   \n",
       "5    5   15295588  9780217940207                     0.308271   \n",
       "6    6   15334872  9780217270052                     1.000000   \n",
       "7    7   15338150  9780217304399                     0.280702   \n",
       "8    8    1566948  9780070479081                     0.822222   \n",
       "9    9    4564015  9780080446837                     1.000000   \n",
       "\n",
       "   author_author_jac_qgm_3_qgm_3  binding_binding_jac_qgm_3_qgm_3  \\\n",
       "0                       1.000000                                0   \n",
       "1                       1.000000                                0   \n",
       "2                       0.785714                                1   \n",
       "3                       0.666667                                1   \n",
       "4                       1.000000                                1   \n",
       "5                       0.695652                                1   \n",
       "6                       1.000000                                1   \n",
       "7                       1.000000                                1   \n",
       "8                       0.260870                                1   \n",
       "9                       0.000000                                1   \n",
       "\n",
       "   publisher_publisher_jac_qgm_3_qgm_3  lang_lang_lev  gold  \n",
       "0                             0.518519              1     1  \n",
       "1                             0.320000              1     1  \n",
       "2                             0.733333              1     1  \n",
       "3                             1.000000              1     1  \n",
       "4                             1.000000              1     1  \n",
       "5                             0.083333              1     0  \n",
       "6                             1.000000              1     1  \n",
       "7                             1.000000              1     1  \n",
       "8                             0.303030              1     1  \n",
       "9                             0.512821              1     0  "
      ]
     },
     "execution_count": 22,
     "metadata": {},
     "output_type": "execute_result"
    },
    {
     "name": "stdout",
     "output_type": "stream",
     "text": [
      "time: 15.7 ms\n"
     ]
    }
   ],
   "source": [
    "G.head(10)"
   ]
  },
  {
   "cell_type": "code",
   "execution_count": 23,
   "metadata": {
    "collapsed": false
   },
   "outputs": [
    {
     "name": "stdout",
     "output_type": "stream",
     "text": [
      "time: 3 ms\n"
     ]
    }
   ],
   "source": [
    "# Create ML matchers\n",
    "dt = mg.DTMatcher(name='DecisionTree')\n",
    "svm = mg.SVMMatcher()\n",
    "rf = mg.RFMatcher(name='RF')\n",
    "nb = mg.NBMatcher(name='NB')\n",
    "lg = mg.LogRegMatcher(name='LogReg')\n",
    "ln = mg.LinRegMatcher(name='LinReg')"
   ]
  },
  {
   "cell_type": "code",
   "execution_count": 24,
   "metadata": {
    "collapsed": false
   },
   "outputs": [
    {
     "data": {
      "text/plain": [
       "'DecisionTree'"
      ]
     },
     "execution_count": 24,
     "metadata": {},
     "output_type": "execute_result"
    },
    {
     "name": "stdout",
     "output_type": "stream",
     "text": [
      "time: 1.82 ms\n"
     ]
    }
   ],
   "source": [
    "dt.name"
   ]
  },
  {
   "cell_type": "code",
   "execution_count": 25,
   "metadata": {
    "collapsed": false
   },
   "outputs": [
    {
     "data": {
      "text/plain": [
       "'SVM_25705057710427006441'"
      ]
     },
     "execution_count": 25,
     "metadata": {},
     "output_type": "execute_result"
    },
    {
     "name": "stdout",
     "output_type": "stream",
     "text": [
      "time: 2.31 ms\n"
     ]
    }
   ],
   "source": [
    "svm.name"
   ]
  },
  {
   "cell_type": "code",
   "execution_count": 26,
   "metadata": {
    "collapsed": false
   },
   "outputs": [
    {
     "name": "stdout",
     "output_type": "stream",
     "text": [
      "time: 101 ms\n"
     ]
    }
   ],
   "source": [
    "# select the best ML matcher using CV\n",
    "result = mg.select_matcher([dt, rf, svm, nb, lg], table=G, \n",
    "        exclude_attrs=['_id', 'ltable.id', 'rtable.id', 'gold'],\n",
    "        target_attr='gold', metric='precision') \n",
    "        # metric can take precision, recall, f1"
   ]
  },
  {
   "cell_type": "code",
   "execution_count": 27,
   "metadata": {
    "collapsed": false
   },
   "outputs": [
    {
     "data": {
      "text/plain": [
       "<magellan.matcher.rfmatcher.RFMatcher at 0x128535150>"
      ]
     },
     "execution_count": 27,
     "metadata": {},
     "output_type": "execute_result"
    },
    {
     "name": "stdout",
     "output_type": "stream",
     "text": [
      "time: 4.39 ms\n"
     ]
    }
   ],
   "source": [
    "result['selected_matcher']"
   ]
  },
  {
   "cell_type": "code",
   "execution_count": 28,
   "metadata": {
    "collapsed": false
   },
   "outputs": [
    {
     "data": {
      "text/html": [
       "<div>\n",
       "<table border=\"1\" class=\"dataframe\">\n",
       "  <thead>\n",
       "    <tr style=\"text-align: right;\">\n",
       "      <th></th>\n",
       "      <th>Name</th>\n",
       "      <th>Matcher</th>\n",
       "      <th>Num folds</th>\n",
       "      <th>Fold 1</th>\n",
       "      <th>Fold 2</th>\n",
       "      <th>Fold 3</th>\n",
       "      <th>Fold 4</th>\n",
       "      <th>Fold 5</th>\n",
       "      <th>Mean score</th>\n",
       "    </tr>\n",
       "  </thead>\n",
       "  <tbody>\n",
       "    <tr>\n",
       "      <th>0</th>\n",
       "      <td>DecisionTree</td>\n",
       "      <td>&lt;magellan.matcher.dtmatcher.DTMatcher object a...</td>\n",
       "      <td>5</td>\n",
       "      <td>1.000000</td>\n",
       "      <td>1.000000</td>\n",
       "      <td>0.857143</td>\n",
       "      <td>0.777778</td>\n",
       "      <td>0.625</td>\n",
       "      <td>0.851984</td>\n",
       "    </tr>\n",
       "    <tr>\n",
       "      <th>1</th>\n",
       "      <td>RF</td>\n",
       "      <td>&lt;magellan.matcher.rfmatcher.RFMatcher object a...</td>\n",
       "      <td>5</td>\n",
       "      <td>0.833333</td>\n",
       "      <td>0.750000</td>\n",
       "      <td>1.000000</td>\n",
       "      <td>0.714286</td>\n",
       "      <td>1.000</td>\n",
       "      <td>0.859524</td>\n",
       "    </tr>\n",
       "    <tr>\n",
       "      <th>2</th>\n",
       "      <td>SVM_25705057710427006441</td>\n",
       "      <td>&lt;magellan.matcher.svmmatcher.SVMMatcher object...</td>\n",
       "      <td>5</td>\n",
       "      <td>0.666667</td>\n",
       "      <td>0.888889</td>\n",
       "      <td>0.600000</td>\n",
       "      <td>1.000000</td>\n",
       "      <td>0.600</td>\n",
       "      <td>0.751111</td>\n",
       "    </tr>\n",
       "    <tr>\n",
       "      <th>3</th>\n",
       "      <td>NB</td>\n",
       "      <td>&lt;magellan.matcher.nbmatcher.NBMatcher object a...</td>\n",
       "      <td>5</td>\n",
       "      <td>0.666667</td>\n",
       "      <td>0.700000</td>\n",
       "      <td>0.777778</td>\n",
       "      <td>0.800000</td>\n",
       "      <td>0.800</td>\n",
       "      <td>0.748889</td>\n",
       "    </tr>\n",
       "    <tr>\n",
       "      <th>4</th>\n",
       "      <td>LogReg</td>\n",
       "      <td>&lt;magellan.matcher.logregmatcher.LogRegMatcher ...</td>\n",
       "      <td>5</td>\n",
       "      <td>0.750000</td>\n",
       "      <td>0.750000</td>\n",
       "      <td>0.777778</td>\n",
       "      <td>0.888889</td>\n",
       "      <td>0.900</td>\n",
       "      <td>0.813333</td>\n",
       "    </tr>\n",
       "  </tbody>\n",
       "</table>\n",
       "</div>"
      ],
      "text/plain": [
       "                       Name  \\\n",
       "0              DecisionTree   \n",
       "1                        RF   \n",
       "2  SVM_25705057710427006441   \n",
       "3                        NB   \n",
       "4                    LogReg   \n",
       "\n",
       "                                             Matcher  Num folds    Fold 1  \\\n",
       "0  <magellan.matcher.dtmatcher.DTMatcher object a...          5  1.000000   \n",
       "1  <magellan.matcher.rfmatcher.RFMatcher object a...          5  0.833333   \n",
       "2  <magellan.matcher.svmmatcher.SVMMatcher object...          5  0.666667   \n",
       "3  <magellan.matcher.nbmatcher.NBMatcher object a...          5  0.666667   \n",
       "4  <magellan.matcher.logregmatcher.LogRegMatcher ...          5  0.750000   \n",
       "\n",
       "     Fold 2    Fold 3    Fold 4  Fold 5  Mean score  \n",
       "0  1.000000  0.857143  0.777778   0.625    0.851984  \n",
       "1  0.750000  1.000000  0.714286   1.000    0.859524  \n",
       "2  0.888889  0.600000  1.000000   0.600    0.751111  \n",
       "3  0.700000  0.777778  0.800000   0.800    0.748889  \n",
       "4  0.750000  0.777778  0.888889   0.900    0.813333  "
      ]
     },
     "execution_count": 28,
     "metadata": {},
     "output_type": "execute_result"
    },
    {
     "name": "stdout",
     "output_type": "stream",
     "text": [
      "time: 26 ms\n"
     ]
    }
   ],
   "source": [
    "result['cv_stats']"
   ]
  },
  {
   "cell_type": "code",
   "execution_count": 29,
   "metadata": {
    "collapsed": false
   },
   "outputs": [
    {
     "name": "stdout",
     "output_type": "stream",
     "text": [
      "time: 5.62 ms\n"
     ]
    }
   ],
   "source": [
    "# debug: understand why DT matcher is not performing well\n",
    "\n",
    "# Split feature vectors to train and test\n",
    "train_test = mg.train_test_split(G, train_proportion=0.7, random_state=0)\n",
    "train = train_test['train']\n",
    "test = train_test['test']"
   ]
  },
  {
   "cell_type": "code",
   "execution_count": 30,
   "metadata": {
    "collapsed": false
   },
   "outputs": [
    {
     "name": "stdout",
     "output_type": "stream",
     "text": [
      "time: 2.81 s\n"
     ]
    }
   ],
   "source": [
    "mg.vis_debug_dt(dt, train, test, \n",
    "        exclude_attrs=['_id', 'ltable.id', 'rtable.id', 'gold'],\n",
    "        target_attr='gold') "
   ]
  },
  {
   "cell_type": "code",
   "execution_count": 31,
   "metadata": {
    "collapsed": false
   },
   "outputs": [
    {
     "name": "stdout",
     "output_type": "stream",
     "text": [
      "time: 1.01 s\n"
     ]
    }
   ],
   "source": [
    "mg.vis_debug_rf(rf, train, test, \n",
    "        exclude_attrs=['_id', 'ltable.id', 'rtable.id', 'gold'],\n",
    "        target_attr='gold') "
   ]
  },
  {
   "cell_type": "code",
   "execution_count": 32,
   "metadata": {
    "collapsed": false
   },
   "outputs": [
    {
     "name": "stdout",
     "output_type": "stream",
     "text": [
      "time: 707 ms\n"
     ]
    }
   ],
   "source": [
    "# Try adding all the features\n",
    "H = mg.extract_feat_vecs(L, feature_table=feature_table, attrs_after='gold')"
   ]
  },
  {
   "cell_type": "code",
   "execution_count": 33,
   "metadata": {
    "collapsed": false
   },
   "outputs": [
    {
     "name": "stdout",
     "output_type": "stream",
     "text": [
      "time: 68.6 ms\n"
     ]
    }
   ],
   "source": [
    "# select the best ML matcher using CV\n",
    "result = mg.select_matcher([dt, rf, svm, nb, lg], table=G, \n",
    "        exclude_attrs=['_id', 'ltable.id', 'rtable.id', 'gold'],\n",
    "        target_attr='gold', metric='precision') "
   ]
  },
  {
   "cell_type": "code",
   "execution_count": 34,
   "metadata": {
    "collapsed": false
   },
   "outputs": [
    {
     "data": {
      "text/plain": [
       "<magellan.matcher.rfmatcher.RFMatcher at 0x128535150>"
      ]
     },
     "execution_count": 34,
     "metadata": {},
     "output_type": "execute_result"
    },
    {
     "name": "stdout",
     "output_type": "stream",
     "text": [
      "time: 2.65 ms\n"
     ]
    }
   ],
   "source": [
    "result['selected_matcher']"
   ]
  },
  {
   "cell_type": "code",
   "execution_count": 35,
   "metadata": {
    "collapsed": false
   },
   "outputs": [
    {
     "data": {
      "text/html": [
       "<div>\n",
       "<table border=\"1\" class=\"dataframe\">\n",
       "  <thead>\n",
       "    <tr style=\"text-align: right;\">\n",
       "      <th></th>\n",
       "      <th>Name</th>\n",
       "      <th>Matcher</th>\n",
       "      <th>Num folds</th>\n",
       "      <th>Fold 1</th>\n",
       "      <th>Fold 2</th>\n",
       "      <th>Fold 3</th>\n",
       "      <th>Fold 4</th>\n",
       "      <th>Fold 5</th>\n",
       "      <th>Mean score</th>\n",
       "    </tr>\n",
       "  </thead>\n",
       "  <tbody>\n",
       "    <tr>\n",
       "      <th>0</th>\n",
       "      <td>DecisionTree</td>\n",
       "      <td>&lt;magellan.matcher.dtmatcher.DTMatcher object a...</td>\n",
       "      <td>5</td>\n",
       "      <td>0.800000</td>\n",
       "      <td>0.888889</td>\n",
       "      <td>0.857143</td>\n",
       "      <td>0.833333</td>\n",
       "      <td>0.857143</td>\n",
       "      <td>0.847302</td>\n",
       "    </tr>\n",
       "    <tr>\n",
       "      <th>1</th>\n",
       "      <td>RF</td>\n",
       "      <td>&lt;magellan.matcher.rfmatcher.RFMatcher object a...</td>\n",
       "      <td>5</td>\n",
       "      <td>1.000000</td>\n",
       "      <td>0.857143</td>\n",
       "      <td>0.750000</td>\n",
       "      <td>0.888889</td>\n",
       "      <td>0.750000</td>\n",
       "      <td>0.849206</td>\n",
       "    </tr>\n",
       "    <tr>\n",
       "      <th>2</th>\n",
       "      <td>SVM_25705057710427006441</td>\n",
       "      <td>&lt;magellan.matcher.svmmatcher.SVMMatcher object...</td>\n",
       "      <td>5</td>\n",
       "      <td>0.500000</td>\n",
       "      <td>1.000000</td>\n",
       "      <td>0.666667</td>\n",
       "      <td>0.800000</td>\n",
       "      <td>0.700000</td>\n",
       "      <td>0.733333</td>\n",
       "    </tr>\n",
       "    <tr>\n",
       "      <th>3</th>\n",
       "      <td>NB</td>\n",
       "      <td>&lt;magellan.matcher.nbmatcher.NBMatcher object a...</td>\n",
       "      <td>5</td>\n",
       "      <td>0.900000</td>\n",
       "      <td>0.900000</td>\n",
       "      <td>0.500000</td>\n",
       "      <td>0.666667</td>\n",
       "      <td>0.700000</td>\n",
       "      <td>0.733333</td>\n",
       "    </tr>\n",
       "    <tr>\n",
       "      <th>4</th>\n",
       "      <td>LogReg</td>\n",
       "      <td>&lt;magellan.matcher.logregmatcher.LogRegMatcher ...</td>\n",
       "      <td>5</td>\n",
       "      <td>0.777778</td>\n",
       "      <td>0.888889</td>\n",
       "      <td>0.666667</td>\n",
       "      <td>0.875000</td>\n",
       "      <td>0.888889</td>\n",
       "      <td>0.819444</td>\n",
       "    </tr>\n",
       "  </tbody>\n",
       "</table>\n",
       "</div>"
      ],
      "text/plain": [
       "                       Name  \\\n",
       "0              DecisionTree   \n",
       "1                        RF   \n",
       "2  SVM_25705057710427006441   \n",
       "3                        NB   \n",
       "4                    LogReg   \n",
       "\n",
       "                                             Matcher  Num folds    Fold 1  \\\n",
       "0  <magellan.matcher.dtmatcher.DTMatcher object a...          5  0.800000   \n",
       "1  <magellan.matcher.rfmatcher.RFMatcher object a...          5  1.000000   \n",
       "2  <magellan.matcher.svmmatcher.SVMMatcher object...          5  0.500000   \n",
       "3  <magellan.matcher.nbmatcher.NBMatcher object a...          5  0.900000   \n",
       "4  <magellan.matcher.logregmatcher.LogRegMatcher ...          5  0.777778   \n",
       "\n",
       "     Fold 2    Fold 3    Fold 4    Fold 5  Mean score  \n",
       "0  0.888889  0.857143  0.833333  0.857143    0.847302  \n",
       "1  0.857143  0.750000  0.888889  0.750000    0.849206  \n",
       "2  1.000000  0.666667  0.800000  0.700000    0.733333  \n",
       "3  0.900000  0.500000  0.666667  0.700000    0.733333  \n",
       "4  0.888889  0.666667  0.875000  0.888889    0.819444  "
      ]
     },
     "execution_count": 35,
     "metadata": {},
     "output_type": "execute_result"
    },
    {
     "name": "stdout",
     "output_type": "stream",
     "text": [
      "time: 21.5 ms\n"
     ]
    }
   ],
   "source": [
    "result['cv_stats']"
   ]
  },
  {
   "cell_type": "code",
   "execution_count": 36,
   "metadata": {
    "collapsed": false
   },
   "outputs": [
    {
     "name": "stdout",
     "output_type": "stream",
     "text": [
      "time: 1.95 ms\n"
     ]
    }
   ],
   "source": [
    "# Choose DT matcher (with subset of features)\n",
    "\n",
    "# Add triggers to DT Matcher\n",
    "# Plan\n",
    "# Split G\n",
    "# G :------------------|----------------------------|--------------------|\n",
    "#   [development(60%): train(30%)  + validation(30%)]     [test(40%)]\n",
    "          \n",
    "# Use 'development' set to come up with triggers\n",
    "# Use 'test' set to evaluate ML matcher + Trigger"
   ]
  },
  {
   "cell_type": "code",
   "execution_count": 37,
   "metadata": {
    "collapsed": false
   },
   "outputs": [
    {
     "name": "stdout",
     "output_type": "stream",
     "text": [
      "time: 5.13 ms\n"
     ]
    }
   ],
   "source": [
    "development_test = mg.train_test_split(G, train_proportion=0.6, \n",
    "                                       random_state=0)\n",
    "development = development_test['train']\n",
    "test = development_test['test']"
   ]
  },
  {
   "cell_type": "code",
   "execution_count": 38,
   "metadata": {
    "collapsed": false
   },
   "outputs": [
    {
     "data": {
      "text/plain": [
       "(30, 20)"
      ]
     },
     "execution_count": 38,
     "metadata": {},
     "output_type": "execute_result"
    },
    {
     "name": "stdout",
     "output_type": "stream",
     "text": [
      "time: 2.5 ms\n"
     ]
    }
   ],
   "source": [
    "len(development), len(test)"
   ]
  },
  {
   "cell_type": "code",
   "execution_count": 39,
   "metadata": {
    "collapsed": false
   },
   "outputs": [
    {
     "data": {
      "text/html": [
       "<div>\n",
       "<table border=\"1\" class=\"dataframe\">\n",
       "  <thead>\n",
       "    <tr style=\"text-align: right;\">\n",
       "      <th></th>\n",
       "      <th>_id</th>\n",
       "      <th>ltable.id</th>\n",
       "      <th>rtable.id</th>\n",
       "      <th>title_title_jac_qgm_3_qgm_3</th>\n",
       "      <th>author_author_jac_qgm_3_qgm_3</th>\n",
       "      <th>binding_binding_jac_qgm_3_qgm_3</th>\n",
       "      <th>publisher_publisher_jac_qgm_3_qgm_3</th>\n",
       "      <th>lang_lang_lev</th>\n",
       "      <th>gold</th>\n",
       "    </tr>\n",
       "  </thead>\n",
       "  <tbody>\n",
       "    <tr>\n",
       "      <th>15</th>\n",
       "      <td>15</td>\n",
       "      <td>5087512</td>\n",
       "      <td>9780028348261</td>\n",
       "      <td>0.534483</td>\n",
       "      <td>0.6</td>\n",
       "      <td>1</td>\n",
       "      <td>0.264706</td>\n",
       "      <td>1</td>\n",
       "      <td>1</td>\n",
       "    </tr>\n",
       "    <tr>\n",
       "      <th>30</th>\n",
       "      <td>30</td>\n",
       "      <td>14022273</td>\n",
       "      <td>9780217263016</td>\n",
       "      <td>0.408759</td>\n",
       "      <td>1.0</td>\n",
       "      <td>1</td>\n",
       "      <td>1.000000</td>\n",
       "      <td>1</td>\n",
       "      <td>1</td>\n",
       "    </tr>\n",
       "  </tbody>\n",
       "</table>\n",
       "</div>"
      ],
      "text/plain": [
       "    _id  ltable.id      rtable.id  title_title_jac_qgm_3_qgm_3  \\\n",
       "15   15    5087512  9780028348261                     0.534483   \n",
       "30   30   14022273  9780217263016                     0.408759   \n",
       "\n",
       "    author_author_jac_qgm_3_qgm_3  binding_binding_jac_qgm_3_qgm_3  \\\n",
       "15                            0.6                                1   \n",
       "30                            1.0                                1   \n",
       "\n",
       "    publisher_publisher_jac_qgm_3_qgm_3  lang_lang_lev  gold  \n",
       "15                             0.264706              1     1  \n",
       "30                             1.000000              1     1  "
      ]
     },
     "execution_count": 39,
     "metadata": {},
     "output_type": "execute_result"
    },
    {
     "name": "stdout",
     "output_type": "stream",
     "text": [
      "time: 10.6 ms\n"
     ]
    }
   ],
   "source": [
    "development.head(2)"
   ]
  },
  {
   "cell_type": "code",
   "execution_count": 40,
   "metadata": {
    "collapsed": false
   },
   "outputs": [
    {
     "name": "stdout",
     "output_type": "stream",
     "text": [
      "time: 3.69 s\n"
     ]
    }
   ],
   "source": [
    "mg.vis_debug_dt(dt, development, test,\n",
    "        exclude_attrs=['_id', 'ltable.id', 'rtable.id', 'gold'],\n",
    "        target_attr='gold')"
   ]
  },
  {
   "cell_type": "code",
   "execution_count": 41,
   "metadata": {
    "collapsed": false
   },
   "outputs": [
    {
     "name": "stdout",
     "output_type": "stream",
     "text": [
      "time: 3.02 ms\n"
     ]
    }
   ],
   "source": [
    "train_validation = mg.train_test_split(development, train_proportion=0.5, \n",
    "                                       random_state=0)"
   ]
  },
  {
   "cell_type": "code",
   "execution_count": 42,
   "metadata": {
    "collapsed": false
   },
   "outputs": [
    {
     "name": "stdout",
     "output_type": "stream",
     "text": [
      "time: 1.24 ms\n"
     ]
    }
   ],
   "source": [
    "train = train_validation['train']\n",
    "validation = train_validation['test']"
   ]
  },
  {
   "cell_type": "code",
   "execution_count": 43,
   "metadata": {
    "collapsed": false
   },
   "outputs": [
    {
     "name": "stdout",
     "output_type": "stream",
     "text": [
      "time: 6.27 ms\n"
     ]
    }
   ],
   "source": [
    "dt.fit(table=train, exclude_attrs=['_id', 'ltable.id', 'rtable.id', 'gold'],\n",
    "        target_attr='gold')"
   ]
  },
  {
   "cell_type": "code",
   "execution_count": 44,
   "metadata": {
    "collapsed": false
   },
   "outputs": [
    {
     "name": "stdout",
     "output_type": "stream",
     "text": [
      "time: 20 ms\n"
     ]
    }
   ],
   "source": [
    "I = dt.predict(table=validation, \n",
    "              exclude_attrs=['_id', 'ltable.id', 'rtable.id', 'gold'],\n",
    "              target_attr='predicted', append=True, inplace=False)"
   ]
  },
  {
   "cell_type": "code",
   "execution_count": 45,
   "metadata": {
    "collapsed": false
   },
   "outputs": [
    {
     "name": "stdout",
     "output_type": "stream",
     "text": [
      "time: 8.92 ms\n"
     ]
    }
   ],
   "source": [
    "eval_summary = mg.eval_matches(I, 'gold', 'predicted')"
   ]
  },
  {
   "cell_type": "code",
   "execution_count": 46,
   "metadata": {
    "collapsed": false
   },
   "outputs": [
    {
     "data": {
      "text/plain": [
       "(0.7272727272727273, 1.0, 0.8421052631578948, 0.0, 3.0)"
      ]
     },
     "execution_count": 46,
     "metadata": {},
     "output_type": "execute_result"
    },
    {
     "name": "stdout",
     "output_type": "stream",
     "text": [
      "time: 2.22 ms\n"
     ]
    }
   ],
   "source": [
    "(eval_summary['precision'], eval_summary['recall'], eval_summary['f1'],\n",
    " eval_summary['false_neg_num'], eval_summary['false_pos_num'])"
   ]
  },
  {
   "cell_type": "code",
   "execution_count": 47,
   "metadata": {
    "collapsed": false
   },
   "outputs": [
    {
     "data": {
      "text/plain": [
       "True"
      ]
     },
     "execution_count": 47,
     "metadata": {},
     "output_type": "execute_result"
    },
    {
     "name": "stdout",
     "output_type": "stream",
     "text": [
      "time: 3.43 ms\n"
     ]
    }
   ],
   "source": [
    "# Add triggers to address false negatives\n",
    "# if authors match exactly then declare match\n",
    "pos_trigger = mg.MatchTrigger()\n",
    "pos_trigger.add_cond_rule('author_author_lev(ltuple, rtuple) == 1', \n",
    "                          feature_table=feature_table)\n",
    "pos_trigger.add_cond_status(True)\n",
    "pos_trigger.add_action(1)\n"
   ]
  },
  {
   "cell_type": "code",
   "execution_count": 48,
   "metadata": {
    "collapsed": false
   },
   "outputs": [
    {
     "name": "stdout",
     "output_type": "stream",
     "text": [
      "time: 512 ms\n"
     ]
    }
   ],
   "source": [
    "I_ = pos_trigger.execute(I, 'predicted', inplace=False)"
   ]
  },
  {
   "cell_type": "code",
   "execution_count": 49,
   "metadata": {
    "collapsed": false
   },
   "outputs": [
    {
     "data": {
      "text/plain": [
       "(0.7272727272727273, 1.0, 0.8421052631578948, 0.0, 3.0)"
      ]
     },
     "execution_count": 49,
     "metadata": {},
     "output_type": "execute_result"
    },
    {
     "name": "stdout",
     "output_type": "stream",
     "text": [
      "time: 13.5 ms\n"
     ]
    }
   ],
   "source": [
    "eval_summary = mg.eval_matches(I, 'gold', 'predicted')\n",
    "(eval_summary['precision'], eval_summary['recall'], eval_summary['f1'],\n",
    " eval_summary['false_neg_num'], eval_summary['false_pos_num'])"
   ]
  },
  {
   "cell_type": "code",
   "execution_count": 50,
   "metadata": {
    "collapsed": false
   },
   "outputs": [
    {
     "name": "stdout",
     "output_type": "stream",
     "text": [
      "time: 5.12 ms\n"
     ]
    }
   ],
   "source": [
    "# evaluate ml matcher + match trigger\n",
    "# train with development data\n",
    "dt.fit(table=development, exclude_attrs=['_id', 'ltable.id', 'rtable.id', 'gold'],\n",
    "        target_attr='gold')"
   ]
  },
  {
   "cell_type": "code",
   "execution_count": 51,
   "metadata": {
    "collapsed": false
   },
   "outputs": [
    {
     "name": "stdout",
     "output_type": "stream",
     "text": [
      "time: 21.3 ms\n"
     ]
    }
   ],
   "source": [
    "J = dt.predict(table=test, \n",
    "              exclude_attrs=['_id', 'ltable.id', 'rtable.id', 'gold'],\n",
    "              target_attr='predicted',\n",
    "              append=True, inplace=False)"
   ]
  },
  {
   "cell_type": "code",
   "execution_count": 52,
   "metadata": {
    "collapsed": false
   },
   "outputs": [
    {
     "name": "stdout",
     "output_type": "stream",
     "text": [
      "time: 9.16 ms\n"
     ]
    }
   ],
   "source": [
    "eval_summary = mg.eval_matches(J, 'gold', 'predicted')"
   ]
  },
  {
   "cell_type": "code",
   "execution_count": 53,
   "metadata": {
    "collapsed": false
   },
   "outputs": [
    {
     "data": {
      "text/plain": [
       "['prec_numerator',\n",
       " 'prec_denominator',\n",
       " 'precision',\n",
       " 'recall_numerator',\n",
       " 'recall_denominator',\n",
       " 'recall',\n",
       " 'f1',\n",
       " 'pred_pos_num',\n",
       " 'false_pos_num',\n",
       " 'false_pos_ls',\n",
       " 'pred_neg_num',\n",
       " 'false_neg_num',\n",
       " 'false_neg_ls']"
      ]
     },
     "execution_count": 53,
     "metadata": {},
     "output_type": "execute_result"
    },
    {
     "name": "stdout",
     "output_type": "stream",
     "text": [
      "time: 2.45 ms\n"
     ]
    }
   ],
   "source": [
    "eval_summary.keys()"
   ]
  },
  {
   "cell_type": "code",
   "execution_count": 54,
   "metadata": {
    "collapsed": false
   },
   "outputs": [
    {
     "data": {
      "text/plain": [
       "(0.9333333333333333, 0.8235294117647058, 0.8749999999999999, 3.0, 1.0)"
      ]
     },
     "execution_count": 54,
     "metadata": {},
     "output_type": "execute_result"
    },
    {
     "name": "stdout",
     "output_type": "stream",
     "text": [
      "time: 2.33 ms\n"
     ]
    }
   ],
   "source": [
    "(eval_summary['precision'], eval_summary['recall'], eval_summary['f1'],\n",
    " eval_summary['false_neg_num'], eval_summary['false_pos_num'])"
   ]
  },
  {
   "cell_type": "code",
   "execution_count": 55,
   "metadata": {
    "collapsed": false
   },
   "outputs": [
    {
     "name": "stdout",
     "output_type": "stream",
     "text": [
      "time: 500 ms\n"
     ]
    }
   ],
   "source": [
    "K = pos_trigger.execute(J, 'predicted', inplace=False)"
   ]
  },
  {
   "cell_type": "code",
   "execution_count": 56,
   "metadata": {
    "collapsed": false
   },
   "outputs": [
    {
     "data": {
      "text/html": [
       "<div>\n",
       "<table border=\"1\" class=\"dataframe\">\n",
       "  <thead>\n",
       "    <tr style=\"text-align: right;\">\n",
       "      <th></th>\n",
       "      <th>_id</th>\n",
       "      <th>ltable.id</th>\n",
       "      <th>rtable.id</th>\n",
       "      <th>title_title_jac_qgm_3_qgm_3</th>\n",
       "      <th>author_author_jac_qgm_3_qgm_3</th>\n",
       "      <th>binding_binding_jac_qgm_3_qgm_3</th>\n",
       "      <th>publisher_publisher_jac_qgm_3_qgm_3</th>\n",
       "      <th>lang_lang_lev</th>\n",
       "      <th>gold</th>\n",
       "      <th>predicted</th>\n",
       "    </tr>\n",
       "  </thead>\n",
       "  <tbody>\n",
       "    <tr>\n",
       "      <th>0</th>\n",
       "      <td>28</td>\n",
       "      <td>15368811</td>\n",
       "      <td>9780217110952</td>\n",
       "      <td>0.852941</td>\n",
       "      <td>1.000000</td>\n",
       "      <td>1</td>\n",
       "      <td>1.000000</td>\n",
       "      <td>1</td>\n",
       "      <td>1</td>\n",
       "      <td>1</td>\n",
       "    </tr>\n",
       "    <tr>\n",
       "      <th>1</th>\n",
       "      <td>11</td>\n",
       "      <td>5681971</td>\n",
       "      <td>9780073380339</td>\n",
       "      <td>0.807018</td>\n",
       "      <td>0.413793</td>\n",
       "      <td>0</td>\n",
       "      <td>0.200000</td>\n",
       "      <td>1</td>\n",
       "      <td>1</td>\n",
       "      <td>1</td>\n",
       "    </tr>\n",
       "    <tr>\n",
       "      <th>2</th>\n",
       "      <td>10</td>\n",
       "      <td>5514791</td>\n",
       "      <td>9780114958367</td>\n",
       "      <td>0.878049</td>\n",
       "      <td>0.000000</td>\n",
       "      <td>0</td>\n",
       "      <td>0.000000</td>\n",
       "      <td>0</td>\n",
       "      <td>0</td>\n",
       "      <td>0</td>\n",
       "    </tr>\n",
       "    <tr>\n",
       "      <th>3</th>\n",
       "      <td>41</td>\n",
       "      <td>10948704</td>\n",
       "      <td>9780131077744</td>\n",
       "      <td>0.333333</td>\n",
       "      <td>0.000000</td>\n",
       "      <td>0</td>\n",
       "      <td>0.000000</td>\n",
       "      <td>1</td>\n",
       "      <td>0</td>\n",
       "      <td>0</td>\n",
       "    </tr>\n",
       "    <tr>\n",
       "      <th>4</th>\n",
       "      <td>2</td>\n",
       "      <td>1386538</td>\n",
       "      <td>9780130901262</td>\n",
       "      <td>1.000000</td>\n",
       "      <td>0.785714</td>\n",
       "      <td>1</td>\n",
       "      <td>0.733333</td>\n",
       "      <td>1</td>\n",
       "      <td>1</td>\n",
       "      <td>1</td>\n",
       "    </tr>\n",
       "    <tr>\n",
       "      <th>5</th>\n",
       "      <td>27</td>\n",
       "      <td>15348586</td>\n",
       "      <td>9780217521376</td>\n",
       "      <td>1.000000</td>\n",
       "      <td>1.000000</td>\n",
       "      <td>1</td>\n",
       "      <td>1.000000</td>\n",
       "      <td>1</td>\n",
       "      <td>1</td>\n",
       "      <td>1</td>\n",
       "    </tr>\n",
       "    <tr>\n",
       "      <th>6</th>\n",
       "      <td>38</td>\n",
       "      <td>1581211</td>\n",
       "      <td>9780201738278</td>\n",
       "      <td>0.919355</td>\n",
       "      <td>1.000000</td>\n",
       "      <td>1</td>\n",
       "      <td>0.785714</td>\n",
       "      <td>1</td>\n",
       "      <td>1</td>\n",
       "      <td>1</td>\n",
       "    </tr>\n",
       "    <tr>\n",
       "      <th>7</th>\n",
       "      <td>31</td>\n",
       "      <td>14022804</td>\n",
       "      <td>9780217519724</td>\n",
       "      <td>0.791667</td>\n",
       "      <td>1.000000</td>\n",
       "      <td>1</td>\n",
       "      <td>1.000000</td>\n",
       "      <td>1</td>\n",
       "      <td>1</td>\n",
       "      <td>1</td>\n",
       "    </tr>\n",
       "    <tr>\n",
       "      <th>8</th>\n",
       "      <td>22</td>\n",
       "      <td>3618742</td>\n",
       "      <td>9780060837563</td>\n",
       "      <td>1.000000</td>\n",
       "      <td>1.000000</td>\n",
       "      <td>1</td>\n",
       "      <td>0.320000</td>\n",
       "      <td>1</td>\n",
       "      <td>1</td>\n",
       "      <td>1</td>\n",
       "    </tr>\n",
       "    <tr>\n",
       "      <th>9</th>\n",
       "      <td>4</td>\n",
       "      <td>15286798</td>\n",
       "      <td>9780217825382</td>\n",
       "      <td>1.000000</td>\n",
       "      <td>1.000000</td>\n",
       "      <td>1</td>\n",
       "      <td>1.000000</td>\n",
       "      <td>1</td>\n",
       "      <td>1</td>\n",
       "      <td>1</td>\n",
       "    </tr>\n",
       "    <tr>\n",
       "      <th>10</th>\n",
       "      <td>33</td>\n",
       "      <td>15283778</td>\n",
       "      <td>9780217880725</td>\n",
       "      <td>1.000000</td>\n",
       "      <td>1.000000</td>\n",
       "      <td>1</td>\n",
       "      <td>1.000000</td>\n",
       "      <td>1</td>\n",
       "      <td>1</td>\n",
       "      <td>1</td>\n",
       "    </tr>\n",
       "    <tr>\n",
       "      <th>11</th>\n",
       "      <td>35</td>\n",
       "      <td>15307220</td>\n",
       "      <td>9780217970747</td>\n",
       "      <td>1.000000</td>\n",
       "      <td>1.000000</td>\n",
       "      <td>1</td>\n",
       "      <td>1.000000</td>\n",
       "      <td>1</td>\n",
       "      <td>0</td>\n",
       "      <td>1</td>\n",
       "    </tr>\n",
       "    <tr>\n",
       "      <th>12</th>\n",
       "      <td>26</td>\n",
       "      <td>1490720</td>\n",
       "      <td>9780029066850</td>\n",
       "      <td>0.698795</td>\n",
       "      <td>1.000000</td>\n",
       "      <td>0</td>\n",
       "      <td>0.000000</td>\n",
       "      <td>1</td>\n",
       "      <td>1</td>\n",
       "      <td>1</td>\n",
       "    </tr>\n",
       "    <tr>\n",
       "      <th>13</th>\n",
       "      <td>34</td>\n",
       "      <td>15305465</td>\n",
       "      <td>9780217033985</td>\n",
       "      <td>0.298246</td>\n",
       "      <td>0.652174</td>\n",
       "      <td>1</td>\n",
       "      <td>1.000000</td>\n",
       "      <td>1</td>\n",
       "      <td>1</td>\n",
       "      <td>1</td>\n",
       "    </tr>\n",
       "    <tr>\n",
       "      <th>14</th>\n",
       "      <td>18</td>\n",
       "      <td>19747771</td>\n",
       "      <td>9780217516556</td>\n",
       "      <td>0.875000</td>\n",
       "      <td>1.000000</td>\n",
       "      <td>1</td>\n",
       "      <td>1.000000</td>\n",
       "      <td>1</td>\n",
       "      <td>1</td>\n",
       "      <td>1</td>\n",
       "    </tr>\n",
       "    <tr>\n",
       "      <th>15</th>\n",
       "      <td>7</td>\n",
       "      <td>15338150</td>\n",
       "      <td>9780217304399</td>\n",
       "      <td>0.280702</td>\n",
       "      <td>1.000000</td>\n",
       "      <td>1</td>\n",
       "      <td>1.000000</td>\n",
       "      <td>1</td>\n",
       "      <td>1</td>\n",
       "      <td>1</td>\n",
       "    </tr>\n",
       "    <tr>\n",
       "      <th>16</th>\n",
       "      <td>14</td>\n",
       "      <td>4082544</td>\n",
       "      <td>9780071451574</td>\n",
       "      <td>1.000000</td>\n",
       "      <td>1.000000</td>\n",
       "      <td>0</td>\n",
       "      <td>0.281250</td>\n",
       "      <td>1</td>\n",
       "      <td>1</td>\n",
       "      <td>1</td>\n",
       "    </tr>\n",
       "    <tr>\n",
       "      <th>17</th>\n",
       "      <td>45</td>\n",
       "      <td>15350595</td>\n",
       "      <td>9780217872232</td>\n",
       "      <td>0.274336</td>\n",
       "      <td>1.000000</td>\n",
       "      <td>1</td>\n",
       "      <td>1.000000</td>\n",
       "      <td>1</td>\n",
       "      <td>1</td>\n",
       "      <td>1</td>\n",
       "    </tr>\n",
       "    <tr>\n",
       "      <th>18</th>\n",
       "      <td>48</td>\n",
       "      <td>15373263</td>\n",
       "      <td>9780217300049</td>\n",
       "      <td>0.969697</td>\n",
       "      <td>1.000000</td>\n",
       "      <td>1</td>\n",
       "      <td>1.000000</td>\n",
       "      <td>1</td>\n",
       "      <td>1</td>\n",
       "      <td>1</td>\n",
       "    </tr>\n",
       "    <tr>\n",
       "      <th>19</th>\n",
       "      <td>29</td>\n",
       "      <td>10240412</td>\n",
       "      <td>9780199556717</td>\n",
       "      <td>1.000000</td>\n",
       "      <td>1.000000</td>\n",
       "      <td>1</td>\n",
       "      <td>0.270270</td>\n",
       "      <td>1</td>\n",
       "      <td>1</td>\n",
       "      <td>1</td>\n",
       "    </tr>\n",
       "  </tbody>\n",
       "</table>\n",
       "</div>"
      ],
      "text/plain": [
       "    _id  ltable.id      rtable.id  title_title_jac_qgm_3_qgm_3  \\\n",
       "0    28   15368811  9780217110952                     0.852941   \n",
       "1    11    5681971  9780073380339                     0.807018   \n",
       "2    10    5514791  9780114958367                     0.878049   \n",
       "3    41   10948704  9780131077744                     0.333333   \n",
       "4     2    1386538  9780130901262                     1.000000   \n",
       "5    27   15348586  9780217521376                     1.000000   \n",
       "6    38    1581211  9780201738278                     0.919355   \n",
       "7    31   14022804  9780217519724                     0.791667   \n",
       "8    22    3618742  9780060837563                     1.000000   \n",
       "9     4   15286798  9780217825382                     1.000000   \n",
       "10   33   15283778  9780217880725                     1.000000   \n",
       "11   35   15307220  9780217970747                     1.000000   \n",
       "12   26    1490720  9780029066850                     0.698795   \n",
       "13   34   15305465  9780217033985                     0.298246   \n",
       "14   18   19747771  9780217516556                     0.875000   \n",
       "15    7   15338150  9780217304399                     0.280702   \n",
       "16   14    4082544  9780071451574                     1.000000   \n",
       "17   45   15350595  9780217872232                     0.274336   \n",
       "18   48   15373263  9780217300049                     0.969697   \n",
       "19   29   10240412  9780199556717                     1.000000   \n",
       "\n",
       "    author_author_jac_qgm_3_qgm_3  binding_binding_jac_qgm_3_qgm_3  \\\n",
       "0                        1.000000                                1   \n",
       "1                        0.413793                                0   \n",
       "2                        0.000000                                0   \n",
       "3                        0.000000                                0   \n",
       "4                        0.785714                                1   \n",
       "5                        1.000000                                1   \n",
       "6                        1.000000                                1   \n",
       "7                        1.000000                                1   \n",
       "8                        1.000000                                1   \n",
       "9                        1.000000                                1   \n",
       "10                       1.000000                                1   \n",
       "11                       1.000000                                1   \n",
       "12                       1.000000                                0   \n",
       "13                       0.652174                                1   \n",
       "14                       1.000000                                1   \n",
       "15                       1.000000                                1   \n",
       "16                       1.000000                                0   \n",
       "17                       1.000000                                1   \n",
       "18                       1.000000                                1   \n",
       "19                       1.000000                                1   \n",
       "\n",
       "    publisher_publisher_jac_qgm_3_qgm_3  lang_lang_lev  gold  predicted  \n",
       "0                              1.000000              1     1          1  \n",
       "1                              0.200000              1     1          1  \n",
       "2                              0.000000              0     0          0  \n",
       "3                              0.000000              1     0          0  \n",
       "4                              0.733333              1     1          1  \n",
       "5                              1.000000              1     1          1  \n",
       "6                              0.785714              1     1          1  \n",
       "7                              1.000000              1     1          1  \n",
       "8                              0.320000              1     1          1  \n",
       "9                              1.000000              1     1          1  \n",
       "10                             1.000000              1     1          1  \n",
       "11                             1.000000              1     0          1  \n",
       "12                             0.000000              1     1          1  \n",
       "13                             1.000000              1     1          1  \n",
       "14                             1.000000              1     1          1  \n",
       "15                             1.000000              1     1          1  \n",
       "16                             0.281250              1     1          1  \n",
       "17                             1.000000              1     1          1  \n",
       "18                             1.000000              1     1          1  \n",
       "19                             0.270270              1     1          1  "
      ]
     },
     "execution_count": 56,
     "metadata": {},
     "output_type": "execute_result"
    },
    {
     "name": "stdout",
     "output_type": "stream",
     "text": [
      "time: 41.2 ms\n"
     ]
    }
   ],
   "source": [
    "K"
   ]
  },
  {
   "cell_type": "code",
   "execution_count": 57,
   "metadata": {
    "collapsed": false
   },
   "outputs": [
    {
     "name": "stdout",
     "output_type": "stream",
     "text": [
      "time: 8.77 ms\n"
     ]
    }
   ],
   "source": [
    "eval_summary = mg.eval_matches(K, 'gold', 'predicted')"
   ]
  },
  {
   "cell_type": "code",
   "execution_count": 58,
   "metadata": {
    "collapsed": false
   },
   "outputs": [
    {
     "data": {
      "text/plain": [
       "(0.9444444444444444, 1.0, 0.9714285714285714, 0.0, 1.0)"
      ]
     },
     "execution_count": 58,
     "metadata": {},
     "output_type": "execute_result"
    },
    {
     "name": "stdout",
     "output_type": "stream",
     "text": [
      "time: 2.17 ms\n"
     ]
    }
   ],
   "source": [
    "(eval_summary['precision'], eval_summary['recall'], eval_summary['f1'],\n",
    " eval_summary['false_neg_num'], eval_summary['false_pos_num'])"
   ]
  },
  {
   "cell_type": "code",
   "execution_count": 59,
   "metadata": {
    "collapsed": false
   },
   "outputs": [
    {
     "name": "stdout",
     "output_type": "stream",
     "text": [
      "time: 985 µs\n"
     ]
    }
   ],
   "source": [
    "#--------Rule-based matcher + triggers--------#\n",
    "# 1. write rules\n",
    "# 2. add triggers"
   ]
  },
  {
   "cell_type": "code",
   "execution_count": 60,
   "metadata": {
    "collapsed": false
   },
   "outputs": [
    {
     "data": {
      "text/plain": [
       "True"
      ]
     },
     "execution_count": 60,
     "metadata": {},
     "output_type": "execute_result"
    },
    {
     "name": "stdout",
     "output_type": "stream",
     "text": [
      "time: 3.28 ms\n"
     ]
    }
   ],
   "source": [
    "rm = mg.BooleanRuleMatcher()\n",
    "rm.add_rule(['title_title_jac_qgm_3_qgm_3(ltuple, rtuple) > 0.6' \n",
    "             ], \n",
    "            feature_table=feature_table)\n"
   ]
  },
  {
   "cell_type": "code",
   "execution_count": 61,
   "metadata": {
    "collapsed": false
   },
   "outputs": [
    {
     "data": {
      "text/plain": [
       "True"
      ]
     },
     "execution_count": 61,
     "metadata": {},
     "output_type": "execute_result"
    },
    {
     "name": "stdout",
     "output_type": "stream",
     "text": [
      "time: 4.6 ms\n"
     ]
    }
   ],
   "source": [
    "rm.add_rule(['author_author_jac_qgm_3_qgm_3(ltuple, rtuple) > 0.6'], \n",
    "            feature_table=f)\n",
    "rm.add_rule(['binding_binding_jac_qgm_3_qgm_3(ltuple, rtuple) > 0.5'], \n",
    "            feature_table=f)"
   ]
  },
  {
   "cell_type": "code",
   "execution_count": 62,
   "metadata": {
    "collapsed": false
   },
   "outputs": [
    {
     "name": "stdout",
     "output_type": "stream",
     "text": [
      "time: 523 ms\n"
     ]
    }
   ],
   "source": [
    "# Note here the input in candidate set !!!\n",
    "X = rm.predict(table=L, target_attr='predicted', \n",
    "               append=True, inplace=False)"
   ]
  },
  {
   "cell_type": "code",
   "execution_count": 63,
   "metadata": {
    "collapsed": false
   },
   "outputs": [
    {
     "data": {
      "text/html": [
       "<div>\n",
       "<table border=\"1\" class=\"dataframe\">\n",
       "  <thead>\n",
       "    <tr style=\"text-align: right;\">\n",
       "      <th></th>\n",
       "      <th>_id</th>\n",
       "      <th>ltable.id</th>\n",
       "      <th>rtable.id</th>\n",
       "      <th>ltable.title</th>\n",
       "      <th>ltable.author</th>\n",
       "      <th>rtable.title</th>\n",
       "      <th>rtable.author</th>\n",
       "      <th>gold</th>\n",
       "      <th>predicted</th>\n",
       "    </tr>\n",
       "  </thead>\n",
       "  <tbody>\n",
       "    <tr>\n",
       "      <th>0</th>\n",
       "      <td>0</td>\n",
       "      <td>4086892</td>\n",
       "      <td>9780226156439</td>\n",
       "      <td>The Bedtrick: Tales of Sex and Masquerade</td>\n",
       "      <td>Doniger, Wendy</td>\n",
       "      <td>Bedtrick : Tales of Sex and Masquerade</td>\n",
       "      <td>Doniger, Wendy</td>\n",
       "      <td>1</td>\n",
       "      <td>1</td>\n",
       "    </tr>\n",
       "    <tr>\n",
       "      <th>1</th>\n",
       "      <td>1</td>\n",
       "      <td>535599</td>\n",
       "      <td>9780060655808</td>\n",
       "      <td>HarperCollins Study Bible-NRSV</td>\n",
       "      <td>Meeks, Wayne A.</td>\n",
       "      <td>Harpercollins Study Bible Standard Version wit...</td>\n",
       "      <td>Meeks, Wayne A.</td>\n",
       "      <td>1</td>\n",
       "      <td>1</td>\n",
       "    </tr>\n",
       "    <tr>\n",
       "      <th>2</th>\n",
       "      <td>3</td>\n",
       "      <td>1386538</td>\n",
       "      <td>9780130901262</td>\n",
       "      <td>Adaptive Filter Theory</td>\n",
       "      <td>Haykin, Simon S.</td>\n",
       "      <td>Adaptive Filter Theory</td>\n",
       "      <td>Haykin, Simon</td>\n",
       "      <td>1</td>\n",
       "      <td>1</td>\n",
       "    </tr>\n",
       "    <tr>\n",
       "      <th>3</th>\n",
       "      <td>5</td>\n",
       "      <td>15280600</td>\n",
       "      <td>9780217455008</td>\n",
       "      <td>Catalogue of Earthquakes on the Pacific Coast,...</td>\n",
       "      <td>McAdie, Alexander</td>\n",
       "      <td>Catalogue of Earthquakes on the Pacific Coast,...</td>\n",
       "      <td>Mcadie, Alexander</td>\n",
       "      <td>1</td>\n",
       "      <td>1</td>\n",
       "    </tr>\n",
       "    <tr>\n",
       "      <th>4</th>\n",
       "      <td>6</td>\n",
       "      <td>15286798</td>\n",
       "      <td>9780217825382</td>\n",
       "      <td>Cured by an Incurable, by Crowquill and Pencil...</td>\n",
       "      <td>Pseud, Crowquill</td>\n",
       "      <td>Cured by an Incurable, by Crowquill and Pencil...</td>\n",
       "      <td>Pseud, Crowquill</td>\n",
       "      <td>1</td>\n",
       "      <td>1</td>\n",
       "    </tr>\n",
       "  </tbody>\n",
       "</table>\n",
       "</div>"
      ],
      "text/plain": [
       "   _id  ltable.id      rtable.id  \\\n",
       "0    0    4086892  9780226156439   \n",
       "1    1     535599  9780060655808   \n",
       "2    3    1386538  9780130901262   \n",
       "3    5   15280600  9780217455008   \n",
       "4    6   15286798  9780217825382   \n",
       "\n",
       "                                        ltable.title      ltable.author  \\\n",
       "0          The Bedtrick: Tales of Sex and Masquerade     Doniger, Wendy   \n",
       "1                     HarperCollins Study Bible-NRSV    Meeks, Wayne A.   \n",
       "2                             Adaptive Filter Theory   Haykin, Simon S.   \n",
       "3  Catalogue of Earthquakes on the Pacific Coast,...  McAdie, Alexander   \n",
       "4  Cured by an Incurable, by Crowquill and Pencil...   Pseud, Crowquill   \n",
       "\n",
       "                                        rtable.title      rtable.author  gold  \\\n",
       "0             Bedtrick : Tales of Sex and Masquerade     Doniger, Wendy     1   \n",
       "1  Harpercollins Study Bible Standard Version wit...    Meeks, Wayne A.     1   \n",
       "2                             Adaptive Filter Theory      Haykin, Simon     1   \n",
       "3  Catalogue of Earthquakes on the Pacific Coast,...  Mcadie, Alexander     1   \n",
       "4  Cured by an Incurable, by Crowquill and Pencil...   Pseud, Crowquill     1   \n",
       "\n",
       "   predicted  \n",
       "0          1  \n",
       "1          1  \n",
       "2          1  \n",
       "3          1  \n",
       "4          1  "
      ]
     },
     "execution_count": 63,
     "metadata": {},
     "output_type": "execute_result"
    },
    {
     "name": "stdout",
     "output_type": "stream",
     "text": [
      "time: 30.4 ms\n"
     ]
    }
   ],
   "source": [
    "X.head()"
   ]
  },
  {
   "cell_type": "code",
   "execution_count": 64,
   "metadata": {
    "collapsed": false
   },
   "outputs": [
    {
     "data": {
      "text/plain": [
       "(0.7391304347826086, 0.9444444444444444, 0.8292682926829269, 2.0, 12.0)"
      ]
     },
     "execution_count": 64,
     "metadata": {},
     "output_type": "execute_result"
    },
    {
     "name": "stdout",
     "output_type": "stream",
     "text": [
      "time: 10.3 ms\n"
     ]
    }
   ],
   "source": [
    "eval_summary = mg.eval_matches(X, 'gold', 'predicted')\n",
    "(eval_summary['precision'], eval_summary['recall'], eval_summary['f1'],\n",
    " eval_summary['false_neg_num'], eval_summary['false_pos_num'])"
   ]
  },
  {
   "cell_type": "code",
   "execution_count": 65,
   "metadata": {
    "collapsed": false
   },
   "outputs": [
    {
     "name": "stdout",
     "output_type": "stream",
     "text": [
      "time: 16.3 s\n"
     ]
    }
   ],
   "source": [
    "mg.vis_debug_rm(rm, L, 'gold', feature_table)"
   ]
  },
  {
   "cell_type": "code",
   "execution_count": 66,
   "metadata": {
    "collapsed": false
   },
   "outputs": [
    {
     "data": {
      "text/plain": [
       "True"
      ]
     },
     "execution_count": 66,
     "metadata": {},
     "output_type": "execute_result"
    },
    {
     "name": "stdout",
     "output_type": "stream",
     "text": [
      "time: 3.41 ms\n"
     ]
    }
   ],
   "source": [
    "# address false positives\n",
    "# Add triggers to address false negatives\n",
    "# if authors match exactly then declare match\n",
    "neg_trigger = mg.MatchTrigger()\n",
    "neg_trigger.add_cond_rule(['lang_lang_lev(ltuple, rtuple) > 0.5'],\n",
    "    feature_table=feature_table)\n",
    "neg_trigger.add_cond_status(False)\n",
    "neg_trigger.add_action(0)\n"
   ]
  },
  {
   "cell_type": "code",
   "execution_count": 67,
   "metadata": {
    "collapsed": false
   },
   "outputs": [
    {
     "name": "stdout",
     "output_type": "stream",
     "text": [
      "time: 518 ms\n"
     ]
    }
   ],
   "source": [
    "Y = neg_trigger.execute(X, 'predicted', inplace=False)"
   ]
  },
  {
   "cell_type": "code",
   "execution_count": 68,
   "metadata": {
    "collapsed": false
   },
   "outputs": [
    {
     "data": {
      "text/plain": [
       "(0.7727272727272727, 0.9444444444444444, 0.85, 2.0, 10.0)"
      ]
     },
     "execution_count": 68,
     "metadata": {},
     "output_type": "execute_result"
    },
    {
     "name": "stdout",
     "output_type": "stream",
     "text": [
      "time: 11.8 ms\n"
     ]
    }
   ],
   "source": [
    "eval_summary = mg.eval_matches(Y, 'gold', 'predicted')\n",
    "(eval_summary['precision'], eval_summary['recall'], eval_summary['f1'],\n",
    " eval_summary['false_neg_num'], eval_summary['false_pos_num'])"
   ]
  },
  {
   "cell_type": "code",
   "execution_count": 69,
   "metadata": {
    "collapsed": false
   },
   "outputs": [
    {
     "name": "stdout",
     "output_type": "stream",
     "text": [
      "time: 591 µs\n"
     ]
    }
   ],
   "source": [
    "# choose ml matcher + trigger"
   ]
  },
  {
   "cell_type": "code",
   "execution_count": 70,
   "metadata": {
    "collapsed": false
   },
   "outputs": [
    {
     "name": "stdout",
     "output_type": "stream",
     "text": [
      "time: 375 ms\n"
     ]
    }
   ],
   "source": [
    "M = mg.extract_feat_vecs(C, feature_table=f)"
   ]
  },
  {
   "cell_type": "code",
   "execution_count": 71,
   "metadata": {
    "collapsed": false
   },
   "outputs": [
    {
     "data": {
      "text/plain": [
       "68"
      ]
     },
     "execution_count": 71,
     "metadata": {},
     "output_type": "execute_result"
    },
    {
     "name": "stdout",
     "output_type": "stream",
     "text": [
      "time: 1.67 ms\n"
     ]
    }
   ],
   "source": [
    "len(M)"
   ]
  },
  {
   "cell_type": "code",
   "execution_count": 72,
   "metadata": {
    "collapsed": false
   },
   "outputs": [
    {
     "name": "stdout",
     "output_type": "stream",
     "text": [
      "time: 5.41 ms\n"
     ]
    }
   ],
   "source": [
    "dt.fit(table=G, exclude_attrs=['_id', 'ltable.id', 'rtable.id', 'gold'],\n",
    "        target_attr='gold')"
   ]
  },
  {
   "cell_type": "code",
   "execution_count": 73,
   "metadata": {
    "collapsed": false
   },
   "outputs": [
    {
     "name": "stdout",
     "output_type": "stream",
     "text": [
      "time: 1.52 ms\n"
     ]
    }
   ],
   "source": [
    "M.fillna(0, inplace=True)"
   ]
  },
  {
   "cell_type": "code",
   "execution_count": 74,
   "metadata": {
    "collapsed": false
   },
   "outputs": [
    {
     "name": "stdout",
     "output_type": "stream",
     "text": [
      "time: 7.12 ms\n"
     ]
    }
   ],
   "source": [
    "N = dt.predict(table=M, exclude_attrs=['_id', 'ltable.id', 'rtable.id'],\n",
    "              target_attr='predicted', append=True, inplace=False)"
   ]
  },
  {
   "cell_type": "code",
   "execution_count": 75,
   "metadata": {
    "collapsed": false
   },
   "outputs": [
    {
     "data": {
      "text/html": [
       "<div>\n",
       "<table border=\"1\" class=\"dataframe\">\n",
       "  <thead>\n",
       "    <tr style=\"text-align: right;\">\n",
       "      <th></th>\n",
       "      <th>_id</th>\n",
       "      <th>ltable.id</th>\n",
       "      <th>rtable.id</th>\n",
       "      <th>title_title_jac_qgm_3_qgm_3</th>\n",
       "      <th>author_author_jac_qgm_3_qgm_3</th>\n",
       "      <th>binding_binding_jac_qgm_3_qgm_3</th>\n",
       "      <th>publisher_publisher_jac_qgm_3_qgm_3</th>\n",
       "      <th>lang_lang_lev</th>\n",
       "      <th>predicted</th>\n",
       "    </tr>\n",
       "  </thead>\n",
       "  <tbody>\n",
       "    <tr>\n",
       "      <th>0</th>\n",
       "      <td>0</td>\n",
       "      <td>4086892</td>\n",
       "      <td>9780226156439</td>\n",
       "      <td>0.785714</td>\n",
       "      <td>1.000000</td>\n",
       "      <td>0</td>\n",
       "      <td>0.518519</td>\n",
       "      <td>1</td>\n",
       "      <td>1</td>\n",
       "    </tr>\n",
       "    <tr>\n",
       "      <th>1</th>\n",
       "      <td>1</td>\n",
       "      <td>535599</td>\n",
       "      <td>9780060655808</td>\n",
       "      <td>0.222222</td>\n",
       "      <td>1.000000</td>\n",
       "      <td>0</td>\n",
       "      <td>0.320000</td>\n",
       "      <td>1</td>\n",
       "      <td>1</td>\n",
       "    </tr>\n",
       "    <tr>\n",
       "      <th>2</th>\n",
       "      <td>2</td>\n",
       "      <td>12537042</td>\n",
       "      <td>9780030402432</td>\n",
       "      <td>0.243243</td>\n",
       "      <td>0.285714</td>\n",
       "      <td>0</td>\n",
       "      <td>0.025641</td>\n",
       "      <td>0</td>\n",
       "      <td>1</td>\n",
       "    </tr>\n",
       "    <tr>\n",
       "      <th>3</th>\n",
       "      <td>3</td>\n",
       "      <td>1386538</td>\n",
       "      <td>9780130901262</td>\n",
       "      <td>1.000000</td>\n",
       "      <td>0.785714</td>\n",
       "      <td>1</td>\n",
       "      <td>0.733333</td>\n",
       "      <td>1</td>\n",
       "      <td>1</td>\n",
       "    </tr>\n",
       "    <tr>\n",
       "      <th>4</th>\n",
       "      <td>4</td>\n",
       "      <td>13945932</td>\n",
       "      <td>9780205700424</td>\n",
       "      <td>0.375000</td>\n",
       "      <td>0.375000</td>\n",
       "      <td>0</td>\n",
       "      <td>0.733333</td>\n",
       "      <td>1</td>\n",
       "      <td>1</td>\n",
       "    </tr>\n",
       "  </tbody>\n",
       "</table>\n",
       "</div>"
      ],
      "text/plain": [
       "   _id  ltable.id      rtable.id  title_title_jac_qgm_3_qgm_3  \\\n",
       "0    0    4086892  9780226156439                     0.785714   \n",
       "1    1     535599  9780060655808                     0.222222   \n",
       "2    2   12537042  9780030402432                     0.243243   \n",
       "3    3    1386538  9780130901262                     1.000000   \n",
       "4    4   13945932  9780205700424                     0.375000   \n",
       "\n",
       "   author_author_jac_qgm_3_qgm_3  binding_binding_jac_qgm_3_qgm_3  \\\n",
       "0                       1.000000                                0   \n",
       "1                       1.000000                                0   \n",
       "2                       0.285714                                0   \n",
       "3                       0.785714                                1   \n",
       "4                       0.375000                                0   \n",
       "\n",
       "   publisher_publisher_jac_qgm_3_qgm_3  lang_lang_lev  predicted  \n",
       "0                             0.518519              1          1  \n",
       "1                             0.320000              1          1  \n",
       "2                             0.025641              0          1  \n",
       "3                             0.733333              1          1  \n",
       "4                             0.733333              1          1  "
      ]
     },
     "execution_count": 75,
     "metadata": {},
     "output_type": "execute_result"
    },
    {
     "name": "stdout",
     "output_type": "stream",
     "text": [
      "time: 12.9 ms\n"
     ]
    }
   ],
   "source": [
    "N.head()"
   ]
  },
  {
   "cell_type": "code",
   "execution_count": null,
   "metadata": {
    "collapsed": true
   },
   "outputs": [],
   "source": []
  }
 ],
 "metadata": {
  "kernelspec": {
   "display_name": "Python 2",
   "language": "python",
   "name": "python2"
  },
  "language_info": {
   "codemirror_mode": {
    "name": "ipython",
    "version": 2
   },
   "file_extension": ".py",
   "mimetype": "text/x-python",
   "name": "python",
   "nbconvert_exporter": "python",
   "pygments_lexer": "ipython2",
   "version": "2.7.10"
  }
 },
 "nbformat": 4,
 "nbformat_minor": 0
}
