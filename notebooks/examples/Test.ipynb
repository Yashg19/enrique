{
 "cells": [
  {
   "cell_type": "code",
   "execution_count": 1,
   "metadata": {
    "collapsed": false
   },
   "outputs": [],
   "source": [
    "import cython"
   ]
  },
  {
   "cell_type": "code",
   "execution_count": 2,
   "metadata": {
    "collapsed": false
   },
   "outputs": [],
   "source": [
    "%load_ext Cython\n",
    "%load_ext autotime"
   ]
  },
  {
   "cell_type": "code",
   "execution_count": 3,
   "metadata": {
    "collapsed": false
   },
   "outputs": [
    {
     "name": "stderr",
     "output_type": "stream",
     "text": [
      "DEBUG:Cloud:Log file (/Users/pradap/.picloud/cloud.log) opened\n"
     ]
    },
    {
     "name": "stdout",
     "output_type": "stream",
     "text": [
      "time: 442 ms\n"
     ]
    }
   ],
   "source": [
    "import sys\n",
    "sys.path.append('/Users/Pradap/Documents/Research/Python-Package/enrique/')\n",
    "#sys.path.append('/scratch/pradap/python-work/enrique/')\n",
    "import magellan as mg\n",
    "import re, string"
   ]
  },
  {
   "cell_type": "code",
   "execution_count": 4,
   "metadata": {
    "collapsed": false
   },
   "outputs": [
    {
     "data": {
      "text/plain": [
       "True"
      ]
     },
     "execution_count": 4,
     "metadata": {},
     "output_type": "execute_result"
    },
    {
     "name": "stdout",
     "output_type": "stream",
     "text": [
      "time: 135 ms\n"
     ]
    }
   ],
   "source": [
    "mg.init_jvm('/Library/Java/JavaVirtualMachines/jdk1.8.0_45.jdk/Contents/Home/jre/lib/server/libjvm.dylib')\n",
    "#mg.init_jvm()\n"
   ]
  },
  {
   "cell_type": "code",
   "execution_count": 5,
   "metadata": {
    "collapsed": false
   },
   "outputs": [
    {
     "name": "stdout",
     "output_type": "stream",
     "text": [
      "time: 7.66 ms\n"
     ]
    }
   ],
   "source": [
    "A = mg.load_dataset('table_A')\n",
    "B = mg.load_dataset('table_B')"
   ]
  },
  {
   "cell_type": "code",
   "execution_count": 6,
   "metadata": {
    "collapsed": false
   },
   "outputs": [
    {
     "name": "stdout",
     "output_type": "stream",
     "text": [
      "time: 1.34 ms\n"
     ]
    }
   ],
   "source": [
    "ob = mg.OverlapBlocker()"
   ]
  },
  {
   "cell_type": "code",
   "execution_count": 7,
   "metadata": {
    "collapsed": false
   },
   "outputs": [
    {
     "name": "stdout",
     "output_type": "stream",
     "text": [
      "Creating inverted index \n",
      "Done\n",
      "time: 114 ms\n"
     ]
    }
   ],
   "source": [
    "C = ob.block_tables(A, B, 'address', 'address', l_output_attrs=['name'], r_output_attrs=['name'], overlap_size=4)"
   ]
  },
  {
   "cell_type": "code",
   "execution_count": 8,
   "metadata": {
    "collapsed": false
   },
   "outputs": [
    {
     "data": {
      "text/html": [
       "<div>\n",
       "<table border=\"1\" class=\"dataframe\">\n",
       "  <thead>\n",
       "    <tr style=\"text-align: right;\">\n",
       "      <th></th>\n",
       "      <th>_id</th>\n",
       "      <th>ltable.ID</th>\n",
       "      <th>rtable.ID</th>\n",
       "      <th>ltable.name</th>\n",
       "      <th>rtable.name</th>\n",
       "    </tr>\n",
       "  </thead>\n",
       "  <tbody>\n",
       "    <tr>\n",
       "      <th>0</th>\n",
       "      <td>0</td>\n",
       "      <td>a2</td>\n",
       "      <td>b3</td>\n",
       "      <td>Michael Franklin</td>\n",
       "      <td>Mike Franklin</td>\n",
       "    </tr>\n",
       "    <tr>\n",
       "      <th>0</th>\n",
       "      <td>1</td>\n",
       "      <td>a3</td>\n",
       "      <td>b2</td>\n",
       "      <td>William Bridge</td>\n",
       "      <td>Bill Bridge</td>\n",
       "    </tr>\n",
       "  </tbody>\n",
       "</table>\n",
       "</div>"
      ],
      "text/plain": [
       "   _id ltable.ID rtable.ID       ltable.name    rtable.name\n",
       "0    0        a2        b3  Michael Franklin  Mike Franklin\n",
       "0    1        a3        b2    William Bridge    Bill Bridge"
      ]
     },
     "execution_count": 8,
     "metadata": {},
     "output_type": "execute_result"
    },
    {
     "name": "stdout",
     "output_type": "stream",
     "text": [
      "time: 11.9 ms\n"
     ]
    }
   ],
   "source": [
    "C"
   ]
  },
  {
   "cell_type": "code",
   "execution_count": 9,
   "metadata": {
    "collapsed": false
   },
   "outputs": [
    {
     "name": "stdout",
     "output_type": "stream",
     "text": [
      "time: 46.2 ms\n"
     ]
    }
   ],
   "source": [
    "D = mg.debug_blocker(A, B, C)"
   ]
  },
  {
   "cell_type": "code",
   "execution_count": 10,
   "metadata": {
    "collapsed": false
   },
   "outputs": [
    {
     "data": {
      "text/html": [
       "<div>\n",
       "<table border=\"1\" class=\"dataframe\">\n",
       "  <thead>\n",
       "    <tr style=\"text-align: right;\">\n",
       "      <th></th>\n",
       "      <th>_id</th>\n",
       "      <th>similarity</th>\n",
       "      <th>ltable.ID</th>\n",
       "      <th>rtable.ID</th>\n",
       "      <th>ltable.name</th>\n",
       "      <th>rtable.name</th>\n",
       "      <th>ltable.address</th>\n",
       "      <th>rtable.address</th>\n",
       "    </tr>\n",
       "  </thead>\n",
       "  <tbody>\n",
       "    <tr>\n",
       "      <th>0</th>\n",
       "      <td>0</td>\n",
       "      <td>0.467742</td>\n",
       "      <td>a5</td>\n",
       "      <td>b5</td>\n",
       "      <td>Alphonse Kemper</td>\n",
       "      <td>Alfons Kemper</td>\n",
       "      <td>1702 Post Street, San Francisco</td>\n",
       "      <td>170 Post St, Apt 4,  San Francisco</td>\n",
       "    </tr>\n",
       "    <tr>\n",
       "      <th>1</th>\n",
       "      <td>1</td>\n",
       "      <td>0.321429</td>\n",
       "      <td>a1</td>\n",
       "      <td>b3</td>\n",
       "      <td>Kevin Smith</td>\n",
       "      <td>Mike Franklin</td>\n",
       "      <td>607 From St, San Francisco</td>\n",
       "      <td>1652 Stockton St, San Francisco</td>\n",
       "    </tr>\n",
       "    <tr>\n",
       "      <th>2</th>\n",
       "      <td>2</td>\n",
       "      <td>0.313433</td>\n",
       "      <td>a2</td>\n",
       "      <td>b6</td>\n",
       "      <td>Michael Franklin</td>\n",
       "      <td>Michael Brodie</td>\n",
       "      <td>1652 Stockton St, San Francisco</td>\n",
       "      <td>133 Clement Street, San Francisco</td>\n",
       "    </tr>\n",
       "    <tr>\n",
       "      <th>3</th>\n",
       "      <td>3</td>\n",
       "      <td>0.300000</td>\n",
       "      <td>a5</td>\n",
       "      <td>b6</td>\n",
       "      <td>Alphonse Kemper</td>\n",
       "      <td>Michael Brodie</td>\n",
       "      <td>1702 Post Street, San Francisco</td>\n",
       "      <td>133 Clement Street, San Francisco</td>\n",
       "    </tr>\n",
       "    <tr>\n",
       "      <th>4</th>\n",
       "      <td>4</td>\n",
       "      <td>0.295082</td>\n",
       "      <td>a4</td>\n",
       "      <td>b2</td>\n",
       "      <td>Binto George</td>\n",
       "      <td>Bill Bridge</td>\n",
       "      <td>423 Powell St, San Francisco</td>\n",
       "      <td>3131 Webster St, San Francisco</td>\n",
       "    </tr>\n",
       "    <tr>\n",
       "      <th>5</th>\n",
       "      <td>5</td>\n",
       "      <td>0.275862</td>\n",
       "      <td>a1</td>\n",
       "      <td>b1</td>\n",
       "      <td>Kevin Smith</td>\n",
       "      <td>Mark Levene</td>\n",
       "      <td>607 From St, San Francisco</td>\n",
       "      <td>108 Clement St, San Francisco</td>\n",
       "    </tr>\n",
       "    <tr>\n",
       "      <th>6</th>\n",
       "      <td>6</td>\n",
       "      <td>0.271186</td>\n",
       "      <td>a1</td>\n",
       "      <td>b2</td>\n",
       "      <td>Kevin Smith</td>\n",
       "      <td>Bill Bridge</td>\n",
       "      <td>607 From St, San Francisco</td>\n",
       "      <td>3131 Webster St, San Francisco</td>\n",
       "    </tr>\n",
       "    <tr>\n",
       "      <th>7</th>\n",
       "      <td>7</td>\n",
       "      <td>0.258065</td>\n",
       "      <td>a4</td>\n",
       "      <td>b3</td>\n",
       "      <td>Binto George</td>\n",
       "      <td>Mike Franklin</td>\n",
       "      <td>423 Powell St, San Francisco</td>\n",
       "      <td>1652 Stockton St, San Francisco</td>\n",
       "    </tr>\n",
       "    <tr>\n",
       "      <th>8</th>\n",
       "      <td>8</td>\n",
       "      <td>0.258065</td>\n",
       "      <td>a4</td>\n",
       "      <td>b1</td>\n",
       "      <td>Binto George</td>\n",
       "      <td>Mark Levene</td>\n",
       "      <td>423 Powell St, San Francisco</td>\n",
       "      <td>108 Clement St, San Francisco</td>\n",
       "    </tr>\n",
       "    <tr>\n",
       "      <th>9</th>\n",
       "      <td>9</td>\n",
       "      <td>0.246154</td>\n",
       "      <td>a2</td>\n",
       "      <td>b1</td>\n",
       "      <td>Michael Franklin</td>\n",
       "      <td>Mark Levene</td>\n",
       "      <td>1652 Stockton St, San Francisco</td>\n",
       "      <td>108 Clement St, San Francisco</td>\n",
       "    </tr>\n",
       "    <tr>\n",
       "      <th>10</th>\n",
       "      <td>10</td>\n",
       "      <td>0.242424</td>\n",
       "      <td>a3</td>\n",
       "      <td>b1</td>\n",
       "      <td>William Bridge</td>\n",
       "      <td>Mark Levene</td>\n",
       "      <td>3131 Webster St, San Francisco</td>\n",
       "      <td>108 Clement St, San Francisco</td>\n",
       "    </tr>\n",
       "    <tr>\n",
       "      <th>11</th>\n",
       "      <td>11</td>\n",
       "      <td>0.242424</td>\n",
       "      <td>a2</td>\n",
       "      <td>b2</td>\n",
       "      <td>Michael Franklin</td>\n",
       "      <td>Bill Bridge</td>\n",
       "      <td>1652 Stockton St, San Francisco</td>\n",
       "      <td>3131 Webster St, San Francisco</td>\n",
       "    </tr>\n",
       "    <tr>\n",
       "      <th>12</th>\n",
       "      <td>12</td>\n",
       "      <td>0.242424</td>\n",
       "      <td>a3</td>\n",
       "      <td>b3</td>\n",
       "      <td>William Bridge</td>\n",
       "      <td>Mike Franklin</td>\n",
       "      <td>3131 Webster St, San Francisco</td>\n",
       "      <td>1652 Stockton St, San Francisco</td>\n",
       "    </tr>\n",
       "    <tr>\n",
       "      <th>13</th>\n",
       "      <td>13</td>\n",
       "      <td>0.237288</td>\n",
       "      <td>a1</td>\n",
       "      <td>b4</td>\n",
       "      <td>Kevin Smith</td>\n",
       "      <td>Joseph Kuan</td>\n",
       "      <td>607 From St, San Francisco</td>\n",
       "      <td>108 South Park, San Francisco</td>\n",
       "    </tr>\n",
       "    <tr>\n",
       "      <th>14</th>\n",
       "      <td>14</td>\n",
       "      <td>0.235294</td>\n",
       "      <td>a5</td>\n",
       "      <td>b1</td>\n",
       "      <td>Alphonse Kemper</td>\n",
       "      <td>Mark Levene</td>\n",
       "      <td>1702 Post Street, San Francisco</td>\n",
       "      <td>108 Clement St, San Francisco</td>\n",
       "    </tr>\n",
       "    <tr>\n",
       "      <th>15</th>\n",
       "      <td>15</td>\n",
       "      <td>0.231884</td>\n",
       "      <td>a4</td>\n",
       "      <td>b5</td>\n",
       "      <td>Binto George</td>\n",
       "      <td>Alfons Kemper</td>\n",
       "      <td>423 Powell St, San Francisco</td>\n",
       "      <td>170 Post St, Apt 4,  San Francisco</td>\n",
       "    </tr>\n",
       "    <tr>\n",
       "      <th>16</th>\n",
       "      <td>16</td>\n",
       "      <td>0.231884</td>\n",
       "      <td>a5</td>\n",
       "      <td>b2</td>\n",
       "      <td>Alphonse Kemper</td>\n",
       "      <td>Bill Bridge</td>\n",
       "      <td>1702 Post Street, San Francisco</td>\n",
       "      <td>3131 Webster St, San Francisco</td>\n",
       "    </tr>\n",
       "    <tr>\n",
       "      <th>17</th>\n",
       "      <td>17</td>\n",
       "      <td>0.227273</td>\n",
       "      <td>a1</td>\n",
       "      <td>b6</td>\n",
       "      <td>Kevin Smith</td>\n",
       "      <td>Michael Brodie</td>\n",
       "      <td>607 From St, San Francisco</td>\n",
       "      <td>133 Clement Street, San Francisco</td>\n",
       "    </tr>\n",
       "    <tr>\n",
       "      <th>18</th>\n",
       "      <td>18</td>\n",
       "      <td>0.227273</td>\n",
       "      <td>a1</td>\n",
       "      <td>b5</td>\n",
       "      <td>Kevin Smith</td>\n",
       "      <td>Alfons Kemper</td>\n",
       "      <td>607 From St, San Francisco</td>\n",
       "      <td>170 Post St, Apt 4,  San Francisco</td>\n",
       "    </tr>\n",
       "    <tr>\n",
       "      <th>19</th>\n",
       "      <td>19</td>\n",
       "      <td>0.219178</td>\n",
       "      <td>a3</td>\n",
       "      <td>b6</td>\n",
       "      <td>William Bridge</td>\n",
       "      <td>Michael Brodie</td>\n",
       "      <td>3131 Webster St, San Francisco</td>\n",
       "      <td>133 Clement Street, San Francisco</td>\n",
       "    </tr>\n",
       "    <tr>\n",
       "      <th>20</th>\n",
       "      <td>20</td>\n",
       "      <td>0.219178</td>\n",
       "      <td>a3</td>\n",
       "      <td>b5</td>\n",
       "      <td>William Bridge</td>\n",
       "      <td>Alfons Kemper</td>\n",
       "      <td>3131 Webster St, San Francisco</td>\n",
       "      <td>170 Post St, Apt 4,  San Francisco</td>\n",
       "    </tr>\n",
       "    <tr>\n",
       "      <th>21</th>\n",
       "      <td>21</td>\n",
       "      <td>0.217391</td>\n",
       "      <td>a5</td>\n",
       "      <td>b3</td>\n",
       "      <td>Alphonse Kemper</td>\n",
       "      <td>Mike Franklin</td>\n",
       "      <td>1702 Post Street, San Francisco</td>\n",
       "      <td>1652 Stockton St, San Francisco</td>\n",
       "    </tr>\n",
       "    <tr>\n",
       "      <th>22</th>\n",
       "      <td>22</td>\n",
       "      <td>0.214286</td>\n",
       "      <td>a4</td>\n",
       "      <td>b6</td>\n",
       "      <td>Binto George</td>\n",
       "      <td>Michael Brodie</td>\n",
       "      <td>423 Powell St, San Francisco</td>\n",
       "      <td>133 Clement Street, San Francisco</td>\n",
       "    </tr>\n",
       "    <tr>\n",
       "      <th>23</th>\n",
       "      <td>23</td>\n",
       "      <td>0.212121</td>\n",
       "      <td>a2</td>\n",
       "      <td>b4</td>\n",
       "      <td>Michael Franklin</td>\n",
       "      <td>Joseph Kuan</td>\n",
       "      <td>1652 Stockton St, San Francisco</td>\n",
       "      <td>108 South Park, San Francisco</td>\n",
       "    </tr>\n",
       "    <tr>\n",
       "      <th>24</th>\n",
       "      <td>24</td>\n",
       "      <td>0.205479</td>\n",
       "      <td>a2</td>\n",
       "      <td>b5</td>\n",
       "      <td>Michael Franklin</td>\n",
       "      <td>Alfons Kemper</td>\n",
       "      <td>1652 Stockton St, San Francisco</td>\n",
       "      <td>170 Post St, Apt 4,  San Francisco</td>\n",
       "    </tr>\n",
       "    <tr>\n",
       "      <th>25</th>\n",
       "      <td>25</td>\n",
       "      <td>0.203125</td>\n",
       "      <td>a4</td>\n",
       "      <td>b4</td>\n",
       "      <td>Binto George</td>\n",
       "      <td>Joseph Kuan</td>\n",
       "      <td>423 Powell St, San Francisco</td>\n",
       "      <td>108 South Park, San Francisco</td>\n",
       "    </tr>\n",
       "    <tr>\n",
       "      <th>26</th>\n",
       "      <td>26</td>\n",
       "      <td>0.191176</td>\n",
       "      <td>a3</td>\n",
       "      <td>b4</td>\n",
       "      <td>William Bridge</td>\n",
       "      <td>Joseph Kuan</td>\n",
       "      <td>3131 Webster St, San Francisco</td>\n",
       "      <td>108 South Park, San Francisco</td>\n",
       "    </tr>\n",
       "    <tr>\n",
       "      <th>27</th>\n",
       "      <td>27</td>\n",
       "      <td>0.185714</td>\n",
       "      <td>a5</td>\n",
       "      <td>b4</td>\n",
       "      <td>Alphonse Kemper</td>\n",
       "      <td>Joseph Kuan</td>\n",
       "      <td>1702 Post Street, San Francisco</td>\n",
       "      <td>108 South Park, San Francisco</td>\n",
       "    </tr>\n",
       "  </tbody>\n",
       "</table>\n",
       "</div>"
      ],
      "text/plain": [
       "    _id  similarity ltable.ID rtable.ID       ltable.name     rtable.name  \\\n",
       "0     0    0.467742        a5        b5   Alphonse Kemper   Alfons Kemper   \n",
       "1     1    0.321429        a1        b3       Kevin Smith   Mike Franklin   \n",
       "2     2    0.313433        a2        b6  Michael Franklin  Michael Brodie   \n",
       "3     3    0.300000        a5        b6   Alphonse Kemper  Michael Brodie   \n",
       "4     4    0.295082        a4        b2      Binto George     Bill Bridge   \n",
       "5     5    0.275862        a1        b1       Kevin Smith     Mark Levene   \n",
       "6     6    0.271186        a1        b2       Kevin Smith     Bill Bridge   \n",
       "7     7    0.258065        a4        b3      Binto George   Mike Franklin   \n",
       "8     8    0.258065        a4        b1      Binto George     Mark Levene   \n",
       "9     9    0.246154        a2        b1  Michael Franklin     Mark Levene   \n",
       "10   10    0.242424        a3        b1    William Bridge     Mark Levene   \n",
       "11   11    0.242424        a2        b2  Michael Franklin     Bill Bridge   \n",
       "12   12    0.242424        a3        b3    William Bridge   Mike Franklin   \n",
       "13   13    0.237288        a1        b4       Kevin Smith     Joseph Kuan   \n",
       "14   14    0.235294        a5        b1   Alphonse Kemper     Mark Levene   \n",
       "15   15    0.231884        a4        b5      Binto George   Alfons Kemper   \n",
       "16   16    0.231884        a5        b2   Alphonse Kemper     Bill Bridge   \n",
       "17   17    0.227273        a1        b6       Kevin Smith  Michael Brodie   \n",
       "18   18    0.227273        a1        b5       Kevin Smith   Alfons Kemper   \n",
       "19   19    0.219178        a3        b6    William Bridge  Michael Brodie   \n",
       "20   20    0.219178        a3        b5    William Bridge   Alfons Kemper   \n",
       "21   21    0.217391        a5        b3   Alphonse Kemper   Mike Franklin   \n",
       "22   22    0.214286        a4        b6      Binto George  Michael Brodie   \n",
       "23   23    0.212121        a2        b4  Michael Franklin     Joseph Kuan   \n",
       "24   24    0.205479        a2        b5  Michael Franklin   Alfons Kemper   \n",
       "25   25    0.203125        a4        b4      Binto George     Joseph Kuan   \n",
       "26   26    0.191176        a3        b4    William Bridge     Joseph Kuan   \n",
       "27   27    0.185714        a5        b4   Alphonse Kemper     Joseph Kuan   \n",
       "\n",
       "                     ltable.address                      rtable.address  \n",
       "0   1702 Post Street, San Francisco  170 Post St, Apt 4,  San Francisco  \n",
       "1        607 From St, San Francisco     1652 Stockton St, San Francisco  \n",
       "2   1652 Stockton St, San Francisco   133 Clement Street, San Francisco  \n",
       "3   1702 Post Street, San Francisco   133 Clement Street, San Francisco  \n",
       "4      423 Powell St, San Francisco      3131 Webster St, San Francisco  \n",
       "5        607 From St, San Francisco       108 Clement St, San Francisco  \n",
       "6        607 From St, San Francisco      3131 Webster St, San Francisco  \n",
       "7      423 Powell St, San Francisco     1652 Stockton St, San Francisco  \n",
       "8      423 Powell St, San Francisco       108 Clement St, San Francisco  \n",
       "9   1652 Stockton St, San Francisco       108 Clement St, San Francisco  \n",
       "10   3131 Webster St, San Francisco       108 Clement St, San Francisco  \n",
       "11  1652 Stockton St, San Francisco      3131 Webster St, San Francisco  \n",
       "12   3131 Webster St, San Francisco     1652 Stockton St, San Francisco  \n",
       "13       607 From St, San Francisco       108 South Park, San Francisco  \n",
       "14  1702 Post Street, San Francisco       108 Clement St, San Francisco  \n",
       "15     423 Powell St, San Francisco  170 Post St, Apt 4,  San Francisco  \n",
       "16  1702 Post Street, San Francisco      3131 Webster St, San Francisco  \n",
       "17       607 From St, San Francisco   133 Clement Street, San Francisco  \n",
       "18       607 From St, San Francisco  170 Post St, Apt 4,  San Francisco  \n",
       "19   3131 Webster St, San Francisco   133 Clement Street, San Francisco  \n",
       "20   3131 Webster St, San Francisco  170 Post St, Apt 4,  San Francisco  \n",
       "21  1702 Post Street, San Francisco     1652 Stockton St, San Francisco  \n",
       "22     423 Powell St, San Francisco   133 Clement Street, San Francisco  \n",
       "23  1652 Stockton St, San Francisco       108 South Park, San Francisco  \n",
       "24  1652 Stockton St, San Francisco  170 Post St, Apt 4,  San Francisco  \n",
       "25     423 Powell St, San Francisco       108 South Park, San Francisco  \n",
       "26   3131 Webster St, San Francisco       108 South Park, San Francisco  \n",
       "27  1702 Post Street, San Francisco       108 South Park, San Francisco  "
      ]
     },
     "execution_count": 10,
     "metadata": {},
     "output_type": "execute_result"
    },
    {
     "name": "stdout",
     "output_type": "stream",
     "text": [
      "time: 71 ms\n"
     ]
    }
   ],
   "source": [
    "D"
   ]
  },
  {
   "cell_type": "code",
   "execution_count": 11,
   "metadata": {
    "collapsed": false
   },
   "outputs": [
    {
     "name": "stderr",
     "output_type": "stream",
     "text": [
      "WARNING:magellan.feature.autofeaturegen:address type and address type are different\n"
     ]
    },
    {
     "name": "stdout",
     "output_type": "stream",
     "text": [
      "time: 15.1 ms\n"
     ]
    }
   ],
   "source": [
    "F = mg.get_features_for_blocking(A, B)"
   ]
  },
  {
   "cell_type": "code",
   "execution_count": 12,
   "metadata": {
    "collapsed": false
   },
   "outputs": [
    {
     "data": {
      "text/html": [
       "<div>\n",
       "<table border=\"1\" class=\"dataframe\">\n",
       "  <thead>\n",
       "    <tr style=\"text-align: right;\">\n",
       "      <th></th>\n",
       "      <th>feature_name</th>\n",
       "      <th>left_attribute</th>\n",
       "      <th>right_attribute</th>\n",
       "      <th>left_attr_tokenizer</th>\n",
       "      <th>right_attr_tokenizer</th>\n",
       "      <th>simfunction</th>\n",
       "      <th>function</th>\n",
       "      <th>function_source</th>\n",
       "    </tr>\n",
       "  </thead>\n",
       "  <tbody>\n",
       "    <tr>\n",
       "      <th>0</th>\n",
       "      <td>ID_ID_lev</td>\n",
       "      <td>ID</td>\n",
       "      <td>ID</td>\n",
       "      <td>None</td>\n",
       "      <td>None</td>\n",
       "      <td>lev</td>\n",
       "      <td>&lt;function ID_ID_lev at 0x120ae5230&gt;</td>\n",
       "      <td>from magellan.feature.simfunctions import *\\nf...</td>\n",
       "    </tr>\n",
       "    <tr>\n",
       "      <th>1</th>\n",
       "      <td>ID_ID_jar</td>\n",
       "      <td>ID</td>\n",
       "      <td>ID</td>\n",
       "      <td>None</td>\n",
       "      <td>None</td>\n",
       "      <td>jaro</td>\n",
       "      <td>&lt;function ID_ID_jar at 0x120ae5a28&gt;</td>\n",
       "      <td>from magellan.feature.simfunctions import *\\nf...</td>\n",
       "    </tr>\n",
       "    <tr>\n",
       "      <th>2</th>\n",
       "      <td>ID_ID_jwn</td>\n",
       "      <td>ID</td>\n",
       "      <td>ID</td>\n",
       "      <td>None</td>\n",
       "      <td>None</td>\n",
       "      <td>jaro_winkler</td>\n",
       "      <td>&lt;function ID_ID_jwn at 0x120ae5aa0&gt;</td>\n",
       "      <td>from magellan.feature.simfunctions import *\\nf...</td>\n",
       "    </tr>\n",
       "    <tr>\n",
       "      <th>3</th>\n",
       "      <td>ID_ID_sdx</td>\n",
       "      <td>ID</td>\n",
       "      <td>ID</td>\n",
       "      <td>None</td>\n",
       "      <td>None</td>\n",
       "      <td>soundex</td>\n",
       "      <td>&lt;function ID_ID_sdx at 0x120ae5b18&gt;</td>\n",
       "      <td>from magellan.feature.simfunctions import *\\nf...</td>\n",
       "    </tr>\n",
       "    <tr>\n",
       "      <th>4</th>\n",
       "      <td>ID_ID_exm</td>\n",
       "      <td>ID</td>\n",
       "      <td>ID</td>\n",
       "      <td>None</td>\n",
       "      <td>None</td>\n",
       "      <td>exact_match</td>\n",
       "      <td>&lt;function ID_ID_exm at 0x120ae5b90&gt;</td>\n",
       "      <td>from magellan.feature.simfunctions import *\\nf...</td>\n",
       "    </tr>\n",
       "    <tr>\n",
       "      <th>5</th>\n",
       "      <td>ID_ID_jac_qgm_3_qgm_3</td>\n",
       "      <td>ID</td>\n",
       "      <td>ID</td>\n",
       "      <td>qgm_3</td>\n",
       "      <td>qgm_3</td>\n",
       "      <td>jaccard</td>\n",
       "      <td>&lt;function ID_ID_jac_qgm_3_qgm_3 at 0x120ae5c08&gt;</td>\n",
       "      <td>from magellan.feature.simfunctions import *\\nf...</td>\n",
       "    </tr>\n",
       "    <tr>\n",
       "      <th>6</th>\n",
       "      <td>name_name_jac_qgm_3_qgm_3</td>\n",
       "      <td>name</td>\n",
       "      <td>name</td>\n",
       "      <td>qgm_3</td>\n",
       "      <td>qgm_3</td>\n",
       "      <td>jaccard</td>\n",
       "      <td>&lt;function name_name_jac_qgm_3_qgm_3 at 0x120ae...</td>\n",
       "      <td>from magellan.feature.simfunctions import *\\nf...</td>\n",
       "    </tr>\n",
       "    <tr>\n",
       "      <th>7</th>\n",
       "      <td>name_name_cos_dlm_dc0_dlm_dc0</td>\n",
       "      <td>name</td>\n",
       "      <td>name</td>\n",
       "      <td>dlm_dc0</td>\n",
       "      <td>dlm_dc0</td>\n",
       "      <td>cosine</td>\n",
       "      <td>&lt;function name_name_cos_dlm_dc0_dlm_dc0 at 0x1...</td>\n",
       "      <td>from magellan.feature.simfunctions import *\\nf...</td>\n",
       "    </tr>\n",
       "    <tr>\n",
       "      <th>8</th>\n",
       "      <td>name_name_jac_dlm_dc0_dlm_dc0</td>\n",
       "      <td>name</td>\n",
       "      <td>name</td>\n",
       "      <td>dlm_dc0</td>\n",
       "      <td>dlm_dc0</td>\n",
       "      <td>jaccard</td>\n",
       "      <td>&lt;function name_name_jac_dlm_dc0_dlm_dc0 at 0x1...</td>\n",
       "      <td>from magellan.feature.simfunctions import *\\nf...</td>\n",
       "    </tr>\n",
       "    <tr>\n",
       "      <th>9</th>\n",
       "      <td>name_name_mel</td>\n",
       "      <td>name</td>\n",
       "      <td>name</td>\n",
       "      <td>None</td>\n",
       "      <td>None</td>\n",
       "      <td>monge_elkan</td>\n",
       "      <td>&lt;function name_name_mel at 0x120ae5de8&gt;</td>\n",
       "      <td>from magellan.feature.simfunctions import *\\nf...</td>\n",
       "    </tr>\n",
       "    <tr>\n",
       "      <th>10</th>\n",
       "      <td>name_name_nmw</td>\n",
       "      <td>name</td>\n",
       "      <td>name</td>\n",
       "      <td>None</td>\n",
       "      <td>None</td>\n",
       "      <td>needleman_wunsch</td>\n",
       "      <td>&lt;function name_name_nmw at 0x120ae5e60&gt;</td>\n",
       "      <td>from magellan.feature.simfunctions import *\\nf...</td>\n",
       "    </tr>\n",
       "    <tr>\n",
       "      <th>11</th>\n",
       "      <td>name_name_sw</td>\n",
       "      <td>name</td>\n",
       "      <td>name</td>\n",
       "      <td>None</td>\n",
       "      <td>None</td>\n",
       "      <td>smith_waterman</td>\n",
       "      <td>&lt;function name_name_sw at 0x120ae5ed8&gt;</td>\n",
       "      <td>from magellan.feature.simfunctions import *\\nf...</td>\n",
       "    </tr>\n",
       "    <tr>\n",
       "      <th>12</th>\n",
       "      <td>name_name_swg</td>\n",
       "      <td>name</td>\n",
       "      <td>name</td>\n",
       "      <td>None</td>\n",
       "      <td>None</td>\n",
       "      <td>smith_waterman_gotoh</td>\n",
       "      <td>&lt;function name_name_swg at 0x120ae5f50&gt;</td>\n",
       "      <td>from magellan.feature.simfunctions import *\\nf...</td>\n",
       "    </tr>\n",
       "    <tr>\n",
       "      <th>13</th>\n",
       "      <td>birth_year_birth_year_exm</td>\n",
       "      <td>birth_year</td>\n",
       "      <td>birth_year</td>\n",
       "      <td>None</td>\n",
       "      <td>None</td>\n",
       "      <td>exact_match</td>\n",
       "      <td>&lt;function birth_year_birth_year_exm at 0x120b2...</td>\n",
       "      <td>from magellan.feature.simfunctions import *\\nf...</td>\n",
       "    </tr>\n",
       "    <tr>\n",
       "      <th>14</th>\n",
       "      <td>birth_year_birth_year_anm</td>\n",
       "      <td>birth_year</td>\n",
       "      <td>birth_year</td>\n",
       "      <td>None</td>\n",
       "      <td>None</td>\n",
       "      <td>abs_norm</td>\n",
       "      <td>&lt;function birth_year_birth_year_anm at 0x120b2...</td>\n",
       "      <td>from magellan.feature.simfunctions import *\\nf...</td>\n",
       "    </tr>\n",
       "    <tr>\n",
       "      <th>15</th>\n",
       "      <td>birth_year_birth_year_lev</td>\n",
       "      <td>birth_year</td>\n",
       "      <td>birth_year</td>\n",
       "      <td>None</td>\n",
       "      <td>None</td>\n",
       "      <td>lev</td>\n",
       "      <td>&lt;function birth_year_birth_year_lev at 0x120b2...</td>\n",
       "      <td>from magellan.feature.simfunctions import *\\nf...</td>\n",
       "    </tr>\n",
       "    <tr>\n",
       "      <th>16</th>\n",
       "      <td>hourly_wage_hourly_wage_exm</td>\n",
       "      <td>hourly_wage</td>\n",
       "      <td>hourly_wage</td>\n",
       "      <td>None</td>\n",
       "      <td>None</td>\n",
       "      <td>exact_match</td>\n",
       "      <td>&lt;function hourly_wage_hourly_wage_exm at 0x120...</td>\n",
       "      <td>from magellan.feature.simfunctions import *\\nf...</td>\n",
       "    </tr>\n",
       "    <tr>\n",
       "      <th>17</th>\n",
       "      <td>hourly_wage_hourly_wage_anm</td>\n",
       "      <td>hourly_wage</td>\n",
       "      <td>hourly_wage</td>\n",
       "      <td>None</td>\n",
       "      <td>None</td>\n",
       "      <td>abs_norm</td>\n",
       "      <td>&lt;function hourly_wage_hourly_wage_anm at 0x120...</td>\n",
       "      <td>from magellan.feature.simfunctions import *\\nf...</td>\n",
       "    </tr>\n",
       "    <tr>\n",
       "      <th>18</th>\n",
       "      <td>hourly_wage_hourly_wage_lev</td>\n",
       "      <td>hourly_wage</td>\n",
       "      <td>hourly_wage</td>\n",
       "      <td>None</td>\n",
       "      <td>None</td>\n",
       "      <td>lev</td>\n",
       "      <td>&lt;function hourly_wage_hourly_wage_lev at 0x120...</td>\n",
       "      <td>from magellan.feature.simfunctions import *\\nf...</td>\n",
       "    </tr>\n",
       "    <tr>\n",
       "      <th>19</th>\n",
       "      <td>zipcode_zipcode_exm</td>\n",
       "      <td>zipcode</td>\n",
       "      <td>zipcode</td>\n",
       "      <td>None</td>\n",
       "      <td>None</td>\n",
       "      <td>exact_match</td>\n",
       "      <td>&lt;function zipcode_zipcode_exm at 0x120b26320&gt;</td>\n",
       "      <td>from magellan.feature.simfunctions import *\\nf...</td>\n",
       "    </tr>\n",
       "    <tr>\n",
       "      <th>20</th>\n",
       "      <td>zipcode_zipcode_anm</td>\n",
       "      <td>zipcode</td>\n",
       "      <td>zipcode</td>\n",
       "      <td>None</td>\n",
       "      <td>None</td>\n",
       "      <td>abs_norm</td>\n",
       "      <td>&lt;function zipcode_zipcode_anm at 0x120b26398&gt;</td>\n",
       "      <td>from magellan.feature.simfunctions import *\\nf...</td>\n",
       "    </tr>\n",
       "    <tr>\n",
       "      <th>21</th>\n",
       "      <td>zipcode_zipcode_lev</td>\n",
       "      <td>zipcode</td>\n",
       "      <td>zipcode</td>\n",
       "      <td>None</td>\n",
       "      <td>None</td>\n",
       "      <td>lev</td>\n",
       "      <td>&lt;function zipcode_zipcode_lev at 0x120b26410&gt;</td>\n",
       "      <td>from magellan.feature.simfunctions import *\\nf...</td>\n",
       "    </tr>\n",
       "  </tbody>\n",
       "</table>\n",
       "</div>"
      ],
      "text/plain": [
       "                     feature_name left_attribute right_attribute  \\\n",
       "0                       ID_ID_lev             ID              ID   \n",
       "1                       ID_ID_jar             ID              ID   \n",
       "2                       ID_ID_jwn             ID              ID   \n",
       "3                       ID_ID_sdx             ID              ID   \n",
       "4                       ID_ID_exm             ID              ID   \n",
       "5           ID_ID_jac_qgm_3_qgm_3             ID              ID   \n",
       "6       name_name_jac_qgm_3_qgm_3           name            name   \n",
       "7   name_name_cos_dlm_dc0_dlm_dc0           name            name   \n",
       "8   name_name_jac_dlm_dc0_dlm_dc0           name            name   \n",
       "9                   name_name_mel           name            name   \n",
       "10                  name_name_nmw           name            name   \n",
       "11                   name_name_sw           name            name   \n",
       "12                  name_name_swg           name            name   \n",
       "13      birth_year_birth_year_exm     birth_year      birth_year   \n",
       "14      birth_year_birth_year_anm     birth_year      birth_year   \n",
       "15      birth_year_birth_year_lev     birth_year      birth_year   \n",
       "16    hourly_wage_hourly_wage_exm    hourly_wage     hourly_wage   \n",
       "17    hourly_wage_hourly_wage_anm    hourly_wage     hourly_wage   \n",
       "18    hourly_wage_hourly_wage_lev    hourly_wage     hourly_wage   \n",
       "19            zipcode_zipcode_exm        zipcode         zipcode   \n",
       "20            zipcode_zipcode_anm        zipcode         zipcode   \n",
       "21            zipcode_zipcode_lev        zipcode         zipcode   \n",
       "\n",
       "   left_attr_tokenizer right_attr_tokenizer           simfunction  \\\n",
       "0                 None                 None                   lev   \n",
       "1                 None                 None                  jaro   \n",
       "2                 None                 None          jaro_winkler   \n",
       "3                 None                 None               soundex   \n",
       "4                 None                 None           exact_match   \n",
       "5                qgm_3                qgm_3               jaccard   \n",
       "6                qgm_3                qgm_3               jaccard   \n",
       "7              dlm_dc0              dlm_dc0                cosine   \n",
       "8              dlm_dc0              dlm_dc0               jaccard   \n",
       "9                 None                 None           monge_elkan   \n",
       "10                None                 None      needleman_wunsch   \n",
       "11                None                 None        smith_waterman   \n",
       "12                None                 None  smith_waterman_gotoh   \n",
       "13                None                 None           exact_match   \n",
       "14                None                 None              abs_norm   \n",
       "15                None                 None                   lev   \n",
       "16                None                 None           exact_match   \n",
       "17                None                 None              abs_norm   \n",
       "18                None                 None                   lev   \n",
       "19                None                 None           exact_match   \n",
       "20                None                 None              abs_norm   \n",
       "21                None                 None                   lev   \n",
       "\n",
       "                                             function  \\\n",
       "0                 <function ID_ID_lev at 0x120ae5230>   \n",
       "1                 <function ID_ID_jar at 0x120ae5a28>   \n",
       "2                 <function ID_ID_jwn at 0x120ae5aa0>   \n",
       "3                 <function ID_ID_sdx at 0x120ae5b18>   \n",
       "4                 <function ID_ID_exm at 0x120ae5b90>   \n",
       "5     <function ID_ID_jac_qgm_3_qgm_3 at 0x120ae5c08>   \n",
       "6   <function name_name_jac_qgm_3_qgm_3 at 0x120ae...   \n",
       "7   <function name_name_cos_dlm_dc0_dlm_dc0 at 0x1...   \n",
       "8   <function name_name_jac_dlm_dc0_dlm_dc0 at 0x1...   \n",
       "9             <function name_name_mel at 0x120ae5de8>   \n",
       "10            <function name_name_nmw at 0x120ae5e60>   \n",
       "11             <function name_name_sw at 0x120ae5ed8>   \n",
       "12            <function name_name_swg at 0x120ae5f50>   \n",
       "13  <function birth_year_birth_year_exm at 0x120b2...   \n",
       "14  <function birth_year_birth_year_anm at 0x120b2...   \n",
       "15  <function birth_year_birth_year_lev at 0x120b2...   \n",
       "16  <function hourly_wage_hourly_wage_exm at 0x120...   \n",
       "17  <function hourly_wage_hourly_wage_anm at 0x120...   \n",
       "18  <function hourly_wage_hourly_wage_lev at 0x120...   \n",
       "19      <function zipcode_zipcode_exm at 0x120b26320>   \n",
       "20      <function zipcode_zipcode_anm at 0x120b26398>   \n",
       "21      <function zipcode_zipcode_lev at 0x120b26410>   \n",
       "\n",
       "                                      function_source  \n",
       "0   from magellan.feature.simfunctions import *\\nf...  \n",
       "1   from magellan.feature.simfunctions import *\\nf...  \n",
       "2   from magellan.feature.simfunctions import *\\nf...  \n",
       "3   from magellan.feature.simfunctions import *\\nf...  \n",
       "4   from magellan.feature.simfunctions import *\\nf...  \n",
       "5   from magellan.feature.simfunctions import *\\nf...  \n",
       "6   from magellan.feature.simfunctions import *\\nf...  \n",
       "7   from magellan.feature.simfunctions import *\\nf...  \n",
       "8   from magellan.feature.simfunctions import *\\nf...  \n",
       "9   from magellan.feature.simfunctions import *\\nf...  \n",
       "10  from magellan.feature.simfunctions import *\\nf...  \n",
       "11  from magellan.feature.simfunctions import *\\nf...  \n",
       "12  from magellan.feature.simfunctions import *\\nf...  \n",
       "13  from magellan.feature.simfunctions import *\\nf...  \n",
       "14  from magellan.feature.simfunctions import *\\nf...  \n",
       "15  from magellan.feature.simfunctions import *\\nf...  \n",
       "16  from magellan.feature.simfunctions import *\\nf...  \n",
       "17  from magellan.feature.simfunctions import *\\nf...  \n",
       "18  from magellan.feature.simfunctions import *\\nf...  \n",
       "19  from magellan.feature.simfunctions import *\\nf...  \n",
       "20  from magellan.feature.simfunctions import *\\nf...  \n",
       "21  from magellan.feature.simfunctions import *\\nf...  "
      ]
     },
     "execution_count": 12,
     "metadata": {},
     "output_type": "execute_result"
    },
    {
     "name": "stdout",
     "output_type": "stream",
     "text": [
      "time: 63.6 ms\n"
     ]
    }
   ],
   "source": [
    "F"
   ]
  },
  {
   "cell_type": "code",
   "execution_count": 13,
   "metadata": {
    "collapsed": false
   },
   "outputs": [
    {
     "name": "stdout",
     "output_type": "stream",
     "text": [
      "time: 3.7 ms\n"
     ]
    }
   ],
   "source": [
    "def bb_fn(ltuple, rtuple):\n",
    "    return 0.5"
   ]
  },
  {
   "cell_type": "code",
   "execution_count": 14,
   "metadata": {
    "collapsed": false
   },
   "outputs": [
    {
     "data": {
      "text/plain": [
       "True"
      ]
     },
     "execution_count": 14,
     "metadata": {},
     "output_type": "execute_result"
    },
    {
     "name": "stdout",
     "output_type": "stream",
     "text": [
      "time: 99.6 ms\n"
     ]
    }
   ],
   "source": [
    "mg.add_blackbox_feature('bb_fn', bb_fn, F)"
   ]
  },
  {
   "cell_type": "code",
   "execution_count": 21,
   "metadata": {
    "collapsed": false
   },
   "outputs": [
    {
     "name": "stdout",
     "output_type": "stream",
     "text": [
      "time: 1.19 ms\n"
     ]
    }
   ],
   "source": [
    "d = F.ix[22].to_dict()"
   ]
  },
  {
   "cell_type": "code",
   "execution_count": 23,
   "metadata": {
    "collapsed": false
   },
   "outputs": [
    {
     "data": {
      "text/plain": [
       "0.5"
      ]
     },
     "execution_count": 23,
     "metadata": {},
     "output_type": "execute_result"
    },
    {
     "name": "stdout",
     "output_type": "stream",
     "text": [
      "time: 2.67 ms\n"
     ]
    }
   ],
   "source": [
    "d['function'](1, 2)"
   ]
  }
 ],
 "metadata": {
  "kernelspec": {
   "display_name": "Python 2",
   "language": "python",
   "name": "python2"
  },
  "language_info": {
   "codemirror_mode": {
    "name": "ipython",
    "version": 2
   },
   "file_extension": ".py",
   "mimetype": "text/x-python",
   "name": "python",
   "nbconvert_exporter": "python",
   "pygments_lexer": "ipython2",
   "version": "2.7.10"
  }
 },
 "nbformat": 4,
 "nbformat_minor": 0
}
