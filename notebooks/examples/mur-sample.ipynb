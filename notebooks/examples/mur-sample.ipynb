{
 "cells": [
  {
   "cell_type": "code",
   "execution_count": 1,
   "metadata": {
    "collapsed": false
   },
   "outputs": [
    {
     "name": "stderr",
     "output_type": "stream",
     "text": [
      "DEBUG:Cloud:Log file (/Users/pradap/.picloud/cloud.log) opened\n"
     ]
    }
   ],
   "source": [
    "import magellan as mg\n",
    "import pandas as pd"
   ]
  },
  {
   "cell_type": "code",
   "execution_count": 2,
   "metadata": {
    "collapsed": true
   },
   "outputs": [],
   "source": [
    "dblp = mg.read_csv('DBLP_cleaned.csv', key='id')\n",
    "acm = mg.read_csv('ACM_cleaned.csv', key='id')"
   ]
  },
  {
   "cell_type": "code",
   "execution_count": 3,
   "metadata": {
    "collapsed": true
   },
   "outputs": [],
   "source": [
    "ab = mg.AttrEquivalenceBlocker()\n",
    "c = ab.block_tables(dblp, acm, 'year', 'year', ['title', 'authors', 'year', 'venue'],\n",
    "                   ['title', 'authors', 'year', 'venue'])"
   ]
  },
  {
   "cell_type": "code",
   "execution_count": 5,
   "metadata": {
    "collapsed": false
   },
   "outputs": [],
   "source": [
    "gold = mg.read_csv('dblp-acm_gold.csv', key='pairId')\n",
    "gold.columns = ['id', 'ltable.id', 'rtable.id', 'label']\n",
    "g = mg.create_mtable(gold, key='id', ltable=dblp, rtable=acm, \n",
    "                     foreign_key_ltable='ltable.id', \n",
    "                     foreign_key_rtable='rtable.id')\n",
    "g.set_index(['ltable.id', 'rtable.id'], inplace=True, drop=False)"
   ]
  },
  {
   "cell_type": "code",
   "execution_count": 6,
   "metadata": {
    "collapsed": false
   },
   "outputs": [],
   "source": [
    "s = mg.sample_table(c, 200)\n",
    "s.set_index(['ltable.id', 'rtable.id'], inplace=True, drop=False)"
   ]
  },
  {
   "cell_type": "code",
   "execution_count": 7,
   "metadata": {
    "collapsed": true
   },
   "outputs": [],
   "source": [
    "g1 = mg.sample_table(g, 200)\n"
   ]
  },
  {
   "cell_type": "code",
   "execution_count": 8,
   "metadata": {
    "collapsed": true
   },
   "outputs": [],
   "source": [
    "s1 = set(s.index.values)\n",
    "s2 = set(g1.index.values)"
   ]
  },
  {
   "cell_type": "code",
   "execution_count": 9,
   "metadata": {
    "collapsed": false
   },
   "outputs": [
    {
     "data": {
      "text/plain": [
       "set()"
      ]
     },
     "execution_count": 9,
     "metadata": {},
     "output_type": "execute_result"
    }
   ],
   "source": [
    "s1.intersection(s2)"
   ]
  },
  {
   "cell_type": "code",
   "execution_count": 10,
   "metadata": {
    "collapsed": true
   },
   "outputs": [],
   "source": [
    "g1.reset_index(inplace=True, drop=True)\n",
    "s.reset_index(inplace=True, drop=True)\n"
   ]
  },
  {
   "cell_type": "code",
   "execution_count": 11,
   "metadata": {
    "collapsed": true
   },
   "outputs": [],
   "source": [
    "l = mg.combine_block_outputs_via_union([g1, s])"
   ]
  },
  {
   "cell_type": "code",
   "execution_count": 12,
   "metadata": {
    "collapsed": false
   },
   "outputs": [],
   "source": [
    "l['gold'] = 0"
   ]
  },
  {
   "cell_type": "code",
   "execution_count": null,
   "metadata": {
    "collapsed": true
   },
   "outputs": [],
   "source": []
  },
  {
   "cell_type": "code",
   "execution_count": 13,
   "metadata": {
    "collapsed": false
   },
   "outputs": [
    {
     "data": {
      "text/html": [
       "<div>\n",
       "<table border=\"1\" class=\"dataframe\">\n",
       "  <thead>\n",
       "    <tr style=\"text-align: right;\">\n",
       "      <th></th>\n",
       "      <th>id</th>\n",
       "      <th>ltable.id</th>\n",
       "      <th>rtable.id</th>\n",
       "      <th>label</th>\n",
       "    </tr>\n",
       "  </thead>\n",
       "  <tbody>\n",
       "    <tr>\n",
       "      <th>0</th>\n",
       "      <td>8</td>\n",
       "      <td>conf/sigmod/BohmBKK01</td>\n",
       "      <td>375714</td>\n",
       "      <td>1</td>\n",
       "    </tr>\n",
       "    <tr>\n",
       "      <th>1</th>\n",
       "      <td>17</td>\n",
       "      <td>conf/sigmod/BorkarDS01</td>\n",
       "      <td>375682</td>\n",
       "      <td>1</td>\n",
       "    </tr>\n",
       "    <tr>\n",
       "      <th>2</th>\n",
       "      <td>18</td>\n",
       "      <td>conf/sigmod/SchusterW01</td>\n",
       "      <td>375728</td>\n",
       "      <td>1</td>\n",
       "    </tr>\n",
       "    <tr>\n",
       "      <th>3</th>\n",
       "      <td>27</td>\n",
       "      <td>conf/sigmod/ShahC01</td>\n",
       "      <td>375773</td>\n",
       "      <td>1</td>\n",
       "    </tr>\n",
       "    <tr>\n",
       "      <th>4</th>\n",
       "      <td>35</td>\n",
       "      <td>conf/sigmod/GionisGK01</td>\n",
       "      <td>375689</td>\n",
       "      <td>1</td>\n",
       "    </tr>\n",
       "  </tbody>\n",
       "</table>\n",
       "</div>"
      ],
      "text/plain": [
       "   id                ltable.id  rtable.id  label\n",
       "0   8    conf/sigmod/BohmBKK01     375714      1\n",
       "1  17   conf/sigmod/BorkarDS01     375682      1\n",
       "2  18  conf/sigmod/SchusterW01     375728      1\n",
       "3  27      conf/sigmod/ShahC01     375773      1\n",
       "4  35   conf/sigmod/GionisGK01     375689      1"
      ]
     },
     "execution_count": 13,
     "metadata": {},
     "output_type": "execute_result"
    }
   ],
   "source": [
    "g1.head()"
   ]
  },
  {
   "cell_type": "code",
   "execution_count": 14,
   "metadata": {
    "collapsed": false
   },
   "outputs": [],
   "source": [
    "l['gold'] = 0"
   ]
  },
  {
   "cell_type": "code",
   "execution_count": 15,
   "metadata": {
    "collapsed": true
   },
   "outputs": [],
   "source": [
    "l.set_index(['ltable.id', 'rtable.id'], inplace=True, drop=False)"
   ]
  },
  {
   "cell_type": "code",
   "execution_count": 16,
   "metadata": {
    "collapsed": true
   },
   "outputs": [],
   "source": [
    "mg.view(l)"
   ]
  },
  {
   "cell_type": "code",
   "execution_count": 17,
   "metadata": {
    "collapsed": true
   },
   "outputs": [],
   "source": [
    "g1.set_index(['ltable.id', 'rtable.id'], inplace=True, drop=False)"
   ]
  },
  {
   "cell_type": "code",
   "execution_count": 18,
   "metadata": {
    "collapsed": true
   },
   "outputs": [],
   "source": [
    "m = set(g1.index.values)\n",
    "n = set(l.index.values)"
   ]
  },
  {
   "cell_type": "code",
   "execution_count": 19,
   "metadata": {
    "collapsed": false
   },
   "outputs": [
    {
     "data": {
      "text/html": [
       "<div>\n",
       "<table border=\"1\" class=\"dataframe\">\n",
       "  <thead>\n",
       "    <tr style=\"text-align: right;\">\n",
       "      <th></th>\n",
       "      <th></th>\n",
       "      <th>_id</th>\n",
       "      <th>ltable.id</th>\n",
       "      <th>rtable.id</th>\n",
       "      <th>ltable.authors</th>\n",
       "      <th>ltable.title</th>\n",
       "      <th>ltable.venue</th>\n",
       "      <th>ltable.year</th>\n",
       "      <th>rtable.authors</th>\n",
       "      <th>rtable.title</th>\n",
       "      <th>rtable.venue</th>\n",
       "      <th>rtable.year</th>\n",
       "      <th>gold</th>\n",
       "    </tr>\n",
       "    <tr>\n",
       "      <th>ltable.id</th>\n",
       "      <th>rtable.id</th>\n",
       "      <th></th>\n",
       "      <th></th>\n",
       "      <th></th>\n",
       "      <th></th>\n",
       "      <th></th>\n",
       "      <th></th>\n",
       "      <th></th>\n",
       "      <th></th>\n",
       "      <th></th>\n",
       "      <th></th>\n",
       "      <th></th>\n",
       "      <th></th>\n",
       "    </tr>\n",
       "  </thead>\n",
       "  <tbody>\n",
       "    <tr>\n",
       "      <th>conf/sigmod/AcharyaAFZ95</th>\n",
       "      <th>673141</th>\n",
       "      <td>0</td>\n",
       "      <td>conf/sigmod/AcharyaAFZ95</td>\n",
       "      <td>673141</td>\n",
       "      <td>Michael J. Franklin, Stanley B. Zdonik, Swarup...</td>\n",
       "      <td>Broadcast Disks: Data Management for Asymmetri...</td>\n",
       "      <td>SIGMOD Conference</td>\n",
       "      <td>1995</td>\n",
       "      <td>Kazutoshi Sumiya, Kouichi Yasutake, Hirohiko T...</td>\n",
       "      <td>A Product Specification Database for Visual Pr...</td>\n",
       "      <td>Very Large Data Bases</td>\n",
       "      <td>1995</td>\n",
       "      <td>0</td>\n",
       "    </tr>\n",
       "    <tr>\n",
       "      <th>conf/sigmod/AcharyaGPR99</th>\n",
       "      <th>304589</th>\n",
       "      <td>1</td>\n",
       "      <td>conf/sigmod/AcharyaGPR99</td>\n",
       "      <td>304589</td>\n",
       "      <td>Sridhar Ramaswamy, Swarup Acharya, Phillip B. ...</td>\n",
       "      <td>The Aqua Approximate Query Answering System</td>\n",
       "      <td>SIGMOD Conference</td>\n",
       "      <td>1999</td>\n",
       "      <td>Athman Bouguettaya, Boualem Benatallah, Lily H...</td>\n",
       "      <td>World Wide Database-integrating the Web, CORBA...</td>\n",
       "      <td>International Conference on Management of Data</td>\n",
       "      <td>1999</td>\n",
       "      <td>0</td>\n",
       "    </tr>\n",
       "    <tr>\n",
       "      <th>conf/sigmod/AdaliCPS96</th>\n",
       "      <th>233359</th>\n",
       "      <td>2</td>\n",
       "      <td>conf/sigmod/AdaliCPS96</td>\n",
       "      <td>233359</td>\n",
       "      <td>Sibel Adali, Yannis Papakonstantinou, K. Seluk...</td>\n",
       "      <td>Query Caching and Optimization in Distributed ...</td>\n",
       "      <td>SIGMOD Conference</td>\n",
       "      <td>1996</td>\n",
       "      <td>Joseph M. Hellerstein, Jeffrey F. Naughton</td>\n",
       "      <td>Query execution techniques for caching expensi...</td>\n",
       "      <td>International Conference on Management of Data</td>\n",
       "      <td>1996</td>\n",
       "      <td>0</td>\n",
       "    </tr>\n",
       "    <tr>\n",
       "      <th>conf/sigmod/AggarwalPWYP99</th>\n",
       "      <th>304188</th>\n",
       "      <td>3</td>\n",
       "      <td>conf/sigmod/AggarwalPWYP99</td>\n",
       "      <td>304188</td>\n",
       "      <td>Joel L. Wolf, Cecilia Magdalena Procopiuc, Jon...</td>\n",
       "      <td>Fast Algorithms for Projected Clustering</td>\n",
       "      <td>SIGMOD Conference</td>\n",
       "      <td>1999</td>\n",
       "      <td>Charu C. Aggarwal, Joel L. Wolf, Philip S. Yu,...</td>\n",
       "      <td>Fast algorithms for projected clustering</td>\n",
       "      <td>International Conference on Management of Data</td>\n",
       "      <td>1999</td>\n",
       "      <td>0</td>\n",
       "    </tr>\n",
       "    <tr>\n",
       "      <th>conf/sigmod/AltinelABFSZ99</th>\n",
       "      <th>758373</th>\n",
       "      <td>4</td>\n",
       "      <td>conf/sigmod/AltinelABFSZ99</td>\n",
       "      <td>758373</td>\n",
       "      <td>Demet Aksoy, Mehmet Altinel, Stanley B. Zdonik...</td>\n",
       "      <td>DBIS-Toolkit: Adaptable Middleware for Large S...</td>\n",
       "      <td>SIGMOD Conference</td>\n",
       "      <td>1999</td>\n",
       "      <td>H. V. Jagadish, Nick Koudas, S. Muthukrishnan</td>\n",
       "      <td>Mining Deviants in a Time Series Database</td>\n",
       "      <td>Very Large Data Bases</td>\n",
       "      <td>1999</td>\n",
       "      <td>0</td>\n",
       "    </tr>\n",
       "  </tbody>\n",
       "</table>\n",
       "</div>"
      ],
      "text/plain": [
       "                                      _id                   ltable.id  \\\n",
       "ltable.id                  rtable.id                                    \n",
       "conf/sigmod/AcharyaAFZ95   673141       0    conf/sigmod/AcharyaAFZ95   \n",
       "conf/sigmod/AcharyaGPR99   304589       1    conf/sigmod/AcharyaGPR99   \n",
       "conf/sigmod/AdaliCPS96     233359       2      conf/sigmod/AdaliCPS96   \n",
       "conf/sigmod/AggarwalPWYP99 304188       3  conf/sigmod/AggarwalPWYP99   \n",
       "conf/sigmod/AltinelABFSZ99 758373       4  conf/sigmod/AltinelABFSZ99   \n",
       "\n",
       "                                      rtable.id  \\\n",
       "ltable.id                  rtable.id              \n",
       "conf/sigmod/AcharyaAFZ95   673141        673141   \n",
       "conf/sigmod/AcharyaGPR99   304589        304589   \n",
       "conf/sigmod/AdaliCPS96     233359        233359   \n",
       "conf/sigmod/AggarwalPWYP99 304188        304188   \n",
       "conf/sigmod/AltinelABFSZ99 758373        758373   \n",
       "\n",
       "                                                                         ltable.authors  \\\n",
       "ltable.id                  rtable.id                                                      \n",
       "conf/sigmod/AcharyaAFZ95   673141     Michael J. Franklin, Stanley B. Zdonik, Swarup...   \n",
       "conf/sigmod/AcharyaGPR99   304589     Sridhar Ramaswamy, Swarup Acharya, Phillip B. ...   \n",
       "conf/sigmod/AdaliCPS96     233359     Sibel Adali, Yannis Papakonstantinou, K. Seluk...   \n",
       "conf/sigmod/AggarwalPWYP99 304188     Joel L. Wolf, Cecilia Magdalena Procopiuc, Jon...   \n",
       "conf/sigmod/AltinelABFSZ99 758373     Demet Aksoy, Mehmet Altinel, Stanley B. Zdonik...   \n",
       "\n",
       "                                                                           ltable.title  \\\n",
       "ltable.id                  rtable.id                                                      \n",
       "conf/sigmod/AcharyaAFZ95   673141     Broadcast Disks: Data Management for Asymmetri...   \n",
       "conf/sigmod/AcharyaGPR99   304589           The Aqua Approximate Query Answering System   \n",
       "conf/sigmod/AdaliCPS96     233359     Query Caching and Optimization in Distributed ...   \n",
       "conf/sigmod/AggarwalPWYP99 304188              Fast Algorithms for Projected Clustering   \n",
       "conf/sigmod/AltinelABFSZ99 758373     DBIS-Toolkit: Adaptable Middleware for Large S...   \n",
       "\n",
       "                                           ltable.venue  ltable.year  \\\n",
       "ltable.id                  rtable.id                                   \n",
       "conf/sigmod/AcharyaAFZ95   673141     SIGMOD Conference         1995   \n",
       "conf/sigmod/AcharyaGPR99   304589     SIGMOD Conference         1999   \n",
       "conf/sigmod/AdaliCPS96     233359     SIGMOD Conference         1996   \n",
       "conf/sigmod/AggarwalPWYP99 304188     SIGMOD Conference         1999   \n",
       "conf/sigmod/AltinelABFSZ99 758373     SIGMOD Conference         1999   \n",
       "\n",
       "                                                                         rtable.authors  \\\n",
       "ltable.id                  rtable.id                                                      \n",
       "conf/sigmod/AcharyaAFZ95   673141     Kazutoshi Sumiya, Kouichi Yasutake, Hirohiko T...   \n",
       "conf/sigmod/AcharyaGPR99   304589     Athman Bouguettaya, Boualem Benatallah, Lily H...   \n",
       "conf/sigmod/AdaliCPS96     233359            Joseph M. Hellerstein, Jeffrey F. Naughton   \n",
       "conf/sigmod/AggarwalPWYP99 304188     Charu C. Aggarwal, Joel L. Wolf, Philip S. Yu,...   \n",
       "conf/sigmod/AltinelABFSZ99 758373         H. V. Jagadish, Nick Koudas, S. Muthukrishnan   \n",
       "\n",
       "                                                                           rtable.title  \\\n",
       "ltable.id                  rtable.id                                                      \n",
       "conf/sigmod/AcharyaAFZ95   673141     A Product Specification Database for Visual Pr...   \n",
       "conf/sigmod/AcharyaGPR99   304589     World Wide Database-integrating the Web, CORBA...   \n",
       "conf/sigmod/AdaliCPS96     233359     Query execution techniques for caching expensi...   \n",
       "conf/sigmod/AggarwalPWYP99 304188              Fast algorithms for projected clustering   \n",
       "conf/sigmod/AltinelABFSZ99 758373             Mining Deviants in a Time Series Database   \n",
       "\n",
       "                                                                        rtable.venue  \\\n",
       "ltable.id                  rtable.id                                                   \n",
       "conf/sigmod/AcharyaAFZ95   673141                              Very Large Data Bases   \n",
       "conf/sigmod/AcharyaGPR99   304589     International Conference on Management of Data   \n",
       "conf/sigmod/AdaliCPS96     233359     International Conference on Management of Data   \n",
       "conf/sigmod/AggarwalPWYP99 304188     International Conference on Management of Data   \n",
       "conf/sigmod/AltinelABFSZ99 758373                              Very Large Data Bases   \n",
       "\n",
       "                                      rtable.year  gold  \n",
       "ltable.id                  rtable.id                     \n",
       "conf/sigmod/AcharyaAFZ95   673141            1995     0  \n",
       "conf/sigmod/AcharyaGPR99   304589            1999     0  \n",
       "conf/sigmod/AdaliCPS96     233359            1996     0  \n",
       "conf/sigmod/AggarwalPWYP99 304188            1999     0  \n",
       "conf/sigmod/AltinelABFSZ99 758373            1999     0  "
      ]
     },
     "execution_count": 19,
     "metadata": {},
     "output_type": "execute_result"
    }
   ],
   "source": [
    "l.head()"
   ]
  },
  {
   "cell_type": "code",
   "execution_count": 20,
   "metadata": {
    "collapsed": false
   },
   "outputs": [],
   "source": [
    "l.ix[g1.index.values, 'gold'] = 1"
   ]
  },
  {
   "cell_type": "code",
   "execution_count": null,
   "metadata": {
    "collapsed": true
   },
   "outputs": [],
   "source": [
    "mg.view(l)"
   ]
  },
  {
   "cell_type": "code",
   "execution_count": 22,
   "metadata": {
    "collapsed": false
   },
   "outputs": [
    {
     "data": {
      "text/plain": [
       "200"
      ]
     },
     "execution_count": 22,
     "metadata": {},
     "output_type": "execute_result"
    }
   ],
   "source": [
    "len(m.intersection(n))"
   ]
  },
  {
   "cell_type": "code",
   "execution_count": 23,
   "metadata": {
    "collapsed": false
   },
   "outputs": [],
   "source": [
    "l.reset_index(drop=True, inplace=True)"
   ]
  },
  {
   "cell_type": "code",
   "execution_count": 55,
   "metadata": {
    "collapsed": false
   },
   "outputs": [],
   "source": [
    "l.drop(282, inplace=True)"
   ]
  },
  {
   "cell_type": "code",
   "execution_count": 56,
   "metadata": {
    "collapsed": true
   },
   "outputs": [],
   "source": [
    "mg.view(l)"
   ]
  },
  {
   "cell_type": "code",
   "execution_count": 57,
   "metadata": {
    "collapsed": false
   },
   "outputs": [
    {
     "data": {
      "text/plain": [
       "True"
      ]
     },
     "execution_count": 57,
     "metadata": {},
     "output_type": "execute_result"
    }
   ],
   "source": [
    "l.to_csv('acm_dblp_label.csv')"
   ]
  }
 ],
 "metadata": {
  "kernelspec": {
   "display_name": "Python 2",
   "language": "python",
   "name": "python2"
  },
  "language_info": {
   "codemirror_mode": {
    "name": "ipython",
    "version": 2
   },
   "file_extension": ".py",
   "mimetype": "text/x-python",
   "name": "python",
   "nbconvert_exporter": "python",
   "pygments_lexer": "ipython2",
   "version": "2.7.10"
  }
 },
 "nbformat": 4,
 "nbformat_minor": 0
}
