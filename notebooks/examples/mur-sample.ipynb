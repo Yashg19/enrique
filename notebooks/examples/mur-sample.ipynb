{
 "cells": [
  {
   "cell_type": "code",
   "execution_count": 1,
   "metadata": {
    "collapsed": false
   },
   "outputs": [
    {
     "name": "stderr",
     "output_type": "stream",
     "text": [
      "DEBUG:Cloud:Log file (/Users/pradap/.picloud/cloud.log) opened\n"
     ]
    }
   ],
   "source": [
    "import magellan as mg\n",
    "import pandas as pd"
   ]
  },
  {
   "cell_type": "code",
   "execution_count": 2,
   "metadata": {
    "collapsed": true
   },
   "outputs": [],
   "source": [
    "dblp = mg.read_csv('mur_dblp.csv', key='id')\n",
    "acm = mg.read_csv('ACM_cleaned.csv', key='id')"
   ]
  },
  {
   "cell_type": "code",
   "execution_count": 3,
   "metadata": {
    "collapsed": true
   },
   "outputs": [],
   "source": [
    "ab = mg.AttrEquivalenceBlocker()\n",
    "c = ab.block_tables(dblp, acm, 'year', 'year', ['title', 'authors', 'year', 'venue'],\n",
    "                   ['title', 'authors', 'year', 'venue'])"
   ]
  },
  {
   "cell_type": "code",
   "execution_count": 4,
   "metadata": {
    "collapsed": false
   },
   "outputs": [],
   "source": [
    "gold = mg.read_csv('dblp-acm_gold.csv', key='pairId')\n",
    "gold.columns = ['id', 'ltable.id', 'rtable.id', 'label']\n",
    "g = mg.create_mtable(gold, key='id', ltable=dblp, rtable=acm, \n",
    "                     foreign_key_ltable='ltable.id', \n",
    "                     foreign_key_rtable='rtable.id')\n",
    "g.set_index(['ltable.id', 'rtable.id'], inplace=True, drop=False)"
   ]
  },
  {
   "cell_type": "code",
   "execution_count": 5,
   "metadata": {
    "collapsed": true
   },
   "outputs": [],
   "source": [
    "mg.view(g)"
   ]
  },
  {
   "cell_type": "code",
   "execution_count": 5,
   "metadata": {
    "collapsed": false
   },
   "outputs": [
    {
     "name": "stderr",
     "output_type": "stream",
     "text": [
      "0%                          100%\n",
      "[##############################] | ETA[sec]: 0.000 \n",
      "Total time elapsed: 6.798 sec\n"
     ]
    }
   ],
   "source": [
    "ob = mg.OverlapBlocker()\n",
    "d = ob.block_tables(dblp, acm, 'title', 'title', l_output_attrs=['title', 'authors'], \n",
    "                    r_output_attrs=['title', 'authors'],\n",
    "                    overlap_size=3)"
   ]
  },
  {
   "cell_type": "code",
   "execution_count": 6,
   "metadata": {
    "collapsed": false
   },
   "outputs": [
    {
     "name": "stderr",
     "output_type": "stream",
     "text": [
      "0%                          100%\n",
      "[##############################] | ETA[sec]: 0.000 \n",
      "Total time elapsed: 3.328 sec\n"
     ]
    }
   ],
   "source": [
    "e = ob.block_candset(d, 'authors', 'authors', overlap_size=1)"
   ]
  },
  {
   "cell_type": "code",
   "execution_count": 7,
   "metadata": {
    "collapsed": false
   },
   "outputs": [
    {
     "data": {
      "text/plain": [
       "6652"
      ]
     },
     "execution_count": 7,
     "metadata": {},
     "output_type": "execute_result"
    }
   ],
   "source": [
    "len(e)"
   ]
  },
  {
   "cell_type": "code",
   "execution_count": 8,
   "metadata": {
    "collapsed": false
   },
   "outputs": [
    {
     "name": "stderr",
     "output_type": "stream",
     "text": [
      "0%                          100%\n",
      "[##############################] | ETA[sec]: 0.000 \n",
      "Total time elapsed: 5.597 sec\n"
     ]
    }
   ],
   "source": [
    "f = ob.block_tables(dblp, acm, 'authors', 'authors', l_output_attrs=['title', 'authors'], \n",
    "                    r_output_attrs=['title', 'authors'],\n",
    "                    overlap_size=2)"
   ]
  },
  {
   "cell_type": "code",
   "execution_count": 13,
   "metadata": {
    "collapsed": false
   },
   "outputs": [],
   "source": [
    "z = mg.combine_block_outputs_via_union([e, f, g1])"
   ]
  },
  {
   "cell_type": "code",
   "execution_count": 14,
   "metadata": {
    "collapsed": false
   },
   "outputs": [
    {
     "data": {
      "text/plain": [
       "True"
      ]
     },
     "execution_count": 14,
     "metadata": {},
     "output_type": "execute_result"
    }
   ],
   "source": [
    "z.to_csv('tableC.csv')"
   ]
  },
  {
   "cell_type": "code",
   "execution_count": 15,
   "metadata": {
    "collapsed": false
   },
   "outputs": [
    {
     "data": {
      "text/plain": [
       "59650"
      ]
     },
     "execution_count": 15,
     "metadata": {},
     "output_type": "execute_result"
    }
   ],
   "source": [
    "len(f)"
   ]
  },
  {
   "cell_type": "code",
   "execution_count": 11,
   "metadata": {
    "collapsed": false
   },
   "outputs": [
    {
     "data": {
      "text/html": [
       "<div>\n",
       "<table border=\"1\" class=\"dataframe\">\n",
       "  <thead>\n",
       "    <tr style=\"text-align: right;\">\n",
       "      <th></th>\n",
       "      <th>_id</th>\n",
       "      <th>ltable.id</th>\n",
       "      <th>rtable.id</th>\n",
       "      <th>ltable.title</th>\n",
       "      <th>ltable.authors</th>\n",
       "      <th>rtable.title</th>\n",
       "      <th>rtable.authors</th>\n",
       "    </tr>\n",
       "  </thead>\n",
       "  <tbody>\n",
       "    <tr>\n",
       "      <th>0</th>\n",
       "      <td>0</td>\n",
       "      <td>conf/sigmod/AbadiC02</td>\n",
       "      <td>191915</td>\n",
       "      <td>Visual COKO: a debugger for query optimizer de...</td>\n",
       "      <td>Daniel J. Abadi, Mitch Cherniack</td>\n",
       "      <td>Shoring up persistent applications</td>\n",
       "      <td>Michael J. Carey, David J. DeWitt, Michael J. ...</td>\n",
       "    </tr>\n",
       "    <tr>\n",
       "      <th>1</th>\n",
       "      <td>1</td>\n",
       "      <td>conf/sigmod/AbadiC02</td>\n",
       "      <td>191931</td>\n",
       "      <td>Visual COKO: a debugger for query optimizer de...</td>\n",
       "      <td>Daniel J. Abadi, Mitch Cherniack</td>\n",
       "      <td>DEC data distributor: for data replication and...</td>\n",
       "      <td>Daniel J. Dietterich</td>\n",
       "    </tr>\n",
       "    <tr>\n",
       "      <th>2</th>\n",
       "      <td>2</td>\n",
       "      <td>conf/sigmod/AbadiC02</td>\n",
       "      <td>233356</td>\n",
       "      <td>Visual COKO: a debugger for query optimizer de...</td>\n",
       "      <td>Daniel J. Abadi, Mitch Cherniack</td>\n",
       "      <td>Rule languages and internal algebras for rule-...</td>\n",
       "      <td>Mitch Cherniack, Stanley B. Zdonik</td>\n",
       "    </tr>\n",
       "    <tr>\n",
       "      <th>3</th>\n",
       "      <td>3</td>\n",
       "      <td>conf/sigmod/AbadiC02</td>\n",
       "      <td>276311</td>\n",
       "      <td>Visual COKO: a debugger for query optimizer de...</td>\n",
       "      <td>Daniel J. Abadi, Mitch Cherniack</td>\n",
       "      <td>Changing the rules: transformations for rule-b...</td>\n",
       "      <td>Mitch Cherniack, Stan Zdonik</td>\n",
       "    </tr>\n",
       "    <tr>\n",
       "      <th>4</th>\n",
       "      <td>4</td>\n",
       "      <td>conf/sigmod/AbadiC02</td>\n",
       "      <td>564770</td>\n",
       "      <td>Visual COKO: a debugger for query optimizer de...</td>\n",
       "      <td>Daniel J. Abadi, Mitch Cherniack</td>\n",
       "      <td>Visual COKO: a debugger for query optimizer de...</td>\n",
       "      <td>Daniel J. Abadi, Mitch Cherniack</td>\n",
       "    </tr>\n",
       "  </tbody>\n",
       "</table>\n",
       "</div>"
      ],
      "text/plain": [
       "   _id             ltable.id rtable.id  \\\n",
       "0    0  conf/sigmod/AbadiC02    191915   \n",
       "1    1  conf/sigmod/AbadiC02    191931   \n",
       "2    2  conf/sigmod/AbadiC02    233356   \n",
       "3    3  conf/sigmod/AbadiC02    276311   \n",
       "4    4  conf/sigmod/AbadiC02    564770   \n",
       "\n",
       "                                        ltable.title  \\\n",
       "0  Visual COKO: a debugger for query optimizer de...   \n",
       "1  Visual COKO: a debugger for query optimizer de...   \n",
       "2  Visual COKO: a debugger for query optimizer de...   \n",
       "3  Visual COKO: a debugger for query optimizer de...   \n",
       "4  Visual COKO: a debugger for query optimizer de...   \n",
       "\n",
       "                     ltable.authors  \\\n",
       "0  Daniel J. Abadi, Mitch Cherniack   \n",
       "1  Daniel J. Abadi, Mitch Cherniack   \n",
       "2  Daniel J. Abadi, Mitch Cherniack   \n",
       "3  Daniel J. Abadi, Mitch Cherniack   \n",
       "4  Daniel J. Abadi, Mitch Cherniack   \n",
       "\n",
       "                                        rtable.title  \\\n",
       "0                 Shoring up persistent applications   \n",
       "1  DEC data distributor: for data replication and...   \n",
       "2  Rule languages and internal algebras for rule-...   \n",
       "3  Changing the rules: transformations for rule-b...   \n",
       "4  Visual COKO: a debugger for query optimizer de...   \n",
       "\n",
       "                                      rtable.authors  \n",
       "0  Michael J. Carey, David J. DeWitt, Michael J. ...  \n",
       "1                               Daniel J. Dietterich  \n",
       "2                 Mitch Cherniack, Stanley B. Zdonik  \n",
       "3                       Mitch Cherniack, Stan Zdonik  \n",
       "4                   Daniel J. Abadi, Mitch Cherniack  "
      ]
     },
     "execution_count": 11,
     "metadata": {},
     "output_type": "execute_result"
    }
   ],
   "source": [
    "f.head()"
   ]
  },
  {
   "cell_type": "code",
   "execution_count": 12,
   "metadata": {
    "collapsed": false
   },
   "outputs": [],
   "source": [
    "s = mg.sample_table(c, 50)\n",
    "s.set_index(['ltable.id', 'rtable.id'], inplace=True, drop=False)\n"
   ]
  },
  {
   "cell_type": "code",
   "execution_count": 13,
   "metadata": {
    "collapsed": true
   },
   "outputs": [],
   "source": [
    "se = mg.sample_table(e, 120)\n",
    "se.set_index(['ltable.id', 'rtable.id'], inplace=True, drop=False)"
   ]
  },
  {
   "cell_type": "code",
   "execution_count": 14,
   "metadata": {
    "collapsed": true
   },
   "outputs": [],
   "source": [
    "sf = mg.sample_table(f, 50)\n",
    "sf.set_index(['ltable.id', 'rtable.id'], inplace=True, drop=False)"
   ]
  },
  {
   "cell_type": "code",
   "execution_count": 12,
   "metadata": {
    "collapsed": true
   },
   "outputs": [],
   "source": [
    "g1 = mg.sample_table(g, 200)\n"
   ]
  },
  {
   "cell_type": "code",
   "execution_count": 17,
   "metadata": {
    "collapsed": true
   },
   "outputs": [],
   "source": [
    "s1 = set(s.index.values)\n",
    "s2 = set(se.index.values)\n",
    "s3 = set(sf.index.values)\n",
    "s4 = set(g1.index.values)"
   ]
  },
  {
   "cell_type": "code",
   "execution_count": 18,
   "metadata": {
    "collapsed": true
   },
   "outputs": [],
   "source": [
    "s5 = s1.union(s2).union(s3)"
   ]
  },
  {
   "cell_type": "code",
   "execution_count": null,
   "metadata": {
    "collapsed": true
   },
   "outputs": [],
   "source": []
  },
  {
   "cell_type": "code",
   "execution_count": 19,
   "metadata": {
    "collapsed": false
   },
   "outputs": [
    {
     "data": {
      "text/plain": [
       "{('conf/sigmod/ChanI98', 276336),\n",
       " ('conf/sigmod/GeorgeH97', 253362),\n",
       " ('conf/sigmod/NgLHM99', 304575),\n",
       " ('journals/tods/BaralisW00', 363954),\n",
       " ('journals/vldb/ChakrabartiGRS01', 767147)}"
      ]
     },
     "execution_count": 19,
     "metadata": {},
     "output_type": "execute_result"
    }
   ],
   "source": [
    "s5.intersection(s4)"
   ]
  },
  {
   "cell_type": "code",
   "execution_count": 20,
   "metadata": {
    "collapsed": true
   },
   "outputs": [],
   "source": [
    "g1.reset_index(inplace=True, drop=True)\n",
    "s.reset_index(inplace=True, drop=True)\n",
    "se.reset_index(inplace=True, drop=True)\n",
    "\n",
    "sf.reset_index(inplace=True, drop=True)\n",
    "\n",
    "\n"
   ]
  },
  {
   "cell_type": "code",
   "execution_count": 21,
   "metadata": {
    "collapsed": false
   },
   "outputs": [],
   "source": [
    "l = mg.combine_block_outputs_via_union([g1, s, se, sf])"
   ]
  },
  {
   "cell_type": "code",
   "execution_count": 22,
   "metadata": {
    "collapsed": false
   },
   "outputs": [
    {
     "data": {
      "text/plain": [
       "415"
      ]
     },
     "execution_count": 22,
     "metadata": {},
     "output_type": "execute_result"
    }
   ],
   "source": [
    "len(l)"
   ]
  },
  {
   "cell_type": "code",
   "execution_count": 23,
   "metadata": {
    "collapsed": true
   },
   "outputs": [],
   "source": [
    "mg.view(l)"
   ]
  },
  {
   "cell_type": "code",
   "execution_count": 24,
   "metadata": {
    "collapsed": false
   },
   "outputs": [],
   "source": [
    "l['gold'] = 0"
   ]
  },
  {
   "cell_type": "code",
   "execution_count": null,
   "metadata": {
    "collapsed": true
   },
   "outputs": [],
   "source": []
  },
  {
   "cell_type": "code",
   "execution_count": 22,
   "metadata": {
    "collapsed": false
   },
   "outputs": [
    {
     "data": {
      "text/html": [
       "<div>\n",
       "<table border=\"1\" class=\"dataframe\">\n",
       "  <thead>\n",
       "    <tr style=\"text-align: right;\">\n",
       "      <th></th>\n",
       "      <th>id</th>\n",
       "      <th>ltable.id</th>\n",
       "      <th>rtable.id</th>\n",
       "      <th>label</th>\n",
       "    </tr>\n",
       "  </thead>\n",
       "  <tbody>\n",
       "    <tr>\n",
       "      <th>0</th>\n",
       "      <td>3</td>\n",
       "      <td>conf/sigmod/RinfretOO01</td>\n",
       "      <td>375669</td>\n",
       "      <td>1</td>\n",
       "    </tr>\n",
       "    <tr>\n",
       "      <th>1</th>\n",
       "      <td>12</td>\n",
       "      <td>conf/sigmod/HanPLJ01</td>\n",
       "      <td>375786</td>\n",
       "      <td>1</td>\n",
       "    </tr>\n",
       "    <tr>\n",
       "      <th>2</th>\n",
       "      <td>36</td>\n",
       "      <td>conf/sigmod/MistryRSR01</td>\n",
       "      <td>375703</td>\n",
       "      <td>1</td>\n",
       "    </tr>\n",
       "    <tr>\n",
       "      <th>3</th>\n",
       "      <td>37</td>\n",
       "      <td>conf/sigmod/Larson01</td>\n",
       "      <td>375792</td>\n",
       "      <td>1</td>\n",
       "    </tr>\n",
       "    <tr>\n",
       "      <th>4</th>\n",
       "      <td>57</td>\n",
       "      <td>conf/sigmod/AgrawalCN01</td>\n",
       "      <td>375769</td>\n",
       "      <td>1</td>\n",
       "    </tr>\n",
       "  </tbody>\n",
       "</table>\n",
       "</div>"
      ],
      "text/plain": [
       "   id                ltable.id  rtable.id  label\n",
       "0   3  conf/sigmod/RinfretOO01     375669      1\n",
       "1  12     conf/sigmod/HanPLJ01     375786      1\n",
       "2  36  conf/sigmod/MistryRSR01     375703      1\n",
       "3  37     conf/sigmod/Larson01     375792      1\n",
       "4  57  conf/sigmod/AgrawalCN01     375769      1"
      ]
     },
     "execution_count": 22,
     "metadata": {},
     "output_type": "execute_result"
    }
   ],
   "source": [
    "g1.head()"
   ]
  },
  {
   "cell_type": "code",
   "execution_count": 25,
   "metadata": {
    "collapsed": false
   },
   "outputs": [],
   "source": [
    "l['gold'] = 0"
   ]
  },
  {
   "cell_type": "code",
   "execution_count": 31,
   "metadata": {
    "collapsed": true
   },
   "outputs": [],
   "source": [
    "l.set_index(['ltable.id', 'rtable.id'], inplace=True, drop=False)"
   ]
  },
  {
   "cell_type": "code",
   "execution_count": 26,
   "metadata": {
    "collapsed": true
   },
   "outputs": [],
   "source": [
    "g1.set_index(['ltable.id', 'rtable.id'], inplace=True, drop=False)"
   ]
  },
  {
   "cell_type": "code",
   "execution_count": 32,
   "metadata": {
    "collapsed": true
   },
   "outputs": [],
   "source": [
    "g_ind = g.index.values\n",
    "l_ind = l.index.values"
   ]
  },
  {
   "cell_type": "code",
   "execution_count": 34,
   "metadata": {
    "collapsed": false
   },
   "outputs": [],
   "source": [
    "lg_ind = set(g_ind).intersection(l_ind)"
   ]
  },
  {
   "cell_type": "code",
   "execution_count": 35,
   "metadata": {
    "collapsed": false
   },
   "outputs": [
    {
     "data": {
      "text/plain": [
       "231"
      ]
     },
     "execution_count": 35,
     "metadata": {},
     "output_type": "execute_result"
    }
   ],
   "source": [
    "len(lg_ind)"
   ]
  },
  {
   "cell_type": "code",
   "execution_count": 27,
   "metadata": {
    "collapsed": true
   },
   "outputs": [],
   "source": [
    "m = set(g1.index.values)\n",
    "n = set(l.index.values)"
   ]
  },
  {
   "cell_type": "code",
   "execution_count": 28,
   "metadata": {
    "collapsed": false
   },
   "outputs": [
    {
     "data": {
      "text/html": [
       "<div>\n",
       "<table border=\"1\" class=\"dataframe\">\n",
       "  <thead>\n",
       "    <tr style=\"text-align: right;\">\n",
       "      <th></th>\n",
       "      <th></th>\n",
       "      <th>_id</th>\n",
       "      <th>ltable.id</th>\n",
       "      <th>rtable.id</th>\n",
       "      <th>ltable.authors</th>\n",
       "      <th>ltable.title</th>\n",
       "      <th>ltable.venue</th>\n",
       "      <th>ltable.year</th>\n",
       "      <th>rtable.authors</th>\n",
       "      <th>rtable.title</th>\n",
       "      <th>rtable.venue</th>\n",
       "      <th>rtable.year</th>\n",
       "      <th>gold</th>\n",
       "    </tr>\n",
       "    <tr>\n",
       "      <th>ltable.id</th>\n",
       "      <th>rtable.id</th>\n",
       "      <th></th>\n",
       "      <th></th>\n",
       "      <th></th>\n",
       "      <th></th>\n",
       "      <th></th>\n",
       "      <th></th>\n",
       "      <th></th>\n",
       "      <th></th>\n",
       "      <th></th>\n",
       "      <th></th>\n",
       "      <th></th>\n",
       "      <th></th>\n",
       "    </tr>\n",
       "  </thead>\n",
       "  <tbody>\n",
       "    <tr>\n",
       "      <th>conf/sigmod/AboulnagaC99</th>\n",
       "      <th>304198</th>\n",
       "      <td>0</td>\n",
       "      <td>conf/sigmod/AboulnagaC99</td>\n",
       "      <td>304198</td>\n",
       "      <td>Surajit Chaudhuri, Ashraf Aboulnaga</td>\n",
       "      <td>Self-tuning Histograms: Building Histograms Wi...</td>\n",
       "      <td>SIGMOD Conference</td>\n",
       "      <td>1999</td>\n",
       "      <td>Ashraf Aboulnaga, Surajit Chaudhuri</td>\n",
       "      <td>Self-tuning histograms: building histograms wi...</td>\n",
       "      <td>International Conference on Management of Data</td>\n",
       "      <td>1999</td>\n",
       "      <td>0</td>\n",
       "    </tr>\n",
       "    <tr>\n",
       "      <th>conf/sigmod/AcharyaFZ97</th>\n",
       "      <th>253293</th>\n",
       "      <td>1</td>\n",
       "      <td>conf/sigmod/AcharyaFZ97</td>\n",
       "      <td>253293</td>\n",
       "      <td>Swarup Acharya, Stanley B. Zdonik, Michael J. ...</td>\n",
       "      <td>Balancing Push and Pull for Data Broadcast</td>\n",
       "      <td>SIGMOD Conference</td>\n",
       "      <td>1997</td>\n",
       "      <td>Swarup Acharya, Michael Franklin, Stanley Zdonik</td>\n",
       "      <td>Balancing push and pull for data broadcast</td>\n",
       "      <td>International Conference on Management of Data</td>\n",
       "      <td>1997</td>\n",
       "      <td>0</td>\n",
       "    </tr>\n",
       "    <tr>\n",
       "      <th>conf/sigmod/AcharyaGP00</th>\n",
       "      <th>335476</th>\n",
       "      <td>2</td>\n",
       "      <td>conf/sigmod/AcharyaGP00</td>\n",
       "      <td>335476</td>\n",
       "      <td>Viswanath Poosala, Swarup Acharya, Phillip B. ...</td>\n",
       "      <td>Congressional Samples for Approximate Answerin...</td>\n",
       "      <td>SIGMOD Conference</td>\n",
       "      <td>2000</td>\n",
       "      <td>Jennifer Widom, Adam Bosworth, Bruce Lindsay, ...</td>\n",
       "      <td>Of XML and databases (panel session): where's ...</td>\n",
       "      <td>International Conference on Management of Data</td>\n",
       "      <td>2000</td>\n",
       "      <td>0</td>\n",
       "    </tr>\n",
       "    <tr>\n",
       "      <th>conf/sigmod/AcharyaGPR99a</th>\n",
       "      <th>304207</th>\n",
       "      <td>3</td>\n",
       "      <td>conf/sigmod/AcharyaGPR99a</td>\n",
       "      <td>304207</td>\n",
       "      <td>Swarup Acharya, Viswanath Poosala, Phillip B. ...</td>\n",
       "      <td>Join Synopses for Approximate Query Answering</td>\n",
       "      <td>SIGMOD Conference</td>\n",
       "      <td>1999</td>\n",
       "      <td>Swarup Acharya, Phillip B. Gibbons, Viswanath ...</td>\n",
       "      <td>Join synopses for approximate query answering</td>\n",
       "      <td>International Conference on Management of Data</td>\n",
       "      <td>1999</td>\n",
       "      <td>0</td>\n",
       "    </tr>\n",
       "    <tr>\n",
       "      <th>conf/sigmod/AdaliCPS96</th>\n",
       "      <th>369277</th>\n",
       "      <td>4</td>\n",
       "      <td>conf/sigmod/AdaliCPS96</td>\n",
       "      <td>369277</td>\n",
       "      <td>Sibel Adali, Yannis Papakonstantinou, K. Seluk...</td>\n",
       "      <td>Query Caching and Optimization in Distributed ...</td>\n",
       "      <td>SIGMOD Conference</td>\n",
       "      <td>1996</td>\n",
       "      <td>W. Hasselbring, W.-J. van den Heuvel, G. J. Ho...</td>\n",
       "      <td>Research and practice in federated information...</td>\n",
       "      <td>ACM SIGMOD Record</td>\n",
       "      <td>2000</td>\n",
       "      <td>0</td>\n",
       "    </tr>\n",
       "  </tbody>\n",
       "</table>\n",
       "</div>"
      ],
      "text/plain": [
       "                                     _id                  ltable.id  \\\n",
       "ltable.id                 rtable.id                                   \n",
       "conf/sigmod/AboulnagaC99  304198       0   conf/sigmod/AboulnagaC99   \n",
       "conf/sigmod/AcharyaFZ97   253293       1    conf/sigmod/AcharyaFZ97   \n",
       "conf/sigmod/AcharyaGP00   335476       2    conf/sigmod/AcharyaGP00   \n",
       "conf/sigmod/AcharyaGPR99a 304207       3  conf/sigmod/AcharyaGPR99a   \n",
       "conf/sigmod/AdaliCPS96    369277       4     conf/sigmod/AdaliCPS96   \n",
       "\n",
       "                                     rtable.id  \\\n",
       "ltable.id                 rtable.id              \n",
       "conf/sigmod/AboulnagaC99  304198        304198   \n",
       "conf/sigmod/AcharyaFZ97   253293        253293   \n",
       "conf/sigmod/AcharyaGP00   335476        335476   \n",
       "conf/sigmod/AcharyaGPR99a 304207        304207   \n",
       "conf/sigmod/AdaliCPS96    369277        369277   \n",
       "\n",
       "                                                                        ltable.authors  \\\n",
       "ltable.id                 rtable.id                                                      \n",
       "conf/sigmod/AboulnagaC99  304198                   Surajit Chaudhuri, Ashraf Aboulnaga   \n",
       "conf/sigmod/AcharyaFZ97   253293     Swarup Acharya, Stanley B. Zdonik, Michael J. ...   \n",
       "conf/sigmod/AcharyaGP00   335476     Viswanath Poosala, Swarup Acharya, Phillip B. ...   \n",
       "conf/sigmod/AcharyaGPR99a 304207     Swarup Acharya, Viswanath Poosala, Phillip B. ...   \n",
       "conf/sigmod/AdaliCPS96    369277     Sibel Adali, Yannis Papakonstantinou, K. Seluk...   \n",
       "\n",
       "                                                                          ltable.title  \\\n",
       "ltable.id                 rtable.id                                                      \n",
       "conf/sigmod/AboulnagaC99  304198     Self-tuning Histograms: Building Histograms Wi...   \n",
       "conf/sigmod/AcharyaFZ97   253293            Balancing Push and Pull for Data Broadcast   \n",
       "conf/sigmod/AcharyaGP00   335476     Congressional Samples for Approximate Answerin...   \n",
       "conf/sigmod/AcharyaGPR99a 304207         Join Synopses for Approximate Query Answering   \n",
       "conf/sigmod/AdaliCPS96    369277     Query Caching and Optimization in Distributed ...   \n",
       "\n",
       "                                          ltable.venue  ltable.year  \\\n",
       "ltable.id                 rtable.id                                   \n",
       "conf/sigmod/AboulnagaC99  304198     SIGMOD Conference         1999   \n",
       "conf/sigmod/AcharyaFZ97   253293     SIGMOD Conference         1997   \n",
       "conf/sigmod/AcharyaGP00   335476     SIGMOD Conference         2000   \n",
       "conf/sigmod/AcharyaGPR99a 304207     SIGMOD Conference         1999   \n",
       "conf/sigmod/AdaliCPS96    369277     SIGMOD Conference         1996   \n",
       "\n",
       "                                                                        rtable.authors  \\\n",
       "ltable.id                 rtable.id                                                      \n",
       "conf/sigmod/AboulnagaC99  304198                   Ashraf Aboulnaga, Surajit Chaudhuri   \n",
       "conf/sigmod/AcharyaFZ97   253293      Swarup Acharya, Michael Franklin, Stanley Zdonik   \n",
       "conf/sigmod/AcharyaGP00   335476     Jennifer Widom, Adam Bosworth, Bruce Lindsay, ...   \n",
       "conf/sigmod/AcharyaGPR99a 304207     Swarup Acharya, Phillip B. Gibbons, Viswanath ...   \n",
       "conf/sigmod/AdaliCPS96    369277     W. Hasselbring, W.-J. van den Heuvel, G. J. Ho...   \n",
       "\n",
       "                                                                          rtable.title  \\\n",
       "ltable.id                 rtable.id                                                      \n",
       "conf/sigmod/AboulnagaC99  304198     Self-tuning histograms: building histograms wi...   \n",
       "conf/sigmod/AcharyaFZ97   253293            Balancing push and pull for data broadcast   \n",
       "conf/sigmod/AcharyaGP00   335476     Of XML and databases (panel session): where's ...   \n",
       "conf/sigmod/AcharyaGPR99a 304207         Join synopses for approximate query answering   \n",
       "conf/sigmod/AdaliCPS96    369277     Research and practice in federated information...   \n",
       "\n",
       "                                                                       rtable.venue  \\\n",
       "ltable.id                 rtable.id                                                   \n",
       "conf/sigmod/AboulnagaC99  304198     International Conference on Management of Data   \n",
       "conf/sigmod/AcharyaFZ97   253293     International Conference on Management of Data   \n",
       "conf/sigmod/AcharyaGP00   335476     International Conference on Management of Data   \n",
       "conf/sigmod/AcharyaGPR99a 304207     International Conference on Management of Data   \n",
       "conf/sigmod/AdaliCPS96    369277                                  ACM SIGMOD Record   \n",
       "\n",
       "                                     rtable.year  gold  \n",
       "ltable.id                 rtable.id                     \n",
       "conf/sigmod/AboulnagaC99  304198            1999     0  \n",
       "conf/sigmod/AcharyaFZ97   253293            1997     0  \n",
       "conf/sigmod/AcharyaGP00   335476            2000     0  \n",
       "conf/sigmod/AcharyaGPR99a 304207            1999     0  \n",
       "conf/sigmod/AdaliCPS96    369277            2000     0  "
      ]
     },
     "execution_count": 28,
     "metadata": {},
     "output_type": "execute_result"
    }
   ],
   "source": [
    "l.head()"
   ]
  },
  {
   "cell_type": "code",
   "execution_count": 36,
   "metadata": {
    "collapsed": false
   },
   "outputs": [],
   "source": [
    "l.ix[lg_ind, 'gold'] = 1"
   ]
  },
  {
   "cell_type": "code",
   "execution_count": 37,
   "metadata": {
    "collapsed": false
   },
   "outputs": [],
   "source": [
    "mg.edit(l)"
   ]
  },
  {
   "cell_type": "code",
   "execution_count": 38,
   "metadata": {
    "collapsed": false
   },
   "outputs": [
    {
     "ename": "NameError",
     "evalue": "name 'm' is not defined",
     "output_type": "error",
     "traceback": [
      "\u001b[0;31m---------------------------------------------------------------------------\u001b[0m",
      "\u001b[0;31mNameError\u001b[0m                                 Traceback (most recent call last)",
      "\u001b[0;32m<ipython-input-38-d7427f73123c>\u001b[0m in \u001b[0;36m<module>\u001b[0;34m()\u001b[0m\n\u001b[0;32m----> 1\u001b[0;31m \u001b[0mlen\u001b[0m\u001b[0;34m(\u001b[0m\u001b[0mm\u001b[0m\u001b[0;34m.\u001b[0m\u001b[0mintersection\u001b[0m\u001b[0;34m(\u001b[0m\u001b[0mn\u001b[0m\u001b[0;34m)\u001b[0m\u001b[0;34m)\u001b[0m\u001b[0;34m\u001b[0m\u001b[0m\n\u001b[0m",
      "\u001b[0;31mNameError\u001b[0m: name 'm' is not defined"
     ]
    }
   ],
   "source": [
    "len(m.intersection(n))"
   ]
  },
  {
   "cell_type": "code",
   "execution_count": 39,
   "metadata": {
    "collapsed": false
   },
   "outputs": [],
   "source": [
    "l.reset_index(drop=True, inplace=True)"
   ]
  },
  {
   "cell_type": "code",
   "execution_count": 40,
   "metadata": {
    "collapsed": true
   },
   "outputs": [],
   "source": [
    "mg.view(l)"
   ]
  },
  {
   "cell_type": "code",
   "execution_count": 41,
   "metadata": {
    "collapsed": false
   },
   "outputs": [
    {
     "data": {
      "text/plain": [
       "True"
      ]
     },
     "execution_count": 41,
     "metadata": {},
     "output_type": "execute_result"
    }
   ],
   "source": [
    "l.to_csv('acm_dblp_label_4.csv')"
   ]
  }
 ],
 "metadata": {
  "kernelspec": {
   "display_name": "Python 2",
   "language": "python",
   "name": "python2"
  },
  "language_info": {
   "codemirror_mode": {
    "name": "ipython",
    "version": 2
   },
   "file_extension": ".py",
   "mimetype": "text/x-python",
   "name": "python",
   "nbconvert_exporter": "python",
   "pygments_lexer": "ipython2",
   "version": "2.7.10"
  }
 },
 "nbformat": 4,
 "nbformat_minor": 0
}
