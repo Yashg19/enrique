{
 "cells": [
  {
   "cell_type": "code",
   "execution_count": 1,
   "metadata": {
    "collapsed": true
   },
   "outputs": [],
   "source": [
    "#import sys\n",
    "#sys.path.append('/scratch/pradap/python-work/enrique/')"
   ]
  },
  {
   "cell_type": "code",
   "execution_count": 2,
   "metadata": {
    "collapsed": false
   },
   "outputs": [
    {
     "name": "stderr",
     "output_type": "stream",
     "text": [
      "DEBUG:Cloud:Log file (/u/p/r/pradap/.picloud/cloud.log) opened\n",
      "DEBUG:Cloud:Deleting 23872.log (7.23014479967 days old)\n",
      "DEBUG:Cloud:Deleting 23872.lock (7.2301332256 days old)\n",
      "DEBUG:Cloud:Deleting 24850.log (7.20989017004 days old)\n",
      "DEBUG:Cloud:Deleting 24850.lock (7.20989017004 days old)\n",
      "DEBUG:Cloud:Deleting 24881.log (7.20948507745 days old)\n",
      "DEBUG:Cloud:Deleting 24881.lock (7.20948507745 days old)\n",
      "DEBUG:Cloud:Deleting 25645.log (7.19255220708 days old)\n",
      "DEBUG:Cloud:Deleting 25645.lock (7.19255220708 days old)\n",
      "DEBUG:Cloud:Deleting 25708.log (7.19190405893 days old)\n",
      "DEBUG:Cloud:Deleting 25708.lock (7.19190405893 days old)\n",
      "DEBUG:Cloud:Deleting 25824.log (7.18989017004 days old)\n",
      "DEBUG:Cloud:Deleting 25824.lock (7.18989017004 days old)\n",
      "DEBUG:Cloud:Deleting 25852.log (7.18972813301 days old)\n",
      "DEBUG:Cloud:Deleting 25852.lock (7.18972813301 days old)\n",
      "DEBUG:Cloud:Deleting 25996.log (7.18781841079 days old)\n",
      "DEBUG:Cloud:Deleting 25996.lock (7.18781841079 days old)\n",
      "DEBUG:Cloud:Deleting 26045.log (7.18708924412 days old)\n",
      "DEBUG:Cloud:Deleting 26045.lock (7.18708924412 days old)\n",
      "DEBUG:Cloud:Deleting 26079.log (7.18671887375 days old)\n",
      "DEBUG:Cloud:Deleting 26079.lock (7.18671887375 days old)\n",
      "DEBUG:Cloud:Deleting 26124.log (7.18627905893 days old)\n",
      "DEBUG:Cloud:Deleting 26124.lock (7.18627905893 days old)\n",
      "DEBUG:Cloud:Deleting 26179.log (7.18507535523 days old)\n",
      "DEBUG:Cloud:Deleting 26179.lock (7.18507535523 days old)\n",
      "DEBUG:Cloud:Deleting 26218.log (7.18460081819 days old)\n",
      "DEBUG:Cloud:Deleting 26218.lock (7.18460081819 days old)\n",
      "DEBUG:Cloud:Deleting 26266.log (7.1841494293 days old)\n",
      "DEBUG:Cloud:Deleting 26266.lock (7.1841494293 days old)\n",
      "DEBUG:Cloud:Deleting 26321.log (7.18306146634 days old)\n",
      "DEBUG:Cloud:Deleting 26321.lock (7.18306146634 days old)\n",
      "DEBUG:Cloud:Deleting 26362.log (7.18276054042 days old)\n",
      "DEBUG:Cloud:Deleting 26362.lock (7.18276054042 days old)\n",
      "DEBUG:Cloud:Deleting 26395.log (7.18240174412 days old)\n",
      "DEBUG:Cloud:Deleting 26395.lock (7.18240174412 days old)\n",
      "DEBUG:Cloud:Deleting 26524.log (7.18052674412 days old)\n",
      "DEBUG:Cloud:Deleting 26524.lock (7.18052674412 days old)\n",
      "DEBUG:Cloud:Deleting 26574.log (7.18009850338 days old)\n",
      "DEBUG:Cloud:Deleting 26574.lock (7.18009850338 days old)\n",
      "DEBUG:Cloud:Deleting 26630.log (7.17970498486 days old)\n",
      "DEBUG:Cloud:Deleting 26630.lock (7.17970498486 days old)\n",
      "DEBUG:Cloud:Deleting 26693.log (7.1789295219 days old)\n",
      "DEBUG:Cloud:Deleting 26693.lock (7.1789295219 days old)\n",
      "DEBUG:Cloud:Deleting 26737.log (7.1785707256 days old)\n",
      "DEBUG:Cloud:Deleting 26737.lock (7.1785707256 days old)\n",
      "DEBUG:Cloud:Deleting 26804.log (7.17778368856 days old)\n",
      "DEBUG:Cloud:Deleting 26804.lock (7.17778368856 days old)\n",
      "DEBUG:Cloud:Deleting 26832.log (7.17766794782 days old)\n",
      "DEBUG:Cloud:Deleting 26832.lock (7.17766794782 days old)\n",
      "DEBUG:Cloud:Deleting 27118.log (7.17243646634 days old)\n",
      "DEBUG:Cloud:Deleting 27118.lock (7.17243646634 days old)\n",
      "DEBUG:Cloud:Deleting 27146.log (7.17229757745 days old)\n",
      "DEBUG:Cloud:Deleting 27146.lock (7.17229757745 days old)\n",
      "DEBUG:Cloud:Deleting 27176.log (7.17197350338 days old)\n",
      "DEBUG:Cloud:Deleting 27176.lock (7.17197350338 days old)\n",
      "DEBUG:Cloud:Deleting 27211.log (7.17185776264 days old)\n",
      "DEBUG:Cloud:Deleting 27211.lock (7.17185776264 days old)\n",
      "DEBUG:Cloud:Deleting 27269.log (7.17097813301 days old)\n",
      "DEBUG:Cloud:Deleting 27269.lock (7.17097813301 days old)\n",
      "DEBUG:Cloud:Deleting 27331.log (7.16991331819 days old)\n",
      "DEBUG:Cloud:Deleting 27331.lock (7.16991331819 days old)\n",
      "DEBUG:Cloud:Deleting 27465.log (7.16718183671 days old)\n",
      "DEBUG:Cloud:Deleting 27465.lock (7.16718183671 days old)\n",
      "DEBUG:Cloud:Deleting 27681.log (7.16320035523 days old)\n",
      "DEBUG:Cloud:Deleting 27681.lock (7.16320035523 days old)\n",
      "DEBUG:Cloud:Deleting 27743.log (7.1622744293 days old)\n",
      "DEBUG:Cloud:Deleting 27743.lock (7.1622744293 days old)\n",
      "DEBUG:Cloud:Deleting 27860.log (7.16038785523 days old)\n",
      "DEBUG:Cloud:Deleting 27860.lock (7.16038785523 days old)\n",
      "DEBUG:Cloud:Deleting 28696.log (7.14608229967 days old)\n",
      "DEBUG:Cloud:Deleting 28696.lock (7.14608229967 days old)\n",
      "DEBUG:Cloud:Deleting 28760.log (7.14532998486 days old)\n",
      "DEBUG:Cloud:Deleting 28760.lock (7.14532998486 days old)\n",
      "DEBUG:Cloud:Deleting 29198.log (7.13752905893 days old)\n",
      "DEBUG:Cloud:Deleting 29198.lock (7.13752905893 days old)\n",
      "DEBUG:Cloud:Deleting 29258.log (7.13725128116 days old)\n",
      "DEBUG:Cloud:Deleting 29258.lock (7.13725128116 days old)\n"
     ]
    }
   ],
   "source": [
    "import magellan as mg"
   ]
  },
  {
   "cell_type": "code",
   "execution_count": 3,
   "metadata": {
    "collapsed": false
   },
   "outputs": [
    {
     "data": {
      "text/plain": [
       "True"
      ]
     },
     "execution_count": 3,
     "metadata": {},
     "output_type": "execute_result"
    }
   ],
   "source": [
    "mg.init_jvm()"
   ]
  },
  {
   "cell_type": "code",
   "execution_count": 4,
   "metadata": {
    "collapsed": true
   },
   "outputs": [],
   "source": [
    "A = mg.load_dataset('table_A')"
   ]
  },
  {
   "cell_type": "code",
   "execution_count": 5,
   "metadata": {
    "collapsed": true
   },
   "outputs": [],
   "source": [
    "B = mg.load_dataset('table_B')"
   ]
  },
  {
   "cell_type": "code",
   "execution_count": 11,
   "metadata": {
    "collapsed": false
   },
   "outputs": [],
   "source": [
    "A['zipcode'] = A['zipcode'].astype(float)"
   ]
  },
  {
   "cell_type": "code",
   "execution_count": 16,
   "metadata": {
    "collapsed": false
   },
   "outputs": [
    {
     "data": {
      "text/plain": [
       "OrderedDict([('key', 'ID')])"
      ]
     },
     "execution_count": 16,
     "metadata": {},
     "output_type": "execute_result"
    }
   ],
   "source": [
    "A.properties"
   ]
  },
  {
   "cell_type": "code",
   "execution_count": 12,
   "metadata": {
    "collapsed": false
   },
   "outputs": [
    {
     "data": {
      "text/plain": [
       "ID              object\n",
       "name            object\n",
       "birth_year       int64\n",
       "hourly_wage    float64\n",
       "address         object\n",
       "zipcode        float64\n",
       "dtype: object"
      ]
     },
     "execution_count": 12,
     "metadata": {},
     "output_type": "execute_result"
    }
   ],
   "source": [
    "A.dtypes"
   ]
  },
  {
   "cell_type": "code",
   "execution_count": 13,
   "metadata": {
    "collapsed": true
   },
   "outputs": [],
   "source": [
    "ob = mg.OverlapBlocker()"
   ]
  },
  {
   "cell_type": "code",
   "execution_count": 14,
   "metadata": {
    "collapsed": true
   },
   "outputs": [],
   "source": [
    "mg._verbose=False\n",
    "mg._percent = 5"
   ]
  },
  {
   "cell_type": "code",
   "execution_count": 15,
   "metadata": {
    "collapsed": false
   },
   "outputs": [
    {
     "name": "stderr",
     "output_type": "stream",
     "text": [
      "0%  100%\n",
      "[######] | ETA[sec]: 0.000 \n",
      "Total time elapsed: 0.019 sec\n"
     ]
    }
   ],
   "source": [
    "C = ob.block_tables(A, B, 'address', 'address', overlap_size=3)"
   ]
  },
  {
   "cell_type": "code",
   "execution_count": 12,
   "metadata": {
    "collapsed": false
   },
   "outputs": [
    {
     "name": "stderr",
     "output_type": "stream",
     "text": [
      "0%              100%\n",
      "[##################] | ETA[sec]: 0.000 \n",
      "Total time elapsed: 0.007 sec\n"
     ]
    }
   ],
   "source": [
    "D = ob.block_candset(C, 'name', 'name', overlap_size=1)"
   ]
  },
  {
   "cell_type": "code",
   "execution_count": null,
   "metadata": {
    "collapsed": true
   },
   "outputs": [],
   "source": []
  },
  {
   "cell_type": "code",
   "execution_count": 10,
   "metadata": {
    "collapsed": true
   },
   "outputs": [],
   "source": [
    "import pyprind"
   ]
  },
  {
   "cell_type": "code",
   "execution_count": 19,
   "metadata": {
    "collapsed": false
   },
   "outputs": [
    {
     "name": "stderr",
     "output_type": "stream",
     "text": [
      "0%                          100%\n",
      "[##############################] | ETA[sec]: 0.000 "
     ]
    },
    {
     "name": "stdout",
     "output_type": "stream",
     "text": [
      "Hi\n",
      "Hi\n",
      "Hi\n",
      "Hi\n",
      "Hi\n",
      "Hi\n",
      "Hi\n",
      "Hi\n",
      "Hi\n",
      "Hi\n"
     ]
    },
    {
     "name": "stderr",
     "output_type": "stream",
     "text": [
      "\n",
      "Total time elapsed: 0.055 sec\n"
     ]
    }
   ],
   "source": [
    "n = 10000\n",
    "bar = pyprind.ProgBar(n)\n",
    "for i in range(0, n):\n",
    "    if i%1000 == 0:\n",
    "        print \"Hi\"\n",
    "    bar.update()"
   ]
  }
 ],
 "metadata": {
  "kernelspec": {
   "display_name": "Python 2",
   "language": "python",
   "name": "python2"
  },
  "language_info": {
   "codemirror_mode": {
    "name": "ipython",
    "version": 2
   },
   "file_extension": ".py",
   "mimetype": "text/x-python",
   "name": "python",
   "nbconvert_exporter": "python",
   "pygments_lexer": "ipython2",
   "version": "2.7.10"
  }
 },
 "nbformat": 4,
 "nbformat_minor": 0
}
