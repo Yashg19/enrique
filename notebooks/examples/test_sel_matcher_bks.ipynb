{
 "cells": [
  {
   "cell_type": "code",
   "execution_count": 1,
   "metadata": {
    "collapsed": true
   },
   "outputs": [],
   "source": [
    "import sys\n",
    "sys.path.append('/Users/pradap/Documents/Research/Python-Package/enrique/')"
   ]
  },
  {
   "cell_type": "code",
   "execution_count": 2,
   "metadata": {
    "collapsed": false
   },
   "outputs": [
    {
     "name": "stderr",
     "output_type": "stream",
     "text": [
      "DEBUG:Cloud:Log file (/Users/pradap/.picloud/cloud.log) opened\n"
     ]
    },
    {
     "data": {
      "text/plain": [
       "True"
      ]
     },
     "execution_count": 2,
     "metadata": {},
     "output_type": "execute_result"
    }
   ],
   "source": [
    "import magellan as mg\n",
    "import pandas as pd\n",
    "mg.init_jvm()"
   ]
  },
  {
   "cell_type": "code",
   "execution_count": 3,
   "metadata": {
    "collapsed": true
   },
   "outputs": [],
   "source": [
    "# read walmart dataset\n",
    "wal =  mg.read_csv(mg.get_install_path() + '/datasets/books/walmart.csv', \n",
    "                    dtype={'isbn':pd.np.str, 'pages':pd.np.str, 'volume':pd.np.str, 'editionNum':pd.np.str},  \n",
    "                    low_memory=False, key='id')"
   ]
  },
  {
   "cell_type": "code",
   "execution_count": 4,
   "metadata": {
    "collapsed": true
   },
   "outputs": [],
   "source": [
    "bwk = mg.read_csv(mg.get_install_path() + '/datasets/books/bowker.csv', \n",
    "                  dtype={'isbn':pd.np.str, 'pages':pd.np.str, 'volume':pd.np.str, 'editionNum':pd.np.str},  \n",
    "                  low_memory=False, key='id')"
   ]
  },
  {
   "cell_type": "code",
   "execution_count": 5,
   "metadata": {
    "collapsed": true
   },
   "outputs": [],
   "source": [
    "ab = mg.AttrEquivalenceBlocker()\n",
    "C = ab.block_tables(wal, bwk, 'isbn', 'isbn', ['title', 'author'], ['title', 'author'])"
   ]
  },
  {
   "cell_type": "code",
   "execution_count": 6,
   "metadata": {
    "collapsed": false
   },
   "outputs": [],
   "source": [
    "# S = mg.sample_table(C, 45)"
   ]
  },
  {
   "cell_type": "code",
   "execution_count": 7,
   "metadata": {
    "collapsed": true
   },
   "outputs": [],
   "source": [
    "# L = mg.label_table(C, 'gold')"
   ]
  },
  {
   "cell_type": "code",
   "execution_count": 8,
   "metadata": {
    "collapsed": false
   },
   "outputs": [],
   "source": [
    "L = mg.read_csv('label_ab_correct_books.csv', ltable=wal, rtable=bwk)"
   ]
  },
  {
   "cell_type": "code",
   "execution_count": 9,
   "metadata": {
    "collapsed": false
   },
   "outputs": [
    {
     "name": "stderr",
     "output_type": "stream",
     "text": [
      "WARNING:magellan.feature.autofeaturegen:editionNum type and editionNum type are different\n",
      "WARNING:magellan.feature.autofeaturegen:pages type and pages type are different\n",
      "WARNING:magellan.feature.autofeaturegen:volume type and volume type are different\n"
     ]
    }
   ],
   "source": [
    "feat_table = mg.get_features_for_matching(wal, bwk)"
   ]
  },
  {
   "cell_type": "code",
   "execution_count": 10,
   "metadata": {
    "collapsed": false
   },
   "outputs": [],
   "source": [
    "f = feat_table.ix[[3,7,18,26, 53]]"
   ]
  },
  {
   "cell_type": "code",
   "execution_count": 11,
   "metadata": {
    "collapsed": false
   },
   "outputs": [],
   "source": [
    "G = mg.extract_feat_vecs(L, feat_table=f, attrs_after='gold')"
   ]
  },
  {
   "cell_type": "code",
   "execution_count": 12,
   "metadata": {
    "collapsed": false
   },
   "outputs": [],
   "source": [
    "dt = mg.DTMatcher()\n",
    "svm = mg.SVMMatcher()\n",
    "rf = mg.RFMatcher()\n",
    "nb = mg.NBMatcher()\n",
    "lg = mg.LogRegMatcher()"
   ]
  },
  {
   "cell_type": "code",
   "execution_count": 13,
   "metadata": {
    "collapsed": false
   },
   "outputs": [
    {
     "data": {
      "text/plain": [
       "68"
      ]
     },
     "execution_count": 13,
     "metadata": {},
     "output_type": "execute_result"
    }
   ],
   "source": [
    "len(G)"
   ]
  },
  {
   "cell_type": "code",
   "execution_count": 14,
   "metadata": {
    "collapsed": true
   },
   "outputs": [],
   "source": [
    "# impute values\n",
    "G.fillna(0, inplace=True)"
   ]
  },
  {
   "cell_type": "code",
   "execution_count": 45,
   "metadata": {
    "collapsed": false
   },
   "outputs": [
    {
     "data": {
      "text/html": [
       "<div>\n",
       "<table border=\"1\" class=\"dataframe\">\n",
       "  <thead>\n",
       "    <tr style=\"text-align: right;\">\n",
       "      <th></th>\n",
       "      <th>_id</th>\n",
       "      <th>ltable.id</th>\n",
       "      <th>rtable.id</th>\n",
       "      <th>title_title_jac_qgm_3_qgm_3</th>\n",
       "      <th>author_author_jac_qgm_3_qgm_3</th>\n",
       "      <th>binding_binding_jac_qgm_3_qgm_3</th>\n",
       "      <th>publisher_publisher_jac_qgm_3_qgm_3</th>\n",
       "      <th>lang_lang_lev</th>\n",
       "      <th>gold</th>\n",
       "    </tr>\n",
       "  </thead>\n",
       "  <tbody>\n",
       "    <tr>\n",
       "      <th>0</th>\n",
       "      <td>0</td>\n",
       "      <td>4086892</td>\n",
       "      <td>9780226156439</td>\n",
       "      <td>0.785714</td>\n",
       "      <td>1.000000</td>\n",
       "      <td>0</td>\n",
       "      <td>0.518519</td>\n",
       "      <td>1</td>\n",
       "      <td>1</td>\n",
       "    </tr>\n",
       "    <tr>\n",
       "      <th>1</th>\n",
       "      <td>1</td>\n",
       "      <td>535599</td>\n",
       "      <td>9780060655808</td>\n",
       "      <td>0.222222</td>\n",
       "      <td>1.000000</td>\n",
       "      <td>0</td>\n",
       "      <td>0.320000</td>\n",
       "      <td>1</td>\n",
       "      <td>1</td>\n",
       "    </tr>\n",
       "    <tr>\n",
       "      <th>2</th>\n",
       "      <td>2</td>\n",
       "      <td>12537042</td>\n",
       "      <td>9780030402432</td>\n",
       "      <td>0.243243</td>\n",
       "      <td>0.285714</td>\n",
       "      <td>0</td>\n",
       "      <td>0.025641</td>\n",
       "      <td>0</td>\n",
       "      <td>1</td>\n",
       "    </tr>\n",
       "    <tr>\n",
       "      <th>3</th>\n",
       "      <td>3</td>\n",
       "      <td>1386538</td>\n",
       "      <td>9780130901262</td>\n",
       "      <td>1.000000</td>\n",
       "      <td>0.785714</td>\n",
       "      <td>1</td>\n",
       "      <td>0.733333</td>\n",
       "      <td>1</td>\n",
       "      <td>1</td>\n",
       "    </tr>\n",
       "    <tr>\n",
       "      <th>4</th>\n",
       "      <td>4</td>\n",
       "      <td>13945932</td>\n",
       "      <td>9780205700424</td>\n",
       "      <td>0.375000</td>\n",
       "      <td>0.375000</td>\n",
       "      <td>0</td>\n",
       "      <td>0.733333</td>\n",
       "      <td>1</td>\n",
       "      <td>1</td>\n",
       "    </tr>\n",
       "  </tbody>\n",
       "</table>\n",
       "</div>"
      ],
      "text/plain": [
       "   _id  ltable.id      rtable.id  title_title_jac_qgm_3_qgm_3  \\\n",
       "0    0    4086892  9780226156439                     0.785714   \n",
       "1    1     535599  9780060655808                     0.222222   \n",
       "2    2   12537042  9780030402432                     0.243243   \n",
       "3    3    1386538  9780130901262                     1.000000   \n",
       "4    4   13945932  9780205700424                     0.375000   \n",
       "\n",
       "   author_author_jac_qgm_3_qgm_3  binding_binding_jac_qgm_3_qgm_3  \\\n",
       "0                       1.000000                                0   \n",
       "1                       1.000000                                0   \n",
       "2                       0.285714                                0   \n",
       "3                       0.785714                                1   \n",
       "4                       0.375000                                0   \n",
       "\n",
       "   publisher_publisher_jac_qgm_3_qgm_3  lang_lang_lev  gold  \n",
       "0                             0.518519              1     1  \n",
       "1                             0.320000              1     1  \n",
       "2                             0.025641              0     1  \n",
       "3                             0.733333              1     1  \n",
       "4                             0.733333              1     1  "
      ]
     },
     "execution_count": 45,
     "metadata": {},
     "output_type": "execute_result"
    }
   ],
   "source": [
    "G.head()"
   ]
  },
  {
   "cell_type": "code",
   "execution_count": 15,
   "metadata": {
    "collapsed": false
   },
   "outputs": [],
   "source": [
    "selected, stats = mg.select_matcher([dt, rf, svm, nb, lg], table=G, exclude_attrs=['_id', 'ltable.id', 'rtable.id', 'gold'], \n",
    "                                    target_attr='gold', metric='precision')"
   ]
  },
  {
   "cell_type": "code",
   "execution_count": 16,
   "metadata": {
    "collapsed": false
   },
   "outputs": [
    {
     "data": {
      "text/plain": [
       "<magellan.matcher.dtmatcher.DTMatcher at 0x11efdabd0>"
      ]
     },
     "execution_count": 16,
     "metadata": {},
     "output_type": "execute_result"
    }
   ],
   "source": [
    "selected"
   ]
  },
  {
   "cell_type": "code",
   "execution_count": 17,
   "metadata": {
    "collapsed": true
   },
   "outputs": [],
   "source": [
    "d = mg.train_test_split(G, train_proportion=0.7)\n",
    "train = d['train']\n",
    "test = d['test']\n"
   ]
  },
  {
   "cell_type": "code",
   "execution_count": 57,
   "metadata": {
    "collapsed": false
   },
   "outputs": [],
   "source": [
    "k = train.iloc[0]"
   ]
  },
  {
   "cell_type": "code",
   "execution_count": 55,
   "metadata": {
    "collapsed": false
   },
   "outputs": [
    {
     "data": {
      "text/plain": [
       "dtype('int64')"
      ]
     },
     "execution_count": 55,
     "metadata": {},
     "output_type": "execute_result"
    }
   ],
   "source": [
    "train.dtypes['_id']"
   ]
  },
  {
   "cell_type": "code",
   "execution_count": 65,
   "metadata": {
    "collapsed": false
   },
   "outputs": [
    {
     "name": "stderr",
     "output_type": "stream",
     "text": [
      "/Users/pradap/anaconda/lib/python2.7/site-packages/IPython/kernel/__main__.py:2: SettingWithCopyWarning: \n",
      "A value is trying to be set on a copy of a slice from a DataFrame\n",
      "\n",
      "See the the caveats in the documentation: http://pandas.pydata.org/pandas-docs/stable/indexing.html#indexing-view-versus-copy\n",
      "  from IPython.kernel.zmq import kernelapp as app\n"
     ]
    }
   ],
   "source": [
    "for c in k.index:\n",
    "    k[c] = k[c].astype(train.dtypes[c])"
   ]
  },
  {
   "cell_type": "code",
   "execution_count": 113,
   "metadata": {
    "collapsed": false
   },
   "outputs": [],
   "source": [
    "t = train.iloc[[0]]"
   ]
  },
  {
   "cell_type": "code",
   "execution_count": 129,
   "metadata": {
    "collapsed": false
   },
   "outputs": [],
   "source": [
    "y = t.ix[t.index.values[0],'ltable.id']"
   ]
  },
  {
   "cell_type": "code",
   "execution_count": 130,
   "metadata": {
    "collapsed": false
   },
   "outputs": [
    {
     "data": {
      "text/plain": [
       "4564015"
      ]
     },
     "execution_count": 130,
     "metadata": {},
     "output_type": "execute_result"
    }
   ],
   "source": [
    "y"
   ]
  },
  {
   "cell_type": "code",
   "execution_count": 18,
   "metadata": {
    "collapsed": false
   },
   "outputs": [],
   "source": [
    "dt.fit(table=train, exclude_attrs=['_id', 'ltable.id', 'rtable.id', 'gold'], target_attr='gold')\n"
   ]
  },
  {
   "cell_type": "code",
   "execution_count": 19,
   "metadata": {
    "collapsed": false,
    "scrolled": true
   },
   "outputs": [
    {
     "name": "stdout",
     "output_type": "stream",
     "text": [
      "Execute the following command in IPython command prompt:\n",
      "\n",
      "from IPython.display import Image\n",
      "Image(filename='dt_.png') \n"
     ]
    }
   ],
   "source": [
    "mg.visualize_tree(dt, G.columns, exclude_attrs=['_id', 'ltable.id', 'rtable.id', 'gold'])"
   ]
  },
  {
   "cell_type": "code",
   "execution_count": 20,
   "metadata": {
    "collapsed": false
   },
   "outputs": [
    {
     "data": {
      "image/png": "[encoded data removed]",
      "text/plain": [
       "<IPython.core.display.Image object>"
      ]
     },
     "execution_count": 20,
     "metadata": {},
     "output_type": "execute_result"
    }
   ],
   "source": [
    "from IPython.display import Image\n",
    "Image(filename='dt_.png') "
   ]
  },
  {
   "cell_type": "code",
   "execution_count": 21,
   "metadata": {
    "collapsed": false
   },
   "outputs": [
    {
     "data": {
      "text/html": [
       "<div>\n",
       "<table border=\"1\" class=\"dataframe\">\n",
       "  <thead>\n",
       "    <tr style=\"text-align: right;\">\n",
       "      <th></th>\n",
       "      <th>_id</th>\n",
       "      <th>ltable.id</th>\n",
       "      <th>rtable.id</th>\n",
       "      <th>ltable.title</th>\n",
       "      <th>ltable.author</th>\n",
       "      <th>rtable.title</th>\n",
       "      <th>rtable.author</th>\n",
       "      <th>gold</th>\n",
       "    </tr>\n",
       "  </thead>\n",
       "  <tbody>\n",
       "    <tr>\n",
       "      <th>0</th>\n",
       "      <td>0</td>\n",
       "      <td>4086892</td>\n",
       "      <td>9780226156439</td>\n",
       "      <td>The Bedtrick: Tales of Sex and Masquerade</td>\n",
       "      <td>Doniger, Wendy</td>\n",
       "      <td>Bedtrick : Tales of Sex and Masquerade</td>\n",
       "      <td>Doniger, Wendy</td>\n",
       "      <td>1</td>\n",
       "    </tr>\n",
       "    <tr>\n",
       "      <th>1</th>\n",
       "      <td>1</td>\n",
       "      <td>535599</td>\n",
       "      <td>9780060655808</td>\n",
       "      <td>HarperCollins Study Bible-NRSV</td>\n",
       "      <td>Meeks, Wayne A.</td>\n",
       "      <td>Harpercollins Study Bible Standard Version wit...</td>\n",
       "      <td>Meeks, Wayne A.</td>\n",
       "      <td>1</td>\n",
       "    </tr>\n",
       "    <tr>\n",
       "      <th>2</th>\n",
       "      <td>2</td>\n",
       "      <td>12537042</td>\n",
       "      <td>9780030402432</td>\n",
       "      <td>Se CD-R(set of 25)Allez Viens LV 2 2006</td>\n",
       "      <td>Damado</td>\n",
       "      <td>Allez Viens</td>\n",
       "      <td>d'Amado</td>\n",
       "      <td>1</td>\n",
       "    </tr>\n",
       "    <tr>\n",
       "      <th>3</th>\n",
       "      <td>3</td>\n",
       "      <td>1386538</td>\n",
       "      <td>9780130901262</td>\n",
       "      <td>Adaptive Filter Theory</td>\n",
       "      <td>Haykin, Simon S.</td>\n",
       "      <td>Adaptive Filter Theory</td>\n",
       "      <td>Haykin, Simon</td>\n",
       "      <td>1</td>\n",
       "    </tr>\n",
       "    <tr>\n",
       "      <th>4</th>\n",
       "      <td>4</td>\n",
       "      <td>13945932</td>\n",
       "      <td>9780205700424</td>\n",
       "      <td>An Introduction to Theories of Learning [With ...</td>\n",
       "      <td>Olson, Matthew</td>\n",
       "      <td>Introduction to the Theories of Learning- (Val...</td>\n",
       "      <td>Olson, Matthew H. Hergenhahn, B. R.</td>\n",
       "      <td>1</td>\n",
       "    </tr>\n",
       "    <tr>\n",
       "      <th>5</th>\n",
       "      <td>5</td>\n",
       "      <td>15280600</td>\n",
       "      <td>9780217455008</td>\n",
       "      <td>Catalogue of Earthquakes on the Pacific Coast,...</td>\n",
       "      <td>McAdie, Alexander</td>\n",
       "      <td>Catalogue of Earthquakes on the Pacific Coast,...</td>\n",
       "      <td>Mcadie, Alexander</td>\n",
       "      <td>1</td>\n",
       "    </tr>\n",
       "    <tr>\n",
       "      <th>6</th>\n",
       "      <td>6</td>\n",
       "      <td>15286798</td>\n",
       "      <td>9780217825382</td>\n",
       "      <td>Cured by an Incurable, by Crowquill and Pencil...</td>\n",
       "      <td>Pseud, Crowquill</td>\n",
       "      <td>Cured by an Incurable, by Crowquill and Pencil...</td>\n",
       "      <td>Pseud, Crowquill</td>\n",
       "      <td>1</td>\n",
       "    </tr>\n",
       "    <tr>\n",
       "      <th>7</th>\n",
       "      <td>7</td>\n",
       "      <td>15295588</td>\n",
       "      <td>9780217940207</td>\n",
       "      <td>The Daring Adventures of Kit Carson and Fremon...</td>\n",
       "      <td>Frmont, John Charles</td>\n",
       "      <td>Daring Adventures of Kit Carson and Fremont</td>\n",
       "      <td>Frmont, John Charles</td>\n",
       "      <td>0</td>\n",
       "    </tr>\n",
       "    <tr>\n",
       "      <th>8</th>\n",
       "      <td>8</td>\n",
       "      <td>15334872</td>\n",
       "      <td>9780217270052</td>\n",
       "      <td>Personal Efficiency, Applied Salesmanship, and...</td>\n",
       "      <td>Allen, Irving Ross</td>\n",
       "      <td>Personal Efficiency, Applied Salesmanship, and...</td>\n",
       "      <td>Allen, Irving Ross</td>\n",
       "      <td>1</td>\n",
       "    </tr>\n",
       "    <tr>\n",
       "      <th>9</th>\n",
       "      <td>9</td>\n",
       "      <td>15338150</td>\n",
       "      <td>9780217304399</td>\n",
       "      <td>The Universal Merchant; In Theory and Practice...</td>\n",
       "      <td>Alldridge, W. J.</td>\n",
       "      <td>Universal Merchant</td>\n",
       "      <td>Alldridge, W. J.</td>\n",
       "      <td>1</td>\n",
       "    </tr>\n",
       "    <tr>\n",
       "      <th>10</th>\n",
       "      <td>10</td>\n",
       "      <td>1566948</td>\n",
       "      <td>9780070479081</td>\n",
       "      <td>The Elusive Eden: A New History of California</td>\n",
       "      <td>Rice, Richard B.</td>\n",
       "      <td>Elusive Eden : A New History of California</td>\n",
       "      <td>Rice, Richard Bullough, Bonnie Bullough, Willi...</td>\n",
       "      <td>1</td>\n",
       "    </tr>\n",
       "    <tr>\n",
       "      <th>11</th>\n",
       "      <td>11</td>\n",
       "      <td>4025755</td>\n",
       "      <td>9780072860948</td>\n",
       "      <td>Taking Off Beginning English Literacy Workbook</td>\n",
       "      <td>NaN</td>\n",
       "      <td>Taking off Beginning English Literacy Workbook</td>\n",
       "      <td>Hancock Fesler, Susan Newman, Christy</td>\n",
       "      <td>0</td>\n",
       "    </tr>\n",
       "    <tr>\n",
       "      <th>12</th>\n",
       "      <td>12</td>\n",
       "      <td>4564015</td>\n",
       "      <td>9780080446837</td>\n",
       "      <td>Vintage Papers from the Lancet</td>\n",
       "      <td>Richardson, Ruth</td>\n",
       "      <td>Vintage Papers from the Lancet</td>\n",
       "      <td>NaN</td>\n",
       "      <td>0</td>\n",
       "    </tr>\n",
       "    <tr>\n",
       "      <th>13</th>\n",
       "      <td>13</td>\n",
       "      <td>5050626</td>\n",
       "      <td>9780030513374</td>\n",
       "      <td>Practical Mathematics: Skills and Concepts</td>\n",
       "      <td>Fredrick, Marguerite M.</td>\n",
       "      <td>Practical Math : Skills and Concepts</td>\n",
       "      <td>Fredrick</td>\n",
       "      <td>1</td>\n",
       "    </tr>\n",
       "    <tr>\n",
       "      <th>14</th>\n",
       "      <td>14</td>\n",
       "      <td>522144</td>\n",
       "      <td>9780135285718</td>\n",
       "      <td>Learning American Sign Language</td>\n",
       "      <td>Humphries, Tom</td>\n",
       "      <td>Learning American Sign Language</td>\n",
       "      <td>Humphries, Tom L. Padden, Carol A.</td>\n",
       "      <td>1</td>\n",
       "    </tr>\n",
       "    <tr>\n",
       "      <th>15</th>\n",
       "      <td>15</td>\n",
       "      <td>5514791</td>\n",
       "      <td>9780114958367</td>\n",
       "      <td>Conserving Bogs: The Management Handbook</td>\n",
       "      <td>Stoneman, Rob</td>\n",
       "      <td>Conserving Bogs : The Management Handbook</td>\n",
       "      <td>TSO Staff</td>\n",
       "      <td>0</td>\n",
       "    </tr>\n",
       "    <tr>\n",
       "      <th>16</th>\n",
       "      <td>16</td>\n",
       "      <td>5681971</td>\n",
       "      <td>9780073380339</td>\n",
       "      <td>Fundamentals of Digital Logic with Verilog Des...</td>\n",
       "      <td>Brown, Stephen</td>\n",
       "      <td>Fundamentals of Digital Logic with Verilog Design</td>\n",
       "      <td>Vranesic, Zvonko Brown, Stephen</td>\n",
       "      <td>1</td>\n",
       "    </tr>\n",
       "    <tr>\n",
       "      <th>17</th>\n",
       "      <td>17</td>\n",
       "      <td>6000607</td>\n",
       "      <td>9780061374050</td>\n",
       "      <td>Not Quite What I Was Planning: Six-Word Memoir...</td>\n",
       "      <td>Fershleiser, Rachel</td>\n",
       "      <td>Not Quite What I Was Planning : Six-Word Memoi...</td>\n",
       "      <td>Smith, Larry Fershleiser, Rachel</td>\n",
       "      <td>1</td>\n",
       "    </tr>\n",
       "    <tr>\n",
       "      <th>18</th>\n",
       "      <td>18</td>\n",
       "      <td>7807428</td>\n",
       "      <td>9780077217181</td>\n",
       "      <td>The Art of Public Speaking [With Booklet]</td>\n",
       "      <td>Lucas, Stephen E.</td>\n",
       "      <td>Art of Public Speaking</td>\n",
       "      <td>Lucas, Stephen</td>\n",
       "      <td>1</td>\n",
       "    </tr>\n",
       "    <tr>\n",
       "      <th>19</th>\n",
       "      <td>19</td>\n",
       "      <td>7809485</td>\n",
       "      <td>9780152062279</td>\n",
       "      <td>Love Among the Walnuts</td>\n",
       "      <td>Ferris, Jean</td>\n",
       "      <td>Love among the Walnuts</td>\n",
       "      <td>Ferris, Jean</td>\n",
       "      <td>1</td>\n",
       "    </tr>\n",
       "    <tr>\n",
       "      <th>20</th>\n",
       "      <td>20</td>\n",
       "      <td>4082544</td>\n",
       "      <td>9780071451574</td>\n",
       "      <td>Business Calculus Demystified</td>\n",
       "      <td>Huettenmueller, Rhonda</td>\n",
       "      <td>Business Calculus Demystified</td>\n",
       "      <td>Huettenmueller, Rhonda</td>\n",
       "      <td>0</td>\n",
       "    </tr>\n",
       "    <tr>\n",
       "      <th>21</th>\n",
       "      <td>21</td>\n",
       "      <td>4763339</td>\n",
       "      <td>9780205327270</td>\n",
       "      <td>Transition Assessment: Planning Transition and...</td>\n",
       "      <td>Miller, Robert J.</td>\n",
       "      <td>Transition Assessment : Planning Transition an...</td>\n",
       "      <td>Corbey, Stephanie A. Lombard, Richard C. Mille...</td>\n",
       "      <td>0</td>\n",
       "    </tr>\n",
       "    <tr>\n",
       "      <th>22</th>\n",
       "      <td>22</td>\n",
       "      <td>5087512</td>\n",
       "      <td>9780028348261</td>\n",
       "      <td>Geometry: Concepts and Applications, Study Gui...</td>\n",
       "      <td>McGraw-Hill</td>\n",
       "      <td>Geometry : Concepts and Applications</td>\n",
       "      <td>McGraw-Hill Staff</td>\n",
       "      <td>1</td>\n",
       "    </tr>\n",
       "    <tr>\n",
       "      <th>23</th>\n",
       "      <td>23</td>\n",
       "      <td>515921</td>\n",
       "      <td>9780140447040</td>\n",
       "      <td>Sixteen Satires: Revised Edition</td>\n",
       "      <td>Juvenal, Decimus Junius Juvenalis</td>\n",
       "      <td>Sixteen Satires</td>\n",
       "      <td>Juvenal</td>\n",
       "      <td>0</td>\n",
       "    </tr>\n",
       "    <tr>\n",
       "      <th>24</th>\n",
       "      <td>24</td>\n",
       "      <td>17800413</td>\n",
       "      <td>9780061490057</td>\n",
       "      <td>Ascendant</td>\n",
       "      <td>Peterfreund, Diana</td>\n",
       "      <td>Ascendant</td>\n",
       "      <td>Peterfreund, Diana</td>\n",
       "      <td>1</td>\n",
       "    </tr>\n",
       "    <tr>\n",
       "      <th>25</th>\n",
       "      <td>25</td>\n",
       "      <td>19747771</td>\n",
       "      <td>9780217516556</td>\n",
       "      <td>The Bog of Stars; And Other Stories and Sketch...</td>\n",
       "      <td>O'Grady, Standish</td>\n",
       "      <td>Bog of Stars; and Other Stories and Sketches o...</td>\n",
       "      <td>O'Grady, Standish</td>\n",
       "      <td>1</td>\n",
       "    </tr>\n",
       "    <tr>\n",
       "      <th>26</th>\n",
       "      <td>26</td>\n",
       "      <td>22922094</td>\n",
       "      <td>9780077864262</td>\n",
       "      <td>Economics Alternate Edition + Connect Plus</td>\n",
       "      <td>McConnell, Campbell</td>\n",
       "      <td>Gen cmb alt ed econ; Cnct+ac</td>\n",
       "      <td>Flynn, Sean Brue, Stanley McConnell, Campbell</td>\n",
       "      <td>0</td>\n",
       "    </tr>\n",
       "    <tr>\n",
       "      <th>27</th>\n",
       "      <td>27</td>\n",
       "      <td>2351244</td>\n",
       "      <td>9780226492360</td>\n",
       "      <td>Foundations of Biogeography: Classic Papers wi...</td>\n",
       "      <td>Lomolino, Mark V.</td>\n",
       "      <td>Foundations of Biogeography : Classic Papers w...</td>\n",
       "      <td>NaN</td>\n",
       "      <td>0</td>\n",
       "    </tr>\n",
       "    <tr>\n",
       "      <th>28</th>\n",
       "      <td>28</td>\n",
       "      <td>2524032</td>\n",
       "      <td>9780198280354</td>\n",
       "      <td>Elitism, Populism, and European Politics</td>\n",
       "      <td>Hayward, Jack</td>\n",
       "      <td>Elitism, Populism, and European Politics</td>\n",
       "      <td>NaN</td>\n",
       "      <td>0</td>\n",
       "    </tr>\n",
       "    <tr>\n",
       "      <th>29</th>\n",
       "      <td>29</td>\n",
       "      <td>3618742</td>\n",
       "      <td>9780060837563</td>\n",
       "      <td>Native Son</td>\n",
       "      <td>Wright, Richard</td>\n",
       "      <td>Native Son</td>\n",
       "      <td>Wright, Richard</td>\n",
       "      <td>1</td>\n",
       "    </tr>\n",
       "    <tr>\n",
       "      <th>...</th>\n",
       "      <td>...</td>\n",
       "      <td>...</td>\n",
       "      <td>...</td>\n",
       "      <td>...</td>\n",
       "      <td>...</td>\n",
       "      <td>...</td>\n",
       "      <td>...</td>\n",
       "      <td>...</td>\n",
       "    </tr>\n",
       "    <tr>\n",
       "      <th>38</th>\n",
       "      <td>38</td>\n",
       "      <td>16284366</td>\n",
       "      <td>9780160879098</td>\n",
       "      <td>Congressional Record (Bound Volumes): Volume 1...</td>\n",
       "      <td>U S Congress</td>\n",
       "      <td>Congressional Record, V. 153, Pt. 20, October ...</td>\n",
       "      <td>NaN</td>\n",
       "      <td>0</td>\n",
       "    </tr>\n",
       "    <tr>\n",
       "      <th>39</th>\n",
       "      <td>39</td>\n",
       "      <td>10240412</td>\n",
       "      <td>9780199556717</td>\n",
       "      <td>Evolution and the Levels of Selection</td>\n",
       "      <td>Okasha, Samir</td>\n",
       "      <td>Evolution and the Levels of Selection</td>\n",
       "      <td>Okasha, Samir</td>\n",
       "      <td>1</td>\n",
       "    </tr>\n",
       "    <tr>\n",
       "      <th>40</th>\n",
       "      <td>40</td>\n",
       "      <td>14022273</td>\n",
       "      <td>9780217263016</td>\n",
       "      <td>New Guide of Rome and the Enirons According to...</td>\n",
       "      <td>Piale, Luigi</td>\n",
       "      <td>New Guide of Rome and the Enirons According to...</td>\n",
       "      <td>Piale, Luigi</td>\n",
       "      <td>1</td>\n",
       "    </tr>\n",
       "    <tr>\n",
       "      <th>41</th>\n",
       "      <td>41</td>\n",
       "      <td>14022804</td>\n",
       "      <td>9780217519724</td>\n",
       "      <td>Novels and Novelists; From Elizabeth to Victoria</td>\n",
       "      <td>Jeaffreson, John Cordy</td>\n",
       "      <td>Novels and Novelists, from Elizabeth to Victoria</td>\n",
       "      <td>Jeaffreson, John Cordy</td>\n",
       "      <td>1</td>\n",
       "    </tr>\n",
       "    <tr>\n",
       "      <th>42</th>\n",
       "      <td>42</td>\n",
       "      <td>14026160</td>\n",
       "      <td>9780217021159</td>\n",
       "      <td>Memoirs and Campaigns of Charles John Prince R...</td>\n",
       "      <td>Philippart, John</td>\n",
       "      <td>Memoirs and Campaigns of Charles John Prince R...</td>\n",
       "      <td>Philippart, John</td>\n",
       "      <td>1</td>\n",
       "    </tr>\n",
       "    <tr>\n",
       "      <th>43</th>\n",
       "      <td>43</td>\n",
       "      <td>14028323</td>\n",
       "      <td>9780217618472</td>\n",
       "      <td>The Wrack of the Storm Volume 1916, PT. 1</td>\n",
       "      <td>Maeterlinck, Maurice</td>\n",
       "      <td>Wrack of the Storm</td>\n",
       "      <td>Maeterlinck, Maurice</td>\n",
       "      <td>0</td>\n",
       "    </tr>\n",
       "    <tr>\n",
       "      <th>44</th>\n",
       "      <td>44</td>\n",
       "      <td>15282052</td>\n",
       "      <td>9780217761901</td>\n",
       "      <td>The Growth of Christianity; London Lectures</td>\n",
       "      <td>Gardner, Percy</td>\n",
       "      <td>Growth of Christianity</td>\n",
       "      <td>Gardner, Percy</td>\n",
       "      <td>1</td>\n",
       "    </tr>\n",
       "    <tr>\n",
       "      <th>45</th>\n",
       "      <td>45</td>\n",
       "      <td>15283778</td>\n",
       "      <td>9780217880725</td>\n",
       "      <td>Outlines of Logic and Metaphysics</td>\n",
       "      <td>Erdmann, Johann Eduard</td>\n",
       "      <td>Outlines of Logic and Metaphysics</td>\n",
       "      <td>Erdmann, Johann Eduard</td>\n",
       "      <td>1</td>\n",
       "    </tr>\n",
       "    <tr>\n",
       "      <th>46</th>\n",
       "      <td>46</td>\n",
       "      <td>15305465</td>\n",
       "      <td>9780217033985</td>\n",
       "      <td>Practical Chemistry; The Principles of Qualita...</td>\n",
       "      <td>Tilden, William Augustus</td>\n",
       "      <td>Practical Chemistry</td>\n",
       "      <td>Tilden, William A.</td>\n",
       "      <td>1</td>\n",
       "    </tr>\n",
       "    <tr>\n",
       "      <th>47</th>\n",
       "      <td>47</td>\n",
       "      <td>15307220</td>\n",
       "      <td>9780217970747</td>\n",
       "      <td>Peggy Ware</td>\n",
       "      <td>Howard, Milford Wriarson</td>\n",
       "      <td>Peggy Ware</td>\n",
       "      <td>Howard, Milford Wriarson</td>\n",
       "      <td>1</td>\n",
       "    </tr>\n",
       "    <tr>\n",
       "      <th>48</th>\n",
       "      <td>48</td>\n",
       "      <td>15328882</td>\n",
       "      <td>9780217020985</td>\n",
       "      <td>Memoirs of the Reign of King George the Third ...</td>\n",
       "      <td>Walpole, Horace</td>\n",
       "      <td>Memoirs of the Reign of King George The</td>\n",
       "      <td>Walpole, Horace</td>\n",
       "      <td>0</td>\n",
       "    </tr>\n",
       "    <tr>\n",
       "      <th>49</th>\n",
       "      <td>49</td>\n",
       "      <td>15345679</td>\n",
       "      <td>9780217759441</td>\n",
       "      <td>The Tripled Crown; A Book of English, Scotch a...</td>\n",
       "      <td>Author, Unknown</td>\n",
       "      <td>Tripled Crown</td>\n",
       "      <td>NaN</td>\n",
       "      <td>0</td>\n",
       "    </tr>\n",
       "    <tr>\n",
       "      <th>50</th>\n",
       "      <td>50</td>\n",
       "      <td>15772172</td>\n",
       "      <td>9780061965548</td>\n",
       "      <td>How Shakespeare Changed Everything</td>\n",
       "      <td>Marche, Stephen</td>\n",
       "      <td>How Shakespeare Changed Everything</td>\n",
       "      <td>Marche, Stephen</td>\n",
       "      <td>1</td>\n",
       "    </tr>\n",
       "    <tr>\n",
       "      <th>51</th>\n",
       "      <td>51</td>\n",
       "      <td>1581211</td>\n",
       "      <td>9780201738278</td>\n",
       "      <td>Broadband Internet Connections: A User's Guide...</td>\n",
       "      <td>Smith, Roderick W.</td>\n",
       "      <td>Broadband Internet Connections : A User's Guid...</td>\n",
       "      <td>Smith, Roderick W.</td>\n",
       "      <td>0</td>\n",
       "    </tr>\n",
       "    <tr>\n",
       "      <th>52</th>\n",
       "      <td>52</td>\n",
       "      <td>15912308</td>\n",
       "      <td>9780077905972</td>\n",
       "      <td>Combo: Loose Leaf Version of Anatomy &amp; Physiol...</td>\n",
       "      <td>Saladin, Kenneth</td>\n",
       "      <td>Combo: Loose Leaf Version of Anatomy &amp; Physiol...</td>\n",
       "      <td>Saladin, Kenneth</td>\n",
       "      <td>1</td>\n",
       "    </tr>\n",
       "    <tr>\n",
       "      <th>53</th>\n",
       "      <td>53</td>\n",
       "      <td>10083762</td>\n",
       "      <td>9780142412145</td>\n",
       "      <td>Let It Snow: Three Holiday Romances</td>\n",
       "      <td>Green, John</td>\n",
       "      <td>Let It Snow : Three Holiday Romances</td>\n",
       "      <td>Myracle, Lauren Green, John Johnson, Maureen</td>\n",
       "      <td>1</td>\n",
       "    </tr>\n",
       "    <tr>\n",
       "      <th>54</th>\n",
       "      <td>54</td>\n",
       "      <td>10722263</td>\n",
       "      <td>9780195386370</td>\n",
       "      <td>Stockholm: A Cultural History</td>\n",
       "      <td>Griffiths, Tony</td>\n",
       "      <td>Stockholm : A Cultural History</td>\n",
       "      <td>Griffiths, Tony</td>\n",
       "      <td>1</td>\n",
       "    </tr>\n",
       "    <tr>\n",
       "      <th>55</th>\n",
       "      <td>55</td>\n",
       "      <td>10948704</td>\n",
       "      <td>9780131077744</td>\n",
       "      <td>Coll Acctg 1-26&amp; Sg&amp; Wp&amp; Pchtr&amp; Pch8.0&amp; Tut&amp; Ebiz</td>\n",
       "      <td>NaN</td>\n",
       "      <td>Coll Acctg 1-26 and Sg and Wp and Pchtr and Pc...</td>\n",
       "      <td>Slater, Jeffrey</td>\n",
       "      <td>0</td>\n",
       "    </tr>\n",
       "    <tr>\n",
       "      <th>56</th>\n",
       "      <td>56</td>\n",
       "      <td>13433980</td>\n",
       "      <td>9780205753413</td>\n",
       "      <td>Janson's Basic History of Western Art [With Ac...</td>\n",
       "      <td>Davies, Penelope J. E.</td>\n",
       "      <td>Janson's Basic History of Western Art, Books a...</td>\n",
       "      <td>Jacobs, Joseph F. Roberts, Ann M. Davies Davie...</td>\n",
       "      <td>1</td>\n",
       "    </tr>\n",
       "    <tr>\n",
       "      <th>57</th>\n",
       "      <td>57</td>\n",
       "      <td>14022189</td>\n",
       "      <td>9780217341356</td>\n",
       "      <td>A History of the County of Pictou, Nova Scotia</td>\n",
       "      <td>Patterson, George</td>\n",
       "      <td>History of the County of Pictou, Nova Scoti</td>\n",
       "      <td>Patterson, George</td>\n",
       "      <td>1</td>\n",
       "    </tr>\n",
       "    <tr>\n",
       "      <th>58</th>\n",
       "      <td>58</td>\n",
       "      <td>15289952</td>\n",
       "      <td>9780217048255</td>\n",
       "      <td>Shores of the Mediterranean</td>\n",
       "      <td>Schroeder, Francis</td>\n",
       "      <td>Shores of the Mediterranean</td>\n",
       "      <td>Schroeder, Francis</td>\n",
       "      <td>1</td>\n",
       "    </tr>\n",
       "    <tr>\n",
       "      <th>59</th>\n",
       "      <td>59</td>\n",
       "      <td>15291838</td>\n",
       "      <td>9780217255035</td>\n",
       "      <td>Laurie's Graduated Series of Reading Lesson Books</td>\n",
       "      <td>Laurie, James Stuart</td>\n",
       "      <td>Laurie's Graduated Series of Reading Lesson Books</td>\n",
       "      <td>Laurie, James Stuart</td>\n",
       "      <td>1</td>\n",
       "    </tr>\n",
       "    <tr>\n",
       "      <th>60</th>\n",
       "      <td>60</td>\n",
       "      <td>15326268</td>\n",
       "      <td>9780217106894</td>\n",
       "      <td>The Spirit of the New Education</td>\n",
       "      <td>Hopkins, Louisa Parsons Stone</td>\n",
       "      <td>Spirit of the New Education</td>\n",
       "      <td>Hopkins, Louisa Parsons Stone</td>\n",
       "      <td>1</td>\n",
       "    </tr>\n",
       "    <tr>\n",
       "      <th>61</th>\n",
       "      <td>61</td>\n",
       "      <td>15341050</td>\n",
       "      <td>9780217227834</td>\n",
       "      <td>Jacob Vanderlint on Money Answers All Things. ...</td>\n",
       "      <td>Vanderlint, Jacob</td>\n",
       "      <td>Jacob VanDerlint on Money Answers All Things 1734</td>\n",
       "      <td>VanDerlint, Jacob</td>\n",
       "      <td>1</td>\n",
       "    </tr>\n",
       "    <tr>\n",
       "      <th>62</th>\n",
       "      <td>62</td>\n",
       "      <td>15350595</td>\n",
       "      <td>9780217872232</td>\n",
       "      <td>Skin Diseases of Parasitic Origin; Their Natur...</td>\n",
       "      <td>Fox, Tilbury</td>\n",
       "      <td>Skin Diseases of Parasitic Origin</td>\n",
       "      <td>Fox, Tilbury</td>\n",
       "      <td>1</td>\n",
       "    </tr>\n",
       "    <tr>\n",
       "      <th>63</th>\n",
       "      <td>63</td>\n",
       "      <td>15358361</td>\n",
       "      <td>9780217249775</td>\n",
       "      <td>Proceedings of 1st- Annual Convention</td>\n",
       "      <td>Association, Idaho Bankers</td>\n",
       "      <td>Proceedings of 1st- Annual Convention</td>\n",
       "      <td>Association, Idaho Bankers</td>\n",
       "      <td>1</td>\n",
       "    </tr>\n",
       "    <tr>\n",
       "      <th>64</th>\n",
       "      <td>64</td>\n",
       "      <td>15359574</td>\n",
       "      <td>9780217298445</td>\n",
       "      <td>The War Guilt and Peace Crime of the Entente A...</td>\n",
       "      <td>Bruce, Stewart E.</td>\n",
       "      <td>War Guilt and Peace Crime of the Entente Allies</td>\n",
       "      <td>Bruce, Stewart E.</td>\n",
       "      <td>1</td>\n",
       "    </tr>\n",
       "    <tr>\n",
       "      <th>65</th>\n",
       "      <td>65</td>\n",
       "      <td>15373263</td>\n",
       "      <td>9780217300049</td>\n",
       "      <td>The Theory and Practice of Cricket, from Its O...</td>\n",
       "      <td>Box, Charles</td>\n",
       "      <td>Theory and Practice of Cricket, from Its Origi...</td>\n",
       "      <td>Box, Charles</td>\n",
       "      <td>1</td>\n",
       "    </tr>\n",
       "    <tr>\n",
       "      <th>66</th>\n",
       "      <td>66</td>\n",
       "      <td>15657084</td>\n",
       "      <td>9780195380002</td>\n",
       "      <td>Global Occupational Health</td>\n",
       "      <td>Guidotti, Tee L.</td>\n",
       "      <td>Global Occupational Health</td>\n",
       "      <td>NaN</td>\n",
       "      <td>0</td>\n",
       "    </tr>\n",
       "    <tr>\n",
       "      <th>67</th>\n",
       "      <td>67</td>\n",
       "      <td>16938827</td>\n",
       "      <td>9780230232372</td>\n",
       "      <td>Kazuo Ishiguro: New Critical Visions of the No...</td>\n",
       "      <td>Groes, Sebastian</td>\n",
       "      <td>Kazuo Ishiguro : New Critical Visions of the N...</td>\n",
       "      <td>NaN</td>\n",
       "      <td>0</td>\n",
       "    </tr>\n",
       "  </tbody>\n",
       "</table>\n",
       "<p>68 rows × 8 columns</p>\n",
       "</div>"
      ],
      "text/plain": [
       "    _id  ltable.id      rtable.id  \\\n",
       "0     0    4086892  9780226156439   \n",
       "1     1     535599  9780060655808   \n",
       "2     2   12537042  9780030402432   \n",
       "3     3    1386538  9780130901262   \n",
       "4     4   13945932  9780205700424   \n",
       "5     5   15280600  9780217455008   \n",
       "6     6   15286798  9780217825382   \n",
       "7     7   15295588  9780217940207   \n",
       "8     8   15334872  9780217270052   \n",
       "9     9   15338150  9780217304399   \n",
       "10   10    1566948  9780070479081   \n",
       "11   11    4025755  9780072860948   \n",
       "12   12    4564015  9780080446837   \n",
       "13   13    5050626  9780030513374   \n",
       "14   14     522144  9780135285718   \n",
       "15   15    5514791  9780114958367   \n",
       "16   16    5681971  9780073380339   \n",
       "17   17    6000607  9780061374050   \n",
       "18   18    7807428  9780077217181   \n",
       "19   19    7809485  9780152062279   \n",
       "20   20    4082544  9780071451574   \n",
       "21   21    4763339  9780205327270   \n",
       "22   22    5087512  9780028348261   \n",
       "23   23     515921  9780140447040   \n",
       "24   24   17800413  9780061490057   \n",
       "25   25   19747771  9780217516556   \n",
       "26   26   22922094  9780077864262   \n",
       "27   27    2351244  9780226492360   \n",
       "28   28    2524032  9780198280354   \n",
       "29   29    3618742  9780060837563   \n",
       "..  ...        ...            ...   \n",
       "38   38   16284366  9780160879098   \n",
       "39   39   10240412  9780199556717   \n",
       "40   40   14022273  9780217263016   \n",
       "41   41   14022804  9780217519724   \n",
       "42   42   14026160  9780217021159   \n",
       "43   43   14028323  9780217618472   \n",
       "44   44   15282052  9780217761901   \n",
       "45   45   15283778  9780217880725   \n",
       "46   46   15305465  9780217033985   \n",
       "47   47   15307220  9780217970747   \n",
       "48   48   15328882  9780217020985   \n",
       "49   49   15345679  9780217759441   \n",
       "50   50   15772172  9780061965548   \n",
       "51   51    1581211  9780201738278   \n",
       "52   52   15912308  9780077905972   \n",
       "53   53   10083762  9780142412145   \n",
       "54   54   10722263  9780195386370   \n",
       "55   55   10948704  9780131077744   \n",
       "56   56   13433980  9780205753413   \n",
       "57   57   14022189  9780217341356   \n",
       "58   58   15289952  9780217048255   \n",
       "59   59   15291838  9780217255035   \n",
       "60   60   15326268  9780217106894   \n",
       "61   61   15341050  9780217227834   \n",
       "62   62   15350595  9780217872232   \n",
       "63   63   15358361  9780217249775   \n",
       "64   64   15359574  9780217298445   \n",
       "65   65   15373263  9780217300049   \n",
       "66   66   15657084  9780195380002   \n",
       "67   67   16938827  9780230232372   \n",
       "\n",
       "                                         ltable.title  \\\n",
       "0           The Bedtrick: Tales of Sex and Masquerade   \n",
       "1                      HarperCollins Study Bible-NRSV   \n",
       "2             Se CD-R(set of 25)Allez Viens LV 2 2006   \n",
       "3                              Adaptive Filter Theory   \n",
       "4   An Introduction to Theories of Learning [With ...   \n",
       "5   Catalogue of Earthquakes on the Pacific Coast,...   \n",
       "6   Cured by an Incurable, by Crowquill and Pencil...   \n",
       "7   The Daring Adventures of Kit Carson and Fremon...   \n",
       "8   Personal Efficiency, Applied Salesmanship, and...   \n",
       "9   The Universal Merchant; In Theory and Practice...   \n",
       "10      The Elusive Eden: A New History of California   \n",
       "11     Taking Off Beginning English Literacy Workbook   \n",
       "12                     Vintage Papers from the Lancet   \n",
       "13         Practical Mathematics: Skills and Concepts   \n",
       "14                    Learning American Sign Language   \n",
       "15           Conserving Bogs: The Management Handbook   \n",
       "16  Fundamentals of Digital Logic with Verilog Des...   \n",
       "17  Not Quite What I Was Planning: Six-Word Memoir...   \n",
       "18          The Art of Public Speaking [With Booklet]   \n",
       "19                             Love Among the Walnuts   \n",
       "20                      Business Calculus Demystified   \n",
       "21  Transition Assessment: Planning Transition and...   \n",
       "22  Geometry: Concepts and Applications, Study Gui...   \n",
       "23                   Sixteen Satires: Revised Edition   \n",
       "24                                          Ascendant   \n",
       "25  The Bog of Stars; And Other Stories and Sketch...   \n",
       "26         Economics Alternate Edition + Connect Plus   \n",
       "27  Foundations of Biogeography: Classic Papers wi...   \n",
       "28           Elitism, Populism, and European Politics   \n",
       "29                                         Native Son   \n",
       "..                                                ...   \n",
       "38  Congressional Record (Bound Volumes): Volume 1...   \n",
       "39              Evolution and the Levels of Selection   \n",
       "40  New Guide of Rome and the Enirons According to...   \n",
       "41   Novels and Novelists; From Elizabeth to Victoria   \n",
       "42  Memoirs and Campaigns of Charles John Prince R...   \n",
       "43          The Wrack of the Storm Volume 1916, PT. 1   \n",
       "44        The Growth of Christianity; London Lectures   \n",
       "45                  Outlines of Logic and Metaphysics   \n",
       "46  Practical Chemistry; The Principles of Qualita...   \n",
       "47                                         Peggy Ware   \n",
       "48  Memoirs of the Reign of King George the Third ...   \n",
       "49  The Tripled Crown; A Book of English, Scotch a...   \n",
       "50                 How Shakespeare Changed Everything   \n",
       "51  Broadband Internet Connections: A User's Guide...   \n",
       "52  Combo: Loose Leaf Version of Anatomy & Physiol...   \n",
       "53                Let It Snow: Three Holiday Romances   \n",
       "54                      Stockholm: A Cultural History   \n",
       "55  Coll Acctg 1-26& Sg& Wp& Pchtr& Pch8.0& Tut& Ebiz   \n",
       "56  Janson's Basic History of Western Art [With Ac...   \n",
       "57     A History of the County of Pictou, Nova Scotia   \n",
       "58                        Shores of the Mediterranean   \n",
       "59  Laurie's Graduated Series of Reading Lesson Books   \n",
       "60                    The Spirit of the New Education   \n",
       "61  Jacob Vanderlint on Money Answers All Things. ...   \n",
       "62  Skin Diseases of Parasitic Origin; Their Natur...   \n",
       "63              Proceedings of 1st- Annual Convention   \n",
       "64  The War Guilt and Peace Crime of the Entente A...   \n",
       "65  The Theory and Practice of Cricket, from Its O...   \n",
       "66                         Global Occupational Health   \n",
       "67  Kazuo Ishiguro: New Critical Visions of the No...   \n",
       "\n",
       "                        ltable.author  \\\n",
       "0                      Doniger, Wendy   \n",
       "1                     Meeks, Wayne A.   \n",
       "2                              Damado   \n",
       "3                    Haykin, Simon S.   \n",
       "4                      Olson, Matthew   \n",
       "5                   McAdie, Alexander   \n",
       "6                    Pseud, Crowquill   \n",
       "7                Frmont, John Charles   \n",
       "8                  Allen, Irving Ross   \n",
       "9                    Alldridge, W. J.   \n",
       "10                   Rice, Richard B.   \n",
       "11                                NaN   \n",
       "12                   Richardson, Ruth   \n",
       "13            Fredrick, Marguerite M.   \n",
       "14                     Humphries, Tom   \n",
       "15                      Stoneman, Rob   \n",
       "16                     Brown, Stephen   \n",
       "17                Fershleiser, Rachel   \n",
       "18                  Lucas, Stephen E.   \n",
       "19                       Ferris, Jean   \n",
       "20             Huettenmueller, Rhonda   \n",
       "21                  Miller, Robert J.   \n",
       "22                        McGraw-Hill   \n",
       "23  Juvenal, Decimus Junius Juvenalis   \n",
       "24                 Peterfreund, Diana   \n",
       "25                  O'Grady, Standish   \n",
       "26                McConnell, Campbell   \n",
       "27                  Lomolino, Mark V.   \n",
       "28                      Hayward, Jack   \n",
       "29                    Wright, Richard   \n",
       "..                                ...   \n",
       "38                       U S Congress   \n",
       "39                      Okasha, Samir   \n",
       "40                       Piale, Luigi   \n",
       "41             Jeaffreson, John Cordy   \n",
       "42                   Philippart, John   \n",
       "43               Maeterlinck, Maurice   \n",
       "44                     Gardner, Percy   \n",
       "45             Erdmann, Johann Eduard   \n",
       "46           Tilden, William Augustus   \n",
       "47           Howard, Milford Wriarson   \n",
       "48                    Walpole, Horace   \n",
       "49                    Author, Unknown   \n",
       "50                    Marche, Stephen   \n",
       "51                 Smith, Roderick W.   \n",
       "52                   Saladin, Kenneth   \n",
       "53                        Green, John   \n",
       "54                    Griffiths, Tony   \n",
       "55                                NaN   \n",
       "56             Davies, Penelope J. E.   \n",
       "57                  Patterson, George   \n",
       "58                 Schroeder, Francis   \n",
       "59               Laurie, James Stuart   \n",
       "60      Hopkins, Louisa Parsons Stone   \n",
       "61                  Vanderlint, Jacob   \n",
       "62                       Fox, Tilbury   \n",
       "63         Association, Idaho Bankers   \n",
       "64                  Bruce, Stewart E.   \n",
       "65                       Box, Charles   \n",
       "66                   Guidotti, Tee L.   \n",
       "67                   Groes, Sebastian   \n",
       "\n",
       "                                         rtable.title  \\\n",
       "0              Bedtrick : Tales of Sex and Masquerade   \n",
       "1   Harpercollins Study Bible Standard Version wit...   \n",
       "2                                         Allez Viens   \n",
       "3                              Adaptive Filter Theory   \n",
       "4   Introduction to the Theories of Learning- (Val...   \n",
       "5   Catalogue of Earthquakes on the Pacific Coast,...   \n",
       "6   Cured by an Incurable, by Crowquill and Pencil...   \n",
       "7         Daring Adventures of Kit Carson and Fremont   \n",
       "8   Personal Efficiency, Applied Salesmanship, and...   \n",
       "9                                  Universal Merchant   \n",
       "10         Elusive Eden : A New History of California   \n",
       "11     Taking off Beginning English Literacy Workbook   \n",
       "12                     Vintage Papers from the Lancet   \n",
       "13               Practical Math : Skills and Concepts   \n",
       "14                    Learning American Sign Language   \n",
       "15          Conserving Bogs : The Management Handbook   \n",
       "16  Fundamentals of Digital Logic with Verilog Design   \n",
       "17  Not Quite What I Was Planning : Six-Word Memoi...   \n",
       "18                             Art of Public Speaking   \n",
       "19                             Love among the Walnuts   \n",
       "20                      Business Calculus Demystified   \n",
       "21  Transition Assessment : Planning Transition an...   \n",
       "22               Geometry : Concepts and Applications   \n",
       "23                                    Sixteen Satires   \n",
       "24                                          Ascendant   \n",
       "25  Bog of Stars; and Other Stories and Sketches o...   \n",
       "26                       Gen cmb alt ed econ; Cnct+ac   \n",
       "27  Foundations of Biogeography : Classic Papers w...   \n",
       "28           Elitism, Populism, and European Politics   \n",
       "29                                         Native Son   \n",
       "..                                                ...   \n",
       "38  Congressional Record, V. 153, Pt. 20, October ...   \n",
       "39              Evolution and the Levels of Selection   \n",
       "40  New Guide of Rome and the Enirons According to...   \n",
       "41   Novels and Novelists, from Elizabeth to Victoria   \n",
       "42  Memoirs and Campaigns of Charles John Prince R...   \n",
       "43                                 Wrack of the Storm   \n",
       "44                             Growth of Christianity   \n",
       "45                  Outlines of Logic and Metaphysics   \n",
       "46                                Practical Chemistry   \n",
       "47                                         Peggy Ware   \n",
       "48            Memoirs of the Reign of King George The   \n",
       "49                                      Tripled Crown   \n",
       "50                 How Shakespeare Changed Everything   \n",
       "51  Broadband Internet Connections : A User's Guid...   \n",
       "52  Combo: Loose Leaf Version of Anatomy & Physiol...   \n",
       "53               Let It Snow : Three Holiday Romances   \n",
       "54                     Stockholm : A Cultural History   \n",
       "55  Coll Acctg 1-26 and Sg and Wp and Pchtr and Pc...   \n",
       "56  Janson's Basic History of Western Art, Books a...   \n",
       "57        History of the County of Pictou, Nova Scoti   \n",
       "58                        Shores of the Mediterranean   \n",
       "59  Laurie's Graduated Series of Reading Lesson Books   \n",
       "60                        Spirit of the New Education   \n",
       "61  Jacob VanDerlint on Money Answers All Things 1734   \n",
       "62                  Skin Diseases of Parasitic Origin   \n",
       "63              Proceedings of 1st- Annual Convention   \n",
       "64    War Guilt and Peace Crime of the Entente Allies   \n",
       "65  Theory and Practice of Cricket, from Its Origi...   \n",
       "66                         Global Occupational Health   \n",
       "67  Kazuo Ishiguro : New Critical Visions of the N...   \n",
       "\n",
       "                                        rtable.author  gold  \n",
       "0                                      Doniger, Wendy     1  \n",
       "1                                     Meeks, Wayne A.     1  \n",
       "2                                             d'Amado     1  \n",
       "3                                       Haykin, Simon     1  \n",
       "4                 Olson, Matthew H. Hergenhahn, B. R.     1  \n",
       "5                                   Mcadie, Alexander     1  \n",
       "6                                    Pseud, Crowquill     1  \n",
       "7                                Frmont, John Charles     0  \n",
       "8                                  Allen, Irving Ross     1  \n",
       "9                                    Alldridge, W. J.     1  \n",
       "10  Rice, Richard Bullough, Bonnie Bullough, Willi...     1  \n",
       "11              Hancock Fesler, Susan Newman, Christy     0  \n",
       "12                                                NaN     0  \n",
       "13                                           Fredrick     1  \n",
       "14                 Humphries, Tom L. Padden, Carol A.     1  \n",
       "15                                          TSO Staff     0  \n",
       "16                    Vranesic, Zvonko Brown, Stephen     1  \n",
       "17                   Smith, Larry Fershleiser, Rachel     1  \n",
       "18                                     Lucas, Stephen     1  \n",
       "19                                       Ferris, Jean     1  \n",
       "20                             Huettenmueller, Rhonda     0  \n",
       "21  Corbey, Stephanie A. Lombard, Richard C. Mille...     0  \n",
       "22                                  McGraw-Hill Staff     1  \n",
       "23                                            Juvenal     0  \n",
       "24                                 Peterfreund, Diana     1  \n",
       "25                                  O'Grady, Standish     1  \n",
       "26      Flynn, Sean Brue, Stanley McConnell, Campbell     0  \n",
       "27                                                NaN     0  \n",
       "28                                                NaN     0  \n",
       "29                                    Wright, Richard     1  \n",
       "..                                                ...   ...  \n",
       "38                                                NaN     0  \n",
       "39                                      Okasha, Samir     1  \n",
       "40                                       Piale, Luigi     1  \n",
       "41                             Jeaffreson, John Cordy     1  \n",
       "42                                   Philippart, John     1  \n",
       "43                               Maeterlinck, Maurice     0  \n",
       "44                                     Gardner, Percy     1  \n",
       "45                             Erdmann, Johann Eduard     1  \n",
       "46                                 Tilden, William A.     1  \n",
       "47                           Howard, Milford Wriarson     1  \n",
       "48                                    Walpole, Horace     0  \n",
       "49                                                NaN     0  \n",
       "50                                    Marche, Stephen     1  \n",
       "51                                 Smith, Roderick W.     0  \n",
       "52                                   Saladin, Kenneth     1  \n",
       "53       Myracle, Lauren Green, John Johnson, Maureen     1  \n",
       "54                                    Griffiths, Tony     1  \n",
       "55                                    Slater, Jeffrey     0  \n",
       "56  Jacobs, Joseph F. Roberts, Ann M. Davies Davie...     1  \n",
       "57                                  Patterson, George     1  \n",
       "58                                 Schroeder, Francis     1  \n",
       "59                               Laurie, James Stuart     1  \n",
       "60                      Hopkins, Louisa Parsons Stone     1  \n",
       "61                                  VanDerlint, Jacob     1  \n",
       "62                                       Fox, Tilbury     1  \n",
       "63                         Association, Idaho Bankers     1  \n",
       "64                                  Bruce, Stewart E.     1  \n",
       "65                                       Box, Charles     1  \n",
       "66                                                NaN     0  \n",
       "67                                                NaN     0  \n",
       "\n",
       "[68 rows x 8 columns]"
      ]
     },
     "execution_count": 21,
     "metadata": {},
     "output_type": "execute_result"
    }
   ],
   "source": [
    "L"
   ]
  },
  {
   "cell_type": "code",
   "execution_count": 22,
   "metadata": {
    "collapsed": true
   },
   "outputs": [],
   "source": [
    "w = wal.set_index('id', drop=False)\n",
    "b = bwk.set_index('id', drop=False)"
   ]
  },
  {
   "cell_type": "code",
   "execution_count": 23,
   "metadata": {
    "collapsed": false
   },
   "outputs": [],
   "source": [
    "t1 = w.ix[7807428]\n",
    "t2 = b.ix[9780077217181]"
   ]
  },
  {
   "cell_type": "code",
   "execution_count": 24,
   "metadata": {
    "collapsed": false
   },
   "outputs": [
    {
     "data": {
      "text/plain": [
       "id                                                        7807428\n",
       "title                   The Art of Public Speaking [With Booklet]\n",
       "author                                          Lucas, Stephen E.\n",
       "numAuthors                                                      1\n",
       "binding                                                 Paperback\n",
       "publisher                                     McGraw-Hill College\n",
       "isbn                                                9780077217181\n",
       "pubYear                                                      2007\n",
       "pubMonth                                                        7\n",
       "pubDay                                                          1\n",
       "editionNum                                                   9 PA\n",
       "pages                                                         NaN\n",
       "volume                                                        NaN\n",
       "lang                                                          ENG\n",
       "editionDescr                                                  NaN\n",
       "category                  Books/Reference/General Reference Books\n",
       "upc11                                                 80077217181\n",
       "upc12                                                800772171818\n",
       "upc13                                 9780077217181 0800772171818\n",
       "upc14                09780077217181 97800772171818 00800772171818\n",
       "description     Whether a novice or an experienced speaker, ev...\n",
       "url                                                             N\n",
       "Name: 7807428, dtype: object"
      ]
     },
     "execution_count": 24,
     "metadata": {},
     "output_type": "execute_result"
    }
   ],
   "source": [
    "t1"
   ]
  },
  {
   "cell_type": "code",
   "execution_count": 25,
   "metadata": {
    "collapsed": false
   },
   "outputs": [],
   "source": [
    "t1 = t1.fillna(0)\n",
    "t2 = t2.fillna(0)"
   ]
  },
  {
   "cell_type": "code",
   "execution_count": 26,
   "metadata": {
    "collapsed": true
   },
   "outputs": [],
   "source": [
    "g = G.ix[0]"
   ]
  },
  {
   "cell_type": "code",
   "execution_count": 27,
   "metadata": {
    "collapsed": false
   },
   "outputs": [
    {
     "data": {
      "text/plain": [
       "array(['_id', 'ltable.id', 'rtable.id', 'title_title_jac_qgm_3_qgm_3',\n",
       "       'author_author_jac_qgm_3_qgm_3', 'binding_binding_jac_qgm_3_qgm_3',\n",
       "       'publisher_publisher_jac_qgm_3_qgm_3', 'lang_lang_lev', 'gold'], dtype=object)"
      ]
     },
     "execution_count": 27,
     "metadata": {},
     "output_type": "execute_result"
    }
   ],
   "source": [
    "g.index.values"
   ]
  },
  {
   "cell_type": "code",
   "execution_count": 28,
   "metadata": {
    "collapsed": false
   },
   "outputs": [
    {
     "data": {
      "text/plain": [
       "{'author_author_jac_qgm_3_qgm_3': 1.0,\n",
       " 'binding_binding_jac_qgm_3_qgm_3': 0.0,\n",
       " 'lang_lang_lev': 1.0,\n",
       " 'publisher_publisher_jac_qgm_3_qgm_3': 0.51851851851851849,\n",
       " 'title_title_jac_qgm_3_qgm_3': 0.7857142857142857}"
      ]
     },
     "execution_count": 28,
     "metadata": {},
     "output_type": "execute_result"
    }
   ],
   "source": [
    "g[['title_title_jac_qgm_3_qgm_3',\n",
    "       'author_author_jac_qgm_3_qgm_3', 'binding_binding_jac_qgm_3_qgm_3',\n",
    "       'publisher_publisher_jac_qgm_3_qgm_3', 'lang_lang_lev']].to_dict()"
   ]
  },
  {
   "cell_type": "code",
   "execution_count": 29,
   "metadata": {
    "collapsed": false
   },
   "outputs": [
    {
     "data": {
      "text/plain": [
       "_id                                    0.000000e+00\n",
       "ltable.id                              4.086892e+06\n",
       "rtable.id                              9.780226e+12\n",
       "title_title_jac_qgm_3_qgm_3            7.857143e-01\n",
       "author_author_jac_qgm_3_qgm_3          1.000000e+00\n",
       "binding_binding_jac_qgm_3_qgm_3        0.000000e+00\n",
       "publisher_publisher_jac_qgm_3_qgm_3    5.185185e-01\n",
       "lang_lang_lev                          1.000000e+00\n",
       "gold                                   1.000000e+00\n",
       "Name: 0, dtype: float64"
      ]
     },
     "execution_count": 29,
     "metadata": {},
     "output_type": "execute_result"
    }
   ],
   "source": [
    "G.ix[0]"
   ]
  },
  {
   "cell_type": "code",
   "execution_count": 31,
   "metadata": {
    "collapsed": true
   },
   "outputs": [],
   "source": [
    "xx = [False, False, False, True, True, True, False]"
   ]
  },
  {
   "cell_type": "code",
   "execution_count": 40,
   "metadata": {
    "collapsed": true
   },
   "outputs": [],
   "source": [
    "fv_columns = g.index"
   ]
  },
  {
   "cell_type": "code",
   "execution_count": 36,
   "metadata": {
    "collapsed": true
   },
   "outputs": [],
   "source": [
    "exclude_attrs=['_id', 'ltable.id', 'rtable.id', 'gold']\n",
    "cols = [c not in exclude_attrs for c in fv_columns]"
   ]
  },
  {
   "cell_type": "code",
   "execution_count": 41,
   "metadata": {
    "collapsed": false
   },
   "outputs": [
    {
     "data": {
      "text/plain": [
       "Index([u'title_title_jac_qgm_3_qgm_3', u'author_author_jac_qgm_3_qgm_3',\n",
       "       u'binding_binding_jac_qgm_3_qgm_3',\n",
       "       u'publisher_publisher_jac_qgm_3_qgm_3', u'lang_lang_lev'],\n",
       "      dtype='object')"
      ]
     },
     "execution_count": 41,
     "metadata": {},
     "output_type": "execute_result"
    }
   ],
   "source": [
    "fv_columns[cols]"
   ]
  },
  {
   "cell_type": "code",
   "execution_count": 34,
   "metadata": {
    "collapsed": false
   },
   "outputs": [
    {
     "data": {
      "text/plain": [
       "title_title_jac_qgm_3_qgm_3        0.785714\n",
       "author_author_jac_qgm_3_qgm_3      1.000000\n",
       "binding_binding_jac_qgm_3_qgm_3    0.000000\n",
       "Name: 0, dtype: float64"
      ]
     },
     "execution_count": 34,
     "metadata": {},
     "output_type": "execute_result"
    }
   ],
   "source": [
    "g[g.index[xx]]"
   ]
  },
  {
   "cell_type": "code",
   "execution_count": 30,
   "metadata": {
    "collapsed": false
   },
   "outputs": [
    {
     "name": "stdout",
     "output_type": "stream",
     "text": [
      "['_id' '_id' '_id' 'ltable.id' 'ltable.id' 'ltable.id' 'ltable.id'\n",
      " 'ltable.id' '_id']\n",
      "OrderedDict([('_id', _id    0\n",
      "_id    0\n",
      "_id    0\n",
      "_id    0\n",
      "Name: 0, dtype: float64), ('ltable.id', ltable.id    4086892\n",
      "ltable.id    4086892\n",
      "ltable.id    4086892\n",
      "ltable.id    4086892\n",
      "ltable.id    4086892\n",
      "Name: 0, dtype: float64)])\n",
      "def debug_fn(): \n",
      "    node_list = []\n",
      "    if ( _id <= 0.239130437374 ):\n",
      "        node_list.extend([True, '_id <= 0.239130437374', _id])\n",
      "        return False, node_list #( 12 examples )\n",
      "    else:\n",
      "        node_list.extend([False, '_id <= 0.239130437374', _id])\n",
      "        if ( ltable.id <= 0.141666665673 ):\n",
      "            node_list.extend([True, 'ltable.id <= 0.141666665673', ltable.id])\n",
      "            if ( ltable.id <= 0.0544871799648 ):\n",
      "                node_list.extend([True, 'ltable.id <= 0.0544871799648', ltable.id])\n",
      "                return True, node_list #( 3 examples )\n",
      "            else:\n",
      "                node_list.extend([False, 'ltable.id <= 0.0544871799648', ltable.id])\n",
      "                return False, node_list #( 1 examples )\n",
      "        else:\n",
      "            node_list.extend([False, 'ltable.id <= 0.141666665673', ltable.id])\n",
      "            if ( _id <= 0.906105995178 ):\n",
      "                node_list.extend([True, '_id <= 0.906105995178', _id])\n",
      "                return True, node_list #( 19 examples )\n",
      "            else:\n",
      "                node_list.extend([False, '_id <= 0.906105995178', _id])\n",
      "                if ( _id <= 0.923092067242 ):\n",
      "                    node_list.extend([True, '_id <= 0.923092067242', _id])\n",
      "                    return False, node_list #( 1 examples )\n",
      "                else:\n",
      "                    node_list.extend([False, '_id <= 0.923092067242', _id])\n",
      "                    return True, node_list #( 11 examples )\n",
      "\n"
     ]
    },
    {
     "name": "stderr",
     "output_type": "stream",
     "text": [
      "/Users/pradap/Documents/Research/Python-Package/enrique/magellan/debugmatcher/debug_decisiontree_matcher.py:234: FutureWarning: in the future, boolean array-likes will be handled as a boolean array index\n",
      "  feature_names = fv_columns[cols]\n"
     ]
    },
    {
     "ename": "ValueError",
     "evalue": "The truth value of a Series is ambiguous. Use a.empty, a.bool(), a.item(), a.any() or a.all().",
     "output_type": "error",
     "traceback": [
      "\u001b[0;31m---------------------------------------------------------------------------\u001b[0m",
      "\u001b[0;31mValueError\u001b[0m                                Traceback (most recent call last)",
      "\u001b[0;32m<ipython-input-30-7144a2031ac8>\u001b[0m in \u001b[0;36m<module>\u001b[0;34m()\u001b[0m\n\u001b[0;32m----> 1\u001b[0;31m \u001b[0mmg\u001b[0m\u001b[0;34m.\u001b[0m\u001b[0mdebug_decisiontree_matcher_vis\u001b[0m\u001b[0;34m(\u001b[0m\u001b[0mdt\u001b[0m\u001b[0;34m,\u001b[0m \u001b[0mG\u001b[0m\u001b[0;34m.\u001b[0m\u001b[0mix\u001b[0m\u001b[0;34m[\u001b[0m\u001b[0;36m0\u001b[0m\u001b[0;34m]\u001b[0m\u001b[0;34m,\u001b[0m \u001b[0mexclude_attrs\u001b[0m\u001b[0;34m=\u001b[0m\u001b[0;34m[\u001b[0m\u001b[0;34m'_id'\u001b[0m\u001b[0;34m,\u001b[0m \u001b[0;34m'ltable.id'\u001b[0m\u001b[0;34m,\u001b[0m \u001b[0;34m'rtable.id'\u001b[0m\u001b[0;34m,\u001b[0m \u001b[0;34m'gold'\u001b[0m\u001b[0;34m]\u001b[0m\u001b[0;34m)\u001b[0m\u001b[0;34m\u001b[0m\u001b[0m\n\u001b[0m",
      "\u001b[0;32m/Users/pradap/Documents/Research/Python-Package/enrique/magellan/debugmatcher/debug_decisiontree_matcher.py\u001b[0m in \u001b[0;36mdebug_decisiontree_matcher_vis\u001b[0;34m(dt, t, exclude_attrs, ensemble_flag)\u001b[0m\n\u001b[1;32m    243\u001b[0m     \u001b[0;32mexec\u001b[0m \u001b[0mcode\u001b[0m \u001b[0;32min\u001b[0m \u001b[0md\u001b[0m\u001b[0;34m\u001b[0m\u001b[0m\n\u001b[1;32m    244\u001b[0m     \u001b[0;32mprint\u001b[0m \u001b[0mcode\u001b[0m\u001b[0;34m\u001b[0m\u001b[0m\n\u001b[0;32m--> 245\u001b[0;31m     \u001b[0mret_val\u001b[0m\u001b[0;34m,\u001b[0m \u001b[0mnode_list\u001b[0m \u001b[0;34m=\u001b[0m \u001b[0md\u001b[0m\u001b[0;34m[\u001b[0m\u001b[0;34m'debug_fn'\u001b[0m\u001b[0;34m]\u001b[0m\u001b[0;34m(\u001b[0m\u001b[0;34m)\u001b[0m\u001b[0;34m\u001b[0m\u001b[0m\n\u001b[0m\u001b[1;32m    246\u001b[0m \u001b[0;34m\u001b[0m\u001b[0m\n\u001b[1;32m    247\u001b[0m     \u001b[0;32mreturn\u001b[0m \u001b[0mret_val\u001b[0m\u001b[0;34m,\u001b[0m \u001b[0mnode_list\u001b[0m\u001b[0;34m\u001b[0m\u001b[0m\n",
      "\u001b[0;32m<string>\u001b[0m in \u001b[0;36mdebug_fn\u001b[0;34m()\u001b[0m\n",
      "\u001b[0;32m/Users/pradap/anaconda/lib/python2.7/site-packages/pandas/core/generic.pyc\u001b[0m in \u001b[0;36m__nonzero__\u001b[0;34m(self)\u001b[0m\n\u001b[1;32m    712\u001b[0m         raise ValueError(\"The truth value of a {0} is ambiguous. \"\n\u001b[1;32m    713\u001b[0m                          \u001b[0;34m\"Use a.empty, a.bool(), a.item(), a.any() or a.all().\"\u001b[0m\u001b[0;34m\u001b[0m\u001b[0m\n\u001b[0;32m--> 714\u001b[0;31m                          .format(self.__class__.__name__))\n\u001b[0m\u001b[1;32m    715\u001b[0m \u001b[0;34m\u001b[0m\u001b[0m\n\u001b[1;32m    716\u001b[0m     \u001b[0m__bool__\u001b[0m \u001b[0;34m=\u001b[0m \u001b[0m__nonzero__\u001b[0m\u001b[0;34m\u001b[0m\u001b[0m\n",
      "\u001b[0;31mValueError\u001b[0m: The truth value of a Series is ambiguous. Use a.empty, a.bool(), a.item(), a.any() or a.all()."
     ]
    }
   ],
   "source": [
    "mg.debug_decisiontree_matcher_vis(dt, G.ix[0], exclude_attrs=['_id', 'ltable.id', 'rtable.id', 'gold'])"
   ]
  }
 ],
 "metadata": {
  "kernelspec": {
   "display_name": "Python 2",
   "language": "python",
   "name": "python2"
  },
  "language_info": {
   "codemirror_mode": {
    "name": "ipython",
    "version": 2
   },
   "file_extension": ".py",
   "mimetype": "text/x-python",
   "name": "python",
   "nbconvert_exporter": "python",
   "pygments_lexer": "ipython2",
   "version": "2.7.10"
  }
 },
 "nbformat": 4,
 "nbformat_minor": 0
}
