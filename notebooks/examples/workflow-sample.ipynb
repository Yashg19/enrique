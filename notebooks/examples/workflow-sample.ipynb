{
 "cells": [
  {
   "cell_type": "code",
   "execution_count": 1,
   "metadata": {
    "collapsed": true
   },
   "outputs": [],
   "source": [
    "import sys\n",
    "sys.path.append('/scratch/pradap/python-work/enrique/')"
   ]
  },
  {
   "cell_type": "code",
   "execution_count": 2,
   "metadata": {
    "collapsed": true
   },
   "outputs": [],
   "source": [
    "import magellan as mg"
   ]
  },
  {
   "cell_type": "code",
   "execution_count": 3,
   "metadata": {
    "collapsed": false
   },
   "outputs": [
    {
     "name": "stderr",
     "output_type": "stream",
     "text": [
      "WARNING:magellan.utils.helperfunctions:JVM is already running\n"
     ]
    },
    {
     "data": {
      "text/plain": [
       "True"
      ]
     },
     "execution_count": 3,
     "metadata": {},
     "output_type": "execute_result"
    }
   ],
   "source": [
    "mg.init_jvm()"
   ]
  },
  {
   "cell_type": "code",
   "execution_count": 4,
   "metadata": {
    "collapsed": true
   },
   "outputs": [],
   "source": [
    "A = mg.load_dataset('table_A')\n",
    "B = mg.load_dataset('table_B')"
   ]
  },
  {
   "cell_type": "code",
   "execution_count": 5,
   "metadata": {
    "collapsed": false
   },
   "outputs": [],
   "source": [
    "ab = mg.AttrEquivalenceBlocker()\n",
    "C = ab.block_tables(A, B, 'zipcode', 'zipcode', 'name', 'name')"
   ]
  },
  {
   "cell_type": "code",
   "execution_count": 6,
   "metadata": {
    "collapsed": false
   },
   "outputs": [],
   "source": [
    "S = mg.sample_table(C, 10)"
   ]
  },
  {
   "cell_type": "code",
   "execution_count": 7,
   "metadata": {
    "collapsed": false
   },
   "outputs": [
    {
     "data": {
      "text/html": [
       "<div>\n",
       "<table border=\"1\" class=\"dataframe\">\n",
       "  <thead>\n",
       "    <tr style=\"text-align: right;\">\n",
       "      <th></th>\n",
       "      <th>_id</th>\n",
       "      <th>ltable.ID</th>\n",
       "      <th>rtable.ID</th>\n",
       "      <th>ltable.name</th>\n",
       "      <th>rtable.name</th>\n",
       "    </tr>\n",
       "  </thead>\n",
       "  <tbody>\n",
       "    <tr>\n",
       "      <th>2</th>\n",
       "      <td>2</td>\n",
       "      <td>a1</td>\n",
       "      <td>b6</td>\n",
       "      <td>Kevin Smith</td>\n",
       "      <td>Michael Brodie</td>\n",
       "    </tr>\n",
       "    <tr>\n",
       "      <th>6</th>\n",
       "      <td>6</td>\n",
       "      <td>a2</td>\n",
       "      <td>b3</td>\n",
       "      <td>Michael Franklin</td>\n",
       "      <td>Mike Franklin</td>\n",
       "    </tr>\n",
       "    <tr>\n",
       "      <th>7</th>\n",
       "      <td>7</td>\n",
       "      <td>a2</td>\n",
       "      <td>b4</td>\n",
       "      <td>Michael Franklin</td>\n",
       "      <td>Joseph Kuan</td>\n",
       "    </tr>\n",
       "    <tr>\n",
       "      <th>8</th>\n",
       "      <td>8</td>\n",
       "      <td>a2</td>\n",
       "      <td>b5</td>\n",
       "      <td>Michael Franklin</td>\n",
       "      <td>Alfons Kemper</td>\n",
       "    </tr>\n",
       "    <tr>\n",
       "      <th>9</th>\n",
       "      <td>9</td>\n",
       "      <td>a4</td>\n",
       "      <td>b3</td>\n",
       "      <td>Binto George</td>\n",
       "      <td>Mike Franklin</td>\n",
       "    </tr>\n",
       "    <tr>\n",
       "      <th>10</th>\n",
       "      <td>10</td>\n",
       "      <td>a4</td>\n",
       "      <td>b4</td>\n",
       "      <td>Binto George</td>\n",
       "      <td>Joseph Kuan</td>\n",
       "    </tr>\n",
       "    <tr>\n",
       "      <th>11</th>\n",
       "      <td>11</td>\n",
       "      <td>a4</td>\n",
       "      <td>b5</td>\n",
       "      <td>Binto George</td>\n",
       "      <td>Alfons Kemper</td>\n",
       "    </tr>\n",
       "    <tr>\n",
       "      <th>12</th>\n",
       "      <td>12</td>\n",
       "      <td>a5</td>\n",
       "      <td>b3</td>\n",
       "      <td>Alphonse Kemper</td>\n",
       "      <td>Mike Franklin</td>\n",
       "    </tr>\n",
       "    <tr>\n",
       "      <th>13</th>\n",
       "      <td>13</td>\n",
       "      <td>a5</td>\n",
       "      <td>b4</td>\n",
       "      <td>Alphonse Kemper</td>\n",
       "      <td>Joseph Kuan</td>\n",
       "    </tr>\n",
       "    <tr>\n",
       "      <th>14</th>\n",
       "      <td>14</td>\n",
       "      <td>a5</td>\n",
       "      <td>b5</td>\n",
       "      <td>Alphonse Kemper</td>\n",
       "      <td>Alfons Kemper</td>\n",
       "    </tr>\n",
       "  </tbody>\n",
       "</table>\n",
       "</div>"
      ],
      "text/plain": [
       "    _id ltable.ID rtable.ID       ltable.name     rtable.name\n",
       "2     2        a1        b6       Kevin Smith  Michael Brodie\n",
       "6     6        a2        b3  Michael Franklin   Mike Franklin\n",
       "7     7        a2        b4  Michael Franklin     Joseph Kuan\n",
       "8     8        a2        b5  Michael Franklin   Alfons Kemper\n",
       "9     9        a4        b3      Binto George   Mike Franklin\n",
       "10   10        a4        b4      Binto George     Joseph Kuan\n",
       "11   11        a4        b5      Binto George   Alfons Kemper\n",
       "12   12        a5        b3   Alphonse Kemper   Mike Franklin\n",
       "13   13        a5        b4   Alphonse Kemper     Joseph Kuan\n",
       "14   14        a5        b5   Alphonse Kemper   Alfons Kemper"
      ]
     },
     "execution_count": 7,
     "metadata": {},
     "output_type": "execute_result"
    }
   ],
   "source": [
    "S"
   ]
  },
  {
   "cell_type": "code",
   "execution_count": 8,
   "metadata": {
    "collapsed": false
   },
   "outputs": [],
   "source": [
    "#L = mg.label_table(S, 'gold')"
   ]
  },
  {
   "cell_type": "code",
   "execution_count": 9,
   "metadata": {
    "collapsed": false
   },
   "outputs": [],
   "source": [
    "L = mg.read_csv('label_test.csv', ltable=A, rtable=B)"
   ]
  },
  {
   "cell_type": "code",
   "execution_count": 10,
   "metadata": {
    "collapsed": false
   },
   "outputs": [
    {
     "name": "stderr",
     "output_type": "stream",
     "text": [
      "WARNING:magellan.feature.autofeaturegen:address type and address type are different\n"
     ]
    }
   ],
   "source": [
    "feature_table = mg.get_features_for_matching(A, B)"
   ]
  },
  {
   "cell_type": "code",
   "execution_count": 11,
   "metadata": {
    "collapsed": false
   },
   "outputs": [],
   "source": [
    "f = feature_table.ix[[10]]"
   ]
  },
  {
   "cell_type": "code",
   "execution_count": 12,
   "metadata": {
    "collapsed": false
   },
   "outputs": [],
   "source": [
    "dt = mg.DTMatcher(random_state=100)\n",
    "rf = mg.RFMatcher(random_state=100)\n",
    "svm = mg.SVMMatcher(random_state=100)"
   ]
  },
  {
   "cell_type": "code",
   "execution_count": 13,
   "metadata": {
    "collapsed": true
   },
   "outputs": [],
   "source": [
    "G = mg.extract_feat_vecs(L, feat_table=f, attrs_after='gold')"
   ]
  },
  {
   "cell_type": "code",
   "execution_count": 14,
   "metadata": {
    "collapsed": false
   },
   "outputs": [
    {
     "data": {
      "text/html": [
       "<div>\n",
       "<table border=\"1\" class=\"dataframe\">\n",
       "  <thead>\n",
       "    <tr style=\"text-align: right;\">\n",
       "      <th></th>\n",
       "      <th>_id</th>\n",
       "      <th>ltable.ID</th>\n",
       "      <th>rtable.ID</th>\n",
       "      <th>name_name_lev</th>\n",
       "      <th>gold</th>\n",
       "    </tr>\n",
       "  </thead>\n",
       "  <tbody>\n",
       "    <tr>\n",
       "      <th>0</th>\n",
       "      <td>0</td>\n",
       "      <td>a1</td>\n",
       "      <td>b1</td>\n",
       "      <td>0.000000</td>\n",
       "      <td>1</td>\n",
       "    </tr>\n",
       "    <tr>\n",
       "      <th>1</th>\n",
       "      <td>1</td>\n",
       "      <td>a1</td>\n",
       "      <td>b6</td>\n",
       "      <td>0.071429</td>\n",
       "      <td>0</td>\n",
       "    </tr>\n",
       "    <tr>\n",
       "      <th>2</th>\n",
       "      <td>2</td>\n",
       "      <td>a3</td>\n",
       "      <td>b1</td>\n",
       "      <td>0.142857</td>\n",
       "      <td>0</td>\n",
       "    </tr>\n",
       "    <tr>\n",
       "      <th>3</th>\n",
       "      <td>3</td>\n",
       "      <td>a3</td>\n",
       "      <td>b6</td>\n",
       "      <td>0.428571</td>\n",
       "      <td>0</td>\n",
       "    </tr>\n",
       "    <tr>\n",
       "      <th>4</th>\n",
       "      <td>4</td>\n",
       "      <td>a2</td>\n",
       "      <td>b3</td>\n",
       "      <td>0.750000</td>\n",
       "      <td>1</td>\n",
       "    </tr>\n",
       "    <tr>\n",
       "      <th>5</th>\n",
       "      <td>5</td>\n",
       "      <td>a4</td>\n",
       "      <td>b3</td>\n",
       "      <td>0.076923</td>\n",
       "      <td>1</td>\n",
       "    </tr>\n",
       "    <tr>\n",
       "      <th>6</th>\n",
       "      <td>6</td>\n",
       "      <td>a4</td>\n",
       "      <td>b4</td>\n",
       "      <td>0.000000</td>\n",
       "      <td>0</td>\n",
       "    </tr>\n",
       "    <tr>\n",
       "      <th>7</th>\n",
       "      <td>7</td>\n",
       "      <td>a4</td>\n",
       "      <td>b5</td>\n",
       "      <td>0.153846</td>\n",
       "      <td>0</td>\n",
       "    </tr>\n",
       "    <tr>\n",
       "      <th>8</th>\n",
       "      <td>8</td>\n",
       "      <td>a5</td>\n",
       "      <td>b3</td>\n",
       "      <td>0.000000</td>\n",
       "      <td>1</td>\n",
       "    </tr>\n",
       "    <tr>\n",
       "      <th>9</th>\n",
       "      <td>9</td>\n",
       "      <td>a5</td>\n",
       "      <td>b4</td>\n",
       "      <td>0.200000</td>\n",
       "      <td>0</td>\n",
       "    </tr>\n",
       "  </tbody>\n",
       "</table>\n",
       "</div>"
      ],
      "text/plain": [
       "   _id ltable.ID rtable.ID  name_name_lev  gold\n",
       "0    0        a1        b1       0.000000     1\n",
       "1    1        a1        b6       0.071429     0\n",
       "2    2        a3        b1       0.142857     0\n",
       "3    3        a3        b6       0.428571     0\n",
       "4    4        a2        b3       0.750000     1\n",
       "5    5        a4        b3       0.076923     1\n",
       "6    6        a4        b4       0.000000     0\n",
       "7    7        a4        b5       0.153846     0\n",
       "8    8        a5        b3       0.000000     1\n",
       "9    9        a5        b4       0.200000     0"
      ]
     },
     "execution_count": 14,
     "metadata": {},
     "output_type": "execute_result"
    }
   ],
   "source": [
    "G"
   ]
  },
  {
   "cell_type": "code",
   "execution_count": 15,
   "metadata": {
    "collapsed": false
   },
   "outputs": [
    {
     "name": "stderr",
     "output_type": "stream",
     "text": [
      "/scratch/pradap/local/share/anaconda/lib/python2.7/site-packages/sklearn/metrics/classification.py:958: UndefinedMetricWarning: Precision is ill-defined and being set to 0.0 due to no predicted samples.\n",
      "  'precision', 'predicted', average, warn_for)\n"
     ]
    }
   ],
   "source": [
    "res = mg.select_matcher([dt, rf, svm], table=G, exclude_attrs=['_id', 'rtable.ID', 'ltable.ID', 'gold'], \n",
    "                        target_attr='gold', metric='precision')"
   ]
  },
  {
   "cell_type": "code",
   "execution_count": 16,
   "metadata": {
    "collapsed": false
   },
   "outputs": [
    {
     "data": {
      "text/html": [
       "<div>\n",
       "<table border=\"1\" class=\"dataframe\">\n",
       "  <thead>\n",
       "    <tr style=\"text-align: right;\">\n",
       "      <th></th>\n",
       "      <th>Name</th>\n",
       "      <th>Matcher</th>\n",
       "      <th>Num folds</th>\n",
       "      <th>Fold 1</th>\n",
       "      <th>Fold 2</th>\n",
       "      <th>Fold 3</th>\n",
       "      <th>Fold 4</th>\n",
       "      <th>Fold 5</th>\n",
       "      <th>Mean score</th>\n",
       "    </tr>\n",
       "  </thead>\n",
       "  <tbody>\n",
       "    <tr>\n",
       "      <th>0</th>\n",
       "      <td>DecisionTree_80604761178661795441</td>\n",
       "      <td>&lt;magellan.matcher.dtmatcher.DTMatcher object a...</td>\n",
       "      <td>5</td>\n",
       "      <td>0</td>\n",
       "      <td>0</td>\n",
       "      <td>0</td>\n",
       "      <td>0</td>\n",
       "      <td>0</td>\n",
       "      <td>0</td>\n",
       "    </tr>\n",
       "    <tr>\n",
       "      <th>1</th>\n",
       "      <td>RandomForest_82509571178661795441</td>\n",
       "      <td>&lt;magellan.matcher.rfmatcher.RFMatcher object a...</td>\n",
       "      <td>5</td>\n",
       "      <td>0</td>\n",
       "      <td>0</td>\n",
       "      <td>0</td>\n",
       "      <td>0</td>\n",
       "      <td>0</td>\n",
       "      <td>0</td>\n",
       "    </tr>\n",
       "    <tr>\n",
       "      <th>2</th>\n",
       "      <td>SVM_42411381178661795441</td>\n",
       "      <td>&lt;magellan.matcher.svmmatcher.SVMMatcher object...</td>\n",
       "      <td>5</td>\n",
       "      <td>0</td>\n",
       "      <td>0</td>\n",
       "      <td>0</td>\n",
       "      <td>0</td>\n",
       "      <td>0</td>\n",
       "      <td>0</td>\n",
       "    </tr>\n",
       "  </tbody>\n",
       "</table>\n",
       "</div>"
      ],
      "text/plain": [
       "                                Name  \\\n",
       "0  DecisionTree_80604761178661795441   \n",
       "1  RandomForest_82509571178661795441   \n",
       "2           SVM_42411381178661795441   \n",
       "\n",
       "                                             Matcher  Num folds  Fold 1  \\\n",
       "0  <magellan.matcher.dtmatcher.DTMatcher object a...          5       0   \n",
       "1  <magellan.matcher.rfmatcher.RFMatcher object a...          5       0   \n",
       "2  <magellan.matcher.svmmatcher.SVMMatcher object...          5       0   \n",
       "\n",
       "   Fold 2  Fold 3  Fold 4  Fold 5  Mean score  \n",
       "0       0       0       0       0           0  \n",
       "1       0       0       0       0           0  \n",
       "2       0       0       0       0           0  "
      ]
     },
     "execution_count": 16,
     "metadata": {},
     "output_type": "execute_result"
    }
   ],
   "source": [
    "res['cv_stats']"
   ]
  },
  {
   "cell_type": "code",
   "execution_count": 17,
   "metadata": {
    "collapsed": false
   },
   "outputs": [
    {
     "name": "stdout",
     "output_type": "stream",
     "text": [
      "Help on function vis_debug_dt in module magellan.debugmatcher.debug_gui_decisiontree_matcher:\n",
      "\n",
      "vis_debug_dt(matcher, train, test, exclude_attrs, target_attr)\n",
      "\n"
     ]
    }
   ],
   "source": [
    "help(mg.vis_debug_dt)"
   ]
  },
  {
   "cell_type": "code",
   "execution_count": null,
   "metadata": {
    "collapsed": true
   },
   "outputs": [],
   "source": []
  },
  {
   "cell_type": "code",
   "execution_count": 18,
   "metadata": {
    "collapsed": true
   },
   "outputs": [],
   "source": [
    "train_test = mg.train_test_split(G, train_proportion=0.6)"
   ]
  },
  {
   "cell_type": "code",
   "execution_count": 19,
   "metadata": {
    "collapsed": false
   },
   "outputs": [
    {
     "data": {
      "text/html": [
       "<div>\n",
       "<table border=\"1\" class=\"dataframe\">\n",
       "  <thead>\n",
       "    <tr style=\"text-align: right;\">\n",
       "      <th></th>\n",
       "      <th>_id</th>\n",
       "      <th>ltable.ID</th>\n",
       "      <th>rtable.ID</th>\n",
       "      <th>name_name_lev</th>\n",
       "      <th>gold</th>\n",
       "    </tr>\n",
       "  </thead>\n",
       "  <tbody>\n",
       "    <tr>\n",
       "      <th>5</th>\n",
       "      <td>5</td>\n",
       "      <td>a4</td>\n",
       "      <td>b3</td>\n",
       "      <td>0.076923</td>\n",
       "      <td>1</td>\n",
       "    </tr>\n",
       "    <tr>\n",
       "      <th>8</th>\n",
       "      <td>8</td>\n",
       "      <td>a5</td>\n",
       "      <td>b3</td>\n",
       "      <td>0.000000</td>\n",
       "      <td>1</td>\n",
       "    </tr>\n",
       "    <tr>\n",
       "      <th>7</th>\n",
       "      <td>7</td>\n",
       "      <td>a4</td>\n",
       "      <td>b5</td>\n",
       "      <td>0.153846</td>\n",
       "      <td>0</td>\n",
       "    </tr>\n",
       "    <tr>\n",
       "      <th>2</th>\n",
       "      <td>2</td>\n",
       "      <td>a3</td>\n",
       "      <td>b1</td>\n",
       "      <td>0.142857</td>\n",
       "      <td>0</td>\n",
       "    </tr>\n",
       "    <tr>\n",
       "      <th>3</th>\n",
       "      <td>3</td>\n",
       "      <td>a3</td>\n",
       "      <td>b6</td>\n",
       "      <td>0.428571</td>\n",
       "      <td>0</td>\n",
       "    </tr>\n",
       "    <tr>\n",
       "      <th>6</th>\n",
       "      <td>6</td>\n",
       "      <td>a4</td>\n",
       "      <td>b4</td>\n",
       "      <td>0.000000</td>\n",
       "      <td>0</td>\n",
       "    </tr>\n",
       "  </tbody>\n",
       "</table>\n",
       "</div>"
      ],
      "text/plain": [
       "   _id ltable.ID rtable.ID  name_name_lev  gold\n",
       "5    5        a4        b3       0.076923     1\n",
       "8    8        a5        b3       0.000000     1\n",
       "7    7        a4        b5       0.153846     0\n",
       "2    2        a3        b1       0.142857     0\n",
       "3    3        a3        b6       0.428571     0\n",
       "6    6        a4        b4       0.000000     0"
      ]
     },
     "execution_count": 19,
     "metadata": {},
     "output_type": "execute_result"
    }
   ],
   "source": [
    "train_test['train']"
   ]
  },
  {
   "cell_type": "code",
   "execution_count": 20,
   "metadata": {
    "collapsed": true
   },
   "outputs": [],
   "source": [
    "dt.fit(table=train_test['train'], exclude_attrs=['_id', 'rtable.ID', 'ltable.ID', 'gold'], target_attr=['gold'])"
   ]
  },
  {
   "cell_type": "code",
   "execution_count": 21,
   "metadata": {
    "collapsed": false
   },
   "outputs": [
    {
     "data": {
      "text/html": [
       "<div>\n",
       "<table border=\"1\" class=\"dataframe\">\n",
       "  <thead>\n",
       "    <tr style=\"text-align: right;\">\n",
       "      <th></th>\n",
       "      <th>_id</th>\n",
       "      <th>ltable.ID</th>\n",
       "      <th>rtable.ID</th>\n",
       "      <th>name_name_lev</th>\n",
       "      <th>gold</th>\n",
       "    </tr>\n",
       "  </thead>\n",
       "  <tbody>\n",
       "    <tr>\n",
       "      <th>0</th>\n",
       "      <td>0</td>\n",
       "      <td>a1</td>\n",
       "      <td>b1</td>\n",
       "      <td>0.000000</td>\n",
       "      <td>1</td>\n",
       "    </tr>\n",
       "    <tr>\n",
       "      <th>9</th>\n",
       "      <td>9</td>\n",
       "      <td>a5</td>\n",
       "      <td>b4</td>\n",
       "      <td>0.200000</td>\n",
       "      <td>0</td>\n",
       "    </tr>\n",
       "    <tr>\n",
       "      <th>1</th>\n",
       "      <td>1</td>\n",
       "      <td>a1</td>\n",
       "      <td>b6</td>\n",
       "      <td>0.071429</td>\n",
       "      <td>0</td>\n",
       "    </tr>\n",
       "    <tr>\n",
       "      <th>4</th>\n",
       "      <td>4</td>\n",
       "      <td>a2</td>\n",
       "      <td>b3</td>\n",
       "      <td>0.750000</td>\n",
       "      <td>1</td>\n",
       "    </tr>\n",
       "  </tbody>\n",
       "</table>\n",
       "</div>"
      ],
      "text/plain": [
       "   _id ltable.ID rtable.ID  name_name_lev  gold\n",
       "0    0        a1        b1       0.000000     1\n",
       "9    9        a5        b4       0.200000     0\n",
       "1    1        a1        b6       0.071429     0\n",
       "4    4        a2        b3       0.750000     1"
      ]
     },
     "execution_count": 21,
     "metadata": {},
     "output_type": "execute_result"
    }
   ],
   "source": [
    "train_test['test']"
   ]
  },
  {
   "cell_type": "code",
   "execution_count": 22,
   "metadata": {
    "collapsed": true
   },
   "outputs": [],
   "source": [
    "P = dt.predict(table=train_test['test'], exclude_attrs=['_id', 'rtable.ID', 'ltable.ID', 'gold'], target_attr='predicted',\n",
    "              append=True, inplace=False)"
   ]
  },
  {
   "cell_type": "code",
   "execution_count": 23,
   "metadata": {
    "collapsed": false
   },
   "outputs": [
    {
     "data": {
      "text/html": [
       "<div>\n",
       "<table border=\"1\" class=\"dataframe\">\n",
       "  <thead>\n",
       "    <tr style=\"text-align: right;\">\n",
       "      <th></th>\n",
       "      <th>_id</th>\n",
       "      <th>ltable.ID</th>\n",
       "      <th>rtable.ID</th>\n",
       "      <th>name_name_lev</th>\n",
       "      <th>gold</th>\n",
       "      <th>predicted</th>\n",
       "    </tr>\n",
       "  </thead>\n",
       "  <tbody>\n",
       "    <tr>\n",
       "      <th>0</th>\n",
       "      <td>0</td>\n",
       "      <td>a1</td>\n",
       "      <td>b1</td>\n",
       "      <td>0.000000</td>\n",
       "      <td>1</td>\n",
       "      <td>0</td>\n",
       "    </tr>\n",
       "    <tr>\n",
       "      <th>1</th>\n",
       "      <td>9</td>\n",
       "      <td>a5</td>\n",
       "      <td>b4</td>\n",
       "      <td>0.200000</td>\n",
       "      <td>0</td>\n",
       "      <td>0</td>\n",
       "    </tr>\n",
       "    <tr>\n",
       "      <th>2</th>\n",
       "      <td>1</td>\n",
       "      <td>a1</td>\n",
       "      <td>b6</td>\n",
       "      <td>0.071429</td>\n",
       "      <td>0</td>\n",
       "      <td>1</td>\n",
       "    </tr>\n",
       "    <tr>\n",
       "      <th>3</th>\n",
       "      <td>4</td>\n",
       "      <td>a2</td>\n",
       "      <td>b3</td>\n",
       "      <td>0.750000</td>\n",
       "      <td>1</td>\n",
       "      <td>0</td>\n",
       "    </tr>\n",
       "  </tbody>\n",
       "</table>\n",
       "</div>"
      ],
      "text/plain": [
       "   _id ltable.ID rtable.ID  name_name_lev  gold  predicted\n",
       "0    0        a1        b1       0.000000     1          0\n",
       "1    9        a5        b4       0.200000     0          0\n",
       "2    1        a1        b6       0.071429     0          1\n",
       "3    4        a2        b3       0.750000     1          0"
      ]
     },
     "execution_count": 23,
     "metadata": {},
     "output_type": "execute_result"
    }
   ],
   "source": [
    "P"
   ]
  },
  {
   "cell_type": "code",
   "execution_count": 33,
   "metadata": {
    "collapsed": false
   },
   "outputs": [
    {
     "name": "stdout",
     "output_type": "stream",
     "text": [
      "Execute the following command in IPython command prompt:\n",
      "\n",
      "from IPython.display import Image\n",
      "Image(filename='dt_.png') \n"
     ]
    }
   ],
   "source": [
    "mg.visualize_tree(dt, G.columns, exclude_attrs = ['_id', 'rtable.ID', 'ltable.ID', 'gold'])"
   ]
  },
  {
   "cell_type": "code",
   "execution_count": 34,
   "metadata": {
    "collapsed": false
   },
   "outputs": [
    {
     "data": {
      "image/png": "[encoded data removed]",
      "text/plain": [
       "<IPython.core.display.Image object>"
      ]
     },
     "execution_count": 34,
     "metadata": {},
     "output_type": "execute_result"
    }
   ],
   "source": [
    "from IPython.display import Image\n",
    "Image(filename='dt_.png') "
   ]
  },
  {
   "cell_type": "code",
   "execution_count": 24,
   "metadata": {
    "collapsed": false
   },
   "outputs": [
    {
     "data": {
      "text/plain": [
       "OrderedDict([('prec_numerator', 0.0),\n",
       "             ('prec_denominator', 1.0),\n",
       "             ('precision', 0.0),\n",
       "             ('recall_numerator', 0.0),\n",
       "             ('recall_denominator', 2.0),\n",
       "             ('recall', 0.0),\n",
       "             ('f1', 0.0),\n",
       "             ('pred_pos_num', 1.0),\n",
       "             ('false_pos_num', 1.0),\n",
       "             ('false_pos_ls', [('a1', 'b6')]),\n",
       "             ('pred_neg_num', 3.0),\n",
       "             ('false_neg_num', 2.0),\n",
       "             ('false_neg_ls', [('a1', 'b1'), ('a2', 'b3')])])"
      ]
     },
     "execution_count": 24,
     "metadata": {},
     "output_type": "execute_result"
    }
   ],
   "source": [
    "mg.eval_matches(P, 'gold', 'predicted')"
   ]
  },
  {
   "cell_type": "code",
   "execution_count": 25,
   "metadata": {
    "collapsed": true
   },
   "outputs": [],
   "source": [
    "t = train_test['train']"
   ]
  },
  {
   "cell_type": "code",
   "execution_count": 26,
   "metadata": {
    "collapsed": true
   },
   "outputs": [],
   "source": [
    "import pandas as pd"
   ]
  },
  {
   "cell_type": "code",
   "execution_count": 27,
   "metadata": {
    "collapsed": false
   },
   "outputs": [],
   "source": [
    "g = t[['gold']]"
   ]
  },
  {
   "cell_type": "code",
   "execution_count": 28,
   "metadata": {
    "collapsed": false
   },
   "outputs": [
    {
     "data": {
      "text/plain": [
       "5    1\n",
       "8    1\n",
       "7    0\n",
       "2    0\n",
       "3    0\n",
       "6    0\n",
       "Name: gold, dtype: int64"
      ]
     },
     "execution_count": 28,
     "metadata": {},
     "output_type": "execute_result"
    }
   ],
   "source": [
    "g.T.iloc[0]"
   ]
  },
  {
   "cell_type": "code",
   "execution_count": 29,
   "metadata": {
    "collapsed": false
   },
   "outputs": [
    {
     "data": {
      "text/plain": [
       "pandas.core.series.Series"
      ]
     },
     "execution_count": 29,
     "metadata": {},
     "output_type": "execute_result"
    }
   ],
   "source": [
    "type(g.T.iloc[0])"
   ]
  },
  {
   "cell_type": "code",
   "execution_count": 30,
   "metadata": {
    "collapsed": false
   },
   "outputs": [
    {
     "name": "stdout",
     "output_type": "stream",
     "text": [
      "   _id ltable.ID rtable.ID  name_name_lev  gold  _predicted\n",
      "0    0        a1        b1       0.000000     1           0\n",
      "1    9        a5        b4       0.200000     0           0\n",
      "2    1        a1        b6       0.071429     0           1\n",
      "3    4        a2        b3       0.750000     1           0\n",
      "OrderedDict([('prec_numerator', 0.0), ('prec_denominator', 1.0), ('precision', 0.0), ('recall_numerator', 0.0), ('recall_denominator', 2.0), ('recall', 0.0), ('f1', 0.0), ('pred_pos_num', 1.0), ('false_pos_num', 1.0), ('false_pos_ls', [('a1', 'b6')]), ('pred_neg_num', 3.0), ('false_neg_num', 2.0), ('false_neg_ls', [('a1', 'b1'), ('a2', 'b3')])])\n",
      "_id                int64\n",
      "ltable.ID         object\n",
      "rtable.ID         object\n",
      "name_name_lev    float64\n",
      "gold               int64\n",
      "_predicted         int64\n",
      "dtype: object\n",
      "Debug button clicked : 0\n",
      "OrderedDict([('name_name_lev', 0.071428571428571397), ('_predicted', 1)])\n",
      "Show button clicked : 0\n",
      "False Negatives\n",
      "Show button clicked : 0\n",
      "Show button clicked : 1\n",
      "Debug button clicked : 1\n",
      "OrderedDict([('name_name_lev', 0.75), ('_predicted', 0)])\n"
     ]
    }
   ],
   "source": [
    "mg.vis_debug_dt(dt, train_test['train'], train_test['test'], exclude_attrs=['_id', 'rtable.ID', 'ltable.ID', 'gold'], target_attr=['gold'])"
   ]
  }
 ],
 "metadata": {
  "kernelspec": {
   "display_name": "Python 2",
   "language": "python",
   "name": "python2"
  },
  "language_info": {
   "codemirror_mode": {
    "name": "ipython",
    "version": 2
   },
   "file_extension": ".py",
   "mimetype": "text/x-python",
   "name": "python",
   "nbconvert_exporter": "python",
   "pygments_lexer": "ipython2",
   "version": "2.7.10"
  }
 },
 "nbformat": 4,
 "nbformat_minor": 0
}
