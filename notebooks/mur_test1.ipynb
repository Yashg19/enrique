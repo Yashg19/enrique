{
 "cells": [
  {
   "cell_type": "code",
   "execution_count": 1,
   "metadata": {
    "collapsed": true
   },
   "outputs": [],
   "source": [
    "import sys\n",
    "sys.path.append('c:/Pradap/Research/Python-Packages/enrique/')"
   ]
  },
  {
   "cell_type": "code",
   "execution_count": 2,
   "metadata": {
    "collapsed": false
   },
   "outputs": [],
   "source": [
    "import pandas as pd\n",
    "import logging\n",
    "import datetime\n",
    "import time\n",
    "\n",
    "# get the logger from logging module and set the name to current module name\n",
    "logging.basicConfig()\n",
    "logger = logging.getLogger(__name__)\n",
    "logger.setLevel(logging.INFO)\n",
    "class MTable(pd.DataFrame):\n",
    "    _metadata = ['properties']\n",
    "    # ----------------------------------------------------------------------------\n",
    "    # initialization methods\n",
    "    def __init__(self, *args, **kwargs):\n",
    "        key = kwargs.pop('key', None)\n",
    "        super(MTable, self).__init__(*args, **kwargs)\n",
    "        self.properties = dict()\n",
    "        if key is not None:\n",
    "            self.set_key(key)\n",
    "        elif mg.__prop__ is not None and mg.__prop__ in self.columns:\n",
    "            self.set_key(mg.__prop__)\n",
    "            mg.__prop__ = None\n",
    "        else:\n",
    "            self.__key_name__ = get_name_for_key(self.columns)\n",
    "            self.add_key(self.__key_name__)\n",
    "            del self.__key_name__\n",
    "\n",
    "\n",
    "\n",
    "\n",
    "    # based on the documentation at http://pandas.pydata.org/pandas-docs/stable/internals.html\n",
    "    @property\n",
    "    def _constructor(self):\n",
    "        #print self.properties\n",
    "        mg.__prop__ = None\n",
    "        if self.get_key() is not None:\n",
    "            mg.__prop__ = self.get_key()\n",
    "        return MTable\n",
    "\n",
    "    def __finalize__(self, other, method=None, **kwargs):\n",
    "        #print 'Inside finalize' + str(datetime.datetime.now())\n",
    "        __key_name__ = self.get_key()\n",
    "        #time.sleep(1)\n",
    "        if isinstance(other, MTable):\n",
    "            for name in self._metadata:\n",
    "                object.__setattr__(self, name, getattr(other, name, None))\n",
    "        if __key_name__ is not None:\n",
    "            self.set_key(__key_name__)\n",
    "        #else:\n",
    "         #   self.set_key(self.get_key())\n",
    "\n",
    "\n",
    "        return self\n",
    "\n",
    "    # ----------------------------------------------------------------------------\n",
    "    # getters/setters\n",
    "\n",
    "    def get_key(self):\n",
    "        return self.get_property('key')\n",
    "\n",
    "    def set_key(self, key):\n",
    "        if not isinstance(key, basestring):\n",
    "            raise TypeError('Input key is expected to be of type string')\n",
    "        # set the key as index\n",
    "        #    - It will automatically check for duplicates and null values\n",
    "        #self.set_index(key, inplace=True, drop=False, verify_integrity=True)\n",
    "        self.set_property('key', key)\n",
    "\n",
    "    def get_property(self, key):\n",
    "        return self.properties.get(key, None)\n",
    "\n",
    "    def set_property(self, key, value):\n",
    "        if not isinstance(key, basestring):\n",
    "            raise TypeError('Input key is expected to be of type string')\n",
    "        self.properties[key] = value\n",
    "\n",
    "    # ----------------------------------------------------------------------------\n",
    "    # add key\n",
    "    def add_key(self, key):\n",
    "        if key is None:\n",
    "            raise AttributeError('Input key is None')\n",
    "        if key in self.columns:\n",
    "            # todo: modify the behavior in the following manner\n",
    "            # - if the key is _m_id and if there is already an _m_id then create a new column with _m_id0\n",
    "            # - else dont do anything\n",
    "            logger.warning('Table already contains column with name %s; key not added : %s' %(key,  str(datetime.datetime.now()) ))\n",
    "            time.sleep(1)\n",
    "\n",
    "            self.set_key(key)\n",
    "        else:\n",
    "            # insert key with numeric values in the first position\n",
    "            self.insert(0, key, range(0, len(self)))\n",
    "            self.set_key(key)\n",
    "\n",
    "#-----------------------\n",
    "def read_csv(*args, **kwargs):\n",
    "    if kwargs.has_key('key') is False:\n",
    "        raise AttributeError('Key is not specified')\n",
    "    key = kwargs.pop('key', None)\n",
    "    df = pd.read_csv(*args, **kwargs)\n",
    "    if key is not None:\n",
    "        return MTable(df, key=key)\n",
    "    else:\n",
    "        df = MTable(df)\n",
    "\n",
    "        return df\n",
    "\n",
    "def get_name_for_key(columns):\n",
    "    k = '_id'\n",
    "    i = 0\n",
    "    while True:\n",
    "        if k not in columns:\n",
    "            break;\n",
    "        else:\n",
    "            k = '_id' + str(i)\n",
    "        i += 1\n",
    "    return k\n",
    "\n",
    "\n"
   ]
  },
  {
   "cell_type": "code",
   "execution_count": 3,
   "metadata": {
    "collapsed": false
   },
   "outputs": [],
   "source": [
    "\n",
    "import magellan as mg\n",
    "A = read_csv('../magellan/datasets/table_A.csv', key=None)\n"
   ]
  },
  {
   "cell_type": "code",
   "execution_count": 4,
   "metadata": {
    "collapsed": false
   },
   "outputs": [
    {
     "data": {
      "text/plain": [
       "'_id'"
      ]
     },
     "execution_count": 4,
     "metadata": {},
     "output_type": "execute_result"
    }
   ],
   "source": [
    "A.get_key()"
   ]
  },
  {
   "cell_type": "code",
   "execution_count": 5,
   "metadata": {
    "collapsed": false
   },
   "outputs": [
    {
     "data": {
      "text/html": [
       "<div style=\"max-height:1000px;max-width:1500px;overflow:auto;\">\n",
       "<table border=\"1\" class=\"dataframe\">\n",
       "  <thead>\n",
       "    <tr style=\"text-align: right;\">\n",
       "      <th></th>\n",
       "      <th>_id</th>\n",
       "      <th>address</th>\n",
       "      <th>zipcode</th>\n",
       "    </tr>\n",
       "  </thead>\n",
       "  <tbody>\n",
       "    <tr>\n",
       "      <th>0</th>\n",
       "      <td> 0</td>\n",
       "      <td>      607 From St, San Francisco</td>\n",
       "      <td> 94107</td>\n",
       "    </tr>\n",
       "    <tr>\n",
       "      <th>1</th>\n",
       "      <td> 1</td>\n",
       "      <td> 1652 Stockton St, San Francisco</td>\n",
       "      <td> 94122</td>\n",
       "    </tr>\n",
       "    <tr>\n",
       "      <th>2</th>\n",
       "      <td> 2</td>\n",
       "      <td>  3131 Webster St, San Francisco</td>\n",
       "      <td> 94107</td>\n",
       "    </tr>\n",
       "    <tr>\n",
       "      <th>3</th>\n",
       "      <td> 3</td>\n",
       "      <td>    423 Powell St, San Francisco</td>\n",
       "      <td> 94122</td>\n",
       "    </tr>\n",
       "    <tr>\n",
       "      <th>4</th>\n",
       "      <td> 4</td>\n",
       "      <td> 1702 Post Street, San Francisco</td>\n",
       "      <td> 94122</td>\n",
       "    </tr>\n",
       "  </tbody>\n",
       "</table>\n",
       "</div>"
      ],
      "text/plain": [
       "   _id                          address  zipcode\n",
       "0    0       607 From St, San Francisco    94107\n",
       "1    1  1652 Stockton St, San Francisco    94122\n",
       "2    2   3131 Webster St, San Francisco    94107\n",
       "3    3     423 Powell St, San Francisco    94122\n",
       "4    4  1702 Post Street, San Francisco    94122"
      ]
     },
     "execution_count": 5,
     "metadata": {},
     "output_type": "execute_result"
    }
   ],
   "source": [
    "B = A[['_id', 'address', 'zipcode']]\n",
    "B\n",
    "\n"
   ]
  },
  {
   "cell_type": "code",
   "execution_count": 6,
   "metadata": {
    "collapsed": false
   },
   "outputs": [
    {
     "data": {
      "text/html": [
       "<div style=\"max-height:1000px;max-width:1500px;overflow:auto;\">\n",
       "<table border=\"1\" class=\"dataframe\">\n",
       "  <thead>\n",
       "    <tr style=\"text-align: right;\">\n",
       "      <th></th>\n",
       "      <th>_id</th>\n",
       "      <th>address</th>\n",
       "      <th>zipcode</th>\n",
       "    </tr>\n",
       "  </thead>\n",
       "  <tbody>\n",
       "    <tr>\n",
       "      <th>0</th>\n",
       "      <td> 0</td>\n",
       "      <td>      607 From St, San Francisco</td>\n",
       "      <td> 94107</td>\n",
       "    </tr>\n",
       "    <tr>\n",
       "      <th>1</th>\n",
       "      <td> 1</td>\n",
       "      <td> 1652 Stockton St, San Francisco</td>\n",
       "      <td> 94122</td>\n",
       "    </tr>\n",
       "    <tr>\n",
       "      <th>2</th>\n",
       "      <td> 2</td>\n",
       "      <td>  3131 Webster St, San Francisco</td>\n",
       "      <td> 94107</td>\n",
       "    </tr>\n",
       "  </tbody>\n",
       "</table>\n",
       "</div>"
      ],
      "text/plain": [
       "   _id                          address  zipcode\n",
       "0    0       607 From St, San Francisco    94107\n",
       "1    1  1652 Stockton St, San Francisco    94122\n",
       "2    2   3131 Webster St, San Francisco    94107"
      ]
     },
     "execution_count": 6,
     "metadata": {},
     "output_type": "execute_result"
    }
   ],
   "source": [
    "C = A[['address', 'zipcode']]\n",
    "C.head(3)"
   ]
  },
  {
   "cell_type": "code",
   "execution_count": 7,
   "metadata": {
    "collapsed": false
   },
   "outputs": [
    {
     "data": {
      "text/html": [
       "<div style=\"max-height:1000px;max-width:1500px;overflow:auto;\">\n",
       "<table border=\"1\" class=\"dataframe\">\n",
       "  <thead>\n",
       "    <tr style=\"text-align: right;\">\n",
       "      <th></th>\n",
       "      <th>_id</th>\n",
       "      <th>address</th>\n",
       "      <th>zipcode</th>\n",
       "    </tr>\n",
       "  </thead>\n",
       "  <tbody>\n",
       "    <tr>\n",
       "      <th>0</th>\n",
       "      <td> 0</td>\n",
       "      <td>      607 From St, San Francisco</td>\n",
       "      <td> 94107</td>\n",
       "    </tr>\n",
       "    <tr>\n",
       "      <th>1</th>\n",
       "      <td> 1</td>\n",
       "      <td> 1652 Stockton St, San Francisco</td>\n",
       "      <td> 94122</td>\n",
       "    </tr>\n",
       "    <tr>\n",
       "      <th>2</th>\n",
       "      <td> 2</td>\n",
       "      <td>  3131 Webster St, San Francisco</td>\n",
       "      <td> 94107</td>\n",
       "    </tr>\n",
       "    <tr>\n",
       "      <th>3</th>\n",
       "      <td> 3</td>\n",
       "      <td>    423 Powell St, San Francisco</td>\n",
       "      <td> 94122</td>\n",
       "    </tr>\n",
       "    <tr>\n",
       "      <th>4</th>\n",
       "      <td> 4</td>\n",
       "      <td> 1702 Post Street, San Francisco</td>\n",
       "      <td> 94122</td>\n",
       "    </tr>\n",
       "  </tbody>\n",
       "</table>\n",
       "</div>"
      ],
      "text/plain": [
       "   _id                          address  zipcode\n",
       "0    0       607 From St, San Francisco    94107\n",
       "1    1  1652 Stockton St, San Francisco    94122\n",
       "2    2   3131 Webster St, San Francisco    94107\n",
       "3    3     423 Powell St, San Francisco    94122\n",
       "4    4  1702 Post Street, San Francisco    94122"
      ]
     },
     "execution_count": 7,
     "metadata": {},
     "output_type": "execute_result"
    }
   ],
   "source": [
    "B"
   ]
  },
  {
   "cell_type": "code",
   "execution_count": 8,
   "metadata": {
    "collapsed": false
   },
   "outputs": [
    {
     "data": {
      "text/plain": [
       "'_id'"
      ]
     },
     "execution_count": 8,
     "metadata": {},
     "output_type": "execute_result"
    }
   ],
   "source": [
    "B.get_key()"
   ]
  },
  {
   "cell_type": "code",
   "execution_count": 9,
   "metadata": {
    "collapsed": true
   },
   "outputs": [],
   "source": [
    "B.set_key('zipcode')"
   ]
  },
  {
   "cell_type": "code",
   "execution_count": 10,
   "metadata": {
    "collapsed": false
   },
   "outputs": [
    {
     "data": {
      "text/plain": [
       "{'key': 'zipcode'}"
      ]
     },
     "execution_count": 10,
     "metadata": {},
     "output_type": "execute_result"
    }
   ],
   "source": [
    "B.properties"
   ]
  },
  {
   "cell_type": "code",
   "execution_count": 11,
   "metadata": {
    "collapsed": false
   },
   "outputs": [],
   "source": [
    "D = B[['_id', 'address']]"
   ]
  },
  {
   "cell_type": "code",
   "execution_count": 12,
   "metadata": {
    "collapsed": false
   },
   "outputs": [],
   "source": [
    "D.set_key('address')"
   ]
  },
  {
   "cell_type": "code",
   "execution_count": 13,
   "metadata": {
    "collapsed": false
   },
   "outputs": [
    {
     "data": {
      "text/html": [
       "<div style=\"max-height:1000px;max-width:1500px;overflow:auto;\">\n",
       "<table border=\"1\" class=\"dataframe\">\n",
       "  <thead>\n",
       "    <tr style=\"text-align: right;\">\n",
       "      <th></th>\n",
       "      <th>_id0</th>\n",
       "      <th>_id</th>\n",
       "      <th>address</th>\n",
       "    </tr>\n",
       "  </thead>\n",
       "  <tbody>\n",
       "    <tr>\n",
       "      <th>0</th>\n",
       "      <td> 0</td>\n",
       "      <td> 0</td>\n",
       "      <td>      607 From St, San Francisco</td>\n",
       "    </tr>\n",
       "    <tr>\n",
       "      <th>1</th>\n",
       "      <td> 1</td>\n",
       "      <td> 1</td>\n",
       "      <td> 1652 Stockton St, San Francisco</td>\n",
       "    </tr>\n",
       "    <tr>\n",
       "      <th>2</th>\n",
       "      <td> 2</td>\n",
       "      <td> 2</td>\n",
       "      <td>  3131 Webster St, San Francisco</td>\n",
       "    </tr>\n",
       "    <tr>\n",
       "      <th>3</th>\n",
       "      <td> 3</td>\n",
       "      <td> 3</td>\n",
       "      <td>    423 Powell St, San Francisco</td>\n",
       "    </tr>\n",
       "    <tr>\n",
       "      <th>4</th>\n",
       "      <td> 4</td>\n",
       "      <td> 4</td>\n",
       "      <td> 1702 Post Street, San Francisco</td>\n",
       "    </tr>\n",
       "  </tbody>\n",
       "</table>\n",
       "</div>"
      ],
      "text/plain": [
       "   _id0  _id                          address\n",
       "0     0    0       607 From St, San Francisco\n",
       "1     1    1  1652 Stockton St, San Francisco\n",
       "2     2    2   3131 Webster St, San Francisco\n",
       "3     3    3     423 Powell St, San Francisco\n",
       "4     4    4  1702 Post Street, San Francisco"
      ]
     },
     "execution_count": 13,
     "metadata": {},
     "output_type": "execute_result"
    }
   ],
   "source": [
    "D"
   ]
  },
  {
   "cell_type": "code",
   "execution_count": 14,
   "metadata": {
    "collapsed": false
   },
   "outputs": [],
   "source": [
    "E = D[['_id0', '_id']]"
   ]
  },
  {
   "cell_type": "code",
   "execution_count": 15,
   "metadata": {
    "collapsed": false
   },
   "outputs": [
    {
     "data": {
      "text/html": [
       "<div style=\"max-height:1000px;max-width:1500px;overflow:auto;\">\n",
       "<table border=\"1\" class=\"dataframe\">\n",
       "  <thead>\n",
       "    <tr style=\"text-align: right;\">\n",
       "      <th></th>\n",
       "      <th>_id1</th>\n",
       "      <th>_id0</th>\n",
       "      <th>_id</th>\n",
       "    </tr>\n",
       "  </thead>\n",
       "  <tbody>\n",
       "    <tr>\n",
       "      <th>0</th>\n",
       "      <td> 0</td>\n",
       "      <td> 0</td>\n",
       "      <td> 0</td>\n",
       "    </tr>\n",
       "    <tr>\n",
       "      <th>1</th>\n",
       "      <td> 1</td>\n",
       "      <td> 1</td>\n",
       "      <td> 1</td>\n",
       "    </tr>\n",
       "    <tr>\n",
       "      <th>2</th>\n",
       "      <td> 2</td>\n",
       "      <td> 2</td>\n",
       "      <td> 2</td>\n",
       "    </tr>\n",
       "    <tr>\n",
       "      <th>3</th>\n",
       "      <td> 3</td>\n",
       "      <td> 3</td>\n",
       "      <td> 3</td>\n",
       "    </tr>\n",
       "    <tr>\n",
       "      <th>4</th>\n",
       "      <td> 4</td>\n",
       "      <td> 4</td>\n",
       "      <td> 4</td>\n",
       "    </tr>\n",
       "  </tbody>\n",
       "</table>\n",
       "</div>"
      ],
      "text/plain": [
       "   _id1  _id0  _id\n",
       "0     0     0    0\n",
       "1     1     1    1\n",
       "2     2     2    2\n",
       "3     3     3    3\n",
       "4     4     4    4"
      ]
     },
     "execution_count": 15,
     "metadata": {},
     "output_type": "execute_result"
    }
   ],
   "source": [
    "E"
   ]
  },
  {
   "cell_type": "code",
   "execution_count": 16,
   "metadata": {
    "collapsed": true
   },
   "outputs": [],
   "source": [
    "def is_key_attr(self, attr_name):\n",
    "    frame = self.to_dataframe()\n",
    "    uniq_flag = len(pd.unique(frame[attr_name])) == len(frame)\n",
    "    nan_flag = sum(frame[attr_name].isnull()) == len(frame)\n",
    "    return uniq_flag and nan_flag\n"
   ]
  },
  {
   "cell_type": "code",
   "execution_count": 24,
   "metadata": {
    "collapsed": false
   },
   "outputs": [],
   "source": [
    "uniq_flag = len(pd.unique(A['ID'])) == len(A)\n",
    "nan_flag = sum(A['ID'].isnull()) == 0"
   ]
  },
  {
   "cell_type": "code",
   "execution_count": 28,
   "metadata": {
    "collapsed": false
   },
   "outputs": [
    {
     "data": {
      "text/plain": [
       "pandas.core.series.Series"
      ]
     },
     "execution_count": 28,
     "metadata": {},
     "output_type": "execute_result"
    }
   ],
   "source": [
    "type(E['_id1'])"
   ]
  }
 ],
 "metadata": {
  "kernelspec": {
   "display_name": "Python 2",
   "language": "python",
   "name": "python2"
  },
  "language_info": {
   "codemirror_mode": {
    "name": "ipython",
    "version": 2
   },
   "file_extension": ".py",
   "mimetype": "text/x-python",
   "name": "python",
   "nbconvert_exporter": "python",
   "pygments_lexer": "ipython2",
   "version": "2.7.9"
  }
 },
 "nbformat": 4,
 "nbformat_minor": 0
}
