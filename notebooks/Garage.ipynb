{
 "cells": [
  {
   "cell_type": "code",
   "execution_count": 1,
   "metadata": {
    "collapsed": true
   },
   "outputs": [],
   "source": [
    "import sys\n",
    "sys.path.append('/scratch/pradap/python-work/enrique/')"
   ]
  },
  {
   "cell_type": "code",
   "execution_count": 2,
   "metadata": {
    "collapsed": true
   },
   "outputs": [],
   "source": [
    "import magellan as mg"
   ]
  },
  {
   "cell_type": "code",
   "execution_count": 3,
   "metadata": {
    "collapsed": true
   },
   "outputs": [],
   "source": [
    "A = mg.load_dataset('table_A')\n",
    "B = mg.load_dataset('table_B')"
   ]
  },
  {
   "cell_type": "code",
   "execution_count": 4,
   "metadata": {
    "collapsed": false
   },
   "outputs": [
    {
     "data": {
      "text/plain": [
       "True"
      ]
     },
     "execution_count": 4,
     "metadata": {},
     "output_type": "execute_result"
    }
   ],
   "source": [
    "mg.init_jvm()"
   ]
  },
  {
   "cell_type": "code",
   "execution_count": 5,
   "metadata": {
    "collapsed": true
   },
   "outputs": [],
   "source": [
    "ab = mg.AttrEquivalenceBlocker()\n",
    "C = ab.block_tables(A, B, 'zipcode', 'zipcode', l_output_attrs=['name', 'hourly_wage', 'zipcode'],\n",
    "                    r_output_attrs=['name', 'hourly_wage', 'zipcode'])"
   ]
  },
  {
   "cell_type": "code",
   "execution_count": 6,
   "metadata": {
    "collapsed": false
   },
   "outputs": [
    {
     "data": {
      "text/html": [
       "<div>\n",
       "<table border=\"1\" class=\"dataframe\">\n",
       "  <thead>\n",
       "    <tr style=\"text-align: right;\">\n",
       "      <th></th>\n",
       "      <th>_id</th>\n",
       "      <th>ltable.ID</th>\n",
       "      <th>rtable.ID</th>\n",
       "      <th>ltable.name</th>\n",
       "      <th>ltable.hourly_wage</th>\n",
       "      <th>ltable.zipcode</th>\n",
       "      <th>rtable.name</th>\n",
       "      <th>rtable.hourly_wage</th>\n",
       "      <th>rtable.zipcode</th>\n",
       "    </tr>\n",
       "  </thead>\n",
       "  <tbody>\n",
       "    <tr>\n",
       "      <th>0</th>\n",
       "      <td>0</td>\n",
       "      <td>a1</td>\n",
       "      <td>b1</td>\n",
       "      <td>Kevin Smith</td>\n",
       "      <td>30.0</td>\n",
       "      <td>94107</td>\n",
       "      <td>Mark Levene</td>\n",
       "      <td>29.5</td>\n",
       "      <td>94107</td>\n",
       "    </tr>\n",
       "    <tr>\n",
       "      <th>1</th>\n",
       "      <td>1</td>\n",
       "      <td>a1</td>\n",
       "      <td>b2</td>\n",
       "      <td>Kevin Smith</td>\n",
       "      <td>30.0</td>\n",
       "      <td>94107</td>\n",
       "      <td>Bill Bridge</td>\n",
       "      <td>32.0</td>\n",
       "      <td>94107</td>\n",
       "    </tr>\n",
       "    <tr>\n",
       "      <th>2</th>\n",
       "      <td>2</td>\n",
       "      <td>a1</td>\n",
       "      <td>b6</td>\n",
       "      <td>Kevin Smith</td>\n",
       "      <td>30.0</td>\n",
       "      <td>94107</td>\n",
       "      <td>Michael Brodie</td>\n",
       "      <td>32.5</td>\n",
       "      <td>94107</td>\n",
       "    </tr>\n",
       "    <tr>\n",
       "      <th>3</th>\n",
       "      <td>3</td>\n",
       "      <td>a3</td>\n",
       "      <td>b1</td>\n",
       "      <td>William Bridge</td>\n",
       "      <td>32.0</td>\n",
       "      <td>94107</td>\n",
       "      <td>Mark Levene</td>\n",
       "      <td>29.5</td>\n",
       "      <td>94107</td>\n",
       "    </tr>\n",
       "    <tr>\n",
       "      <th>4</th>\n",
       "      <td>4</td>\n",
       "      <td>a3</td>\n",
       "      <td>b2</td>\n",
       "      <td>William Bridge</td>\n",
       "      <td>32.0</td>\n",
       "      <td>94107</td>\n",
       "      <td>Bill Bridge</td>\n",
       "      <td>32.0</td>\n",
       "      <td>94107</td>\n",
       "    </tr>\n",
       "    <tr>\n",
       "      <th>5</th>\n",
       "      <td>5</td>\n",
       "      <td>a3</td>\n",
       "      <td>b6</td>\n",
       "      <td>William Bridge</td>\n",
       "      <td>32.0</td>\n",
       "      <td>94107</td>\n",
       "      <td>Michael Brodie</td>\n",
       "      <td>32.5</td>\n",
       "      <td>94107</td>\n",
       "    </tr>\n",
       "    <tr>\n",
       "      <th>6</th>\n",
       "      <td>6</td>\n",
       "      <td>a2</td>\n",
       "      <td>b3</td>\n",
       "      <td>Michael Franklin</td>\n",
       "      <td>27.5</td>\n",
       "      <td>94122</td>\n",
       "      <td>Mike Franklin</td>\n",
       "      <td>27.5</td>\n",
       "      <td>94122</td>\n",
       "    </tr>\n",
       "    <tr>\n",
       "      <th>7</th>\n",
       "      <td>7</td>\n",
       "      <td>a2</td>\n",
       "      <td>b4</td>\n",
       "      <td>Michael Franklin</td>\n",
       "      <td>27.5</td>\n",
       "      <td>94122</td>\n",
       "      <td>Joseph Kuan</td>\n",
       "      <td>26.0</td>\n",
       "      <td>94122</td>\n",
       "    </tr>\n",
       "    <tr>\n",
       "      <th>8</th>\n",
       "      <td>8</td>\n",
       "      <td>a2</td>\n",
       "      <td>b5</td>\n",
       "      <td>Michael Franklin</td>\n",
       "      <td>27.5</td>\n",
       "      <td>94122</td>\n",
       "      <td>Alfons Kemper</td>\n",
       "      <td>35.0</td>\n",
       "      <td>94122</td>\n",
       "    </tr>\n",
       "    <tr>\n",
       "      <th>9</th>\n",
       "      <td>9</td>\n",
       "      <td>a4</td>\n",
       "      <td>b3</td>\n",
       "      <td>Binto George</td>\n",
       "      <td>32.5</td>\n",
       "      <td>94122</td>\n",
       "      <td>Mike Franklin</td>\n",
       "      <td>27.5</td>\n",
       "      <td>94122</td>\n",
       "    </tr>\n",
       "    <tr>\n",
       "      <th>10</th>\n",
       "      <td>10</td>\n",
       "      <td>a4</td>\n",
       "      <td>b4</td>\n",
       "      <td>Binto George</td>\n",
       "      <td>32.5</td>\n",
       "      <td>94122</td>\n",
       "      <td>Joseph Kuan</td>\n",
       "      <td>26.0</td>\n",
       "      <td>94122</td>\n",
       "    </tr>\n",
       "    <tr>\n",
       "      <th>11</th>\n",
       "      <td>11</td>\n",
       "      <td>a4</td>\n",
       "      <td>b5</td>\n",
       "      <td>Binto George</td>\n",
       "      <td>32.5</td>\n",
       "      <td>94122</td>\n",
       "      <td>Alfons Kemper</td>\n",
       "      <td>35.0</td>\n",
       "      <td>94122</td>\n",
       "    </tr>\n",
       "    <tr>\n",
       "      <th>12</th>\n",
       "      <td>12</td>\n",
       "      <td>a5</td>\n",
       "      <td>b3</td>\n",
       "      <td>Alphonse Kemper</td>\n",
       "      <td>35.0</td>\n",
       "      <td>94122</td>\n",
       "      <td>Mike Franklin</td>\n",
       "      <td>27.5</td>\n",
       "      <td>94122</td>\n",
       "    </tr>\n",
       "    <tr>\n",
       "      <th>13</th>\n",
       "      <td>13</td>\n",
       "      <td>a5</td>\n",
       "      <td>b4</td>\n",
       "      <td>Alphonse Kemper</td>\n",
       "      <td>35.0</td>\n",
       "      <td>94122</td>\n",
       "      <td>Joseph Kuan</td>\n",
       "      <td>26.0</td>\n",
       "      <td>94122</td>\n",
       "    </tr>\n",
       "    <tr>\n",
       "      <th>14</th>\n",
       "      <td>14</td>\n",
       "      <td>a5</td>\n",
       "      <td>b5</td>\n",
       "      <td>Alphonse Kemper</td>\n",
       "      <td>35.0</td>\n",
       "      <td>94122</td>\n",
       "      <td>Alfons Kemper</td>\n",
       "      <td>35.0</td>\n",
       "      <td>94122</td>\n",
       "    </tr>\n",
       "  </tbody>\n",
       "</table>\n",
       "</div>"
      ],
      "text/plain": [
       "    _id ltable.ID rtable.ID       ltable.name  ltable.hourly_wage  \\\n",
       "0     0        a1        b1       Kevin Smith                30.0   \n",
       "1     1        a1        b2       Kevin Smith                30.0   \n",
       "2     2        a1        b6       Kevin Smith                30.0   \n",
       "3     3        a3        b1    William Bridge                32.0   \n",
       "4     4        a3        b2    William Bridge                32.0   \n",
       "5     5        a3        b6    William Bridge                32.0   \n",
       "6     6        a2        b3  Michael Franklin                27.5   \n",
       "7     7        a2        b4  Michael Franklin                27.5   \n",
       "8     8        a2        b5  Michael Franklin                27.5   \n",
       "9     9        a4        b3      Binto George                32.5   \n",
       "10   10        a4        b4      Binto George                32.5   \n",
       "11   11        a4        b5      Binto George                32.5   \n",
       "12   12        a5        b3   Alphonse Kemper                35.0   \n",
       "13   13        a5        b4   Alphonse Kemper                35.0   \n",
       "14   14        a5        b5   Alphonse Kemper                35.0   \n",
       "\n",
       "    ltable.zipcode     rtable.name  rtable.hourly_wage  rtable.zipcode  \n",
       "0            94107     Mark Levene                29.5           94107  \n",
       "1            94107     Bill Bridge                32.0           94107  \n",
       "2            94107  Michael Brodie                32.5           94107  \n",
       "3            94107     Mark Levene                29.5           94107  \n",
       "4            94107     Bill Bridge                32.0           94107  \n",
       "5            94107  Michael Brodie                32.5           94107  \n",
       "6            94122   Mike Franklin                27.5           94122  \n",
       "7            94122     Joseph Kuan                26.0           94122  \n",
       "8            94122   Alfons Kemper                35.0           94122  \n",
       "9            94122   Mike Franklin                27.5           94122  \n",
       "10           94122     Joseph Kuan                26.0           94122  \n",
       "11           94122   Alfons Kemper                35.0           94122  \n",
       "12           94122   Mike Franklin                27.5           94122  \n",
       "13           94122     Joseph Kuan                26.0           94122  \n",
       "14           94122   Alfons Kemper                35.0           94122  "
      ]
     },
     "execution_count": 6,
     "metadata": {},
     "output_type": "execute_result"
    }
   ],
   "source": [
    "C"
   ]
  },
  {
   "cell_type": "code",
   "execution_count": 7,
   "metadata": {
    "collapsed": false
   },
   "outputs": [],
   "source": [
    "C.save_table('mur1.pkl')"
   ]
  },
  {
   "cell_type": "code",
   "execution_count": 8,
   "metadata": {
    "collapsed": true
   },
   "outputs": [],
   "source": [
    "C1 = mg.load_table('mur1.pkl')"
   ]
  },
  {
   "cell_type": "code",
   "execution_count": 9,
   "metadata": {
    "collapsed": false
   },
   "outputs": [
    {
     "data": {
      "text/plain": [
       "'ID'"
      ]
     },
     "execution_count": 9,
     "metadata": {},
     "output_type": "execute_result"
    }
   ],
   "source": [
    "C1.get_property('ltable').get_key()"
   ]
  }
 ],
 "metadata": {
  "kernelspec": {
   "display_name": "Python 2",
   "language": "python",
   "name": "python2"
  },
  "language_info": {
   "codemirror_mode": {
    "name": "ipython",
    "version": 2
   },
   "file_extension": ".py",
   "mimetype": "text/x-python",
   "name": "python",
   "nbconvert_exporter": "python",
   "pygments_lexer": "ipython2",
   "version": "2.7.10"
  }
 },
 "nbformat": 4,
 "nbformat_minor": 0
}
