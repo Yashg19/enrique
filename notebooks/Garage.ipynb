{
 "cells": [
  {
   "cell_type": "code",
   "execution_count": 5,
   "metadata": {
    "collapsed": false
   },
   "outputs": [],
   "source": [
    "import sys\n",
    "sys.path.append('C:/Pradap/Research/Python-Packages/enrique')"
   ]
  },
  {
   "cell_type": "code",
   "execution_count": 6,
   "metadata": {
    "collapsed": false
   },
   "outputs": [],
   "source": [
    "import magellan as mg"
   ]
  },
  {
   "cell_type": "code",
   "execution_count": 7,
   "metadata": {
    "collapsed": true
   },
   "outputs": [],
   "source": [
    "A = mg.load_dataset('table_A')"
   ]
  },
  {
   "cell_type": "code",
   "execution_count": 9,
   "metadata": {
    "collapsed": false
   },
   "outputs": [],
   "source": [
    "A = mg.MTable({'col1':[10, 20], 'col2':[20, 30]})"
   ]
  },
  {
   "cell_type": "code",
   "execution_count": 14,
   "metadata": {
    "collapsed": false
   },
   "outputs": [],
   "source": [
    "mg.__prop__ = True"
   ]
  },
  {
   "cell_type": "code",
   "execution_count": 15,
   "metadata": {
    "collapsed": false
   },
   "outputs": [],
   "source": [
    "A = mg.read_csv('../magellan/datasets/books/walmart.csv', key='id')"
   ]
  },
  {
   "cell_type": "code",
   "execution_count": 16,
   "metadata": {
    "collapsed": false
   },
   "outputs": [
    {
     "data": {
      "text/plain": [
       "{'key': 'id'}"
      ]
     },
     "execution_count": 16,
     "metadata": {},
     "output_type": "execute_result"
    }
   ],
   "source": [
    "A.properties"
   ]
  },
  {
   "cell_type": "code",
   "execution_count": 19,
   "metadata": {
    "collapsed": false
   },
   "outputs": [
    {
     "data": {
      "text/html": [
       "<div>\n",
       "<table border=\"1\" class=\"dataframe\">\n",
       "  <thead>\n",
       "    <tr style=\"text-align: right;\">\n",
       "      <th></th>\n",
       "      <th>id</th>\n",
       "      <th>title</th>\n",
       "      <th>author</th>\n",
       "      <th>numAuthors</th>\n",
       "      <th>binding</th>\n",
       "      <th>publisher</th>\n",
       "      <th>isbn</th>\n",
       "      <th>pubYear</th>\n",
       "      <th>pubMonth</th>\n",
       "      <th>pubDay</th>\n",
       "      <th>...</th>\n",
       "      <th>volume</th>\n",
       "      <th>lang</th>\n",
       "      <th>editionDescr</th>\n",
       "      <th>category</th>\n",
       "      <th>upc11</th>\n",
       "      <th>upc12</th>\n",
       "      <th>upc13</th>\n",
       "      <th>upc14</th>\n",
       "      <th>description</th>\n",
       "      <th>url</th>\n",
       "    </tr>\n",
       "  </thead>\n",
       "  <tbody>\n",
       "    <tr>\n",
       "      <th>0</th>\n",
       "      <td>3659425</td>\n",
       "      <td>Time of the Wild</td>\n",
       "      <td>Curtiss, A. B.</td>\n",
       "      <td>1</td>\n",
       "      <td>Hardcover</td>\n",
       "      <td>Oldcastle Publishing</td>\n",
       "      <td>9780932529558</td>\n",
       "      <td>2005</td>\n",
       "      <td>2</td>\n",
       "      <td>1</td>\n",
       "      <td>...</td>\n",
       "      <td>NaN</td>\n",
       "      <td>ENG</td>\n",
       "      <td>NaN</td>\n",
       "      <td>Books/ARCHIVE/Children's Books/General Fiction...</td>\n",
       "      <td>97809325295 78093252955</td>\n",
       "      <td>780932529558 978093252955</td>\n",
       "      <td>0780932529558 0978093252955</td>\n",
       "      <td>00780932529558 00978093252955</td>\n",
       "      <td>Praised by the Boston Globe as practically a h...</td>\n",
       "      <td>N</td>\n",
       "    </tr>\n",
       "    <tr>\n",
       "      <th>1</th>\n",
       "      <td>3659464</td>\n",
       "      <td>Software Engineering Quality Practices</td>\n",
       "      <td>Kandt, Ronald Kirk</td>\n",
       "      <td>1</td>\n",
       "      <td>Hardcover</td>\n",
       "      <td>Auerbach Publications</td>\n",
       "      <td>9780849346330</td>\n",
       "      <td>2005</td>\n",
       "      <td>11</td>\n",
       "      <td>1</td>\n",
       "      <td>...</td>\n",
       "      <td>NaN</td>\n",
       "      <td>ENG</td>\n",
       "      <td>NaN</td>\n",
       "      <td>Books/ARCHIVE/Books Misc  Books</td>\n",
       "      <td>97808493463 78084934633</td>\n",
       "      <td>780849346330 978084934633</td>\n",
       "      <td>0978084934633 0780849346330</td>\n",
       "      <td>00780849346330 00978084934633</td>\n",
       "      <td>NaN</td>\n",
       "      <td>N</td>\n",
       "    </tr>\n",
       "    <tr>\n",
       "      <th>2</th>\n",
       "      <td>3659539</td>\n",
       "      <td>Harper's Weekly September 5, 1863</td>\n",
       "      <td>Harper's Weekly Staff</td>\n",
       "      <td>1</td>\n",
       "      <td>Other</td>\n",
       "      <td>Applewood Books</td>\n",
       "      <td>9781557097477</td>\n",
       "      <td>1970</td>\n",
       "      <td>1</td>\n",
       "      <td>1</td>\n",
       "      <td>...</td>\n",
       "      <td>NaN</td>\n",
       "      <td>ENG</td>\n",
       "      <td>NaN</td>\n",
       "      <td>Books/ARCHIVE/Textbooks/History/United States/...</td>\n",
       "      <td>78155709747 97815570974</td>\n",
       "      <td>978155709747 781557097477</td>\n",
       "      <td>0978155709747 0781557097477</td>\n",
       "      <td>00978155709747 00781557097477</td>\n",
       "      <td>NaN</td>\n",
       "      <td>N</td>\n",
       "    </tr>\n",
       "    <tr>\n",
       "      <th>3</th>\n",
       "      <td>3659643</td>\n",
       "      <td>Audubon Nature 2006 Calendar</td>\n",
       "      <td>National Audubon Society</td>\n",
       "      <td>1</td>\n",
       "      <td>Paperback</td>\n",
       "      <td>Workman Pub Co</td>\n",
       "      <td>9781579652791</td>\n",
       "      <td>2005</td>\n",
       "      <td>8</td>\n",
       "      <td>1</td>\n",
       "      <td>...</td>\n",
       "      <td>NaN</td>\n",
       "      <td>ENG</td>\n",
       "      <td>2006</td>\n",
       "      <td>UNASSIGNED/Unassigned Books/Unassigned Books s...</td>\n",
       "      <td>97815796527 78157965279</td>\n",
       "      <td>781579652791 978157965279</td>\n",
       "      <td>0978157965279 0781579652791</td>\n",
       "      <td>00781579652791 00978157965279</td>\n",
       "      <td>NaN</td>\n",
       "      <td>N</td>\n",
       "    </tr>\n",
       "    <tr>\n",
       "      <th>4</th>\n",
       "      <td>3659993</td>\n",
       "      <td>Harper's Weekly August 24, 1861</td>\n",
       "      <td>Harper's Weekly Staff</td>\n",
       "      <td>1</td>\n",
       "      <td>Loose Leaf</td>\n",
       "      <td>Applewood Books</td>\n",
       "      <td>9781557096418</td>\n",
       "      <td>1970</td>\n",
       "      <td>1</td>\n",
       "      <td>1</td>\n",
       "      <td>...</td>\n",
       "      <td>NaN</td>\n",
       "      <td>ENG</td>\n",
       "      <td>NaN</td>\n",
       "      <td>Books/ARCHIVE/Textbooks/History/United States/...</td>\n",
       "      <td>97815570964 78155709641</td>\n",
       "      <td>781557096418 978155709641</td>\n",
       "      <td>0781557096418 0978155709641</td>\n",
       "      <td>00781557096418 00978155709641</td>\n",
       "      <td>NaN</td>\n",
       "      <td>N</td>\n",
       "    </tr>\n",
       "  </tbody>\n",
       "</table>\n",
       "<p>5 rows × 22 columns</p>\n",
       "</div>"
      ],
      "text/plain": [
       "        id                                   title                    author  \\\n",
       "0  3659425                        Time of the Wild            Curtiss, A. B.   \n",
       "1  3659464  Software Engineering Quality Practices        Kandt, Ronald Kirk   \n",
       "2  3659539       Harper's Weekly September 5, 1863     Harper's Weekly Staff   \n",
       "3  3659643            Audubon Nature 2006 Calendar  National Audubon Society   \n",
       "4  3659993         Harper's Weekly August 24, 1861     Harper's Weekly Staff   \n",
       "\n",
       "   numAuthors     binding              publisher           isbn  pubYear  \\\n",
       "0           1   Hardcover   Oldcastle Publishing  9780932529558     2005   \n",
       "1           1   Hardcover  Auerbach Publications  9780849346330     2005   \n",
       "2           1       Other        Applewood Books  9781557097477     1970   \n",
       "3           1   Paperback         Workman Pub Co  9781579652791     2005   \n",
       "4           1  Loose Leaf        Applewood Books  9781557096418     1970   \n",
       "\n",
       "   pubMonth  pubDay ... volume  lang editionDescr  \\\n",
       "0         2       1 ...    NaN   ENG          NaN   \n",
       "1        11       1 ...    NaN   ENG          NaN   \n",
       "2         1       1 ...    NaN   ENG          NaN   \n",
       "3         8       1 ...    NaN   ENG         2006   \n",
       "4         1       1 ...    NaN   ENG          NaN   \n",
       "\n",
       "                                            category                    upc11  \\\n",
       "0  Books/ARCHIVE/Children's Books/General Fiction...  97809325295 78093252955   \n",
       "1                    Books/ARCHIVE/Books Misc  Books  97808493463 78084934633   \n",
       "2  Books/ARCHIVE/Textbooks/History/United States/...  78155709747 97815570974   \n",
       "3  UNASSIGNED/Unassigned Books/Unassigned Books s...  97815796527 78157965279   \n",
       "4  Books/ARCHIVE/Textbooks/History/United States/...  97815570964 78155709641   \n",
       "\n",
       "                       upc12                        upc13  \\\n",
       "0  780932529558 978093252955  0780932529558 0978093252955   \n",
       "1  780849346330 978084934633  0978084934633 0780849346330   \n",
       "2  978155709747 781557097477  0978155709747 0781557097477   \n",
       "3  781579652791 978157965279  0978157965279 0781579652791   \n",
       "4  781557096418 978155709641  0781557096418 0978155709641   \n",
       "\n",
       "                           upc14  \\\n",
       "0  00780932529558 00978093252955   \n",
       "1  00780849346330 00978084934633   \n",
       "2  00978155709747 00781557097477   \n",
       "3  00781579652791 00978157965279   \n",
       "4  00781557096418 00978155709641   \n",
       "\n",
       "                                         description url  \n",
       "0  Praised by the Boston Globe as practically a h...   N  \n",
       "1                                                NaN   N  \n",
       "2                                                NaN   N  \n",
       "3                                                NaN   N  \n",
       "4                                                NaN   N  \n",
       "\n",
       "[5 rows x 22 columns]"
      ]
     },
     "execution_count": 19,
     "metadata": {},
     "output_type": "execute_result"
    }
   ],
   "source": [
    "mg.__prop__ = False\n",
    "A.head(5)\n"
   ]
  },
  {
   "cell_type": "code",
   "execution_count": 20,
   "metadata": {
    "collapsed": true
   },
   "outputs": [],
   "source": [
    "mg.__prop__ = True"
   ]
  }
 ],
 "metadata": {
  "kernelspec": {
   "display_name": "Python 2",
   "language": "python",
   "name": "python2"
  },
  "language_info": {
   "codemirror_mode": {
    "name": "ipython",
    "version": 2
   },
   "file_extension": ".py",
   "mimetype": "text/x-python",
   "name": "python",
   "nbconvert_exporter": "python",
   "pygments_lexer": "ipython2",
   "version": "2.7.9"
  }
 },
 "nbformat": 4,
 "nbformat_minor": 0
}
