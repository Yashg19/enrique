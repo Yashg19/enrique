{
 "cells": [
  {
   "cell_type": "markdown",
   "metadata": {},
   "source": [
    "To execute the commands and view the output as shown in this webpage, execute the following command from command prompt\n",
    "\n",
    "ipython notebook \n",
    "\n",
    "It should open up a webpage and from there create a new notebook. \n",
    "\n",
    "Note: Page at http://ipython.org/notebook.html provides good introductory information about ipython and its usage.\n",
    "    "
   ]
  },
  {
   "cell_type": "code",
   "execution_count": 1,
   "metadata": {},
   "outputs": [
    {
     "name": "stdout",
     "output_type": "stream",
     "text": [
      "Installed autotime.py. To use it, type:\n",
      "  %load_ext autotime\n"
     ]
    }
   ],
   "source": [
    "# Install autotime ipython module that is useful to time execution of each command\n",
    "%install_ext https://raw.github.com/cpcloud/ipython-autotime/master/autotime.py"
   ]
  },
  {
   "cell_type": "code",
   "execution_count": 2,
   "metadata": {},
   "outputs": [],
   "source": [
    "# Load autotime ipython module\n",
    "%load_ext autotime"
   ]
  },
  {
   "cell_type": "code",
   "execution_count": 3,
   "metadata": {},
   "outputs": [
    {
     "name": "stdout",
     "output_type": "stream",
     "text": [
      "time: 92 ms\n"
     ]
    }
   ],
   "source": [
    "import sys"
   ]
  },
  {
   "cell_type": "code",
   "execution_count": 4,
   "metadata": {},
   "outputs": [
    {
     "name": "stdout",
     "output_type": "stream",
     "text": [
      "time: 122 ms\n"
     ]
    }
   ],
   "source": [
    "sys.path.append(\"c:/Pradap/Research/Python-Packages/enrique/\")"
   ]
  },
  {
   "cell_type": "code",
   "execution_count": 5,
   "metadata": {},
   "outputs": [
    {
     "name": "stdout",
     "output_type": "stream",
     "text": [
      "time: 1.53 s\n"
     ]
    }
   ],
   "source": [
    "# import magellan into python workspace\n",
    "import magellan as mg"
   ]
  },
  {
   "cell_type": "code",
   "execution_count": 6,
   "metadata": {},
   "outputs": [
    {
     "name": "stdout",
     "output_type": "stream",
     "text": [
      "time: 6 ms\n"
     ]
    }
   ],
   "source": [
    "A = mg.load_dataset('table_A')"
   ]
  },
  {
   "cell_type": "code",
   "execution_count": 7,
   "metadata": {},
   "outputs": [
    {
     "data": {
      "text/html": [
       "<div>\n",
       "<table border=\"1\" class=\"dataframe\">\n",
       "  <thead>\n",
       "    <tr style=\"text-align: right;\">\n",
       "      <th></th>\n",
       "      <th>ID</th>\n",
       "      <th>name</th>\n",
       "      <th>birth_year</th>\n",
       "      <th>hourly_wage</th>\n",
       "      <th>address</th>\n",
       "      <th>zipcode</th>\n",
       "    </tr>\n",
       "  </thead>\n",
       "  <tbody>\n",
       "    <tr>\n",
       "      <th>0</th>\n",
       "      <td>a1</td>\n",
       "      <td>Kevin Smith</td>\n",
       "      <td>1989</td>\n",
       "      <td>30.0</td>\n",
       "      <td>607 From St, San Francisco</td>\n",
       "      <td>94107</td>\n",
       "    </tr>\n",
       "    <tr>\n",
       "      <th>1</th>\n",
       "      <td>a2</td>\n",
       "      <td>Michael Franklin</td>\n",
       "      <td>1988</td>\n",
       "      <td>27.5</td>\n",
       "      <td>1652 Stockton St, San Francisco</td>\n",
       "      <td>94122</td>\n",
       "    </tr>\n",
       "    <tr>\n",
       "      <th>2</th>\n",
       "      <td>a3</td>\n",
       "      <td>William Bridge</td>\n",
       "      <td>1986</td>\n",
       "      <td>32.0</td>\n",
       "      <td>3131 Webster St, San Francisco</td>\n",
       "      <td>94107</td>\n",
       "    </tr>\n",
       "    <tr>\n",
       "      <th>3</th>\n",
       "      <td>a4</td>\n",
       "      <td>Binto George</td>\n",
       "      <td>1987</td>\n",
       "      <td>32.5</td>\n",
       "      <td>423 Powell St, San Francisco</td>\n",
       "      <td>94122</td>\n",
       "    </tr>\n",
       "    <tr>\n",
       "      <th>4</th>\n",
       "      <td>a5</td>\n",
       "      <td>Alphonse Kemper</td>\n",
       "      <td>1984</td>\n",
       "      <td>35.0</td>\n",
       "      <td>1702 Post Street, San Francisco</td>\n",
       "      <td>94122</td>\n",
       "    </tr>\n",
       "  </tbody>\n",
       "</table>\n",
       "</div>"
      ]
     },
     "output_type": "execute_result",
     "metadata": {}
    },
    {
     "name": "stdout",
     "output_type": "stream",
     "text": [
      "time: 161 ms\n"
     ]
    }
   ],
   "source": [
    "A.head(10)"
   ]
  },
  {
   "cell_type": "code",
   "execution_count": 8,
   "metadata": {},
   "outputs": [
    {
     "name": "stdout",
     "output_type": "stream",
     "text": [
      "time: 100 ms\n"
     ]
    }
   ],
   "source": [
    "import jpype"
   ]
  },
  {
   "cell_type": "code",
   "execution_count": 9,
   "metadata": {},
   "outputs": [
    {
     "data": {
      "text/plain": [
       "u'C:\\\\Program Files\\\\Java\\\\jre7\\\\bin\\\\client\\\\jvm.dll'"
      ]
     },
     "execution_count": 9,
     "output_type": "execute_result",
     "metadata": {}
    },
    {
     "name": "stdout",
     "output_type": "stream",
     "text": [
      "time: 107 ms\n"
     ]
    }
   ],
   "source": [
    "jpype.getDefaultJVMPath()"
   ]
  },
  {
   "cell_type": "code",
   "execution_count": 10,
   "metadata": {},
   "outputs": [
    {
     "data": {
      "text/plain": [
       "True"
      ]
     },
     "execution_count": 10,
     "output_type": "execute_result",
     "metadata": {}
    },
    {
     "name": "stdout",
     "output_type": "stream",
     "text": [
      "time: 228 ms\n"
     ]
    }
   ],
   "source": [
    "# Initialize JVM\n",
    "mg.init_jvm('C:\\\\Program Files\\\\Java\\\\jre7\\\\bin\\\\server\\\\jvm.dll')"
   ]
  },
  {
   "cell_type": "code",
   "execution_count": 11,
   "metadata": {},
   "outputs": [
    {
     "name": "stdout",
     "output_type": "stream",
     "text": [
      "time: 330 ms\n"
     ]
    }
   ],
   "source": [
    "# import toy datasets\n",
    "A = mg.load_dataset('table_A')\n",
    "B = mg.load_dataset('table_B')"
   ]
  },
  {
   "cell_type": "code",
   "execution_count": 12,
   "metadata": {},
   "outputs": [
    {
     "data": {
      "text/html": [
       "<div>\n",
       "<table border=\"1\" class=\"dataframe\">\n",
       "  <thead>\n",
       "    <tr style=\"text-align: right;\">\n",
       "      <th></th>\n",
       "      <th>ID</th>\n",
       "      <th>name</th>\n",
       "      <th>birth_year</th>\n",
       "      <th>hourly_wage</th>\n",
       "      <th>address</th>\n",
       "      <th>zipcode</th>\n",
       "    </tr>\n",
       "  </thead>\n",
       "  <tbody>\n",
       "    <tr>\n",
       "      <th>0</th>\n",
       "      <td>a1</td>\n",
       "      <td>Kevin Smith</td>\n",
       "      <td>1989</td>\n",
       "      <td>30.0</td>\n",
       "      <td>607 From St, San Francisco</td>\n",
       "      <td>94107</td>\n",
       "    </tr>\n",
       "    <tr>\n",
       "      <th>1</th>\n",
       "      <td>a2</td>\n",
       "      <td>Michael Franklin</td>\n",
       "      <td>1988</td>\n",
       "      <td>27.5</td>\n",
       "      <td>1652 Stockton St, San Francisco</td>\n",
       "      <td>94122</td>\n",
       "    </tr>\n",
       "    <tr>\n",
       "      <th>2</th>\n",
       "      <td>a3</td>\n",
       "      <td>William Bridge</td>\n",
       "      <td>1986</td>\n",
       "      <td>32.0</td>\n",
       "      <td>3131 Webster St, San Francisco</td>\n",
       "      <td>94107</td>\n",
       "    </tr>\n",
       "    <tr>\n",
       "      <th>3</th>\n",
       "      <td>a4</td>\n",
       "      <td>Binto George</td>\n",
       "      <td>1987</td>\n",
       "      <td>32.5</td>\n",
       "      <td>423 Powell St, San Francisco</td>\n",
       "      <td>94122</td>\n",
       "    </tr>\n",
       "    <tr>\n",
       "      <th>4</th>\n",
       "      <td>a5</td>\n",
       "      <td>Alphonse Kemper</td>\n",
       "      <td>1984</td>\n",
       "      <td>35.0</td>\n",
       "      <td>1702 Post Street, San Francisco</td>\n",
       "      <td>94122</td>\n",
       "    </tr>\n",
       "  </tbody>\n",
       "</table>\n",
       "</div>"
      ]
     },
     "output_type": "execute_result",
     "metadata": {}
    },
    {
     "name": "stdout",
     "output_type": "stream",
     "text": [
      "time: 177 ms\n"
     ]
    }
   ],
   "source": [
    "A"
   ]
  },
  {
   "cell_type": "code",
   "execution_count": 13,
   "metadata": {},
   "outputs": [
    {
     "name": "stdout",
     "output_type": "stream",
     "text": [
      "time: 100 ms\n"
     ]
    }
   ],
   "source": [
    "# block using zipcode\n",
    "ab = mg.AttrEquivalenceBlocker()\n",
    "C = ab.block_tables(A, B, 'zipcode', 'zipcode', l_output_attrs=['name', 'hourly_wage', 'zipcode'],\n",
    "                    r_output_attrs=['name', 'hourly_wage', 'zipcode'])"
   ]
  },
  {
   "cell_type": "code",
   "execution_count": 14,
   "metadata": {},
   "outputs": [
    {
     "data": {
      "text/html": [
       "<div>\n",
       "<table border=\"1\" class=\"dataframe\">\n",
       "  <thead>\n",
       "    <tr style=\"text-align: right;\">\n",
       "      <th></th>\n",
       "      <th>_id</th>\n",
       "      <th>ltable.ID</th>\n",
       "      <th>rtable.ID</th>\n",
       "      <th>ltable.name</th>\n",
       "      <th>ltable.hourly_wage</th>\n",
       "      <th>ltable.zipcode</th>\n",
       "      <th>rtable.name</th>\n",
       "      <th>rtable.hourly_wage</th>\n",
       "      <th>rtable.zipcode</th>\n",
       "    </tr>\n",
       "  </thead>\n",
       "  <tbody>\n",
       "    <tr>\n",
       "      <th>0</th>\n",
       "      <td>0</td>\n",
       "      <td>a1</td>\n",
       "      <td>b1</td>\n",
       "      <td>Kevin Smith</td>\n",
       "      <td>30.0</td>\n",
       "      <td>94107</td>\n",
       "      <td>Mark Levene</td>\n",
       "      <td>29.5</td>\n",
       "      <td>94107</td>\n",
       "    </tr>\n",
       "    <tr>\n",
       "      <th>1</th>\n",
       "      <td>1</td>\n",
       "      <td>a1</td>\n",
       "      <td>b2</td>\n",
       "      <td>Kevin Smith</td>\n",
       "      <td>30.0</td>\n",
       "      <td>94107</td>\n",
       "      <td>Bill Bridge</td>\n",
       "      <td>32.0</td>\n",
       "      <td>94107</td>\n",
       "    </tr>\n",
       "    <tr>\n",
       "      <th>2</th>\n",
       "      <td>2</td>\n",
       "      <td>a1</td>\n",
       "      <td>b6</td>\n",
       "      <td>Kevin Smith</td>\n",
       "      <td>30.0</td>\n",
       "      <td>94107</td>\n",
       "      <td>Michael Brodie</td>\n",
       "      <td>32.5</td>\n",
       "      <td>94107</td>\n",
       "    </tr>\n",
       "    <tr>\n",
       "      <th>3</th>\n",
       "      <td>3</td>\n",
       "      <td>a3</td>\n",
       "      <td>b1</td>\n",
       "      <td>William Bridge</td>\n",
       "      <td>32.0</td>\n",
       "      <td>94107</td>\n",
       "      <td>Mark Levene</td>\n",
       "      <td>29.5</td>\n",
       "      <td>94107</td>\n",
       "    </tr>\n",
       "    <tr>\n",
       "      <th>4</th>\n",
       "      <td>4</td>\n",
       "      <td>a3</td>\n",
       "      <td>b2</td>\n",
       "      <td>William Bridge</td>\n",
       "      <td>32.0</td>\n",
       "      <td>94107</td>\n",
       "      <td>Bill Bridge</td>\n",
       "      <td>32.0</td>\n",
       "      <td>94107</td>\n",
       "    </tr>\n",
       "    <tr>\n",
       "      <th>5</th>\n",
       "      <td>5</td>\n",
       "      <td>a3</td>\n",
       "      <td>b6</td>\n",
       "      <td>William Bridge</td>\n",
       "      <td>32.0</td>\n",
       "      <td>94107</td>\n",
       "      <td>Michael Brodie</td>\n",
       "      <td>32.5</td>\n",
       "      <td>94107</td>\n",
       "    </tr>\n",
       "    <tr>\n",
       "      <th>6</th>\n",
       "      <td>6</td>\n",
       "      <td>a2</td>\n",
       "      <td>b3</td>\n",
       "      <td>Michael Franklin</td>\n",
       "      <td>27.5</td>\n",
       "      <td>94122</td>\n",
       "      <td>Mike Franklin</td>\n",
       "      <td>27.5</td>\n",
       "      <td>94122</td>\n",
       "    </tr>\n",
       "    <tr>\n",
       "      <th>7</th>\n",
       "      <td>7</td>\n",
       "      <td>a2</td>\n",
       "      <td>b4</td>\n",
       "      <td>Michael Franklin</td>\n",
       "      <td>27.5</td>\n",
       "      <td>94122</td>\n",
       "      <td>Joseph Kuan</td>\n",
       "      <td>26.0</td>\n",
       "      <td>94122</td>\n",
       "    </tr>\n",
       "    <tr>\n",
       "      <th>8</th>\n",
       "      <td>8</td>\n",
       "      <td>a2</td>\n",
       "      <td>b5</td>\n",
       "      <td>Michael Franklin</td>\n",
       "      <td>27.5</td>\n",
       "      <td>94122</td>\n",
       "      <td>Alfons Kemper</td>\n",
       "      <td>35.0</td>\n",
       "      <td>94122</td>\n",
       "    </tr>\n",
       "    <tr>\n",
       "      <th>9</th>\n",
       "      <td>9</td>\n",
       "      <td>a4</td>\n",
       "      <td>b3</td>\n",
       "      <td>Binto George</td>\n",
       "      <td>32.5</td>\n",
       "      <td>94122</td>\n",
       "      <td>Mike Franklin</td>\n",
       "      <td>27.5</td>\n",
       "      <td>94122</td>\n",
       "    </tr>\n",
       "    <tr>\n",
       "      <th>10</th>\n",
       "      <td>10</td>\n",
       "      <td>a4</td>\n",
       "      <td>b4</td>\n",
       "      <td>Binto George</td>\n",
       "      <td>32.5</td>\n",
       "      <td>94122</td>\n",
       "      <td>Joseph Kuan</td>\n",
       "      <td>26.0</td>\n",
       "      <td>94122</td>\n",
       "    </tr>\n",
       "    <tr>\n",
       "      <th>11</th>\n",
       "      <td>11</td>\n",
       "      <td>a4</td>\n",
       "      <td>b5</td>\n",
       "      <td>Binto George</td>\n",
       "      <td>32.5</td>\n",
       "      <td>94122</td>\n",
       "      <td>Alfons Kemper</td>\n",
       "      <td>35.0</td>\n",
       "      <td>94122</td>\n",
       "    </tr>\n",
       "    <tr>\n",
       "      <th>12</th>\n",
       "      <td>12</td>\n",
       "      <td>a5</td>\n",
       "      <td>b3</td>\n",
       "      <td>Alphonse Kemper</td>\n",
       "      <td>35.0</td>\n",
       "      <td>94122</td>\n",
       "      <td>Mike Franklin</td>\n",
       "      <td>27.5</td>\n",
       "      <td>94122</td>\n",
       "    </tr>\n",
       "    <tr>\n",
       "      <th>13</th>\n",
       "      <td>13</td>\n",
       "      <td>a5</td>\n",
       "      <td>b4</td>\n",
       "      <td>Alphonse Kemper</td>\n",
       "      <td>35.0</td>\n",
       "      <td>94122</td>\n",
       "      <td>Joseph Kuan</td>\n",
       "      <td>26.0</td>\n",
       "      <td>94122</td>\n",
       "    </tr>\n",
       "    <tr>\n",
       "      <th>14</th>\n",
       "      <td>14</td>\n",
       "      <td>a5</td>\n",
       "      <td>b5</td>\n",
       "      <td>Alphonse Kemper</td>\n",
       "      <td>35.0</td>\n",
       "      <td>94122</td>\n",
       "      <td>Alfons Kemper</td>\n",
       "      <td>35.0</td>\n",
       "      <td>94122</td>\n",
       "    </tr>\n",
       "  </tbody>\n",
       "</table>\n",
       "</div>"
      ]
     },
     "output_type": "execute_result",
     "metadata": {}
    },
    {
     "name": "stdout",
     "output_type": "stream",
     "text": [
      "time: 160 ms\n"
     ]
    }
   ],
   "source": [
    "# dusplay candidate set\n",
    "C"
   ]
  },
  {
   "cell_type": "code",
   "execution_count": 15,
   "metadata": {},
   "outputs": [
    {
     "name": "stdout",
     "output_type": "stream",
     "text": [
      "time: 217 ms\n"
     ]
    }
   ],
   "source": [
    "# block using hourly_wage\n",
    "E = ab.block_tables(A, B, 'hourly_wage', 'hourly_wage', l_output_attrs=['birth_year'], r_output_attrs=['birth_year'])"
   ]
  },
  {
   "cell_type": "code",
   "execution_count": 16,
   "metadata": {},
   "outputs": [
    {
     "data": {
      "text/html": [
       "<div>\n",
       "<table border=\"1\" class=\"dataframe\">\n",
       "  <thead>\n",
       "    <tr style=\"text-align: right;\">\n",
       "      <th></th>\n",
       "      <th>_id</th>\n",
       "      <th>ltable.ID</th>\n",
       "      <th>rtable.ID</th>\n",
       "      <th>ltable.birth_year</th>\n",
       "      <th>rtable.birth_year</th>\n",
       "    </tr>\n",
       "  </thead>\n",
       "  <tbody>\n",
       "    <tr>\n",
       "      <th>0</th>\n",
       "      <td>0</td>\n",
       "      <td>a2</td>\n",
       "      <td>b3</td>\n",
       "      <td>1988</td>\n",
       "      <td>1988</td>\n",
       "    </tr>\n",
       "    <tr>\n",
       "      <th>1</th>\n",
       "      <td>1</td>\n",
       "      <td>a3</td>\n",
       "      <td>b2</td>\n",
       "      <td>1986</td>\n",
       "      <td>1986</td>\n",
       "    </tr>\n",
       "    <tr>\n",
       "      <th>2</th>\n",
       "      <td>2</td>\n",
       "      <td>a4</td>\n",
       "      <td>b6</td>\n",
       "      <td>1987</td>\n",
       "      <td>1987</td>\n",
       "    </tr>\n",
       "    <tr>\n",
       "      <th>3</th>\n",
       "      <td>3</td>\n",
       "      <td>a5</td>\n",
       "      <td>b5</td>\n",
       "      <td>1984</td>\n",
       "      <td>1984</td>\n",
       "    </tr>\n",
       "  </tbody>\n",
       "</table>\n",
       "</div>"
      ]
     },
     "output_type": "execute_result",
     "metadata": {}
    },
    {
     "name": "stdout",
     "output_type": "stream",
     "text": [
      "time: 184 ms\n"
     ]
    }
   ],
   "source": [
    "# display candidate set\n",
    "E"
   ]
  },
  {
   "cell_type": "code",
   "execution_count": 17,
   "metadata": {},
   "outputs": [
    {
     "name": "stdout",
     "output_type": "stream",
     "text": [
      "time: 118 ms\n"
     ]
    }
   ],
   "source": [
    "# block candidate set C using birth_year\n",
    "D = ab.block_candset(C, 'birth_year', 'birth_year')"
   ]
  },
  {
   "cell_type": "code",
   "execution_count": 18,
   "metadata": {},
   "outputs": [
    {
     "data": {
      "text/html": [
       "<div>\n",
       "<table border=\"1\" class=\"dataframe\">\n",
       "  <thead>\n",
       "    <tr style=\"text-align: right;\">\n",
       "      <th></th>\n",
       "      <th>_id</th>\n",
       "      <th>ltable.ID</th>\n",
       "      <th>rtable.ID</th>\n",
       "      <th>ltable.name</th>\n",
       "      <th>ltable.hourly_wage</th>\n",
       "      <th>ltable.zipcode</th>\n",
       "      <th>rtable.name</th>\n",
       "      <th>rtable.hourly_wage</th>\n",
       "      <th>rtable.zipcode</th>\n",
       "    </tr>\n",
       "  </thead>\n",
       "  <tbody>\n",
       "    <tr>\n",
       "      <th>4</th>\n",
       "      <td>4</td>\n",
       "      <td>a3</td>\n",
       "      <td>b2</td>\n",
       "      <td>William Bridge</td>\n",
       "      <td>32.0</td>\n",
       "      <td>94107</td>\n",
       "      <td>Bill Bridge</td>\n",
       "      <td>32.0</td>\n",
       "      <td>94107</td>\n",
       "    </tr>\n",
       "    <tr>\n",
       "      <th>6</th>\n",
       "      <td>6</td>\n",
       "      <td>a2</td>\n",
       "      <td>b3</td>\n",
       "      <td>Michael Franklin</td>\n",
       "      <td>27.5</td>\n",
       "      <td>94122</td>\n",
       "      <td>Mike Franklin</td>\n",
       "      <td>27.5</td>\n",
       "      <td>94122</td>\n",
       "    </tr>\n",
       "    <tr>\n",
       "      <th>14</th>\n",
       "      <td>14</td>\n",
       "      <td>a5</td>\n",
       "      <td>b5</td>\n",
       "      <td>Alphonse Kemper</td>\n",
       "      <td>35.0</td>\n",
       "      <td>94122</td>\n",
       "      <td>Alfons Kemper</td>\n",
       "      <td>35.0</td>\n",
       "      <td>94122</td>\n",
       "    </tr>\n",
       "  </tbody>\n",
       "</table>\n",
       "</div>"
      ]
     },
     "output_type": "execute_result",
     "metadata": {}
    },
    {
     "name": "stdout",
     "output_type": "stream",
     "text": [
      "time: 110 ms\n"
     ]
    }
   ],
   "source": [
    "# display D\n",
    "D"
   ]
  },
  {
   "cell_type": "code",
   "execution_count": 19,
   "metadata": {},
   "outputs": [
    {
     "name": "stdout",
     "output_type": "stream",
     "text": [
      "time: 185 ms\n"
     ]
    }
   ],
   "source": [
    "# combine blocking outputs C and D. (Note: This is just for illustration, as the output will be just C)\n",
    "F = mg.combine_block_outputs_via_union([C, D])"
   ]
  },
  {
   "cell_type": "code",
   "execution_count": 20,
   "metadata": {},
   "outputs": [
    {
     "data": {
      "text/html": [
       "<div>\n",
       "<table border=\"1\" class=\"dataframe\">\n",
       "  <thead>\n",
       "    <tr style=\"text-align: right;\">\n",
       "      <th></th>\n",
       "      <th>_id</th>\n",
       "      <th>ltable.ID</th>\n",
       "      <th>rtable.ID</th>\n",
       "      <th>ltable.hourly_wage</th>\n",
       "      <th>ltable.name</th>\n",
       "      <th>ltable.zipcode</th>\n",
       "      <th>rtable.hourly_wage</th>\n",
       "      <th>rtable.name</th>\n",
       "      <th>rtable.zipcode</th>\n",
       "    </tr>\n",
       "  </thead>\n",
       "  <tbody>\n",
       "    <tr>\n",
       "      <th>0</th>\n",
       "      <td>0</td>\n",
       "      <td>a5</td>\n",
       "      <td>b3</td>\n",
       "      <td>35.0</td>\n",
       "      <td>Alphonse Kemper</td>\n",
       "      <td>94122</td>\n",
       "      <td>27.5</td>\n",
       "      <td>Mike Franklin</td>\n",
       "      <td>94122</td>\n",
       "    </tr>\n",
       "    <tr>\n",
       "      <th>1</th>\n",
       "      <td>1</td>\n",
       "      <td>a3</td>\n",
       "      <td>b2</td>\n",
       "      <td>32.0</td>\n",
       "      <td>William Bridge</td>\n",
       "      <td>94107</td>\n",
       "      <td>32.0</td>\n",
       "      <td>Bill Bridge</td>\n",
       "      <td>94107</td>\n",
       "    </tr>\n",
       "    <tr>\n",
       "      <th>2</th>\n",
       "      <td>2</td>\n",
       "      <td>a4</td>\n",
       "      <td>b3</td>\n",
       "      <td>32.5</td>\n",
       "      <td>Binto George</td>\n",
       "      <td>94122</td>\n",
       "      <td>27.5</td>\n",
       "      <td>Mike Franklin</td>\n",
       "      <td>94122</td>\n",
       "    </tr>\n",
       "    <tr>\n",
       "      <th>3</th>\n",
       "      <td>3</td>\n",
       "      <td>a2</td>\n",
       "      <td>b4</td>\n",
       "      <td>27.5</td>\n",
       "      <td>Michael Franklin</td>\n",
       "      <td>94122</td>\n",
       "      <td>26.0</td>\n",
       "      <td>Joseph Kuan</td>\n",
       "      <td>94122</td>\n",
       "    </tr>\n",
       "    <tr>\n",
       "      <th>4</th>\n",
       "      <td>4</td>\n",
       "      <td>a2</td>\n",
       "      <td>b5</td>\n",
       "      <td>27.5</td>\n",
       "      <td>Michael Franklin</td>\n",
       "      <td>94122</td>\n",
       "      <td>35.0</td>\n",
       "      <td>Alfons Kemper</td>\n",
       "      <td>94122</td>\n",
       "    </tr>\n",
       "    <tr>\n",
       "      <th>5</th>\n",
       "      <td>5</td>\n",
       "      <td>a1</td>\n",
       "      <td>b2</td>\n",
       "      <td>30.0</td>\n",
       "      <td>Kevin Smith</td>\n",
       "      <td>94107</td>\n",
       "      <td>32.0</td>\n",
       "      <td>Bill Bridge</td>\n",
       "      <td>94107</td>\n",
       "    </tr>\n",
       "    <tr>\n",
       "      <th>6</th>\n",
       "      <td>6</td>\n",
       "      <td>a1</td>\n",
       "      <td>b1</td>\n",
       "      <td>30.0</td>\n",
       "      <td>Kevin Smith</td>\n",
       "      <td>94107</td>\n",
       "      <td>29.5</td>\n",
       "      <td>Mark Levene</td>\n",
       "      <td>94107</td>\n",
       "    </tr>\n",
       "    <tr>\n",
       "      <th>7</th>\n",
       "      <td>7</td>\n",
       "      <td>a4</td>\n",
       "      <td>b5</td>\n",
       "      <td>32.5</td>\n",
       "      <td>Binto George</td>\n",
       "      <td>94122</td>\n",
       "      <td>35.0</td>\n",
       "      <td>Alfons Kemper</td>\n",
       "      <td>94122</td>\n",
       "    </tr>\n",
       "    <tr>\n",
       "      <th>8</th>\n",
       "      <td>8</td>\n",
       "      <td>a4</td>\n",
       "      <td>b4</td>\n",
       "      <td>32.5</td>\n",
       "      <td>Binto George</td>\n",
       "      <td>94122</td>\n",
       "      <td>26.0</td>\n",
       "      <td>Joseph Kuan</td>\n",
       "      <td>94122</td>\n",
       "    </tr>\n",
       "    <tr>\n",
       "      <th>9</th>\n",
       "      <td>9</td>\n",
       "      <td>a3</td>\n",
       "      <td>b6</td>\n",
       "      <td>32.0</td>\n",
       "      <td>William Bridge</td>\n",
       "      <td>94107</td>\n",
       "      <td>32.5</td>\n",
       "      <td>Michael Brodie</td>\n",
       "      <td>94107</td>\n",
       "    </tr>\n",
       "    <tr>\n",
       "      <th>10</th>\n",
       "      <td>10</td>\n",
       "      <td>a2</td>\n",
       "      <td>b3</td>\n",
       "      <td>27.5</td>\n",
       "      <td>Michael Franklin</td>\n",
       "      <td>94122</td>\n",
       "      <td>27.5</td>\n",
       "      <td>Mike Franklin</td>\n",
       "      <td>94122</td>\n",
       "    </tr>\n",
       "    <tr>\n",
       "      <th>11</th>\n",
       "      <td>11</td>\n",
       "      <td>a3</td>\n",
       "      <td>b1</td>\n",
       "      <td>32.0</td>\n",
       "      <td>William Bridge</td>\n",
       "      <td>94107</td>\n",
       "      <td>29.5</td>\n",
       "      <td>Mark Levene</td>\n",
       "      <td>94107</td>\n",
       "    </tr>\n",
       "    <tr>\n",
       "      <th>12</th>\n",
       "      <td>12</td>\n",
       "      <td>a5</td>\n",
       "      <td>b5</td>\n",
       "      <td>35.0</td>\n",
       "      <td>Alphonse Kemper</td>\n",
       "      <td>94122</td>\n",
       "      <td>35.0</td>\n",
       "      <td>Alfons Kemper</td>\n",
       "      <td>94122</td>\n",
       "    </tr>\n",
       "    <tr>\n",
       "      <th>13</th>\n",
       "      <td>13</td>\n",
       "      <td>a1</td>\n",
       "      <td>b6</td>\n",
       "      <td>30.0</td>\n",
       "      <td>Kevin Smith</td>\n",
       "      <td>94107</td>\n",
       "      <td>32.5</td>\n",
       "      <td>Michael Brodie</td>\n",
       "      <td>94107</td>\n",
       "    </tr>\n",
       "    <tr>\n",
       "      <th>14</th>\n",
       "      <td>14</td>\n",
       "      <td>a5</td>\n",
       "      <td>b4</td>\n",
       "      <td>35.0</td>\n",
       "      <td>Alphonse Kemper</td>\n",
       "      <td>94122</td>\n",
       "      <td>26.0</td>\n",
       "      <td>Joseph Kuan</td>\n",
       "      <td>94122</td>\n",
       "    </tr>\n",
       "  </tbody>\n",
       "</table>\n",
       "</div>"
      ]
     },
     "output_type": "execute_result",
     "metadata": {}
    },
    {
     "name": "stdout",
     "output_type": "stream",
     "text": [
      "time: 148 ms\n"
     ]
    }
   ],
   "source": [
    "# display F\n",
    "F"
   ]
  },
  {
   "cell_type": "code",
   "execution_count": 21,
   "metadata": {},
   "outputs": [
    {
     "name": "stdout",
     "output_type": "stream",
     "text": [
      "time: 94 ms\n"
     ]
    }
   ],
   "source": [
    "# sample candidate set F\n",
    "S = mg.sample_one_table(F, 13)"
   ]
  },
  {
   "cell_type": "code",
   "execution_count": 22,
   "metadata": {},
   "outputs": [
    {
     "name": "stdout",
     "output_type": "stream",
     "text": [
      "time: 17.4 s\n"
     ]
    }
   ],
   "source": [
    "# label candidate set and name the label column as gold_label\n",
    "L = mg.label(S, 'gold_label')"
   ]
  },
  {
   "cell_type": "code",
   "execution_count": null,
   "metadata": {},
   "outputs": [],
   "source": [
    ""
   ]
  },
  {
   "cell_type": "code",
   "execution_count": 24,
   "metadata": {},
   "outputs": [
    {
     "name": "stderr",
     "output_type": "stream",
     "text": [
      "WARNING:magellan.feature.autofeaturegen:address type and address type are different\n"
     ]
    },
    {
     "name": "stdout",
     "output_type": "stream",
     "text": [
      "time: 14 ms\n"
     ]
    }
   ],
   "source": [
    "# get features automatically (internally it computes types, attr_corres, sim functions, tokenizers )\n",
    "feat_table = mg.get_features_for_blocking(A, B)"
   ]
  },
  {
   "cell_type": "code",
   "execution_count": 25,
   "metadata": {},
   "outputs": [
    {
     "data": {
      "text/html": [
       "<div>\n",
       "<table border=\"1\" class=\"dataframe\">\n",
       "  <thead>\n",
       "    <tr style=\"text-align: right;\">\n",
       "      <th></th>\n",
       "      <th>feature_name</th>\n",
       "      <th>left_attribute</th>\n",
       "      <th>right_attribute</th>\n",
       "      <th>left_attr_tokenizer</th>\n",
       "      <th>right_attr_tokenizer</th>\n",
       "      <th>simfunction</th>\n",
       "      <th>function</th>\n",
       "      <th>function_source</th>\n",
       "    </tr>\n",
       "  </thead>\n",
       "  <tbody>\n",
       "    <tr>\n",
       "      <th>0</th>\n",
       "      <td>ID_ID_lev</td>\n",
       "      <td>ID</td>\n",
       "      <td>ID</td>\n",
       "      <td>None</td>\n",
       "      <td>None</td>\n",
       "      <td>lev</td>\n",
       "      <td>&lt;function ID_ID_lev at 0x000000001B5FD7B8&gt;</td>\n",
       "      <td>from magellan.feature.simfunctions import *\\nf...</td>\n",
       "    </tr>\n",
       "    <tr>\n",
       "      <th>1</th>\n",
       "      <td>name_name_jac_qgm_3_qgm_3</td>\n",
       "      <td>name</td>\n",
       "      <td>name</td>\n",
       "      <td>qgm_3</td>\n",
       "      <td>qgm_3</td>\n",
       "      <td>jaccard</td>\n",
       "      <td>&lt;function name_name_jac_qgm_3_qgm_3 at 0x00000...</td>\n",
       "      <td>from magellan.feature.simfunctions import *\\nf...</td>\n",
       "    </tr>\n",
       "    <tr>\n",
       "      <th>2</th>\n",
       "      <td>name_name_jac_qgm_2_qgm_3</td>\n",
       "      <td>name</td>\n",
       "      <td>name</td>\n",
       "      <td>qgm_2</td>\n",
       "      <td>qgm_3</td>\n",
       "      <td>jaccard</td>\n",
       "      <td>&lt;function name_name_jac_qgm_2_qgm_3 at 0x00000...</td>\n",
       "      <td>from magellan.feature.simfunctions import *\\nf...</td>\n",
       "    </tr>\n",
       "    <tr>\n",
       "      <th>3</th>\n",
       "      <td>birth_year_birth_year_exm</td>\n",
       "      <td>birth_year</td>\n",
       "      <td>birth_year</td>\n",
       "      <td>None</td>\n",
       "      <td>None</td>\n",
       "      <td>exact_match</td>\n",
       "      <td>&lt;function birth_year_birth_year_exm at 0x00000...</td>\n",
       "      <td>from magellan.feature.simfunctions import *\\nf...</td>\n",
       "    </tr>\n",
       "    <tr>\n",
       "      <th>4</th>\n",
       "      <td>hourly_wage_hourly_wage_exm</td>\n",
       "      <td>hourly_wage</td>\n",
       "      <td>hourly_wage</td>\n",
       "      <td>None</td>\n",
       "      <td>None</td>\n",
       "      <td>exact_match</td>\n",
       "      <td>&lt;function hourly_wage_hourly_wage_exm at 0x000...</td>\n",
       "      <td>from magellan.feature.simfunctions import *\\nf...</td>\n",
       "    </tr>\n",
       "    <tr>\n",
       "      <th>5</th>\n",
       "      <td>zipcode_zipcode_exm</td>\n",
       "      <td>zipcode</td>\n",
       "      <td>zipcode</td>\n",
       "      <td>None</td>\n",
       "      <td>None</td>\n",
       "      <td>exact_match</td>\n",
       "      <td>&lt;function zipcode_zipcode_exm at 0x000000001B5...</td>\n",
       "      <td>from magellan.feature.simfunctions import *\\nf...</td>\n",
       "    </tr>\n",
       "  </tbody>\n",
       "</table>\n",
       "</div>"
      ]
     },
     "output_type": "execute_result",
     "metadata": {}
    },
    {
     "name": "stdout",
     "output_type": "stream",
     "text": [
      "time: 26 ms\n"
     ]
    }
   ],
   "source": [
    "# display feature table\n",
    "feat_table"
   ]
  },
  {
   "cell_type": "code",
   "execution_count": 26,
   "metadata": {},
   "outputs": [
    {
     "data": {
      "text/plain": [
       "{'dlm_dc0': <function magellan.feature.tokenizers.tok_delim>,\n",
       " 'qgm_2': <function magellan.feature.tokenizers.tok_qgram>,\n",
       " 'qgm_3': <function magellan.feature.tokenizers.tok_qgram>}"
      ]
     },
     "execution_count": 26,
     "output_type": "execute_result",
     "metadata": {}
    },
    {
     "name": "stdout",
     "output_type": "stream",
     "text": [
      "time: 3 ms\n"
     ]
    }
   ],
   "source": [
    "# see what tokenizers were used to generate features\n",
    "mg._current_tokenizers"
   ]
  },
  {
   "cell_type": "code",
   "execution_count": 27,
   "metadata": {},
   "outputs": [
    {
     "data": {
      "text/plain": [
       "{'exact_match': <function magellan.feature.simfunctions.exact_match>,\n",
       " 'jaccard': <function magellan.feature.simfunctions.jaccard>,\n",
       " 'lev': <function magellan.feature.simfunctions.lev>,\n",
       " 'rel_diff': <function magellan.feature.simfunctions.rel_diff>}"
      ]
     },
     "execution_count": 27,
     "output_type": "execute_result",
     "metadata": {}
    },
    {
     "name": "stdout",
     "output_type": "stream",
     "text": [
      "time: 3 ms\n"
     ]
    }
   ],
   "source": [
    "# see what simfunctions were used to generate features\n",
    "mg._current_sim_funs"
   ]
  },
  {
   "cell_type": "code",
   "execution_count": 28,
   "metadata": {},
   "outputs": [
    {
     "name": "stdout",
     "output_type": "stream",
     "text": [
      "time: 4 ms\n"
     ]
    }
   ],
   "source": [
    "# create a new features that computes jaccard measure over address attribute\n",
    "r = mg.get_feature_fn(\"jaccard(qgm_3(ltuple['address']), qgm_3(rtuple['address']))\", mg._current_sim_funs, mg._current_tokenizers)"
   ]
  },
  {
   "cell_type": "code",
   "execution_count": 29,
   "metadata": {},
   "outputs": [
    {
     "data": {
      "text/plain": [
       "{'function': <function fn>,\n",
       " 'function_source': \"def fn(ltuple, rtuple):\\n    return jaccard(qgm_3(ltuple['address']), qgm_3(rtuple['address']))\",\n",
       " 'left_attr_tokenizer': 'qgm_3',\n",
       " 'left_attribute': 'address',\n",
       " 'right_attr_tokenizer': 'qgm_3',\n",
       " 'right_attribute': 'address',\n",
       " 'simfunction': 'jaccard'}"
      ]
     },
     "execution_count": 29,
     "output_type": "execute_result",
     "metadata": {}
    },
    {
     "name": "stdout",
     "output_type": "stream",
     "text": [
      "time: 3 ms\n"
     ]
    }
   ],
   "source": [
    "# see the output from get_feature_fn \n",
    "r"
   ]
  },
  {
   "cell_type": "code",
   "execution_count": 30,
   "metadata": {},
   "outputs": [
    {
     "data": {
      "text/plain": [
       "True"
      ]
     },
     "execution_count": 30,
     "output_type": "execute_result",
     "metadata": {}
    },
    {
     "name": "stdout",
     "output_type": "stream",
     "text": [
      "time: 55 ms\n"
     ]
    }
   ],
   "source": [
    "# add the feature to feature table\n",
    "mg.add_feature(feat_table, 'add_add_jac_qgm_3_qgm_3', r)"
   ]
  },
  {
   "cell_type": "code",
   "execution_count": 31,
   "metadata": {},
   "outputs": [
    {
     "data": {
      "text/html": [
       "<div>\n",
       "<table border=\"1\" class=\"dataframe\">\n",
       "  <thead>\n",
       "    <tr style=\"text-align: right;\">\n",
       "      <th></th>\n",
       "      <th>feature_name</th>\n",
       "      <th>left_attribute</th>\n",
       "      <th>right_attribute</th>\n",
       "      <th>left_attr_tokenizer</th>\n",
       "      <th>right_attr_tokenizer</th>\n",
       "      <th>simfunction</th>\n",
       "      <th>function</th>\n",
       "      <th>function_source</th>\n",
       "    </tr>\n",
       "  </thead>\n",
       "  <tbody>\n",
       "    <tr>\n",
       "      <th>0</th>\n",
       "      <td>ID_ID_lev</td>\n",
       "      <td>ID</td>\n",
       "      <td>ID</td>\n",
       "      <td>None</td>\n",
       "      <td>None</td>\n",
       "      <td>lev</td>\n",
       "      <td>&lt;function ID_ID_lev at 0x000000001B5FD7B8&gt;</td>\n",
       "      <td>from magellan.feature.simfunctions import *\\nf...</td>\n",
       "    </tr>\n",
       "    <tr>\n",
       "      <th>1</th>\n",
       "      <td>name_name_jac_qgm_3_qgm_3</td>\n",
       "      <td>name</td>\n",
       "      <td>name</td>\n",
       "      <td>qgm_3</td>\n",
       "      <td>qgm_3</td>\n",
       "      <td>jaccard</td>\n",
       "      <td>&lt;function name_name_jac_qgm_3_qgm_3 at 0x00000...</td>\n",
       "      <td>from magellan.feature.simfunctions import *\\nf...</td>\n",
       "    </tr>\n",
       "    <tr>\n",
       "      <th>2</th>\n",
       "      <td>name_name_jac_qgm_2_qgm_3</td>\n",
       "      <td>name</td>\n",
       "      <td>name</td>\n",
       "      <td>qgm_2</td>\n",
       "      <td>qgm_3</td>\n",
       "      <td>jaccard</td>\n",
       "      <td>&lt;function name_name_jac_qgm_2_qgm_3 at 0x00000...</td>\n",
       "      <td>from magellan.feature.simfunctions import *\\nf...</td>\n",
       "    </tr>\n",
       "    <tr>\n",
       "      <th>3</th>\n",
       "      <td>birth_year_birth_year_exm</td>\n",
       "      <td>birth_year</td>\n",
       "      <td>birth_year</td>\n",
       "      <td>None</td>\n",
       "      <td>None</td>\n",
       "      <td>exact_match</td>\n",
       "      <td>&lt;function birth_year_birth_year_exm at 0x00000...</td>\n",
       "      <td>from magellan.feature.simfunctions import *\\nf...</td>\n",
       "    </tr>\n",
       "    <tr>\n",
       "      <th>4</th>\n",
       "      <td>hourly_wage_hourly_wage_exm</td>\n",
       "      <td>hourly_wage</td>\n",
       "      <td>hourly_wage</td>\n",
       "      <td>None</td>\n",
       "      <td>None</td>\n",
       "      <td>exact_match</td>\n",
       "      <td>&lt;function hourly_wage_hourly_wage_exm at 0x000...</td>\n",
       "      <td>from magellan.feature.simfunctions import *\\nf...</td>\n",
       "    </tr>\n",
       "    <tr>\n",
       "      <th>5</th>\n",
       "      <td>zipcode_zipcode_exm</td>\n",
       "      <td>zipcode</td>\n",
       "      <td>zipcode</td>\n",
       "      <td>None</td>\n",
       "      <td>None</td>\n",
       "      <td>exact_match</td>\n",
       "      <td>&lt;function zipcode_zipcode_exm at 0x000000001B5...</td>\n",
       "      <td>from magellan.feature.simfunctions import *\\nf...</td>\n",
       "    </tr>\n",
       "    <tr>\n",
       "      <th>6</th>\n",
       "      <td>add_add_jac_qgm_3_qgm_3</td>\n",
       "      <td>address</td>\n",
       "      <td>address</td>\n",
       "      <td>qgm_3</td>\n",
       "      <td>qgm_3</td>\n",
       "      <td>jaccard</td>\n",
       "      <td>&lt;function fn at 0x000000001B5FDDD8&gt;</td>\n",
       "      <td>def fn(ltuple, rtuple):\\n    return jaccard(qg...</td>\n",
       "    </tr>\n",
       "  </tbody>\n",
       "</table>\n",
       "</div>"
      ]
     },
     "output_type": "execute_result",
     "metadata": {}
    },
    {
     "name": "stdout",
     "output_type": "stream",
     "text": [
      "time: 28 ms\n"
     ]
    }
   ],
   "source": [
    "# check to see whether the feature is indeed added to feature table\n",
    "feat_table"
   ]
  },
  {
   "cell_type": "code",
   "execution_count": 32,
   "metadata": {},
   "outputs": [
    {
     "data": {
      "text/plain": [
       "0.30952380952380953"
      ]
     },
     "execution_count": 32,
     "output_type": "execute_result",
     "metadata": {}
    },
    {
     "name": "stdout",
     "output_type": "stream",
     "text": [
      "time: 62 ms\n"
     ]
    }
   ],
   "source": [
    "# Try executing the newly added function over tuples from A and B\n",
    "feat_table.ix[6, 'function'](A.ix[2], B.ix[3])"
   ]
  },
  {
   "cell_type": "code",
   "execution_count": 33,
   "metadata": {},
   "outputs": [
    {
     "name": "stdout",
     "output_type": "stream",
     "text": [
      "time: 95 ms\n"
     ]
    }
   ],
   "source": [
    "# Extract feature vectors for labeled candidate set. Also, we mention 'ltable.name, rtable.name' must be included before\n",
    "# feature vectors and 'gold_label' after the feature vector\n",
    "s_prime = mg.extract_feat_vecs(L, attrs_before=['ltable.name', 'rtable.name'], feat_table=feat_table, attrs_after=['gold_label'])"
   ]
  },
  {
   "cell_type": "code",
   "execution_count": 34,
   "metadata": {},
   "outputs": [
    {
     "data": {
      "text/html": [
       "<div>\n",
       "<table border=\"1\" class=\"dataframe\">\n",
       "  <thead>\n",
       "    <tr style=\"text-align: right;\">\n",
       "      <th></th>\n",
       "      <th>_id</th>\n",
       "      <th>ltable.ID</th>\n",
       "      <th>rtable.ID</th>\n",
       "      <th>ltable.name</th>\n",
       "      <th>rtable.name</th>\n",
       "      <th>ID_ID_lev</th>\n",
       "      <th>name_name_jac_qgm_3_qgm_3</th>\n",
       "      <th>name_name_jac_qgm_2_qgm_3</th>\n",
       "      <th>birth_year_birth_year_exm</th>\n",
       "      <th>hourly_wage_hourly_wage_exm</th>\n",
       "      <th>zipcode_zipcode_exm</th>\n",
       "      <th>add_add_jac_qgm_3_qgm_3</th>\n",
       "      <th>gold_label</th>\n",
       "    </tr>\n",
       "  </thead>\n",
       "  <tbody>\n",
       "    <tr>\n",
       "      <th>0</th>\n",
       "      <td>0</td>\n",
       "      <td>a3</td>\n",
       "      <td>b2</td>\n",
       "      <td>William Bridge</td>\n",
       "      <td>Bill Bridge</td>\n",
       "      <td>0.0</td>\n",
       "      <td>0.400000</td>\n",
       "      <td>0</td>\n",
       "      <td>1</td>\n",
       "      <td>1</td>\n",
       "      <td>1</td>\n",
       "      <td>1.000000</td>\n",
       "      <td>1</td>\n",
       "    </tr>\n",
       "    <tr>\n",
       "      <th>1</th>\n",
       "      <td>1</td>\n",
       "      <td>a4</td>\n",
       "      <td>b3</td>\n",
       "      <td>Binto George</td>\n",
       "      <td>Mike Franklin</td>\n",
       "      <td>0.0</td>\n",
       "      <td>0.000000</td>\n",
       "      <td>0</td>\n",
       "      <td>0</td>\n",
       "      <td>0</td>\n",
       "      <td>1</td>\n",
       "      <td>0.421053</td>\n",
       "      <td>0</td>\n",
       "    </tr>\n",
       "    <tr>\n",
       "      <th>2</th>\n",
       "      <td>2</td>\n",
       "      <td>a2</td>\n",
       "      <td>b4</td>\n",
       "      <td>Michael Franklin</td>\n",
       "      <td>Joseph Kuan</td>\n",
       "      <td>0.0</td>\n",
       "      <td>0.000000</td>\n",
       "      <td>0</td>\n",
       "      <td>0</td>\n",
       "      <td>0</td>\n",
       "      <td>1</td>\n",
       "      <td>0.309524</td>\n",
       "      <td>0</td>\n",
       "    </tr>\n",
       "    <tr>\n",
       "      <th>3</th>\n",
       "      <td>3</td>\n",
       "      <td>a2</td>\n",
       "      <td>b5</td>\n",
       "      <td>Michael Franklin</td>\n",
       "      <td>Alfons Kemper</td>\n",
       "      <td>0.0</td>\n",
       "      <td>0.000000</td>\n",
       "      <td>0</td>\n",
       "      <td>0</td>\n",
       "      <td>0</td>\n",
       "      <td>1</td>\n",
       "      <td>0.333333</td>\n",
       "      <td>0</td>\n",
       "    </tr>\n",
       "    <tr>\n",
       "      <th>4</th>\n",
       "      <td>4</td>\n",
       "      <td>a1</td>\n",
       "      <td>b2</td>\n",
       "      <td>Kevin Smith</td>\n",
       "      <td>Bill Bridge</td>\n",
       "      <td>0.0</td>\n",
       "      <td>0.000000</td>\n",
       "      <td>0</td>\n",
       "      <td>0</td>\n",
       "      <td>0</td>\n",
       "      <td>1</td>\n",
       "      <td>0.457143</td>\n",
       "      <td>0</td>\n",
       "    </tr>\n",
       "    <tr>\n",
       "      <th>5</th>\n",
       "      <td>5</td>\n",
       "      <td>a1</td>\n",
       "      <td>b1</td>\n",
       "      <td>Kevin Smith</td>\n",
       "      <td>Mark Levene</td>\n",
       "      <td>0.5</td>\n",
       "      <td>0.000000</td>\n",
       "      <td>0</td>\n",
       "      <td>0</td>\n",
       "      <td>0</td>\n",
       "      <td>1</td>\n",
       "      <td>0.470588</td>\n",
       "      <td>0</td>\n",
       "    </tr>\n",
       "    <tr>\n",
       "      <th>6</th>\n",
       "      <td>6</td>\n",
       "      <td>a4</td>\n",
       "      <td>b5</td>\n",
       "      <td>Binto George</td>\n",
       "      <td>Alfons Kemper</td>\n",
       "      <td>0.0</td>\n",
       "      <td>0.000000</td>\n",
       "      <td>0</td>\n",
       "      <td>0</td>\n",
       "      <td>0</td>\n",
       "      <td>1</td>\n",
       "      <td>0.380952</td>\n",
       "      <td>0</td>\n",
       "    </tr>\n",
       "    <tr>\n",
       "      <th>7</th>\n",
       "      <td>7</td>\n",
       "      <td>a4</td>\n",
       "      <td>b4</td>\n",
       "      <td>Binto George</td>\n",
       "      <td>Joseph Kuan</td>\n",
       "      <td>0.5</td>\n",
       "      <td>0.000000</td>\n",
       "      <td>0</td>\n",
       "      <td>0</td>\n",
       "      <td>0</td>\n",
       "      <td>1</td>\n",
       "      <td>0.325000</td>\n",
       "      <td>0</td>\n",
       "    </tr>\n",
       "    <tr>\n",
       "      <th>8</th>\n",
       "      <td>8</td>\n",
       "      <td>a3</td>\n",
       "      <td>b6</td>\n",
       "      <td>William Bridge</td>\n",
       "      <td>Michael Brodie</td>\n",
       "      <td>0.0</td>\n",
       "      <td>0.043478</td>\n",
       "      <td>0</td>\n",
       "      <td>0</td>\n",
       "      <td>0</td>\n",
       "      <td>1</td>\n",
       "      <td>0.340909</td>\n",
       "      <td>0</td>\n",
       "    </tr>\n",
       "    <tr>\n",
       "      <th>9</th>\n",
       "      <td>9</td>\n",
       "      <td>a2</td>\n",
       "      <td>b3</td>\n",
       "      <td>Michael Franklin</td>\n",
       "      <td>Mike Franklin</td>\n",
       "      <td>0.0</td>\n",
       "      <td>0.388889</td>\n",
       "      <td>0</td>\n",
       "      <td>1</td>\n",
       "      <td>1</td>\n",
       "      <td>1</td>\n",
       "      <td>1.000000</td>\n",
       "      <td>0</td>\n",
       "    </tr>\n",
       "    <tr>\n",
       "      <th>10</th>\n",
       "      <td>10</td>\n",
       "      <td>a3</td>\n",
       "      <td>b1</td>\n",
       "      <td>William Bridge</td>\n",
       "      <td>Mark Levene</td>\n",
       "      <td>0.0</td>\n",
       "      <td>0.000000</td>\n",
       "      <td>0</td>\n",
       "      <td>0</td>\n",
       "      <td>0</td>\n",
       "      <td>1</td>\n",
       "      <td>0.410256</td>\n",
       "      <td>0</td>\n",
       "    </tr>\n",
       "    <tr>\n",
       "      <th>11</th>\n",
       "      <td>11</td>\n",
       "      <td>a5</td>\n",
       "      <td>b5</td>\n",
       "      <td>Alphonse Kemper</td>\n",
       "      <td>Alfons Kemper</td>\n",
       "      <td>0.5</td>\n",
       "      <td>0.333333</td>\n",
       "      <td>0</td>\n",
       "      <td>1</td>\n",
       "      <td>1</td>\n",
       "      <td>1</td>\n",
       "      <td>0.487805</td>\n",
       "      <td>1</td>\n",
       "    </tr>\n",
       "    <tr>\n",
       "      <th>12</th>\n",
       "      <td>12</td>\n",
       "      <td>a1</td>\n",
       "      <td>b6</td>\n",
       "      <td>Kevin Smith</td>\n",
       "      <td>Michael Brodie</td>\n",
       "      <td>0.0</td>\n",
       "      <td>0.000000</td>\n",
       "      <td>0</td>\n",
       "      <td>0</td>\n",
       "      <td>0</td>\n",
       "      <td>1</td>\n",
       "      <td>0.384615</td>\n",
       "      <td>0</td>\n",
       "    </tr>\n",
       "  </tbody>\n",
       "</table>\n",
       "</div>"
      ]
     },
     "output_type": "execute_result",
     "metadata": {}
    },
    {
     "name": "stdout",
     "output_type": "stream",
     "text": [
      "time: 47 ms\n"
     ]
    }
   ],
   "source": [
    "# display feature vector table\n",
    "s_prime"
   ]
  },
  {
   "cell_type": "code",
   "execution_count": 35,
   "metadata": {},
   "outputs": [
    {
     "name": "stdout",
     "output_type": "stream",
     "text": [
      "time: 2 ms\n"
     ]
    }
   ],
   "source": [
    "# Fitting/Predicting\n",
    "# Create a set of matchers\n",
    "nb = mg.NBMatcher() # naive bayes \n",
    "dt = mg.DTMatcher() # decision tree\n",
    "rf = mg.RFMatcher() # random forest"
   ]
  },
  {
   "cell_type": "code",
   "execution_count": 36,
   "metadata": {},
   "outputs": [
    {
     "name": "stdout",
     "output_type": "stream",
     "text": [
      "time: 77 ms\n"
     ]
    }
   ],
   "source": [
    "# Select a matcher using cross validation\n",
    "m = mg.select_matcher([nb, dt, rf], x=s_prime[list(feat_table['feature_name'])], y=s_prime['gold_label'], k=5 )"
   ]
  },
  {
   "cell_type": "code",
   "execution_count": 37,
   "metadata": {},
   "outputs": [
    {
     "data": {
      "text/plain": [
       "(<magellan.matcher.nbmatcher.NBMatcher at 0x1b60afd0>,\n",
       "                                              matcher  mean score          name\n",
       " 0  <magellan.matcher.nbmatcher.NBMatcher object a...    0.766667    NaiveBayes\n",
       " 1  <magellan.matcher.dtmatcher.DTMatcher object a...    0.766667  DecisionTree\n",
       " 2  <magellan.matcher.rfmatcher.RFMatcher object a...    0.766667  RandomForest)"
      ]
     },
     "execution_count": 37,
     "output_type": "execute_result",
     "metadata": {}
    },
    {
     "name": "stdout",
     "output_type": "stream",
     "text": [
      "time: 6 ms\n"
     ]
    }
   ],
   "source": [
    "# see what was selected and the stats\n",
    "m"
   ]
  },
  {
   "cell_type": "code",
   "execution_count": 38,
   "metadata": {},
   "outputs": [
    {
     "name": "stdout",
     "output_type": "stream",
     "text": [
      "time: 284 ms\n"
     ]
    }
   ],
   "source": [
    "# instead of a single matcher, we can choose ensemble of matchers\n",
    "mc, stats = mg.selector_matcher_combiner([nb, dt, rf], ['majority'], x=s_prime[list(feat_table['feature_name'])], y=s_prime['gold_label'], k=5)"
   ]
  },
  {
   "cell_type": "code",
   "execution_count": 39,
   "metadata": {},
   "outputs": [
    {
     "data": {
      "text/plain": [
       "<magellan.matcher.nbmatcher.NBMatcher at 0x1b60afd0>"
      ]
     },
     "execution_count": 39,
     "output_type": "execute_result",
     "metadata": {}
    },
    {
     "name": "stdout",
     "output_type": "stream",
     "text": [
      "time: 2 ms\n"
     ]
    }
   ],
   "source": [
    "# see what matcher (or ensemble) was selected\n",
    "mc"
   ]
  },
  {
   "cell_type": "code",
   "execution_count": 40,
   "metadata": {},
   "outputs": [
    {
     "name": "stdout",
     "output_type": "stream",
     "text": [
      "time: 4 ms\n"
     ]
    }
   ],
   "source": [
    "# train using selected matcher. \n",
    "mc.fit(x=s_prime[list(feat_table['feature_name'])], y=s_prime['gold_label'])"
   ]
  },
  {
   "cell_type": "code",
   "execution_count": 41,
   "metadata": {},
   "outputs": [
    {
     "name": "stdout",
     "output_type": "stream",
     "text": [
      "time: 102 ms\n"
     ]
    }
   ],
   "source": [
    "# we want to predict matches from combined candidate set for that we need to generate feature vectors\n",
    "# NOTE: This is just for illustration, ideally we should remove the rows that was sampled and labeled from combined \n",
    "# candidate set F.\n",
    "c_prime = mg.extract_feat_vecs(F, attrs_before=['ltable.name', 'rtable.name'], feat_table=feat_table)"
   ]
  },
  {
   "cell_type": "code",
   "execution_count": 42,
   "metadata": {},
   "outputs": [
    {
     "data": {
      "text/plain": [
       "array([1, 0, 0, 0, 0, 0, 0, 0, 0, 1, 0, 1, 0])"
      ]
     },
     "execution_count": 42,
     "output_type": "execute_result",
     "metadata": {}
    },
    {
     "name": "stdout",
     "output_type": "stream",
     "text": [
      "time: 5 ms\n"
     ]
    }
   ],
   "source": [
    "# predict the outputs\n",
    "mc.predict(x=s_prime[list(feat_table['feature_name'])])"
   ]
  },
  {
   "cell_type": "code",
   "execution_count": 43,
   "metadata": {},
   "outputs": [
    {
     "name": "stdout",
     "output_type": "stream",
     "text": [
      "time: 2 ms\n"
     ]
    }
   ],
   "source": [
    "A['ppp'] = 10"
   ]
  },
  {
   "cell_type": "code",
   "execution_count": 45,
   "metadata": {},
   "outputs": [
    {
     "data": {
      "text/plain": [
       "magellan.core.mtable.MTable"
      ]
     },
     "execution_count": 45,
     "output_type": "execute_result",
     "metadata": {}
    },
    {
     "name": "stdout",
     "output_type": "stream",
     "text": [
      "time: 2 ms\n"
     ]
    }
   ],
   "source": [
    "type(A)"
   ]
  },
  {
   "cell_type": "code",
   "execution_count": 3,
   "metadata": {},
   "outputs": [
    {
     "data": {
      "text/plain": [
       "False"
      ]
     },
     "execution_count": 3,
     "output_type": "execute_result",
     "metadata": {}
    }
   ],
   "source": [
    "k = None\n",
    "k > 0.5"
   ]
  },
  {
   "cell_type": "code",
   "execution_count": 8,
   "metadata": {},
   "outputs": [],
   "source": [
    "import numpy as np\n",
    "import pandas as pd"
   ]
  },
  {
   "cell_type": "code",
   "execution_count": 20,
   "metadata": {},
   "outputs": [],
   "source": [
    "a = np.array([[10, None, 10], [10, 20, 10], [10, 30, 10]])"
   ]
  },
  {
   "cell_type": "code",
   "execution_count": 21,
   "metadata": {},
   "outputs": [
    {
     "data": {
      "text/plain": [
       "array([[10, None, 10],\n",
       "       [10, 20, 10],\n",
       "       [10, 30, 10]], dtype=object)"
      ]
     },
     "execution_count": 21,
     "output_type": "execute_result",
     "metadata": {}
    }
   ],
   "source": [
    "a"
   ]
  },
  {
   "cell_type": "code",
   "execution_count": 22,
   "metadata": {},
   "outputs": [],
   "source": [
    "from sklearn.preprocessing import Imputer"
   ]
  },
  {
   "cell_type": "code",
   "execution_count": 23,
   "metadata": {},
   "outputs": [],
   "source": [
    "imp = Imputer(missing_values='NaN', strategy='median', axis=0)"
   ]
  },
  {
   "cell_type": "code",
   "execution_count": 24,
   "metadata": {},
   "outputs": [
    {
     "data": {
      "text/plain": [
       "Imputer(axis=0, copy=True, missing_values='NaN', strategy='median', verbose=0)"
      ]
     },
     "execution_count": 24,
     "output_type": "execute_result",
     "metadata": {}
    }
   ],
   "source": [
    "imp.fit(a)"
   ]
  },
  {
   "cell_type": "code",
   "execution_count": 25,
   "metadata": {},
   "outputs": [],
   "source": [
    "b = imp.transform(a)"
   ]
  },
  {
   "cell_type": "code",
   "execution_count": null,
   "metadata": {},
   "outputs": [],
   "source": [
    ""
   ]
  },
  {
   "cell_type": "code",
   "execution_count": 26,
   "metadata": {},
   "outputs": [
    {
     "data": {
      "text/plain": [
       "array([[ 10.,  25.,  10.],\n",
       "       [ 10.,  20.,  10.],\n",
       "       [ 10.,  30.,  10.]])"
      ]
     },
     "execution_count": 26,
     "output_type": "execute_result",
     "metadata": {}
    }
   ],
   "source": [
    "b"
   ]
  }
 ],
 "metadata": {
  "kernelspec": {
   "display_name": "Python 2",
   "language": "python",
   "name": "python2"
  },
  "language_info": {
   "codemirror_mode": {
    "name": "ipython",
    "version": 2.0
   },
   "file_extension": ".py",
   "mimetype": "text/x-python",
   "name": "python",
   "nbconvert_exporter": "python",
   "pygments_lexer": "ipython2",
   "version": "2.7.10"
  }
 },
 "nbformat": 4,
 "nbformat_minor": 0
}