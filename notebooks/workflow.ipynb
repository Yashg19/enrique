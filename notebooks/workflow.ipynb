{
 "cells": [
  {
   "cell_type": "code",
   "execution_count": 1,
   "metadata": {
    "collapsed": false
   },
   "outputs": [],
   "source": [
    "%load_ext autoreload\n",
    "%autoreload 2"
   ]
  },
  {
   "cell_type": "code",
   "execution_count": 2,
   "metadata": {
    "collapsed": true
   },
   "outputs": [],
   "source": [
    "import sys\n",
    "sys.path.append('c:/Pradap/Research/Python-Packages/enrique/')"
   ]
  },
  {
   "cell_type": "code",
   "execution_count": 3,
   "metadata": {
    "collapsed": false
   },
   "outputs": [],
   "source": [
    "import magellan as mg"
   ]
  },
  {
   "cell_type": "code",
   "execution_count": 4,
   "metadata": {
    "collapsed": true
   },
   "outputs": [],
   "source": [
    "A = mg.read_csv('../magellan/datasets/table_A.csv', key='ID')\n",
    "B = mg.read_csv('../magellan/datasets/table_B.csv', key='ID')"
   ]
  },
  {
   "cell_type": "code",
   "execution_count": 5,
   "metadata": {
    "collapsed": false
   },
   "outputs": [
    {
     "data": {
      "text/plain": [
       "True"
      ]
     },
     "execution_count": 5,
     "metadata": {},
     "output_type": "execute_result"
    }
   ],
   "source": [
    "mg.init_jvm('C:\\\\Program Files\\\\Java\\\\jre7\\\\bin\\\\server\\\\jvm.dll')"
   ]
  },
  {
   "cell_type": "code",
   "execution_count": 6,
   "metadata": {
    "collapsed": false
   },
   "outputs": [],
   "source": [
    "import magellan as mg"
   ]
  },
  {
   "cell_type": "code",
   "execution_count": 7,
   "metadata": {
    "collapsed": false
   },
   "outputs": [
    {
     "name": "stderr",
     "output_type": "stream",
     "text": [
      "WARNING:magellan.feature.featurecreation:address type and address type are different\n"
     ]
    },
    {
     "name": "stdout",
     "output_type": "stream",
     "text": [
      "[{'function': <function ID_ID_lev at 0x000000000A236438>, 'right_attribute': 'ID', 'simfunction': 'lev', 'left_attr_tokenizer': None, 'right_attr_tokenizer': None, 'feature_name': 'ID_ID_lev', 'left_attribute': 'ID'}]\n",
      "[{'function': <function name_name_jac_qgm_3_qgm_3 at 0x000000000A2363C8>, 'right_attribute': 'name', 'simfunction': 'jaccard', 'left_attr_tokenizer': 'qgm_3', 'right_attr_tokenizer': 'qgm_3', 'feature_name': 'name_name_jac_qgm_3_qgm_3', 'left_attribute': 'name'}, {'function': <function name_name_jac_qgm_2_qgm_3 at 0x000000000A2364A8>, 'right_attribute': 'name', 'simfunction': 'jaccard', 'left_attr_tokenizer': 'qgm_2', 'right_attr_tokenizer': 'qgm_3', 'feature_name': 'name_name_jac_qgm_2_qgm_3', 'left_attribute': 'name'}]\n",
      "[{'function': <function birth_year_birth_year_rdf at 0x000000000A236518>, 'right_attribute': 'birth_year', 'simfunction': 'rel_diff', 'left_attr_tokenizer': None, 'right_attr_tokenizer': None, 'feature_name': 'birth_year_birth_year_rdf', 'left_attribute': 'birth_year'}]\n",
      "[{'function': <function hourly_wage_hourly_wage_rdf at 0x000000000A236588>, 'right_attribute': 'hourly_wage', 'simfunction': 'rel_diff', 'left_attr_tokenizer': None, 'right_attr_tokenizer': None, 'feature_name': 'hourly_wage_hourly_wage_rdf', 'left_attribute': 'hourly_wage'}]\n",
      "[{'function': <function zipcode_zipcode_rdf at 0x000000000A2366D8>, 'right_attribute': 'zipcode', 'simfunction': 'rel_diff', 'left_attr_tokenizer': None, 'right_attr_tokenizer': None, 'feature_name': 'zipcode_zipcode_rdf', 'left_attribute': 'zipcode'}]\n"
     ]
    }
   ],
   "source": [
    "s = mg.get_sim_funs()\n",
    "t = mg.get_single_arg_tokenizers()\n",
    "t_A = mg.get_attr_types(A)\n",
    "t_B = mg.get_attr_types(B)\n",
    "c = mg.get_attr_corres(A, B)\n",
    "f = mg.get_features_all_input(A, B, t_A, t_B, c, t, s)"
   ]
  },
  {
   "cell_type": "code",
   "execution_count": 8,
   "metadata": {
    "collapsed": true
   },
   "outputs": [],
   "source": [
    "import pandas as pd"
   ]
  },
  {
   "cell_type": "code",
   "execution_count": 9,
   "metadata": {
    "collapsed": true
   },
   "outputs": [],
   "source": [
    "def flatten_list(inp_list):\n",
    "    return [item for sublist in inp_list for item in sublist]"
   ]
  },
  {
   "cell_type": "code",
   "execution_count": 10,
   "metadata": {
    "collapsed": false
   },
   "outputs": [
    {
     "data": {
      "text/html": [
       "<div style=\"max-height:1000px;max-width:1500px;overflow:auto;\">\n",
       "<table border=\"1\" class=\"dataframe\">\n",
       "  <thead>\n",
       "    <tr style=\"text-align: right;\">\n",
       "      <th></th>\n",
       "      <th>feature_name</th>\n",
       "      <th>left_attribute</th>\n",
       "      <th>right_attribute</th>\n",
       "      <th>left_attr_tokenizer</th>\n",
       "      <th>right_attr_tokenizer</th>\n",
       "      <th>simfunction</th>\n",
       "      <th>function</th>\n",
       "    </tr>\n",
       "  </thead>\n",
       "  <tbody>\n",
       "    <tr>\n",
       "      <th>0</th>\n",
       "      <td>                   ID_ID_lev</td>\n",
       "      <td>          ID</td>\n",
       "      <td>          ID</td>\n",
       "      <td>  None</td>\n",
       "      <td>  None</td>\n",
       "      <td>      lev</td>\n",
       "      <td>        &lt;function ID_ID_lev at 0x000000000A236438&gt;</td>\n",
       "    </tr>\n",
       "    <tr>\n",
       "      <th>1</th>\n",
       "      <td>   name_name_jac_qgm_3_qgm_3</td>\n",
       "      <td>        name</td>\n",
       "      <td>        name</td>\n",
       "      <td> qgm_3</td>\n",
       "      <td> qgm_3</td>\n",
       "      <td>  jaccard</td>\n",
       "      <td> &lt;function name_name_jac_qgm_3_qgm_3 at 0x00000...</td>\n",
       "    </tr>\n",
       "    <tr>\n",
       "      <th>2</th>\n",
       "      <td>   name_name_jac_qgm_2_qgm_3</td>\n",
       "      <td>        name</td>\n",
       "      <td>        name</td>\n",
       "      <td> qgm_2</td>\n",
       "      <td> qgm_3</td>\n",
       "      <td>  jaccard</td>\n",
       "      <td> &lt;function name_name_jac_qgm_2_qgm_3 at 0x00000...</td>\n",
       "    </tr>\n",
       "    <tr>\n",
       "      <th>3</th>\n",
       "      <td>   birth_year_birth_year_rdf</td>\n",
       "      <td>  birth_year</td>\n",
       "      <td>  birth_year</td>\n",
       "      <td>  None</td>\n",
       "      <td>  None</td>\n",
       "      <td> rel_diff</td>\n",
       "      <td> &lt;function birth_year_birth_year_rdf at 0x00000...</td>\n",
       "    </tr>\n",
       "    <tr>\n",
       "      <th>4</th>\n",
       "      <td> hourly_wage_hourly_wage_rdf</td>\n",
       "      <td> hourly_wage</td>\n",
       "      <td> hourly_wage</td>\n",
       "      <td>  None</td>\n",
       "      <td>  None</td>\n",
       "      <td> rel_diff</td>\n",
       "      <td> &lt;function hourly_wage_hourly_wage_rdf at 0x000...</td>\n",
       "    </tr>\n",
       "    <tr>\n",
       "      <th>5</th>\n",
       "      <td>         zipcode_zipcode_rdf</td>\n",
       "      <td>     zipcode</td>\n",
       "      <td>     zipcode</td>\n",
       "      <td>  None</td>\n",
       "      <td>  None</td>\n",
       "      <td> rel_diff</td>\n",
       "      <td> &lt;function zipcode_zipcode_rdf at 0x000000000A2...</td>\n",
       "    </tr>\n",
       "  </tbody>\n",
       "</table>\n",
       "</div>"
      ],
      "text/plain": [
       "                  feature_name left_attribute right_attribute  \\\n",
       "0                    ID_ID_lev             ID              ID   \n",
       "1    name_name_jac_qgm_3_qgm_3           name            name   \n",
       "2    name_name_jac_qgm_2_qgm_3           name            name   \n",
       "3    birth_year_birth_year_rdf     birth_year      birth_year   \n",
       "4  hourly_wage_hourly_wage_rdf    hourly_wage     hourly_wage   \n",
       "5          zipcode_zipcode_rdf        zipcode         zipcode   \n",
       "\n",
       "  left_attr_tokenizer right_attr_tokenizer simfunction  \\\n",
       "0                None                 None         lev   \n",
       "1               qgm_3                qgm_3     jaccard   \n",
       "2               qgm_2                qgm_3     jaccard   \n",
       "3                None                 None    rel_diff   \n",
       "4                None                 None    rel_diff   \n",
       "5                None                 None    rel_diff   \n",
       "\n",
       "                                            function  \n",
       "0         <function ID_ID_lev at 0x000000000A236438>  \n",
       "1  <function name_name_jac_qgm_3_qgm_3 at 0x00000...  \n",
       "2  <function name_name_jac_qgm_2_qgm_3 at 0x00000...  \n",
       "3  <function birth_year_birth_year_rdf at 0x00000...  \n",
       "4  <function hourly_wage_hourly_wage_rdf at 0x000...  \n",
       "5  <function zipcode_zipcode_rdf at 0x000000000A2...  "
      ]
     },
     "execution_count": 10,
     "metadata": {},
     "output_type": "execute_result"
    }
   ],
   "source": [
    "f"
   ]
  }
 ],
 "metadata": {
  "kernelspec": {
   "display_name": "Python 2",
   "language": "python",
   "name": "python2"
  },
  "language_info": {
   "codemirror_mode": {
    "name": "ipython",
    "version": 2
   },
   "file_extension": ".py",
   "mimetype": "text/x-python",
   "name": "python",
   "nbconvert_exporter": "python",
   "pygments_lexer": "ipython2",
   "version": "2.7.9"
  }
 },
 "nbformat": 4,
 "nbformat_minor": 0
}
