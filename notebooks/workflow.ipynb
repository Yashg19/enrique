{
 "cells": [
  {
   "cell_type": "code",
   "execution_count": 1,
   "metadata": {
    "collapsed": false
   },
   "outputs": [],
   "source": [
    "%load_ext autoreload\n",
    "%autoreload 2"
   ]
  },
  {
   "cell_type": "code",
   "execution_count": 2,
   "metadata": {
    "collapsed": true
   },
   "outputs": [],
   "source": [
    "import sys\n",
    "#sys.path.append('c:/Pradap/Research/Python-Packages/enrique/')\n",
    "#sys.path.append('C:/Pradap/Research/Python-Packages/enrique/')\n",
    "sys.path.append('/scratch/pradap/python-work/enrique/')"
   ]
  },
  {
   "cell_type": "code",
   "execution_count": 3,
   "metadata": {
    "collapsed": false
   },
   "outputs": [],
   "source": [
    "import magellan as mg"
   ]
  },
  {
   "cell_type": "code",
   "execution_count": 4,
   "metadata": {
    "collapsed": false
   },
   "outputs": [],
   "source": [
    "A = mg.read_csv('../magellan/datasets/table_A.csv', key='ID')\n",
    "B = mg.read_csv('../magellan/datasets/table_B.csv', key='ID')"
   ]
  },
  {
   "cell_type": "code",
   "execution_count": 5,
   "metadata": {
    "collapsed": false
   },
   "outputs": [
    {
     "data": {
      "text/plain": [
       "True"
      ]
     },
     "execution_count": 5,
     "metadata": {},
     "output_type": "execute_result"
    }
   ],
   "source": [
    "#mg.init_jvm('C:\\\\Program Files\\\\Java\\\\jre7\\\\bin\\\\server\\\\jvm.dll')\n",
    "mg.init_jvm()"
   ]
  },
  {
   "cell_type": "code",
   "execution_count": 6,
   "metadata": {
    "collapsed": true
   },
   "outputs": [],
   "source": [
    "ab = mg.AttrEquivalenceBlocker()\n",
    "C = ab.block_tables(A, B, 'zipcode', 'zipcode', l_output_attrs=['name', 'hourly_wage', 'zipcode'],\n",
    "                    r_output_attrs=['name', 'hourly_wage', 'zipcode'])\n"
   ]
  },
  {
   "cell_type": "code",
   "execution_count": 7,
   "metadata": {
    "collapsed": false
   },
   "outputs": [
    {
     "data": {
      "text/html": [
       "<div>\n",
       "<table border=\"1\" class=\"dataframe\">\n",
       "  <thead>\n",
       "    <tr style=\"text-align: right;\">\n",
       "      <th></th>\n",
       "      <th>_id</th>\n",
       "      <th>ltable.ID</th>\n",
       "      <th>rtable.ID</th>\n",
       "      <th>ltable.name</th>\n",
       "      <th>ltable.hourly_wage</th>\n",
       "      <th>ltable.zipcode</th>\n",
       "      <th>rtable.name</th>\n",
       "      <th>rtable.hourly_wage</th>\n",
       "      <th>rtable.zipcode</th>\n",
       "    </tr>\n",
       "  </thead>\n",
       "  <tbody>\n",
       "    <tr>\n",
       "      <th>0</th>\n",
       "      <td>0</td>\n",
       "      <td>a1</td>\n",
       "      <td>b1</td>\n",
       "      <td>Kevin Smith</td>\n",
       "      <td>30.0</td>\n",
       "      <td>94107</td>\n",
       "      <td>Mark Levene</td>\n",
       "      <td>29.5</td>\n",
       "      <td>94107</td>\n",
       "    </tr>\n",
       "    <tr>\n",
       "      <th>1</th>\n",
       "      <td>1</td>\n",
       "      <td>a1</td>\n",
       "      <td>b2</td>\n",
       "      <td>Kevin Smith</td>\n",
       "      <td>30.0</td>\n",
       "      <td>94107</td>\n",
       "      <td>Bill Bridge</td>\n",
       "      <td>32.0</td>\n",
       "      <td>94107</td>\n",
       "    </tr>\n",
       "    <tr>\n",
       "      <th>2</th>\n",
       "      <td>2</td>\n",
       "      <td>a1</td>\n",
       "      <td>b6</td>\n",
       "      <td>Kevin Smith</td>\n",
       "      <td>30.0</td>\n",
       "      <td>94107</td>\n",
       "      <td>Michael Brodie</td>\n",
       "      <td>32.5</td>\n",
       "      <td>94107</td>\n",
       "    </tr>\n",
       "    <tr>\n",
       "      <th>3</th>\n",
       "      <td>3</td>\n",
       "      <td>a3</td>\n",
       "      <td>b1</td>\n",
       "      <td>William Bridge</td>\n",
       "      <td>32.0</td>\n",
       "      <td>94107</td>\n",
       "      <td>Mark Levene</td>\n",
       "      <td>29.5</td>\n",
       "      <td>94107</td>\n",
       "    </tr>\n",
       "    <tr>\n",
       "      <th>4</th>\n",
       "      <td>4</td>\n",
       "      <td>a3</td>\n",
       "      <td>b2</td>\n",
       "      <td>William Bridge</td>\n",
       "      <td>32.0</td>\n",
       "      <td>94107</td>\n",
       "      <td>Bill Bridge</td>\n",
       "      <td>32.0</td>\n",
       "      <td>94107</td>\n",
       "    </tr>\n",
       "    <tr>\n",
       "      <th>5</th>\n",
       "      <td>5</td>\n",
       "      <td>a3</td>\n",
       "      <td>b6</td>\n",
       "      <td>William Bridge</td>\n",
       "      <td>32.0</td>\n",
       "      <td>94107</td>\n",
       "      <td>Michael Brodie</td>\n",
       "      <td>32.5</td>\n",
       "      <td>94107</td>\n",
       "    </tr>\n",
       "    <tr>\n",
       "      <th>6</th>\n",
       "      <td>6</td>\n",
       "      <td>a2</td>\n",
       "      <td>b3</td>\n",
       "      <td>Michael Franklin</td>\n",
       "      <td>27.5</td>\n",
       "      <td>94122</td>\n",
       "      <td>Mike Franklin</td>\n",
       "      <td>27.5</td>\n",
       "      <td>94122</td>\n",
       "    </tr>\n",
       "    <tr>\n",
       "      <th>7</th>\n",
       "      <td>7</td>\n",
       "      <td>a2</td>\n",
       "      <td>b4</td>\n",
       "      <td>Michael Franklin</td>\n",
       "      <td>27.5</td>\n",
       "      <td>94122</td>\n",
       "      <td>Joseph Kuan</td>\n",
       "      <td>26.0</td>\n",
       "      <td>94122</td>\n",
       "    </tr>\n",
       "    <tr>\n",
       "      <th>8</th>\n",
       "      <td>8</td>\n",
       "      <td>a2</td>\n",
       "      <td>b5</td>\n",
       "      <td>Michael Franklin</td>\n",
       "      <td>27.5</td>\n",
       "      <td>94122</td>\n",
       "      <td>Alfons Kemper</td>\n",
       "      <td>35.0</td>\n",
       "      <td>94122</td>\n",
       "    </tr>\n",
       "    <tr>\n",
       "      <th>9</th>\n",
       "      <td>9</td>\n",
       "      <td>a4</td>\n",
       "      <td>b3</td>\n",
       "      <td>Binto George</td>\n",
       "      <td>32.5</td>\n",
       "      <td>94122</td>\n",
       "      <td>Mike Franklin</td>\n",
       "      <td>27.5</td>\n",
       "      <td>94122</td>\n",
       "    </tr>\n",
       "    <tr>\n",
       "      <th>10</th>\n",
       "      <td>10</td>\n",
       "      <td>a4</td>\n",
       "      <td>b4</td>\n",
       "      <td>Binto George</td>\n",
       "      <td>32.5</td>\n",
       "      <td>94122</td>\n",
       "      <td>Joseph Kuan</td>\n",
       "      <td>26.0</td>\n",
       "      <td>94122</td>\n",
       "    </tr>\n",
       "    <tr>\n",
       "      <th>11</th>\n",
       "      <td>11</td>\n",
       "      <td>a4</td>\n",
       "      <td>b5</td>\n",
       "      <td>Binto George</td>\n",
       "      <td>32.5</td>\n",
       "      <td>94122</td>\n",
       "      <td>Alfons Kemper</td>\n",
       "      <td>35.0</td>\n",
       "      <td>94122</td>\n",
       "    </tr>\n",
       "    <tr>\n",
       "      <th>12</th>\n",
       "      <td>12</td>\n",
       "      <td>a5</td>\n",
       "      <td>b3</td>\n",
       "      <td>Alphonse Kemper</td>\n",
       "      <td>35.0</td>\n",
       "      <td>94122</td>\n",
       "      <td>Mike Franklin</td>\n",
       "      <td>27.5</td>\n",
       "      <td>94122</td>\n",
       "    </tr>\n",
       "    <tr>\n",
       "      <th>13</th>\n",
       "      <td>13</td>\n",
       "      <td>a5</td>\n",
       "      <td>b4</td>\n",
       "      <td>Alphonse Kemper</td>\n",
       "      <td>35.0</td>\n",
       "      <td>94122</td>\n",
       "      <td>Joseph Kuan</td>\n",
       "      <td>26.0</td>\n",
       "      <td>94122</td>\n",
       "    </tr>\n",
       "    <tr>\n",
       "      <th>14</th>\n",
       "      <td>14</td>\n",
       "      <td>a5</td>\n",
       "      <td>b5</td>\n",
       "      <td>Alphonse Kemper</td>\n",
       "      <td>35.0</td>\n",
       "      <td>94122</td>\n",
       "      <td>Alfons Kemper</td>\n",
       "      <td>35.0</td>\n",
       "      <td>94122</td>\n",
       "    </tr>\n",
       "  </tbody>\n",
       "</table>\n",
       "</div>"
      ],
      "text/plain": [
       "    _id ltable.ID rtable.ID       ltable.name  ltable.hourly_wage  \\\n",
       "0     0        a1        b1       Kevin Smith                30.0   \n",
       "1     1        a1        b2       Kevin Smith                30.0   \n",
       "2     2        a1        b6       Kevin Smith                30.0   \n",
       "3     3        a3        b1    William Bridge                32.0   \n",
       "4     4        a3        b2    William Bridge                32.0   \n",
       "5     5        a3        b6    William Bridge                32.0   \n",
       "6     6        a2        b3  Michael Franklin                27.5   \n",
       "7     7        a2        b4  Michael Franklin                27.5   \n",
       "8     8        a2        b5  Michael Franklin                27.5   \n",
       "9     9        a4        b3      Binto George                32.5   \n",
       "10   10        a4        b4      Binto George                32.5   \n",
       "11   11        a4        b5      Binto George                32.5   \n",
       "12   12        a5        b3   Alphonse Kemper                35.0   \n",
       "13   13        a5        b4   Alphonse Kemper                35.0   \n",
       "14   14        a5        b5   Alphonse Kemper                35.0   \n",
       "\n",
       "    ltable.zipcode     rtable.name  rtable.hourly_wage  rtable.zipcode  \n",
       "0            94107     Mark Levene                29.5           94107  \n",
       "1            94107     Bill Bridge                32.0           94107  \n",
       "2            94107  Michael Brodie                32.5           94107  \n",
       "3            94107     Mark Levene                29.5           94107  \n",
       "4            94107     Bill Bridge                32.0           94107  \n",
       "5            94107  Michael Brodie                32.5           94107  \n",
       "6            94122   Mike Franklin                27.5           94122  \n",
       "7            94122     Joseph Kuan                26.0           94122  \n",
       "8            94122   Alfons Kemper                35.0           94122  \n",
       "9            94122   Mike Franklin                27.5           94122  \n",
       "10           94122     Joseph Kuan                26.0           94122  \n",
       "11           94122   Alfons Kemper                35.0           94122  \n",
       "12           94122   Mike Franklin                27.5           94122  \n",
       "13           94122     Joseph Kuan                26.0           94122  \n",
       "14           94122   Alfons Kemper                35.0           94122  "
      ]
     },
     "execution_count": 7,
     "metadata": {},
     "output_type": "execute_result"
    }
   ],
   "source": [
    "C"
   ]
  },
  {
   "cell_type": "code",
   "execution_count": 8,
   "metadata": {
    "collapsed": true
   },
   "outputs": [],
   "source": [
    "E = ab.block_tables(A, B, 'hourly_wage', 'hourly_wage', l_output_attrs=['birth_year'], r_output_attrs=['birth_year'])"
   ]
  },
  {
   "cell_type": "code",
   "execution_count": 9,
   "metadata": {
    "collapsed": false
   },
   "outputs": [
    {
     "data": {
      "text/html": [
       "<div>\n",
       "<table border=\"1\" class=\"dataframe\">\n",
       "  <thead>\n",
       "    <tr style=\"text-align: right;\">\n",
       "      <th></th>\n",
       "      <th>_id</th>\n",
       "      <th>ltable.ID</th>\n",
       "      <th>rtable.ID</th>\n",
       "      <th>ltable.birth_year</th>\n",
       "      <th>rtable.birth_year</th>\n",
       "    </tr>\n",
       "  </thead>\n",
       "  <tbody>\n",
       "    <tr>\n",
       "      <th>0</th>\n",
       "      <td>0</td>\n",
       "      <td>a2</td>\n",
       "      <td>b3</td>\n",
       "      <td>1988</td>\n",
       "      <td>1988</td>\n",
       "    </tr>\n",
       "    <tr>\n",
       "      <th>1</th>\n",
       "      <td>1</td>\n",
       "      <td>a3</td>\n",
       "      <td>b2</td>\n",
       "      <td>1986</td>\n",
       "      <td>1986</td>\n",
       "    </tr>\n",
       "    <tr>\n",
       "      <th>2</th>\n",
       "      <td>2</td>\n",
       "      <td>a4</td>\n",
       "      <td>b6</td>\n",
       "      <td>1987</td>\n",
       "      <td>1987</td>\n",
       "    </tr>\n",
       "    <tr>\n",
       "      <th>3</th>\n",
       "      <td>3</td>\n",
       "      <td>a5</td>\n",
       "      <td>b5</td>\n",
       "      <td>1984</td>\n",
       "      <td>1984</td>\n",
       "    </tr>\n",
       "  </tbody>\n",
       "</table>\n",
       "</div>"
      ],
      "text/plain": [
       "   _id ltable.ID rtable.ID  ltable.birth_year  rtable.birth_year\n",
       "0    0        a2        b3               1988               1988\n",
       "1    1        a3        b2               1986               1986\n",
       "2    2        a4        b6               1987               1987\n",
       "3    3        a5        b5               1984               1984"
      ]
     },
     "execution_count": 9,
     "metadata": {},
     "output_type": "execute_result"
    }
   ],
   "source": [
    "E"
   ]
  },
  {
   "cell_type": "code",
   "execution_count": 10,
   "metadata": {
    "collapsed": true
   },
   "outputs": [],
   "source": [
    "D = ab.block_candset(C, 'birth_year', 'birth_year')"
   ]
  },
  {
   "cell_type": "code",
   "execution_count": 11,
   "metadata": {
    "collapsed": false
   },
   "outputs": [
    {
     "data": {
      "text/html": [
       "<div>\n",
       "<table border=\"1\" class=\"dataframe\">\n",
       "  <thead>\n",
       "    <tr style=\"text-align: right;\">\n",
       "      <th></th>\n",
       "      <th>_id</th>\n",
       "      <th>ltable.ID</th>\n",
       "      <th>rtable.ID</th>\n",
       "      <th>ltable.name</th>\n",
       "      <th>ltable.hourly_wage</th>\n",
       "      <th>ltable.zipcode</th>\n",
       "      <th>rtable.name</th>\n",
       "      <th>rtable.hourly_wage</th>\n",
       "      <th>rtable.zipcode</th>\n",
       "    </tr>\n",
       "  </thead>\n",
       "  <tbody>\n",
       "    <tr>\n",
       "      <th>4</th>\n",
       "      <td>4</td>\n",
       "      <td>a3</td>\n",
       "      <td>b2</td>\n",
       "      <td>William Bridge</td>\n",
       "      <td>32.0</td>\n",
       "      <td>94107</td>\n",
       "      <td>Bill Bridge</td>\n",
       "      <td>32.0</td>\n",
       "      <td>94107</td>\n",
       "    </tr>\n",
       "    <tr>\n",
       "      <th>6</th>\n",
       "      <td>6</td>\n",
       "      <td>a2</td>\n",
       "      <td>b3</td>\n",
       "      <td>Michael Franklin</td>\n",
       "      <td>27.5</td>\n",
       "      <td>94122</td>\n",
       "      <td>Mike Franklin</td>\n",
       "      <td>27.5</td>\n",
       "      <td>94122</td>\n",
       "    </tr>\n",
       "    <tr>\n",
       "      <th>14</th>\n",
       "      <td>14</td>\n",
       "      <td>a5</td>\n",
       "      <td>b5</td>\n",
       "      <td>Alphonse Kemper</td>\n",
       "      <td>35.0</td>\n",
       "      <td>94122</td>\n",
       "      <td>Alfons Kemper</td>\n",
       "      <td>35.0</td>\n",
       "      <td>94122</td>\n",
       "    </tr>\n",
       "  </tbody>\n",
       "</table>\n",
       "</div>"
      ],
      "text/plain": [
       "    _id ltable.ID rtable.ID       ltable.name  ltable.hourly_wage  \\\n",
       "4     4        a3        b2    William Bridge                32.0   \n",
       "6     6        a2        b3  Michael Franklin                27.5   \n",
       "14   14        a5        b5   Alphonse Kemper                35.0   \n",
       "\n",
       "    ltable.zipcode    rtable.name  rtable.hourly_wage  rtable.zipcode  \n",
       "4            94107    Bill Bridge                32.0           94107  \n",
       "6            94122  Mike Franklin                27.5           94122  \n",
       "14           94122  Alfons Kemper                35.0           94122  "
      ]
     },
     "execution_count": 11,
     "metadata": {},
     "output_type": "execute_result"
    }
   ],
   "source": [
    "D"
   ]
  },
  {
   "cell_type": "code",
   "execution_count": 12,
   "metadata": {
    "collapsed": true
   },
   "outputs": [],
   "source": [
    "F = mg.combine_block_outputs_via_union([C, E])"
   ]
  },
  {
   "cell_type": "code",
   "execution_count": 13,
   "metadata": {
    "collapsed": false
   },
   "outputs": [
    {
     "data": {
      "text/html": [
       "<div>\n",
       "<table border=\"1\" class=\"dataframe\">\n",
       "  <thead>\n",
       "    <tr style=\"text-align: right;\">\n",
       "      <th></th>\n",
       "      <th>_id</th>\n",
       "      <th>ltable.ID</th>\n",
       "      <th>rtable.ID</th>\n",
       "      <th>ltable.birth_year</th>\n",
       "      <th>ltable.hourly_wage</th>\n",
       "      <th>ltable.name</th>\n",
       "      <th>ltable.zipcode</th>\n",
       "      <th>rtable.birth_year</th>\n",
       "      <th>rtable.hourly_wage</th>\n",
       "      <th>rtable.name</th>\n",
       "      <th>rtable.zipcode</th>\n",
       "    </tr>\n",
       "  </thead>\n",
       "  <tbody>\n",
       "    <tr>\n",
       "      <th>0</th>\n",
       "      <td>0</td>\n",
       "      <td>a5</td>\n",
       "      <td>b3</td>\n",
       "      <td>1984</td>\n",
       "      <td>35.0</td>\n",
       "      <td>Alphonse Kemper</td>\n",
       "      <td>94122</td>\n",
       "      <td>1988</td>\n",
       "      <td>27.5</td>\n",
       "      <td>Mike Franklin</td>\n",
       "      <td>94122</td>\n",
       "    </tr>\n",
       "    <tr>\n",
       "      <th>1</th>\n",
       "      <td>1</td>\n",
       "      <td>a3</td>\n",
       "      <td>b2</td>\n",
       "      <td>1986</td>\n",
       "      <td>32.0</td>\n",
       "      <td>William Bridge</td>\n",
       "      <td>94107</td>\n",
       "      <td>1986</td>\n",
       "      <td>32.0</td>\n",
       "      <td>Bill Bridge</td>\n",
       "      <td>94107</td>\n",
       "    </tr>\n",
       "    <tr>\n",
       "      <th>2</th>\n",
       "      <td>2</td>\n",
       "      <td>a4</td>\n",
       "      <td>b3</td>\n",
       "      <td>1987</td>\n",
       "      <td>32.5</td>\n",
       "      <td>Binto George</td>\n",
       "      <td>94122</td>\n",
       "      <td>1988</td>\n",
       "      <td>27.5</td>\n",
       "      <td>Mike Franklin</td>\n",
       "      <td>94122</td>\n",
       "    </tr>\n",
       "    <tr>\n",
       "      <th>3</th>\n",
       "      <td>3</td>\n",
       "      <td>a2</td>\n",
       "      <td>b4</td>\n",
       "      <td>1988</td>\n",
       "      <td>27.5</td>\n",
       "      <td>Michael Franklin</td>\n",
       "      <td>94122</td>\n",
       "      <td>1982</td>\n",
       "      <td>26.0</td>\n",
       "      <td>Joseph Kuan</td>\n",
       "      <td>94122</td>\n",
       "    </tr>\n",
       "    <tr>\n",
       "      <th>4</th>\n",
       "      <td>4</td>\n",
       "      <td>a4</td>\n",
       "      <td>b6</td>\n",
       "      <td>1987</td>\n",
       "      <td>32.5</td>\n",
       "      <td>Binto George</td>\n",
       "      <td>94122</td>\n",
       "      <td>1987</td>\n",
       "      <td>32.5</td>\n",
       "      <td>Michael Brodie</td>\n",
       "      <td>94107</td>\n",
       "    </tr>\n",
       "    <tr>\n",
       "      <th>5</th>\n",
       "      <td>5</td>\n",
       "      <td>a2</td>\n",
       "      <td>b5</td>\n",
       "      <td>1988</td>\n",
       "      <td>27.5</td>\n",
       "      <td>Michael Franklin</td>\n",
       "      <td>94122</td>\n",
       "      <td>1984</td>\n",
       "      <td>35.0</td>\n",
       "      <td>Alfons Kemper</td>\n",
       "      <td>94122</td>\n",
       "    </tr>\n",
       "    <tr>\n",
       "      <th>6</th>\n",
       "      <td>6</td>\n",
       "      <td>a1</td>\n",
       "      <td>b2</td>\n",
       "      <td>1989</td>\n",
       "      <td>30.0</td>\n",
       "      <td>Kevin Smith</td>\n",
       "      <td>94107</td>\n",
       "      <td>1986</td>\n",
       "      <td>32.0</td>\n",
       "      <td>Bill Bridge</td>\n",
       "      <td>94107</td>\n",
       "    </tr>\n",
       "    <tr>\n",
       "      <th>7</th>\n",
       "      <td>7</td>\n",
       "      <td>a1</td>\n",
       "      <td>b1</td>\n",
       "      <td>1989</td>\n",
       "      <td>30.0</td>\n",
       "      <td>Kevin Smith</td>\n",
       "      <td>94107</td>\n",
       "      <td>1987</td>\n",
       "      <td>29.5</td>\n",
       "      <td>Mark Levene</td>\n",
       "      <td>94107</td>\n",
       "    </tr>\n",
       "    <tr>\n",
       "      <th>8</th>\n",
       "      <td>8</td>\n",
       "      <td>a4</td>\n",
       "      <td>b5</td>\n",
       "      <td>1987</td>\n",
       "      <td>32.5</td>\n",
       "      <td>Binto George</td>\n",
       "      <td>94122</td>\n",
       "      <td>1984</td>\n",
       "      <td>35.0</td>\n",
       "      <td>Alfons Kemper</td>\n",
       "      <td>94122</td>\n",
       "    </tr>\n",
       "    <tr>\n",
       "      <th>9</th>\n",
       "      <td>9</td>\n",
       "      <td>a4</td>\n",
       "      <td>b4</td>\n",
       "      <td>1987</td>\n",
       "      <td>32.5</td>\n",
       "      <td>Binto George</td>\n",
       "      <td>94122</td>\n",
       "      <td>1982</td>\n",
       "      <td>26.0</td>\n",
       "      <td>Joseph Kuan</td>\n",
       "      <td>94122</td>\n",
       "    </tr>\n",
       "    <tr>\n",
       "      <th>10</th>\n",
       "      <td>10</td>\n",
       "      <td>a3</td>\n",
       "      <td>b6</td>\n",
       "      <td>1986</td>\n",
       "      <td>32.0</td>\n",
       "      <td>William Bridge</td>\n",
       "      <td>94107</td>\n",
       "      <td>1987</td>\n",
       "      <td>32.5</td>\n",
       "      <td>Michael Brodie</td>\n",
       "      <td>94107</td>\n",
       "    </tr>\n",
       "    <tr>\n",
       "      <th>11</th>\n",
       "      <td>11</td>\n",
       "      <td>a2</td>\n",
       "      <td>b3</td>\n",
       "      <td>1988</td>\n",
       "      <td>27.5</td>\n",
       "      <td>Michael Franklin</td>\n",
       "      <td>94122</td>\n",
       "      <td>1988</td>\n",
       "      <td>27.5</td>\n",
       "      <td>Mike Franklin</td>\n",
       "      <td>94122</td>\n",
       "    </tr>\n",
       "    <tr>\n",
       "      <th>12</th>\n",
       "      <td>12</td>\n",
       "      <td>a3</td>\n",
       "      <td>b1</td>\n",
       "      <td>1986</td>\n",
       "      <td>32.0</td>\n",
       "      <td>William Bridge</td>\n",
       "      <td>94107</td>\n",
       "      <td>1987</td>\n",
       "      <td>29.5</td>\n",
       "      <td>Mark Levene</td>\n",
       "      <td>94107</td>\n",
       "    </tr>\n",
       "    <tr>\n",
       "      <th>13</th>\n",
       "      <td>13</td>\n",
       "      <td>a5</td>\n",
       "      <td>b5</td>\n",
       "      <td>1984</td>\n",
       "      <td>35.0</td>\n",
       "      <td>Alphonse Kemper</td>\n",
       "      <td>94122</td>\n",
       "      <td>1984</td>\n",
       "      <td>35.0</td>\n",
       "      <td>Alfons Kemper</td>\n",
       "      <td>94122</td>\n",
       "    </tr>\n",
       "    <tr>\n",
       "      <th>14</th>\n",
       "      <td>14</td>\n",
       "      <td>a1</td>\n",
       "      <td>b6</td>\n",
       "      <td>1989</td>\n",
       "      <td>30.0</td>\n",
       "      <td>Kevin Smith</td>\n",
       "      <td>94107</td>\n",
       "      <td>1987</td>\n",
       "      <td>32.5</td>\n",
       "      <td>Michael Brodie</td>\n",
       "      <td>94107</td>\n",
       "    </tr>\n",
       "    <tr>\n",
       "      <th>15</th>\n",
       "      <td>15</td>\n",
       "      <td>a5</td>\n",
       "      <td>b4</td>\n",
       "      <td>1984</td>\n",
       "      <td>35.0</td>\n",
       "      <td>Alphonse Kemper</td>\n",
       "      <td>94122</td>\n",
       "      <td>1982</td>\n",
       "      <td>26.0</td>\n",
       "      <td>Joseph Kuan</td>\n",
       "      <td>94122</td>\n",
       "    </tr>\n",
       "  </tbody>\n",
       "</table>\n",
       "</div>"
      ],
      "text/plain": [
       "    _id ltable.ID rtable.ID  ltable.birth_year  ltable.hourly_wage  \\\n",
       "0     0        a5        b3               1984                35.0   \n",
       "1     1        a3        b2               1986                32.0   \n",
       "2     2        a4        b3               1987                32.5   \n",
       "3     3        a2        b4               1988                27.5   \n",
       "4     4        a4        b6               1987                32.5   \n",
       "5     5        a2        b5               1988                27.5   \n",
       "6     6        a1        b2               1989                30.0   \n",
       "7     7        a1        b1               1989                30.0   \n",
       "8     8        a4        b5               1987                32.5   \n",
       "9     9        a4        b4               1987                32.5   \n",
       "10   10        a3        b6               1986                32.0   \n",
       "11   11        a2        b3               1988                27.5   \n",
       "12   12        a3        b1               1986                32.0   \n",
       "13   13        a5        b5               1984                35.0   \n",
       "14   14        a1        b6               1989                30.0   \n",
       "15   15        a5        b4               1984                35.0   \n",
       "\n",
       "         ltable.name  ltable.zipcode  rtable.birth_year  rtable.hourly_wage  \\\n",
       "0    Alphonse Kemper           94122               1988                27.5   \n",
       "1     William Bridge           94107               1986                32.0   \n",
       "2       Binto George           94122               1988                27.5   \n",
       "3   Michael Franklin           94122               1982                26.0   \n",
       "4       Binto George           94122               1987                32.5   \n",
       "5   Michael Franklin           94122               1984                35.0   \n",
       "6        Kevin Smith           94107               1986                32.0   \n",
       "7        Kevin Smith           94107               1987                29.5   \n",
       "8       Binto George           94122               1984                35.0   \n",
       "9       Binto George           94122               1982                26.0   \n",
       "10    William Bridge           94107               1987                32.5   \n",
       "11  Michael Franklin           94122               1988                27.5   \n",
       "12    William Bridge           94107               1987                29.5   \n",
       "13   Alphonse Kemper           94122               1984                35.0   \n",
       "14       Kevin Smith           94107               1987                32.5   \n",
       "15   Alphonse Kemper           94122               1982                26.0   \n",
       "\n",
       "       rtable.name  rtable.zipcode  \n",
       "0    Mike Franklin           94122  \n",
       "1      Bill Bridge           94107  \n",
       "2    Mike Franklin           94122  \n",
       "3      Joseph Kuan           94122  \n",
       "4   Michael Brodie           94107  \n",
       "5    Alfons Kemper           94122  \n",
       "6      Bill Bridge           94107  \n",
       "7      Mark Levene           94107  \n",
       "8    Alfons Kemper           94122  \n",
       "9      Joseph Kuan           94122  \n",
       "10  Michael Brodie           94107  \n",
       "11   Mike Franklin           94122  \n",
       "12     Mark Levene           94107  \n",
       "13   Alfons Kemper           94122  \n",
       "14  Michael Brodie           94107  \n",
       "15     Joseph Kuan           94122  "
      ]
     },
     "execution_count": 13,
     "metadata": {},
     "output_type": "execute_result"
    }
   ],
   "source": [
    "F"
   ]
  },
  {
   "cell_type": "code",
   "execution_count": 14,
   "metadata": {
    "collapsed": false
   },
   "outputs": [],
   "source": [
    "S = mg.sample_one_table(F, 14)"
   ]
  },
  {
   "cell_type": "code",
   "execution_count": 15,
   "metadata": {
    "collapsed": true
   },
   "outputs": [],
   "source": [
    "L = mg.label(S, 'gold_label')"
   ]
  },
  {
   "cell_type": "code",
   "execution_count": 16,
   "metadata": {
    "collapsed": false
   },
   "outputs": [
    {
     "data": {
      "text/plain": [
       "_id                     int64\n",
       "ltable.ID              object\n",
       "rtable.ID              object\n",
       "ltable.birth_year       int64\n",
       "ltable.hourly_wage    float64\n",
       "ltable.name            object\n",
       "ltable.zipcode          int64\n",
       "rtable.birth_year       int64\n",
       "rtable.hourly_wage    float64\n",
       "rtable.name            object\n",
       "rtable.zipcode          int64\n",
       "gold_label              int64\n",
       "dtype: object"
      ]
     },
     "execution_count": 16,
     "metadata": {},
     "output_type": "execute_result"
    }
   ],
   "source": [
    "L.dtypes"
   ]
  },
  {
   "cell_type": "code",
   "execution_count": 17,
   "metadata": {
    "collapsed": false
   },
   "outputs": [
    {
     "name": "stderr",
     "output_type": "stream",
     "text": [
      "WARNING:magellan.feature.autofeaturegen:address type and address type are different\n"
     ]
    }
   ],
   "source": [
    "feat_table = mg.get_features_for_blocking(A, B)"
   ]
  },
  {
   "cell_type": "code",
   "execution_count": 18,
   "metadata": {
    "collapsed": false
   },
   "outputs": [
    {
     "data": {
      "text/html": [
       "<div>\n",
       "<table border=\"1\" class=\"dataframe\">\n",
       "  <thead>\n",
       "    <tr style=\"text-align: right;\">\n",
       "      <th></th>\n",
       "      <th>feature_name</th>\n",
       "      <th>left_attribute</th>\n",
       "      <th>right_attribute</th>\n",
       "      <th>left_attr_tokenizer</th>\n",
       "      <th>right_attr_tokenizer</th>\n",
       "      <th>simfunction</th>\n",
       "      <th>function</th>\n",
       "      <th>function_source</th>\n",
       "    </tr>\n",
       "  </thead>\n",
       "  <tbody>\n",
       "    <tr>\n",
       "      <th>0</th>\n",
       "      <td>ID_ID_lev</td>\n",
       "      <td>ID</td>\n",
       "      <td>ID</td>\n",
       "      <td>None</td>\n",
       "      <td>None</td>\n",
       "      <td>lev</td>\n",
       "      <td>&lt;function ID_ID_lev at 0x7fd308e96668&gt;</td>\n",
       "      <td>from magellan.feature.simfunctions import *\\nf...</td>\n",
       "    </tr>\n",
       "    <tr>\n",
       "      <th>1</th>\n",
       "      <td>name_name_jac_qgm_3_qgm_3</td>\n",
       "      <td>name</td>\n",
       "      <td>name</td>\n",
       "      <td>qgm_3</td>\n",
       "      <td>qgm_3</td>\n",
       "      <td>jaccard</td>\n",
       "      <td>&lt;function name_name_jac_qgm_3_qgm_3 at 0x7fd30...</td>\n",
       "      <td>from magellan.feature.simfunctions import *\\nf...</td>\n",
       "    </tr>\n",
       "    <tr>\n",
       "      <th>2</th>\n",
       "      <td>name_name_jac_qgm_2_qgm_3</td>\n",
       "      <td>name</td>\n",
       "      <td>name</td>\n",
       "      <td>qgm_2</td>\n",
       "      <td>qgm_3</td>\n",
       "      <td>jaccard</td>\n",
       "      <td>&lt;function name_name_jac_qgm_2_qgm_3 at 0x7fd30...</td>\n",
       "      <td>from magellan.feature.simfunctions import *\\nf...</td>\n",
       "    </tr>\n",
       "    <tr>\n",
       "      <th>3</th>\n",
       "      <td>birth_year_birth_year_rdf</td>\n",
       "      <td>birth_year</td>\n",
       "      <td>birth_year</td>\n",
       "      <td>None</td>\n",
       "      <td>None</td>\n",
       "      <td>rel_diff</td>\n",
       "      <td>&lt;function birth_year_birth_year_rdf at 0x7fd30...</td>\n",
       "      <td>from magellan.feature.simfunctions import *\\nf...</td>\n",
       "    </tr>\n",
       "    <tr>\n",
       "      <th>4</th>\n",
       "      <td>hourly_wage_hourly_wage_rdf</td>\n",
       "      <td>hourly_wage</td>\n",
       "      <td>hourly_wage</td>\n",
       "      <td>None</td>\n",
       "      <td>None</td>\n",
       "      <td>rel_diff</td>\n",
       "      <td>&lt;function hourly_wage_hourly_wage_rdf at 0x7fd...</td>\n",
       "      <td>from magellan.feature.simfunctions import *\\nf...</td>\n",
       "    </tr>\n",
       "    <tr>\n",
       "      <th>5</th>\n",
       "      <td>zipcode_zipcode_rdf</td>\n",
       "      <td>zipcode</td>\n",
       "      <td>zipcode</td>\n",
       "      <td>None</td>\n",
       "      <td>None</td>\n",
       "      <td>rel_diff</td>\n",
       "      <td>&lt;function zipcode_zipcode_rdf at 0x7fd308e96230&gt;</td>\n",
       "      <td>from magellan.feature.simfunctions import *\\nf...</td>\n",
       "    </tr>\n",
       "  </tbody>\n",
       "</table>\n",
       "</div>"
      ],
      "text/plain": [
       "                  feature_name left_attribute right_attribute  \\\n",
       "0                    ID_ID_lev             ID              ID   \n",
       "1    name_name_jac_qgm_3_qgm_3           name            name   \n",
       "2    name_name_jac_qgm_2_qgm_3           name            name   \n",
       "3    birth_year_birth_year_rdf     birth_year      birth_year   \n",
       "4  hourly_wage_hourly_wage_rdf    hourly_wage     hourly_wage   \n",
       "5          zipcode_zipcode_rdf        zipcode         zipcode   \n",
       "\n",
       "  left_attr_tokenizer right_attr_tokenizer simfunction  \\\n",
       "0                None                 None         lev   \n",
       "1               qgm_3                qgm_3     jaccard   \n",
       "2               qgm_2                qgm_3     jaccard   \n",
       "3                None                 None    rel_diff   \n",
       "4                None                 None    rel_diff   \n",
       "5                None                 None    rel_diff   \n",
       "\n",
       "                                            function  \\\n",
       "0             <function ID_ID_lev at 0x7fd308e96668>   \n",
       "1  <function name_name_jac_qgm_3_qgm_3 at 0x7fd30...   \n",
       "2  <function name_name_jac_qgm_2_qgm_3 at 0x7fd30...   \n",
       "3  <function birth_year_birth_year_rdf at 0x7fd30...   \n",
       "4  <function hourly_wage_hourly_wage_rdf at 0x7fd...   \n",
       "5   <function zipcode_zipcode_rdf at 0x7fd308e96230>   \n",
       "\n",
       "                                     function_source  \n",
       "0  from magellan.feature.simfunctions import *\\nf...  \n",
       "1  from magellan.feature.simfunctions import *\\nf...  \n",
       "2  from magellan.feature.simfunctions import *\\nf...  \n",
       "3  from magellan.feature.simfunctions import *\\nf...  \n",
       "4  from magellan.feature.simfunctions import *\\nf...  \n",
       "5  from magellan.feature.simfunctions import *\\nf...  "
      ]
     },
     "execution_count": 18,
     "metadata": {},
     "output_type": "execute_result"
    }
   ],
   "source": [
    "feat_table"
   ]
  },
  {
   "cell_type": "code",
   "execution_count": 19,
   "metadata": {
    "collapsed": false
   },
   "outputs": [],
   "source": [
    "s_prime = mg.extract_feat_vecs(L, attrs_before=None, feat_table=feat_table, attrs_after=['gold_label'])"
   ]
  },
  {
   "cell_type": "code",
   "execution_count": 20,
   "metadata": {
    "collapsed": false
   },
   "outputs": [
    {
     "data": {
      "text/plain": [
       "_id                              int64\n",
       "ltable.ID                       object\n",
       "rtable.ID                       object\n",
       "ID_ID_lev                      float64\n",
       "name_name_jac_qgm_3_qgm_3      float64\n",
       "name_name_jac_qgm_2_qgm_3      float64\n",
       "birth_year_birth_year_rdf        int64\n",
       "hourly_wage_hourly_wage_rdf    float64\n",
       "zipcode_zipcode_rdf              int64\n",
       "gold_label                       int64\n",
       "dtype: object"
      ]
     },
     "execution_count": 20,
     "metadata": {},
     "output_type": "execute_result"
    }
   ],
   "source": [
    "s_prime.dtypes"
   ]
  },
  {
   "cell_type": "code",
   "execution_count": 21,
   "metadata": {
    "collapsed": false
   },
   "outputs": [],
   "source": [
    "s_prime_df = s_prime.to_dataframe()"
   ]
  },
  {
   "cell_type": "code",
   "execution_count": 22,
   "metadata": {
    "collapsed": false
   },
   "outputs": [
    {
     "data": {
      "text/plain": [
       "_id                              int64\n",
       "ltable.ID                       object\n",
       "rtable.ID                       object\n",
       "ID_ID_lev                      float64\n",
       "name_name_jac_qgm_3_qgm_3      float64\n",
       "name_name_jac_qgm_2_qgm_3      float64\n",
       "birth_year_birth_year_rdf        int64\n",
       "hourly_wage_hourly_wage_rdf    float64\n",
       "zipcode_zipcode_rdf              int64\n",
       "gold_label                       int64\n",
       "dtype: object"
      ]
     },
     "execution_count": 22,
     "metadata": {},
     "output_type": "execute_result"
    }
   ],
   "source": [
    "s_prime_df.dtypes"
   ]
  },
  {
   "cell_type": "code",
   "execution_count": 23,
   "metadata": {
    "collapsed": false
   },
   "outputs": [],
   "source": [
    "cols = feat_table['feature_name']"
   ]
  },
  {
   "cell_type": "code",
   "execution_count": 24,
   "metadata": {
    "collapsed": false
   },
   "outputs": [],
   "source": [
    "x = s_prime_df[list(cols)].values"
   ]
  },
  {
   "cell_type": "code",
   "execution_count": 31,
   "metadata": {
    "collapsed": false
   },
   "outputs": [],
   "source": [
    "y = s_prime_df['gold_label'].values"
   ]
  },
  {
   "cell_type": "code",
   "execution_count": 32,
   "metadata": {
    "collapsed": false
   },
   "outputs": [
    {
     "data": {
      "text/plain": [
       "array([0, 1, 0, 0, 0, 0, 0, 0, 0, 0, 0, 1, 0, 0])"
      ]
     },
     "execution_count": 32,
     "metadata": {},
     "output_type": "execute_result"
    }
   ],
   "source": [
    "y"
   ]
  },
  {
   "cell_type": "code",
   "execution_count": 33,
   "metadata": {
    "collapsed": true
   },
   "outputs": [],
   "source": [
    "from sklearn.naive_bayes import GaussianNB"
   ]
  },
  {
   "cell_type": "code",
   "execution_count": 34,
   "metadata": {
    "collapsed": false
   },
   "outputs": [
    {
     "data": {
      "text/plain": [
       "array([0, 1, 0, 0, 0, 0, 0, 0, 0, 0, 0, 1, 0, 0])"
      ]
     },
     "execution_count": 34,
     "metadata": {},
     "output_type": "execute_result"
    }
   ],
   "source": [
    "s_prime_df['gold_label'].values"
   ]
  },
  {
   "cell_type": "code",
   "execution_count": 35,
   "metadata": {
    "collapsed": true
   },
   "outputs": [],
   "source": [
    "nb = GaussianNB()"
   ]
  },
  {
   "cell_type": "code",
   "execution_count": 36,
   "metadata": {
    "collapsed": false
   },
   "outputs": [
    {
     "data": {
      "text/plain": [
       "GaussianNB()"
      ]
     },
     "execution_count": 36,
     "metadata": {},
     "output_type": "execute_result"
    }
   ],
   "source": [
    "nb.fit(x, y)"
   ]
  }
 ],
 "metadata": {
  "kernelspec": {
   "display_name": "Python 2",
   "language": "python",
   "name": "python2"
  },
  "language_info": {
   "codemirror_mode": {
    "name": "ipython",
    "version": 2
   },
   "file_extension": ".py",
   "mimetype": "text/x-python",
   "name": "python",
   "nbconvert_exporter": "python",
   "pygments_lexer": "ipython2",
   "version": "2.7.10"
  }
 },
 "nbformat": 4,
 "nbformat_minor": 0
}
