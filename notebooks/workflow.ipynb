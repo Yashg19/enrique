{
 "cells": [
  {
   "cell_type": "code",
   "execution_count": 2,
   "metadata": {
    "collapsed": true
   },
   "outputs": [],
   "source": [
    "import sys\n",
    "sys.path.append('c:/Pradap/Research/Python-Packages/enrique/')"
   ]
  },
  {
   "cell_type": "code",
   "execution_count": 3,
   "metadata": {
    "collapsed": false
   },
   "outputs": [],
   "source": [
    "import magellan as mg"
   ]
  },
  {
   "cell_type": "code",
   "execution_count": 5,
   "metadata": {
    "collapsed": true
   },
   "outputs": [],
   "source": [
    "A = mg.read_csv('../magellan/datasets/table_A.csv', key='ID')\n",
    "B = mg.read_csv('../magellan/datasets/table_B.csv', key='ID')"
   ]
  },
  {
   "cell_type": "code",
   "execution_count": 8,
   "metadata": {
    "collapsed": false
   },
   "outputs": [
    {
     "data": {
      "text/html": [
       "<div style=\"max-height:1000px;max-width:1500px;overflow:auto;\">\n",
       "<table border=\"1\" class=\"dataframe\">\n",
       "  <thead>\n",
       "    <tr style=\"text-align: right;\">\n",
       "      <th></th>\n",
       "      <th>ID</th>\n",
       "      <th>name</th>\n",
       "      <th>birth_year</th>\n",
       "      <th>hourly_wage</th>\n",
       "      <th>address</th>\n",
       "      <th>zipcode</th>\n",
       "    </tr>\n",
       "    <tr>\n",
       "      <th>ID</th>\n",
       "      <th></th>\n",
       "      <th></th>\n",
       "      <th></th>\n",
       "      <th></th>\n",
       "      <th></th>\n",
       "      <th></th>\n",
       "    </tr>\n",
       "  </thead>\n",
       "  <tbody>\n",
       "    <tr>\n",
       "      <th>b1</th>\n",
       "      <td> b1</td>\n",
       "      <td>    Mark Levene</td>\n",
       "      <td> 1987</td>\n",
       "      <td> 29.5</td>\n",
       "      <td>      108 Clement St, San Francisco</td>\n",
       "      <td> 94107</td>\n",
       "    </tr>\n",
       "    <tr>\n",
       "      <th>b2</th>\n",
       "      <td> b2</td>\n",
       "      <td>    Bill Bridge</td>\n",
       "      <td> 1986</td>\n",
       "      <td> 32.0</td>\n",
       "      <td>     3131 Webster St, San Francisco</td>\n",
       "      <td> 94107</td>\n",
       "    </tr>\n",
       "    <tr>\n",
       "      <th>b3</th>\n",
       "      <td> b3</td>\n",
       "      <td>  Mike Franklin</td>\n",
       "      <td> 1988</td>\n",
       "      <td> 27.5</td>\n",
       "      <td>    1652 Stockton St, San Francisco</td>\n",
       "      <td> 94122</td>\n",
       "    </tr>\n",
       "    <tr>\n",
       "      <th>b4</th>\n",
       "      <td> b4</td>\n",
       "      <td>    Joseph Kuan</td>\n",
       "      <td> 1982</td>\n",
       "      <td> 26.0</td>\n",
       "      <td>      108 South Park, San Francisco</td>\n",
       "      <td> 94122</td>\n",
       "    </tr>\n",
       "    <tr>\n",
       "      <th>b5</th>\n",
       "      <td> b5</td>\n",
       "      <td>  Alfons Kemper</td>\n",
       "      <td> 1984</td>\n",
       "      <td> 35.0</td>\n",
       "      <td> 170 Post St, Apt 4,  San Francisco</td>\n",
       "      <td> 94122</td>\n",
       "    </tr>\n",
       "    <tr>\n",
       "      <th>b6</th>\n",
       "      <td> b6</td>\n",
       "      <td> Michael Brodie</td>\n",
       "      <td> 1987</td>\n",
       "      <td> 32.5</td>\n",
       "      <td>  133 Clement Street, San Francisco</td>\n",
       "      <td> 94107</td>\n",
       "    </tr>\n",
       "  </tbody>\n",
       "</table>\n",
       "</div>"
      ],
      "text/plain": [
       "    ID            name  birth_year  hourly_wage  \\\n",
       "ID                                                \n",
       "b1  b1     Mark Levene        1987         29.5   \n",
       "b2  b2     Bill Bridge        1986         32.0   \n",
       "b3  b3   Mike Franklin        1988         27.5   \n",
       "b4  b4     Joseph Kuan        1982         26.0   \n",
       "b5  b5   Alfons Kemper        1984         35.0   \n",
       "b6  b6  Michael Brodie        1987         32.5   \n",
       "\n",
       "                               address  zipcode  \n",
       "ID                                               \n",
       "b1       108 Clement St, San Francisco    94107  \n",
       "b2      3131 Webster St, San Francisco    94107  \n",
       "b3     1652 Stockton St, San Francisco    94122  \n",
       "b4       108 South Park, San Francisco    94122  \n",
       "b5  170 Post St, Apt 4,  San Francisco    94122  \n",
       "b6   133 Clement Street, San Francisco    94107  "
      ]
     },
     "execution_count": 8,
     "metadata": {},
     "output_type": "execute_result"
    }
   ],
   "source": []
  }
 ],
 "metadata": {
  "kernelspec": {
   "display_name": "Python 2",
   "language": "python",
   "name": "python2"
  },
  "language_info": {
   "codemirror_mode": {
    "name": "ipython",
    "version": 2
   },
   "file_extension": ".py",
   "mimetype": "text/x-python",
   "name": "python",
   "nbconvert_exporter": "python",
   "pygments_lexer": "ipython2",
   "version": "2.7.9"
  }
 },
 "nbformat": 4,
 "nbformat_minor": 0
}
