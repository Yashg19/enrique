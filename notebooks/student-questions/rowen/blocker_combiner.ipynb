{
 "cells": [
  {
   "cell_type": "code",
   "execution_count": 1,
   "metadata": {
    "collapsed": false
   },
   "outputs": [],
   "source": [
    "import sys\n",
    "sys.path.append('/Users/pradap/Documents/Research/Python-Package/enrique/')"
   ]
  },
  {
   "cell_type": "code",
   "execution_count": 2,
   "metadata": {
    "collapsed": false
   },
   "outputs": [],
   "source": [
    "%load_ext autotime"
   ]
  },
  {
   "cell_type": "code",
   "execution_count": 3,
   "metadata": {
    "collapsed": false
   },
   "outputs": [
    {
     "name": "stderr",
     "output_type": "stream",
     "text": [
      "DEBUG:Cloud:Log file (/Users/pradap/.picloud/cloud.log) opened\n"
     ]
    },
    {
     "name": "stdout",
     "output_type": "stream",
     "text": [
      "time: 2.48 s\n"
     ]
    }
   ],
   "source": [
    "import magellan as mg"
   ]
  },
  {
   "cell_type": "code",
   "execution_count": 25,
   "metadata": {
    "collapsed": false
   },
   "outputs": [
    {
     "name": "stdout",
     "output_type": "stream",
     "text": [
      "time: 125 ms\n"
     ]
    }
   ],
   "source": [
    "from magellan import MTable\n",
    "import pandas as pd\n",
    "from magellan.blockercombiner.blockercombiner import *\n",
    "def cbn_via_union(blocker_output_list):\n",
    "    \"\"\"\n",
    "    Combine blocker outputs by unioning ltable, rtable ids in candidate set\n",
    "\n",
    "    Parameters\n",
    "    ----------\n",
    "    blocker_output_list : list\n",
    "        List of blocker outputs\n",
    "\n",
    "    Returns\n",
    "    -------\n",
    "    combined_blocker_output : MTable\n",
    "        With combined blocker outputs\n",
    "\n",
    "    Notes\n",
    "    -----\n",
    "    Combined_blocker_output contains the following attributes\n",
    "    * _id\n",
    "    * combined id pairs (ltable.id, rtabled.id) from list of blocker outputs\n",
    "    * union of non-id attributes from each of blocker output\n",
    "    \"\"\"\n",
    "    ltable, rtable = lr_tables(blocker_output_list)\n",
    "    # get the attribute names in blocker output that represents ltable, rtable\n",
    "    l_key = 'ltable.' + ltable.get_key()\n",
    "    r_key = 'rtable.' + rtable.get_key()\n",
    "\n",
    "    # l0 = blocker_output_list[0]\n",
    "    # l_key = l0.get_property('foreign_key_ltable')\n",
    "    # r_key = l0.get_property('foreign_key_rtable')\n",
    "    # lfid_idx = ltable.get_attr_names().index(ltable.get_key())\n",
    "    l_df = ltable.to_dataframe()\n",
    "    r_df = rtable.to_dataframe()\n",
    "\n",
    "    col_names = ['ltable.'+c for c in l_df.columns]\n",
    "    l_df.columns = col_names\n",
    "    col_names = ['rtable.'+c for c in r_df.columns]\n",
    "    r_df.columns = col_names\n",
    "\n",
    "    l_dict = {}\n",
    "    # get the union of attribute names from blocker output list\n",
    "    col_set = set([x for c in blocker_output_list for x in c.columns])\n",
    "    l_col, r_col = lr_cols(col_set)\n",
    "\n",
    "    m_lcol = ['ltable.' + c for c in l_col]\n",
    "    m_rcol = ['rtable.' + c for c in r_col]\n",
    "    for i, r in l_df.iterrows():\n",
    "        l_dict[r[l_key]] = r[m_lcol]\n",
    "    r_dict = {}\n",
    "    for i, r in r_df.iterrows():\n",
    "        r_dict[r[r_key]] = r[m_rcol]\n",
    "\n",
    "    # get id pairs\n",
    "    id_set = []\n",
    "\n",
    "    for c in blocker_output_list:\n",
    "        lfid_idx = c.get_attr_names().index(c.get_property('foreign_key_ltable'))\n",
    "        rfid_idx = c.get_attr_names().index(c.get_property('foreign_key_rtable'))\n",
    "\n",
    "        for r in c.itertuples(index=False):\n",
    "            id_set.append((r[lfid_idx], r[rfid_idx]))\n",
    "    id_set = set(id_set)\n",
    "\n",
    "\n",
    "\n",
    "    # # get the set of id pairs from all blocker output list\n",
    "    # id_set = set([(r[l_key], r[r_key]) for c in blocker_output_list for i, r in c.iterrows()])\n",
    "\n",
    "\n",
    "    # # convert ltable, rtable to dfs and set index\n",
    "    # l_df = ltable.to_dataframe()\n",
    "    # l_df.set_index(ltable.get_key(), inplace=True, drop=False)\n",
    "    # r_df = rtable.to_dataframe()\n",
    "    # r_df.set_index(rtable.get_key(), inplace=True, drop=False)\n",
    "\n",
    "    # get the l_col, r_col from ltable and rtable respectively\n",
    "    dict_list = []\n",
    "    if mg._progbar:\n",
    "            bar = pyprind.ProgBar(len(id_set))\n",
    "    l_dict_list = []\n",
    "    r_dict_list = []\n",
    "    for x in id_set:\n",
    "        #d = get_dict (l_dict[x[0]], r_dict[x[1]], l_col, r_col)\n",
    "        l_dict_list.append(l_dict[x[0]])\n",
    "        r_dict_list.append(r_dict[x[1]])\n",
    "\n",
    "        if mg._progbar:\n",
    "            bar.update()\n",
    "    # dict_list = [get_dict(l_dict[x[0]], r_dict[x[1]], l_col, r_col) for x in id_set]\n",
    "\n",
    "    # get the final column names for output table\n",
    "    f_cols = fin_cols(l_col, r_col, ltable.get_key(), rtable.get_key())\n",
    "\n",
    "    left_consol_table = pd.DataFrame(l_dict_list)\n",
    "    right_consol_table = pd.DataFrame(r_dict_list)\n",
    "#     return left_consol_table, right_consol_table\n",
    "    if len(left_consol_table) > 0 and len(right_consol_table) > 0:\n",
    "        left_consol_table.reset_index(inplace=True, drop=True)\n",
    "        right_consol_table.reset_index(inplace=True, drop=True)\n",
    "\n",
    "        table = pd.concat([left_consol_table, right_consol_table], axis=1)\n",
    "        table.reset_index(inplace=True, drop=True)\n",
    "        table.sort([l_key, r_key], inplace=True)\n",
    "        table.reset_index(inplace=True, drop=True)\n",
    "        table = MTable(table[f_cols])\n",
    "    else:\n",
    "        table = MTable([], columns=f_cols)\n",
    "\n",
    "    # project df and convert to MTable\n",
    "    table.set_property('ltable', ltable)\n",
    "    table.set_property('rtable', rtable)\n",
    "    table.set_property('foreign_key_ltable', 'ltable.'+ltable.get_key())\n",
    "    table.set_property('foreign_key_rtable', 'rtable.'+rtable.get_key())\n",
    "\n",
    "\n",
    "    return id_set"
   ]
  },
  {
   "cell_type": "code",
   "execution_count": 14,
   "metadata": {
    "collapsed": false
   },
   "outputs": [
    {
     "name": "stdout",
     "output_type": "stream",
     "text": [
      "time: 70.9 ms\n"
     ]
    }
   ],
   "source": [
    "from magellan import MTable\n",
    "import pandas as pd\n",
    "from magellan.blockercombiner.blockercombiner import *\n",
    "\n",
    "def cbn_via_union_v2(blocker_output_list):\n",
    "    ltable, rtable = lr_tables(blocker_output_list)\n",
    "    # get the attribute names in blocker output that represents ltable, rtable\n",
    "    l_key = 'ltable.' + ltable.get_key()\n",
    "    r_key = 'rtable.' + rtable.get_key()\n",
    "\n",
    "    l_df = ltable.to_dataframe()\n",
    "    r_df = rtable.to_dataframe()\n",
    "\n",
    "    # get the union of attribute names from blocker output list\n",
    "    col_set = set([x for c in blocker_output_list for x in c.columns])\n",
    "    l_col, r_col = lr_cols(col_set)\n",
    "    l_col = list(l_col)\n",
    "    r_col = list(r_col)\n",
    "    \n",
    "    l_df = l_df[l_col] # minimally the projection must contain id column\n",
    "    r_df = r_df[r_col]\n",
    "        \n",
    "    col_names = ['ltable.'+c for c in l_df.columns]\n",
    "    l_df.columns = col_names\n",
    "    col_names = ['rtable.'+c for c in r_df.columns]\n",
    "    r_df.columns = col_names\n",
    "\n",
    "\n",
    "    \n",
    "    l_df.set_index(l_key, inplace=True, drop=False)\n",
    "    r_df.set_index(r_key, inplace=True, drop=False)\n",
    "    \n",
    "    \n",
    "    # get id pairs\n",
    "    id_set = []\n",
    "\n",
    "    for c in blocker_output_list:\n",
    "        lfid_idx = c.get_attr_names().index(c.get_property('foreign_key_ltable'))\n",
    "        rfid_idx = c.get_attr_names().index(c.get_property('foreign_key_rtable'))\n",
    "\n",
    "        for r in c.itertuples(index=False):\n",
    "            id_set.append((r[lfid_idx], r[rfid_idx]))\n",
    "    id_set = list(set(id_set))\n",
    "\n",
    "    f_cols = fin_cols(l_col, r_col, ltable.get_key(), rtable.get_key())\n",
    "    \n",
    "    if len(id_set) > 0:\n",
    "        id_df = pd.DataFrame(id_set)\n",
    "        l_consol_table = l_df.ix[id_df[0]]\n",
    "        r_consol_table = r_df.ix[id_df[1]]\n",
    "        l_consol_table.reset_index(inplace=True, drop=True)\n",
    "        r_consol_table.reset_index(inplace=True, drop=True)\n",
    "        print l_consol_table.head(1)\n",
    "        print r_consol_table.head(1)\n",
    "        \n",
    "        table = pd.concat([l_consol_table, r_consol_table], axis=1)\n",
    "        table.sort([l_key, r_key], inplace=True)\n",
    "        table.reset_index(inplace=True, drop=True)\n",
    "        table = MTable(table[f_cols])\n",
    "    else:\n",
    "        table = MTable([], columns=f_cols)\n",
    "\n",
    "    # project df and convert to MTable\n",
    "    table.set_property('ltable', ltable)\n",
    "    table.set_property('rtable', rtable)\n",
    "    table.set_property('foreign_key_ltable', 'ltable.'+ltable.get_key())\n",
    "    table.set_property('foreign_key_rtable', 'rtable.'+rtable.get_key())\n",
    "\n",
    "\n",
    "    return table"
   ]
  },
  {
   "cell_type": "code",
   "execution_count": 5,
   "metadata": {
    "collapsed": false
   },
   "outputs": [
    {
     "name": "stdout",
     "output_type": "stream",
     "text": [
      "time: 17.9 ms\n"
     ]
    }
   ],
   "source": [
    "A = mg.read_csv(mg.get_install_path() +'/datasets/DBLP_ACM/DBLP_cleaned.csv', key='id')"
   ]
  },
  {
   "cell_type": "code",
   "execution_count": 6,
   "metadata": {
    "collapsed": false
   },
   "outputs": [
    {
     "name": "stdout",
     "output_type": "stream",
     "text": [
      "time: 13.8 ms\n"
     ]
    }
   ],
   "source": [
    "B = mg.read_csv(mg.get_install_path() + '/datasets/DBLP_ACM/ACM_cleaned.csv', key='id')"
   ]
  },
  {
   "cell_type": "code",
   "execution_count": 7,
   "metadata": {
    "collapsed": false
   },
   "outputs": [
    {
     "name": "stdout",
     "output_type": "stream",
     "text": [
      "time: 1.52 s\n"
     ]
    }
   ],
   "source": [
    "ab = mg.AttrEquivalenceBlocker()\n",
    "C = ab.block_tables(A, B, 'year', 'year', ['title', 'year', 'authors'], ['title', 'year', 'authors'])"
   ]
  },
  {
   "cell_type": "code",
   "execution_count": 22,
   "metadata": {
    "collapsed": false
   },
   "outputs": [
    {
     "name": "stdout",
     "output_type": "stream",
     "text": [
      "time: 24.9 ms\n"
     ]
    }
   ],
   "source": [
    "G1 = ab.block_tables(A, B, 'year', 'title')"
   ]
  },
  {
   "cell_type": "code",
   "execution_count": 23,
   "metadata": {
    "collapsed": false
   },
   "outputs": [
    {
     "name": "stdout",
     "output_type": "stream",
     "text": [
      "time: 13.9 ms\n"
     ]
    }
   ],
   "source": [
    "G2 = ab.block_tables(A, B, 'year', 'authors', ['title', 'year', 'authors'], ['title', 'year', 'authors'])"
   ]
  },
  {
   "cell_type": "code",
   "execution_count": 28,
   "metadata": {
    "collapsed": false
   },
   "outputs": [
    {
     "name": "stdout",
     "output_type": "stream",
     "text": [
      "time: 13.6 ms\n"
     ]
    }
   ],
   "source": [
    "G = cbn_via_union_v2([G2, G2])"
   ]
  },
  {
   "cell_type": "code",
   "execution_count": 29,
   "metadata": {
    "collapsed": false
   },
   "outputs": [
    {
     "data": {
      "text/html": [
       "<div>\n",
       "<table border=\"1\" class=\"dataframe\">\n",
       "  <thead>\n",
       "    <tr style=\"text-align: right;\">\n",
       "      <th></th>\n",
       "      <th>_id</th>\n",
       "      <th>ltable.id</th>\n",
       "      <th>rtable.id</th>\n",
       "      <th>ltable.authors</th>\n",
       "      <th>ltable.title</th>\n",
       "      <th>ltable.year</th>\n",
       "      <th>rtable.authors</th>\n",
       "      <th>rtable.title</th>\n",
       "      <th>rtable.year</th>\n",
       "    </tr>\n",
       "  </thead>\n",
       "  <tbody>\n",
       "  </tbody>\n",
       "</table>\n",
       "</div>"
      ],
      "text/plain": [
       "Empty MTable\n",
       "Columns: [_id, ltable.id, rtable.id, ltable.authors, ltable.title, ltable.year, rtable.authors, rtable.title, rtable.year]\n",
       "Index: []"
      ]
     },
     "execution_count": 29,
     "metadata": {},
     "output_type": "execute_result"
    },
    {
     "name": "stdout",
     "output_type": "stream",
     "text": [
      "time: 7.11 ms\n"
     ]
    }
   ],
   "source": [
    "G"
   ]
  },
  {
   "cell_type": "code",
   "execution_count": 9,
   "metadata": {
    "collapsed": false
   },
   "outputs": [
    {
     "name": "stderr",
     "output_type": "stream",
     "text": [
      "0%                          100%\n",
      "[##############################] | ETA[sec]: 0.000 "
     ]
    },
    {
     "name": "stdout",
     "output_type": "stream",
     "text": [
      "time: 8.23 s\n"
     ]
    },
    {
     "name": "stderr",
     "output_type": "stream",
     "text": [
      "\n",
      "Total time elapsed: 5.744 sec\n"
     ]
    }
   ],
   "source": [
    "op = mg.OverlapBlocker()\n",
    "D = op.block_tables(A, B, 'authors', 'authors', l_output_attrs=['title', 'year', 'authors'], r_output_attrs=['title', 'year', 'authors'])"
   ]
  },
  {
   "cell_type": "code",
   "execution_count": 10,
   "metadata": {
    "collapsed": false
   },
   "outputs": [
    {
     "data": {
      "text/plain": [
       "(10000, 10000)"
      ]
     },
     "execution_count": 10,
     "metadata": {},
     "output_type": "execute_result"
    },
    {
     "name": "stdout",
     "output_type": "stream",
     "text": [
      "time: 101 ms\n"
     ]
    }
   ],
   "source": [
    "C1 = mg.create_mtable(C.ix[1:10000], ltable=A, rtable=B, foreign_key_ltable='ltable.id',\n",
    "                     foreign_key_rtable='rtable.id')\n",
    "D1 = mg.create_mtable(D.ix[1:10000], ltable=A, rtable=B, foreign_key_ltable='ltable.id',\n",
    "                     foreign_key_rtable='rtable.id')\n",
    "len(C1), len(D1)"
   ]
  },
  {
   "cell_type": "code",
   "execution_count": 11,
   "metadata": {
    "collapsed": false
   },
   "outputs": [
    {
     "name": "stdout",
     "output_type": "stream",
     "text": [
      "time: 17.3 ms\n"
     ]
    }
   ],
   "source": [
    "%load_ext line_profiler"
   ]
  },
  {
   "cell_type": "code",
   "execution_count": 13,
   "metadata": {
    "collapsed": false
   },
   "outputs": [
    {
     "name": "stdout",
     "output_type": "stream",
     "text": [
      "time: 840 µs\n"
     ]
    }
   ],
   "source": [
    "# %lprun -f mg._combine_block_outputs_via_union  mg._combine_block_outputs_via_union([C1, D1])"
   ]
  },
  {
   "cell_type": "code",
   "execution_count": 12,
   "metadata": {
    "collapsed": false
   },
   "outputs": [
    {
     "name": "stdout",
     "output_type": "stream",
     "text": [
      "time: 18.6 s\n"
     ]
    }
   ],
   "source": [
    "E1 = mg.combine_block_outputs_via_union([C1, D1])"
   ]
  },
  {
   "cell_type": "code",
   "execution_count": 15,
   "metadata": {
    "collapsed": false
   },
   "outputs": [
    {
     "name": "stdout",
     "output_type": "stream",
     "text": [
      "                                     ltable.authors               ltable.id  \\\n",
      "0  Anindya Datta, Chris Jermaine, Edward Omiecinski  conf/vldb/JermaineDO99   \n",
      "\n",
      "                                        ltable.title  ltable.year  \n",
      "0  A Novel Index Supporting High Volume Data Ware...         1999  \n",
      "                   rtable.authors  rtable.id  \\\n",
      "0  Tolga Bozkaya, Meral Ozsoyoglu     328959   \n",
      "\n",
      "                                        rtable.title  rtable.year  \n",
      "0  Indexing large metric spaces for similarity se...         1999  \n",
      "time: 155 ms\n"
     ]
    }
   ],
   "source": [
    "E2 = cbn_via_union_v2([C1, D1])"
   ]
  },
  {
   "cell_type": "code",
   "execution_count": 16,
   "metadata": {
    "collapsed": false
   },
   "outputs": [
    {
     "data": {
      "text/plain": [
       "True"
      ]
     },
     "execution_count": 16,
     "metadata": {},
     "output_type": "execute_result"
    },
    {
     "name": "stdout",
     "output_type": "stream",
     "text": [
      "time: 5.97 ms\n"
     ]
    }
   ],
   "source": [
    "E1.equals(E2)"
   ]
  },
  {
   "cell_type": "code",
   "execution_count": 17,
   "metadata": {
    "collapsed": false
   },
   "outputs": [
    {
     "data": {
      "text/html": [
       "<div>\n",
       "<table border=\"1\" class=\"dataframe\">\n",
       "  <thead>\n",
       "    <tr style=\"text-align: right;\">\n",
       "      <th></th>\n",
       "      <th>_id</th>\n",
       "      <th>ltable.id</th>\n",
       "      <th>rtable.id</th>\n",
       "      <th>ltable.authors</th>\n",
       "      <th>ltable.title</th>\n",
       "      <th>ltable.year</th>\n",
       "      <th>rtable.authors</th>\n",
       "      <th>rtable.title</th>\n",
       "      <th>rtable.year</th>\n",
       "    </tr>\n",
       "  </thead>\n",
       "  <tbody>\n",
       "    <tr>\n",
       "      <th>0</th>\n",
       "      <td>0</td>\n",
       "      <td>conf/sigmod/AbadiC02</td>\n",
       "      <td>191844</td>\n",
       "      <td>Daniel J. Abadi, Mitch Cherniack</td>\n",
       "      <td>Visual COKO: a debugger for query optimizer de...</td>\n",
       "      <td>2002</td>\n",
       "      <td>Daniel Barbará, Tomasz Imieliński</td>\n",
       "      <td>Sleepers and workaholics: caching strategies i...</td>\n",
       "      <td>1994</td>\n",
       "    </tr>\n",
       "    <tr>\n",
       "      <th>1</th>\n",
       "      <td>1</td>\n",
       "      <td>conf/sigmod/AbadiC02</td>\n",
       "      <td>191882</td>\n",
       "      <td>Daniel J. Abadi, Mitch Cherniack</td>\n",
       "      <td>Visual COKO: a debugger for query optimizer de...</td>\n",
       "      <td>2002</td>\n",
       "      <td>Hwee Hwa Pang, Michael J. Carey, Miron Livny</td>\n",
       "      <td>Managing memory for real-time queries</td>\n",
       "      <td>1994</td>\n",
       "    </tr>\n",
       "    <tr>\n",
       "      <th>2</th>\n",
       "      <td>2</td>\n",
       "      <td>conf/sigmod/AbadiC02</td>\n",
       "      <td>191886</td>\n",
       "      <td>Daniel J. Abadi, Mitch Cherniack</td>\n",
       "      <td>Visual COKO: a debugger for query optimizer de...</td>\n",
       "      <td>2002</td>\n",
       "      <td>Jim Gray, Prakash Sundaresan, Susanne Englert,...</td>\n",
       "      <td>Quickly generating billion-record synthetic da...</td>\n",
       "      <td>1994</td>\n",
       "    </tr>\n",
       "    <tr>\n",
       "      <th>3</th>\n",
       "      <td>3</td>\n",
       "      <td>conf/sigmod/AbadiC02</td>\n",
       "      <td>191893</td>\n",
       "      <td>Daniel J. Abadi, Mitch Cherniack</td>\n",
       "      <td>Visual COKO: a debugger for query optimizer de...</td>\n",
       "      <td>2002</td>\n",
       "      <td>Hasanat M. Dewan, Salvatore J. Stolfo, Maurici...</td>\n",
       "      <td>Predictive dynamic load balancing of parallel ...</td>\n",
       "      <td>1994</td>\n",
       "    </tr>\n",
       "    <tr>\n",
       "      <th>4</th>\n",
       "      <td>4</td>\n",
       "      <td>conf/sigmod/AbadiC02</td>\n",
       "      <td>191911</td>\n",
       "      <td>Daniel J. Abadi, Mitch Cherniack</td>\n",
       "      <td>Visual COKO: a debugger for query optimizer de...</td>\n",
       "      <td>2002</td>\n",
       "      <td>Michael J. Carey, Michael J. Franklin, Markos ...</td>\n",
       "      <td>Fine-grained sharing in a page server OODBMS</td>\n",
       "      <td>1994</td>\n",
       "    </tr>\n",
       "  </tbody>\n",
       "</table>\n",
       "</div>"
      ],
      "text/plain": [
       "   _id             ltable.id  rtable.id                    ltable.authors  \\\n",
       "0    0  conf/sigmod/AbadiC02     191844  Daniel J. Abadi, Mitch Cherniack   \n",
       "1    1  conf/sigmod/AbadiC02     191882  Daniel J. Abadi, Mitch Cherniack   \n",
       "2    2  conf/sigmod/AbadiC02     191886  Daniel J. Abadi, Mitch Cherniack   \n",
       "3    3  conf/sigmod/AbadiC02     191893  Daniel J. Abadi, Mitch Cherniack   \n",
       "4    4  conf/sigmod/AbadiC02     191911  Daniel J. Abadi, Mitch Cherniack   \n",
       "\n",
       "                                        ltable.title  ltable.year  \\\n",
       "0  Visual COKO: a debugger for query optimizer de...         2002   \n",
       "1  Visual COKO: a debugger for query optimizer de...         2002   \n",
       "2  Visual COKO: a debugger for query optimizer de...         2002   \n",
       "3  Visual COKO: a debugger for query optimizer de...         2002   \n",
       "4  Visual COKO: a debugger for query optimizer de...         2002   \n",
       "\n",
       "                                      rtable.authors  \\\n",
       "0                  Daniel Barbará, Tomasz Imieliński   \n",
       "1       Hwee Hwa Pang, Michael J. Carey, Miron Livny   \n",
       "2  Jim Gray, Prakash Sundaresan, Susanne Englert,...   \n",
       "3  Hasanat M. Dewan, Salvatore J. Stolfo, Maurici...   \n",
       "4  Michael J. Carey, Michael J. Franklin, Markos ...   \n",
       "\n",
       "                                        rtable.title  rtable.year  \n",
       "0  Sleepers and workaholics: caching strategies i...         1994  \n",
       "1              Managing memory for real-time queries         1994  \n",
       "2  Quickly generating billion-record synthetic da...         1994  \n",
       "3  Predictive dynamic load balancing of parallel ...         1994  \n",
       "4       Fine-grained sharing in a page server OODBMS         1994  "
      ]
     },
     "execution_count": 17,
     "metadata": {},
     "output_type": "execute_result"
    },
    {
     "name": "stdout",
     "output_type": "stream",
     "text": [
      "time: 18.4 ms\n"
     ]
    }
   ],
   "source": [
    "E2.head()"
   ]
  },
  {
   "cell_type": "code",
   "execution_count": 19,
   "metadata": {
    "collapsed": false
   },
   "outputs": [
    {
     "name": "stderr",
     "output_type": "stream",
     "text": [
      "0%                          100%\n",
      "[##############################] | ETA[sec]: 0.000 "
     ]
    },
    {
     "name": "stdout",
     "output_type": "stream",
     "text": [
      "time: 1.83 s\n"
     ]
    },
    {
     "name": "stderr",
     "output_type": "stream",
     "text": [
      "\n",
      "Total time elapsed: 1.818 sec\n"
     ]
    }
   ],
   "source": [
    "F = ab.block_candset(E2, 'title', 'title')"
   ]
  },
  {
   "cell_type": "code",
   "execution_count": 21,
   "metadata": {
    "collapsed": false
   },
   "outputs": [
    {
     "data": {
      "text/html": [
       "<div>\n",
       "<table border=\"1\" class=\"dataframe\">\n",
       "  <thead>\n",
       "    <tr style=\"text-align: right;\">\n",
       "      <th></th>\n",
       "      <th>_id</th>\n",
       "      <th>ltable.id</th>\n",
       "      <th>rtable.id</th>\n",
       "      <th>ltable.authors</th>\n",
       "      <th>ltable.title</th>\n",
       "      <th>ltable.year</th>\n",
       "      <th>rtable.authors</th>\n",
       "      <th>rtable.title</th>\n",
       "      <th>rtable.year</th>\n",
       "    </tr>\n",
       "  </thead>\n",
       "  <tbody>\n",
       "    <tr>\n",
       "      <th>106</th>\n",
       "      <td>106</td>\n",
       "      <td>conf/sigmod/AbadiC02</td>\n",
       "      <td>564770</td>\n",
       "      <td>Daniel J. Abadi, Mitch Cherniack</td>\n",
       "      <td>Visual COKO: a debugger for query optimizer de...</td>\n",
       "      <td>2002</td>\n",
       "      <td>Daniel J. Abadi, Mitch Cherniack</td>\n",
       "      <td>Visual COKO: a debugger for query optimizer de...</td>\n",
       "      <td>2002</td>\n",
       "    </tr>\n",
       "    <tr>\n",
       "      <th>990</th>\n",
       "      <td>990</td>\n",
       "      <td>conf/sigmod/AbiteboulBCMM03</td>\n",
       "      <td>872821</td>\n",
       "      <td>Ioana Manolescu, Serge Abiteboul, Tova Milo, A...</td>\n",
       "      <td>Dynamic XML documents with distribution and re...</td>\n",
       "      <td>2003</td>\n",
       "      <td>Serge Abiteboul, Angela Bonifati, Grégory Cobé...</td>\n",
       "      <td>Dynamic XML documents with distribution and re...</td>\n",
       "      <td>2003</td>\n",
       "    </tr>\n",
       "    <tr>\n",
       "      <th>4048</th>\n",
       "      <td>4048</td>\n",
       "      <td>conf/sigmod/Aggarwal02</td>\n",
       "      <td>564743</td>\n",
       "      <td>Charu C. Aggarwal</td>\n",
       "      <td>Hierarchical subspace sampling: a unified fram...</td>\n",
       "      <td>2002</td>\n",
       "      <td>Charu C. Aggarwal</td>\n",
       "      <td>Hierarchical subspace sampling: a unified fram...</td>\n",
       "      <td>2002</td>\n",
       "    </tr>\n",
       "    <tr>\n",
       "      <th>5647</th>\n",
       "      <td>5647</td>\n",
       "      <td>conf/sigmod/AgrawalCD02</td>\n",
       "      <td>564782</td>\n",
       "      <td>Gautam Das, Sanjay Agrawal, Surajit Chaudhuri</td>\n",
       "      <td>DBXplorer: enabling keyword search over relati...</td>\n",
       "      <td>2002</td>\n",
       "      <td>Sanjay Agrawal, Surajit Chaudhuri, Gautam Das</td>\n",
       "      <td>DBXplorer: enabling keyword search over relati...</td>\n",
       "      <td>2002</td>\n",
       "    </tr>\n",
       "    <tr>\n",
       "      <th>7797</th>\n",
       "      <td>7797</td>\n",
       "      <td>conf/sigmod/AltinelLKMPLWB02</td>\n",
       "      <td>564765</td>\n",
       "      <td>Sailesh Krishnamurthy, C. Mohan, Larry Brown, ...</td>\n",
       "      <td>DBCache: database caching for web application ...</td>\n",
       "      <td>2002</td>\n",
       "      <td>Mehmet Altinel, Qiong Luo, Sailesh Krishnamurt...</td>\n",
       "      <td>DBCache: database caching for web application ...</td>\n",
       "      <td>2002</td>\n",
       "    </tr>\n",
       "  </tbody>\n",
       "</table>\n",
       "</div>"
      ],
      "text/plain": [
       "       _id                     ltable.id  rtable.id  \\\n",
       "106    106          conf/sigmod/AbadiC02     564770   \n",
       "990    990   conf/sigmod/AbiteboulBCMM03     872821   \n",
       "4048  4048        conf/sigmod/Aggarwal02     564743   \n",
       "5647  5647       conf/sigmod/AgrawalCD02     564782   \n",
       "7797  7797  conf/sigmod/AltinelLKMPLWB02     564765   \n",
       "\n",
       "                                         ltable.authors  \\\n",
       "106                    Daniel J. Abadi, Mitch Cherniack   \n",
       "990   Ioana Manolescu, Serge Abiteboul, Tova Milo, A...   \n",
       "4048                                  Charu C. Aggarwal   \n",
       "5647      Gautam Das, Sanjay Agrawal, Surajit Chaudhuri   \n",
       "7797  Sailesh Krishnamurthy, C. Mohan, Larry Brown, ...   \n",
       "\n",
       "                                           ltable.title  ltable.year  \\\n",
       "106   Visual COKO: a debugger for query optimizer de...         2002   \n",
       "990   Dynamic XML documents with distribution and re...         2003   \n",
       "4048  Hierarchical subspace sampling: a unified fram...         2002   \n",
       "5647  DBXplorer: enabling keyword search over relati...         2002   \n",
       "7797  DBCache: database caching for web application ...         2002   \n",
       "\n",
       "                                         rtable.authors  \\\n",
       "106                    Daniel J. Abadi, Mitch Cherniack   \n",
       "990   Serge Abiteboul, Angela Bonifati, Grégory Cobé...   \n",
       "4048                                  Charu C. Aggarwal   \n",
       "5647      Sanjay Agrawal, Surajit Chaudhuri, Gautam Das   \n",
       "7797  Mehmet Altinel, Qiong Luo, Sailesh Krishnamurt...   \n",
       "\n",
       "                                           rtable.title  rtable.year  \n",
       "106   Visual COKO: a debugger for query optimizer de...         2002  \n",
       "990   Dynamic XML documents with distribution and re...         2003  \n",
       "4048  Hierarchical subspace sampling: a unified fram...         2002  \n",
       "5647  DBXplorer: enabling keyword search over relati...         2002  \n",
       "7797  DBCache: database caching for web application ...         2002  "
      ]
     },
     "execution_count": 21,
     "metadata": {},
     "output_type": "execute_result"
    },
    {
     "name": "stdout",
     "output_type": "stream",
     "text": [
      "time: 19.3 ms\n"
     ]
    }
   ],
   "source": [
    "F.head()"
   ]
  },
  {
   "cell_type": "code",
   "execution_count": 18,
   "metadata": {
    "collapsed": false
   },
   "outputs": [
    {
     "data": {
      "text/html": [
       "<div>\n",
       "<table border=\"1\" class=\"dataframe\">\n",
       "  <thead>\n",
       "    <tr style=\"text-align: right;\">\n",
       "      <th></th>\n",
       "      <th>_id</th>\n",
       "      <th>ltable.id</th>\n",
       "      <th>rtable.id</th>\n",
       "      <th>ltable.authors</th>\n",
       "      <th>ltable.title</th>\n",
       "      <th>ltable.year</th>\n",
       "      <th>rtable.authors</th>\n",
       "      <th>rtable.title</th>\n",
       "      <th>rtable.year</th>\n",
       "    </tr>\n",
       "  </thead>\n",
       "  <tbody>\n",
       "    <tr>\n",
       "      <th>0</th>\n",
       "      <td>0</td>\n",
       "      <td>conf/sigmod/AbadiC02</td>\n",
       "      <td>191844</td>\n",
       "      <td>Daniel J. Abadi, Mitch Cherniack</td>\n",
       "      <td>Visual COKO: a debugger for query optimizer de...</td>\n",
       "      <td>2002</td>\n",
       "      <td>Daniel Barbará, Tomasz Imieliński</td>\n",
       "      <td>Sleepers and workaholics: caching strategies i...</td>\n",
       "      <td>1994</td>\n",
       "    </tr>\n",
       "    <tr>\n",
       "      <th>1</th>\n",
       "      <td>1</td>\n",
       "      <td>conf/sigmod/AbadiC02</td>\n",
       "      <td>191882</td>\n",
       "      <td>Daniel J. Abadi, Mitch Cherniack</td>\n",
       "      <td>Visual COKO: a debugger for query optimizer de...</td>\n",
       "      <td>2002</td>\n",
       "      <td>Hwee Hwa Pang, Michael J. Carey, Miron Livny</td>\n",
       "      <td>Managing memory for real-time queries</td>\n",
       "      <td>1994</td>\n",
       "    </tr>\n",
       "    <tr>\n",
       "      <th>2</th>\n",
       "      <td>2</td>\n",
       "      <td>conf/sigmod/AbadiC02</td>\n",
       "      <td>191886</td>\n",
       "      <td>Daniel J. Abadi, Mitch Cherniack</td>\n",
       "      <td>Visual COKO: a debugger for query optimizer de...</td>\n",
       "      <td>2002</td>\n",
       "      <td>Jim Gray, Prakash Sundaresan, Susanne Englert,...</td>\n",
       "      <td>Quickly generating billion-record synthetic da...</td>\n",
       "      <td>1994</td>\n",
       "    </tr>\n",
       "    <tr>\n",
       "      <th>3</th>\n",
       "      <td>3</td>\n",
       "      <td>conf/sigmod/AbadiC02</td>\n",
       "      <td>191893</td>\n",
       "      <td>Daniel J. Abadi, Mitch Cherniack</td>\n",
       "      <td>Visual COKO: a debugger for query optimizer de...</td>\n",
       "      <td>2002</td>\n",
       "      <td>Hasanat M. Dewan, Salvatore J. Stolfo, Maurici...</td>\n",
       "      <td>Predictive dynamic load balancing of parallel ...</td>\n",
       "      <td>1994</td>\n",
       "    </tr>\n",
       "    <tr>\n",
       "      <th>4</th>\n",
       "      <td>4</td>\n",
       "      <td>conf/sigmod/AbadiC02</td>\n",
       "      <td>191911</td>\n",
       "      <td>Daniel J. Abadi, Mitch Cherniack</td>\n",
       "      <td>Visual COKO: a debugger for query optimizer de...</td>\n",
       "      <td>2002</td>\n",
       "      <td>Michael J. Carey, Michael J. Franklin, Markos ...</td>\n",
       "      <td>Fine-grained sharing in a page server OODBMS</td>\n",
       "      <td>1994</td>\n",
       "    </tr>\n",
       "  </tbody>\n",
       "</table>\n",
       "</div>"
      ],
      "text/plain": [
       "   _id             ltable.id  rtable.id                    ltable.authors  \\\n",
       "0    0  conf/sigmod/AbadiC02     191844  Daniel J. Abadi, Mitch Cherniack   \n",
       "1    1  conf/sigmod/AbadiC02     191882  Daniel J. Abadi, Mitch Cherniack   \n",
       "2    2  conf/sigmod/AbadiC02     191886  Daniel J. Abadi, Mitch Cherniack   \n",
       "3    3  conf/sigmod/AbadiC02     191893  Daniel J. Abadi, Mitch Cherniack   \n",
       "4    4  conf/sigmod/AbadiC02     191911  Daniel J. Abadi, Mitch Cherniack   \n",
       "\n",
       "                                        ltable.title  ltable.year  \\\n",
       "0  Visual COKO: a debugger for query optimizer de...         2002   \n",
       "1  Visual COKO: a debugger for query optimizer de...         2002   \n",
       "2  Visual COKO: a debugger for query optimizer de...         2002   \n",
       "3  Visual COKO: a debugger for query optimizer de...         2002   \n",
       "4  Visual COKO: a debugger for query optimizer de...         2002   \n",
       "\n",
       "                                      rtable.authors  \\\n",
       "0                  Daniel Barbará, Tomasz Imieliński   \n",
       "1       Hwee Hwa Pang, Michael J. Carey, Miron Livny   \n",
       "2  Jim Gray, Prakash Sundaresan, Susanne Englert,...   \n",
       "3  Hasanat M. Dewan, Salvatore J. Stolfo, Maurici...   \n",
       "4  Michael J. Carey, Michael J. Franklin, Markos ...   \n",
       "\n",
       "                                        rtable.title  rtable.year  \n",
       "0  Sleepers and workaholics: caching strategies i...         1994  \n",
       "1              Managing memory for real-time queries         1994  \n",
       "2  Quickly generating billion-record synthetic da...         1994  \n",
       "3  Predictive dynamic load balancing of parallel ...         1994  \n",
       "4       Fine-grained sharing in a page server OODBMS         1994  "
      ]
     },
     "execution_count": 18,
     "metadata": {},
     "output_type": "execute_result"
    },
    {
     "name": "stdout",
     "output_type": "stream",
     "text": [
      "time: 32.3 ms\n"
     ]
    }
   ],
   "source": [
    "E1.head()"
   ]
  }
 ],
 "metadata": {
  "kernelspec": {
   "display_name": "Python 2",
   "language": "python",
   "name": "python2"
  },
  "language_info": {
   "codemirror_mode": {
    "name": "ipython",
    "version": 2
   },
   "file_extension": ".py",
   "mimetype": "text/x-python",
   "name": "python",
   "nbconvert_exporter": "python",
   "pygments_lexer": "ipython2",
   "version": "2.7.10"
  }
 },
 "nbformat": 4,
 "nbformat_minor": 0
}
