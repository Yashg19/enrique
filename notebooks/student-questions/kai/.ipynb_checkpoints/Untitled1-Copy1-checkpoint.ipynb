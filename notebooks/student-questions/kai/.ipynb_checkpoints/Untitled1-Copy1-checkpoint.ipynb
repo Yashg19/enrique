{
 "cells": [
  {
   "cell_type": "code",
   "execution_count": 149,
   "metadata": {
    "collapsed": false
   },
   "outputs": [],
   "source": [
    "import magellan as mg\n",
    "import numpy as np\n",
    "import pandas as pd"
   ]
  },
  {
   "cell_type": "code",
   "execution_count": 108,
   "metadata": {
    "collapsed": true
   },
   "outputs": [],
   "source": [
    "# read in csv files\n",
    "A= mg.read_csv('tableA.csv',key='id')\n",
    "B= mg.read_csv('tableB.csv',key='id')"
   ]
  },
  {
   "cell_type": "code",
   "execution_count": 200,
   "metadata": {
    "collapsed": false
   },
   "outputs": [],
   "source": [
    "# get attribute list\n",
    "attr_A= list(A.get_attr_names())\n",
    "attr_B= list(B.get_attr_names())"
   ]
  },
  {
   "cell_type": "code",
   "execution_count": 201,
   "metadata": {
    "collapsed": false
   },
   "outputs": [],
   "source": [
    "# partition table into 2 based on whether attributes have NaN value\n",
    "# return 2 tables in mg.MTable format\n",
    "def partitionTable(table,attr):\n",
    "    if type(table[attr][0]) != str:\n",
    "        t1= table[~np.isnan(table[attr])]\n",
    "        t2= table[np.isnan(table[attr])]\n",
    "    else:\n",
    "        t1= table[table[attr]!='']\n",
    "        t2= table[table[attr]=='']        \n",
    "    t1= mg.MTable(t1,key='id')\n",
    "    t2= mg.MTable(t2,key='id')\n",
    "    return t1, t2"
   ]
  },
  {
   "cell_type": "code",
   "execution_count": 207,
   "metadata": {
    "collapsed": false
   },
   "outputs": [],
   "source": [
    "# get partitioned table A based on zipcode\n",
    "# A1 is the table with zipcode\n",
    "# A2 is the table without zipcode\n",
    "A1, A2= partitionTable(A,attr_A[5])"
   ]
  },
  {
   "cell_type": "code",
   "execution_count": 218,
   "metadata": {
    "collapsed": false
   },
   "outputs": [],
   "source": [
    "# Attribute equivalence blocking: block A1 and B using zipcode\n",
    "ab = mg.AttrEquivalenceBlocker()\n",
    "C1 = ab.block_tables(A1, B, attr_A[5], attr_B[5],\n",
    "                    l_output_attrs=[attr_A[1],attr_A[2],attr_A[3],attr_A[4],attr_A[5]],\n",
    "                    r_output_attrs=[attr_B[1],attr_B[2],attr_B[3],attr_B[4],attr_B[5]])"
   ]
  },
  {
   "cell_type": "code",
   "execution_count": 219,
   "metadata": {
    "collapsed": false
   },
   "outputs": [],
   "source": [
    "# Attribute equivalence blocking: block A2 and B using city\n",
    "ab = mg.AttrEquivalenceBlocker()\n",
    "C2 = ab.block_tables(A2, B, attr_A[3], attr_B[3],\n",
    "                    l_output_attrs=[attr_A[1],attr_A[2],attr_A[3],attr_A[4]],\n",
    "                    r_output_attrs=[attr_B[1],attr_B[2],attr_B[3],attr_B[4]])"
   ]
  },
  {
   "cell_type": "code",
   "execution_count": 227,
   "metadata": {
    "collapsed": false
   },
   "outputs": [
    {
     "ename": "AssertionError",
     "evalue": "Candidate set list contains different left tables",
     "output_type": "error",
     "traceback": [
      "\u001b[0;31m---------------------------------------------------------------------------\u001b[0m",
      "\u001b[0;31mAssertionError\u001b[0m                            Traceback (most recent call last)",
      "\u001b[0;32m<ipython-input-227-112a4696a9ce>\u001b[0m in \u001b[0;36m<module>\u001b[0;34m()\u001b[0m\n\u001b[1;32m      1\u001b[0m \u001b[0;31m# union tables C1 and C2 to C3\u001b[0m\u001b[0;34m\u001b[0m\u001b[0;34m\u001b[0m\u001b[0m\n\u001b[0;32m----> 2\u001b[0;31m \u001b[0mC3\u001b[0m\u001b[0;34m=\u001b[0m \u001b[0mmg\u001b[0m\u001b[0;34m.\u001b[0m\u001b[0mcombine_block_outputs_via_union\u001b[0m\u001b[0;34m(\u001b[0m\u001b[0;34m[\u001b[0m\u001b[0mC1\u001b[0m\u001b[0;34m,\u001b[0m\u001b[0mC2\u001b[0m\u001b[0;34m]\u001b[0m\u001b[0;34m)\u001b[0m\u001b[0;34m\u001b[0m\u001b[0m\n\u001b[0m",
      "\u001b[0;32m/Users/clarence/anaconda/lib/python2.7/site-packages/Magellan-0.1-py2.7.egg/magellan/blockercombiner/blockercombiner.pyc\u001b[0m in \u001b[0;36mcombine_block_outputs_via_union\u001b[0;34m(blocker_output_list)\u001b[0m\n\u001b[1;32m     25\u001b[0m     \u001b[0;34m*\u001b[0m \u001b[0munion\u001b[0m \u001b[0mof\u001b[0m \u001b[0mnon\u001b[0m\u001b[0;34m-\u001b[0m\u001b[0mid\u001b[0m \u001b[0mattributes\u001b[0m \u001b[0;32mfrom\u001b[0m \u001b[0meach\u001b[0m \u001b[0mof\u001b[0m \u001b[0mblocker\u001b[0m \u001b[0moutput\u001b[0m\u001b[0;34m\u001b[0m\u001b[0m\n\u001b[1;32m     26\u001b[0m     \"\"\"\n\u001b[0;32m---> 27\u001b[0;31m     \u001b[0mltable\u001b[0m\u001b[0;34m,\u001b[0m \u001b[0mrtable\u001b[0m \u001b[0;34m=\u001b[0m \u001b[0mlr_tables\u001b[0m\u001b[0;34m(\u001b[0m\u001b[0mblocker_output_list\u001b[0m\u001b[0;34m)\u001b[0m\u001b[0;34m\u001b[0m\u001b[0m\n\u001b[0m\u001b[1;32m     28\u001b[0m     \u001b[0;31m# get the attribute names in blocker output that represents ltable, rtable\u001b[0m\u001b[0;34m\u001b[0m\u001b[0;34m\u001b[0m\u001b[0m\n\u001b[1;32m     29\u001b[0m     \u001b[0ml_key\u001b[0m \u001b[0;34m=\u001b[0m \u001b[0;34m'ltable.'\u001b[0m \u001b[0;34m+\u001b[0m \u001b[0mltable\u001b[0m\u001b[0;34m.\u001b[0m\u001b[0mget_key\u001b[0m\u001b[0;34m(\u001b[0m\u001b[0;34m)\u001b[0m\u001b[0;34m\u001b[0m\u001b[0m\n",
      "\u001b[0;32m/Users/clarence/anaconda/lib/python2.7/site-packages/Magellan-0.1-py2.7.egg/magellan/blockercombiner/blockercombiner.pyc\u001b[0m in \u001b[0;36mlr_tables\u001b[0;34m(blocker_output_list)\u001b[0m\n\u001b[1;32m     75\u001b[0m     \u001b[0mid_l\u001b[0m \u001b[0;34m=\u001b[0m \u001b[0mset\u001b[0m\u001b[0;34m(\u001b[0m\u001b[0mid_l\u001b[0m\u001b[0;34m)\u001b[0m\u001b[0;34m\u001b[0m\u001b[0m\n\u001b[1;32m     76\u001b[0m     \u001b[0;31m# check its length is 1 == all the ltables are same\u001b[0m\u001b[0;34m\u001b[0m\u001b[0;34m\u001b[0m\u001b[0m\n\u001b[0;32m---> 77\u001b[0;31m     \u001b[0;32massert\u001b[0m \u001b[0mlen\u001b[0m\u001b[0;34m(\u001b[0m\u001b[0mid_l\u001b[0m\u001b[0;34m)\u001b[0m \u001b[0;32mis\u001b[0m \u001b[0;36m1\u001b[0m\u001b[0;34m,\u001b[0m \u001b[0;34m'Candidate set list contains different left tables'\u001b[0m\u001b[0;34m\u001b[0m\u001b[0m\n\u001b[0m\u001b[1;32m     78\u001b[0m     \u001b[0;31m# do the same for rtable\u001b[0m\u001b[0;34m\u001b[0m\u001b[0;34m\u001b[0m\u001b[0m\n\u001b[1;32m     79\u001b[0m     \u001b[0mid_r\u001b[0m \u001b[0;34m=\u001b[0m \u001b[0;34m[\u001b[0m\u001b[0mid\u001b[0m\u001b[0;34m(\u001b[0m\u001b[0mc\u001b[0m\u001b[0;34m.\u001b[0m\u001b[0mget_property\u001b[0m\u001b[0;34m(\u001b[0m\u001b[0;34m'rtable'\u001b[0m\u001b[0;34m)\u001b[0m\u001b[0;34m)\u001b[0m \u001b[0;32mfor\u001b[0m \u001b[0mc\u001b[0m \u001b[0;32min\u001b[0m \u001b[0mblocker_output_list\u001b[0m\u001b[0;34m]\u001b[0m\u001b[0;34m\u001b[0m\u001b[0m\n",
      "\u001b[0;31mAssertionError\u001b[0m: Candidate set list contains different left tables"
     ]
    }
   ],
   "source": [
    "# union tables C1 and C2 to C3\n",
    "# The following is a hack -- this will work because A1 and A2 are strict subsets of A.\n",
    "# set ltable to be A for C1 and C2\n",
    "C1.set_property('ltable', A)\n",
    "C2.set_prop\n",
    "\n",
    "\n",
    "\n",
    "C3= mg.combine_block_outputs_via_union([C1,C2])\n"
   ]
  },
  {
   "cell_type": "code",
   "execution_count": null,
   "metadata": {
    "collapsed": false
   },
   "outputs": [],
   "source": []
  },
  {
   "cell_type": "code",
   "execution_count": null,
   "metadata": {
    "collapsed": false
   },
   "outputs": [],
   "source": []
  },
  {
   "cell_type": "code",
   "execution_count": null,
   "metadata": {
    "collapsed": true
   },
   "outputs": [],
   "source": []
  }
 ],
 "metadata": {
  "kernelspec": {
   "display_name": "Python 2",
   "language": "python",
   "name": "python2"
  },
  "language_info": {
   "codemirror_mode": {
    "name": "ipython",
    "version": 2
   },
   "file_extension": ".py",
   "mimetype": "text/x-python",
   "name": "python",
   "nbconvert_exporter": "python",
   "pygments_lexer": "ipython2",
   "version": "2.7.10"
  }
 },
 "nbformat": 4,
 "nbformat_minor": 0
}
