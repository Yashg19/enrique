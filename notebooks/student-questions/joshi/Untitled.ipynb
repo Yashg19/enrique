{
 "cells": [
  {
   "cell_type": "code",
   "execution_count": 1,
   "metadata": {
    "collapsed": true
   },
   "outputs": [],
   "source": [
    "%load_ext autotime"
   ]
  },
  {
   "cell_type": "code",
   "execution_count": 3,
   "metadata": {
    "collapsed": false
   },
   "outputs": [
    {
     "name": "stdout",
     "output_type": "stream",
     "text": [
      "time: 1.2 ms\n"
     ]
    }
   ],
   "source": [
    "import sys\n",
    "sys.path.append('/Users/pradap/Documents/Research/Python-Package/enrique/')"
   ]
  },
  {
   "cell_type": "code",
   "execution_count": 4,
   "metadata": {
    "collapsed": false
   },
   "outputs": [
    {
     "name": "stderr",
     "output_type": "stream",
     "text": [
      "DEBUG:Cloud:Log file (/Users/pradap/.picloud/cloud.log) opened\n",
      "DEBUG:Cloud:Deleting 1003.lock (7.00039973211 days old)\n",
      "DEBUG:Cloud:Deleting 1003.log (7.00039973211 days old)\n",
      "DEBUG:Cloud:Deleting 926.lock (7.00653399137 days old)\n",
      "DEBUG:Cloud:Deleting 926.log (7.00653399137 days old)\n",
      "DEBUG:Cloud:Deleting 951.lock (7.0048210284 days old)\n",
      "DEBUG:Cloud:Deleting 951.log (7.0048210284 days old)\n",
      "DEBUG:Cloud:Deleting 984.lock (7.00068908396 days old)\n",
      "DEBUG:Cloud:Deleting 984.log (7.00068908396 days old)\n"
     ]
    },
    {
     "name": "stdout",
     "output_type": "stream",
     "text": [
      "time: 1.72 s\n"
     ]
    }
   ],
   "source": [
    "import magellan as mg"
   ]
  },
  {
   "cell_type": "code",
   "execution_count": 33,
   "metadata": {
    "collapsed": false
   },
   "outputs": [
    {
     "name": "stdout",
     "output_type": "stream",
     "text": [
      "time: 40.9 ms\n"
     ]
    }
   ],
   "source": [
    "A = mg.read_csv('anime-planet.csv', key = 'ID', dtype={'Year':pd.np.str})"
   ]
  },
  {
   "cell_type": "code",
   "execution_count": 34,
   "metadata": {
    "collapsed": false
   },
   "outputs": [
    {
     "name": "stdout",
     "output_type": "stream",
     "text": [
      "time: 32.3 ms\n"
     ]
    }
   ],
   "source": [
    "B = mg.read_csv('myanimelist.csv', key = 'ID')"
   ]
  },
  {
   "cell_type": "code",
   "execution_count": 35,
   "metadata": {
    "collapsed": false
   },
   "outputs": [
    {
     "data": {
      "text/html": [
       "<div>\n",
       "<table border=\"1\" class=\"dataframe\">\n",
       "  <thead>\n",
       "    <tr style=\"text-align: right;\">\n",
       "      <th></th>\n",
       "      <th>ID</th>\n",
       "      <th>Title</th>\n",
       "      <th>Episodes</th>\n",
       "      <th>Producers</th>\n",
       "      <th>Genres</th>\n",
       "      <th>Type</th>\n",
       "      <th>Year</th>\n",
       "      <th>Rating</th>\n",
       "    </tr>\n",
       "  </thead>\n",
       "  <tbody>\n",
       "    <tr>\n",
       "      <th>0</th>\n",
       "      <td>0</td>\n",
       "      <td>Kidou Senshi Gundam 00 Second Season</td>\n",
       "      <td>25</td>\n",
       "      <td>Sunrise</td>\n",
       "      <td>['Futuristic', 'Mecha', 'Sci Fi']</td>\n",
       "      <td>TV</td>\n",
       "      <td>2008</td>\n",
       "      <td>4.39</td>\n",
       "    </tr>\n",
       "    <tr>\n",
       "      <th>1</th>\n",
       "      <td>1</td>\n",
       "      <td>Gundam 00 Second Season</td>\n",
       "      <td>25</td>\n",
       "      <td>Sunrise</td>\n",
       "      <td>['Futuristic', 'Mecha', 'Sci Fi']</td>\n",
       "      <td>TV</td>\n",
       "      <td>2008</td>\n",
       "      <td>4.39</td>\n",
       "    </tr>\n",
       "    <tr>\n",
       "      <th>2</th>\n",
       "      <td>2</td>\n",
       "      <td>Mobile Suit Gundam 00 Second Season</td>\n",
       "      <td>25</td>\n",
       "      <td>Sunrise</td>\n",
       "      <td>['Futuristic', 'Mecha', 'Sci Fi']</td>\n",
       "      <td>TV</td>\n",
       "      <td>2008</td>\n",
       "      <td>4.39</td>\n",
       "    </tr>\n",
       "    <tr>\n",
       "      <th>3</th>\n",
       "      <td>3</td>\n",
       "      <td>One Outs</td>\n",
       "      <td>25</td>\n",
       "      <td>MADHOUSE</td>\n",
       "      <td>['Baseball', 'Based on a Manga', 'High Stakes ...</td>\n",
       "      <td>TV</td>\n",
       "      <td>2008</td>\n",
       "      <td>4.39</td>\n",
       "    </tr>\n",
       "    <tr>\n",
       "      <th>4</th>\n",
       "      <td>4</td>\n",
       "      <td>Kara no Kyoukai Movie 4: Garan no Dou</td>\n",
       "      <td>1</td>\n",
       "      <td>ufotable</td>\n",
       "      <td>['Based on a Light Novel', 'Mystery', 'Superna...</td>\n",
       "      <td>Movie</td>\n",
       "      <td>2008</td>\n",
       "      <td>4.38</td>\n",
       "    </tr>\n",
       "  </tbody>\n",
       "</table>\n",
       "</div>"
      ],
      "text/plain": [
       "   ID                                  Title Episodes Producers  \\\n",
       "0   0   Kidou Senshi Gundam 00 Second Season       25   Sunrise   \n",
       "1   1                Gundam 00 Second Season       25   Sunrise   \n",
       "2   2    Mobile Suit Gundam 00 Second Season       25   Sunrise   \n",
       "3   3                               One Outs       25  MADHOUSE   \n",
       "4   4  Kara no Kyoukai Movie 4: Garan no Dou        1  ufotable   \n",
       "\n",
       "                                              Genres   Type  Year  Rating  \n",
       "0                  ['Futuristic', 'Mecha', 'Sci Fi']     TV  2008    4.39  \n",
       "1                  ['Futuristic', 'Mecha', 'Sci Fi']     TV  2008    4.39  \n",
       "2                  ['Futuristic', 'Mecha', 'Sci Fi']     TV  2008    4.39  \n",
       "3  ['Baseball', 'Based on a Manga', 'High Stakes ...     TV  2008    4.39  \n",
       "4  ['Based on a Light Novel', 'Mystery', 'Superna...  Movie  2008    4.38  "
      ]
     },
     "execution_count": 35,
     "metadata": {},
     "output_type": "execute_result"
    },
    {
     "name": "stdout",
     "output_type": "stream",
     "text": [
      "time: 14.2 ms\n"
     ]
    }
   ],
   "source": [
    "A.head()"
   ]
  },
  {
   "cell_type": "code",
   "execution_count": 36,
   "metadata": {
    "collapsed": false
   },
   "outputs": [
    {
     "data": {
      "text/html": [
       "<div>\n",
       "<table border=\"1\" class=\"dataframe\">\n",
       "  <thead>\n",
       "    <tr style=\"text-align: right;\">\n",
       "      <th></th>\n",
       "      <th>ID</th>\n",
       "      <th>Title</th>\n",
       "      <th>Episodes</th>\n",
       "      <th>Producers</th>\n",
       "      <th>Genres</th>\n",
       "      <th>Type</th>\n",
       "      <th>Year</th>\n",
       "      <th>Rating</th>\n",
       "    </tr>\n",
       "  </thead>\n",
       "  <tbody>\n",
       "    <tr>\n",
       "      <th>0</th>\n",
       "      <td>0</td>\n",
       "      <td>Detective Conan Movie 04: Captured in Her Eyes</td>\n",
       "      <td>1</td>\n",
       "      <td>['TMS Entertainment', 'FUNimation Entertainmen...</td>\n",
       "      <td>['Adventure', 'Comedy', 'Mystery', 'Police', '...</td>\n",
       "      <td>Movie</td>\n",
       "      <td>2000</td>\n",
       "      <td>8.19</td>\n",
       "    </tr>\n",
       "    <tr>\n",
       "      <th>1</th>\n",
       "      <td>1</td>\n",
       "      <td>Hidamari Sketch: Sae Hiro Sotsugyou-hen</td>\n",
       "      <td>2</td>\n",
       "      <td>['Shaft']</td>\n",
       "      <td>['Comedy', 'School', 'Slice of Life']</td>\n",
       "      <td>OVA</td>\n",
       "      <td>2013</td>\n",
       "      <td>8.20</td>\n",
       "    </tr>\n",
       "    <tr>\n",
       "      <th>2</th>\n",
       "      <td>2</td>\n",
       "      <td>Toaru Kagaku no Railgun S</td>\n",
       "      <td>24</td>\n",
       "      <td>['J.C.Staff', 'Geneon Universal Entertainment'...</td>\n",
       "      <td>['Action', 'Fantasy', 'Sci-Fi', 'Super Power']</td>\n",
       "      <td>TV</td>\n",
       "      <td>2013</td>\n",
       "      <td>8.21</td>\n",
       "    </tr>\n",
       "    <tr>\n",
       "      <th>3</th>\n",
       "      <td>3</td>\n",
       "      <td>Tamako Love Story</td>\n",
       "      <td>1</td>\n",
       "      <td>['Kyoto Animation']</td>\n",
       "      <td>['Comedy', 'Romance', 'Slice of Life']</td>\n",
       "      <td>Movie</td>\n",
       "      <td>2014</td>\n",
       "      <td>8.21</td>\n",
       "    </tr>\n",
       "    <tr>\n",
       "      <th>4</th>\n",
       "      <td>4</td>\n",
       "      <td>Working!!!</td>\n",
       "      <td>13</td>\n",
       "      <td>['Aniplex', 'A-1 Pictures', 'Aniplex of America']</td>\n",
       "      <td>['Comedy', 'Slice of Life']</td>\n",
       "      <td>TV</td>\n",
       "      <td>2015</td>\n",
       "      <td>8.21</td>\n",
       "    </tr>\n",
       "  </tbody>\n",
       "</table>\n",
       "</div>"
      ],
      "text/plain": [
       "   ID                                           Title Episodes  \\\n",
       "0   0  Detective Conan Movie 04: Captured in Her Eyes        1   \n",
       "1   1         Hidamari Sketch: Sae Hiro Sotsugyou-hen        2   \n",
       "2   2                       Toaru Kagaku no Railgun S       24   \n",
       "3   3                               Tamako Love Story        1   \n",
       "4   4                                      Working!!!       13   \n",
       "\n",
       "                                           Producers  \\\n",
       "0  ['TMS Entertainment', 'FUNimation Entertainmen...   \n",
       "1                                          ['Shaft']   \n",
       "2  ['J.C.Staff', 'Geneon Universal Entertainment'...   \n",
       "3                                ['Kyoto Animation']   \n",
       "4  ['Aniplex', 'A-1 Pictures', 'Aniplex of America']   \n",
       "\n",
       "                                              Genres    Type  Year  Rating  \n",
       "0  ['Adventure', 'Comedy', 'Mystery', 'Police', '...   Movie  2000    8.19  \n",
       "1              ['Comedy', 'School', 'Slice of Life']     OVA  2013    8.20  \n",
       "2     ['Action', 'Fantasy', 'Sci-Fi', 'Super Power']      TV  2013    8.21  \n",
       "3             ['Comedy', 'Romance', 'Slice of Life']   Movie  2014    8.21  \n",
       "4                        ['Comedy', 'Slice of Life']      TV  2015    8.21  "
      ]
     },
     "execution_count": 36,
     "metadata": {},
     "output_type": "execute_result"
    },
    {
     "name": "stdout",
     "output_type": "stream",
     "text": [
      "time: 17.2 ms\n"
     ]
    }
   ],
   "source": [
    "B.head()"
   ]
  },
  {
   "cell_type": "code",
   "execution_count": 37,
   "metadata": {
    "collapsed": false
   },
   "outputs": [
    {
     "name": "stdout",
     "output_type": "stream",
     "text": [
      "time: 1.01 ms\n"
     ]
    }
   ],
   "source": [
    "ab = mg.AttrEquivalenceBlocker()"
   ]
  },
  {
   "cell_type": "code",
   "execution_count": 38,
   "metadata": {
    "collapsed": false
   },
   "outputs": [
    {
     "name": "stdout",
     "output_type": "stream",
     "text": [
      "time: 3.43 s\n"
     ]
    }
   ],
   "source": [
    "C = ab.block_tables(A, B, l_block_attr = 'Year',\n",
    "                    r_block_attr = 'Year', \n",
    "                    l_output_attrs = ['Title','Year'], \n",
    "                    r_output_attrs = ['Title','Year'])"
   ]
  },
  {
   "cell_type": "code",
   "execution_count": 39,
   "metadata": {
    "collapsed": false
   },
   "outputs": [
    {
     "data": {
      "text/html": [
       "<div>\n",
       "<table border=\"1\" class=\"dataframe\">\n",
       "  <thead>\n",
       "    <tr style=\"text-align: right;\">\n",
       "      <th></th>\n",
       "      <th>_id</th>\n",
       "      <th>ltable.ID</th>\n",
       "      <th>rtable.ID</th>\n",
       "      <th>ltable.Title</th>\n",
       "      <th>ltable.Year</th>\n",
       "      <th>rtable.Title</th>\n",
       "      <th>rtable.Year</th>\n",
       "    </tr>\n",
       "  </thead>\n",
       "  <tbody>\n",
       "    <tr>\n",
       "      <th>0</th>\n",
       "      <td>0</td>\n",
       "      <td>0</td>\n",
       "      <td>10</td>\n",
       "      <td>Kidou Senshi Gundam 00 Second Season</td>\n",
       "      <td>2008</td>\n",
       "      <td>Prince of Tennis: The National Tournament Finals</td>\n",
       "      <td>2008</td>\n",
       "    </tr>\n",
       "    <tr>\n",
       "      <th>1</th>\n",
       "      <td>1</td>\n",
       "      <td>0</td>\n",
       "      <td>13</td>\n",
       "      <td>Kidou Senshi Gundam 00 Second Season</td>\n",
       "      <td>2008</td>\n",
       "      <td>Clannad: Mou Hitotsu no Sekai, Tomoyo-hen</td>\n",
       "      <td>2008</td>\n",
       "    </tr>\n",
       "    <tr>\n",
       "      <th>2</th>\n",
       "      <td>2</td>\n",
       "      <td>0</td>\n",
       "      <td>18</td>\n",
       "      <td>Kidou Senshi Gundam 00 Second Season</td>\n",
       "      <td>2008</td>\n",
       "      <td>Major: Yuujou no Ikkyuu</td>\n",
       "      <td>2008</td>\n",
       "    </tr>\n",
       "    <tr>\n",
       "      <th>3</th>\n",
       "      <td>3</td>\n",
       "      <td>0</td>\n",
       "      <td>34</td>\n",
       "      <td>Kidou Senshi Gundam 00 Second Season</td>\n",
       "      <td>2008</td>\n",
       "      <td>Junjou Romantica</td>\n",
       "      <td>2008</td>\n",
       "    </tr>\n",
       "    <tr>\n",
       "      <th>4</th>\n",
       "      <td>4</td>\n",
       "      <td>0</td>\n",
       "      <td>51</td>\n",
       "      <td>Kidou Senshi Gundam 00 Second Season</td>\n",
       "      <td>2008</td>\n",
       "      <td>Junjou Romantica 2</td>\n",
       "      <td>2008</td>\n",
       "    </tr>\n",
       "  </tbody>\n",
       "</table>\n",
       "</div>"
      ],
      "text/plain": [
       "   _id  ltable.ID  rtable.ID                          ltable.Title  \\\n",
       "0    0          0         10  Kidou Senshi Gundam 00 Second Season   \n",
       "1    1          0         13  Kidou Senshi Gundam 00 Second Season   \n",
       "2    2          0         18  Kidou Senshi Gundam 00 Second Season   \n",
       "3    3          0         34  Kidou Senshi Gundam 00 Second Season   \n",
       "4    4          0         51  Kidou Senshi Gundam 00 Second Season   \n",
       "\n",
       "  ltable.Year                                      rtable.Title rtable.Year  \n",
       "0        2008  Prince of Tennis: The National Tournament Finals        2008  \n",
       "1        2008         Clannad: Mou Hitotsu no Sekai, Tomoyo-hen        2008  \n",
       "2        2008                           Major: Yuujou no Ikkyuu        2008  \n",
       "3        2008                                  Junjou Romantica        2008  \n",
       "4        2008                                Junjou Romantica 2        2008  "
      ]
     },
     "execution_count": 39,
     "metadata": {},
     "output_type": "execute_result"
    },
    {
     "name": "stdout",
     "output_type": "stream",
     "text": [
      "time: 70.3 ms\n"
     ]
    }
   ],
   "source": [
    "C.head()"
   ]
  },
  {
   "cell_type": "code",
   "execution_count": 40,
   "metadata": {
    "collapsed": false
   },
   "outputs": [
    {
     "data": {
      "text/plain": [
       "1528003"
      ]
     },
     "execution_count": 40,
     "metadata": {},
     "output_type": "execute_result"
    },
    {
     "name": "stdout",
     "output_type": "stream",
     "text": [
      "time: 1.75 ms\n"
     ]
    }
   ],
   "source": [
    "len(C)"
   ]
  },
  {
   "cell_type": "code",
   "execution_count": 45,
   "metadata": {
    "collapsed": false
   },
   "outputs": [
    {
     "name": "stderr",
     "output_type": "stream",
     "text": [
      "0%                          100%\n",
      "[##############################] | ETA[sec]: 0.000 "
     ]
    },
    {
     "name": "stdout",
     "output_type": "stream",
     "text": [
      "time: 2min 19s\n"
     ]
    },
    {
     "name": "stderr",
     "output_type": "stream",
     "text": [
      "\n",
      "Total time elapsed: 138.315 sec\n"
     ]
    }
   ],
   "source": [
    "D = ab.block_candset(C, 'Episodes', 'Episodes')"
   ]
  },
  {
   "cell_type": "code",
   "execution_count": 46,
   "metadata": {
    "collapsed": false
   },
   "outputs": [
    {
     "data": {
      "text/html": [
       "<div>\n",
       "<table border=\"1\" class=\"dataframe\">\n",
       "  <thead>\n",
       "    <tr style=\"text-align: right;\">\n",
       "      <th></th>\n",
       "      <th>_id</th>\n",
       "      <th>ltable.ID</th>\n",
       "      <th>rtable.ID</th>\n",
       "      <th>ltable.Title</th>\n",
       "      <th>ltable.Year</th>\n",
       "      <th>rtable.Title</th>\n",
       "      <th>rtable.Year</th>\n",
       "    </tr>\n",
       "  </thead>\n",
       "  <tbody>\n",
       "    <tr>\n",
       "      <th>13</th>\n",
       "      <td>13</td>\n",
       "      <td>0</td>\n",
       "      <td>205</td>\n",
       "      <td>Kidou Senshi Gundam 00 Second Season</td>\n",
       "      <td>2008</td>\n",
       "      <td>Toradora!</td>\n",
       "      <td>2008</td>\n",
       "    </tr>\n",
       "    <tr>\n",
       "      <th>15</th>\n",
       "      <td>15</td>\n",
       "      <td>0</td>\n",
       "      <td>238</td>\n",
       "      <td>Kidou Senshi Gundam 00 Second Season</td>\n",
       "      <td>2008</td>\n",
       "      <td>One Outs</td>\n",
       "      <td>2008</td>\n",
       "    </tr>\n",
       "    <tr>\n",
       "      <th>21</th>\n",
       "      <td>21</td>\n",
       "      <td>0</td>\n",
       "      <td>301</td>\n",
       "      <td>Kidou Senshi Gundam 00 Second Season</td>\n",
       "      <td>2008</td>\n",
       "      <td>Skip Beat!</td>\n",
       "      <td>2008</td>\n",
       "    </tr>\n",
       "    <tr>\n",
       "      <th>22</th>\n",
       "      <td>22</td>\n",
       "      <td>0</td>\n",
       "      <td>307</td>\n",
       "      <td>Kidou Senshi Gundam 00 Second Season</td>\n",
       "      <td>2008</td>\n",
       "      <td>Code Geass: Hangyaku no Lelouch R2</td>\n",
       "      <td>2008</td>\n",
       "    </tr>\n",
       "    <tr>\n",
       "      <th>26</th>\n",
       "      <td>26</td>\n",
       "      <td>0</td>\n",
       "      <td>364</td>\n",
       "      <td>Kidou Senshi Gundam 00 Second Season</td>\n",
       "      <td>2008</td>\n",
       "      <td>Mobile Suit Gundam 00 Second Season</td>\n",
       "      <td>2008</td>\n",
       "    </tr>\n",
       "  </tbody>\n",
       "</table>\n",
       "</div>"
      ],
      "text/plain": [
       "    _id  ltable.ID  rtable.ID                          ltable.Title  \\\n",
       "13   13          0        205  Kidou Senshi Gundam 00 Second Season   \n",
       "15   15          0        238  Kidou Senshi Gundam 00 Second Season   \n",
       "21   21          0        301  Kidou Senshi Gundam 00 Second Season   \n",
       "22   22          0        307  Kidou Senshi Gundam 00 Second Season   \n",
       "26   26          0        364  Kidou Senshi Gundam 00 Second Season   \n",
       "\n",
       "   ltable.Year                         rtable.Title rtable.Year  \n",
       "13        2008                            Toradora!        2008  \n",
       "15        2008                             One Outs        2008  \n",
       "21        2008                           Skip Beat!        2008  \n",
       "22        2008   Code Geass: Hangyaku no Lelouch R2        2008  \n",
       "26        2008  Mobile Suit Gundam 00 Second Season        2008  "
      ]
     },
     "execution_count": 46,
     "metadata": {},
     "output_type": "execute_result"
    },
    {
     "name": "stdout",
     "output_type": "stream",
     "text": [
      "time: 13.5 ms\n"
     ]
    }
   ],
   "source": [
    "D.head()"
   ]
  },
  {
   "cell_type": "code",
   "execution_count": 47,
   "metadata": {
    "collapsed": false
   },
   "outputs": [
    {
     "data": {
      "text/plain": [
       "291972"
      ]
     },
     "execution_count": 47,
     "metadata": {},
     "output_type": "execute_result"
    },
    {
     "name": "stdout",
     "output_type": "stream",
     "text": [
      "time: 1.87 ms\n"
     ]
    }
   ],
   "source": [
    "len(D)"
   ]
  }
 ],
 "metadata": {
  "kernelspec": {
   "display_name": "Python 2",
   "language": "python",
   "name": "python2"
  },
  "language_info": {
   "codemirror_mode": {
    "name": "ipython",
    "version": 2
   },
   "file_extension": ".py",
   "mimetype": "text/x-python",
   "name": "python",
   "nbconvert_exporter": "python",
   "pygments_lexer": "ipython2",
   "version": "2.7.10"
  }
 },
 "nbformat": 4,
 "nbformat_minor": 0
}
