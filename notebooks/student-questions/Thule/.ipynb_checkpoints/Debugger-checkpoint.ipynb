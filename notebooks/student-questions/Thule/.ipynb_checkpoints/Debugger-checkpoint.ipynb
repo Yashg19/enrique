{
 "cells": [
  {
   "cell_type": "code",
   "execution_count": 2,
   "metadata": {
    "collapsed": true
   },
   "outputs": [],
   "source": [
    "import sys\n",
    "sys.path.append('/Users/pradap/Documents/Research/Python-Package/enrique/')"
   ]
  },
  {
   "cell_type": "code",
   "execution_count": 3,
   "metadata": {
    "collapsed": false
   },
   "outputs": [
    {
     "name": "stderr",
     "output_type": "stream",
     "text": [
      "DEBUG:Cloud:Log file (/Users/pradap/.picloud/cloud.log) opened\n",
      "DEBUG:Cloud:Deleting 6014.lock (7.0013735538 days old)\n",
      "DEBUG:Cloud:Deleting 6014.log (7.0013735538 days old)\n",
      "0%                          100%\n",
      "[##############################] | ETA[sec]: 0.000 \n",
      "Total time elapsed: 22.457 sec\n"
     ]
    }
   ],
   "source": [
    "import magellan as mg\n",
    "import os\n",
    "import pandas as pd\n",
    "thresholds = [3,4,5,6,7,8,9]\n",
    "\n",
    "B = mg.read_csv('tableB.csv', key='ID')\n",
    "A = mg.read_csv('tableA_processed.csv', key = \"Product_id\")\n",
    "ob = mg.OverlapBlocker()\n",
    "C = ob.block_tables(A, B, 'Brand Title', 'ProdTitle', overlap_size = 3)\n"
   ]
  },
  {
   "cell_type": "code",
   "execution_count": 4,
   "metadata": {
    "collapsed": false
   },
   "outputs": [
    {
     "ename": "StandardError",
     "evalue": "Error in checking user input field correspondence: the field 'ID' is not in the ltable!",
     "output_type": "error",
     "traceback": [
      "\u001b[0;31m---------------------------------------------------------------------------\u001b[0m",
      "\u001b[0;31mStandardError\u001b[0m                             Traceback (most recent call last)",
      "\u001b[0;32m<ipython-input-4-9c0605fac50f>\u001b[0m in \u001b[0;36m<module>\u001b[0;34m()\u001b[0m\n\u001b[1;32m      1\u001b[0m \u001b[0mcorres\u001b[0m \u001b[0;34m=\u001b[0m \u001b[0;34m[\u001b[0m\u001b[0;34m(\u001b[0m\u001b[0;34m'Title'\u001b[0m\u001b[0;34m,\u001b[0m \u001b[0;34m'AboutProduct'\u001b[0m\u001b[0;34m)\u001b[0m\u001b[0;34m,\u001b[0m \u001b[0;34m(\u001b[0m\u001b[0;34m'ID'\u001b[0m\u001b[0;34m,\u001b[0m \u001b[0;34m'Product_id'\u001b[0m\u001b[0;34m)\u001b[0m\u001b[0;34m]\u001b[0m\u001b[0;34m\u001b[0m\u001b[0m\n\u001b[0;32m----> 2\u001b[0;31m \u001b[0mD\u001b[0m \u001b[0;34m=\u001b[0m \u001b[0mmg\u001b[0m\u001b[0;34m.\u001b[0m\u001b[0mdebug_blocker\u001b[0m\u001b[0;34m(\u001b[0m\u001b[0mA\u001b[0m\u001b[0;34m,\u001b[0m \u001b[0mB\u001b[0m\u001b[0;34m,\u001b[0m \u001b[0mC\u001b[0m\u001b[0;34m,\u001b[0m \u001b[0mattr_corres\u001b[0m\u001b[0;34m=\u001b[0m\u001b[0mcorres\u001b[0m\u001b[0;34m,\u001b[0m \u001b[0moutput_size\u001b[0m\u001b[0;34m=\u001b[0m\u001b[0;36m100\u001b[0m\u001b[0;34m)\u001b[0m\u001b[0;34m\u001b[0m\u001b[0m\n\u001b[0m",
      "\u001b[0;32m/Users/pradap/Documents/Research/Python-Package/enrique/magellan/debugblocker/blocking_debugger.pyc\u001b[0m in \u001b[0;36mdebug_blocker\u001b[0;34m(ltable, rtable, candidate_set, output_size, attr_corres)\u001b[0m\n\u001b[1;32m     73\u001b[0m     \u001b[0;31m# Check the user input field correst list (if exists) and get the raw version of\u001b[0m\u001b[0;34m\u001b[0m\u001b[0;34m\u001b[0m\u001b[0m\n\u001b[1;32m     74\u001b[0m     \u001b[0;31m# our internal correst list.\u001b[0m\u001b[0;34m\u001b[0m\u001b[0;34m\u001b[0m\u001b[0m\n\u001b[0;32m---> 75\u001b[0;31m     \u001b[0mcheck_input_field_correspondence_list\u001b[0m\u001b[0;34m(\u001b[0m\u001b[0mltable\u001b[0m\u001b[0;34m,\u001b[0m \u001b[0mrtable\u001b[0m\u001b[0;34m,\u001b[0m \u001b[0mattr_corres\u001b[0m\u001b[0;34m)\u001b[0m\u001b[0;34m\u001b[0m\u001b[0m\n\u001b[0m\u001b[1;32m     76\u001b[0m     \u001b[0mcorres_list\u001b[0m \u001b[0;34m=\u001b[0m \u001b[0mget_field_correspondence_list\u001b[0m\u001b[0;34m(\u001b[0m\u001b[0mltable\u001b[0m\u001b[0;34m,\u001b[0m \u001b[0mrtable\u001b[0m\u001b[0;34m,\u001b[0m \u001b[0mattr_corres\u001b[0m\u001b[0;34m)\u001b[0m\u001b[0;34m\u001b[0m\u001b[0m\n\u001b[1;32m     77\u001b[0m \u001b[0;34m\u001b[0m\u001b[0m\n",
      "\u001b[0;32m/Users/pradap/Documents/Research/Python-Package/enrique/magellan/debugblocker/blocking_debugger.pyc\u001b[0m in \u001b[0;36mcheck_input_field_correspondence_list\u001b[0;34m(ltable, rtable, field_corres_list)\u001b[0m\n\u001b[1;32m    225\u001b[0m     \u001b[0;32mfor\u001b[0m \u001b[0mgiven_field\u001b[0m \u001b[0;32min\u001b[0m \u001b[0mgiven_ltable_fields\u001b[0m\u001b[0;34m:\u001b[0m\u001b[0;34m\u001b[0m\u001b[0m\n\u001b[1;32m    226\u001b[0m         \u001b[0;32mif\u001b[0m \u001b[0mgiven_field\u001b[0m \u001b[0;32mnot\u001b[0m \u001b[0;32min\u001b[0m \u001b[0mtrue_ltable_fields\u001b[0m\u001b[0;34m:\u001b[0m\u001b[0;34m\u001b[0m\u001b[0m\n\u001b[0;32m--> 227\u001b[0;31m             \u001b[0;32mraise\u001b[0m \u001b[0mStandardError\u001b[0m\u001b[0;34m(\u001b[0m\u001b[0;34m'Error in checking user input field correspondence: the field \\'%s\\' is not in the ltable!'\u001b[0m \u001b[0;34m%\u001b[0m\u001b[0;34m(\u001b[0m\u001b[0mgiven_field\u001b[0m\u001b[0;34m)\u001b[0m\u001b[0;34m)\u001b[0m\u001b[0;34m\u001b[0m\u001b[0m\n\u001b[0m\u001b[1;32m    228\u001b[0m     \u001b[0;32mfor\u001b[0m \u001b[0mgiven_field\u001b[0m \u001b[0;32min\u001b[0m \u001b[0mgiven_rtable_fields\u001b[0m\u001b[0;34m:\u001b[0m\u001b[0;34m\u001b[0m\u001b[0m\n\u001b[1;32m    229\u001b[0m         \u001b[0;32mif\u001b[0m \u001b[0mgiven_field\u001b[0m \u001b[0;32mnot\u001b[0m \u001b[0;32min\u001b[0m \u001b[0mtrue_rtable_fields\u001b[0m\u001b[0;34m:\u001b[0m\u001b[0;34m\u001b[0m\u001b[0m\n",
      "\u001b[0;31mStandardError\u001b[0m: Error in checking user input field correspondence: the field 'ID' is not in the ltable!"
     ]
    }
   ],
   "source": [
    "corres = [('Title', 'AboutProduct'), ('Product_id', 'Product_id')]\n",
    "D = mg.debug_blocker(A, B, C, attr_corres=corres, output_size=100)\n"
   ]
  },
  {
   "cell_type": "code",
   "execution_count": null,
   "metadata": {
    "collapsed": true
   },
   "outputs": [],
   "source": []
  }
 ],
 "metadata": {
  "kernelspec": {
   "display_name": "Python 2",
   "language": "python",
   "name": "python2"
  },
  "language_info": {
   "codemirror_mode": {
    "name": "ipython",
    "version": 2
   },
   "file_extension": ".py",
   "mimetype": "text/x-python",
   "name": "python",
   "nbconvert_exporter": "python",
   "pygments_lexer": "ipython2",
   "version": "2.7.10"
  }
 },
 "nbformat": 4,
 "nbformat_minor": 0
}
