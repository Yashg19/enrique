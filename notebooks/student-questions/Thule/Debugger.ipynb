{
 "cells": [
  {
   "cell_type": "code",
   "execution_count": 2,
   "metadata": {
    "collapsed": true
   },
   "outputs": [],
   "source": [
    "import sys\n",
    "sys.path.append('/Users/pradap/Documents/Research/Python-Package/enrique/')"
   ]
  },
  {
   "cell_type": "code",
   "execution_count": 3,
   "metadata": {
    "collapsed": false
   },
   "outputs": [
    {
     "name": "stderr",
     "output_type": "stream",
     "text": [
      "DEBUG:Cloud:Log file (/Users/pradap/.picloud/cloud.log) opened\n",
      "DEBUG:Cloud:Deleting 6014.lock (7.0013735538 days old)\n",
      "DEBUG:Cloud:Deleting 6014.log (7.0013735538 days old)\n",
      "0%                          100%\n",
      "[##############################] | ETA[sec]: 0.000 \n",
      "Total time elapsed: 22.457 sec\n"
     ]
    }
   ],
   "source": [
    "import magellan as mg\n",
    "import os\n",
    "import pandas as pd\n",
    "thresholds = [3,4,5,6,7,8,9]\n",
    "\n",
    "B = mg.read_csv('tableB.csv', key='ID')\n",
    "A = mg.read_csv('tableA_processed.csv', key = \"Product_id\")\n",
    "ob = mg.OverlapBlocker()\n",
    "C = ob.block_tables(A, B, 'Brand Title', 'ProdTitle', overlap_size = 3)\n"
   ]
  },
  {
   "cell_type": "code",
   "execution_count": null,
   "metadata": {
    "collapsed": false
   },
   "outputs": [],
   "source": [
    "corres = [('Title', 'AboutProduct'), ('Product_id', 'ID')]\n",
    "D = mg.debug_blocker(A, B, C, attr_corres=corres, output_size=100)\n"
   ]
  },
  {
   "cell_type": "code",
   "execution_count": null,
   "metadata": {
    "collapsed": true
   },
   "outputs": [],
   "source": []
  }
 ],
 "metadata": {
  "kernelspec": {
   "display_name": "Python 2",
   "language": "python",
   "name": "python2"
  },
  "language_info": {
   "codemirror_mode": {
    "name": "ipython",
    "version": 2
   },
   "file_extension": ".py",
   "mimetype": "text/x-python",
   "name": "python",
   "nbconvert_exporter": "python",
   "pygments_lexer": "ipython2",
   "version": "2.7.10"
  }
 },
 "nbformat": 4,
 "nbformat_minor": 0
}
