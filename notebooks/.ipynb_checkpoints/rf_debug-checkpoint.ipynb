{
 "cells": [
  {
   "cell_type": "code",
   "execution_count": 1,
   "metadata": {
    "collapsed": true
   },
   "outputs": [],
   "source": [
    "import sys\n",
    "sys.path.append('c:/Pradap/Research/Python-Packages/enrique/')"
   ]
  },
  {
   "cell_type": "code",
   "execution_count": 2,
   "metadata": {
    "collapsed": true
   },
   "outputs": [],
   "source": [
    "import magellan as mg\n",
    "import pandas as pd\n",
    "\n",
    "from magellan.debug.decisiontree import visualize_tree, debug_dt\n",
    "from magellan.feature.extractfeatures import apply_feat_fns"
   ]
  },
  {
   "cell_type": "code",
   "execution_count": 3,
   "metadata": {
    "collapsed": true
   },
   "outputs": [],
   "source": [
    "mg.init_jvm('C:\\\\Program Files\\\\Java\\\\jre7\\\\bin\\\\server\\\\jvm.dll')\n",
    "\n",
    "A = mg.load_dataset('table_A')\n",
    "B = mg.load_dataset('table_B')"
   ]
  },
  {
   "cell_type": "code",
   "execution_count": 4,
   "metadata": {
    "collapsed": true
   },
   "outputs": [],
   "source": [
    "ab = mg.AttrEquivalenceBlocker()\n",
    "C = ab.block_tables(A, B, 'zipcode', 'zipcode', l_output_attrs=['name', 'hourly_wage', 'zipcode'],\n",
    "                    r_output_attrs=['name', 'hourly_wage', 'zipcode'])\n"
   ]
  },
  {
   "cell_type": "code",
   "execution_count": 5,
   "metadata": {
    "collapsed": true
   },
   "outputs": [],
   "source": [
    "S = mg.sample_one_table(C, 10)\n",
    "L = mg.load_table('../notebooks/demo_label.pkl')\n",
    "L.set_property('ltable', A)\n",
    "L.set_property('rtable', B)"
   ]
  },
  {
   "cell_type": "code",
   "execution_count": 6,
   "metadata": {
    "collapsed": false
   },
   "outputs": [
    {
     "name": "stderr",
     "output_type": "stream",
     "text": [
      "WARNING:magellan.feature.autofeaturegen:address type and address type are different\n"
     ]
    }
   ],
   "source": [
    "feat_table = mg.get_features_for_blocking(A, B)\n",
    "x = [17, 19]\n",
    "feat_table = feat_table.ix[x]"
   ]
  },
  {
   "cell_type": "code",
   "execution_count": 7,
   "metadata": {
    "collapsed": true
   },
   "outputs": [],
   "source": [
    "S_prime = mg.extract_feat_vecs(L, attrs_after='label', feat_table=feat_table)\n"
   ]
  },
  {
   "cell_type": "code",
   "execution_count": 8,
   "metadata": {
    "collapsed": true
   },
   "outputs": [],
   "source": [
    "exclude_attrs=['_id', 'ltable.ID', 'rtable.ID', 'label']"
   ]
  },
  {
   "cell_type": "code",
   "execution_count": 9,
   "metadata": {
    "collapsed": false
   },
   "outputs": [
    {
     "name": "stdout",
     "output_type": "stream",
     "text": [
      "['hourly_wage_hourly_wage_anm', 'zipcode_zipcode_exm']\n"
     ]
    }
   ],
   "source": [
    "rf = mg.RFMatcher(random_state=8)\n",
    "rf.fit(table=S_prime, exclude_attrs=exclude_attrs, target_attr='label')"
   ]
  },
  {
   "cell_type": "code",
   "execution_count": 10,
   "metadata": {
    "collapsed": true
   },
   "outputs": [],
   "source": [
    "clf = rf.clf"
   ]
  },
  {
   "cell_type": "code",
   "execution_count": 11,
   "metadata": {
    "collapsed": true
   },
   "outputs": [],
   "source": [
    "t1 = A.ix[2]\n",
    "t2 = B.ix[1]"
   ]
  },
  {
   "cell_type": "code",
   "execution_count": 12,
   "metadata": {
    "collapsed": false
   },
   "outputs": [
    {
     "name": "stdout",
     "output_type": "stream",
     "text": [
      "def debug_fn(): \n",
      "    if ( hourly_wage_hourly_wage_anm <= 0.991666674614 ):\n",
      "        print 'Condition hourly_wage_hourly_wage_anm <= 0.991666674614 PASSED (  value : '  + str(hourly_wage_hourly_wage_anm) + ')'\n",
      "        return False #( 9 examples )\n",
      "    else:\n",
      "        print 'Condition hourly_wage_hourly_wage_anm <= 0.991666674614 FAILED (  value : '  + str(hourly_wage_hourly_wage_anm) + ')'\n",
      "        return True #( 1 examples )\n",
      "\n",
      "Condition hourly_wage_hourly_wage_anm <= 0.991666674614 FAILED (  value : 1.0)\n",
      "Tuples match status : True\n",
      "-------------------\n",
      "def debug_fn(): \n",
      "    if ( hourly_wage_hourly_wage_anm <= 0.991666674614 ):\n",
      "        print 'Condition hourly_wage_hourly_wage_anm <= 0.991666674614 PASSED (  value : '  + str(hourly_wage_hourly_wage_anm) + ')'\n",
      "        return False #( 8 examples )\n",
      "    else:\n",
      "        print 'Condition hourly_wage_hourly_wage_anm <= 0.991666674614 FAILED (  value : '  + str(hourly_wage_hourly_wage_anm) + ')'\n",
      "        return True #( 2 examples )\n",
      "\n",
      "Condition hourly_wage_hourly_wage_anm <= 0.991666674614 FAILED (  value : 1.0)\n",
      "Tuples match status : True\n",
      "-------------------\n",
      "def debug_fn(): \n",
      "    if ( hourly_wage_hourly_wage_anm <= 0.96875 ):\n",
      "        print 'Condition hourly_wage_hourly_wage_anm <= 0.96875 PASSED (  value : '  + str(hourly_wage_hourly_wage_anm) + ')'\n",
      "        return False #( 9 examples )\n",
      "    else:\n",
      "        print 'Condition hourly_wage_hourly_wage_anm <= 0.96875 FAILED (  value : '  + str(hourly_wage_hourly_wage_anm) + ')'\n",
      "        return True #( 1 examples )\n",
      "\n",
      "Condition hourly_wage_hourly_wage_anm <= 0.96875 FAILED (  value : 1.0)\n",
      "Tuples match status : True\n",
      "-------------------\n",
      "def debug_fn(): \n",
      "    if ( hourly_wage_hourly_wage_anm <= 0.991666674614 ):\n",
      "        print 'Condition hourly_wage_hourly_wage_anm <= 0.991666674614 PASSED (  value : '  + str(hourly_wage_hourly_wage_anm) + ')'\n",
      "        return False #( 8 examples )\n",
      "    else:\n",
      "        print 'Condition hourly_wage_hourly_wage_anm <= 0.991666674614 FAILED (  value : '  + str(hourly_wage_hourly_wage_anm) + ')'\n",
      "        return True #( 2 examples )\n",
      "\n",
      "Condition hourly_wage_hourly_wage_anm <= 0.991666674614 FAILED (  value : 1.0)\n",
      "Tuples match status : True\n",
      "-------------------\n",
      "def debug_fn(): \n",
      "    if ( hourly_wage_hourly_wage_anm <= 0.961538434029 ):\n",
      "        print 'Condition hourly_wage_hourly_wage_anm <= 0.961538434029 PASSED (  value : '  + str(hourly_wage_hourly_wage_anm) + ')'\n",
      "        return False #( 7 examples )\n",
      "    else:\n",
      "        print 'Condition hourly_wage_hourly_wage_anm <= 0.961538434029 FAILED (  value : '  + str(hourly_wage_hourly_wage_anm) + ')'\n",
      "        return True #( 3 examples )\n",
      "\n",
      "Condition hourly_wage_hourly_wage_anm <= 0.961538434029 FAILED (  value : 1.0)\n",
      "Tuples match status : True\n",
      "-------------------\n",
      "def debug_fn(): \n",
      "    if ( hourly_wage_hourly_wage_anm <= 0.991666674614 ):\n",
      "        print 'Condition hourly_wage_hourly_wage_anm <= 0.991666674614 PASSED (  value : '  + str(hourly_wage_hourly_wage_anm) + ')'\n",
      "        return False #( 8 examples )\n",
      "    else:\n",
      "        print 'Condition hourly_wage_hourly_wage_anm <= 0.991666674614 FAILED (  value : '  + str(hourly_wage_hourly_wage_anm) + ')'\n",
      "        return True #( 2 examples )\n",
      "\n",
      "Condition hourly_wage_hourly_wage_anm <= 0.991666674614 FAILED (  value : 1.0)\n",
      "Tuples match status : True\n",
      "-------------------\n",
      "def debug_fn(): \n",
      "    if ( hourly_wage_hourly_wage_anm <= 0.991666674614 ):\n",
      "        print 'Condition hourly_wage_hourly_wage_anm <= 0.991666674614 PASSED (  value : '  + str(hourly_wage_hourly_wage_anm) + ')'\n",
      "        return False #( 9 examples )\n",
      "    else:\n",
      "        print 'Condition hourly_wage_hourly_wage_anm <= 0.991666674614 FAILED (  value : '  + str(hourly_wage_hourly_wage_anm) + ')'\n",
      "        return True #( 1 examples )\n",
      "\n",
      "Condition hourly_wage_hourly_wage_anm <= 0.991666674614 FAILED (  value : 1.0)\n",
      "Tuples match status : True\n",
      "-------------------\n",
      "def debug_fn(): \n",
      "    if ( hourly_wage_hourly_wage_anm <= 0.9609375 ):\n",
      "        print 'Condition hourly_wage_hourly_wage_anm <= 0.9609375 PASSED (  value : '  + str(hourly_wage_hourly_wage_anm) + ')'\n",
      "        return False #( 7 examples )\n",
      "    else:\n",
      "        print 'Condition hourly_wage_hourly_wage_anm <= 0.9609375 FAILED (  value : '  + str(hourly_wage_hourly_wage_anm) + ')'\n",
      "        return True #( 3 examples )\n",
      "\n",
      "Condition hourly_wage_hourly_wage_anm <= 0.9609375 FAILED (  value : 1.0)\n",
      "Tuples match status : True\n",
      "-------------------\n",
      "def debug_fn(): \n",
      "    if ( hourly_wage_hourly_wage_anm <= 0.972727298737 ):\n",
      "        print 'Condition hourly_wage_hourly_wage_anm <= 0.972727298737 PASSED (  value : '  + str(hourly_wage_hourly_wage_anm) + ')'\n",
      "        return False #( 7 examples )\n",
      "    else:\n",
      "        print 'Condition hourly_wage_hourly_wage_anm <= 0.972727298737 FAILED (  value : '  + str(hourly_wage_hourly_wage_anm) + ')'\n",
      "        return True #( 3 examples )\n",
      "\n",
      "Condition hourly_wage_hourly_wage_anm <= 0.972727298737 FAILED (  value : 1.0)\n",
      "Tuples match status : True\n",
      "-------------------\n",
      "def debug_fn(): \n",
      "    return False #( 10 examples )\n",
      "\n",
      "Tuples match status : False\n",
      "-------------------\n"
     ]
    }
   ],
   "source": [
    "for e in clf.estimators_:\n",
    "    debug_dt(e, t1, t2, feat_table, S_prime.columns, exclude_attrs)"
   ]
  }
 ],
 "metadata": {
  "kernelspec": {
   "display_name": "Python 2",
   "language": "python",
   "name": "python2"
  },
  "language_info": {
   "codemirror_mode": {
    "name": "ipython",
    "version": 2
   },
   "file_extension": ".py",
   "mimetype": "text/x-python",
   "name": "python",
   "nbconvert_exporter": "python",
   "pygments_lexer": "ipython2",
   "version": "2.7.9"
  }
 },
 "nbformat": 4,
 "nbformat_minor": 0
}
